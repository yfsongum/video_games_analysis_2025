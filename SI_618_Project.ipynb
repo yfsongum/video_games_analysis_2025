{
  "cells": [
    {
      "cell_type": "markdown",
      "metadata": {
        "id": "yfPJRLpyQTnG"
      },
      "source": [
        "# SI 618 WN Project Part I"
      ]
    },
    {
      "cell_type": "markdown",
      "metadata": {
        "id": "WN3jWuTDQjpX"
      },
      "source": [
        "## Project Title:\n",
        "> Provide a descriptive working title for your project.\n",
        "\n",
        "**Game Sales, Popularity, and Achievements: A Comparative Analysis Across Platforms**"
      ]
    },
    {
      "cell_type": "markdown",
      "metadata": {
        "id": "raGqyFicQ4Zw"
      },
      "source": [
        "## Team Members\n",
        "> List each team member and include their uniqname\n",
        "\n",
        "* Yufeng Song (yfsong)\n",
        "* Ziqi Wang (Venchy)\n",
        "* Muyu Lin (linmuyu)"
      ]
    },
    {
      "cell_type": "markdown",
      "metadata": {
        "id": "QcquQf5KQ_X7"
      },
      "source": [
        "## Overview\n",
        "> Give a high level description of your project\n",
        "\n",
        "Our project explores key trends in the gaming industry by analyzing data on game sales, player achievements, and platform preferences. We aim to understand how the same game performs across different platforms, how purchasing preferences vary across countries, and how game popularity evolves over time. Additionally, we will investigate the relationship between supported languages and sales, as well as the impact of pricing on game popularity across multiple platforms. By analyzing these factors, we hope to uncover insights into player behavior, market trends, and factors influencing game success."
      ]
    },
    {
      "cell_type": "markdown",
      "metadata": {
        "id": "x9oLjLuaREDo"
      },
      "source": [
        "## Motivation\n",
        "> Explain why you chose this particular topic for your project.\tInclude the three \"real-world\" questions that you generated about the data, and be sure to explain what you hope to learn by answering them.\n",
        "\n",
        "We chose this topic because gaming is a massive industry with a highly diverse audience, and understanding player preferences and market trends can provide valuable insights for developers, publishers, and gaming communities. Our project aims to answer the following real-world questions:\n",
        "\n",
        "1. **How do in-game achievements compare across different platforms for the same game?**\n",
        "\n",
        "  - By analyzing achievement data, we aim to understand whether players engage with a game differently depending on the platform they use. This could reveal differences in play styles, game difficulty adjustments, or platform-specific engagement trends.\n",
        "\n",
        "2. **How do game purchase preferences vary by country and active playtime?**\n",
        "\n",
        "  - We seek to determine whether purchasing behaviors differ based on regional preferences and player engagement levels. Understanding this can help developers tailor their marketing strategies and optimize game pricing for different audiences.\n",
        "\n",
        "3. **How has the popularity of different game types changed over time?**\n",
        "\n",
        "  - By tracking shifts in game genre popularity over time, we hope to uncover trends that indicate the rise and fall of specific genres. This insight could be useful for predicting future market demands and guiding game development strategies.\n",
        "\n",
        "By answering these questions, we hope to gain a deeper understanding of the gaming landscape, helping stakeholders make data-driven decisions about game development, pricing, and distribution strategies."
      ]
    },
    {
      "cell_type": "markdown",
      "metadata": {
        "id": "K7C9NO8rRJVm"
      },
      "source": [
        "## Data Sources\n",
        "> List the two (or more) sources of data that you'll be using.  Provide URLs where appropriate.\t**Explain how the two (or more) datasets complement each other.**\n",
        "\n",
        "1. https://www.kaggle.com/datasets/artyomkruglov/gaming-profiles-2025-steam-playstation-xbox\n",
        "\n",
        "2. https://github.com/Smipe-a/gamestatshub\n",
        "\n",
        "- This Gaming Profiles Data from Kaggle include **game** and **player** data from three different **platforms**, PlayStation, Steam, and Xbox.\n",
        "- For each platform, the **player** and **game** data is complemented by **achievement** data. The relationships between players, games, and achievements are one-to-many: each player can play multiple games, and each game can have multiple achievements.\n",
        "- Data from the three platforms can be combined based on **game titles** to analyze shared games across platforms."
      ]
    },
    {
      "cell_type": "markdown",
      "metadata": {
        "id": "0YtT1IrhRNua"
      },
      "source": [
        "## Data Description\n",
        "> List the variables of interest, the size of the data sets, missing values, etc.\n",
        "\n",
        "### Common Datasets Across 3 Platforms & Variables of Interest:\n",
        "\n",
        "#### Player Metadata\n",
        "- **players.csv**: platform-specific `playerid` and `country` (Xbox data lacks country column)\n",
        "- **purchased_games.csv** lists players' purchased games, with:\n",
        "    - `playerid`\n",
        "    - `libarary`: a list of games the player bought.\n",
        "- **history.csv**: when the player unlocked the achievement.\n",
        "    - `playerid`\n",
        "    - `achievementid`\n",
        "    - `date_acquired`\n",
        "\n",
        "#### Game Metadata\n",
        "- **games.csv**: game details such as `genres`, `developers`, `publishers`, `supported_language`, and `release_date`.\n",
        "- **achievements.csv** maps achievements to their respective game, with:\n",
        "    - `achievementid` combines the uniqe game id on the platform and the achievement id within the game\n",
        "    - `gameid`\n",
        "    - `title`\n",
        "    - `description`\n",
        "- **prices.csv**: games' `price` in various currencies, with `date_acquired` indicating the date when the price was recorded."
      ]
    },
    {
      "cell_type": "markdown",
      "metadata": {
        "id": "E5HpR2qjRRle"
      },
      "source": [
        "## Data Manipulation\n",
        "> Mostly code in this section.  This is where you merge your data sets, as well as create new columns (if appropriate)\n",
        "\n",
        "#### Merged Datasets Explained - Flattened Table For Raw Analysis\n",
        "- Platform-Specific Datasets:\n",
        "    - Player-Info Dataset: merged on `playerid`\n",
        "    - Game-Info Dataset: merged on `gameid`\n",
        "- Cross-Platform Game Dataset: merged on game `title` to combine shared game data from all three platforms.\n",
        "\n",
        "\n",
        "**Notes**: duplicates after merge due to the one-to-many relationship between players, games, and achievements. "
      ]
    },
    {
      "cell_type": "code",
      "execution_count": 66,
      "metadata": {
        "id": "lUJY9fwwQVGD"
      },
      "outputs": [],
      "source": [
        "import pandas as pd\n",
        "import numpy as np\n",
        "import matplotlib.pyplot as plt\n",
        "import seaborn as sns"
      ]
    },
    {
      "cell_type": "markdown",
      "metadata": {},
      "source": [
        "## PS"
      ]
    },
    {
      "cell_type": "code",
      "execution_count": 67,
      "metadata": {},
      "outputs": [
        {
          "name": "stdout",
          "output_type": "stream",
          "text": [
            "ps_purchased_games - shape: (46582, 2)\n",
            "ps_history - shape: (19510083, 3)\n",
            "ps_prices - shape: (62816, 7)\n",
            "ps_players - shape: (356600, 3)\n",
            "ps_games - shape: (23151, 8)\n",
            "ps_achievements - shape: (846563, 5)\n"
          ]
        }
      ],
      "source": [
        "import os\n",
        "\n",
        "PS_DATA_FOLDER = \"data/ps\"\n",
        "\n",
        "dfs = {}\n",
        "\n",
        "for root, dirs, files in os.walk(PS_DATA_FOLDER):\n",
        "    for file in files:\n",
        "        if file.endswith(\".csv\"):\n",
        "            file_path = os.path.join(root, file)\n",
        "            df_name = f\"{os.path.basename(root)}_{file.replace('.csv', '')}\".replace('.csv', '')  # Clean name\n",
        "            dfs[df_name] = pd.read_csv(file_path)\n",
        "\n",
        "for name, df in dfs.items():\n",
        "    print(f\"{name} - shape: {df.shape}\")"
      ]
    },
    {
      "cell_type": "code",
      "execution_count": 68,
      "metadata": {},
      "outputs": [],
      "source": [
        "ps_achievements = dfs['ps_achievements']\n",
        "ps_games = dfs['ps_games']\n",
        "ps_history = dfs['ps_history']\n",
        "ps_players = dfs['ps_players']\n",
        "ps_prices = dfs['ps_prices']\n",
        "ps_purchased_games = dfs['ps_purchased_games']"
      ]
    },
    {
      "cell_type": "markdown",
      "metadata": {},
      "source": [
        "### Player focus"
      ]
    },
    {
      "cell_type": "code",
      "execution_count": 69,
      "metadata": {},
      "outputs": [],
      "source": [
        "ps_player_info = ps_players.merge(ps_history, on=\"playerid\", how=\"left\")"
      ]
    },
    {
      "cell_type": "code",
      "execution_count": 70,
      "metadata": {},
      "outputs": [],
      "source": [
        "ps_player_info = ps_player_info.merge(ps_achievements, on=\"achievementid\", how=\"left\")"
      ]
    },
    {
      "cell_type": "code",
      "execution_count": 71,
      "metadata": {},
      "outputs": [],
      "source": [
        "ps_player_info = ps_player_info.merge(ps_purchased_games, on=\"playerid\", how=\"left\")"
      ]
    },
    {
      "cell_type": "code",
      "execution_count": 72,
      "metadata": {},
      "outputs": [
        {
          "name": "stdout",
          "output_type": "stream",
          "text": [
            "<class 'pandas.core.frame.DataFrame'>\n",
            "RangeIndex: 19861683 entries, 0 to 19861682\n",
            "Data columns (total 10 columns):\n",
            " #   Column         Dtype  \n",
            "---  ------         -----  \n",
            " 0   playerid       int64  \n",
            " 1   nickname       object \n",
            " 2   country        object \n",
            " 3   achievementid  object \n",
            " 4   date_acquired  object \n",
            " 5   gameid         float64\n",
            " 6   title          object \n",
            " 7   description    object \n",
            " 8   rarity         object \n",
            " 9   library        object \n",
            "dtypes: float64(1), int64(1), object(8)\n",
            "memory usage: 1.5+ GB\n"
          ]
        }
      ],
      "source": [
        "ps_player_info.info()"
      ]
    },
    {
      "cell_type": "code",
      "execution_count": 73,
      "metadata": {},
      "outputs": [
        {
          "data": {
            "text/html": [
              "<div>\n",
              "<style scoped>\n",
              "    .dataframe tbody tr th:only-of-type {\n",
              "        vertical-align: middle;\n",
              "    }\n",
              "\n",
              "    .dataframe tbody tr th {\n",
              "        vertical-align: top;\n",
              "    }\n",
              "\n",
              "    .dataframe thead th {\n",
              "        text-align: right;\n",
              "    }\n",
              "</style>\n",
              "<table border=\"1\" class=\"dataframe\">\n",
              "  <thead>\n",
              "    <tr style=\"text-align: right;\">\n",
              "      <th></th>\n",
              "      <th>playerid</th>\n",
              "      <th>nickname</th>\n",
              "      <th>country</th>\n",
              "      <th>achievementid</th>\n",
              "      <th>date_acquired</th>\n",
              "      <th>gameid</th>\n",
              "      <th>title</th>\n",
              "      <th>description</th>\n",
              "      <th>rarity</th>\n",
              "      <th>library</th>\n",
              "    </tr>\n",
              "  </thead>\n",
              "  <tbody>\n",
              "    <tr>\n",
              "      <th>12809754</th>\n",
              "      <td>1697762</td>\n",
              "      <td>Majin_OLI</td>\n",
              "      <td>Spain</td>\n",
              "      <td>7501_92204</td>\n",
              "      <td>2015-08-31 01:15:00</td>\n",
              "      <td>7501.0</td>\n",
              "      <td>First Step into Darkness</td>\n",
              "      <td>Complete the game on Casual difficulty.</td>\n",
              "      <td>Bronze</td>\n",
              "      <td>[721802, 622669, 429727, 706550, 619583, 45776...</td>\n",
              "    </tr>\n",
              "    <tr>\n",
              "      <th>5461554</th>\n",
              "      <td>340741</td>\n",
              "      <td>Boiro13</td>\n",
              "      <td>Spain</td>\n",
              "      <td>742_22561</td>\n",
              "      <td>2012-01-23 02:35:41</td>\n",
              "      <td>742.0</td>\n",
              "      <td>10 shots</td>\n",
              "      <td>Finish the 'The last hunt'  mission  having fi...</td>\n",
              "      <td>Silver</td>\n",
              "      <td>[169937, 399413, 328918, 410650, 378968, 16824...</td>\n",
              "    </tr>\n",
              "    <tr>\n",
              "      <th>9984156</th>\n",
              "      <td>337230</td>\n",
              "      <td>jamie-thorn</td>\n",
              "      <td>United States</td>\n",
              "      <td>11552_149562</td>\n",
              "      <td>2018-01-15 02:36:57</td>\n",
              "      <td>11552.0</td>\n",
              "      <td>Bee Plot</td>\n",
              "      <td>Got stung by a bee. It happens.</td>\n",
              "      <td>Bronze</td>\n",
              "      <td>[624236, 437991, 602279, 20725, 333127, 607575...</td>\n",
              "    </tr>\n",
              "    <tr>\n",
              "      <th>1440151</th>\n",
              "      <td>307263</td>\n",
              "      <td>Killah184</td>\n",
              "      <td>United States</td>\n",
              "      <td>5665_71411</td>\n",
              "      <td>2013-12-30 18:25:07</td>\n",
              "      <td>5665.0</td>\n",
              "      <td>Overthrown</td>\n",
              "      <td>Dethrone the King in an online match</td>\n",
              "      <td>Bronze</td>\n",
              "      <td>[550305, 618458, 167482, 10020, 15572, 9475, 4...</td>\n",
              "    </tr>\n",
              "    <tr>\n",
              "      <th>14804677</th>\n",
              "      <td>138265</td>\n",
              "      <td>FENIX-EL-DORADO</td>\n",
              "      <td>Spain</td>\n",
              "      <td>19863_188575</td>\n",
              "      <td>2017-11-23 20:49:58</td>\n",
              "      <td>19863.0</td>\n",
              "      <td>Stylist</td>\n",
              "      <td>In the journey, add a cosmetic item to Alex Hu...</td>\n",
              "      <td>Silver</td>\n",
              "      <td>[10020, 15085, 10403, 138763, 619584, 11928, 3...</td>\n",
              "    </tr>\n",
              "  </tbody>\n",
              "</table>\n",
              "</div>"
            ],
            "text/plain": [
              "          playerid         nickname        country achievementid  \\\n",
              "12809754   1697762        Majin_OLI          Spain    7501_92204   \n",
              "5461554     340741          Boiro13          Spain     742_22561   \n",
              "9984156     337230      jamie-thorn  United States  11552_149562   \n",
              "1440151     307263        Killah184  United States    5665_71411   \n",
              "14804677    138265  FENIX-EL-DORADO          Spain  19863_188575   \n",
              "\n",
              "                date_acquired   gameid                     title  \\\n",
              "12809754  2015-08-31 01:15:00   7501.0  First Step into Darkness   \n",
              "5461554   2012-01-23 02:35:41    742.0                  10 shots   \n",
              "9984156   2018-01-15 02:36:57  11552.0                  Bee Plot   \n",
              "1440151   2013-12-30 18:25:07   5665.0                Overthrown   \n",
              "14804677  2017-11-23 20:49:58  19863.0                   Stylist   \n",
              "\n",
              "                                                description  rarity  \\\n",
              "12809754            Complete the game on Casual difficulty.  Bronze   \n",
              "5461554   Finish the 'The last hunt'  mission  having fi...  Silver   \n",
              "9984156                     Got stung by a bee. It happens.  Bronze   \n",
              "1440151                Dethrone the King in an online match  Bronze   \n",
              "14804677  In the journey, add a cosmetic item to Alex Hu...  Silver   \n",
              "\n",
              "                                                    library  \n",
              "12809754  [721802, 622669, 429727, 706550, 619583, 45776...  \n",
              "5461554   [169937, 399413, 328918, 410650, 378968, 16824...  \n",
              "9984156   [624236, 437991, 602279, 20725, 333127, 607575...  \n",
              "1440151   [550305, 618458, 167482, 10020, 15572, 9475, 4...  \n",
              "14804677  [10020, 15085, 10403, 138763, 619584, 11928, 3...  "
            ]
          },
          "execution_count": 73,
          "metadata": {},
          "output_type": "execute_result"
        }
      ],
      "source": [
        "ps_player_info.sample(5)"
      ]
    },
    {
      "cell_type": "code",
      "execution_count": 74,
      "metadata": {},
      "outputs": [
        {
          "data": {
            "text/plain": [
              "playerid\n",
              "3065998    157477\n",
              "336474      73075\n",
              "381705      67034\n",
              "333392      66380\n",
              "435952      61346\n",
              "            ...  \n",
              "1171190         1\n",
              "80539           1\n",
              "1702479         1\n",
              "1995222         1\n",
              "140656          1\n",
              "Name: count, Length: 356600, dtype: int64"
            ]
          },
          "execution_count": 74,
          "metadata": {},
          "output_type": "execute_result"
        }
      ],
      "source": [
        "ps_player_info['playerid'].value_counts()"
      ]
    },
    {
      "cell_type": "markdown",
      "metadata": {},
      "source": [
        "### Game focus\n",
        "date_acquired column is dropped as it indicates the timestamp when the price info was extracted from multiple databases and do not add helpful insights to our analysis."
      ]
    },
    {
      "cell_type": "code",
      "execution_count": 75,
      "metadata": {},
      "outputs": [],
      "source": [
        "ps_game_info = ps_games.merge(ps_achievements.rename(columns={'title': 'achievement_title'}), on=\"gameid\", how=\"left\")"
      ]
    },
    {
      "cell_type": "code",
      "execution_count": 76,
      "metadata": {},
      "outputs": [],
      "source": [
        "ps_game_info = ps_game_info.merge(ps_prices, on=\"gameid\", how=\"left\")"
      ]
    },
    {
      "cell_type": "code",
      "execution_count": 77,
      "metadata": {},
      "outputs": [],
      "source": [
        "ps_game_info = ps_game_info.drop(columns=['date_acquired'])"
      ]
    },
    {
      "cell_type": "code",
      "execution_count": 78,
      "metadata": {},
      "outputs": [],
      "source": [
        "ps_game_info.rename(columns={'platform': 'PS_platform'}, inplace=True)"
      ]
    },
    {
      "cell_type": "code",
      "execution_count": 79,
      "metadata": {},
      "outputs": [],
      "source": [
        "ps_game_info.rename(columns={'description': 'achievement_description'}, inplace=True)"
      ]
    },
    {
      "cell_type": "code",
      "execution_count": 80,
      "metadata": {},
      "outputs": [
        {
          "name": "stdout",
          "output_type": "stream",
          "text": [
            "<class 'pandas.core.frame.DataFrame'>\n",
            "RangeIndex: 1289501 entries, 0 to 1289500\n",
            "Data columns (total 17 columns):\n",
            " #   Column                   Non-Null Count    Dtype  \n",
            "---  ------                   --------------    -----  \n",
            " 0   gameid                   1289501 non-null  int64  \n",
            " 1   title                    1289501 non-null  object \n",
            " 2   PS_platform              1289501 non-null  object \n",
            " 3   developers               1288417 non-null  object \n",
            " 4   publishers               1288833 non-null  object \n",
            " 5   genres                   1281054 non-null  object \n",
            " 6   supported_languages      655941 non-null   object \n",
            " 7   release_date             1289501 non-null  object \n",
            " 8   achievementid            1289501 non-null  object \n",
            " 9   achievement_title        1289493 non-null  object \n",
            " 10  achievement_description  1289469 non-null  object \n",
            " 11  rarity                   1289501 non-null  object \n",
            " 12  usd                      1101806 non-null  float64\n",
            " 13  eur                      1047106 non-null  float64\n",
            " 14  gbp                      1091134 non-null  float64\n",
            " 15  jpy                      537111 non-null   float64\n",
            " 16  rub                      259559 non-null   float64\n",
            "dtypes: float64(5), int64(1), object(11)\n",
            "memory usage: 167.2+ MB\n"
          ]
        }
      ],
      "source": [
        "ps_game_info.info()"
      ]
    },
    {
      "cell_type": "markdown",
      "metadata": {},
      "source": [
        "PS-only cols: rarity, PS_platform"
      ]
    },
    {
      "cell_type": "code",
      "execution_count": 81,
      "metadata": {},
      "outputs": [
        {
          "data": {
            "text/html": [
              "<div>\n",
              "<style scoped>\n",
              "    .dataframe tbody tr th:only-of-type {\n",
              "        vertical-align: middle;\n",
              "    }\n",
              "\n",
              "    .dataframe tbody tr th {\n",
              "        vertical-align: top;\n",
              "    }\n",
              "\n",
              "    .dataframe thead th {\n",
              "        text-align: right;\n",
              "    }\n",
              "</style>\n",
              "<table border=\"1\" class=\"dataframe\">\n",
              "  <thead>\n",
              "    <tr style=\"text-align: right;\">\n",
              "      <th></th>\n",
              "      <th>gameid</th>\n",
              "      <th>title</th>\n",
              "      <th>PS_platform</th>\n",
              "      <th>developers</th>\n",
              "      <th>publishers</th>\n",
              "      <th>genres</th>\n",
              "      <th>supported_languages</th>\n",
              "      <th>release_date</th>\n",
              "      <th>achievementid</th>\n",
              "      <th>achievement_title</th>\n",
              "      <th>achievement_description</th>\n",
              "      <th>rarity</th>\n",
              "      <th>usd</th>\n",
              "      <th>eur</th>\n",
              "      <th>gbp</th>\n",
              "      <th>jpy</th>\n",
              "      <th>rub</th>\n",
              "    </tr>\n",
              "  </thead>\n",
              "  <tbody>\n",
              "    <tr>\n",
              "      <th>487997</th>\n",
              "      <td>145420</td>\n",
              "      <td>My Riding Stables - Life with Horses</td>\n",
              "      <td>PS4</td>\n",
              "      <td>['Independent Arts Software']</td>\n",
              "      <td>['Kalypso Media']</td>\n",
              "      <td>['Simulation']</td>\n",
              "      <td>['French', 'Spanish', 'German', 'Italian', 'Du...</td>\n",
              "      <td>2018-11-13</td>\n",
              "      <td>145420_2690465</td>\n",
              "      <td>Host</td>\n",
              "      <td>Accommodate a guest in the guesthouse.</td>\n",
              "      <td>Bronze</td>\n",
              "      <td>3.99</td>\n",
              "      <td>NaN</td>\n",
              "      <td>3.19</td>\n",
              "      <td>NaN</td>\n",
              "      <td>NaN</td>\n",
              "    </tr>\n",
              "    <tr>\n",
              "      <th>955816</th>\n",
              "      <td>589240</td>\n",
              "      <td>LocoRoco Midnight Carnival</td>\n",
              "      <td>PS5</td>\n",
              "      <td>['SIE Japan Studio']</td>\n",
              "      <td>['Sony Interactive Entertainment']</td>\n",
              "      <td>['Platformer']</td>\n",
              "      <td>['Japanese', 'French', 'Spanish', 'German', 'I...</td>\n",
              "      <td>2022-07-19</td>\n",
              "      <td>589240_4881204</td>\n",
              "      <td>Flow</td>\n",
              "      <td>Start playing Bui Bui Fort 1.</td>\n",
              "      <td>Bronze</td>\n",
              "      <td>9.99</td>\n",
              "      <td>9.99</td>\n",
              "      <td>7.99</td>\n",
              "      <td>1100.0</td>\n",
              "      <td>NaN</td>\n",
              "    </tr>\n",
              "    <tr>\n",
              "      <th>569467</th>\n",
              "      <td>13926</td>\n",
              "      <td>LASTFIGHT</td>\n",
              "      <td>PS4</td>\n",
              "      <td>['Piranaking']</td>\n",
              "      <td>['Piranaking']</td>\n",
              "      <td>['fighting']</td>\n",
              "      <td>['Japanese', 'French', 'Spanish', 'German', 'I...</td>\n",
              "      <td>2016-09-20</td>\n",
              "      <td>13926_145859</td>\n",
              "      <td>Mind over matter!</td>\n",
              "      <td>Win the game after being one round down and ha...</td>\n",
              "      <td>Silver</td>\n",
              "      <td>14.99</td>\n",
              "      <td>14.99</td>\n",
              "      <td>11.99</td>\n",
              "      <td>NaN</td>\n",
              "      <td>NaN</td>\n",
              "    </tr>\n",
              "    <tr>\n",
              "      <th>824352</th>\n",
              "      <td>684077</td>\n",
              "      <td>Daxter</td>\n",
              "      <td>PS4</td>\n",
              "      <td>['Ready At Dawn']</td>\n",
              "      <td>['Sony Interactive Entertainment']</td>\n",
              "      <td>['Platformer']</td>\n",
              "      <td>['Japanese', 'French', 'Spanish', 'German', 'I...</td>\n",
              "      <td>2024-06-18</td>\n",
              "      <td>684077_5526916</td>\n",
              "      <td>Pyromaniacal</td>\n",
              "      <td>Obtain the Flame Thrower upgrade from Taryn.</td>\n",
              "      <td>Bronze</td>\n",
              "      <td>9.99</td>\n",
              "      <td>9.99</td>\n",
              "      <td>7.99</td>\n",
              "      <td>NaN</td>\n",
              "      <td>NaN</td>\n",
              "    </tr>\n",
              "    <tr>\n",
              "      <th>1113564</th>\n",
              "      <td>446001</td>\n",
              "      <td>Bowling (Story Two) (Jane Version) - Project: ...</td>\n",
              "      <td>PS4</td>\n",
              "      <td>['Breakthrough Gaming']</td>\n",
              "      <td>['Breakthrough Gaming']</td>\n",
              "      <td>['Sports', 'Bowling']</td>\n",
              "      <td>NaN</td>\n",
              "      <td>2021-07-11</td>\n",
              "      <td>446001_4032987</td>\n",
              "      <td>Get a final score of at least 10 in \"Play Bowl...</td>\n",
              "      <td>Get a final score of at least 10 in \"Play Bowl...</td>\n",
              "      <td>Gold</td>\n",
              "      <td>0.99</td>\n",
              "      <td>0.99</td>\n",
              "      <td>0.79</td>\n",
              "      <td>NaN</td>\n",
              "      <td>NaN</td>\n",
              "    </tr>\n",
              "  </tbody>\n",
              "</table>\n",
              "</div>"
            ],
            "text/plain": [
              "         gameid                                              title  \\\n",
              "487997   145420               My Riding Stables - Life with Horses   \n",
              "955816   589240                         LocoRoco Midnight Carnival   \n",
              "569467    13926                                          LASTFIGHT   \n",
              "824352   684077                                             Daxter   \n",
              "1113564  446001  Bowling (Story Two) (Jane Version) - Project: ...   \n",
              "\n",
              "        PS_platform                     developers  \\\n",
              "487997          PS4  ['Independent Arts Software']   \n",
              "955816          PS5           ['SIE Japan Studio']   \n",
              "569467          PS4                 ['Piranaking']   \n",
              "824352          PS4              ['Ready At Dawn']   \n",
              "1113564         PS4        ['Breakthrough Gaming']   \n",
              "\n",
              "                                 publishers                 genres  \\\n",
              "487997                    ['Kalypso Media']         ['Simulation']   \n",
              "955816   ['Sony Interactive Entertainment']         ['Platformer']   \n",
              "569467                       ['Piranaking']           ['fighting']   \n",
              "824352   ['Sony Interactive Entertainment']         ['Platformer']   \n",
              "1113564             ['Breakthrough Gaming']  ['Sports', 'Bowling']   \n",
              "\n",
              "                                       supported_languages release_date  \\\n",
              "487997   ['French', 'Spanish', 'German', 'Italian', 'Du...   2018-11-13   \n",
              "955816   ['Japanese', 'French', 'Spanish', 'German', 'I...   2022-07-19   \n",
              "569467   ['Japanese', 'French', 'Spanish', 'German', 'I...   2016-09-20   \n",
              "824352   ['Japanese', 'French', 'Spanish', 'German', 'I...   2024-06-18   \n",
              "1113564                                                NaN   2021-07-11   \n",
              "\n",
              "          achievementid                                  achievement_title  \\\n",
              "487997   145420_2690465                                               Host   \n",
              "955816   589240_4881204                                               Flow   \n",
              "569467     13926_145859                                  Mind over matter!   \n",
              "824352   684077_5526916                                       Pyromaniacal   \n",
              "1113564  446001_4032987  Get a final score of at least 10 in \"Play Bowl...   \n",
              "\n",
              "                                   achievement_description  rarity    usd  \\\n",
              "487997              Accommodate a guest in the guesthouse.  Bronze   3.99   \n",
              "955816                       Start playing Bui Bui Fort 1.  Bronze   9.99   \n",
              "569467   Win the game after being one round down and ha...  Silver  14.99   \n",
              "824352        Obtain the Flame Thrower upgrade from Taryn.  Bronze   9.99   \n",
              "1113564  Get a final score of at least 10 in \"Play Bowl...    Gold   0.99   \n",
              "\n",
              "           eur    gbp     jpy  rub  \n",
              "487997     NaN   3.19     NaN  NaN  \n",
              "955816    9.99   7.99  1100.0  NaN  \n",
              "569467   14.99  11.99     NaN  NaN  \n",
              "824352    9.99   7.99     NaN  NaN  \n",
              "1113564   0.99   0.79     NaN  NaN  "
            ]
          },
          "execution_count": 81,
          "metadata": {},
          "output_type": "execute_result"
        }
      ],
      "source": [
        "ps_game_info.sample(5)"
      ]
    },
    {
      "cell_type": "markdown",
      "metadata": {},
      "source": [
        "## Steam"
      ]
    },
    {
      "cell_type": "code",
      "execution_count": 82,
      "metadata": {},
      "outputs": [
        {
          "name": "stdout",
          "output_type": "stream",
          "text": [
            "steam_purchased_games - shape: (102548, 2)\n",
            "steam_reviews - shape: (1204534, 8)\n",
            "steam_history - shape: (10693879, 3)\n",
            "steam_friends - shape: (424683, 2)\n",
            "steam_prices - shape: (4414273, 7)\n",
            "steam_players - shape: (424683, 3)\n",
            "steam_games - shape: (98248, 7)\n",
            "steam_private_steamids - shape: (227963, 1)\n",
            "steam_achievements - shape: (1939027, 4)\n"
          ]
        }
      ],
      "source": [
        "import os\n",
        "import pandas as pd\n",
        "\n",
        "STEAM_DATA_FOLDER = \"data/steam\"\n",
        "\n",
        "dfs = {}\n",
        "\n",
        "for root, dirs, files in os.walk(STEAM_DATA_FOLDER):\n",
        "    for file in files:\n",
        "        if file.endswith(\".csv\"):\n",
        "            file_path = os.path.join(root, file)\n",
        "            df_name = f\"{os.path.basename(root)}_{file.replace('.csv', '')}\".replace('.csv', '')  # Clean name\n",
        "            dfs[df_name] = pd.read_csv(file_path)\n",
        "\n",
        "for name, df in dfs.items():\n",
        "    print(f\"{name} - shape: {df.shape}\")\n",
        "\n",
        "steam_achievements = dfs['steam_achievements']\n",
        "steam_games = dfs['steam_games']\n",
        "steam_history = dfs['steam_history']\n",
        "steam_players = dfs['steam_players']\n",
        "steam_prices = dfs['steam_prices']\n",
        "steam_purchased_games = dfs['steam_purchased_games']\n"
      ]
    },
    {
      "cell_type": "markdown",
      "metadata": {},
      "source": [
        "### Player focus"
      ]
    },
    {
      "cell_type": "code",
      "execution_count": 83,
      "metadata": {},
      "outputs": [],
      "source": [
        "st_player_info = steam_players.merge(steam_history, on=\"playerid\", how=\"left\")"
      ]
    },
    {
      "cell_type": "code",
      "execution_count": 84,
      "metadata": {},
      "outputs": [],
      "source": [
        "st_player_info = st_player_info.merge(steam_achievements, on=\"achievementid\", how=\"left\")"
      ]
    },
    {
      "cell_type": "code",
      "execution_count": 85,
      "metadata": {},
      "outputs": [],
      "source": [
        "st_player_info = st_player_info.merge(steam_purchased_games, on=\"playerid\", how=\"left\")\n",
        "\n",
        "# # Save player-focused data\n",
        "# steam_player_info.to_csv('data/steam_players.csv', index=False)"
      ]
    },
    {
      "cell_type": "code",
      "execution_count": 86,
      "metadata": {},
      "outputs": [
        {
          "name": "stdout",
          "output_type": "stream",
          "text": [
            "<class 'pandas.core.frame.DataFrame'>\n",
            "RangeIndex: 11113724 entries, 0 to 11113723\n",
            "Data columns (total 9 columns):\n",
            " #   Column         Dtype  \n",
            "---  ------         -----  \n",
            " 0   playerid       int64  \n",
            " 1   country        object \n",
            " 2   created        object \n",
            " 3   achievementid  object \n",
            " 4   date_acquired  object \n",
            " 5   gameid         float64\n",
            " 6   title          object \n",
            " 7   description    object \n",
            " 8   library        object \n",
            "dtypes: float64(1), int64(1), object(7)\n",
            "memory usage: 763.1+ MB\n"
          ]
        }
      ],
      "source": [
        "st_player_info.info()"
      ]
    },
    {
      "cell_type": "code",
      "execution_count": 87,
      "metadata": {},
      "outputs": [
        {
          "data": {
            "text/plain": [
              "(11113724, 9)"
            ]
          },
          "execution_count": 87,
          "metadata": {},
          "output_type": "execute_result"
        }
      ],
      "source": [
        "st_player_info.shape"
      ]
    },
    {
      "cell_type": "code",
      "execution_count": 88,
      "metadata": {},
      "outputs": [
        {
          "data": {
            "text/html": [
              "<div>\n",
              "<style scoped>\n",
              "    .dataframe tbody tr th:only-of-type {\n",
              "        vertical-align: middle;\n",
              "    }\n",
              "\n",
              "    .dataframe tbody tr th {\n",
              "        vertical-align: top;\n",
              "    }\n",
              "\n",
              "    .dataframe thead th {\n",
              "        text-align: right;\n",
              "    }\n",
              "</style>\n",
              "<table border=\"1\" class=\"dataframe\">\n",
              "  <thead>\n",
              "    <tr style=\"text-align: right;\">\n",
              "      <th></th>\n",
              "      <th>playerid</th>\n",
              "      <th>country</th>\n",
              "      <th>created</th>\n",
              "      <th>achievementid</th>\n",
              "      <th>date_acquired</th>\n",
              "      <th>gameid</th>\n",
              "      <th>title</th>\n",
              "      <th>description</th>\n",
              "      <th>library</th>\n",
              "    </tr>\n",
              "  </thead>\n",
              "  <tbody>\n",
              "    <tr>\n",
              "      <th>0</th>\n",
              "      <td>76561198287452552</td>\n",
              "      <td>Brazil</td>\n",
              "      <td>2016-03-02 06:14:20</td>\n",
              "      <td>NaN</td>\n",
              "      <td>NaN</td>\n",
              "      <td>NaN</td>\n",
              "      <td>NaN</td>\n",
              "      <td>NaN</td>\n",
              "      <td>[10, 80, 100, 240, 2990, 6880, 6910, 6920, 698...</td>\n",
              "    </tr>\n",
              "    <tr>\n",
              "      <th>1</th>\n",
              "      <td>76561198040436563</td>\n",
              "      <td>Israel</td>\n",
              "      <td>2011-04-10 17:10:06</td>\n",
              "      <td>NaN</td>\n",
              "      <td>NaN</td>\n",
              "      <td>NaN</td>\n",
              "      <td>NaN</td>\n",
              "      <td>NaN</td>\n",
              "      <td>[10, 80, 100, 300, 20, 30, 40, 50, 60, 70, 130...</td>\n",
              "    </tr>\n",
              "    <tr>\n",
              "      <th>2</th>\n",
              "      <td>76561198049686270</td>\n",
              "      <td>NaN</td>\n",
              "      <td>2011-09-28 21:43:59</td>\n",
              "      <td>NaN</td>\n",
              "      <td>NaN</td>\n",
              "      <td>NaN</td>\n",
              "      <td>NaN</td>\n",
              "      <td>NaN</td>\n",
              "      <td>NaN</td>\n",
              "    </tr>\n",
              "    <tr>\n",
              "      <th>3</th>\n",
              "      <td>76561198155814250</td>\n",
              "      <td>Kazakhstan</td>\n",
              "      <td>2014-09-24 19:52:47</td>\n",
              "      <td>NaN</td>\n",
              "      <td>NaN</td>\n",
              "      <td>NaN</td>\n",
              "      <td>NaN</td>\n",
              "      <td>NaN</td>\n",
              "      <td>NaN</td>\n",
              "    </tr>\n",
              "    <tr>\n",
              "      <th>4</th>\n",
              "      <td>76561198119605821</td>\n",
              "      <td>NaN</td>\n",
              "      <td>2013-12-26 00:25:50</td>\n",
              "      <td>NaN</td>\n",
              "      <td>NaN</td>\n",
              "      <td>NaN</td>\n",
              "      <td>NaN</td>\n",
              "      <td>NaN</td>\n",
              "      <td>[47870, 108600, 550, 271590, 331470, 381210, 2...</td>\n",
              "    </tr>\n",
              "  </tbody>\n",
              "</table>\n",
              "</div>"
            ],
            "text/plain": [
              "            playerid     country              created achievementid  \\\n",
              "0  76561198287452552      Brazil  2016-03-02 06:14:20           NaN   \n",
              "1  76561198040436563      Israel  2011-04-10 17:10:06           NaN   \n",
              "2  76561198049686270         NaN  2011-09-28 21:43:59           NaN   \n",
              "3  76561198155814250  Kazakhstan  2014-09-24 19:52:47           NaN   \n",
              "4  76561198119605821         NaN  2013-12-26 00:25:50           NaN   \n",
              "\n",
              "  date_acquired  gameid title description  \\\n",
              "0           NaN     NaN   NaN         NaN   \n",
              "1           NaN     NaN   NaN         NaN   \n",
              "2           NaN     NaN   NaN         NaN   \n",
              "3           NaN     NaN   NaN         NaN   \n",
              "4           NaN     NaN   NaN         NaN   \n",
              "\n",
              "                                             library  \n",
              "0  [10, 80, 100, 240, 2990, 6880, 6910, 6920, 698...  \n",
              "1  [10, 80, 100, 300, 20, 30, 40, 50, 60, 70, 130...  \n",
              "2                                                NaN  \n",
              "3                                                NaN  \n",
              "4  [47870, 108600, 550, 271590, 331470, 381210, 2...  "
            ]
          },
          "execution_count": 88,
          "metadata": {},
          "output_type": "execute_result"
        }
      ],
      "source": [
        "st_player_info.head(5)"
      ]
    },
    {
      "cell_type": "markdown",
      "metadata": {},
      "source": [
        "### Game focus"
      ]
    },
    {
      "cell_type": "code",
      "execution_count": 89,
      "metadata": {},
      "outputs": [],
      "source": [
        "st_game_info = steam_games.merge(steam_achievements.rename(columns={'title': 'achievement_title'}), on=\"gameid\", how=\"left\")"
      ]
    },
    {
      "cell_type": "code",
      "execution_count": 90,
      "metadata": {},
      "outputs": [],
      "source": [
        "st_game_info = st_game_info.merge(steam_prices, on=\"gameid\", how=\"left\")"
      ]
    },
    {
      "cell_type": "code",
      "execution_count": 91,
      "metadata": {},
      "outputs": [],
      "source": [
        "st_game_info = st_game_info.drop(columns=['date_acquired'])"
      ]
    },
    {
      "cell_type": "code",
      "execution_count": 92,
      "metadata": {},
      "outputs": [],
      "source": [
        "st_game_info.rename(columns={'description': 'achievement_description'}, inplace=True)"
      ]
    },
    {
      "cell_type": "code",
      "execution_count": 93,
      "metadata": {},
      "outputs": [
        {
          "name": "stdout",
          "output_type": "stream",
          "text": [
            "<class 'pandas.core.frame.DataFrame'>\n",
            "RangeIndex: 89149729 entries, 0 to 89149728\n",
            "Data columns (total 15 columns):\n",
            " #   Column                   Dtype  \n",
            "---  ------                   -----  \n",
            " 0   gameid                   int64  \n",
            " 1   title                    object \n",
            " 2   developers               object \n",
            " 3   publishers               object \n",
            " 4   genres                   object \n",
            " 5   supported_languages      object \n",
            " 6   release_date             object \n",
            " 7   achievementid            object \n",
            " 8   achievement_title        object \n",
            " 9   achievement_description  object \n",
            " 10  usd                      float64\n",
            " 11  eur                      float64\n",
            " 12  gbp                      float64\n",
            " 13  jpy                      float64\n",
            " 14  rub                      float64\n",
            "dtypes: float64(5), int64(1), object(9)\n",
            "memory usage: 10.0+ GB\n"
          ]
        }
      ],
      "source": [
        "st_game_info.info()"
      ]
    },
    {
      "cell_type": "code",
      "execution_count": 94,
      "metadata": {},
      "outputs": [
        {
          "data": {
            "text/plain": [
              "(89149729, 15)"
            ]
          },
          "execution_count": 94,
          "metadata": {},
          "output_type": "execute_result"
        }
      ],
      "source": [
        "st_game_info.shape"
      ]
    },
    {
      "cell_type": "markdown",
      "metadata": {},
      "source": [
        "## XBOX"
      ]
    },
    {
      "cell_type": "code",
      "execution_count": 95,
      "metadata": {},
      "outputs": [
        {
          "name": "stdout",
          "output_type": "stream",
          "text": [
            "xbox_purchased_games - shape: (46466, 2)\n",
            "xbox_history - shape: (15275900, 3)\n",
            "xbox_prices - shape: (22638, 7)\n",
            "xbox_players - shape: (274450, 2)\n",
            "xbox_games - shape: (10489, 7)\n",
            "xbox_achievements - shape: (351111, 5)\n"
          ]
        }
      ],
      "source": [
        "import os\n",
        "import pandas as pd\n",
        "\n",
        "XBOX_DATA_FOLDER = \"data/xbox\"\n",
        "\n",
        "dfs = {}\n",
        "\n",
        "for root, dirs, files in os.walk(XBOX_DATA_FOLDER):\n",
        "    for file in files:\n",
        "        if file.endswith(\".csv\"):\n",
        "            file_path = os.path.join(root, file)\n",
        "            df_name = f\"{os.path.basename(root)}_{file.replace('.csv', '')}\".replace('.csv', '')\n",
        "            dfs[df_name] = pd.read_csv(file_path)\n",
        "\n",
        "for name, df in dfs.items():\n",
        "    print(f\"{name} - shape: {df.shape}\")\n"
      ]
    },
    {
      "cell_type": "code",
      "execution_count": 96,
      "metadata": {},
      "outputs": [],
      "source": [
        "xbox_achievements = dfs['xbox_achievements']\n",
        "xbox_games = dfs['xbox_games']\n",
        "xbox_history = dfs['xbox_history']\n",
        "xbox_players = dfs['xbox_players']\n",
        "xbox_prices = dfs['xbox_prices']\n",
        "xbox_purchased_games = dfs['xbox_purchased_games']"
      ]
    },
    {
      "cell_type": "markdown",
      "metadata": {},
      "source": [
        "### Player focus"
      ]
    },
    {
      "cell_type": "code",
      "execution_count": 97,
      "metadata": {},
      "outputs": [],
      "source": [
        "xb_player_info = xbox_players.merge(xbox_history, on=\"playerid\", how=\"left\")"
      ]
    },
    {
      "cell_type": "code",
      "execution_count": 98,
      "metadata": {},
      "outputs": [],
      "source": [
        "xb_player_info = xb_player_info.merge(xbox_achievements, on=\"achievementid\", how=\"left\")"
      ]
    },
    {
      "cell_type": "code",
      "execution_count": 99,
      "metadata": {},
      "outputs": [],
      "source": [
        "xb_player_info = xb_player_info.merge(xbox_purchased_games, on=\"playerid\", how=\"left\")"
      ]
    },
    {
      "cell_type": "code",
      "execution_count": 100,
      "metadata": {},
      "outputs": [
        {
          "name": "stdout",
          "output_type": "stream",
          "text": [
            "<class 'pandas.core.frame.DataFrame'>\n",
            "RangeIndex: 15545366 entries, 0 to 15545365\n",
            "Data columns (total 9 columns):\n",
            " #   Column         Dtype  \n",
            "---  ------         -----  \n",
            " 0   playerid       int64  \n",
            " 1   nickname       object \n",
            " 2   achievementid  object \n",
            " 3   date_acquired  object \n",
            " 4   gameid         float64\n",
            " 5   title          object \n",
            " 6   description    object \n",
            " 7   points         float64\n",
            " 8   library        object \n",
            "dtypes: float64(2), int64(1), object(6)\n",
            "memory usage: 1.0+ GB\n"
          ]
        }
      ],
      "source": [
        "xb_player_info.info()"
      ]
    },
    {
      "cell_type": "code",
      "execution_count": 101,
      "metadata": {},
      "outputs": [
        {
          "data": {
            "text/plain": [
              "(15545366, 9)"
            ]
          },
          "execution_count": 101,
          "metadata": {},
          "output_type": "execute_result"
        }
      ],
      "source": [
        "xb_player_info.shape"
      ]
    },
    {
      "cell_type": "markdown",
      "metadata": {},
      "source": [
        "### Game focus"
      ]
    },
    {
      "cell_type": "code",
      "execution_count": 102,
      "metadata": {},
      "outputs": [],
      "source": [
        "xb_game_info = xbox_games.merge(xbox_achievements.rename(columns={'title': 'achievement_title'}), on=\"gameid\", how=\"left\")"
      ]
    },
    {
      "cell_type": "code",
      "execution_count": 103,
      "metadata": {},
      "outputs": [],
      "source": [
        "xb_game_info = xb_game_info.merge(xbox_prices, on=\"gameid\", how=\"left\")"
      ]
    },
    {
      "cell_type": "code",
      "execution_count": 104,
      "metadata": {},
      "outputs": [],
      "source": [
        "xb_game_info = xb_game_info.drop(columns=['date_acquired', 'points'])"
      ]
    },
    {
      "cell_type": "code",
      "execution_count": 105,
      "metadata": {},
      "outputs": [],
      "source": [
        "xb_game_info.rename(columns={'description': 'achievement_description'}, inplace=True)"
      ]
    },
    {
      "cell_type": "code",
      "execution_count": 106,
      "metadata": {},
      "outputs": [
        {
          "name": "stdout",
          "output_type": "stream",
          "text": [
            "<class 'pandas.core.frame.DataFrame'>\n",
            "RangeIndex: 646076 entries, 0 to 646075\n",
            "Data columns (total 15 columns):\n",
            " #   Column                   Non-Null Count   Dtype  \n",
            "---  ------                   --------------   -----  \n",
            " 0   gameid                   646076 non-null  int64  \n",
            " 1   title                    646076 non-null  object \n",
            " 2   developers               608804 non-null  object \n",
            " 3   publishers               610118 non-null  object \n",
            " 4   genres                   608336 non-null  object \n",
            " 5   supported_languages      265610 non-null  object \n",
            " 6   release_date             646076 non-null  object \n",
            " 7   achievementid            646076 non-null  object \n",
            " 8   achievement_title        646074 non-null  object \n",
            " 9   achievement_description  645968 non-null  object \n",
            " 10  usd                      474444 non-null  float64\n",
            " 11  eur                      453524 non-null  float64\n",
            " 12  gbp                      469236 non-null  float64\n",
            " 13  jpy                      0 non-null       float64\n",
            " 14  rub                      420418 non-null  float64\n",
            "dtypes: float64(5), int64(1), object(9)\n",
            "memory usage: 73.9+ MB\n"
          ]
        }
      ],
      "source": [
        "xb_game_info.info()"
      ]
    },
    {
      "cell_type": "markdown",
      "metadata": {},
      "source": [
        "## Game Info Across Platforms"
      ]
    },
    {
      "cell_type": "code",
      "execution_count": 107,
      "metadata": {},
      "outputs": [
        {
          "data": {
            "text/plain": [
              "23151"
            ]
          },
          "execution_count": 107,
          "metadata": {},
          "output_type": "execute_result"
        }
      ],
      "source": [
        "len(ps_game_info['gameid'].unique())"
      ]
    },
    {
      "cell_type": "code",
      "execution_count": 108,
      "metadata": {},
      "outputs": [
        {
          "data": {
            "text/plain": [
              "98248"
            ]
          },
          "execution_count": 108,
          "metadata": {},
          "output_type": "execute_result"
        }
      ],
      "source": [
        "len(st_game_info['gameid'].unique())"
      ]
    },
    {
      "cell_type": "code",
      "execution_count": 109,
      "metadata": {},
      "outputs": [
        {
          "data": {
            "text/plain": [
              "10489"
            ]
          },
          "execution_count": 109,
          "metadata": {},
          "output_type": "execute_result"
        }
      ],
      "source": [
        "len(xb_game_info['gameid'].unique())"
      ]
    },
    {
      "cell_type": "code",
      "execution_count": 110,
      "metadata": {},
      "outputs": [
        {
          "name": "stdout",
          "output_type": "stream",
          "text": [
            "Shared titles between PS & ST: 5571\n",
            "Shared titles between PS & XB: 5360\n",
            "Shared titles between ST & XB: 5540\n",
            "Shared across all three: 3815\n"
          ]
        }
      ],
      "source": [
        "ps_titles = set(ps_game_info['title'].str.lower().str.strip())\n",
        "st_titles = set(st_game_info['title'].str.lower().str.strip())\n",
        "xb_titles = set(xb_game_info['title'].str.lower().str.strip())\n",
        "\n",
        "shared_ps_st = ps_titles.intersection(st_titles)\n",
        "shared_ps_xb = ps_titles.intersection(xb_titles)\n",
        "shared_st_xb = st_titles.intersection(xb_titles)\n",
        "shared_all = ps_titles.intersection(st_titles, xb_titles)\n",
        "\n",
        "print(f\"Shared titles between PS & ST: {len(shared_ps_st)}\")\n",
        "print(f\"Shared titles between PS & XB: {len(shared_ps_xb)}\")\n",
        "print(f\"Shared titles between ST & XB: {len(shared_st_xb)}\")\n",
        "print(f\"Shared across all three: {len(shared_all)}\")\n"
      ]
    },
    {
      "cell_type": "code",
      "execution_count": 111,
      "metadata": {},
      "outputs": [],
      "source": [
        "def clean_game_info(df, platform):\n",
        "    df = df.copy()\n",
        "    \n",
        "    # drop platform-specific columns (ps_game_info's 'rarity' and 'PS_platform')\n",
        "    drop_cols = ['date_acquired', 'rarity', 'PS_platform']\n",
        "    df = df.drop(columns=[col for col in drop_cols if col in df.columns], errors='ignore')\n",
        "\n",
        "    # add platform column\n",
        "    df['platform'] = platform\n",
        "    \n",
        "    return df"
      ]
    },
    {
      "cell_type": "code",
      "execution_count": 112,
      "metadata": {},
      "outputs": [],
      "source": [
        "ps_game_info_clean = clean_game_info(ps_game_info, 'ps')"
      ]
    },
    {
      "cell_type": "code",
      "execution_count": 113,
      "metadata": {},
      "outputs": [
        {
          "data": {
            "text/plain": [
              "Index(['gameid', 'title', 'developers', 'publishers', 'genres',\n",
              "       'supported_languages', 'release_date', 'achievementid',\n",
              "       'achievement_title', 'achievement_description', 'usd', 'eur', 'gbp',\n",
              "       'jpy', 'rub', 'platform'],\n",
              "      dtype='object')"
            ]
          },
          "execution_count": 113,
          "metadata": {},
          "output_type": "execute_result"
        }
      ],
      "source": [
        "ps_game_info_clean.columns"
      ]
    },
    {
      "cell_type": "code",
      "execution_count": 114,
      "metadata": {},
      "outputs": [],
      "source": [
        "st_game_info_clean = clean_game_info(st_game_info, 'st')"
      ]
    },
    {
      "cell_type": "code",
      "execution_count": 115,
      "metadata": {},
      "outputs": [
        {
          "data": {
            "text/plain": [
              "Index(['gameid', 'title', 'developers', 'publishers', 'genres',\n",
              "       'supported_languages', 'release_date', 'achievementid',\n",
              "       'achievement_title', 'achievement_description', 'usd', 'eur', 'gbp',\n",
              "       'jpy', 'rub', 'platform'],\n",
              "      dtype='object')"
            ]
          },
          "execution_count": 115,
          "metadata": {},
          "output_type": "execute_result"
        }
      ],
      "source": [
        "st_game_info_clean.columns"
      ]
    },
    {
      "cell_type": "code",
      "execution_count": 116,
      "metadata": {},
      "outputs": [],
      "source": [
        "xb_game_info_clean = clean_game_info(xb_game_info, 'xb')"
      ]
    },
    {
      "cell_type": "code",
      "execution_count": 117,
      "metadata": {},
      "outputs": [
        {
          "data": {
            "text/plain": [
              "Index(['gameid', 'title', 'developers', 'publishers', 'genres',\n",
              "       'supported_languages', 'release_date', 'achievementid',\n",
              "       'achievement_title', 'achievement_description', 'usd', 'eur', 'gbp',\n",
              "       'jpy', 'rub', 'platform'],\n",
              "      dtype='object')"
            ]
          },
          "execution_count": 117,
          "metadata": {},
          "output_type": "execute_result"
        }
      ],
      "source": [
        "xb_game_info_clean.columns"
      ]
    },
    {
      "cell_type": "code",
      "execution_count": 118,
      "metadata": {},
      "outputs": [
        {
          "name": "stdout",
          "output_type": "stream",
          "text": [
            "Merged dataset shape: (5808510, 16)\n"
          ]
        }
      ],
      "source": [
        "shared_games = set(ps_game_info_clean['title']) & set(st_game_info_clean['title']) & set(xb_game_info_clean['title'])\n",
        "\n",
        "ps_game_info_clean = ps_game_info_clean[ps_game_info_clean['title'].isin(shared_games)]\n",
        "st_game_info_clean = st_game_info_clean[st_game_info_clean['title'].isin(shared_games)]\n",
        "xb_game_info_clean = xb_game_info_clean[xb_game_info_clean['title'].isin(shared_games)]\n",
        "\n",
        "merged_game_info = pd.concat([ps_game_info_clean, st_game_info_clean, xb_game_info_clean], ignore_index=True)\n",
        "\n",
        "print(f\"Merged dataset shape: {merged_game_info.shape}\")"
      ]
    },
    {
      "cell_type": "code",
      "execution_count": 119,
      "metadata": {},
      "outputs": [
        {
          "name": "stdout",
          "output_type": "stream",
          "text": [
            "<class 'pandas.core.frame.DataFrame'>\n",
            "RangeIndex: 5808510 entries, 0 to 5808509\n",
            "Data columns (total 16 columns):\n",
            " #   Column                   Dtype  \n",
            "---  ------                   -----  \n",
            " 0   gameid                   int64  \n",
            " 1   title                    object \n",
            " 2   developers               object \n",
            " 3   publishers               object \n",
            " 4   genres                   object \n",
            " 5   supported_languages      object \n",
            " 6   release_date             object \n",
            " 7   achievementid            object \n",
            " 8   achievement_title        object \n",
            " 9   achievement_description  object \n",
            " 10  usd                      float64\n",
            " 11  eur                      float64\n",
            " 12  gbp                      float64\n",
            " 13  jpy                      float64\n",
            " 14  rub                      float64\n",
            " 15  platform                 object \n",
            "dtypes: float64(5), int64(1), object(10)\n",
            "memory usage: 709.0+ MB\n"
          ]
        }
      ],
      "source": [
        "merged_game_info.info()"
      ]
    },
    {
      "cell_type": "code",
      "execution_count": 146,
      "metadata": {},
      "outputs": [
        {
          "data": {
            "text/plain": [
              "achievementid\n",
              "1729090_TIME_TRIAL_73                    45\n",
              "517330_VisitMerchant1TimeAchievement     45\n",
              "517330_VisitOverlord50TimeAchievement    45\n",
              "517330_VisitOverlord25TimeAchievement    45\n",
              "517330_VisitOverlord10TimeAchievement    45\n",
              "                                         ..\n",
              "617563_5085687                            2\n",
              "617563_5085686                            2\n",
              "617563_5085685                            2\n",
              "617563_5085684                            2\n",
              "711118_5703719                            2\n",
              "Name: count, Length: 431807, dtype: int64"
            ]
          },
          "execution_count": 146,
          "metadata": {},
          "output_type": "execute_result"
        }
      ],
      "source": [
        "merged_game_info['achievementid'].value_counts()"
      ]
    },
    {
      "cell_type": "code",
      "execution_count": 148,
      "metadata": {},
      "outputs": [
        {
          "name": "stdout",
          "output_type": "stream",
          "text": [
            "         gameid      title               developers               publishers  \\\n",
            "870514  1729090  Chameneon  ['Burning Goat Studio']  ['Burning Goat Studio']   \n",
            "870515  1729090  Chameneon  ['Burning Goat Studio']  ['Burning Goat Studio']   \n",
            "870516  1729090  Chameneon  ['Burning Goat Studio']  ['Burning Goat Studio']   \n",
            "\n",
            "                                  genres                 supported_languages  \\\n",
            "870514  ['Adventure', 'Casual', 'Indie']  ['English', 'Portuguese - Brazil']   \n",
            "870515  ['Adventure', 'Casual', 'Indie']  ['English', 'Portuguese - Brazil']   \n",
            "870516  ['Adventure', 'Casual', 'Indie']  ['English', 'Portuguese - Brazil']   \n",
            "\n",
            "       release_date          achievementid  achievement_title  \\\n",
            "870514   2021-12-16  1729090_TIME_TRIAL_73  Time Challenge 73   \n",
            "870515   2021-12-16  1729090_TIME_TRIAL_73  Time Challenge 73   \n",
            "870516   2021-12-16  1729090_TIME_TRIAL_73  Time Challenge 73   \n",
            "\n",
            "             achievement_description   usd   eur   gbp    jpy   rub platform  \n",
            "870514  Time to be reached - 0:17:46  0.99  0.99  0.84  117.0  41.0       st  \n",
            "870515  Time to be reached - 0:17:46  0.99  0.99  0.84  117.0  41.0       st  \n",
            "870516  Time to be reached - 0:17:46  0.99  0.99  0.84  117.0  41.0       st  \n"
          ]
        }
      ],
      "source": [
        "filtered_rows = merged_game_info[merged_game_info['achievementid'] == '1729090_TIME_TRIAL_73']\n",
        "print(filtered_rows.head(3))"
      ]
    },
    {
      "cell_type": "markdown",
      "metadata": {},
      "source": [
        "## Long and Tidy Form\n",
        "A tidy dataset follows the principles:\n",
        "1. Each column is a single variable.\n",
        "2. Each row is a single observation.\n",
        "3. Each cell contains a single value.\n",
        "\n",
        "#### Issues with the current merged_game_info:\n",
        "- **We decide to leave it unchanged as our analysis will base on it**: The platform column is categorical, meaning the same game can appear multiple times (once per platform). This makes it long format.\n",
        "- Price columns (usd, eur, etc.) are separate instead of melted into a single column, which makes the dataset wide instead of long, which is not tidy."
      ]
    },
    {
      "cell_type": "code",
      "execution_count": 121,
      "metadata": {},
      "outputs": [],
      "source": [
        "# convert price columns into a long format\n",
        "tidy_game_info = merged_game_info.melt(\n",
        "    id_vars=[\n",
        "        \"gameid\", \"title\", \"developers\", \"publishers\", \"genres\",\n",
        "        \"supported_languages\", \"release_date\", \"achievementid\",\n",
        "        \"achievement_title\", \"achievement_description\", \"platform\"\n",
        "    ],\n",
        "    value_vars=[\"usd\", \"eur\", \"gbp\", \"jpy\", \"rub\"],\n",
        "    var_name=\"currency\",\n",
        "    value_name=\"price\"\n",
        ")"
      ]
    },
    {
      "cell_type": "code",
      "execution_count": 122,
      "metadata": {},
      "outputs": [
        {
          "data": {
            "text/plain": [
              "(29042550, 13)"
            ]
          },
          "execution_count": 122,
          "metadata": {},
          "output_type": "execute_result"
        }
      ],
      "source": [
        "tidy_game_info.shape"
      ]
    },
    {
      "cell_type": "code",
      "execution_count": 123,
      "metadata": {},
      "outputs": [
        {
          "name": "stdout",
          "output_type": "stream",
          "text": [
            "<class 'pandas.core.frame.DataFrame'>\n",
            "RangeIndex: 29042550 entries, 0 to 29042549\n",
            "Data columns (total 13 columns):\n",
            " #   Column                   Dtype  \n",
            "---  ------                   -----  \n",
            " 0   gameid                   int64  \n",
            " 1   title                    object \n",
            " 2   developers               object \n",
            " 3   publishers               object \n",
            " 4   genres                   object \n",
            " 5   supported_languages      object \n",
            " 6   release_date             object \n",
            " 7   achievementid            object \n",
            " 8   achievement_title        object \n",
            " 9   achievement_description  object \n",
            " 10  platform                 object \n",
            " 11  currency                 object \n",
            " 12  price                    float64\n",
            "dtypes: float64(1), int64(1), object(11)\n",
            "memory usage: 2.8+ GB\n"
          ]
        }
      ],
      "source": [
        "tidy_game_info.info()"
      ]
    },
    {
      "cell_type": "code",
      "execution_count": 139,
      "metadata": {},
      "outputs": [
        {
          "data": {
            "text/html": [
              "<div>\n",
              "<style scoped>\n",
              "    .dataframe tbody tr th:only-of-type {\n",
              "        vertical-align: middle;\n",
              "    }\n",
              "\n",
              "    .dataframe tbody tr th {\n",
              "        vertical-align: top;\n",
              "    }\n",
              "\n",
              "    .dataframe thead th {\n",
              "        text-align: right;\n",
              "    }\n",
              "</style>\n",
              "<table border=\"1\" class=\"dataframe\">\n",
              "  <thead>\n",
              "    <tr style=\"text-align: right;\">\n",
              "      <th></th>\n",
              "      <th>gameid</th>\n",
              "      <th>title</th>\n",
              "      <th>developers</th>\n",
              "      <th>publishers</th>\n",
              "      <th>genres</th>\n",
              "      <th>supported_languages</th>\n",
              "      <th>release_date</th>\n",
              "      <th>achievementid</th>\n",
              "      <th>achievement_title</th>\n",
              "      <th>achievement_description</th>\n",
              "      <th>platform</th>\n",
              "      <th>currency</th>\n",
              "      <th>price</th>\n",
              "    </tr>\n",
              "  </thead>\n",
              "  <tbody>\n",
              "    <tr>\n",
              "      <th>940285</th>\n",
              "      <td>1844170</td>\n",
              "      <td>Galactic Wars EX</td>\n",
              "      <td>['VolcanoBytes']</td>\n",
              "      <td>['JanduSoft']</td>\n",
              "      <td>['Action', 'Indie']</td>\n",
              "      <td>['English']</td>\n",
              "      <td>2022-04-21</td>\n",
              "      <td>1844170_ACHIEVEMENT_12</td>\n",
              "      <td>Untouchable</td>\n",
              "      <td>Complete the first mission without losing a si...</td>\n",
              "      <td>st</td>\n",
              "      <td>usd</td>\n",
              "      <td>7.99</td>\n",
              "    </tr>\n",
              "    <tr>\n",
              "      <th>21198747</th>\n",
              "      <td>534550</td>\n",
              "      <td>Guacamelee! 2</td>\n",
              "      <td>['DrinkBox Studios']</td>\n",
              "      <td>['DrinkBox Studios']</td>\n",
              "      <td>['Action', 'Adventure', 'Indie']</td>\n",
              "      <td>['English', 'French', 'Italian', 'German', 'Po...</td>\n",
              "      <td>2018-08-21</td>\n",
              "      <td>534550_EAwards_12</td>\n",
              "      <td>Cluckstorm</td>\n",
              "      <td>Kill 50 enemies as chicken</td>\n",
              "      <td>st</td>\n",
              "      <td>jpy</td>\n",
              "      <td>2300.00</td>\n",
              "    </tr>\n",
              "    <tr>\n",
              "      <th>11598878</th>\n",
              "      <td>8525</td>\n",
              "      <td>Borderlands 2</td>\n",
              "      <td>['gearbox software']</td>\n",
              "      <td>['2K Games']</td>\n",
              "      <td>['shooter']</td>\n",
              "      <td>['Japanese', 'French', 'Spanish', 'German', 'I...</td>\n",
              "      <td>2015-03-24</td>\n",
              "      <td>8525_357376</td>\n",
              "      <td>Did It All</td>\n",
              "      <td>Completed all side missions.</td>\n",
              "      <td>xb</td>\n",
              "      <td>eur</td>\n",
              "      <td>29.99</td>\n",
              "    </tr>\n",
              "    <tr>\n",
              "      <th>1880422</th>\n",
              "      <td>487720</td>\n",
              "      <td>Agony</td>\n",
              "      <td>['Madmind Studio']</td>\n",
              "      <td>['Playway S.A.']</td>\n",
              "      <td>['Action', 'Adventure', 'Indie']</td>\n",
              "      <td>['English', 'French', 'German', 'Polish', 'Ita...</td>\n",
              "      <td>2018-05-29</td>\n",
              "      <td>487720_succubus_ending</td>\n",
              "      <td>Pull it out!</td>\n",
              "      <td>succubus ending</td>\n",
              "      <td>st</td>\n",
              "      <td>usd</td>\n",
              "      <td>14.99</td>\n",
              "    </tr>\n",
              "    <tr>\n",
              "      <th>3046341</th>\n",
              "      <td>427100</td>\n",
              "      <td>Fernbus Simulator</td>\n",
              "      <td>['TML-Studios']</td>\n",
              "      <td>['Aerosoft GmbH']</td>\n",
              "      <td>['Casual', 'Simulation']</td>\n",
              "      <td>['English', 'German', 'French', 'Polish', 'Rus...</td>\n",
              "      <td>2016-08-25</td>\n",
              "      <td>427100_KILOMETERS_WITH_LIONS_COACH_10000</td>\n",
              "      <td>Lion Fan</td>\n",
              "      <td>Driven 10.000 km with a MAN Lion's Coach</td>\n",
              "      <td>st</td>\n",
              "      <td>usd</td>\n",
              "      <td>29.99</td>\n",
              "    </tr>\n",
              "  </tbody>\n",
              "</table>\n",
              "</div>"
            ],
            "text/plain": [
              "           gameid              title            developers  \\\n",
              "940285    1844170   Galactic Wars EX      ['VolcanoBytes']   \n",
              "21198747   534550      Guacamelee! 2  ['DrinkBox Studios']   \n",
              "11598878     8525      Borderlands 2  ['gearbox software']   \n",
              "1880422    487720              Agony    ['Madmind Studio']   \n",
              "3046341    427100  Fernbus Simulator       ['TML-Studios']   \n",
              "\n",
              "                    publishers                            genres  \\\n",
              "940285           ['JanduSoft']               ['Action', 'Indie']   \n",
              "21198747  ['DrinkBox Studios']  ['Action', 'Adventure', 'Indie']   \n",
              "11598878          ['2K Games']                       ['shooter']   \n",
              "1880422       ['Playway S.A.']  ['Action', 'Adventure', 'Indie']   \n",
              "3046341      ['Aerosoft GmbH']          ['Casual', 'Simulation']   \n",
              "\n",
              "                                        supported_languages release_date  \\\n",
              "940285                                          ['English']   2022-04-21   \n",
              "21198747  ['English', 'French', 'Italian', 'German', 'Po...   2018-08-21   \n",
              "11598878  ['Japanese', 'French', 'Spanish', 'German', 'I...   2015-03-24   \n",
              "1880422   ['English', 'French', 'German', 'Polish', 'Ita...   2018-05-29   \n",
              "3046341   ['English', 'German', 'French', 'Polish', 'Rus...   2016-08-25   \n",
              "\n",
              "                                     achievementid achievement_title  \\\n",
              "940285                      1844170_ACHIEVEMENT_12       Untouchable   \n",
              "21198747                         534550_EAwards_12        Cluckstorm   \n",
              "11598878                               8525_357376        Did It All   \n",
              "1880422                     487720_succubus_ending      Pull it out!   \n",
              "3046341   427100_KILOMETERS_WITH_LIONS_COACH_10000          Lion Fan   \n",
              "\n",
              "                                    achievement_description platform currency  \\\n",
              "940285    Complete the first mission without losing a si...       st      usd   \n",
              "21198747                         Kill 50 enemies as chicken       st      jpy   \n",
              "11598878                       Completed all side missions.       xb      eur   \n",
              "1880422                                     succubus ending       st      usd   \n",
              "3046341            Driven 10.000 km with a MAN Lion's Coach       st      usd   \n",
              "\n",
              "            price  \n",
              "940285       7.99  \n",
              "21198747  2300.00  \n",
              "11598878    29.99  \n",
              "1880422     14.99  \n",
              "3046341     29.99  "
            ]
          },
          "execution_count": 139,
          "metadata": {},
          "output_type": "execute_result"
        }
      ],
      "source": [
        "tidy_game_info.sample(5)"
      ]
    },
    {
      "cell_type": "code",
      "execution_count": 140,
      "metadata": {},
      "outputs": [
        {
          "data": {
            "text/plain": [
              "achievementid\n",
              "1729090_TIME_TRIAL_73                    225\n",
              "517330_VisitMerchant1TimeAchievement     225\n",
              "517330_VisitOverlord50TimeAchievement    225\n",
              "517330_VisitOverlord25TimeAchievement    225\n",
              "517330_VisitOverlord10TimeAchievement    225\n",
              "                                        ... \n",
              "617563_5085687                            10\n",
              "617563_5085686                            10\n",
              "617563_5085685                            10\n",
              "617563_5085684                            10\n",
              "711118_5703719                            10\n",
              "Name: count, Length: 431807, dtype: int64"
            ]
          },
          "execution_count": 140,
          "metadata": {},
          "output_type": "execute_result"
        }
      ],
      "source": [
        "tidy_game_info['achievementid'].value_counts()"
      ]
    },
    {
      "cell_type": "code",
      "execution_count": null,
      "metadata": {},
      "outputs": [
        {
          "name": "stdout",
          "output_type": "stream",
          "text": [
            "         gameid             title                  developers  \\\n",
            "287852   617563  Tenebris Pictura  ['Pentadimensional Games']   \n",
            "287853   617563  Tenebris Pictura  ['Pentadimensional Games']   \n",
            "6096362  617563  Tenebris Pictura  ['Pentadimensional Games']   \n",
            "\n",
            "                         publishers                genres  \\\n",
            "287852   ['Pentadimensional Games']  ['Action-Adventure']   \n",
            "287853   ['Pentadimensional Games']  ['Action-Adventure']   \n",
            "6096362  ['Pentadimensional Games']  ['Action-Adventure']   \n",
            "\n",
            "                                       supported_languages release_date  \\\n",
            "287852   ['Japanese', 'French', 'Spanish', 'German', 'I...   2023-08-31   \n",
            "287853   ['Japanese', 'French', 'Spanish', 'German', 'I...   2023-08-31   \n",
            "6096362  ['Japanese', 'French', 'Spanish', 'German', 'I...   2023-08-31   \n",
            "\n",
            "          achievementid     achievement_title  achievement_description  \\\n",
            "287852   617563_5085687  Tenebris Vitrum x 40  Earn 40 Tenebris Vitrum   \n",
            "287853   617563_5085687  Tenebris Vitrum x 40  Earn 40 Tenebris Vitrum   \n",
            "6096362  617563_5085687  Tenebris Vitrum x 40  Earn 40 Tenebris Vitrum   \n",
            "\n",
            "        platform currency  price  \n",
            "287852        ps      usd  19.99  \n",
            "287853        ps      usd  19.99  \n",
            "6096362       ps      eur  19.99  \n"
          ]
        }
      ],
      "source": [
        "filtered_rows = tidy_game_info[tidy_game_info['achievementid'] == '617563_5085687']\n",
        "print(filtered_rows.head(3))"
      ]
    },
    {
      "cell_type": "markdown",
      "metadata": {},
      "source": [
        "## Preprocessing"
      ]
    },
    {
      "cell_type": "markdown",
      "metadata": {},
      "source": [
        "### 1. Check for missing values"
      ]
    },
    {
      "cell_type": "code",
      "execution_count": 124,
      "metadata": {},
      "outputs": [
        {
          "data": {
            "text/html": [
              "<div>\n",
              "<style scoped>\n",
              "    .dataframe tbody tr th:only-of-type {\n",
              "        vertical-align: middle;\n",
              "    }\n",
              "\n",
              "    .dataframe tbody tr th {\n",
              "        vertical-align: top;\n",
              "    }\n",
              "\n",
              "    .dataframe thead th {\n",
              "        text-align: right;\n",
              "    }\n",
              "</style>\n",
              "<table border=\"1\" class=\"dataframe\">\n",
              "  <thead>\n",
              "    <tr style=\"text-align: right;\">\n",
              "      <th></th>\n",
              "      <th>col</th>\n",
              "      <th>num_missing</th>\n",
              "      <th>missing_pcnt</th>\n",
              "    </tr>\n",
              "  </thead>\n",
              "  <tbody>\n",
              "    <tr>\n",
              "      <th>0</th>\n",
              "      <td>gameid</td>\n",
              "      <td>0</td>\n",
              "      <td>0.00</td>\n",
              "    </tr>\n",
              "    <tr>\n",
              "      <th>1</th>\n",
              "      <td>title</td>\n",
              "      <td>0</td>\n",
              "      <td>0.00</td>\n",
              "    </tr>\n",
              "    <tr>\n",
              "      <th>2</th>\n",
              "      <td>developers</td>\n",
              "      <td>15850</td>\n",
              "      <td>0.27</td>\n",
              "    </tr>\n",
              "    <tr>\n",
              "      <th>3</th>\n",
              "      <td>publishers</td>\n",
              "      <td>79975</td>\n",
              "      <td>1.38</td>\n",
              "    </tr>\n",
              "    <tr>\n",
              "      <th>4</th>\n",
              "      <td>genres</td>\n",
              "      <td>24935</td>\n",
              "      <td>0.43</td>\n",
              "    </tr>\n",
              "    <tr>\n",
              "      <th>5</th>\n",
              "      <td>supported_languages</td>\n",
              "      <td>1588735</td>\n",
              "      <td>27.35</td>\n",
              "    </tr>\n",
              "    <tr>\n",
              "      <th>6</th>\n",
              "      <td>release_date</td>\n",
              "      <td>0</td>\n",
              "      <td>0.00</td>\n",
              "    </tr>\n",
              "    <tr>\n",
              "      <th>7</th>\n",
              "      <td>achievementid</td>\n",
              "      <td>40050</td>\n",
              "      <td>0.69</td>\n",
              "    </tr>\n",
              "    <tr>\n",
              "      <th>8</th>\n",
              "      <td>achievement_title</td>\n",
              "      <td>40325</td>\n",
              "      <td>0.69</td>\n",
              "    </tr>\n",
              "    <tr>\n",
              "      <th>9</th>\n",
              "      <td>achievement_description</td>\n",
              "      <td>4014060</td>\n",
              "      <td>69.11</td>\n",
              "    </tr>\n",
              "    <tr>\n",
              "      <th>10</th>\n",
              "      <td>platform</td>\n",
              "      <td>0</td>\n",
              "      <td>0.00</td>\n",
              "    </tr>\n",
              "    <tr>\n",
              "      <th>11</th>\n",
              "      <td>currency</td>\n",
              "      <td>0</td>\n",
              "      <td>0.00</td>\n",
              "    </tr>\n",
              "    <tr>\n",
              "      <th>12</th>\n",
              "      <td>price</td>\n",
              "      <td>4157940</td>\n",
              "      <td>71.58</td>\n",
              "    </tr>\n",
              "  </tbody>\n",
              "</table>\n",
              "</div>"
            ],
            "text/plain": [
              "                        col  num_missing  missing_pcnt\n",
              "0                    gameid            0          0.00\n",
              "1                     title            0          0.00\n",
              "2                developers        15850          0.27\n",
              "3                publishers        79975          1.38\n",
              "4                    genres        24935          0.43\n",
              "5       supported_languages      1588735         27.35\n",
              "6              release_date            0          0.00\n",
              "7             achievementid        40050          0.69\n",
              "8         achievement_title        40325          0.69\n",
              "9   achievement_description      4014060         69.11\n",
              "10                 platform            0          0.00\n",
              "11                 currency            0          0.00\n",
              "12                    price      4157940         71.58"
            ]
          },
          "execution_count": 124,
          "metadata": {},
          "output_type": "execute_result"
        }
      ],
      "source": [
        "# count missing values per column\n",
        "null_counts = tidy_game_info.isnull().sum().reset_index()\n",
        "null_counts.columns = [\"col\", \"num_missing\"]\n",
        "null_counts[\"missing_pcnt\"] = round((null_counts[\"num_missing\"] / len(merged_game_info)) * 100, 2)\n",
        "\n",
        "null_counts"
      ]
    },
    {
      "cell_type": "markdown",
      "metadata": {},
      "source": [
        "#### Here’s how we decide to handle missing values effectively [Used GPT-4o for tailoring to table format]:\n",
        "\n",
        "**Columns with Minor Missing Data (< 5%)**\n",
        "| Column | Missing % | Suggested Action |\n",
        "|---------|----------|-----------------|\n",
        "| **developers** | 0.27% | Fill with \"unknown\" to maintain consistency. |\n",
        "| **publishers** | 1.38% | Fill with \"unknown\" for completeness. |\n",
        "| **genres** | 0.43% | Fill with \"unknown\", since games without a genre classification are rare. |\n",
        "| **achievementid** | 0.69% | Likely an error or missing achievements, can be kept as NaN. |\n",
        "| **achievement_title** | 0.69% | Likely corresponds to missing achievementid, can be kept as NaN. |\n",
        "\n",
        "- **Action: Fill developers, publishers, and genres with \"unknown\", and leave missing achievements as NaN.**\n",
        "\n",
        "---\n",
        "\n",
        "**Columns with Moderate Missing Data (5% - 30%)**\n",
        "| Column | Missing % | Suggested Action |\n",
        "|---------|----------|-----------------|\n",
        "| **supported_languages** | 27.35% | Keep as NaN, since language availability is an actual missing feature. |\n",
        "\n",
        "- **Action: Keep supported_languages as NaN, since not all games support multiple languages. We don't want to introduce incorrect data.**\n",
        "\n",
        "---\n",
        "\n",
        "**Columns with High Missing Data (> 50%)**\n",
        "| Column | Missing % | Suggested Action |\n",
        "|---------|----------|-----------------|\n",
        "| **achievement_description** | 69.11% | Fill missing values with \"unknown\". |\n",
        "| **price** | 71.58% | Keep as NaN—missing prices could indicate unavailable data, regional limitations, or discontinued games. |\n",
        "\n",
        "**Action:**\n",
        "- **Fill achievement_description with \"No description available\"** to avoid empty fields.\n",
        "- **Keep price as NaN**, since forcing imputation could lead to inaccurate pricing."
      ]
    },
    {
      "cell_type": "code",
      "execution_count": 125,
      "metadata": {},
      "outputs": [
        {
          "name": "stderr",
          "output_type": "stream",
          "text": [
            "/var/folders/sd/5vy204s55_ggyjh65z1tlxg00000gn/T/ipykernel_43239/1875302043.py:2: FutureWarning: A value is trying to be set on a copy of a DataFrame or Series through chained assignment using an inplace method.\n",
            "The behavior will change in pandas 3.0. This inplace method will never work because the intermediate object on which we are setting values always behaves as a copy.\n",
            "\n",
            "For example, when doing 'df[col].method(value, inplace=True)', try using 'df.method({col: value}, inplace=True)' or df[col] = df[col].method(value) instead, to perform the operation inplace on the original object.\n",
            "\n",
            "\n",
            "  tidy_game_info[\"developers\"].fillna(\"unknown\", inplace=True)\n",
            "/var/folders/sd/5vy204s55_ggyjh65z1tlxg00000gn/T/ipykernel_43239/1875302043.py:3: FutureWarning: A value is trying to be set on a copy of a DataFrame or Series through chained assignment using an inplace method.\n",
            "The behavior will change in pandas 3.0. This inplace method will never work because the intermediate object on which we are setting values always behaves as a copy.\n",
            "\n",
            "For example, when doing 'df[col].method(value, inplace=True)', try using 'df.method({col: value}, inplace=True)' or df[col] = df[col].method(value) instead, to perform the operation inplace on the original object.\n",
            "\n",
            "\n",
            "  tidy_game_info[\"publishers\"].fillna(\"unknown\", inplace=True)\n",
            "/var/folders/sd/5vy204s55_ggyjh65z1tlxg00000gn/T/ipykernel_43239/1875302043.py:4: FutureWarning: A value is trying to be set on a copy of a DataFrame or Series through chained assignment using an inplace method.\n",
            "The behavior will change in pandas 3.0. This inplace method will never work because the intermediate object on which we are setting values always behaves as a copy.\n",
            "\n",
            "For example, when doing 'df[col].method(value, inplace=True)', try using 'df.method({col: value}, inplace=True)' or df[col] = df[col].method(value) instead, to perform the operation inplace on the original object.\n",
            "\n",
            "\n",
            "  tidy_game_info[\"genres\"].fillna(\"unknown\", inplace=True)\n",
            "/var/folders/sd/5vy204s55_ggyjh65z1tlxg00000gn/T/ipykernel_43239/1875302043.py:5: FutureWarning: A value is trying to be set on a copy of a DataFrame or Series through chained assignment using an inplace method.\n",
            "The behavior will change in pandas 3.0. This inplace method will never work because the intermediate object on which we are setting values always behaves as a copy.\n",
            "\n",
            "For example, when doing 'df[col].method(value, inplace=True)', try using 'df.method({col: value}, inplace=True)' or df[col] = df[col].method(value) instead, to perform the operation inplace on the original object.\n",
            "\n",
            "\n",
            "  tidy_game_info[\"achievement_description\"].fillna(\"unknown\", inplace=True)\n"
          ]
        }
      ],
      "source": [
        "# fill missing values for categorical text columns\n",
        "tidy_game_info[\"developers\"].fillna(\"unknown\", inplace=True)\n",
        "tidy_game_info[\"publishers\"].fillna(\"unknown\", inplace=True)\n",
        "tidy_game_info[\"genres\"].fillna(\"unknown\", inplace=True)\n",
        "tidy_game_info[\"achievement_description\"].fillna(\"unknown\", inplace=True)"
      ]
    },
    {
      "cell_type": "markdown",
      "metadata": {},
      "source": [
        "## 2. Multi-valued cols"
      ]
    },
    {
      "cell_type": "code",
      "execution_count": 126,
      "metadata": {},
      "outputs": [
        {
          "data": {
            "text/html": [
              "<div>\n",
              "<style scoped>\n",
              "    .dataframe tbody tr th:only-of-type {\n",
              "        vertical-align: middle;\n",
              "    }\n",
              "\n",
              "    .dataframe tbody tr th {\n",
              "        vertical-align: top;\n",
              "    }\n",
              "\n",
              "    .dataframe thead th {\n",
              "        text-align: right;\n",
              "    }\n",
              "</style>\n",
              "<table border=\"1\" class=\"dataframe\">\n",
              "  <thead>\n",
              "    <tr style=\"text-align: right;\">\n",
              "      <th></th>\n",
              "      <th>gameid</th>\n",
              "      <th>title</th>\n",
              "      <th>developers</th>\n",
              "      <th>publishers</th>\n",
              "      <th>genres</th>\n",
              "      <th>supported_languages</th>\n",
              "      <th>release_date</th>\n",
              "      <th>achievementid</th>\n",
              "      <th>achievement_title</th>\n",
              "      <th>achievement_description</th>\n",
              "      <th>platform</th>\n",
              "      <th>currency</th>\n",
              "      <th>price</th>\n",
              "    </tr>\n",
              "  </thead>\n",
              "  <tbody>\n",
              "    <tr>\n",
              "      <th>3595266</th>\n",
              "      <td>2301100</td>\n",
              "      <td>Reverie: Sweet As Edition</td>\n",
              "      <td>['Rainbite Ltd']</td>\n",
              "      <td>['Eastasiasoft Limited']</td>\n",
              "      <td>['Action', 'Adventure', 'Indie']</td>\n",
              "      <td>['English', 'French', 'German', 'Spanish - Spa...</td>\n",
              "      <td>2023-06-28</td>\n",
              "      <td>2301100_Snorkel</td>\n",
              "      <td>Ain't No River Wide Enough</td>\n",
              "      <td>Acquire the snorkel.</td>\n",
              "      <td>st</td>\n",
              "      <td>usd</td>\n",
              "      <td>6.49</td>\n",
              "    </tr>\n",
              "    <tr>\n",
              "      <th>12348987</th>\n",
              "      <td>2620210</td>\n",
              "      <td>Jinshin</td>\n",
              "      <td>['Exe Create Inc.']</td>\n",
              "      <td>['KEMCO']</td>\n",
              "      <td>['Adventure', 'RPG', 'Simulation', 'Strategy']</td>\n",
              "      <td>['English', 'Japanese']</td>\n",
              "      <td>2023-12-21</td>\n",
              "      <td>2620210_5</td>\n",
              "      <td>Onigami Kegare</td>\n",
              "      <td>unknown</td>\n",
              "      <td>st</td>\n",
              "      <td>gbp</td>\n",
              "      <td>13.49</td>\n",
              "    </tr>\n",
              "    <tr>\n",
              "      <th>20530077</th>\n",
              "      <td>494730</td>\n",
              "      <td>Galacticare</td>\n",
              "      <td>['Brightrock Games']</td>\n",
              "      <td>['CULT Games']</td>\n",
              "      <td>['Simulation', 'Strategy']</td>\n",
              "      <td>['English', 'French', 'German', 'Spanish - Spa...</td>\n",
              "      <td>2024-05-23</td>\n",
              "      <td>494730_bonus_mc2</td>\n",
              "      <td>Doc Idol</td>\n",
              "      <td>unknown</td>\n",
              "      <td>st</td>\n",
              "      <td>jpy</td>\n",
              "      <td>3110.00</td>\n",
              "    </tr>\n",
              "    <tr>\n",
              "      <th>10895556</th>\n",
              "      <td>220820</td>\n",
              "      <td>Zombie Driver HD</td>\n",
              "      <td>['Exor Studios']</td>\n",
              "      <td>['Exor Studios']</td>\n",
              "      <td>['Action', 'Indie', 'Racing']</td>\n",
              "      <td>['English', 'French', 'German', 'Italian', 'Po...</td>\n",
              "      <td>2012-10-17</td>\n",
              "      <td>220820_kill_zombies_watercannon</td>\n",
              "      <td>It's not a weapon</td>\n",
              "      <td>Kill 100 zombies with a watercannon in one mis...</td>\n",
              "      <td>st</td>\n",
              "      <td>eur</td>\n",
              "      <td>1.99</td>\n",
              "    </tr>\n",
              "    <tr>\n",
              "      <th>25278535</th>\n",
              "      <td>444930</td>\n",
              "      <td>Zaccaria Pinball</td>\n",
              "      <td>['Magic Pixel Kft.']</td>\n",
              "      <td>['Magic Pixel Kft.']</td>\n",
              "      <td>['Action', 'Casual', 'Free To Play', 'Indie', ...</td>\n",
              "      <td>['English']</td>\n",
              "      <td>2016-06-16</td>\n",
              "      <td>444930_ACH_A_SPEEDKING_CHALLENGE_SILVER</td>\n",
              "      <td>Speed King - Challenge Silver</td>\n",
              "      <td>Collect 6 points in Challenge game mode on Spe...</td>\n",
              "      <td>st</td>\n",
              "      <td>rub</td>\n",
              "      <td>NaN</td>\n",
              "    </tr>\n",
              "  </tbody>\n",
              "</table>\n",
              "</div>"
            ],
            "text/plain": [
              "           gameid                      title            developers  \\\n",
              "3595266   2301100  Reverie: Sweet As Edition      ['Rainbite Ltd']   \n",
              "12348987  2620210                    Jinshin   ['Exe Create Inc.']   \n",
              "20530077   494730                Galacticare  ['Brightrock Games']   \n",
              "10895556   220820           Zombie Driver HD      ['Exor Studios']   \n",
              "25278535   444930           Zaccaria Pinball  ['Magic Pixel Kft.']   \n",
              "\n",
              "                        publishers  \\\n",
              "3595266   ['Eastasiasoft Limited']   \n",
              "12348987                 ['KEMCO']   \n",
              "20530077            ['CULT Games']   \n",
              "10895556          ['Exor Studios']   \n",
              "25278535      ['Magic Pixel Kft.']   \n",
              "\n",
              "                                                     genres  \\\n",
              "3595266                    ['Action', 'Adventure', 'Indie']   \n",
              "12348987     ['Adventure', 'RPG', 'Simulation', 'Strategy']   \n",
              "20530077                         ['Simulation', 'Strategy']   \n",
              "10895556                      ['Action', 'Indie', 'Racing']   \n",
              "25278535  ['Action', 'Casual', 'Free To Play', 'Indie', ...   \n",
              "\n",
              "                                        supported_languages release_date  \\\n",
              "3595266   ['English', 'French', 'German', 'Spanish - Spa...   2023-06-28   \n",
              "12348987                            ['English', 'Japanese']   2023-12-21   \n",
              "20530077  ['English', 'French', 'German', 'Spanish - Spa...   2024-05-23   \n",
              "10895556  ['English', 'French', 'German', 'Italian', 'Po...   2012-10-17   \n",
              "25278535                                        ['English']   2016-06-16   \n",
              "\n",
              "                                    achievementid  \\\n",
              "3595266                           2301100_Snorkel   \n",
              "12348987                                2620210_5   \n",
              "20530077                         494730_bonus_mc2   \n",
              "10895556          220820_kill_zombies_watercannon   \n",
              "25278535  444930_ACH_A_SPEEDKING_CHALLENGE_SILVER   \n",
              "\n",
              "                      achievement_title  \\\n",
              "3595266      Ain't No River Wide Enough   \n",
              "12348987                 Onigami Kegare   \n",
              "20530077                       Doc Idol   \n",
              "10895556              It's not a weapon   \n",
              "25278535  Speed King - Challenge Silver   \n",
              "\n",
              "                                    achievement_description platform currency  \\\n",
              "3595266                                Acquire the snorkel.       st      usd   \n",
              "12348987                                            unknown       st      gbp   \n",
              "20530077                                            unknown       st      jpy   \n",
              "10895556  Kill 100 zombies with a watercannon in one mis...       st      eur   \n",
              "25278535  Collect 6 points in Challenge game mode on Spe...       st      rub   \n",
              "\n",
              "            price  \n",
              "3595266      6.49  \n",
              "12348987    13.49  \n",
              "20530077  3110.00  \n",
              "10895556     1.99  \n",
              "25278535      NaN  "
            ]
          },
          "execution_count": 126,
          "metadata": {},
          "output_type": "execute_result"
        }
      ],
      "source": [
        "tidy_game_info.sample(5)"
      ]
    },
    {
      "cell_type": "code",
      "execution_count": 127,
      "metadata": {},
      "outputs": [
        {
          "data": {
            "text/plain": [
              "title\n",
              "Zaccaria Pinball                          1084700\n",
              "PAYDAY 2                                   299670\n",
              "Assetto Corsa                              160775\n",
              "The Binding of Isaac: Rebirth              146980\n",
              "Idle Champions of the Forgotten Realms     141540\n",
              "                                           ...   \n",
              "Alice Sisters                                 405\n",
              "Baldur's Gate: Dark Alliance                  375\n",
              "Action SuperCross                             365\n",
              "Star99                                        365\n",
              "Skelattack                                    365\n",
              "Name: count, Length: 3466, dtype: int64"
            ]
          },
          "execution_count": 127,
          "metadata": {},
          "output_type": "execute_result"
        }
      ],
      "source": [
        "tidy_game_info['title'].value_counts()"
      ]
    },
    {
      "cell_type": "markdown",
      "metadata": {},
      "source": [
        "#### Handling Multi-Valued Columns in Our Dataset [Used GPT-4o for tailoring grammar]\n",
        "\n",
        "Our dataset contains multi-valued columns such as `developers`, `publishers`, `genres`, and `supported_languages`, which are stored as **list-like strings**. Instead of immediately expanding them into multiple rows (long format) or separate columns (one-hot encoding), we are **keeping them in their original format** for the following reasons:\n",
        "\n",
        "1. **Data Integrity & Storage Efficiency**  \n",
        "   - Expanding these fields would significantly increase row count, making storage and initial processing heavier.\n",
        "   - Keeping them as lists allows us to preserve all information within a single row per game.\n",
        "\n",
        "2. **Flexibility for Future Analysis**  \n",
        "   - At later stages, we may **apply one-hot encoding** to `genres` and `supported_languages` for categorical analysis.  \n",
        "   - Alternatively, we can derive **summary features** such as:\n",
        "     - **Number of genres per game**\n",
        "     - **Number of supported languages**\n",
        "     - **Unique count of developers/publishers**\n",
        "   - These derived features will allow for a more structured comparison across games.\n",
        "\n",
        "By postponing transformation, we maintain efficiency while keeping the option open for structured feature extraction when needed.\n"
      ]
    },
    {
      "cell_type": "code",
      "execution_count": 128,
      "metadata": {},
      "outputs": [],
      "source": [
        "# tidy_game_info_noids = tidy_game_info.drop(columns=['gameid', 'achievementid'], inplace=True)"
      ]
    },
    {
      "cell_type": "markdown",
      "metadata": {},
      "source": [
        "## More notes on further merging\n",
        "\n",
        "Our current **tidy dataset** focuses solely on game-related information. To enrich the analysis, we plan additional merges with player data to uncover insights about game popularity, completion rates, and player demographics.\n",
        "\n",
        "### Planned Merges & Insights\n",
        "1. **Game Popularity Analysis**  \n",
        "   - Merge with `purchased_games.csv` (for each platform) to **count the number of players who own each game**.\n",
        "   - This helps identify **best-selling games** and platform-specific purchase trends.\n",
        "\n",
        "2. **Game Completion Rates**  \n",
        "   - Merge with `history.csv` to **track when players earn end-game achievements**.\n",
        "   - Calculate the **average time to completion** and **percentage of players finishing a game**.\n",
        "   - Investigate if certain **genres have higher completion rates** (e.g., RPGs vs. casual games).\n",
        "  \n",
        "3. **Pricing & Sales Relationship:**  \n",
        "   - Merge `prices.csv` to analyze how **price fluctuations impact purchases**.\n",
        "  \n",
        "4. **Cross-Platform Player Behavior:**  \n",
        "   - Identify players who own **the same game across multiple platforms** to study cross-platform engagement.\n",
        "   - Merge with `players.csv` and **cluster by country** to analyze **regional gaming preferences**.\n"
      ]
    },
    {
      "cell_type": "markdown",
      "metadata": {
        "id": "OclGBxfoQVPc"
      },
      "source": [
        "## [TODO] Data Visualization\n",
        "> Be sure to include interpretations of your visualizations -- what patterns or anomalies do you see?\n"
      ]
    },
    {
      "cell_type": "markdown",
      "metadata": {},
      "source": [
        "###  Player Engagement Visualization: player-game-achievement"
      ]
    },
    {
      "cell_type": "code",
      "execution_count": 129,
      "metadata": {},
      "outputs": [
        {
          "ename": "SyntaxError",
          "evalue": "invalid syntax (3815978410.py, line 6)",
          "output_type": "error",
          "traceback": [
            "\u001b[0;36m  Cell \u001b[0;32mIn[129], line 6\u001b[0;36m\u001b[0m\n\u001b[0;31m    player_game_achievement =\u001b[0m\n\u001b[0m                              ^\u001b[0m\n\u001b[0;31mSyntaxError\u001b[0m\u001b[0;31m:\u001b[0m invalid syntax\n"
          ]
        }
      ],
      "source": [
        "# Top 50 most popular games\n",
        "# active players\n",
        "# Top 50 most popular achievements\n",
        "\n",
        "\n",
        "player_game_achievement = \n",
        "# how many achievements a player unlocked per game\n",
        "\n",
        "# Group data to count achievements per player per game\n",
        "agg_data = ps_player_info.groupby([\"playerid\", \"gameid\"])[\"achievementid\"].count().reset_index()\n",
        "agg_data.rename(columns={\"achievementid\": \"achievements_unlocked\"}, inplace=True)\n",
        "\n",
        "# Sample a subset (e.g., 10K rows) for visualization\n",
        "sample_data = agg_data.sample(10000, random_state=42)"
      ]
    }
  ],
  "metadata": {
    "colab": {
      "provenance": []
    },
    "kernelspec": {
      "display_name": ".venv",
      "language": "python",
      "name": "python3"
    },
    "language_info": {
      "codemirror_mode": {
        "name": "ipython",
        "version": 3
      },
      "file_extension": ".py",
      "mimetype": "text/x-python",
      "name": "python",
      "nbconvert_exporter": "python",
      "pygments_lexer": "ipython3",
      "version": "3.11.9"
    }
  },
  "nbformat": 4,
  "nbformat_minor": 0
}
