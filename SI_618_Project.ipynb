{
  "cells": [
    {
      "cell_type": "markdown",
      "metadata": {
        "id": "yfPJRLpyQTnG"
      },
      "source": [
        "# SI 618 WN Project Part I"
      ]
    },
    {
      "cell_type": "markdown",
      "metadata": {
        "id": "WN3jWuTDQjpX"
      },
      "source": [
        "## Project Title:\n",
        "> Provide a descriptive working title for your project.\n",
        "\n",
        "**Game Sales, Popularity, and Achievements: A Comparative Analysis Across Platforms**"
      ]
    },
    {
      "cell_type": "markdown",
      "metadata": {
        "id": "raGqyFicQ4Zw"
      },
      "source": [
        "## Team Members\n",
        "> List each team member and include their uniqname\n",
        "\n",
        "* Yufeng Song (yfsong)\n",
        "* Ziqi Wang (Venchy)\n",
        "* Muyu Lin (linmuyu)"
      ]
    },
    {
      "cell_type": "markdown",
      "metadata": {
        "id": "QcquQf5KQ_X7"
      },
      "source": [
        "## Overview\n",
        "> Give a high level description of your project\n",
        "\n",
        "Our project explores key trends in the gaming industry by analyzing data on game sales, player achievements, and platform preferences. We aim to understand how the same game performs across different platforms, how purchasing preferences vary across countries, and how game popularity evolves over time. Additionally, we will investigate the relationship between supported languages and sales, as well as the impact of pricing on game popularity across multiple platforms. By analyzing these factors, we hope to uncover insights into player behavior, market trends, and factors influencing game success."
      ]
    },
    {
      "cell_type": "markdown",
      "metadata": {
        "id": "x9oLjLuaREDo"
      },
      "source": [
        "## Motivation\n",
        "> Explain why you chose this particular topic for your project.\tInclude the three \"real-world\" questions that you generated about the data, and be sure to explain what you hope to learn by answering them.\n",
        "\n",
        "We chose this topic because gaming is a massive industry with a highly diverse audience, and understanding player preferences and market trends can provide valuable insights for developers, publishers, and gaming communities. Our project aims to answer the following real-world questions:\n",
        "\n",
        "1. **How do game genres, game pricing, and in-game achievements differ across platforms for the same game?**\n",
        "\n",
        "  - By analyzing achievement data, we aim to understand whether players engage with a game differently depending on the platform they use. This could reveal differences in play styles, game difficulty adjustments, or platform-specific engagement trends.\n",
        "\n",
        "2. **How do game purchase preferences vary by country?**\n",
        "\n",
        "  - We seek to determine whether purchasing behaviors differ based on regional preferences. Understanding this can help developers tailor their marketing strategies and optimize game pricing for different audiences.\n",
        "\n",
        "3. **How has the popularity of different game types changed over time (`release_date`)?**\n",
        "\n",
        "  - By tracking shifts in game genre popularity over time, we hope to uncover trends that indicate the rise and fall of specific genres. This insight could be useful for predicting future market demands and guiding game development strategies.\n",
        "\n",
        "\n",
        "By answering these questions, we hope to gain a deeper understanding of the gaming landscape, helping stakeholders make data-driven decisions about game development, pricing, and distribution strategies."
      ]
    },
    {
      "cell_type": "markdown",
      "metadata": {
        "id": "K7C9NO8rRJVm"
      },
      "source": [
        "## Data Sources\n",
        "> List the two (or more) sources of data that you'll be using.  Provide URLs where appropriate.\t**Explain how the two (or more) datasets complement each other.**\n",
        "\n",
        "1. https://www.kaggle.com/datasets/artyomkruglov/gaming-profiles-2025-steam-playstation-xbox\n",
        "\n",
        "2. https://github.com/Smipe-a/gamestatshub\n",
        "\n",
        "- This Gaming Profiles Data from Kaggle include **game** and **player** data from three different **platforms**, PlayStation, Steam, and Xbox.\n",
        "- For each platform, the **player** and **game** data is complemented by **achievement** data. The relationships between players, games, and achievements are one-to-many: each player can play multiple games, and each game can have multiple achievements.\n",
        "- Data from the three platforms can be combined based on **game titles** to analyze shared games across platforms."
      ]
    },
    {
      "cell_type": "markdown",
      "metadata": {
        "id": "0YtT1IrhRNua"
      },
      "source": [
        "## Data Description\n",
        "> List the variables of interest, the size of the data sets, missing values, etc.\n",
        "\n",
        "### Common Datasets Across 3 Platforms & Variables of Interest:\n",
        "\n",
        "#### Player Metadata\n",
        "- **players.csv**: platform-specific `playerid` and `country` (Xbox data lacks country column)\n",
        "- **purchased_games.csv** lists players' purchased games, with:\n",
        "    - `playerid`\n",
        "    - `libarary`: a list of games the player bought.\n",
        "- **history.csv**: when the player unlocked the achievement.\n",
        "    - `playerid`\n",
        "    - `achievementid`\n",
        "    - `date_acquired`\n",
        "\n",
        "#### Game Metadata\n",
        "- **games.csv**: game details such as `genres`, `developers`, `publishers`, `supported_language`, and `release_date`.\n",
        "- **achievements.csv** maps achievements to their respective game, with:\n",
        "    - `achievementid` combines the uniqe game id on the platform and the achievement id within the game\n",
        "    - `gameid`\n",
        "    - `title`\n",
        "    - `description`\n",
        "- **prices.csv**: games' price in various currencies, with `date_acquired` indicating the date when the price was recorded."
      ]
    },
    {
      "cell_type": "markdown",
      "metadata": {
        "id": "E5HpR2qjRRle"
      },
      "source": [
        "## Data Manipulation\n",
        "> Mostly code in this section.  This is where you merge your data sets, as well as create new columns (if appropriate)\n",
        "\n",
        "#### Merged Datasets Explained - Flattened Table For Raw Analysis\n",
        "- Platform-Specific Datasets:\n",
        "    - Player-Info Dataset: merged on `playerid`\n",
        "    - Game-Info Dataset: merged on `gameid`\n",
        "- Cross-Platform Game Dataset: merged on game `title` to combine shared game data from all three platforms.\n",
        "\n",
        "**Notes**: \n",
        "- In all the merged datasets, there are duplicated gameid/playerid after merge due to the one-to-many relationship between players, games, and achievements. \n",
        "- In the corss-platform game table, there are duplicated game titles across platforms."
      ]
    },
    {
      "cell_type": "code",
      "execution_count": null,
      "metadata": {
        "id": "lUJY9fwwQVGD"
      },
      "outputs": [],
      "source": [
        "import pandas as pd\n",
        "import numpy as np\n",
        "import matplotlib.pyplot as plt\n",
        "import seaborn as sns"
      ]
    },
    {
      "cell_type": "markdown",
      "metadata": {},
      "source": [
        "## PS"
      ]
    },
    {
      "cell_type": "code",
      "execution_count": 1,
      "metadata": {},
      "outputs": [
        {
          "ename": "NameError",
          "evalue": "name 'pd' is not defined",
          "output_type": "error",
          "traceback": [
            "\u001b[1;31m---------------------------------------------------------------------------\u001b[0m",
            "\u001b[1;31mNameError\u001b[0m                                 Traceback (most recent call last)",
            "Cell \u001b[1;32mIn[1], line 12\u001b[0m\n\u001b[0;32m     10\u001b[0m             file_path \u001b[38;5;241m=\u001b[39m os\u001b[38;5;241m.\u001b[39mpath\u001b[38;5;241m.\u001b[39mjoin(root, file)\n\u001b[0;32m     11\u001b[0m             df_name \u001b[38;5;241m=\u001b[39m \u001b[38;5;124mf\u001b[39m\u001b[38;5;124m\"\u001b[39m\u001b[38;5;132;01m{\u001b[39;00mos\u001b[38;5;241m.\u001b[39mpath\u001b[38;5;241m.\u001b[39mbasename(root)\u001b[38;5;132;01m}\u001b[39;00m\u001b[38;5;124m_\u001b[39m\u001b[38;5;132;01m{\u001b[39;00mfile\u001b[38;5;241m.\u001b[39mreplace(\u001b[38;5;124m'\u001b[39m\u001b[38;5;124m.csv\u001b[39m\u001b[38;5;124m'\u001b[39m,\u001b[38;5;250m \u001b[39m\u001b[38;5;124m'\u001b[39m\u001b[38;5;124m'\u001b[39m)\u001b[38;5;132;01m}\u001b[39;00m\u001b[38;5;124m\"\u001b[39m\u001b[38;5;241m.\u001b[39mreplace(\u001b[38;5;124m'\u001b[39m\u001b[38;5;124m.csv\u001b[39m\u001b[38;5;124m'\u001b[39m, \u001b[38;5;124m'\u001b[39m\u001b[38;5;124m'\u001b[39m)  \u001b[38;5;66;03m# Clean name\u001b[39;00m\n\u001b[1;32m---> 12\u001b[0m             dfs[df_name] \u001b[38;5;241m=\u001b[39m \u001b[43mpd\u001b[49m\u001b[38;5;241m.\u001b[39mread_csv(file_path)\n\u001b[0;32m     14\u001b[0m \u001b[38;5;28;01mfor\u001b[39;00m name, df \u001b[38;5;129;01min\u001b[39;00m dfs\u001b[38;5;241m.\u001b[39mitems():\n\u001b[0;32m     15\u001b[0m     \u001b[38;5;28mprint\u001b[39m(\u001b[38;5;124mf\u001b[39m\u001b[38;5;124m\"\u001b[39m\u001b[38;5;132;01m{\u001b[39;00mname\u001b[38;5;132;01m}\u001b[39;00m\u001b[38;5;124m - shape: \u001b[39m\u001b[38;5;132;01m{\u001b[39;00mdf\u001b[38;5;241m.\u001b[39mshape\u001b[38;5;132;01m}\u001b[39;00m\u001b[38;5;124m\"\u001b[39m)\n",
            "\u001b[1;31mNameError\u001b[0m: name 'pd' is not defined"
          ]
        }
      ],
      "source": [
        "import os\n",
        "\n",
        "PS_DATA_FOLDER = \"data/ps\"\n",
        "\n",
        "dfs = {}\n",
        "\n",
        "for root, dirs, files in os.walk(PS_DATA_FOLDER):\n",
        "    for file in files:\n",
        "        if file.endswith(\".csv\"):\n",
        "            file_path = os.path.join(root, file)\n",
        "            df_name = f\"{os.path.basename(root)}_{file.replace('.csv', '')}\".replace('.csv', '')  # Clean name\n",
        "            dfs[df_name] = pd.read_csv(file_path)\n",
        "\n",
        "for name, df in dfs.items():\n",
        "    print(f\"{name} - shape: {df.shape}\")"
      ]
    },
    {
      "cell_type": "code",
      "execution_count": null,
      "metadata": {},
      "outputs": [
        {
          "name": "stdout",
          "output_type": "stream",
          "text": [
            "0\n",
            "32095\n",
            "0\n",
            "0\n",
            "0\n"
          ]
        }
      ],
      "source": [
        "ps_achievements = dfs['ps_achievements']\n",
        "ps_games = dfs['ps_games']\n",
        "ps_history = dfs['ps_history']\n",
        "ps_players = dfs['ps_players']\n",
        "ps_prices = dfs['ps_prices']\n",
        "ps_purchased_games = dfs['ps_purchased_games']\n",
        "\n",
        "# check duplicates\n",
        "print(ps_games.duplicated(subset=[\"gameid\"]).sum())\n",
        "print(ps_prices.duplicated(subset=[\"gameid\"]).sum())\n",
        "print(ps_achievements.duplicated(subset=[\"achievementid\"]).sum())\n",
        "print(ps_players.duplicated(subset=[\"playerid\"]).sum())\n",
        "print(ps_purchased_games.duplicated(subset=[\"playerid\"]).sum())"
      ]
    },
    {
      "cell_type": "code",
      "execution_count": null,
      "metadata": {},
      "outputs": [
        {
          "data": {
            "text/plain": [
              "gameid\n",
              "342       3\n",
              "711132    3\n",
              "350       3\n",
              "335       3\n",
              "343       3\n",
              "         ..\n",
              "749095    2\n",
              "749279    2\n",
              "747763    2\n",
              "749891    2\n",
              "423969    2\n",
              "Name: count, Length: 30721, dtype: int64"
            ]
          },
          "execution_count": 4,
          "metadata": {},
          "output_type": "execute_result"
        }
      ],
      "source": [
        "ps_prices['gameid'].value_counts()"
      ]
    },
    {
      "cell_type": "code",
      "execution_count": null,
      "metadata": {},
      "outputs": [
        {
          "data": {
            "application/vnd.microsoft.datawrangler.viewer.v0+json": {
              "columns": [
                {
                  "name": "index",
                  "rawType": "int64",
                  "type": "integer"
                },
                {
                  "name": "gameid",
                  "rawType": "int64",
                  "type": "integer"
                },
                {
                  "name": "usd",
                  "rawType": "float64",
                  "type": "float"
                },
                {
                  "name": "eur",
                  "rawType": "float64",
                  "type": "float"
                },
                {
                  "name": "gbp",
                  "rawType": "float64",
                  "type": "float"
                },
                {
                  "name": "jpy",
                  "rawType": "float64",
                  "type": "float"
                },
                {
                  "name": "rub",
                  "rawType": "float64",
                  "type": "float"
                },
                {
                  "name": "date_acquired",
                  "rawType": "object",
                  "type": "string"
                }
              ],
              "conversionMethod": "pd.DataFrame",
              "ref": "bad13551-5b9b-4689-ae01-7ac8ecd149af",
              "rows": [
                [
                  "20167",
                  "726666",
                  "6.99",
                  "6.99",
                  "5.79",
                  "1100.0",
                  null,
                  "2025-02-22"
                ],
                [
                  "50835",
                  "726666",
                  "6.99",
                  "6.99",
                  "5.79",
                  "1100.0",
                  null,
                  "2025-02-25"
                ],
                [
                  "52307",
                  "726666",
                  "6.99",
                  "6.99",
                  "5.79",
                  "1100.0",
                  null,
                  "2025-02-24"
                ]
              ],
              "shape": {
                "columns": 7,
                "rows": 3
              }
            },
            "text/html": [
              "<div>\n",
              "<style scoped>\n",
              "    .dataframe tbody tr th:only-of-type {\n",
              "        vertical-align: middle;\n",
              "    }\n",
              "\n",
              "    .dataframe tbody tr th {\n",
              "        vertical-align: top;\n",
              "    }\n",
              "\n",
              "    .dataframe thead th {\n",
              "        text-align: right;\n",
              "    }\n",
              "</style>\n",
              "<table border=\"1\" class=\"dataframe\">\n",
              "  <thead>\n",
              "    <tr style=\"text-align: right;\">\n",
              "      <th></th>\n",
              "      <th>gameid</th>\n",
              "      <th>usd</th>\n",
              "      <th>eur</th>\n",
              "      <th>gbp</th>\n",
              "      <th>jpy</th>\n",
              "      <th>rub</th>\n",
              "      <th>date_acquired</th>\n",
              "    </tr>\n",
              "  </thead>\n",
              "  <tbody>\n",
              "    <tr>\n",
              "      <th>20167</th>\n",
              "      <td>726666</td>\n",
              "      <td>6.99</td>\n",
              "      <td>6.99</td>\n",
              "      <td>5.79</td>\n",
              "      <td>1100.0</td>\n",
              "      <td>NaN</td>\n",
              "      <td>2025-02-22</td>\n",
              "    </tr>\n",
              "    <tr>\n",
              "      <th>50835</th>\n",
              "      <td>726666</td>\n",
              "      <td>6.99</td>\n",
              "      <td>6.99</td>\n",
              "      <td>5.79</td>\n",
              "      <td>1100.0</td>\n",
              "      <td>NaN</td>\n",
              "      <td>2025-02-25</td>\n",
              "    </tr>\n",
              "    <tr>\n",
              "      <th>52307</th>\n",
              "      <td>726666</td>\n",
              "      <td>6.99</td>\n",
              "      <td>6.99</td>\n",
              "      <td>5.79</td>\n",
              "      <td>1100.0</td>\n",
              "      <td>NaN</td>\n",
              "      <td>2025-02-24</td>\n",
              "    </tr>\n",
              "  </tbody>\n",
              "</table>\n",
              "</div>"
            ],
            "text/plain": [
              "       gameid   usd   eur   gbp     jpy  rub date_acquired\n",
              "20167  726666  6.99  6.99  5.79  1100.0  NaN    2025-02-22\n",
              "50835  726666  6.99  6.99  5.79  1100.0  NaN    2025-02-25\n",
              "52307  726666  6.99  6.99  5.79  1100.0  NaN    2025-02-24"
            ]
          },
          "execution_count": 5,
          "metadata": {},
          "output_type": "execute_result"
        }
      ],
      "source": [
        "ps_prices[ps_prices['gameid'] == 726666]"
      ]
    },
    {
      "cell_type": "code",
      "execution_count": null,
      "metadata": {},
      "outputs": [
        {
          "name": "stdout",
          "output_type": "stream",
          "text": [
            "0\n"
          ]
        }
      ],
      "source": [
        "# for each gameid, keep only the most recent price entry\n",
        "ps_prices = ps_prices.sort_values(\"date_acquired\").drop_duplicates(subset=[\"gameid\"], keep=\"last\")\n",
        "print(ps_prices.duplicated(subset=[\"gameid\"]).sum())"
      ]
    },
    {
      "cell_type": "markdown",
      "metadata": {},
      "source": [
        "### Player focus"
      ]
    },
    {
      "cell_type": "code",
      "execution_count": null,
      "metadata": {},
      "outputs": [],
      "source": [
        "ps_player_info = ps_players.merge(ps_history, on=\"playerid\", how=\"left\")"
      ]
    },
    {
      "cell_type": "code",
      "execution_count": null,
      "metadata": {},
      "outputs": [],
      "source": [
        "ps_player_info = ps_player_info.merge(ps_achievements, on=\"achievementid\", how=\"left\")"
      ]
    },
    {
      "cell_type": "code",
      "execution_count": null,
      "metadata": {},
      "outputs": [],
      "source": [
        "ps_player_info = ps_player_info.merge(ps_purchased_games, on=\"playerid\", how=\"left\")"
      ]
    },
    {
      "cell_type": "code",
      "execution_count": null,
      "metadata": {},
      "outputs": [
        {
          "name": "stdout",
          "output_type": "stream",
          "text": [
            "<class 'pandas.core.frame.DataFrame'>\n",
            "RangeIndex: 19861683 entries, 0 to 19861682\n",
            "Data columns (total 10 columns):\n",
            " #   Column         Dtype  \n",
            "---  ------         -----  \n",
            " 0   playerid       int64  \n",
            " 1   nickname       object \n",
            " 2   country        object \n",
            " 3   achievementid  object \n",
            " 4   date_acquired  object \n",
            " 5   gameid         float64\n",
            " 6   title          object \n",
            " 7   description    object \n",
            " 8   rarity         object \n",
            " 9   library        object \n",
            "dtypes: float64(1), int64(1), object(8)\n",
            "memory usage: 1.5+ GB\n"
          ]
        }
      ],
      "source": [
        "ps_player_info.info()"
      ]
    },
    {
      "cell_type": "code",
      "execution_count": null,
      "metadata": {},
      "outputs": [
        {
          "data": {
            "application/vnd.microsoft.datawrangler.viewer.v0+json": {
              "columns": [
                {
                  "name": "index",
                  "rawType": "int64",
                  "type": "integer"
                },
                {
                  "name": "playerid",
                  "rawType": "int64",
                  "type": "integer"
                },
                {
                  "name": "nickname",
                  "rawType": "object",
                  "type": "string"
                },
                {
                  "name": "country",
                  "rawType": "object",
                  "type": "string"
                },
                {
                  "name": "achievementid",
                  "rawType": "object",
                  "type": "string"
                },
                {
                  "name": "date_acquired",
                  "rawType": "object",
                  "type": "string"
                },
                {
                  "name": "gameid",
                  "rawType": "float64",
                  "type": "float"
                },
                {
                  "name": "title",
                  "rawType": "object",
                  "type": "string"
                },
                {
                  "name": "description",
                  "rawType": "object",
                  "type": "string"
                },
                {
                  "name": "rarity",
                  "rawType": "object",
                  "type": "string"
                },
                {
                  "name": "library",
                  "rawType": "object",
                  "type": "string"
                }
              ],
              "conversionMethod": "pd.DataFrame",
              "ref": "0f559b2a-62d0-4242-a742-f39010043e2b",
              "rows": [
                [
                  "1055394",
                  "2485505",
                  "BadAkantor",
                  "Canada",
                  "3366_47129",
                  "2013-08-18 20:41:25",
                  "3366.0",
                  "Break the Dan",
                  "Destroy the Snowman at Qwark's Hideout",
                  "Bronze",
                  "[721802, 690824, 650140, 702257, 165340, 20436, 9277, 626776, 616495, 7883, 13943, 613827, 192040, 607575, 591550, 423969, 602287, 583867, 618782, 525487, 551947, 687119, 701401, 337247, 603808, 330024, 690608, 7690, 417778, 417404, 560235, 424609, 627206, 696128, 420539, 638157, 456978, 690761, 567797, 629004, 438234, 631693, 674137, 686104, 159489, 587270, 586348, 497722, 670209, 578499, 12750, 660008, 390855, 597517, 602666, 7429, 8472, 427065, 443516, 19492, 643791, 595255, 657301, 545565, 503972, 502753, 17463, 465410, 442118, 453178, 168143, 578140, 453967, 442017, 648126, 647576, 182258, 182691, 9652, 13339, 14253, 329256, 549515, 14302, 629846, 435558, 8595, 569095, 386588, 15321, 384923, 452329, 525426, 175114, 583652, 575517, 417799, 517280, 14972, 330598, 493702, 456089, 15072, 505051, 468602, 175664, 612544, 458917, 7689, 460426, 607858, 615811, 458915, 421149, 500179, 514034, 523064, 423949, 385285, 588793, 433527, 148957, 174405, 541641, 553231, 510512, 450619, 447119, 417785, 496733, 426311, 555866, 560548, 581775, 545116, 559552, 138931, 195893, 159503, 447652, 9459, 578465, 374399, 7085, 917, 434260, 424835, 328918, 8488, 167756, 193357, 384276, 428816, 551687, 337569, 337260, 10995, 183006, 167482, 420827, 518699, 491546, 520390, 13509, 159494, 494117, 402944, 472107, 439165, 555784, 492542, 481242, 160174, 458336, 404381, 15967, 18143, 169605, 5308, 8832, 427963, 359911, 370522, 337271, 185463, 4844, 438706, 456438, 520502, 16085, 6731, 514719, 9064, 24295, 451417, 489179, 434803, 394080, 393321, 435172, 487149, 136615, 24125, 333023, 23463, 386189, 393900, 395116, 427668, 177458, 23439, 456032, 447150, 17528, 430192, 337004, 13602, 417922, 359879, 333216, 417789, 464771, 17617, 462182, 12051, 440433, 166783, 3969, 10022, 427319, 19843, 5341, 10164, 11467, 9865, 171192, 360166, 18932, 464353, 417780, 5980, 10891, 12572, 444901, 403080, 386820, 158018, 331421, 24342, 17538, 195852, 191983, 429198, 437274, 335365, 386396, 17501, 193331, 10020, 177359, 137629, 337640, 388131, 10340, 329310, 18814, 163998, 336979, 577, 457, 47, 792, 15, 3423, 3692, 314, 8442, 12463, 3229, 298, 177201, 372449, 15524, 191831, 333110, 185459, 16063, 330727, 195514, 6740, 238, 333108, 331026, 333762, 169700, 333127, 167648, 3231, 9479, 20466, 143892, 15120, 159831, 174790, 177460, 11570, 182788, 7228, 138096, 138722, 138723, 157247, 12746, 10616, 14693, 6168, 6567, 8052, 8718, 170768, 163258, 337701, 24360, 385351, 384328, 386019, 11928, 7501, 190621, 19197, 16029, 191982, 18871, 17681, 333860, 14353, 11557, 17061, 181476, 159056, 181873, 166848, 175202, 8619, 138763, 189554, 14860, 12834, 20794, 165811, 7780, 333808, 20684, 11154, 13953, 135354, 188961, 176737, 16145, 14491, 165018, 165015, 18154, 165017, 18944, 16508, 136568, 17308, 24350, 14465, 176538, 11393, 167438, 138663, 17200, 12618, 138942, 12579, 11552, 10638, 12140, 20180, 11933, 11490, 135259, 142968, 12215, 17125, 20400, 9409, 6761, 20725, 17630, 24418, 17142, 11625, 17775, 12371, 6185, 7404, 14147, 18950, 19818, 239, 17087, 7183, 12558, 16412, 11013, 14252, 9130, 10329, 9285, 12229, 14343, 8209, 12369, 11167, 13823, 17819, 9103, 18233, 14401, 17208, 12934, 14062, 7184, 13410, 14793, 8208, 15572, 17244, 17757, 7582, 12317, 14079, 10399, 11737, 6541, 8152, 6309, 7465, 873, 8965, 9909, 8580, 12037, 8161, 14262, 8568, 11017, 8715, 10455, 10190, 11735, 8261, 8600, 11344, 9798, 10465, 10101, 10939, 11662, 9014, 10327, 9936, 7629, 6496, 321, 10510, 12614, 11736, 8964, 7185, 7138, 7887, 878, 157, 3814, 5635, 127, 2970, 892, 3433, 606, 1039, 7557, 5507, 663, 3760, 3839, 923, 163, 463, 6396, 184, 129, 3717, 566, 5259, 656, 8515, 653, 7541, 8237, 2935, 982, 4774, 4776, 6274, 8906, 7190, 9524, 6150, 10021, 3613, 3658, 6949, 5462, 5699, 7821, 3112, 179, 4943, 5697, 4763, 852, 9473, 9204, 58, 6025, 5220, 7313, 7445, 6, 7396, 5208, 6671, 6994, 6223, 5761, 178, 4894, 8008, 4770, 1021, 458, 6055, 3715, 3652, 1036, 3653, 3924, 6398, 4955, 5882, 6046, 5880, 3049, 732, 3563, 5505, 3468, 3671, 3670, 6056, 5338, 57, 5256, 600, 2, 73, 3375, 30, 788, 789, 751, 2926, 5409, 662, 3968, 3612, 5219, 4994, 3879, 4938, 5003, 7, 749, 4961, 5223, 625, 3947, 4818, 3326, 5125, 3636, 3424, 793, 51, 3873, 3859, 437, 3047, 469, 3056, 3366, 3287, 3274, 966, 3679, 3608, 3528, 69, 641, 890, 714, 859, 781, 898, 871, 68, 31, 652]"
                ],
                [
                  "1722139",
                  "2183045",
                  "groomyboy",
                  "United Kingdom",
                  "168240_2882625",
                  "2021-05-21 02:00:38",
                  "168240.0",
                  "Ou La Mort",
                  "Complete Tirailleur War Story",
                  "Silver",
                  "[3056, 3047, 4763, 675151, 417809, 411066, 417778, 564576, 564516, 626, 7826, 682506, 655534, 434216, 492711, 7779, 594522, 629860, 555866, 738432, 16508, 686199, 652258, 699591, 494230, 139705, 464243, 693347, 693343, 472321, 657295, 7780, 601539, 620100, 674822, 177676, 675834, 618698, 20725, 462858, 386416, 165378, 170396, 8964, 657605, 194090, 570893, 18950, 10569, 509365, 388214, 19431, 495609, 459087, 142408, 432951, 16987, 522275, 545114, 386820, 24376, 9284, 552468, 555632, 391607, 391575, 393002, 634081, 560240, 525471, 8230, 331674, 10939, 494530, 547894, 544712, 411306, 456443, 394773, 451666, 10941, 596368, 333296, 5125, 447119, 335314, 520027, 462262, 622256, 408872, 192225, 13740, 452023, 6496, 391950, 619584, 12572, 337247, 400531, 418152, 8312, 408779, 19082, 7899, 12618, 628595, 628272, 393320, 135259, 196263, 439164, 446719, 470387, 164081, 137865, 7730, 618144, 618145, 463615, 359520, 482344, 6029, 17630, 461936, 24295, 20690, 496209, 5259, 635, 7782, 34, 792, 597899, 553336, 4790, 546, 129, 157, 135, 125, 15428, 15376, 17223, 3433, 442072, 7248, 135460, 169937, 14577, 370478, 574523, 558109, 165259, 113, 15, 563571, 159, 430192, 494229, 19197, 14054, 788, 30, 551053, 548, 598, 133, 6543, 581, 12653, 483875, 520342, 458017, 130, 3012, 106, 530574, 103, 439800, 225, 520747, 487670, 797, 5602, 253, 29, 702, 716, 5390, 404720, 458799, 14141, 14138, 7687, 11622, 409378, 195279, 452096, 7691, 7638, 387796, 190052, 169150, 462994, 457375, 464158, 456043, 391379, 3612, 444285, 5589, 11625, 11611, 334328, 10789, 5446, 453429, 147, 15389, 16639, 411180, 8546, 408903, 192113, 14901, 14465, 405620, 5628, 400289, 7413, 712, 195, 12935, 481240, 335366, 24418, 24378, 23811, 10600, 406758, 193541, 166783, 406312, 104, 19166, 465808, 137910, 166417, 17681, 11009, 8742, 16057, 410650, 405725, 16085, 13823, 459219, 6120, 14491, 330335, 185459, 18925, 451301, 408422, 23605, 168464, 165337, 19221, 440595, 440494, 168240, 169786, 20006, 15185, 372418, 424836, 167756, 329310, 13595, 11466, 14353, 17061, 582, 9850, 9524, 7883, 333081, 165018, 165015, 421836, 420057, 10467, 6949, 138243, 17966, 20418, 8850, 401295, 423049, 15323, 139623, 7106, 6988, 5675, 10327, 14860, 8987, 393129, 413356, 17618, 20571, 20230, 138763, 9459, 20394, 6616, 330336, 10022, 408200, 386019, 20777, 13746, 9311, 170350, 6453, 328920, 159504, 8498, 7629, 14209, 193357, 158798, 177180, 19717, 6994, 638, 10167, 7710, 9205, 18136, 893, 393395, 390946, 10406, 10408, 8261, 24125, 676, 7085, 9937, 8221, 673, 6067, 20124, 7232, 193566, 10407, 8594, 8619, 8472, 20793, 9481, 8453, 6541, 13775, 8493, 7503, 372027, 15153, 369613, 9800, 6083, 11827, 5254, 176538, 6452, 10845, 10689, 7146, 8339, 8745, 7926, 6668, 3930, 8262, 8895, 3228, 35, 9930, 12133, 9150, 23741, 333122, 14147, 18929, 12750, 8209, 5760, 13741, 16147, 182824, 165017, 6194, 10027, 148943, 9936, 6698, 6732, 3585, 11662, 10225, 7466, 9797, 14339, 7464, 10007, 10460, 14532, 13948, 8906, 4853, 10189, 168981, 5771, 9928, 6679, 510, 7140, 6019, 6829, 7813, 16591, 194750, 15946, 13946, 18656, 9204, 9954, 7970, 138084, 15443, 9553, 6185, 17, 9520, 189600, 175114, 7759, 660, 169855, 11401, 183006, 16131, 11089, 15094, 15372, 13275, 13838, 8420, 13894, 17209, 72, 9264, 12403, 138043, 8963, 19665, 16751, 14124, 135735, 143581, 7350, 5690, 11928, 8471, 18957, 9798, 11343, 10403, 9602, 16589, 16185, 8442, 7576, 11989, 16852, 7742, 3840, 5150, 5397, 54, 674, 7396, 783, 5439, 21410, 3423, 5755, 9407, 971, 32, 706, 3688, 777, 14, 14302, 10891, 6358, 7185, 7016, 18167, 12317, 8600, 10020, 17617, 13601, 12564, 7387, 6761, 19300, 7468, 8965, 798, 10203, 17539, 10246, 10630, 53, 9927, 7131, 5980, 9130, 10405, 9336, 7386, 8336, 6208, 5817, 7593, 6412, 7941, 8028, 5785]"
                ],
                [
                  "10853036",
                  "299097",
                  "CC0211",
                  "Japan",
                  "426499_3871656",
                  "2024-11-30 18:56:00",
                  "426499.0",
                  "手抜かれた追走劇",
                  "アナスタシアを守りきれた。",
                  "Bronze",
                  "[492651, 602666, 433451, 441950, 567448, 503707, 426499, 560736, 527040, 655314, 12557, 417778, 386922, 648126, 631685, 681422, 427885, 135224, 458670, 545523, 668129, 514020, 439933, 647577, 17827, 404934, 17814, 603483, 443676, 163541, 492730, 629852, 569334, 330138, 333864, 461694, 517280, 329493, 143313, 337346, 421848, 410926, 485740, 20571, 416072, 443516, 334328, 576011, 137118, 460583, 372449, 417404, 184995, 16417, 10241, 21008, 16924, 551416, 16508, 545312, 158014, 462183, 9121, 494230, 18252, 4832, 3903, 5702, 6754, 13595, 385259, 337701, 191656, 10346, 404720, 407360, 388131, 23439, 421153, 403080, 443675, 369623, 455317, 456006, 11622, 336500, 418462, 10067, 6133, 6132, 4799, 3800, 192091, 158013, 174546, 374189, 13062, 433404, 437274, 182034, 407370, 416093, 419321, 407342, 5412, 6988, 5920, 9800, 374061, 336925, 16145, 19197, 195514, 7276, 24224, 19078, 8483, 16712, 7504, 11171, 7372, 11757, 5472, 904, 959, 175706, 138142, 165426, 176830, 331158, 139929, 5909, 2927, 23681, 3906, 7369, 3127, 5289, 8638, 7849, 5581, 4911, 10827, 963, 5625, 6341, 5315, 3977, 195895, 170797, 168427, 182656, 170349, 9603, 9765, 9671, 11992, 8530, 193336, 181994, 182490, 3586, 388, 334, 5113, 5116, 12482, 175313, 166398, 144701, 177099, 170695, 170394, 168951, 159051, 159050, 138711, 20140, 165431, 139969, 162994, 165429, 8385, 135354, 145680, 145679, 11570, 8568, 813, 11788, 3225, 21203, 23936, 17887, 139451, 5583, 19852, 7190, 138682, 138680, 138686, 10280, 13615, 6832, 8325, 8220, 23932, 5414, 6339, 13202, 5766, 5770, 3803, 135733, 20009, 24387, 15118, 24383, 21698, 23630, 21446, 21158, 7931, 913, 15258, 13790, 9604, 5972, 19659, 3763, 20194, 20437, 20279, 17328, 11937, 5023, 13143, 10828, 19853, 6509, 3905, 19264, 14193, 17757, 17758, 17759, 18680, 18268, 5995, 16061, 17990, 13543, 13046, 13605, 9351, 7203, 16926, 5882, 11103, 10830, 15543, 8640, 7882, 11490, 6343, 3883, 3178, 854, 3157, 10824, 3879, 11102, 16567, 14910, 14356, 16710, 16932, 680, 16413, 6926, 5121, 3339, 16412, 15902, 16216, 9750, 15883, 15967, 15373, 15332, 15537, 15435, 14702, 14703, 15137, 15031, 14693, 14704, 14578, 13544, 7320, 13456, 13755, 13756, 7524, 10483, 10900, 8055, 7387, 7421, 8844, 12791, 5446, 10600, 13338, 13437, 8908, 6963, 12020, 12009, 12935, 10906, 12488, 10951, 11679, 11680, 11107, 11106, 11228, 11405, 11166, 11165, 10899, 10704, 10335, 10640, 10340, 10173, 9665, 9477, 9363, 9230, 9275, 4907, 4833, 5473, 8624, 8625, 8696, 3608, 15, 652, 3, 4908, 8532, 7424, 6914, 7423, 7425, 8423, 6224, 8319, 545, 8166, 6219, 7889, 7978, 7883, 7876, 6747, 5622, 7194, 7195, 6130, 7192, 7200, 7201, 7202, 7152, 6045, 6548, 6905, 6593, 6670, 6714, 6225, 5413, 186, 6278, 6236, 6406, 6228, 6232, 6400, 6504, 6338, 6263, 6165, 5787, 6023, 6056, 6108, 5971, 5886, 5768, 3032, 5314, 5921, 5890, 5417, 5471, 5575, 5774, 5699, 5671, 4982, 5217, 5582, 5419, 4965, 5208, 5477, 3947, 5286, 3930, 3377, 3969, 4875, 3648, 917, 944, 3993, 5118, 658, 5119, 899, 3571, 3973, 1033, 3867, 5006, 4763, 796, 428, 3165, 4775, 4776, 4798, 4774, 4794, 3845, 3502, 3972, 3462, 411, 3084, 656, 3843, 653, 2, 3498, 68, 31, 2960, 3814, 3345, 3703, 709, 3704, 3706, 3626, 21, 3582, 3503, 3511, 3510, 1039, 3097, 430, 1036, 3086, 988, 986, 985, 987, 3090, 897, 3199, 3200, 3202, 3179, 811, 663, 749, 3079, 781, 789, 5, 3121, 3189, 3073, 793, 852, 3071, 753, 3001, 762, 3114, 3142, 3139, 7, 25, 3133, 3085, 3049, 3083, 2950, 2961, 175, 3024, 700, 3070, 18, 863, 3094]"
                ],
                [
                  "15078401",
                  "127855",
                  "Joshua-Takara",
                  "United States",
                  "653_6621",
                  "2012-09-01 11:18:30",
                  "653.0",
                  "BOOOOOOOM!!!",
                  "Kill the Basilisk",
                  "Bronze",
                  "[854, 5315, 5882, 6135, 5800, 684, 5699, 4790, 625, 2926, 301, 908, 412, 5495, 5880, 2935, 5282, 5616, 3423, 5761, 46, 5556, 670, 5259, 3817, 4803, 4775, 463, 4774, 5337, 4776, 69, 5219, 3358, 929, 3563, 577, 800, 702, 3242, 4892, 3611, 2979, 5018, 792, 3117, 5017, 5003, 646, 985, 3867, 5016, 3692, 2978, 3049, 764, 3879, 3068, 987, 986, 139, 6, 759, 947, 4770, 789, 4763, 3969, 3045, 3859, 3750, 3822, 3761, 3453, 153, 3440, 3870, 210, 689, 1021, 997, 30, 3819, 266, 708, 433, 319, 296, 964, 73, 72, 754, 994, 650, 891, 656, 906, 653, 464, 905, 917, 7, 2, 587, 68, 9, 31, 1031, 492, 903, 945, 907, 923, 899]"
                ],
                [
                  "13604150",
                  "287488",
                  "Langcore",
                  "China",
                  "384923_3578333",
                  "2020-03-30 17:47:44",
                  "384923.0",
                  "Gunpletionist",
                  "Master all Weapon Mods in a single save slot",
                  "Silver",
                  "[622782, 622780, 607575, 571633, 619714, 489179, 597837, 615078, 489180, 569681, 15072, 452921, 546338, 19197, 15430, 14860, 560240, 578501, 7138, 7185, 190386, 510045, 386277, 8600, 360032, 492853, 10327, 15232, 168677, 518707, 333154, 487149, 184878, 403080, 14141, 159054, 384923, 12051, 442244, 442328, 442236, 14823, 437274, 393798, 335754, 165337, 7451, 17061, 333434, 417403, 384328, 330727, 181476, 415595, 17456, 331007, 404270, 328918, 404720, 373301, 7582, 393795, 17244, 14142, 182936, 182938, 165811, 12572, 9323, 8189, 24344, 24345, 24346, 9306, 8224, 7184, 163258, 138663, 137118, 182258, 7096, 11908, 20162, 12317, 10569, 7504, 13501, 7931, 16145, 7638, 14325, 8896, 9302, 18814, 6543, 15110, 15087, 15085, 15086, 17034, 5661, 15031, 7779, 6185, 17389, 3531, 6168, 6463, 6464, 14855, 10340, 16794, 7690, 16508, 16412, 8715, 8742, 15333, 10638, 8069, 15073, 7792, 5417, 9481, 3975, 7629, 6224, 9102, 11342, 6988, 13237, 9931, 5929, 11824, 8993, 12618, 8161, 9064]"
                ]
              ],
              "shape": {
                "columns": 10,
                "rows": 5
              }
            },
            "text/html": [
              "<div>\n",
              "<style scoped>\n",
              "    .dataframe tbody tr th:only-of-type {\n",
              "        vertical-align: middle;\n",
              "    }\n",
              "\n",
              "    .dataframe tbody tr th {\n",
              "        vertical-align: top;\n",
              "    }\n",
              "\n",
              "    .dataframe thead th {\n",
              "        text-align: right;\n",
              "    }\n",
              "</style>\n",
              "<table border=\"1\" class=\"dataframe\">\n",
              "  <thead>\n",
              "    <tr style=\"text-align: right;\">\n",
              "      <th></th>\n",
              "      <th>playerid</th>\n",
              "      <th>nickname</th>\n",
              "      <th>country</th>\n",
              "      <th>achievementid</th>\n",
              "      <th>date_acquired</th>\n",
              "      <th>gameid</th>\n",
              "      <th>title</th>\n",
              "      <th>description</th>\n",
              "      <th>rarity</th>\n",
              "      <th>library</th>\n",
              "    </tr>\n",
              "  </thead>\n",
              "  <tbody>\n",
              "    <tr>\n",
              "      <th>1055394</th>\n",
              "      <td>2485505</td>\n",
              "      <td>BadAkantor</td>\n",
              "      <td>Canada</td>\n",
              "      <td>3366_47129</td>\n",
              "      <td>2013-08-18 20:41:25</td>\n",
              "      <td>3366.0</td>\n",
              "      <td>Break the Dan</td>\n",
              "      <td>Destroy the Snowman at Qwark's Hideout</td>\n",
              "      <td>Bronze</td>\n",
              "      <td>[721802, 690824, 650140, 702257, 165340, 20436...</td>\n",
              "    </tr>\n",
              "    <tr>\n",
              "      <th>1722139</th>\n",
              "      <td>2183045</td>\n",
              "      <td>groomyboy</td>\n",
              "      <td>United Kingdom</td>\n",
              "      <td>168240_2882625</td>\n",
              "      <td>2021-05-21 02:00:38</td>\n",
              "      <td>168240.0</td>\n",
              "      <td>Ou La Mort</td>\n",
              "      <td>Complete Tirailleur War Story</td>\n",
              "      <td>Silver</td>\n",
              "      <td>[3056, 3047, 4763, 675151, 417809, 411066, 417...</td>\n",
              "    </tr>\n",
              "    <tr>\n",
              "      <th>10853036</th>\n",
              "      <td>299097</td>\n",
              "      <td>CC0211</td>\n",
              "      <td>Japan</td>\n",
              "      <td>426499_3871656</td>\n",
              "      <td>2024-11-30 18:56:00</td>\n",
              "      <td>426499.0</td>\n",
              "      <td>手抜かれた追走劇</td>\n",
              "      <td>アナスタシアを守りきれた。</td>\n",
              "      <td>Bronze</td>\n",
              "      <td>[492651, 602666, 433451, 441950, 567448, 50370...</td>\n",
              "    </tr>\n",
              "    <tr>\n",
              "      <th>15078401</th>\n",
              "      <td>127855</td>\n",
              "      <td>Joshua-Takara</td>\n",
              "      <td>United States</td>\n",
              "      <td>653_6621</td>\n",
              "      <td>2012-09-01 11:18:30</td>\n",
              "      <td>653.0</td>\n",
              "      <td>BOOOOOOOM!!!</td>\n",
              "      <td>Kill the Basilisk</td>\n",
              "      <td>Bronze</td>\n",
              "      <td>[854, 5315, 5882, 6135, 5800, 684, 5699, 4790,...</td>\n",
              "    </tr>\n",
              "    <tr>\n",
              "      <th>13604150</th>\n",
              "      <td>287488</td>\n",
              "      <td>Langcore</td>\n",
              "      <td>China</td>\n",
              "      <td>384923_3578333</td>\n",
              "      <td>2020-03-30 17:47:44</td>\n",
              "      <td>384923.0</td>\n",
              "      <td>Gunpletionist</td>\n",
              "      <td>Master all Weapon Mods in a single save slot</td>\n",
              "      <td>Silver</td>\n",
              "      <td>[622782, 622780, 607575, 571633, 619714, 48917...</td>\n",
              "    </tr>\n",
              "  </tbody>\n",
              "</table>\n",
              "</div>"
            ],
            "text/plain": [
              "          playerid       nickname         country   achievementid  \\\n",
              "1055394    2485505     BadAkantor          Canada      3366_47129   \n",
              "1722139    2183045      groomyboy  United Kingdom  168240_2882625   \n",
              "10853036    299097         CC0211           Japan  426499_3871656   \n",
              "15078401    127855  Joshua-Takara   United States        653_6621   \n",
              "13604150    287488       Langcore           China  384923_3578333   \n",
              "\n",
              "                date_acquired    gameid          title  \\\n",
              "1055394   2013-08-18 20:41:25    3366.0  Break the Dan   \n",
              "1722139   2021-05-21 02:00:38  168240.0     Ou La Mort   \n",
              "10853036  2024-11-30 18:56:00  426499.0       手抜かれた追走劇   \n",
              "15078401  2012-09-01 11:18:30     653.0   BOOOOOOOM!!!   \n",
              "13604150  2020-03-30 17:47:44  384923.0  Gunpletionist   \n",
              "\n",
              "                                           description  rarity  \\\n",
              "1055394         Destroy the Snowman at Qwark's Hideout  Bronze   \n",
              "1722139                  Complete Tirailleur War Story  Silver   \n",
              "10853036                                 アナスタシアを守りきれた。  Bronze   \n",
              "15078401                             Kill the Basilisk  Bronze   \n",
              "13604150  Master all Weapon Mods in a single save slot  Silver   \n",
              "\n",
              "                                                    library  \n",
              "1055394   [721802, 690824, 650140, 702257, 165340, 20436...  \n",
              "1722139   [3056, 3047, 4763, 675151, 417809, 411066, 417...  \n",
              "10853036  [492651, 602666, 433451, 441950, 567448, 50370...  \n",
              "15078401  [854, 5315, 5882, 6135, 5800, 684, 5699, 4790,...  \n",
              "13604150  [622782, 622780, 607575, 571633, 619714, 48917...  "
            ]
          },
          "execution_count": 11,
          "metadata": {},
          "output_type": "execute_result"
        }
      ],
      "source": [
        "ps_player_info.sample(5)"
      ]
    },
    {
      "cell_type": "markdown",
      "metadata": {},
      "source": [
        "### Game focus\n",
        "date_acquired column is dropped as it indicates the timestamp when the price info was extracted from multiple databases and do not add helpful insights to our analysis."
      ]
    },
    {
      "cell_type": "code",
      "execution_count": null,
      "metadata": {},
      "outputs": [],
      "source": [
        "ps_game_info = ps_games.merge(ps_achievements.rename(columns={'title': 'achievement_title'}), on=\"gameid\", how=\"left\")"
      ]
    },
    {
      "cell_type": "code",
      "execution_count": null,
      "metadata": {},
      "outputs": [],
      "source": [
        "ps_game_info = ps_game_info.merge(ps_prices, on=\"gameid\", how=\"left\")"
      ]
    },
    {
      "cell_type": "code",
      "execution_count": null,
      "metadata": {},
      "outputs": [],
      "source": [
        "ps_game_info = ps_game_info.drop(columns=['date_acquired'])"
      ]
    },
    {
      "cell_type": "code",
      "execution_count": null,
      "metadata": {},
      "outputs": [],
      "source": [
        "ps_game_info.rename(columns={'platform': 'PS_platform'}, inplace=True)"
      ]
    },
    {
      "cell_type": "code",
      "execution_count": null,
      "metadata": {},
      "outputs": [],
      "source": [
        "ps_game_info.rename(columns={'description': 'achievement_description'}, inplace=True)"
      ]
    },
    {
      "cell_type": "code",
      "execution_count": null,
      "metadata": {},
      "outputs": [
        {
          "name": "stdout",
          "output_type": "stream",
          "text": [
            "<class 'pandas.core.frame.DataFrame'>\n",
            "RangeIndex: 626958 entries, 0 to 626957\n",
            "Data columns (total 17 columns):\n",
            " #   Column                   Non-Null Count   Dtype  \n",
            "---  ------                   --------------   -----  \n",
            " 0   gameid                   626958 non-null  int64  \n",
            " 1   title                    626958 non-null  object \n",
            " 2   PS_platform              626958 non-null  object \n",
            " 3   developers               626416 non-null  object \n",
            " 4   publishers               626624 non-null  object \n",
            " 5   genres                   623044 non-null  object \n",
            " 6   supported_languages      319860 non-null  object \n",
            " 7   release_date             626958 non-null  object \n",
            " 8   achievementid            626958 non-null  object \n",
            " 9   achievement_title        626954 non-null  object \n",
            " 10  achievement_description  626942 non-null  object \n",
            " 11  rarity                   626958 non-null  object \n",
            " 12  usd                      535794 non-null  float64\n",
            " 13  eur                      508924 non-null  float64\n",
            " 14  gbp                      530459 non-null  float64\n",
            " 15  jpy                      258082 non-null  float64\n",
            " 16  rub                      125368 non-null  float64\n",
            "dtypes: float64(5), int64(1), object(11)\n",
            "memory usage: 81.3+ MB\n"
          ]
        }
      ],
      "source": [
        "ps_game_info.info()"
      ]
    },
    {
      "cell_type": "markdown",
      "metadata": {},
      "source": [
        "PS-only cols: rarity, PS_platform"
      ]
    },
    {
      "cell_type": "code",
      "execution_count": null,
      "metadata": {},
      "outputs": [
        {
          "data": {
            "application/vnd.microsoft.datawrangler.viewer.v0+json": {
              "columns": [
                {
                  "name": "index",
                  "rawType": "int64",
                  "type": "integer"
                },
                {
                  "name": "gameid",
                  "rawType": "int64",
                  "type": "integer"
                },
                {
                  "name": "title",
                  "rawType": "object",
                  "type": "string"
                },
                {
                  "name": "PS_platform",
                  "rawType": "object",
                  "type": "string"
                },
                {
                  "name": "developers",
                  "rawType": "object",
                  "type": "string"
                },
                {
                  "name": "publishers",
                  "rawType": "object",
                  "type": "string"
                },
                {
                  "name": "genres",
                  "rawType": "object",
                  "type": "string"
                },
                {
                  "name": "supported_languages",
                  "rawType": "object",
                  "type": "unknown"
                },
                {
                  "name": "release_date",
                  "rawType": "object",
                  "type": "string"
                },
                {
                  "name": "achievementid",
                  "rawType": "object",
                  "type": "string"
                },
                {
                  "name": "achievement_title",
                  "rawType": "object",
                  "type": "string"
                },
                {
                  "name": "achievement_description",
                  "rawType": "object",
                  "type": "string"
                },
                {
                  "name": "rarity",
                  "rawType": "object",
                  "type": "string"
                },
                {
                  "name": "usd",
                  "rawType": "float64",
                  "type": "float"
                },
                {
                  "name": "eur",
                  "rawType": "float64",
                  "type": "float"
                },
                {
                  "name": "gbp",
                  "rawType": "float64",
                  "type": "float"
                },
                {
                  "name": "jpy",
                  "rawType": "float64",
                  "type": "float"
                },
                {
                  "name": "rub",
                  "rawType": "float64",
                  "type": "float"
                }
              ],
              "conversionMethod": "pd.DataFrame",
              "ref": "de9ed3b4-ed91-47a4-872c-565eb15cbc0a",
              "rows": [
                [
                  "162155",
                  "451205",
                  "Pizza Break Head to Head",
                  "PS4",
                  "['Smobile']",
                  "['Smobile']",
                  "['Action']",
                  null,
                  "2022-07-29",
                  "451205_4056466",
                  "Lil Combo defeated",
                  "Defeated an Lil Combo mini boss.",
                  "Bronze",
                  "6.99",
                  "7.99",
                  "6.49",
                  null,
                  null
                ],
                [
                  "584302",
                  "11933",
                  "Salt and Sanctuary",
                  "PS4",
                  "['Ska Studios']",
                  "['Ska Studios']",
                  "['RPG']",
                  "['Japanese', 'French', 'Spanish', 'German', 'Italian', 'Portuguese', 'Korean', 'Chinese (traditional)', 'Chinese (simplified)', 'Portuguese (Brazil)', 'Spanish (Mexico)']",
                  "2016-03-15",
                  "11933_131990",
                  "The House of Splendor",
                  "Take an oath to The House of Splendor.",
                  "Bronze",
                  "17.99",
                  "17.99",
                  "14.99",
                  null,
                  null
                ],
                [
                  "598150",
                  "881",
                  "Jak II",
                  "PS3",
                  "['Naughty Dog']",
                  "['Sony Interactive Entertainment']",
                  "['Platformer']",
                  "['French', 'Spanish', 'German', 'Italian', 'Korean']",
                  "2017-12-06",
                  "881_38675",
                  "Head Master",
                  "Collect 510 Metal Head Skull Gems",
                  "Gold",
                  "7.99",
                  null,
                  null,
                  null,
                  null
                ],
                [
                  "213694",
                  "333024",
                  "A Winter's Daydream",
                  "PS4",
                  "['ebi-hime']",
                  "['ebi-hime']",
                  "['Simulation']",
                  null,
                  "2022-06-24",
                  "333024_3203448",
                  "Start of a journey",
                  "Return home",
                  "Gold",
                  "5.99",
                  "5.99",
                  "4.99",
                  null,
                  null
                ],
                [
                  "321614",
                  "5438",
                  "NBA 2K14",
                  "PS3",
                  "['Visual Concepts']",
                  "['2K Games']",
                  "['sports']",
                  "['Japanese', 'French', 'Spanish', 'German', 'Italian', 'Chinese (traditional)']",
                  "2013-11-15",
                  "5438_67696",
                  "Don't Hate the Player",
                  "Win the championship in an Online Association.",
                  "Silver",
                  "59.99",
                  "19.99",
                  "15.99",
                  null,
                  "1299.0"
                ]
              ],
              "shape": {
                "columns": 17,
                "rows": 5
              }
            },
            "text/html": [
              "<div>\n",
              "<style scoped>\n",
              "    .dataframe tbody tr th:only-of-type {\n",
              "        vertical-align: middle;\n",
              "    }\n",
              "\n",
              "    .dataframe tbody tr th {\n",
              "        vertical-align: top;\n",
              "    }\n",
              "\n",
              "    .dataframe thead th {\n",
              "        text-align: right;\n",
              "    }\n",
              "</style>\n",
              "<table border=\"1\" class=\"dataframe\">\n",
              "  <thead>\n",
              "    <tr style=\"text-align: right;\">\n",
              "      <th></th>\n",
              "      <th>gameid</th>\n",
              "      <th>title</th>\n",
              "      <th>PS_platform</th>\n",
              "      <th>developers</th>\n",
              "      <th>publishers</th>\n",
              "      <th>genres</th>\n",
              "      <th>supported_languages</th>\n",
              "      <th>release_date</th>\n",
              "      <th>achievementid</th>\n",
              "      <th>achievement_title</th>\n",
              "      <th>achievement_description</th>\n",
              "      <th>rarity</th>\n",
              "      <th>usd</th>\n",
              "      <th>eur</th>\n",
              "      <th>gbp</th>\n",
              "      <th>jpy</th>\n",
              "      <th>rub</th>\n",
              "    </tr>\n",
              "  </thead>\n",
              "  <tbody>\n",
              "    <tr>\n",
              "      <th>162155</th>\n",
              "      <td>451205</td>\n",
              "      <td>Pizza Break Head to Head</td>\n",
              "      <td>PS4</td>\n",
              "      <td>['Smobile']</td>\n",
              "      <td>['Smobile']</td>\n",
              "      <td>['Action']</td>\n",
              "      <td>NaN</td>\n",
              "      <td>2022-07-29</td>\n",
              "      <td>451205_4056466</td>\n",
              "      <td>Lil Combo defeated</td>\n",
              "      <td>Defeated an Lil Combo mini boss.</td>\n",
              "      <td>Bronze</td>\n",
              "      <td>6.99</td>\n",
              "      <td>7.99</td>\n",
              "      <td>6.49</td>\n",
              "      <td>NaN</td>\n",
              "      <td>NaN</td>\n",
              "    </tr>\n",
              "    <tr>\n",
              "      <th>584302</th>\n",
              "      <td>11933</td>\n",
              "      <td>Salt and Sanctuary</td>\n",
              "      <td>PS4</td>\n",
              "      <td>['Ska Studios']</td>\n",
              "      <td>['Ska Studios']</td>\n",
              "      <td>['RPG']</td>\n",
              "      <td>['Japanese', 'French', 'Spanish', 'German', 'I...</td>\n",
              "      <td>2016-03-15</td>\n",
              "      <td>11933_131990</td>\n",
              "      <td>The House of Splendor</td>\n",
              "      <td>Take an oath to The House of Splendor.</td>\n",
              "      <td>Bronze</td>\n",
              "      <td>17.99</td>\n",
              "      <td>17.99</td>\n",
              "      <td>14.99</td>\n",
              "      <td>NaN</td>\n",
              "      <td>NaN</td>\n",
              "    </tr>\n",
              "    <tr>\n",
              "      <th>598150</th>\n",
              "      <td>881</td>\n",
              "      <td>Jak II</td>\n",
              "      <td>PS3</td>\n",
              "      <td>['Naughty Dog']</td>\n",
              "      <td>['Sony Interactive Entertainment']</td>\n",
              "      <td>['Platformer']</td>\n",
              "      <td>['French', 'Spanish', 'German', 'Italian', 'Ko...</td>\n",
              "      <td>2017-12-06</td>\n",
              "      <td>881_38675</td>\n",
              "      <td>Head Master</td>\n",
              "      <td>Collect 510 Metal Head Skull Gems</td>\n",
              "      <td>Gold</td>\n",
              "      <td>7.99</td>\n",
              "      <td>NaN</td>\n",
              "      <td>NaN</td>\n",
              "      <td>NaN</td>\n",
              "      <td>NaN</td>\n",
              "    </tr>\n",
              "    <tr>\n",
              "      <th>213694</th>\n",
              "      <td>333024</td>\n",
              "      <td>A Winter's Daydream</td>\n",
              "      <td>PS4</td>\n",
              "      <td>['ebi-hime']</td>\n",
              "      <td>['ebi-hime']</td>\n",
              "      <td>['Simulation']</td>\n",
              "      <td>NaN</td>\n",
              "      <td>2022-06-24</td>\n",
              "      <td>333024_3203448</td>\n",
              "      <td>Start of a journey</td>\n",
              "      <td>Return home</td>\n",
              "      <td>Gold</td>\n",
              "      <td>5.99</td>\n",
              "      <td>5.99</td>\n",
              "      <td>4.99</td>\n",
              "      <td>NaN</td>\n",
              "      <td>NaN</td>\n",
              "    </tr>\n",
              "    <tr>\n",
              "      <th>321614</th>\n",
              "      <td>5438</td>\n",
              "      <td>NBA 2K14</td>\n",
              "      <td>PS3</td>\n",
              "      <td>['Visual Concepts']</td>\n",
              "      <td>['2K Games']</td>\n",
              "      <td>['sports']</td>\n",
              "      <td>['Japanese', 'French', 'Spanish', 'German', 'I...</td>\n",
              "      <td>2013-11-15</td>\n",
              "      <td>5438_67696</td>\n",
              "      <td>Don't Hate the Player</td>\n",
              "      <td>Win the championship in an Online Association.</td>\n",
              "      <td>Silver</td>\n",
              "      <td>59.99</td>\n",
              "      <td>19.99</td>\n",
              "      <td>15.99</td>\n",
              "      <td>NaN</td>\n",
              "      <td>1299.0</td>\n",
              "    </tr>\n",
              "  </tbody>\n",
              "</table>\n",
              "</div>"
            ],
            "text/plain": [
              "        gameid                     title PS_platform           developers  \\\n",
              "162155  451205  Pizza Break Head to Head         PS4          ['Smobile']   \n",
              "584302   11933        Salt and Sanctuary         PS4      ['Ska Studios']   \n",
              "598150     881                    Jak II         PS3      ['Naughty Dog']   \n",
              "213694  333024       A Winter's Daydream         PS4         ['ebi-hime']   \n",
              "321614    5438                  NBA 2K14         PS3  ['Visual Concepts']   \n",
              "\n",
              "                                publishers          genres  \\\n",
              "162155                         ['Smobile']      ['Action']   \n",
              "584302                     ['Ska Studios']         ['RPG']   \n",
              "598150  ['Sony Interactive Entertainment']  ['Platformer']   \n",
              "213694                        ['ebi-hime']  ['Simulation']   \n",
              "321614                        ['2K Games']      ['sports']   \n",
              "\n",
              "                                      supported_languages release_date  \\\n",
              "162155                                                NaN   2022-07-29   \n",
              "584302  ['Japanese', 'French', 'Spanish', 'German', 'I...   2016-03-15   \n",
              "598150  ['French', 'Spanish', 'German', 'Italian', 'Ko...   2017-12-06   \n",
              "213694                                                NaN   2022-06-24   \n",
              "321614  ['Japanese', 'French', 'Spanish', 'German', 'I...   2013-11-15   \n",
              "\n",
              "         achievementid      achievement_title  \\\n",
              "162155  451205_4056466     Lil Combo defeated   \n",
              "584302    11933_131990  The House of Splendor   \n",
              "598150       881_38675            Head Master   \n",
              "213694  333024_3203448     Start of a journey   \n",
              "321614      5438_67696  Don't Hate the Player   \n",
              "\n",
              "                               achievement_description  rarity    usd    eur  \\\n",
              "162155                Defeated an Lil Combo mini boss.  Bronze   6.99   7.99   \n",
              "584302          Take an oath to The House of Splendor.  Bronze  17.99  17.99   \n",
              "598150               Collect 510 Metal Head Skull Gems    Gold   7.99    NaN   \n",
              "213694                                     Return home    Gold   5.99   5.99   \n",
              "321614  Win the championship in an Online Association.  Silver  59.99  19.99   \n",
              "\n",
              "          gbp  jpy     rub  \n",
              "162155   6.49  NaN     NaN  \n",
              "584302  14.99  NaN     NaN  \n",
              "598150    NaN  NaN     NaN  \n",
              "213694   4.99  NaN     NaN  \n",
              "321614  15.99  NaN  1299.0  "
            ]
          },
          "execution_count": 18,
          "metadata": {},
          "output_type": "execute_result"
        }
      ],
      "source": [
        "ps_game_info.sample(5)"
      ]
    },
    {
      "cell_type": "code",
      "execution_count": null,
      "metadata": {},
      "outputs": [
        {
          "data": {
            "text/plain": [
              "achievementid\n",
              "7593_93460        1\n",
              "749375_6098396    1\n",
              "749375_6098397    1\n",
              "749375_6098398    1\n",
              "749375_6098399    1\n",
              "                 ..\n",
              "749375_6098414    1\n",
              "749375_6098413    1\n",
              "749375_6098412    1\n",
              "749375_6098411    1\n",
              "749375_6098410    1\n",
              "Name: count, Length: 626958, dtype: int64"
            ]
          },
          "execution_count": 19,
          "metadata": {},
          "output_type": "execute_result"
        }
      ],
      "source": [
        "ps_game_info['achievementid'].value_counts()"
      ]
    },
    {
      "cell_type": "markdown",
      "metadata": {},
      "source": [
        "## Steam"
      ]
    },
    {
      "cell_type": "code",
      "execution_count": null,
      "metadata": {},
      "outputs": [
        {
          "name": "stdout",
          "output_type": "stream",
          "text": [
            "steam_achievements - shape: (1939027, 4)\n",
            "steam_friends - shape: (424683, 2)\n",
            "steam_games - shape: (98248, 7)\n",
            "steam_history - shape: (10693879, 3)\n",
            "steam_players - shape: (424683, 3)\n",
            "steam_prices - shape: (4414273, 7)\n",
            "steam_private_steamids - shape: (227963, 1)\n",
            "steam_purchased_games - shape: (102548, 2)\n",
            "steam_reviews - shape: (1204534, 8)\n"
          ]
        }
      ],
      "source": [
        "import os\n",
        "import pandas as pd\n",
        "\n",
        "STEAM_DATA_FOLDER = \"data/steam\"\n",
        "\n",
        "dfs = {}\n",
        "\n",
        "for root, dirs, files in os.walk(STEAM_DATA_FOLDER):\n",
        "    for file in files:\n",
        "        if file.endswith(\".csv\"):\n",
        "            file_path = os.path.join(root, file)\n",
        "            df_name = f\"{os.path.basename(root)}_{file.replace('.csv', '')}\".replace('.csv', '')  # Clean name\n",
        "            dfs[df_name] = pd.read_csv(file_path)\n",
        "\n",
        "for name, df in dfs.items():\n",
        "    print(f\"{name} - shape: {df.shape}\")\n"
      ]
    },
    {
      "cell_type": "code",
      "execution_count": null,
      "metadata": {},
      "outputs": [
        {
          "name": "stdout",
          "output_type": "stream",
          "text": [
            "0\n",
            "4315808\n",
            "0\n",
            "0\n",
            "0\n"
          ]
        }
      ],
      "source": [
        "steam_achievements = dfs['steam_achievements']\n",
        "steam_games = dfs['steam_games']\n",
        "steam_history = dfs['steam_history']\n",
        "steam_players = dfs['steam_players']\n",
        "steam_prices = dfs['steam_prices']\n",
        "steam_purchased_games = dfs['steam_purchased_games']\n",
        "\n",
        "# check duplicates\n",
        "print(steam_games.duplicated(subset=[\"gameid\"]).sum())\n",
        "print(steam_prices.duplicated(subset=[\"gameid\"]).sum())\n",
        "print(steam_achievements.duplicated(subset=[\"achievementid\"]).sum())\n",
        "print(steam_players.duplicated(subset=[\"playerid\"]).sum())\n",
        "print(steam_purchased_games.duplicated(subset=[\"playerid\"]).sum())"
      ]
    },
    {
      "cell_type": "code",
      "execution_count": null,
      "metadata": {},
      "outputs": [
        {
          "name": "stdout",
          "output_type": "stream",
          "text": [
            "0\n"
          ]
        }
      ],
      "source": [
        "# for each gameid, keep only the most recent price entry\n",
        "steam_prices = steam_prices.sort_values(\"date_acquired\").drop_duplicates(subset=[\"gameid\"], keep=\"last\")\n",
        "print(steam_prices.duplicated(subset=[\"gameid\"]).sum())"
      ]
    },
    {
      "cell_type": "markdown",
      "metadata": {},
      "source": [
        "### Player focus"
      ]
    },
    {
      "cell_type": "code",
      "execution_count": null,
      "metadata": {},
      "outputs": [],
      "source": [
        "st_player_info = steam_players.merge(steam_history, on=\"playerid\", how=\"left\")"
      ]
    },
    {
      "cell_type": "code",
      "execution_count": null,
      "metadata": {},
      "outputs": [],
      "source": [
        "st_player_info = st_player_info.merge(steam_achievements, on=\"achievementid\", how=\"left\")"
      ]
    },
    {
      "cell_type": "code",
      "execution_count": null,
      "metadata": {},
      "outputs": [],
      "source": [
        "st_player_info = st_player_info.merge(steam_purchased_games, on=\"playerid\", how=\"left\")\n",
        "\n",
        "# # Save player-focused data\n",
        "# steam_player_info.to_csv('data/steam_players.csv', index=False)"
      ]
    },
    {
      "cell_type": "code",
      "execution_count": null,
      "metadata": {},
      "outputs": [
        {
          "name": "stdout",
          "output_type": "stream",
          "text": [
            "<class 'pandas.core.frame.DataFrame'>\n",
            "RangeIndex: 11113724 entries, 0 to 11113723\n",
            "Data columns (total 9 columns):\n",
            " #   Column         Dtype  \n",
            "---  ------         -----  \n",
            " 0   playerid       int64  \n",
            " 1   country        object \n",
            " 2   created        object \n",
            " 3   achievementid  object \n",
            " 4   date_acquired  object \n",
            " 5   gameid         float64\n",
            " 6   title          object \n",
            " 7   description    object \n",
            " 8   library        object \n",
            "dtypes: float64(1), int64(1), object(7)\n",
            "memory usage: 763.1+ MB\n"
          ]
        }
      ],
      "source": [
        "st_player_info.info()"
      ]
    },
    {
      "cell_type": "code",
      "execution_count": null,
      "metadata": {},
      "outputs": [
        {
          "data": {
            "text/plain": [
              "(11113724, 9)"
            ]
          },
          "execution_count": 27,
          "metadata": {},
          "output_type": "execute_result"
        }
      ],
      "source": [
        "st_player_info.shape"
      ]
    },
    {
      "cell_type": "code",
      "execution_count": null,
      "metadata": {},
      "outputs": [
        {
          "data": {
            "application/vnd.microsoft.datawrangler.viewer.v0+json": {
              "columns": [
                {
                  "name": "index",
                  "rawType": "int64",
                  "type": "integer"
                },
                {
                  "name": "playerid",
                  "rawType": "int64",
                  "type": "integer"
                },
                {
                  "name": "country",
                  "rawType": "object",
                  "type": "unknown"
                },
                {
                  "name": "created",
                  "rawType": "object",
                  "type": "string"
                },
                {
                  "name": "achievementid",
                  "rawType": "object",
                  "type": "unknown"
                },
                {
                  "name": "date_acquired",
                  "rawType": "object",
                  "type": "unknown"
                },
                {
                  "name": "gameid",
                  "rawType": "float64",
                  "type": "float"
                },
                {
                  "name": "title",
                  "rawType": "object",
                  "type": "unknown"
                },
                {
                  "name": "description",
                  "rawType": "object",
                  "type": "unknown"
                },
                {
                  "name": "library",
                  "rawType": "object",
                  "type": "unknown"
                }
              ],
              "conversionMethod": "pd.DataFrame",
              "ref": "b58b478b-aad8-4240-9dba-f01bcc1a0649",
              "rows": [
                [
                  "0",
                  "76561198287452552",
                  "Brazil",
                  "2016-03-02 06:14:20",
                  null,
                  null,
                  null,
                  null,
                  null,
                  "[10, 80, 100, 240, 2990, 6880, 6910, 6920, 6980, 7000, 8000, 400, 7940, 13520, 19900, 500, 12200, 22300, 8140, 17390, 17470, 3590, 10180, 10190, 550, 32440, 34190, 8190, 35140, 22380, 47870, 35130, 21000, 47780, 50300, 55100, 620, 105600, 20920, 21090, 21110, 21120, 16450, 55150, 48000, 3830, 12100, 12110, 12120, 12230, 12240, 12250, 9200, 110800, 71250, 200940, 67370, 202530, 63380, 207610, 211600, 211740, 200260, 49520, 213610, 219150, 218680, 3700, 220240, 214510, 224960, 225300, 225320, 224980, 225000, 225020, 227300, 109600, 227240, 230410, 238960, 217750, 222480, 44350, 233270, 242760, 39140, 237110, 244210, 222940, 233840, 209000, 251570, 249870, 234670, 242050, 219990, 233130, 255520, 249130, 263300, 242700, 267530, 267900, 235900, 268910, 235460, 271590, 57300, 239200, 208670, 278360, 239160, 213670, 254700, 285160, 286690, 287390, 258180, 287700, 288470, 233290, 292910, 20510, 301640, 239120, 238090, 250400, 310560, 311340, 312540, 291480, 314030, 272510, 238010, 203160, 322110, 322170, 45760, 220440, 302510, 214490, 241930, 307690, 238320, 261640, 289650, 331360, 289690, 730, 331870, 298110, 335300, 222420, 250900, 319630, 304240, 236430, 222440, 346110, 407530, 348550, 297130, 329430, 311560, 21690, 347290, 356570, 359100, 360830, 365670, 367500, 367520, 243800, 219740, 322330, 269670, 372360, 374320, 223470, 331600, 378860, 236870, 383730, 384190, 351970, 261570, 387290, 291550, 388410, 389140, 389730, 391720, 394690, 382490, 396350, 250180, 312610, 366250, 225540, 400020, 400040, 400160, 234140, 405710, 298630, 388060, 413150, 414700, 416680, 287290, 418620, 349040, 208650, 368500, 424840, 371660, 339340, 270880, 427820, 239140, 431730, 394310, 431960, 391220, 376300, 435400, 437000, 437920, 438100, 244930, 444090, 596350, 445980, 449210, 428550, 460790, 460950, 363440, 50620, 462780, 377160, 379720, 255710, 383150, 50130, 1030830, 359550, 623990, 485510, 314710, 495140, 495890, 12210, 504230, 71340, 513330, 513780, 514900, 312660, 521880, 292030, 525480, 489830, 528230, 529490, 529830, 7670, 8850, 8870, 409710, 409720, 307780, 533540, 311730, 540840, 543260, 543870, 560380, 429660, 571260, 571720, 576500, 577940, 584980, 592580, 600370, 378540, 612390, 622650, 9480, 629820, 638000, 639780, 639790, 520440, 648800, 218620, 665300, 674520, 323580, 414340, 747350, 692850, 698780, 240720, 702120, 554620, 578080, 714120, 435150, 606150, 38400, 731490, 732810, 735580, 582160, 740130, 741500, 337000, 476600, 476620, 751690, 647830, 755790, 774171, 774361, 613830, 488790, 813820, 878760, 815370, 552500, 837470, 570940, 203770, 204450, 845070, 847370, 848350, 850980, 750920, 858820, 863550, 865940, 870780, 872200, 532210, 880940, 356190, 758330, 883710, 582010, 737800, 899440, 787860, 638970, 320240, 814380, 412020, 1449560, 764790, 931690, 945360, 950100, 960090, 6550, 631510, 418370, 357190, 743890, 43110, 4570, 4580, 9310, 9450, 395170, 20900, 738540, 996580, 976310, 552520, 939960, 524220, 752590, 1030840, 847360, 1038300, 266310, 1076550, 325180, 1091500, 1097150, 996470, 690790, 1121560, 1151640, 1085660, 601150, 703860, 1172470, 1172380, 1192610, 678960, 1145360, 648350, 232770, 322500, 1237980, 310950, 1222680, 1237970, 582660, 706220, 470220, 952060, 952070, 1262560, 1245620, 1262580, 1274570, 335190, 282800, 1284410, 1298140, 34330, 1038250, 640590, 1048540, 559650, 878670, 1293830, 245170, 264710, 1180660, 1665130, 1665460, 1667400, 1173770, 1173780, 1714590, 1110910, 1240440, 475150, 1794680, 1812290, 1812390, 1818750, 1869590, 1873030, 2064650, 1196590, 1236300, 40990, 1250, 232090, 2075730, 1222670, 1938090, 493540, 2357570, 1144770, 43160, 489630, 383270, 1716740, 933110, 70, 383180, 1446780, 2881650, 2923300, 1422450, 220, 320, 360]"
                ],
                [
                  "1",
                  "76561198040436563",
                  "Israel",
                  "2011-04-10 17:10:06",
                  null,
                  null,
                  null,
                  null,
                  null,
                  "[10, 80, 100, 300, 20, 30, 40, 50, 60, 70, 130, 240, 280, 360, 3300, 4000, 2600, 6910, 6980, 320, 8000, 9050, 9070, 208200, 2320, 220, 400, 7940, 3020, 12160, 12140, 12150, 13520, 15270, 11050, 19900, 500, 10090, 8140, 13500, 13530, 19980, 17470, 17410, 22120, 22140, 1250, 35420, 33100, 21980, 35700, 10180, 10190, 20900, 550, 3260, 41000, 564310, 22370, 41700, 10680, 33230, 41010, 43110, 34830, 13600, 33320, 33910, 33930, 57300, 42700, 42710, 47810, 78000, 22330, 47780, 50300, 12120, 12250, 48190, 55100, 70000, 620, 104700, 91200, 105600, 20920, 21100, 46500, 46510, 55150, 2210, 39500, 39510, 65540, 950670, 38740, 42680, 42690, 72850, 41070, 12100, 12230, 67370, 22380, 108710, 6860, 7520, 110800, 201700, 201870, 33120, 207610, 6900, 211600, 211740, 211010, 204100, 108800, 91310, 12210, 209080, 730, 219640, 57690, 1930, 55230, 220240, 4500, 6850, 225020, 214510, 223470, 12110, 12240, 2280, 2290, 2300, 9160, 227300, 102700, 109600, 113400, 113420, 200210, 203290, 206210, 212070, 212500, 212800, 218230, 1083500, 230410, 236390, 238070, 238960, 209870, 223710, 265630, 202090, 224260, 241640, 224580, 221040, 225260, 203160, 16450, 21090, 21110, 21120, 44350, 210770, 216250, 65930, 238210, 222480, 35720, 242760, 242780, 2310, 246280, 45740, 234080, 244590, 235600, 245280, 222900, 252890, 254060, 205100, 217920, 107410, 247430, 22180, 242050, 219990, 233130, 255520, 49520, 259170, 259190, 238430, 261110, 261550, 39210, 262690, 265300, 22610, 22650, 22670, 22320, 226840, 221100, 269650, 235460, 271590, 272060, 239200, 273110, 222880, 225840, 277110, 278360, 239160, 48700, 282140, 282440, 283290, 254700, 285160, 286360, 236430, 286570, 286690, 287390, 287720, 290930, 201810, 20510, 296710, 35450, 236830, 298260, 298930, 298950, 299030, 299050, 300380, 301980, 65790, 302830, 34870, 271500, 304930, 305620, 241260, 63380, 306830, 302380, 239250, 227700, 310560, 236730, 251530, 252170, 294750, 291480, 312670, 227940, 313780, 206420, 220820, 317400, 262000, 319910, 321040, 321270, 322170, 322500, 690040, 258520, 400430, 265550, 220440, 323370, 209650, 209660, 302510, 239140, 307690, 238320, 324800, 326180, 326960, 24240, 211420, 289650, 268050, 331470, 298110, 218620, 333250, 333930, 250900, 340170, 304240, 292120, 292140, 345430, 346110, 407530, 346290, 349480, 349700, 350640, 335300, 21690, 311560, 255710, 355840, 235540, 356670, 356890, 345350, 359870, 232090, 361790, 362890, 364470, 365050, 365300, 365720, 365670, 367500, 367520, 238370, 397080, 329050, 292030, 374900, 341940, 236870, 381210, 382300, 261570, 387290, 388410, 391720, 393430, 395170, 397680, 399810, 400040, 401680, 238090, 299360, 410700, 410710, 403040, 413150, 417430, 418370, 287290, 208650, 368500, 243470, 421020, 339340, 210970, 429180, 377840, 431960, 391220, 433910, 434570, 438100, 310380, 442120, 4720, 34270, 203750, 374320, 444090, 596350, 365590, 524440, 275850, 455400, 337360, 383150, 383180, 50620, 462780, 379720, 474960, 11040, 11140, 11150, 11180, 11190, 205650, 485510, 48000, 403640, 493200, 495420, 495700, 497360, 443080, 273350, 503560, 319630, 369070, 508380, 397060, 104900, 518790, 312660, 520720, 306130, 7670, 8850, 8870, 409710, 409720, 530620, 531800, 307780, 534380, 311730, 536220, 480490, 392110, 447020, 287700, 311340, 444200, 545110, 544330, 337000, 548430, 489830, 550650, 552520, 552990, 555570, 8500, 562860, 578080, 578650, 208140, 582890, 587650, 588650, 375230, 594330, 601430, 606880, 611790, 613100, 368070, 460790, 624270, 9480, 631510, 632360, 632470, 644320, 427290, 612880, 378860, 654050, 658980, 17500, 674940, 677620, 393080, 393100, 679990, 692850, 377160, 699130, 700330, 311210, 22350, 704270, 710920, 715560, 435150, 714070, 723780, 38400, 735360, 582160, 740570, 743350, 744900, 755790, 231430, 595520, 774361, 637650, 787480, 268500, 794600, 464920, 809960, 812140, 813820, 878760, 815370, 433850, 439700, 823130, 834530, 552500, 570940, 203770, 204450, 842100, 845070, 863550, 866800, 870780, 13250, 872200, 544750, 611500, 638970, 883710, 356190, 884660, 582010, 225540, 646910, 892970, 737800, 606280, 920490, 814380, 412020, 1449560, 304390, 654310, 460930, 931690, 389730, 936790, 911400, 939850, 640820, 766370, 954740, 491950, 958260, 960910, 960990, 961440, 973000, 35140, 200260, 738540, 992300, 489520, 999220, 450390, 204880, 1010750, 1012840, 750920, 1018010, 939960, 524220, 752590, 343710, 601150, 1041720, 838380, 1057090, 728740, 927380, 1078000, 370910, 325180, 694280, 1091500, 379430, 782330, 1085660, 431930, 976730, 617290, 1144200, 1026680, 1148590, 690640, 1151640, 342550, 1158160, 1164940, 1170760, 1172620, 1172380, 1174180, 1178830, 1180660, 997070, 1184370, 1186040, 289800, 289820, 289840, 279560, 1190970, 1194630, 1537710, 678960, 555440, 1202970, 418270, 1145360, 232770, 1222140, 1222690, 405780, 359550, 623990, 397540, 1233570, 1238060, 310950, 1245620, 1238000, 1222680, 1238820, 1238840, 1238860, 1237970, 1248990, 1254120, 1237950, 952060, 952070, 1259420, 287630, 406970, 1265920, 1265930, 555000, 760620, 1262540, 1262580, 442070, 289690, 588210, 628950, 335190, 420740, 618140, 1281590, 1775270, 1282150, 566190, 1282690, 1295510, 1158310, 308600, 1302240, 441380, 34330, 1316680, 1326470, 640590, 1328660, 1328670, 50130, 360430, 1030830, 1030840, 1332720, 1235140, 1338770, 1344350, 244210, 242700, 1358700, 1367590, 1190460, 1402120, 209630, 1410640, 257420, 680420, 1238810, 1449280, 1449690, 1139900, 1325200, 1462040, 1473480, 1496790, 1293830, 1532690, 1088710, 1105500, 1105510, 1552550, 1382330, 1388590, 627270, 976310, 1583230, 1583720, 1593500, 740130, 1196590, 1236300, 1369760, 1580780, 1580790, 978300, 424840, 1088850, 1643320, 1659420, 297130, 1137300, 1173770, 1173780, 1173790, 1173800, 1173810, 1173820, 1551360, 924970, 1016800, 1003590, 1715130, 1110910, 979690, 1240440, 1672970, 1732190, 475150, 581320, 1446780, 1812290, 1812390, 1817070, 1475810, 1850570, 2200, 2350, 1943950, 1944430, 1954200, 2012840, 1577120, 1283400, 1271700, 1938090, 2058180, 2058190, 2062120, 2073850, 2074920, 2096600, 2096610, 2099110, 990080, 2138710, 40990, 1608070, 1971650, 2075730, 2050650, 1182900, 1222670, 2215430, 2221490, 2231380, 1693980, 2254890, 1817230, 1546970, 1546990, 1547000, 2130460, 482400, 1888930, 2322010, 493540, 233270, 2369390, 1282100, 1517290, 43160, 489630, 383270, 1716740, 2478970, 742420, 2144740, 2114740, 2535440, 2556990, 2124490, 553850, 2054970, 2658450, 2663530, 2668510, 2674810, 2717880, 881020, 1035510, 1458140, 2756770, 899770, 2552430, 2552440, 2552450, 2835570, 2515020, 934700, 1507190, 728880, 2344520, 2701660, 2071500, 2358720, 2751000, 1422450, 3156770, 3035570, 2561580]"
                ],
                [
                  "2",
                  "76561198049686270",
                  null,
                  "2011-09-28 21:43:59",
                  null,
                  null,
                  null,
                  null,
                  null,
                  null
                ],
                [
                  "3",
                  "76561198155814250",
                  "Kazakhstan",
                  "2014-09-24 19:52:47",
                  null,
                  null,
                  null,
                  null,
                  null,
                  null
                ],
                [
                  "4",
                  "76561198119605821",
                  null,
                  "2013-12-26 00:25:50",
                  null,
                  null,
                  null,
                  null,
                  null,
                  "[47870, 108600, 550, 271590, 331470, 381210, 291550, 444200, 476600, 476620, 767560, 646910, 730, 1056690, 291480, 1782210, 2183650, 1778820, 1020790, 2315690]"
                ]
              ],
              "shape": {
                "columns": 9,
                "rows": 5
              }
            },
            "text/html": [
              "<div>\n",
              "<style scoped>\n",
              "    .dataframe tbody tr th:only-of-type {\n",
              "        vertical-align: middle;\n",
              "    }\n",
              "\n",
              "    .dataframe tbody tr th {\n",
              "        vertical-align: top;\n",
              "    }\n",
              "\n",
              "    .dataframe thead th {\n",
              "        text-align: right;\n",
              "    }\n",
              "</style>\n",
              "<table border=\"1\" class=\"dataframe\">\n",
              "  <thead>\n",
              "    <tr style=\"text-align: right;\">\n",
              "      <th></th>\n",
              "      <th>playerid</th>\n",
              "      <th>country</th>\n",
              "      <th>created</th>\n",
              "      <th>achievementid</th>\n",
              "      <th>date_acquired</th>\n",
              "      <th>gameid</th>\n",
              "      <th>title</th>\n",
              "      <th>description</th>\n",
              "      <th>library</th>\n",
              "    </tr>\n",
              "  </thead>\n",
              "  <tbody>\n",
              "    <tr>\n",
              "      <th>0</th>\n",
              "      <td>76561198287452552</td>\n",
              "      <td>Brazil</td>\n",
              "      <td>2016-03-02 06:14:20</td>\n",
              "      <td>NaN</td>\n",
              "      <td>NaN</td>\n",
              "      <td>NaN</td>\n",
              "      <td>NaN</td>\n",
              "      <td>NaN</td>\n",
              "      <td>[10, 80, 100, 240, 2990, 6880, 6910, 6920, 698...</td>\n",
              "    </tr>\n",
              "    <tr>\n",
              "      <th>1</th>\n",
              "      <td>76561198040436563</td>\n",
              "      <td>Israel</td>\n",
              "      <td>2011-04-10 17:10:06</td>\n",
              "      <td>NaN</td>\n",
              "      <td>NaN</td>\n",
              "      <td>NaN</td>\n",
              "      <td>NaN</td>\n",
              "      <td>NaN</td>\n",
              "      <td>[10, 80, 100, 300, 20, 30, 40, 50, 60, 70, 130...</td>\n",
              "    </tr>\n",
              "    <tr>\n",
              "      <th>2</th>\n",
              "      <td>76561198049686270</td>\n",
              "      <td>NaN</td>\n",
              "      <td>2011-09-28 21:43:59</td>\n",
              "      <td>NaN</td>\n",
              "      <td>NaN</td>\n",
              "      <td>NaN</td>\n",
              "      <td>NaN</td>\n",
              "      <td>NaN</td>\n",
              "      <td>NaN</td>\n",
              "    </tr>\n",
              "    <tr>\n",
              "      <th>3</th>\n",
              "      <td>76561198155814250</td>\n",
              "      <td>Kazakhstan</td>\n",
              "      <td>2014-09-24 19:52:47</td>\n",
              "      <td>NaN</td>\n",
              "      <td>NaN</td>\n",
              "      <td>NaN</td>\n",
              "      <td>NaN</td>\n",
              "      <td>NaN</td>\n",
              "      <td>NaN</td>\n",
              "    </tr>\n",
              "    <tr>\n",
              "      <th>4</th>\n",
              "      <td>76561198119605821</td>\n",
              "      <td>NaN</td>\n",
              "      <td>2013-12-26 00:25:50</td>\n",
              "      <td>NaN</td>\n",
              "      <td>NaN</td>\n",
              "      <td>NaN</td>\n",
              "      <td>NaN</td>\n",
              "      <td>NaN</td>\n",
              "      <td>[47870, 108600, 550, 271590, 331470, 381210, 2...</td>\n",
              "    </tr>\n",
              "  </tbody>\n",
              "</table>\n",
              "</div>"
            ],
            "text/plain": [
              "            playerid     country              created achievementid  \\\n",
              "0  76561198287452552      Brazil  2016-03-02 06:14:20           NaN   \n",
              "1  76561198040436563      Israel  2011-04-10 17:10:06           NaN   \n",
              "2  76561198049686270         NaN  2011-09-28 21:43:59           NaN   \n",
              "3  76561198155814250  Kazakhstan  2014-09-24 19:52:47           NaN   \n",
              "4  76561198119605821         NaN  2013-12-26 00:25:50           NaN   \n",
              "\n",
              "  date_acquired  gameid title description  \\\n",
              "0           NaN     NaN   NaN         NaN   \n",
              "1           NaN     NaN   NaN         NaN   \n",
              "2           NaN     NaN   NaN         NaN   \n",
              "3           NaN     NaN   NaN         NaN   \n",
              "4           NaN     NaN   NaN         NaN   \n",
              "\n",
              "                                             library  \n",
              "0  [10, 80, 100, 240, 2990, 6880, 6910, 6920, 698...  \n",
              "1  [10, 80, 100, 300, 20, 30, 40, 50, 60, 70, 130...  \n",
              "2                                                NaN  \n",
              "3                                                NaN  \n",
              "4  [47870, 108600, 550, 271590, 331470, 381210, 2...  "
            ]
          },
          "execution_count": 28,
          "metadata": {},
          "output_type": "execute_result"
        }
      ],
      "source": [
        "st_player_info.head(5)"
      ]
    },
    {
      "cell_type": "markdown",
      "metadata": {},
      "source": [
        "### Game focus"
      ]
    },
    {
      "cell_type": "code",
      "execution_count": null,
      "metadata": {},
      "outputs": [],
      "source": [
        "st_game_info = steam_games.merge(steam_achievements.rename(columns={'title': 'achievement_title'}), on=\"gameid\", how=\"left\")"
      ]
    },
    {
      "cell_type": "code",
      "execution_count": null,
      "metadata": {},
      "outputs": [],
      "source": [
        "st_game_info = st_game_info.merge(steam_prices, on=\"gameid\", how=\"left\")"
      ]
    },
    {
      "cell_type": "code",
      "execution_count": null,
      "metadata": {},
      "outputs": [],
      "source": [
        "st_game_info = st_game_info.drop(columns=['date_acquired'])"
      ]
    },
    {
      "cell_type": "code",
      "execution_count": null,
      "metadata": {},
      "outputs": [],
      "source": [
        "st_game_info.rename(columns={'description': 'achievement_description'}, inplace=True)"
      ]
    },
    {
      "cell_type": "code",
      "execution_count": null,
      "metadata": {},
      "outputs": [
        {
          "name": "stdout",
          "output_type": "stream",
          "text": [
            "<class 'pandas.core.frame.DataFrame'>\n",
            "RangeIndex: 1983659 entries, 0 to 1983658\n",
            "Data columns (total 15 columns):\n",
            " #   Column                   Dtype  \n",
            "---  ------                   -----  \n",
            " 0   gameid                   int64  \n",
            " 1   title                    object \n",
            " 2   developers               object \n",
            " 3   publishers               object \n",
            " 4   genres                   object \n",
            " 5   supported_languages      object \n",
            " 6   release_date             object \n",
            " 7   achievementid            object \n",
            " 8   achievement_title        object \n",
            " 9   achievement_description  object \n",
            " 10  usd                      float64\n",
            " 11  eur                      float64\n",
            " 12  gbp                      float64\n",
            " 13  jpy                      float64\n",
            " 14  rub                      float64\n",
            "dtypes: float64(5), int64(1), object(9)\n",
            "memory usage: 227.0+ MB\n"
          ]
        }
      ],
      "source": [
        "st_game_info.info()"
      ]
    },
    {
      "cell_type": "code",
      "execution_count": null,
      "metadata": {},
      "outputs": [
        {
          "data": {
            "text/plain": [
              "(1983659, 15)"
            ]
          },
          "execution_count": 34,
          "metadata": {},
          "output_type": "execute_result"
        }
      ],
      "source": [
        "st_game_info.shape"
      ]
    },
    {
      "cell_type": "code",
      "execution_count": null,
      "metadata": {},
      "outputs": [
        {
          "data": {
            "text/plain": [
              "achievementid\n",
              "1499240_ROMANROCKS               1\n",
              "3266470_ACHIEVEMENT_5_MINUTES    1\n",
              "3266470_ACHIEVEMENT_COMPLETED    1\n",
              "3263370_clear1                   1\n",
              "3263370_clear2                   1\n",
              "                                ..\n",
              "3263590_5                        1\n",
              "3263590_4                        1\n",
              "3263590_3                        1\n",
              "3263590_2                        1\n",
              "3263590_1                        1\n",
              "Name: count, Length: 1935882, dtype: int64"
            ]
          },
          "execution_count": 35,
          "metadata": {},
          "output_type": "execute_result"
        }
      ],
      "source": [
        "st_game_info['achievementid'].value_counts()"
      ]
    },
    {
      "cell_type": "markdown",
      "metadata": {},
      "source": [
        "## XBOX"
      ]
    },
    {
      "cell_type": "code",
      "execution_count": null,
      "metadata": {},
      "outputs": [
        {
          "name": "stdout",
          "output_type": "stream",
          "text": [
            "xbox_achievements - shape: (351111, 5)\n",
            "xbox_games - shape: (10489, 7)\n",
            "xbox_history - shape: (15275900, 3)\n",
            "xbox_players - shape: (274450, 2)\n",
            "xbox_prices - shape: (22638, 7)\n",
            "xbox_purchased_games - shape: (46466, 2)\n"
          ]
        }
      ],
      "source": [
        "import os\n",
        "import pandas as pd\n",
        "\n",
        "XBOX_DATA_FOLDER = \"data/xbox\"\n",
        "\n",
        "dfs = {}\n",
        "\n",
        "for root, dirs, files in os.walk(XBOX_DATA_FOLDER):\n",
        "    for file in files:\n",
        "        if file.endswith(\".csv\"):\n",
        "            file_path = os.path.join(root, file)\n",
        "            df_name = f\"{os.path.basename(root)}_{file.replace('.csv', '')}\".replace('.csv', '')\n",
        "            dfs[df_name] = pd.read_csv(file_path)\n",
        "\n",
        "for name, df in dfs.items():\n",
        "    print(f\"{name} - shape: {df.shape}\")\n"
      ]
    },
    {
      "cell_type": "code",
      "execution_count": null,
      "metadata": {},
      "outputs": [
        {
          "name": "stdout",
          "output_type": "stream",
          "text": [
            "0\n",
            "11319\n",
            "0\n",
            "0\n",
            "0\n"
          ]
        }
      ],
      "source": [
        "xbox_achievements = dfs['xbox_achievements']\n",
        "xbox_games = dfs['xbox_games']\n",
        "xbox_history = dfs['xbox_history']\n",
        "xbox_players = dfs['xbox_players']\n",
        "xbox_prices = dfs['xbox_prices']\n",
        "xbox_purchased_games = dfs['xbox_purchased_games']\n",
        "\n",
        "# check duplicates\n",
        "print(xbox_games.duplicated(subset=[\"gameid\"]).sum())\n",
        "print(xbox_prices.duplicated(subset=[\"gameid\"]).sum())\n",
        "print(xbox_achievements.duplicated(subset=[\"achievementid\"]).sum())\n",
        "print(xbox_players.duplicated(subset=[\"playerid\"]).sum())\n",
        "print(xbox_purchased_games.duplicated(subset=[\"playerid\"]).sum())"
      ]
    },
    {
      "cell_type": "code",
      "execution_count": null,
      "metadata": {},
      "outputs": [
        {
          "name": "stdout",
          "output_type": "stream",
          "text": [
            "0\n"
          ]
        }
      ],
      "source": [
        "# for each gameid, keep only the most recent price entry\n",
        "xbox_prices = xbox_prices.sort_values(\"date_acquired\").drop_duplicates(subset=[\"gameid\"], keep=\"last\")\n",
        "print(xbox_prices.duplicated(subset=[\"gameid\"]).sum())"
      ]
    },
    {
      "cell_type": "markdown",
      "metadata": {},
      "source": [
        "### Player focus"
      ]
    },
    {
      "cell_type": "code",
      "execution_count": null,
      "metadata": {},
      "outputs": [],
      "source": [
        "xb_player_info = xbox_players.merge(xbox_history, on=\"playerid\", how=\"left\")"
      ]
    },
    {
      "cell_type": "code",
      "execution_count": null,
      "metadata": {},
      "outputs": [],
      "source": [
        "xb_player_info = xb_player_info.merge(xbox_achievements, on=\"achievementid\", how=\"left\")"
      ]
    },
    {
      "cell_type": "code",
      "execution_count": null,
      "metadata": {},
      "outputs": [],
      "source": [
        "xb_player_info = xb_player_info.merge(xbox_purchased_games, on=\"playerid\", how=\"left\")"
      ]
    },
    {
      "cell_type": "code",
      "execution_count": null,
      "metadata": {},
      "outputs": [
        {
          "name": "stdout",
          "output_type": "stream",
          "text": [
            "<class 'pandas.core.frame.DataFrame'>\n",
            "RangeIndex: 15545366 entries, 0 to 15545365\n",
            "Data columns (total 9 columns):\n",
            " #   Column         Dtype  \n",
            "---  ------         -----  \n",
            " 0   playerid       int64  \n",
            " 1   nickname       object \n",
            " 2   achievementid  object \n",
            " 3   date_acquired  object \n",
            " 4   gameid         float64\n",
            " 5   title          object \n",
            " 6   description    object \n",
            " 7   points         float64\n",
            " 8   library        object \n",
            "dtypes: float64(2), int64(1), object(6)\n",
            "memory usage: 1.0+ GB\n"
          ]
        }
      ],
      "source": [
        "xb_player_info.info()"
      ]
    },
    {
      "cell_type": "code",
      "execution_count": null,
      "metadata": {},
      "outputs": [
        {
          "data": {
            "text/plain": [
              "(15545366, 9)"
            ]
          },
          "execution_count": 43,
          "metadata": {},
          "output_type": "execute_result"
        }
      ],
      "source": [
        "xb_player_info.shape"
      ]
    },
    {
      "cell_type": "code",
      "execution_count": null,
      "metadata": {},
      "outputs": [
        {
          "data": {
            "application/vnd.microsoft.datawrangler.viewer.v0+json": {
              "columns": [
                {
                  "name": "index",
                  "rawType": "int64",
                  "type": "integer"
                },
                {
                  "name": "playerid",
                  "rawType": "int64",
                  "type": "integer"
                },
                {
                  "name": "nickname",
                  "rawType": "object",
                  "type": "string"
                },
                {
                  "name": "achievementid",
                  "rawType": "object",
                  "type": "string"
                },
                {
                  "name": "date_acquired",
                  "rawType": "object",
                  "type": "string"
                },
                {
                  "name": "gameid",
                  "rawType": "float64",
                  "type": "float"
                },
                {
                  "name": "title",
                  "rawType": "object",
                  "type": "string"
                },
                {
                  "name": "description",
                  "rawType": "object",
                  "type": "string"
                },
                {
                  "name": "points",
                  "rawType": "float64",
                  "type": "float"
                },
                {
                  "name": "library",
                  "rawType": "object",
                  "type": "string"
                }
              ],
              "conversionMethod": "pd.DataFrame",
              "ref": "0e2adf48-e833-4507-b8dc-a48861489242",
              "rows": [
                [
                  "12737010",
                  "2192716",
                  "HunterBrawl",
                  "8400_356763",
                  "2017-02-19 00:43:09",
                  "8400.0",
                  "Served Cold",
                  "Complete Ep. 10: Legacy",
                  "20.0",
                  "[666465, 622655, 677054, 3600, 496211, 459717, 163628, 617109, 19160, 165563, 10565, 550303, 14312, 463467, 330320, 618474, 625306, 611209, 643873, 7418, 3892, 1161, 1782, 1197, 1040, 2876, 8901, 571064, 445449, 499042, 467381, 443424, 407383, 673225, 399686, 593425, 438017, 438212, 467369, 450786, 504484, 572654, 435954, 615068, 614336, 661515, 333954, 16604, 455234, 445529, 408305, 14709, 395017, 1964, 12144, 14711, 587484, 18184, 444318, 617062, 426330, 590395, 444319, 1221, 425425, 572596, 571128, 567299, 465822, 551036, 11747, 30319, 443365, 331346, 1186, 7714, 1158, 623143, 7416, 551316, 10617, 1196, 411210, 391904, 408360, 1155, 1077, 176615, 139114, 1133, 1048, 393038, 1529, 181958, 459919, 331739, 15133, 165911, 175269, 15738, 8800, 14950, 11389, 12210, 463211, 4840, 17726, 453273, 8241, 10948, 386268, 446494, 183346, 7972, 184137, 432936, 418000, 416384, 414600, 15680, 158112, 190485, 170683, 15071, 14775, 407507, 31985, 26620, 135160, 329542, 401539, 5914, 330345, 403792, 1785, 434287, 413108, 386650, 386266, 390622, 384322, 393460, 191646, 195544, 336957, 195136, 177529, 144778, 11314, 137933, 165180, 6746, 145945, 386132, 20504, 183442, 390637, 2114, 358191, 333726, 357455, 7314, 15442, 135148, 29167, 20642, 5737, 15132, 10791, 14452, 15136, 1402, 409706, 10602, 7545, 369566, 169460, 16740, 11941, 1146, 142911, 11597, 19165, 19164, 9203, 179944, 14490, 10509, 10471, 3227, 3597, 16295, 20563, 24405, 20519, 7099, 3516, 14951, 7488, 7756, 14136, 14898, 14615, 6465, 8791, 5966, 5719, 10068, 7615, 8136, 1203, 6184, 6060, 5726, 1237, 8400, 10051, 5736, 6820, 1226, 5735, 5723, 1216, 9474, 3393, 3696, 5276, 8663, 1171, 3880, 7614, 4850, 1204, 5395, 3923, 7212, 3922, 1159, 1217, 1240, 2866, 5405, 1869, 4880, 1441, 3665, 2435, 6477, 5343, 6777, 6287, 5990, 3915, 5457, 5297, 1168, 1220, 2862, 1142, 3554, 3982, 1988, 1979, 5224, 2006, 1209, 3610, 1141, 2231, 1771]"
                ],
                [
                  "1912420",
                  "2864709",
                  "mittisan",
                  "3604_329632",
                  "2014-03-04 20:15:23",
                  "3604.0",
                  "On Base",
                  "You defeated the first base in Vindicators Part II.",
                  "15.0",
                  "[655218, 655217, 9613, 702196, 23441, 583531, 620621, 13229, 555299, 659103, 682463, 610623, 567082, 731959, 714317, 727766, 613906, 739402, 686861, 670712, 619795, 594252, 738556, 738557, 634694, 554702, 692606, 692607, 621193, 670331, 630206, 586815, 616163, 383776, 602715, 602689, 2385, 555300, 503811, 504484, 572596, 572654, 707377, 707100, 691168, 691157, 691158, 669895, 681837, 625305, 625306, 646387, 617059, 628987, 674405, 659646, 659315, 609802, 643871, 644501, 553006, 553184, 591425, 590914, 605392, 605318, 697578, 697350, 563168, 617062, 518000, 660053, 583162, 624090, 623143, 467369, 552945, 476540, 655326, 655145, 650629, 650453, 650455, 651667, 649351, 649352, 617111, 617060, 697027, 501774, 628988, 607639, 605307, 649553, 598615, 682741, 684573, 691639, 685340, 662472, 662256, 695153, 691447, 655059, 657190, 439973, 686100, 687807, 690003, 650630, 387568, 672890, 672193, 5396, 656184, 653133, 510198, 675060, 566645, 675299, 2006, 578593, 661515, 1168, 607916, 612313, 553927, 628990, 661254, 643873, 675341, 681919, 673865, 673692, 667244, 645640, 644631, 645641, 644500, 646388, 652436, 613900, 610004, 593906, 597093, 576623, 577746, 427291, 372714, 426330, 10471, 1818, 2885, 626678, 613797, 613742, 672358, 677668, 662741, 608456, 625650, 591456, 643868, 634016, 651963, 654047, 664784, 655454, 673225, 479231, 676471, 1938, 2813, 7620, 10732, 494677, 1194, 610379, 610378, 592129, 485621, 485644, 165217, 2158, 2717, 2812, 2443, 550218, 550194, 2133, 1337, 30319, 2405, 5366, 7256, 649510, 7615, 1986, 1920, 6465, 6477, 2231, 2860, 2382, 2567, 1648, 2478, 2636, 2395, 3482, 2063, 1657, 3696, 14177, 2143, 3922, 1200, 527809, 1813, 2157, 12859, 511274, 527500, 2805, 2892, 547382, 428714, 519714, 499433, 542587, 523723, 1207, 1292, 1297, 505523, 560245, 5375, 514024, 1361, 2310, 484155, 481928, 574142, 2882, 568569, 568568, 572992, 572819, 571064, 571128, 5395, 5736, 20893, 14878, 17562, 11609, 17962, 20591, 16146, 14960, 11655, 13348, 607723, 607307, 605306, 581496, 437764, 587890, 499662, 489247, 427678, 479227, 456008, 401329, 195568, 19331, 14531, 415406, 444808, 10443, 388055, 391731, 2922, 10400, 337324, 176730, 23765, 494341, 426546, 1097, 2341, 3607, 2362, 1713, 2010, 1699, 2273, 1492, 3895, 591457, 191427, 470383, 470416, 139290, 17793, 514188, 3527, 577127, 574856, 546475, 2528, 438998, 527788, 587484, 578688, 589331, 508851, 566694, 577202, 579274, 577747, 372161, 490429, 542247, 574141, 2849, 479674, 393460, 432418, 502537, 399676, 429186, 395017, 441437, 384924, 494337, 425022, 551316, 386224, 569073, 589782, 587481, 587482, 572818, 390774, 434799, 485623, 573261, 458578, 525603, 1161, 546942, 572760, 484682, 516571, 530393, 544548, 548221, 555497, 553334, 573106, 425636, 574264, 574263, 489188, 2412, 455760, 455857, 529241, 529240, 544212, 544213, 456420, 456421, 568876, 458577, 459829, 559711, 478064, 464438, 515028, 567298, 567299, 463611, 451681, 429091, 485276, 522580, 457316, 437763, 465660, 555675, 555676, 566982, 418569, 453072, 8754, 8296, 485286, 386506, 445452, 559328, 444374, 505519, 429723, 563109, 491211, 517997, 465711, 542002, 542001, 424154, 455677, 509523, 472277, 460362, 544991, 484666, 442834, 490137, 443813, 552816, 529622, 488540, 564735, 530893, 550317, 557215, 459129, 546944, 546945, 523442, 517998, 491470, 555298, 501526, 518564, 527692, 555512, 457311, 542589, 464191, 563321, 461671, 522579, 477866, 447692, 516924, 559297, 497649, 472353, 452811, 525604, 530394, 522092, 479226, 552814, 520885, 529139, 519296, 495836, 499663, 529099, 551759, 483037, 553511, 500206, 517094, 450786, 408305, 517855, 392996, 465700, 520362, 499664, 555434, 142864, 404569, 395817, 554246, 552980, 184897, 185285, 8577, 1217, 445447, 17728, 426941, 428354, 427047, 485765, 485760, 551035, 551036, 1156, 2230, 2021, 8297, 13992, 14842, 1414, 5284, 1170, 1116, 542590, 139256, 1218, 1393, 455234, 499042, 452812, 465651, 435954, 1875, 456028, 440939, 457365, 370533, 189333, 13627, 3554, 13160, 454138, 452810, 1687, 177049, 3601, 403780, 387878, 446772, 447403, 447426, 447395, 435893, 2788, 452237, 430754, 455675, 446494, 413329, 451625, 434200, 403767, 403792, 434563, 337443, 455786, 436209, 3219, 462426, 511522, 436369, 462428, 514319, 460724, 457461, 424152, 406088, 510196, 459830, 446723, 496210, 459988, 510096, 1978, 441002, 416637, 460364, 457435, 511937, 491209, 490095, 452813, 479233, 472049, 470538, 510126, 461092, 511605, 465686, 438211, 416283, 429492, 432817, 467898, 440850, 1334, 2600, 429088, 409601, 471837, 499661, 441809, 482727, 453272, 458084, 468617, 432434, 451035, 452351, 439873, 454907, 454916, 441306, 420971, 459361, 468583, 458349, 441187, 460538, 501709, 458085, 487114, 460898, 452934, 453175, 414036, 462856, 441807, 429170, 445526, 391904, 464004, 460789, 483644, 485277, 425005, 502536, 493759, 456108, 456424, 456423, 437325, 441609, 444319, 411210, 434682, 450540, 168923, 460017, 465653, 15044, 460018, 372434, 444964, 439850, 441933, 406752, 447694, 434056, 445527, 483676, 504237, 452982, 456167, 459001, 451735, 445805, 462429, 468386, 478107, 408360, 462857, 438212, 444318, 438017, 425425, 465822, 467381, 443365, 443424, 456534, 493054, 465649, 441651, 474936, 478140, 478063, 497648, 496212, 499660, 485275, 485766, 479230, 496211, 497887, 3486, 2141, 14521, 2727, 12006, 7314, 23879, 2615, 14156, 2002, 5960, 6190, 9393, 9787, 3220, 1142, 2760, 1375, 2170, 1428, 2653, 1238, 1128, 337050, 135755, 440491, 1202, 7212, 8803, 1397, 2568, 2150, 1141, 1528, 177200, 438780, 191682, 3238, 421530, 11400, 11398, 14176, 2614, 2630, 2702, 2142, 1201, 169468, 168929, 415958, 329542, 192046, 418556, 19841, 2145, 2242, 2486, 2756, 2635, 2441, 2140, 451285, 421236, 1216, 429985, 453273, 413219, 419838, 421465, 450668, 436213, 452154, 404483, 446797, 450538, 445772, 439003, 446616, 445529, 445449, 443426, 443425, 3610, 413019, 3227, 426663, 401676, 407557, 427955, 400601, 409656, 418309, 446619, 434952, 441000, 442880, 429878, 443358, 433072, 445456, 422827, 436208, 438361, 441998, 443474, 441808, 441529, 434178, 443366, 440252, 437508, 443739, 444569, 411212, 441768, 438018, 428438, 373568, 358679, 138967, 1677, 7648, 440049, 2662, 1733, 439247, 436210, 435379, 438600, 439869, 432426, 439001, 435848, 424775, 432433, 410150, 437114, 437200, 421434, 9818, 1111, 2261, 419004, 421655, 2816, 1440, 428026, 414600, 416030, 428436, 425271, 7918, 384913, 390740, 1684, 1355, 3842, 3902, 432697, 432419, 359597, 3830, 2246, 7513, 407776, 15207, 419920, 167427, 189376, 395144, 416425, 416638, 404101, 421896, 384412, 414263, 429320, 410185, 416390, 424592, 424640, 424151, 430879, 428890, 411038, 423358, 429952, 418971, 406751, 410636, 419327, 419319, 427953, 426315, 406302, 418953, 428356, 429273, 420091, 422791, 406442, 421765, 425635, 2540, 2250, 2406, 2370, 2138, 1645, 2686, 2473, 2417, 2451, 2652, 2249, 2384, 2654, 2616, 2692, 1121, 2513, 3437, 191770, 184997, 189432, 168142, 374039, 374040, 374038, 387480, 387479, 387482, 387481, 387538, 387533, 387519, 387543, 387535, 387643, 387536, 387534, 387518, 387537, 387500, 170778, 1904, 1591, 407372, 17043, 17725, 399285, 399284, 138820, 10957, 20519, 406694, 2691, 2490, 2639, 1679, 2431, 400120, 191658, 16700, 30950, 372337, 16507, 404023, 416384, 416383, 399686, 337475, 184079, 11431, 408332, 9437, 328664, 170471, 359243, 335985, 421662, 373690, 399354, 392337, 9873, 136794, 20298, 335924, 23868, 158935, 21078, 194289, 404855, 183371, 401352, 167466, 403903, 385724, 333594, 390954, 330668, 413365, 358178, 191713, 24156, 385730, 374187, 336899, 418107, 169608, 404774, 170683, 191554, 387070, 373467, 385524, 177109, 332890, 418140, 333246, 403900, 405980, 18704, 390676, 391789, 401338, 393252, 385148, 402784, 387847, 406753, 330321, 357455, 333726, 413152, 374231, 383775, 395702, 413030, 392803, 408548, 387100, 404052, 358191, 386599, 385635, 393717, 404868, 387286, 414405, 410313, 408018, 387329, 387701, 393088, 381352, 393944, 406564, 409790, 192086, 401064, 386402, 391438, 386163, 409372, 414262, 393311, 386735, 402752, 185108, 400606, 407386, 409214, 390966, 403417, 359542, 372191, 405989, 395487, 404169, 24215, 195513, 334467, 10313, 10253, 1206, 2554, 4768, 1261, 10791, 8867, 1215, 12061, 6643, 385620, 8703, 12571, 2175, 3620, 1823, 1479, 2556, 2040, 13676, 1132, 1530, 1312, 5525, 1468, 1640, 5963, 3591, 2184, 1554, 3808, 2294, 1466, 2429, 1782, 1436, 1631, 2289, 4764, 7137, 7144, 4932, 2333, 1707, 3741, 1562, 2570, 2263, 1541, 2563, 6118, 332876, 6730, 384322, 385523, 372622, 384925, 328731, 169489, 143612, 167717, 166063, 373549, 182243, 24155, 157021, 20047, 21385, 337445, 9837, 1182, 12661, 373468, 165759, 383774, 158785, 17847, 23326, 14692, 189246, 16557, 15595, 19013, 173623, 373682, 175679, 145019, 20739, 374116, 156980, 169502, 372701, 372621, 372497, 17960, 19161, 15637, 337461, 191335, 331041, 175623, 373465, 136443, 137066, 359936, 9871, 24265, 370184, 370425, 144775, 331153, 179581, 7167, 167795, 20951, 135388, 12851, 139185, 329035, 136789, 190045, 26620, 192185, 139777, 328956, 358674, 10468, 159932, 137243, 9718, 156930, 13142, 169590, 372085, 369659, 336721, 369643, 175268, 24120, 135497, 337281, 194172, 195338, 19772, 21656, 167934, 193394, 168147, 166869, 333118, 19588, 337248, 16428, 185487, 332903, 330080, 337607, 17524, 18007, 191742, 358332, 182684, 337476, 138203, 20876, 17679, 334207, 329390, 142920, 336748, 195400, 168105, 184982, 329980, 330420, 135805, 337662, 173622, 137103, 17454, 21386, 159688, 330516, 194794, 135744, 333440, 138808, 11758, 190485, 12186, 331822, 17709, 185073, 333511, 173700, 11384, 194793, 9686, 335350, 330645, 336957, 191646, 333797, 331346, 333512, 333177, 171879, 330235, 139119, 139120, 139121, 183334, 19469, 11942, 135799, 17177, 2448, 1979, 2042, 1183, 2223, 14709, 138974, 159139, 159138, 191721, 5191, 1185, 2392, 2876, 1134, 12567, 1632, 23512, 15958, 165898, 139887, 18271, 165262, 23982, 328996, 135356, 12990, 23228, 176664, 15999, 17081, 136457, 137984, 174551, 21065, 23848, 19306, 13114, 19436, 135102, 16486, 6493, 159427, 160008, 195810, 328622, 20588, 190655, 167657, 10679, 10500, 11200, 10448, 18067, 18082, 18131, 164064, 11355, 13995, 9444, 19779, 182001, 20985, 169922, 16456, 195544, 17692, 16549, 20336, 166434, 184005, 1241, 167485, 137660, 137501, 167409, 193442, 21205, 18184, 136793, 16654, 195136, 17569, 23557, 18198, 17743, 14566, 143960, 18881, 16969, 194790, 143930, 177444, 23594, 19928, 1131, 163940, 188971, 185288, 166052, 21341, 23942, 169460, 21191, 17629, 17455, 184893, 193798, 139922, 21237, 19270, 188608, 3580, 16840, 18718, 9435, 17385, 12779, 185370, 18858, 184341, 143645, 190877, 158112, 163303, 167481, 174475, 168379, 194171, 165180, 5688, 20215, 24010, 191411, 177529, 193441, 137142, 177240, 13619, 166191, 17256, 166995, 190061, 23639, 188781, 18220, 19614, 190429, 157685, 23432, 20469, 183347, 192083, 18744, 171880, 175694, 15133, 5869, 1448, 13520, 3487, 7943, 11691, 17096, 7604, 17225, 17219, 18867, 18848, 14223, 14990, 13618, 5615, 8725, 10680, 164072, 9977, 9947, 1129, 3260, 1627, 2479, 24060, 165183, 19535, 15055, 10297, 14947, 1441, 7531, 14158, 7618, 13215, 1138, 12681, 1392, 14840, 7099, 8980, 15439, 9942, 3350, 13690, 10472, 15340, 13930, 24200, 158849, 11501, 9002, 137933, 144778, 163206, 12894, 18098, 24246, 15830, 16100, 19127, 20390, 5871, 2000, 15721, 8181, 1965, 7614, 1996, 1599, 1722, 10068, 7714, 7997, 20561, 7442, 1041, 2696, 2583, 8136, 5868, 17686, 5726, 1766, 1399, 5258, 1690, 13996, 6037, 11781, 1836, 5173, 3614, 1171, 1230, 2038, 1210, 2259, 7407, 1899, 9595, 8821, 8796, 17224, 18054, 13112, 10410, 11631, 11485, 14992, 9338, 17561, 16837, 9753, 11664, 15416, 7972, 1212, 9862, 15071, 7778, 3880, 5720, 1090, 3887, 1103, 1371, 2739, 1234, 11184, 1643, 1249, 1749, 9499, 1374, 9809, 10499, 14830, 16954, 15442, 14182, 14828, 19524, 13208, 14246, 15184, 15088, 11907, 15969, 9062, 10383, 11357, 13168, 9094, 9290, 12574, 9851, 14179, 19859, 17726, 12334, 11927, 7358, 2836, 12693, 11224, 1117, 1115, 1577, 8135, 7808, 7908, 3395, 1935, 6757, 18135, 11666, 8268, 9464, 12156, 16291, 10977, 9807, 10196, 11473, 17691, 16005, 14775, 12017, 6762, 9040, 10202, 8241, 12713, 12525, 8499, 13718, 15338, 8301, 11147, 11314, 12409, 12405, 12408, 7802, 12407, 7843, 1493, 8272, 1881, 2559, 2738, 1593, 1912, 8605, 3516, 1221, 5385, 1239, 1964, 11683, 14111, 13698, 4871, 7330, 1135, 1563, 10492, 1308, 3407, 7357, 2755, 1443, 2125, 1930, 2561, 1635, 8755, 2085, 2434, 7405, 7165, 8888, 5911, 8080, 5629, 2148, 2697, 7664, 1526, 5738, 6256, 1080, 1529, 7418, 6330, 1944, 5169, 2527, 1178, 6779, 6429, 2179, 2529, 1917, 1119, 3485, 2619, 2352, 1968, 2801, 1688, 1594, 1553, 1551, 2001, 1933, 2149, 2714, 1988, 2163, 5269, 1844, 1246, 2856, 1550, 2135, 1984, 2870, 7500, 3892, 1633, 5983, 3536, 1880, 1825, 8663, 1720, 1900, 1941, 2929, 1918, 1683, 5145, 1045, 2180, 2817, 1914, 1653, 1388, 1193, 1499, 2416, 1107, 1084, 2772, 2699, 2209, 1706, 1902, 1346, 3258, 1998, 1890, 2869, 1678, 2456, 1602, 5458, 4995, 1545, 1522, 1523, 1745, 1620, 1300, 3436, 1668, 1658, 1489, 1243, 1585, 2721, 1279, 1317, 1373, 3985, 4866, 3604, 3725, 1226, 5140, 3597, 5457, 2868, 2516, 4872, 2059, 4879, 3261, 2572, 1864, 3327, 3982, 2734, 3277, 3495, 1561, 3773, 3673, 3665, 1638, 1534, 3600, 1435, 1430, 1584, 1647, 3702, 3748, 3734, 1491, 1372, 1535, 1082, 1512, 2731, 3862, 1895, 2003, 1363, 1654, 1811, 1905, 1682, 1819, 1345, 1521, 1582, 1364, 1154, 2661, 3454, 2943, 3496, 3570, 1281, 1506, 3259, 2589, 1670, 1993, 1701, 1833, 2539, 2884, 1943, 3321, 2718, 1963, 3211, 3289, 2919, 2913, 2873, 1169, 1936, 1732, 2354, 1954, 1945, 1845, 2530, 2013, 1859, 2852, 1198, 2837, 2829, 1696, 1840, 2716, 1835, 1908, 1709, 2754, 1224, 1748, 2114, 1490, 1409, 1547, 1831, 1838, 1233, 1897, 1689, 2526, 1250, 2106, 1203, 1884, 1721, 1877, 1278, 1915, 1208, 1544, 1576, 1598, 1557, 1383, 1834, 2578, 2715, 1356, 1571, 1157, 1559, 1911, 2694, 1763, 1427, 1570, 1209, 1705, 2460, 1380, 1744, 1746, 1662, 2808, 1213, 1564, 1718, 2489, 1977, 1403, 1100, 1273, 1575, 1175, 2777, 1354, 1572, 1311, 2187, 1502, 1655, 1590, 1614, 2621, 1592, 1717, 2359, 1463, 2282, 1612, 1477, 1651, 2278, 1444, 1191, 1548, 1314, 1272, 1325, 1401, 1454, 1505, 1396, 1543, 2202, 2722, 1413, 1500, 1636, 2709, 1096, 1231, 1524, 1173, 1370, 1044, 1365, 1517, 1421, 1237, 1225, 1724, 1583, 1158, 1386, 1259, 1319, 1423, 1180, 2437, 2803, 1600, 1258, 1536, 1155, 1316, 1509, 1532, 1188, 1146, 1924, 1151, 1186, 2364, 1075, 2160, 2574, 1810, 1162, 1387, 1381, 1415, 1043, 1149, 2194, 1335, 1336, 1139, 2296, 1244, 1099, 2742, 2232, 1274, 1446, 1126, 1431, 1253, 1125, 1113, 2425, 1048, 1266, 1123, 1623, 1242, 1405, 1077, 1081, 1268]"
                ],
                [
                  "13002881",
                  "775404",
                  "Odindarkness",
                  "10509_366805",
                  "2015-10-31 04:01:43",
                  "10509.0",
                  "Reclamation",
                  "Completed Mission 13.",
                  "10.0",
                  "[550303, 19405, 477002, 3965, 7756, 407383, 333954, 423001, 16604, 10661, 14950, 464880, 369719, 463211, 7545, 10948, 24405, 458474, 421338, 17708, 31985, 335427, 14898, 7210, 330320, 434287, 12645, 9818, 23440, 183346, 421362, 394929, 411120, 10509, 170459, 330676, 15340, 17339, 20729, 14951, 8577, 18750, 23441, 17625, 331739, 166507, 8076, 20623, 18697, 16360, 9474, 30319, 14490, 176537, 176824, 3405, 8525, 8526, 9203, 8296, 168419, 10488, 10602, 9118, 20642, 5718, 2248, 31625, 18204, 2526, 15133, 9942, 137811, 9787, 135160, 135755, 8080, 13831, 16292, 6804, 14312, 20123, 5723, 1860, 8901, 10617, 9825, 12844, 11942, 12540, 15132, 6465, 1238, 6723, 3597, 14615, 8136, 14842, 11683, 1154, 7376, 16035, 6820, 7816, 5276, 1040, 1216, 2450, 1365, 1516, 10761, 1141, 11914, 1224, 5140, 8663, 1220, 7235, 8484, 1088, 1785, 1766, 1925, 10791, 5395, 2030, 1863, 3614, 5966, 6792, 5982, 1178, 6889, 3880, 3923, 1203, 5191, 7255, 5960, 6414, 1230, 2876, 3238, 7418, 5405, 3887, 3610, 1213, 1192, 2114, 2077, 3982, 5457, 8135, 3355, 7212, 5396, 5366, 1500, 3437, 6006, 6477, 1913, 2484, 1229, 2006, 3823, 3860, 3600, 1226, 2262, 1195, 3431, 1938, 1228, 1191, 2516, 1135, 1196, 1691, 1142, 1736, 3259, 1217, 1979, 2929, 1909, 1198, 1090, 1674, 1168, 1705, 1644, 1968, 1225, 2435, 1185, 1843, 1911, 1240, 1206, 2208, 1072, 1756, 1415, 1664, 1749, 2022, 1125, 1202, 1151, 1856, 1754, 1183, 1186, 1133, 1855, 1729, 1688, 1673, 1651, 1633, 1413, 1394, 1319, 1268, 1181, 1171, 1165, 1159, 1156, 1155, 1143, 1138, 1129, 1121, 1080, 1043]"
                ],
                [
                  "1087459",
                  "848677",
                  "SUPER FLY 1988",
                  "429170_3893555",
                  "2023-02-17 05:49:07",
                  "429170.0",
                  "Damp knight",
                  "Visit Swampland",
                  "50.0",
                  "[589201, 660110, 9613, 550303, 634627, 707376, 647305, 718344, 691378, 713027, 190877, 738556, 738557, 712027, 655598, 716030, 686451, 670673, 658341, 667244, 695153, 668642, 691447, 707100, 691157, 476540, 572596, 691158, 675299, 707377, 572654, 504484, 169991, 691168, 628242, 552945, 519352, 626678, 598198, 584391, 492749, 9637, 335454, 546914, 620354, 703098, 708654, 497571, 478064, 652330, 594420, 610215, 601882, 654047, 655454, 684168, 682741, 157706, 194794, 666392, 621194, 696633, 13421, 505424, 18204, 657190, 690332, 638957, 649553, 656193, 664989, 600117, 617542, 639408, 687083, 689044, 655059, 640486, 19170, 618475, 688467, 632582, 629022, 653133, 566645, 689301, 675060, 464802, 607916, 510198, 673865, 688073, 688281, 688072, 572992, 556004, 605392, 597093, 664489, 459129, 577746, 598615, 593906, 576623, 610004, 613900, 587484, 627637, 673692, 657765, 657722, 657723, 496211, 618474, 619046, 497887, 643873, 572819, 645640, 652436, 669985, 644631, 390637, 623143, 553927, 614117, 611209, 625305, 625306, 611063, 644500, 612313, 612918, 624090, 645641, 612312, 618601, 676828, 683285, 593742, 628165, 421362, 681919, 648341, 677054, 31985, 670707, 655145, 682665, 662183, 646387, 668123, 605318, 563631, 672590, 672416, 602689, 616520, 435893, 439850, 666465, 610623, 622655, 674404, 643871, 672358, 674405, 664787, 372191, 604514, 640002, 643868, 427047, 605298, 578688, 617047, 664786, 463211, 452812, 465651, 592129, 634111, 634017, 571128, 634694, 591639, 588120, 588119, 636710, 636711, 571064, 609527, 664784, 578687, 485621, 513345, 661515, 567299, 567298, 569398, 613797, 613742, 544213, 544212, 662741, 661254, 662256, 598062, 620544, 485312, 612530, 630032, 608457, 499982, 609465, 559328, 551560, 651963, 523903, 620794, 17772, 165108, 480785, 465469, 653003, 418953, 479227, 372337, 464004, 458727, 590311, 458516, 578593, 632023, 542247, 645721, 575931, 593789, 510196, 649510, 644375, 644499, 644501, 627238, 627773, 643367, 628992, 606786, 617110, 553184, 462857, 624466, 604710, 553006, 564441, 603442, 627799, 617111, 636510, 615068, 614336, 617109, 602715, 627746, 617061, 628990, 628987, 617062, 617060, 628988, 569073, 479674, 399676, 427291, 372714, 432418, 393460, 386224, 441437, 426330, 429186, 395017, 518000, 551316, 502537, 442834, 627582, 372434, 573028, 596500, 408305, 450786, 634654, 488540, 456420, 455760, 489247, 577127, 634016, 607307, 607723, 503811, 609593, 632516, 555675, 555676, 168142, 526462, 628876, 18687, 550228, 597922, 629165, 598418, 562945, 529240, 625650, 622626, 625649, 529241, 572818, 551035, 551036, 619781, 567082, 598356, 547910, 598357, 333070, 333069, 333068, 329397, 475817, 615876, 618473, 605306, 605307, 554580, 613127, 590914, 591425, 616979, 458726, 607503, 563109, 491470, 333511, 509352, 15136, 574264, 574263, 608975, 458578, 593425, 425022, 547529, 572968, 574142, 529725, 445449, 443425, 459829, 568569, 568568, 588791, 608456, 574798, 587890, 499662, 337609, 438018, 427678, 496212, 428438, 577202, 605736, 606636, 600119, 444808, 420978, 437764, 331328, 446772, 447395, 456532, 601793, 432424, 438361, 548161, 494081, 9740, 438211, 601100, 335702, 462444, 407507, 592359, 425911, 600118, 552816, 163940, 544991, 587485, 12285, 408255, 470537, 459830, 17646, 424152, 480784, 21330, 32522, 14567, 391731, 11938, 578474, 158938, 401539, 598614, 576345, 139620, 166846, 167710, 527692, 526463, 570812, 456108, 9131, 330676, 441768, 430955, 453767, 332860, 464880, 438212, 490029, 485760, 480000, 546475, 493758, 465649, 493054, 518193, 591457, 590826, 443424, 467381, 588863, 589783, 588862, 589759, 555685, 587483, 589331, 463487, 434682, 441609, 494337, 441997, 511274, 470538, 499042, 583162, 585498, 452813, 584814, 554157, 373618, 413416, 384924, 386441, 435954, 582400, 395817, 12186, 456421, 550352, 163303, 438017, 525603, 547382, 579272, 550351, 579274, 574727, 544919, 491774, 555299, 441993, 574143, 572600, 485765, 503704, 574141, 574856, 429170, 424648, 370177, 527787, 573261, 414405, 567533, 471872, 461092, 387342, 372161, 571651, 455857, 509523, 491209, 143645, 529011, 441809, 571130, 15358, 513478, 515055, 440260, 426213, 472277, 445527, 545112, 550243, 568876, 13770, 335427, 436209, 505523, 385729, 566982, 455677, 460724, 529938, 554065, 542322, 432924, 558551, 12694, 14950, 462180, 529013, 563321, 557191, 544423, 529100, 552980, 530288, 552814, 554855, 498371, 549829, 522580, 478851, 167896, 460898, 403885, 512777, 558379, 441810, 16292, 557215, 553334, 510464, 393815, 10783, 523126, 524905, 10948, 554246, 527938, 415406, 435673, 555434, 498262, 430754, 485277, 422242, 167367, 165989, 32433, 450890, 497138, 445448, 520846, 465673, 420614, 405678, 135160, 463467, 12857, 519158, 330320, 501227, 443789, 548414, 421199, 499572, 410185, 546942, 492733, 546476, 15680, 399354, 545892, 168419, 447047, 494719, 493204, 504414, 441651, 542589, 494341, 542590, 20519, 406694, 165552, 519712, 527788, 7908, 530394, 417380, 512340, 11941, 455234, 7877, 485623, 499663, 472049, 529622, 508712, 513369, 519001, 529139, 503596, 15637, 525604, 523443, 386650, 409310, 432397, 169586, 468681, 406753, 447403, 358332, 447426, 483644, 457311, 497648, 522579, 465376, 499433, 520362, 419837, 159688, 516571, 517094, 501089, 385534, 502866, 480939, 502384, 502886, 23441, 441807, 511522, 512778, 497649, 502536, 479564, 505519, 330237, 514319, 479563, 456853, 456029, 426546, 370836, 511605, 498844, 462429, 413019, 510096, 494807, 139297, 456542, 457380, 451625, 401064, 496762, 446494, 139445, 501090, 504237, 489954, 373682, 502498, 499967, 501709, 139119, 391904, 499664, 457456, 444319, 443365, 23252, 465822, 444318, 478269, 499660, 500206, 413778, 452935, 6765, 459717, 458474, 453418, 139120, 139121, 481479, 436211, 459001, 445805, 460650, 395144, 440873, 406662, 387360, 493249, 432817, 440252, 424845, 459919, 413329, 472240, 417159, 184341, 468583, 465699, 483675, 487114, 490429, 432420, 489864, 477866, 490095, 489212, 442655, 406714, 479233, 383987, 402752, 485766, 408360, 14490, 416283, 487125, 373568, 425425, 182047, 484156, 411210, 455533, 459275, 485762, 484682, 434287, 193664, 481767, 414966, 479230, 468476, 480783, 479231, 416637, 481210, 462551, 461802, 473078, 138967, 470383, 462856, 432936, 456424, 468617, 478063, 443426, 456423, 428714, 473963, 467898, 185285, 358470, 404432, 426264, 454138, 460018, 334450, 468502, 26620, 439747, 456028, 465306, 465686, 468386, 455655, 460627, 20562, 183346, 13691, 169436, 446492, 443733, 333954, 384186, 423358, 384829, 24405, 453272, 393311, 461268, 183493, 443465, 21207, 141291, 21167, 459361, 461162, 460789, 385171, 401226, 336956, 16170, 170495, 424007, 17264, 169468, 145945, 13987, 330028, 390622, 27481, 24156, 458254, 453791, 447691, 419273, 410636, 457625, 432455, 457365, 456008, 453947, 413108, 455996, 453570, 15414, 433140, 440094, 446796, 453175, 452934, 447690, 455798, 405722, 446682, 454907, 452484, 452154, 452982, 416830, 409601, 429985, 419838, 394929, 168859, 453273, 372601, 445415, 450538, 369719, 21313, 407383, 451285, 428354, 446616, 445772, 450668, 445529, 387878, 23813, 10761, 193491, 442878, 445456, 422827, 15071, 446613, 411212, 404569, 358679, 11725, 427062, 443739, 443366, 409780, 444569, 438868, 378969, 419277, 406825, 166501, 435381, 30408, 17070, 443358, 438744, 20469, 9538, 441808, 441000, 441529, 435848, 440942, 439869, 440640, 428436, 440049, 439247, 18072, 439001, 331822, 438600, 404052, 406564, 436363, 390953, 435379, 437200, 418710, 430879, 437114, 406442, 416092, 408332, 434178, 426315, 419920, 395702, 435236, 372066, 419004, 429320, 436369, 139922, 401348, 330905, 420916, 437508, 436210, 434056, 432433, 409594, 20755, 183807, 195338, 333594, 434768, 434952, 166697, 167409, 418352, 413602, 433072, 432697, 415248, 384577, 422791, 428890, 390966, 421765, 429487, 429273, 428012, 428356, 400549, 425271, 416409, 427953, 424775, 334372, 419327, 333726, 420091, 400859, 409790, 358191, 357455, 418107, 418140, 416425, 413030, 416383, 416384, 414599, 410499, 395058, 192083, 182001, 406302, 387701, 381352, 175268, 135799, 175694, 409372, 413152, 185073, 409706, 410313, 409214, 408743, 384411, 177074, 408988, 407386, 408548, 406966, 333420, 394437, 404774, 393717, 183334, 405989, 390774, 395487, 400606, 402784, 403867, 404855, 148946, 403869, 404359, 403475, 404169, 403792, 373983, 373984, 195136, 17855, 400601, 185222, 333533, 334405, 387568, 195544, 334282, 399293, 183507, 3410, 7580, 391438, 12787, 392803, 384913, 391685, 363754, 7664, 373465, 142802, 390676, 387295, 386735, 386132, 386402, 163225, 387286, 142383, 178905, 331155, 384722, 374231, 372701, 384322, 384925, 385523, 384830, 374328, 8796, 383774, 369566, 17177, 29084, 333485, 10617, 30973, 333953, 142806, 181602, 12645, 29167, 18750, 26054, 333512, 369659, 372497, 330718, 146043, 372085, 358674, 370425, 369643, 15132, 337476, 14709, 182242, 190694, 328622, 190485, 336748, 193539, 337475, 337607, 337662, 333118, 334326, 191646, 336957, 337281, 189333, 335985, 177200, 189109, 334467, 333117, 330345, 23926, 333797, 331346, 17043, 188781, 333027, 328941, 333178, 329378, 177444, 328664, 328741, 166434, 328996, 163747, 330235, 330080, 166507, 184110, 138054, 165911, 142771, 195232, 176537, 193394, 185370, 172571, 143207, 175657, 188534, 1195, 194790, 191411, 160071, 194188, 193442, 194172, 194171, 193798, 191579, 193441, 183442, 173868, 1339, 171880, 176615, 166052, 189431, 183347, 188608, 159725, 13116, 184893, 184079, 14177, 142911, 14176, 163628, 14173, 165183, 18184, 181958, 177580, 177240, 176824, 177529, 175552, 138820, 139719, 16087, 16628, 13616, 171879, 167466, 170471, 168923, 169608, 140026, 170763, 12899, 19774, 11387, 170683, 24200, 12405, 12409, 17801, 142864, 15606, 15929, 170045, 10977, 169460, 135173, 148618, 137660, 19822, 7545, 159727, 17534, 11683, 168379, 17289, 138133, 158345, 17097, 15721, 137714, 145086, 168645, 24247, 8469, 32003, 16489, 144637, 20561, 17263, 17378, 19338, 166063, 21705, 166995, 8968, 14753, 14711, 166191, 10202, 167934, 8136, 16559, 29053, 164073, 20642, 165030, 165180, 164064, 160008, 159427, 163206, 135148, 159837, 158935, 158849, 9753, 17776, 16549, 12989, 13970, 143930, 157685, 158112, 19928, 11631, 142860, 5718, 8767, 143868, 156980, 17686, 7038, 7314, 10565, 135328, 1391, 1869, 135506, 17854, 13185, 17405, 13557, 13229, 3407, 6587, 24246, 23638, 17691, 10220, 137770, 10422, 11147, 13995, 11881, 13111, 13124, 20791, 16717, 19929, 137243, 144761, 30950, 30319, 139557, 142257, 142587, 14992, 17577, 137420, 144778, 139887, 20812, 20591, 31023, 21484, 9882, 20638, 16604, 16345, 11691, 13759, 136789, 139750, 139501, 12410, 17624, 135755, 139256, 139513, 20893, 13208, 139650, 7393, 138808, 139114, 20360, 11606, 17625, 137918, 136192, 16706, 137933, 20144, 23558, 20729, 15918, 13960, 21637, 13640, 24257, 17848, 15709, 13930, 135329, 137551, 23594, 24123, 23986, 17513, 18220, 14246, 136793, 12779, 15484, 18098, 14179, 7124, 137142, 23712, 136443, 18237, 19565, 13035, 14122, 12479, 16146, 20390, 14617, 18867, 23639, 18744, 21078, 24010, 7326, 10972, 16457, 21654, 8138, 12755, 13189, 21040, 18848, 17760, 7583, 14639, 24216, 19131, 20504, 12681, 23942, 10940, 9062, 16291, 16863, 23387, 7540, 21237, 23355, 23467, 23512, 13527, 9828, 18718, 14828, 19614, 19766, 21379, 17569, 10429, 15756, 8800, 3263, 20711, 8821, 11525, 11306, 15439, 16429, 11356, 6654, 13690, 21600, 14082, 5720, 21235, 6735, 20215, 9474, 10509, 17562, 13718, 14396, 21191, 20985, 9499, 15794, 15595, 20712, 9370, 17525, 14990, 14223, 14641, 12713, 17096, 19581, 9394, 11200, 10500, 5982, 19744, 19874, 17561, 19270, 18089, 18054, 19772, 19306, 17081, 17256, 14182, 8266, 15207, 18881, 16456, 10492, 18858, 16215, 20563, 14830, 8035, 13619, 9282, 9622, 10791, 13676, 17974, 14090, 17219, 13528, 10488, 20453, 16616, 9677, 6256, 19683, 9290, 18115, 12278, 11850, 19859, 14594, 20353, 14951, 17042, 20298, 20278, 19405, 13853, 20179, 7646, 19613, 11357, 15174, 13330, 13984, 19438, 19775, 19677, 16986, 15969, 17524, 19524, 18175, 18704, 8980, 18988, 1880, 15184, 15442, 11754, 14615, 17836, 13618, 18697, 16486, 14452, 13787, 15133, 12210, 6465, 17726, 7405, 17549, 17688, 17494, 16836, 16295, 9434, 10169, 6060, 9809, 1617, 14224, 12525, 13992, 5907, 10707, 11907, 16212, 7260, 16700, 2937, 10184, 16005, 12017, 15594, 13966, 16740, 8901, 14566, 12859, 14898, 7235, 15416, 5927, 11747, 14526, 15353, 15044, 15566, 15270, 14947, 9985, 6820, 12219, 11431, 12759, 14225, 14111, 14152, 14070, 13994, 3516, 13833, 13288, 8958, 2088, 1694, 8142, 5960, 2450, 3412, 1900, 3265, 1920, 6529, 4850, 7711, 7443, 10697, 11372, 8613, 8181, 10336, 9595, 7349, 6723, 8241, 9482, 10051, 13698, 9507, 5728, 9316, 12574, 6684, 10068, 13324, 5606, 5227, 13418, 13381, 13470, 13220, 7472, 13219, 10947, 9977, 5723, 9338, 12580, 9837, 10333, 13348, 9180, 12788, 12754, 1938, 4880, 5966, 7550, 8137, 12334, 10661, 11794, 13194, 7886, 9091, 8076, 7360, 7334, 8551, 9464, 10170, 13132, 12990, 10338, 12556, 7407, 8754, 13169, 10438, 7997, 12844, 8400, 8030, 12508, 12408, 12144, 9871, 8743, 5735, 7843, 10485, 12095, 9986, 11914, 11384, 8499, 9094, 9862, 9002, 9496, 5725, 9444, 11633, 5730, 11758, 10121, 10679, 1172, 1040, 8080, 11666, 11485, 6877, 11742, 11501, 6789, 9804, 11314, 9686, 9053, 10592, 11259, 7488, 6184, 9722, 11092, 10857, 10048, 9881, 10602, 1997, 10669, 10670, 10588, 9942, 10442, 10089, 10474, 6189, 8902, 9232, 10410, 9154, 10196, 10183, 9810, 7902, 5737, 1083, 5919, 7967, 4879, 8795, 7913, 10300, 10211, 9933, 8809, 10187, 8888, 10086, 6190, 7322, 8401, 9320, 9328, 3965, 9752, 3597, 1629, 7418, 7625, 9678, 1529, 2206, 1503, 3892, 1615, 1285, 1383, 1098, 3614, 7325, 3600, 2916, 9203, 9429, 5615, 9013, 9508, 3864, 9132, 6856, 9083, 9513, 8108, 9118, 9315, 9431, 9430, 9432, 8424, 7604, 8301, 8728, 9359, 7284, 6285, 8098, 8978, 5366, 5983, 7943, 9133, 5961, 9252, 8985, 9136, 8905, 6429, 8997, 8042, 7226, 8029, 8725, 8135, 8510, 7802, 7213, 8107, 8377, 7808, 7357, 8663, 6178, 6257, 3922, 8578, 8885, 7755, 8079, 8118, 8556, 8605, 7442, 8701, 8526, 8525, 3405, 7255, 6037, 5864, 6757, 7500, 6331, 7513, 3409, 7566, 8268, 6374, 7403, 8092, 8077, 1933, 7210, 7615, 5195, 6242, 8117, 5457, 7715, 5726, 7667, 6822, 8190, 8097, 1693, 7099, 3233, 6287, 1207, 2856, 7361, 8093, 7714, 7870, 6448, 8032, 6758, 8059, 6221, 7302, 7618, 1918, 7414, 5180, 8034, 7807, 7778, 7972, 7909, 6777, 7809, 7944, 7757, 7253, 5646, 5733, 1643, 7416, 5807, 6255, 1405, 1925, 7436, 7596, 1080, 7592, 7510, 7391, 3437, 3998, 7305, 5914, 5990, 7363, 5722, 3967, 6251, 1146, 5746, 4876, 5719, 5138, 6889, 7178, 7241, 6746, 7283, 1797, 6498, 5732, 1450, 5739, 7097, 5736, 6954, 1865, 6893, 7122, 7167, 5297, 7117, 6512, 7095, 7077, 6724, 1482, 1170, 1319, 1965, 1260, 1632, 1201, 5127, 2121, 1443, 5126, 2870, 6925, 5811, 1202, 1053, 1338, 1499, 5947, 1247, 1280, 1779, 1863, 3954, 4870, 3524, 2835, 2602, 1474, 1281, 3860, 1399, 1135, 5911, 3980, 1182, 3949, 4946, 5170, 3880, 1378, 6316, 6718, 5211, 1149, 6478, 6486, 6835, 6768, 6762, 6488, 6730, 2529, 6756, 6577, 1867, 6520, 6493, 6380, 6489, 2725, 1770, 1751, 5926, 6427, 5370, 6075, 1882, 5405, 3744, 3243, 2879, 4825, 5428, 3950, 1973, 2323, 1725, 3478, 2312, 1894, 5925, 1145, 6180, 2814, 2403, 1608, 1212, 5395, 2773, 6301, 1141, 6299, 5988, 6087, 3393, 5385, 2344, 3889, 1104, 5269, 5140, 1955, 4848, 6050, 3577, 1984, 6153, 5010, 1857, 6027, 1653, 6173, 5374, 5448, 2790, 1414, 1862, 1785, 3634, 6818, 1960, 2328, 1470, 6066, 1407, 4866, 5360, 3385, 3357, 3422, 2831, 1783, 2059, 1851, 1116, 3874, 5465, 6006, 5608, 6040, 5189, 5160, 5698, 2412, 1782, 5574, 5688, 5956, 5383, 4789, 1228, 3961, 4872, 3863, 5738, 1972, 3461, 5145, 3786, 1898, 5506, 4975, 1559, 5478, 1605, 2857, 5408, 5917, 4966, 2726, 2404, 3480, 1758, 2090, 1625, 2924, 2054, 2776, 3273, 1348, 1114, 2764, 2311, 2520, 1105, 2622, 2363, 2078, 3820, 2791, 3293, 1771, 4840, 5139, 2483, 3517, 2649, 5159, 1217, 2502, 2479, 5913, 5912, 4871, 2598, 1870, 2326, 3964, 2003, 3455, 4971, 4779, 5214, 2043, 1886, 4855, 4784, 5490, 3302, 6780, 6778, 4967, 1591, 6779, 1750, 3920, 3639, 4857, 2011, 5364, 5734, 5163, 4972, 5396, 1929, 5224, 1509, 3530, 5196, 1575, 1739, 1755, 2723, 5258, 1873, 2356, 2015, 1736, 3900, 3981, 3979, 3983, 3869, 3882, 2901, 1948, 5389, 1436, 5458, 5400, 1922, 1883, 1738, 3379, 2873, 1169, 3329, 3745, 1159, 4826, 3515, 3836, 3813, 5348, 3923, 5353, 4930, 3735, 2933, 1928, 5302, 1369, 3682, 3812, 3668, 1919, 3667, 2770, 2838, 3960, 1975, 4952, 3985, 3463, 3716, 1884, 5870, 3262, 3610, 1901, 3736, 4828, 1569, 3877, 3286, 3953, 3932, 3538, 5011, 1967, 5275, 3227, 3448, 2345, 5239, 1876, 1402, 5035, 2816, 2456, 1103, 5124, 1963, 1210, 1990, 3372, 1791, 2230, 2444, 4926, 3221, 2628, 1206, 2579, 5188, 5177, 1542, 3514, 3436, 2668, 1196, 4956, 2114, 4001, 2535, 5230, 2073, 3966, 2849, 4957, 1927, 3952, 4856, 4995, 4839, 4902, 1888, 4898, 4933, 4901, 3247, 1076, 5012, 1964, 3362, 2942, 3887, 1752, 1762, 4942, 5008, 1767, 1388, 4900, 4813, 3418, 2071, 2053, 1854, 2241, 2254, 1619, 1226, 3806, 1301, 1070, 3508, 1756, 1903, 1422, 1153, 1071, 1079, 1298, 1161, 3700, 1991, 5007, 1896, 1701, 1110, 1323, 3465, 3991, 1934, 2880, 2789, 2531, 1452, 2634, 3666, 3807, 2818, 1166, 2607, 1413, 3851, 1160, 1719, 1589, 1622, 1850, 1818, 2684, 3459, 3224, 4904, 1502, 3675, 5002, 3655, 2931, 2853, 4884, 4883, 2028, 3276, 4987, 3781, 3431, 4970, 1778, 2766, 2009, 1259, 1936, 4940, 1309, 3747, 1902, 3214, 2759, 1704, 1480, 1544, 1727, 1204, 1113, 1638, 2719, 1946, 2793, 3725, 3862, 3644, 1203, 2361, 1173, 1321, 3562, 4914, 4829, 3821, 1734, 1891, 1455, 2319, 1483, 3785, 2802, 3557, 1729, 3680, 1593, 4822, 4785, 3404, 1232, 4878, 3576, 3732, 4891, 1994, 1768, 1513, 1387, 1197, 3264, 2875, 1777, 1879, 4858, 4841, 3791, 3992, 1496, 3365, 2780, 1510, 3982, 1976, 1205, 4812, 1827, 1828, 1841, 1837, 1121, 3758, 3696, 5866, 1356, 3827, 3771, 3978, 2476, 1209, 1119, 1489, 1355, 1246, 1157, 1283, 1488, 1240, 1111, 3543, 2894, 2851, 3649, 1799, 1518, 3888, 1392, 3618, 1765, 1926, 1213, 3350, 1342, 2676, 1215, 1271, 1720, 1468, 1428, 2858, 1128, 3858, 1881, 1129, 1352, 1131, 1250, 1795, 2508, 1796, 1686, 1048, 3215, 3443, 2014, 1155, 3866, 1400, 3740, 2603, 3818, 3604, 3442, 1645, 1627, 1508, 1389, 2619, 1917, 2651, 2042, 1968, 1551, 1448, 1440, 1220, 2224, 2130, 1596, 1595, 1192, 3730, 1731, 1730, 3536, 2752, 3294, 1878, 3739, 3535, 1806, 1744, 3907, 1088, 1216, 1910, 2920, 1337, 1942, 1445, 1057, 2620, 3504, 3804, 3545, 2863, 2905, 3811, 3619, 2876, 5852, 1836, 3659, 2827, 1132, 1188, 2601, 2826, 1385, 1409, 2903, 2306, 1276, 2256, 1550, 3554, 3272, 3783, 3773, 3702, 3734, 3748, 2524, 2888, 2470, 1043, 2058, 1630, 1475, 2471, 2820, 3271, 1418, 2897, 1603, 3270, 1326, 1314, 1540, 1295, 1904, 1333, 3723, 3701, 3733, 1943, 1466, 3355, 3709, 3419, 1451, 1545, 1949, 1620, 1561, 3253, 1787, 2938, 1646, 1639, 1971, 2528, 1441, 2913, 3321, 1154, 2919, 1515, 1601, 2934, 1907, 1500, 2190, 1472, 1663, 1525, 3261, 3445, 1185, 1371, 1858, 1318, 3384, 1698, 2769, 3389, 1465, 1650, 2589, 2509, 1404, 1370, 1412, 1171, 1218, 1168, 1156, 2518, 1588, 1838, 1656, 2515, 1045, 1490, 2045, 1081, 2519, 1393, 1362, 1231, 1238, 2068, 1046, 1138, 1560, 1336, 1077, 3456, 1065, 1618, 1178, 1375, 1334, 1429, 1244, 1364, 2854, 1543, 1635, 1473, 1911, 3373, 1374, 2929, 1310, 5847, 2100, 3336, 3288, 2699, 1906, 2401, 1068, 3238, 1106, 2864, 3374, 2137, 3319, 2902, 2398, 2778, 2390, 2661, 2829, 2796, 2734, 3386, 2772, 1186, 1647, 1194, 1187, 3259, 1506, 1366, 1924, 2807, 1287, 1368, 1435, 1921, 1961, 3359, 3298, 1423, 1208, 1969, 1479, 1282, 2735, 1478, 1279, 2218, 1167, 1956, 2126, 2505, 1311, 1430, 1552, 3277, 2751, 1654, 2731, 1419, 1535, 1534, 2007, 2189, 1133, 1914, 1953, 1373, 2004, 1576, 1735, 1780, 2703, 1979, 2718, 2368, 2720, 1931, 2017, 2877, 1995, 2244, 2539, 1950, 1733, 1844, 2016, 2874, 2526, 2006, 1954, 1820, 2035, 1798, 1781, 1225, 2062, 1998, 1219, 1469, 2001, 1221, 2549, 2516, 2453, 2415, 1966, 1807, 1773, 1649, 2697, 2448, 2048, 2039, 1887, 1874, 1872, 1724, 1683, 1682, 1657, 1491, 1300, 1183, 1180, 2399, 2209, 1915, 1897, 1895, 1890, 1877, 1871, 1835, 1826, 1825, 1794, 1766, 1706, 1680, 1673, 1636, 1623, 1609, 1600, 1530, 1522, 1505, 1454, 1433, 1403, 1245, 1242, 1222, 1200, 1143, 1115, 1109, 1075, 1062, 2629, 2208, 2197, 2093, 1923, 1905, 1848, 1834, 1823, 1815, 1809, 1784, 1749, 1747, 1709, 1697, 1692, 1668, 1665, 1624, 1521, 1495, 1481, 1446, 1431, 1394, 1376, 1360, 1358, 1349, 1346, 1329, 1325, 1294, 1291, 1274, 1269, 1263, 1251, 1243, 1227, 1151, 1124, 1122, 1101, 1096, 1093, 1064, 2259, 2118, 2091, 2040, 1833, 1831, 1830, 1816, 1814, 1812, 1776, 1746, 1745, 1728, 1723, 1703, 1696, 1659, 1614, 1590, 1585, 1573, 1528, 1520, 1504, 1494, 1492, 1438, 1437, 1427, 1408, 1377, 1372, 1361, 1241, 1229, 1214, 1177, 1162, 1158, 1118, 1052, 2530, 2067, 2029, 1957, 1789, 1788, 1748, 1678, 1676, 1670, 1664, 1662, 1658, 1655, 1651, 1641, 1633, 1626, 1610, 1602, 1598, 1592, 1584, 1577, 1572, 1570, 1557, 1548, 1547, 1524, 1512, 1476, 1463, 1456, 1444, 1415, 1386, 1363, 1354, 1317, 1316, 1278, 1273, 1237, 1191, 1165, 1150, 1142, 1139, 1125, 1117, 1112, 1107, 1100, 1090, 1084, 1078, 1061, 1055, 1041, 2127, 2025, 1792, 1637, 1566, 1462, 1410, 1396, 1345, 1270, 1190, 1094, 1586]"
                ],
                [
                  "13932384",
                  "706405",
                  "diogopc",
                  "1520_276200",
                  "2016-12-10 20:58:04",
                  "1520.0",
                  "Ground Combo Skill",
                  "50 Enemies defeated using only Ground Combos",
                  "15.0",
                  "[15340, 589201, 755120, 748280, 457456, 693001, 691233, 547116, 712589, 17577, 193326, 584391, 649233, 550303, 192025, 690332, 628775, 614702, 616624, 505424, 11941, 608975, 139445, 6529, 417380, 18204, 6037, 3271, 3273, 513369, 681429, 440640, 575931, 459717, 562945, 418140, 7540, 624937, 3823, 541777, 8424, 14177, 676828, 426438, 185391, 10761, 12210, 653531, 2040, 15439, 383987, 607503, 1606, 622626, 438868, 618459, 455996, 455997, 628165, 165911, 598418, 369566, 414966, 13831, 1214, 13970, 527733, 646081, 10602, 496762, 417968, 148838, 7349, 7615, 19170, 569039, 7756, 5718, 514024, 527675, 619781, 470383, 390871, 571337, 29053, 1923, 11501, 1592, 11691, 9203, 5738, 576474, 373618, 548327, 23634, 629839, 328741, 2366, 602687, 631199, 592129, 20561, 620544, 575427, 9613, 387878, 395817, 157706, 544935, 456029, 7870, 16360, 570812, 7667, 137921, 458474, 15680, 586213, 595034, 157974, 620609, 557295, 529098, 612530, 457311, 7646, 17339, 444570, 620794, 401539, 29167, 499433, 333116, 23355, 606387, 530288, 406714, 569040, 400486, 135160, 599318, 558449, 527938, 550043, 177578, 579906, 492718, 453791, 14299, 437282, 423001, 606955, 387360, 23967, 191659, 512340, 615948, 5173, 165217, 542323, 432396, 2206, 560245, 464313, 335454, 464802, 3880, 603716, 142389, 10617, 578687, 24059, 1688, 557191, 1441, 477002, 547382, 555339, 527500, 438697, 394929, 457410, 503704, 333954, 14880, 20144, 569398, 335427, 409706, 443733, 407380, 529100, 544423, 334326, 420916, 2852, 524905, 523126, 386441, 556877, 463486, 32433, 450890, 406825, 16604, 465673, 502866, 520846, 478269, 542587, 24405, 458163, 457431, 12857, 490345, 14898, 546914, 5720, 421362, 548414, 12694, 545112, 542322, 487710, 13208, 485623, 385323, 26738, 14173, 413329, 468681, 1193, 15133, 18157, 1884, 1161, 5172, 463211, 5015, 384829, 176615, 23441, 10545, 167111, 411124, 15637, 20504, 12681, 413108, 443465, 1209, 508712, 432395, 169586, 139019, 337360, 16740, 440260, 333953, 330610, 446429, 177200, 8138, 1402, 459919, 462180, 457777, 142383, 136443, 406662, 408109, 483744, 464880, 479239, 447047, 468476, 139114, 441993, 464385, 455533, 405612, 328975, 422242, 456028, 462703, 9300, 331852, 415410, 10509, 434287, 333485, 182655, 183346, 19405, 329517, 7207, 142911, 3521, 30408, 8525, 452810, 179944, 20179, 5191, 7545, 330320, 31985, 16035, 181602, 7442, 379943, 418000, 442878, 433140, 1199, 1198, 15414, 374017, 386650, 17686, 383053, 138820, 435673, 393038, 414631, 1602, 433560, 9607, 17060, 416830, 411120, 330345, 421490, 193664, 173792, 403792, 12479, 189109, 174658, 167062, 30319, 195232, 20519, 20453, 166501, 2280, 195367, 14109, 18963, 189333, 159966, 2861, 2006, 358178, 17042, 7664, 159802, 17043, 14490, 192028, 177049, 1220, 9474, 1092, 19998, 9818, 18698, 139783, 31625, 160120, 184110, 1178, 12754, 159138, 1437, 1709, 1503, 165552, 23440, 6075, 1206, 1123, 1185, 19723, 1136, 12645, 10940, 7393, 183442, 163628, 7416, 146043, 176824, 26054, 7596, 20701, 6835, 18827, 16603, 16292, 14152, 1154, 2908, 1794, 13770, 13633, 11683, 6184, 14615, 7314, 1968, 11914, 9370, 3666, 5963, 15132, 12860, 9030, 1990, 2528, 3922, 11525, 8461, 10791, 11850, 3480, 20623, 8795, 6996, 5723, 7376, 10565, 9942, 7961, 7566, 5719, 1764, 12859, 10661, 1361, 11589, 2860, 1396, 1216, 1766, 2853, 1196, 4996, 2128, 10560, 14864, 1949, 3820, 1208, 3601, 3984, 1915, 1813, 1520, 1142, 1129, 7620, 5400, 5868, 7717, 3597, 3451, 7614, 1225, 8142, 4941, 11463, 9282, 6893, 3355, 2435, 2411, 2363, 2076, 2059, 2049, 2037, 1938, 1240, 1207, 1130, 8118, 10732, 9393, 7234, 7211, 7128, 5960, 5355, 4879, 3552, 3546, 2916, 2685, 2529, 2196, 1988, 1892, 1834, 1756, 1233, 1223, 1103, 1698, 1444, 3659, 2516, 5988, 3211, 5405, 2824, 6395, 7148, 1897, 5139, 1055, 2593, 2087, 7212, 3923, 7548, 6744, 6477, 1422, 7418, 5399, 7408, 6925, 4866, 2041, 2024, 7645, 7275, 6561, 6285, 6209, 3247, 2143, 2026, 1816, 1398, 1143, 6136, 5452, 5276, 5269, 5225, 3915, 3912, 3892, 3878, 3500, 3437, 3261, 3258, 3238, 2809, 1747, 1644, 1194, 1151, 1141, 2170, 2686, 1040, 2254, 5852, 2052, 1237, 1172, 2345, 1901, 2348, 1948, 2766, 2609, 1217, 2869, 2802, 2391, 2083, 2144, 2502, 1285, 1221, 1176, 2053, 1195, 2090, 1843, 1763, 1215, 1232, 1121, 1226, 1171, 1235, 1529, 1211, 1183, 1155, 1743, 1191, 1179, 1463]"
                ],
                [
                  "12850888",
                  "1251901",
                  "LPL Damy",
                  "13034_375652",
                  "2017-10-22 00:28:50",
                  "13034.0",
                  "Poco Chinpoko",
                  "You collected 5 Chinpokomon",
                  "10.0",
                  "[489212, 550303, 481237, 651141, 2059, 637402, 31625, 464880, 333954, 606955, 513369, 23441, 463487, 335454, 569398, 181958, 12694, 420916, 19954, 514024, 5735, 485623, 330320, 463211, 463486, 458474, 373618, 9708, 407383, 434287, 142911, 383987, 165552, 335427, 406825, 176537, 196191, 369719, 7545, 17708, 18204, 11589, 183807, 190074, 23440, 179944, 177049, 176824, 26054, 136238, 175552, 20729, 14615, 9370, 11597, 14898, 29053, 20504, 24405, 8076, 16292, 137498, 6789, 32551, 20144, 135160, 15484, 10565, 10488, 10948, 14490, 11914, 19405, 20713, 7436, 16740, 20270, 13034, 8901, 8113, 14136, 7513, 16604, 3516, 8296, 1361, 10791, 12571, 12074, 29026, 11691, 8527, 7870, 5718, 7816, 17848, 14951, 8137, 1198, 10588, 6820, 9474, 7178, 10068, 9825, 13169, 1158, 6997, 5990, 5269, 5405, 12540, 1195, 1040, 8510, 9203, 5719, 6060, 8791, 6184, 7210, 7902, 5966, 7625, 6190, 7284, 7615, 5911, 9513, 9677, 8767, 5914, 7714, 7442, 1441, 7646, 8578, 6037, 7334, 7207, 6380, 5395, 8605, 7580, 7488, 5732, 1240, 7099, 6792, 2861, 6835, 7663, 6794, 7235, 7472, 7378, 6791, 2916, 4880, 2435, 3954, 6889, 5224, 1216, 2087, 1200, 1183, 2526, 3393, 3614, 1938, 5276, 3496, 3431, 5967, 3965, 4855, 1196, 2835, 4901, 1212, 1207, 6286, 1155, 5140, 3722, 3422, 3373, 3600, 3554, 6287, 2062, 1237, 5982, 5195, 1141, 2529, 1758, 3293, 3892, 1606, 1225, 3355, 1208, 3405, 5478, 3984, 3227, 2043, 2864, 1199, 3357, 3923, 5138, 2483, 1128, 1744, 5159, 1979, 3461, 1625, 1692, 1101, 1103, 2099, 2876, 2528, 2064, 2853, 1663, 1771, 1217, 1634, 3912, 2502, 1525, 2144, 2421, 5012, 3644, 3858, 3966, 2058]"
                ],
                [
                  "4564239",
                  "847887",
                  "Nathan LS27",
                  "1709_282616",
                  "2010-11-10 01:33:09",
                  "1709.0",
                  "Fully Loaded",
                  "Purchase all Upgrades.",
                  "30.0",
                  "[23298, 19170, 464122, 550303, 748147, 578793, 462336, 682582, 5987, 530288, 18204, 576210, 684378, 587240, 529938, 651956, 7580, 598198, 712182, 704802, 23440, 417380, 691233, 10211, 11501, 655867, 702493, 687083, 505424, 139297, 1958, 17177, 335924, 18901, 2856, 679163, 14157, 15721, 461092, 575913, 465725, 137921, 690332, 529271, 556004, 6465, 19565, 405678, 182501, 157706, 390622, 662256, 676828, 378969, 620609, 530890, 569398, 587483, 18055, 518087, 386650, 16865, 406392, 660581, 455840, 632023, 406662, 174658, 646081, 500082, 562945, 5738, 12859, 443733, 373983, 460650, 571337, 139093, 3321, 181602, 616624, 18697, 8461, 20562, 620544, 6037, 1763, 444808, 9030, 435688, 168047, 15394, 2876, 447697, 593425, 14616, 11691, 379943, 1525, 1503, 592129, 463211, 17043, 2206, 458216, 7097, 135220, 578687, 1220, 9474, 416092, 423659, 15637, 432936, 524905, 411120, 542322, 14396, 422242, 428714, 1592, 494807, 550230, 7442, 462180, 165183, 369566, 395817, 387878, 454114, 491774, 452272, 477002, 29084, 519352, 188534, 403043, 7545, 387842, 529622, 387869, 504414, 443521, 437325, 416384, 555299, 191306, 420112, 387360, 20504, 477866, 189333, 527938, 332860, 457447, 423001, 4882, 505523, 432421, 550043, 420403, 17549, 14173, 556877, 165911, 7778, 454113, 420916, 1832, 1285, 10183, 24293, 1836, 194188, 31985, 143060, 468681, 7314, 13185, 335427, 446494, 369708, 333116, 16622, 7403, 8796, 493204, 420978, 21207, 457311, 19405, 10448, 1625, 446682, 1933, 403792, 169468, 6997, 514024, 6331, 9131, 415248, 139719, 498371, 408743, 2366, 8113, 12144, 183346, 11683, 333178, 456029, 5911, 20561, 14152, 1644, 447047, 384577, 23813, 358470, 1785, 5807, 136443, 464880, 29167, 135309, 14299, 170726, 11525, 11306, 8800, 357455, 413329, 8767, 1196, 7391, 464839, 7615, 426571, 10602, 468386, 334450, 3448, 468476, 7908, 415406, 410653, 409745, 10509, 331155, 330237, 13787, 1065, 10488, 190485, 433792, 3253, 418140, 461802, 384913, 430754, 331852, 462260, 20563, 417204, 421126, 15595, 395492, 1812, 5732, 3273, 23797, 138082, 10121, 453791, 456028, 443465, 183280, 450890, 1860, 457380, 166501, 418118, 455533, 417957, 19995, 418927, 394497, 337609, 16035, 184490, 7253, 435381, 15414, 14312, 1848, 1452, 438498, 390774, 11850, 13985, 194734, 8728, 17263, 196233, 433560, 193800, 24405, 23567, 387295, 414966, 146043, 7972, 414600, 416383, 16146, 15071, 2661, 170683, 422976, 363754, 23355, 9881, 5966, 9203, 190727, 383053, 11357, 374015, 182723, 1907, 333953, 8980, 12186, 163225, 26620, 403426, 190074, 330320, 390637, 358178, 9873, 17525, 2051, 26054, 189431, 138054, 1361, 1114, 1678, 407372, 190435, 1791, 163747, 135148, 406825, 1701, 5736, 334251, 19998, 328941, 7722, 16863, 9513, 159138, 14452, 19766, 16616, 139445, 191645, 135497, 191646, 9499, 16717, 369643, 168379, 169460, 183334, 9809, 5963, 177444, 1441, 9013, 15442, 334467, 14421, 18184, 3248, 1766, 1154, 21348, 1300, 5730, 24195, 1166, 13633, 12989, 20519, 2083, 11589, 337432, 7961, 23685, 1490, 7326, 3666, 136192, 136793, 7664, 13035, 3547, 12530, 6040, 1415, 183442, 179944, 13718, 11941, 10940, 159273, 11815, 2769, 1348, 2082, 20568, 168065, 3554, 16923, 3389, 17728, 10169, 14615, 21371, 168645, 12645, 9947, 2215, 8958, 14700, 14490, 16215, 2013, 10158, 19954, 3576, 1653, 20713, 19174, 2764, 2893, 13329, 14122, 1895, 1290, 1663, 9882, 12971, 17886, 7583, 21275, 15340, 16740, 14880, 15132, 8791, 17524, 11725, 7755, 5725, 10565, 3823, 7877, 7235, 8080, 7997, 8138, 5718, 1057, 1529, 7210, 11367, 9394, 9094, 13618, 16212, 18100, 3265, 17726, 6529, 14329, 13853, 7566, 12074, 16323, 12061, 2638, 13930, 14593, 3480, 2483, 2482, 13994, 6801, 5735, 13972, 3595, 7913, 3408, 13960, 14109, 9933, 14179, 8803, 8885, 2853, 7349, 15338, 10196, 6820, 7667, 8510, 9040, 3953, 7178, 10851, 9635, 7646, 1898, 13698, 13288, 12767, 12574, 3336, 13348, 7804, 8527, 7213, 5171, 12860, 9062, 6577, 8725, 7663, 8551, 12210, 6380, 9595, 12900, 7455, 6746, 9686, 3820, 7714, 1778, 1883, 8326, 2719, 8424, 2059, 1591, 3515, 5230, 2818, 10947, 4870, 10679, 8613, 9753, 11147, 10876, 8512, 6184, 6493, 2831, 6498, 6792, 3562, 9315, 8190, 7843, 10450, 4970, 8556, 8181, 10857, 8499, 8928, 1900, 3923, 7802, 6765, 3286, 8301, 6778, 6780, 3949, 4828, 6789, 3410, 5723, 4001, 9300, 1051, 6762, 9118, 4987, 1318, 8888, 5719, 7165, 7334, 8578, 2852, 8663, 8605, 3355, 6757, 2942, 3412, 1657, 8077, 7550, 5967, 7275, 3487, 5720, 7360, 7513, 7944, 8093, 7625, 6730, 6520, 3877, 6855, 6190, 7472, 7596, 1576, 2350, 7122, 2127, 3862, 2830, 3405, 4872, 1879, 4855, 5478, 1996, 5399, 7124, 2526, 3960, 1543, 4952, 5127, 1223, 4764, 5722, 3665, 3263, 5173, 2618, 1609, 1758, 2590, 3521, 2043, 6251, 2053, 6299, 1787, 5160, 6153, 6066, 1341, 6805, 2908, 2050, 6818, 4926, 2326, 1926, 5914, 1649, 3786, 4813, 3365, 3404, 1873, 3932, 1515, 5138, 1056, 5733, 5734, 3314, 3373, 3538, 2864, 1481, 4849, 1734, 1851, 1136, 1190, 3243, 3224, 5927, 3238, 3675, 5189, 3407, 5926, 5864, 5917, 5913, 6779, 2033, 1365, 3500, 2879, 1988, 5297, 5276, 5366, 1867, 3888, 3866, 5348, 5982, 1922, 3966, 1744, 5163, 3514, 2851, 1771, 2510, 3722, 2861, 5170, 2875, 1964, 3659, 3374, 3978, 3516, 1942, 4878, 2178, 2056, 1731, 3409, 5002, 2770, 5012, 1979, 3709, 3543, 2186, 4856, 1730, 2347, 2838, 1750, 4826, 3455, 2110, 3211, 4940, 4812, 4858, 1956, 1488, 2920, 4891, 1399, 2869, 2505, 2880, 3574, 2933, 3766, 1259, 4857, 3258, 1901, 1667, 1891, 3834, 3892, 3294, 3864, 2040, 2345, 2773, 1762, 1768, 3791, 2789, 2725, 1534, 3732, 1610, 3393, 1994, 2802, 1765, 1888, 3385, 2863, 3504, 2766, 3748, 2091, 3734, 3702, 1070, 1995, 2037, 3597, 3614, 2872, 1054, 2080, 1897, 3372, 1920, 1986, 2824, 2878, 2896, 2435, 1629, 2528, 1199, 1884, 2071, 1655, 1095, 1633, 1388, 2293, 2079, 2391, 1040, 2101, 2311, 1214, 1782, 1224, 1843, 1892, 1215, 1221, 2324, 1233, 1225, 1752, 1437, 1130, 1834, 1881, 2187, 1194, 1069, 2022, 1082, 1149, 1424, 1480, 1280, 1234, 1076, 1794, 2231, 1746, 1709, 1212, 1137, 1078, 1061, 1216, 1628, 2076, 1496, 1422, 1466, 1206, 1433, 1692, 1068, 1072, 2107, 1151, 1155, 1643, 1239, 1412, 1055, 1144, 1209, 2131, 1377, 1432, 1094, 1314, 1122, 2192, 2204, 1152, 1075, 1494, 1208, 2182, 2026, 1201, 1126, 2388, 2387, 2194, 2159, 2156, 2077, 1634, 1607, 1606, 1595, 1309, 1237, 1200, 1198, 1140, 1092, 1064, 1063, 1047, 1680, 1677, 1632, 1623, 1611, 1604, 1520, 1518, 1505, 1418, 1340, 1195, 1189, 1183, 1178, 1173, 1169, 1143, 1125, 1121, 1089, 1062, 1045, 2189, 2130, 2025, 1651, 1622, 1554, 1532, 1526, 1524, 1523, 1522, 1517, 1516, 1513, 1508, 1506, 1504, 1502, 1499, 1491, 1483, 1454, 1419, 1409, 1274, 1185, 1157, 1146, 1099, 2569, 2381, 1855, 1627, 1507, 1465, 1463, 1402, 1379, 1363, 1232, 1230, 1188, 1168, 1162, 1161, 1159, 1158, 1141, 1129, 1081, 2168, 2123, 2067, 1932, 1923, 1470, 1423, 1421, 1408, 1407, 1405, 1396, 1389, 1387, 1386, 1364, 1354, 1238, 1147, 1145, 1142, 1139, 1135, 1134, 1132, 1131, 2195, 1446, 1443, 1434, 1397, 1380, 1374, 1360, 1356, 1352, 1316, 1301, 1283, 1261, 1227, 1186, 1138, 1128, 1123, 1111, 1108, 1104, 1103, 1096, 1077, 1041, 2558, 2063, 1925, 1639, 1635, 1427, 1337, 1319, 1317, 1315, 1307, 1299, 1298, 1282, 1281, 1278, 1116, 1107, 1100, 1093, 1091, 1090, 1083, 1079, 1074, 2556, 2118, 1383, 1349, 1335, 1312, 1293, 1273, 1268, 1266, 1264, 1263, 1257, 1229, 1112, 1110, 1109, 1086, 1073, 1059, 1058, 1053, 1052, 1050, 1046, 1385, 1313, 1284, 1275, 1262, 1260, 1256, 1255, 1254, 1253, 1252, 1250, 1249, 1248, 1247, 1246, 1245, 1244, 1243, 1242, 1241, 1115, 1113, 1084, 1060, 1048, 1044, 1043]"
                ],
                [
                  "2597254",
                  "847070",
                  "Big Ell",
                  "9613_4127417",
                  "2021-10-14 02:44:58",
                  "9613.0",
                  "Eventgoer",
                  "Participated in your first Event",
                  "10.0",
                  "[609289, 184471, 712591, 2013, 7778, 433250, 11683, 8241, 581316, 387533, 387518, 387534, 387500, 387543, 387538, 387537, 387536, 387643, 387519, 387535, 559237, 429186, 476540, 8247, 183440, 1383, 462926, 5718, 551560, 616160, 652330, 605318, 581317, 696633, 662183, 617542, 395157, 622377, 519352, 390871, 658610, 408305, 514024, 645721, 528801, 1125, 387481, 491211, 5738, 400120, 165181, 24405, 529100, 13770, 330345, 613661, 513369, 4785, 20519, 547207, 626423, 17289, 407658, 195369, 442878, 163829, 189432, 166513, 438744, 505424, 1653, 409594, 416577, 387878, 8796, 603442, 598615, 594562, 479674, 18744, 176734, 586998, 525422, 2048, 159139, 1080, 468476, 686767, 5140, 18204, 7818, 372337, 12186, 607916, 499660, 18131, 332903, 422242, 333724, 502454, 384913, 17494, 192086, 173868, 632023, 14275, 628988, 1969, 442866, 414036, 3454, 8821, 458474, 9229, 2737, 24119, 432418, 13960, 387868, 384722, 679574, 459129, 679163, 17796, 418120, 518000, 551316, 527692, 572654, 504484, 503811, 556004, 502537, 525604, 485765, 587484, 499042, 478140, 458726, 445449, 567298, 485760, 428438, 443465, 441768, 617109, 497651, 19170, 567299, 409962, 503704, 15509, 457489, 555612, 617047, 465699, 617062, 572596, 404569, 395017, 143335, 578357, 457316, 167934, 571619, 139114, 425425, 384411, 168069, 21330, 183371, 618475, 578688, 136443, 592129, 465822, 358191, 485762, 333473, 7604, 628987, 10509, 427291, 399676, 617110, 617061, 583823, 333948, 460612, 170471, 1040, 15492, 2937, 589011, 158855, 587481, 421679, 330320, 372434, 443365, 627746, 7013, 450746, 162996, 1816, 433560, 1655, 1285, 9561, 7305, 11482, 18184, 331155, 7756, 138820, 18115, 491472, 572600, 5033, 616163, 7545, 372161, 491179, 457625, 10087, 142835, 20609, 6037, 387482, 3408, 9803, 1129, 5719, 567821, 1787, 1789, 491209, 406694, 391731, 428323, 410150, 14711, 358679, 1154, 19766, 411120, 464880, 10815, 1427, 14692, 420112, 20701, 491178, 17225, 1077, 522092, 1083, 174767, 627989, 23340, 6718, 409790, 386224, 164041, 2290, 148951, 2035, 20139, 452484, 1402, 620544, 24293, 445527, 564441, 3247, 408255, 443424, 587890, 485766, 515055, 421465, 442124, 619781, 445458, 461671, 430955, 392996, 593425, 1747, 615948, 6587, 463211, 457311, 372714, 329193, 434682, 195701, 334441, 12319, 401676, 464004, 405989, 417957, 464191, 1075, 423001, 19614, 6465, 10448, 3259, 451772, 435236, 455234, 168047, 1233, 10545, 14832, 5725, 509523, 10783, 3923, 2078, 17378, 9637, 453767, 13619, 406753, 16489, 330321, 157974, 460627, 1174, 386650, 20712, 411210, 13759, 359597, 20016, 1670, 502888, 504981, 1043, 20390, 482727, 441651, 1821, 399354, 390953, 390622, 1280, 189589, 2054, 415406, 554157, 439871, 548161, 500082, 441609, 435954, 494807, 8510, 17534, 441808, 387360, 333287, 489954, 2047, 165262, 1228, 432544, 337445, 13987, 190045, 188781, 446797, 16665, 30950, 454138, 1209, 16863, 329509, 420614, 8381, 400517, 329542, 419920, 444319, 401064, 17177, 471872, 11367, 387869, 1226, 14490, 20292, 549226, 328787, 483366, 14709, 390838, 167389, 478269, 474936, 418119, 406564, 391711, 408360, 373568, 135356, 438018, 5269, 2113, 164072, 158827, 479671, 429985, 372614, 11815, 557379, 472277, 138694, 517998, 1317, 447426, 472353, 452811, 391469, 391904, 496762, 460724, 437325, 387479, 443426, 416283, 455677, 416637, 493204, 172571, 434769, 406825, 475355, 1979, 24229, 512340, 441529, 12767, 138054, 372191, 438212, 7442, 462340, 24156, 3965, 458254, 478851, 189002, 12479, 181395, 413019, 6777, 14175, 411212, 438211, 435893, 530288, 446488, 328956, 1149, 419319, 374327, 10468, 418432, 485312, 450668, 443474, 499433, 446772, 447403, 369685, 13184, 1183, 401338, 438017, 1142, 447395, 417159, 418953, 444964, 483644, 414405, 168379, 5807, 1413, 452810, 424188, 6669, 185073, 1403, 1088, 334409, 446619, 419327, 408548, 2528, 1171, 444318, 419246, 408018, 441807, 11200, 434287, 6723, 443739, 165182, 1906, 1165, 5998, 411038, 501227, 451625, 481210, 461092, 2051, 384577, 467381, 390954, 11691, 137718, 428714, 429878, 386402, 445526, 384412, 440491, 427062, 395487, 1415, 135805, 478325, 10253, 453272, 194172, 451681, 403044, 485277, 468583, 19569, 19954, 467898, 468386, 168795, 1189, 14173, 464802, 432936, 483645, 1341, 473963, 15486, 421199, 459988, 438798, 410636, 384186, 385635, 393088, 423568, 9613, 181682, 329035, 441306, 8113, 470538, 17525, 441809, 462856, 333027, 445456, 13034, 430789, 370513, 359542, 9002, 1205, 419950, 7809, 24120, 392337, 9708, 407557, 2388, 166697, 1185, 2088, 370184, 168147, 2849, 1225, 13565, 426213, 6765, 11147, 13142, 191770, 403792, 443366, 20711, 456167, 438600, 384924, 445772, 5968, 190807, 419837, 441998, 421668, 177162, 3536, 445415, 1121, 420091, 434952, 441000, 4923, 139513, 191579, 404855, 184121, 172615, 169822, 434177, 456424, 411039, 183346, 170045, 436210, 446494, 402784, 418971, 425005, 3422, 439869, 429273, 3227, 432419, 452154, 393717, 393303, 419838, 1053, 424883, 444569, 148865, 23493, 335985, 404359, 159138, 20561, 413219, 9474, 440049, 407776, 14566, 11501, 436209, 443425, 403767, 432467, 399293, 1253, 172575, 406442, 337248, 6478, 7625, 414263, 440850, 429952, 430879, 9873, 191713, 336663, 437114, 331346, 436211, 1361, 425022, 369643, 425271, 421765, 418107, 439001, 426315, 409372, 404023, 425635, 432433, 440260, 428356, 437200, 358332, 413030, 405980, 436208, 432697, 329390, 432424, 185369, 183991, 19859, 3321, 5987, 183807, 422827, 427953, 426663, 435379, 167367, 428853, 384892, 177580, 12759, 17219, 10488, 165030, 427098, 179041, 2404, 15358, 165552, 1615, 391685, 24159, 193800, 429088, 407380, 1579, 183493, 169468, 24257, 328975, 399599, 26054, 20298, 7711, 370177, 330940, 138504, 414262, 166696, 408184, 334207, 1216, 374039, 139013, 169580, 9825, 1193, 3437, 5966, 416092, 337076, 17405, 421338, 169436, 185487, 176664, 330080, 409601, 13640, 1055, 421662, 333726, 418067, 190877, 183531, 384240, 384830, 336899, 166145, 416385, 1884, 10591, 183507, 416830, 6189, 14576, 337281, 4001, 158785, 1991, 139119, 139120, 416384, 5607, 139121, 416383, 7648, 357455, 16507, 135799, 10383, 9809, 177074, 5907, 139922, 17625, 387847, 392803, 334467, 138209, 11357, 138082, 358178, 194289, 2820, 13208, 2628, 10184, 3546, 407507, 183280, 374086, 413152, 410185, 386735, 410313, 372701, 403417, 407386, 163206, 387480, 135497, 157125, 330516, 359936, 328941, 404169, 182684, 337607, 148744, 400606, 409214, 144788, 18054, 192028, 2502, 330235, 3445, 1564, 1580, 5384, 1177, 5030, 1222, 17686, 2363, 2098, 1300, 3465, 3374, 1243, 1748, 403045, 1066, 3271, 386918, 1186, 1094, 390676, 363754, 23658, 1824, 387329, 9562, 335350, 20216, 384322, 374116, 3517, 370425, 189246, 166395, 393110, 26620, 165898, 2526, 372085, 385523, 393944, 383774, 337662, 387286, 395702, 374231, 190485, 374040, 7479, 170904, 391438, 21191, 391789, 20033, 386163, 331822, 170683, 330645, 12000, 157638, 21656, 7566, 185288, 6529, 195136, 373465, 369659, 192083, 5617, 1967, 175694, 3459, 370426, 2420, 7167, 166869, 1472, 12145, 157430, 1515, 177171, 5478, 19132, 148618, 7207, 333177, 142383, 19928, 165633, 3823, 10121, 328996, 336957, 3535, 7909, 333440, 13841, 10588, 373682, 16763, 159727, 15191, 374038, 1178, 29053, 3890, 143060, 191411, 333797, 372497, 8525, 3405, 384925, 21379, 24111, 333277, 182239, 3508, 2110, 148586, 170763, 7210, 16087, 1126, 1217, 12645, 23567, 16854, 193491, 384112, 191335, 9781, 185370, 143645, 18963, 328622, 1354, 1568, 337822, 23355, 2144, 2901, 1390, 191407, 1907, 195810, 167427, 6746, 2661, 184341, 139636, 1196, 1981, 2668, 176639, 136238, 169268, 1041, 174475, 5239, 24072, 183334, 10947, 137967, 2764, 12787, 2909, 1718, 4855, 177529, 1092, 19342, 190429, 166434, 14396, 10183, 1057, 19306, 17709, 18082, 175268, 331041, 9935, 24118, 8754, 193441, 3807, 18249, 188971, 7357, 169460, 160071, 2530, 194923, 5211, 2501, 2796, 193798, 158112, 17513, 194790, 184893, 189376, 195544, 136791, 10058, 194171, 190655, 165741, 11355, 19772, 166052, 158849, 1188, 3273, 11606, 170835, 15845, 2699, 188608, 3702, 191645, 20884, 18718, 10500, 3555, 19137, 1533, 3998, 168731, 18067, 20483, 14864, 190061, 159932, 171880, 10560, 2285, 163303, 14990, 1450, 138730, 175365, 157685, 168923, 182001, 23891, 1124, 177240, 12851, 169824, 1444, 10089, 183347, 2275, 175552, 165096, 1166, 3740, 177444, 1950, 5914, 137103, 137660, 144778, 143960, 20637, 2387, 174615, 159229, 174447, 139186, 167657, 5188, 169590, 5722, 21378, 16005, 136457, 19524, 17256, 17561, 20202, 148708, 1785, 15442, 13169, 11907, 13995, 1934, 3410, 164064, 8577, 2096, 21705, 2942, 17960, 8795, 13633, 1207, 4848, 9709, 1469, 17726, 23594, 7997, 156980, 160008, 17691, 24140, 144775, 142919, 15340, 13966, 1743, 137933, 9458, 17408, 156930, 165180, 166503, 9740, 15595, 1644, 3614, 7234, 167409, 3336, 12574, 166995, 3492, 24112, 21237, 24139, 15338, 143868, 7877, 142917, 138962, 3675, 2153, 13787, 137921, 23512, 12408, 2083, 9753, 3293, 2200, 1441, 1099, 1758, 1260, 1098, 1555, 2111, 12405, 11430, 2224, 143930, 5355, 163999, 12901, 1301, 8035, 3967, 2118, 12409, 1155, 1051, 1968, 3515, 3907, 158807, 1645, 7583, 18858, 157609, 145691, 157036, 148952, 12693, 8501, 2541, 8136, 14182, 18220, 21393, 2015, 19438, 6577, 24010, 15207, 136793, 9499, 17562, 1736, 139501, 14493, 5004, 140524, 138203, 139499, 4882, 140026, 24200, 12949, 23942, 17739, 20562, 23982, 16100, 16954, 1701, 13853, 1552, 9013, 1855, 14206, 1173, 12219, 6835, 23657, 7755, 2833, 3600, 14110, 8117, 15071, 7592, 1417, 7802, 31985, 6184, 14179, 20588, 11485, 3619, 3806, 2769, 7097, 3552, 7715, 9131, 13994, 1247, 2772, 2916, 1581, 1935, 20215, 11927, 3288, 5732, 19127, 1698, 2519, 1399, 21265, 1076, 1856, 8135, 19405, 5734, 6180, 3319, 1194, 5196, 1290, 18697, 9394, 1128, 1211, 2112, 2376, 1134, 7513, 1208, 5275, 1818, 1949, 1232, 1114, 6060, 2050, 10791, 1240, 5574, 1070, 11279, 1735, 9933, 13718, 4967, 2835, 2864, 1175, 7697, 5370, 3861, 1087, 3394, 14565, 1474, 1832, 1517, 6951, 10648, 1705, 2857, 2532, 2397, 1433, 10410, 5733, 2498, 7391, 14122, 1756, 3811, 3655, 1141, 12285, 2403, 2030, 7275, 6768, 1652, 3820, 1970, 9544, 5731, 3892, 2228, 11384, 5224, 9062, 7326, 10029, 3554, 1453, 1989, 1836, 15044, 7843, 11372, 1191, 1773, 1190, 7338, 3298, 6423, 6820, 16361, 1140, 3356, 1073, 3311, 1195, 16215, 1198, 11464, 1529, 3910, 9513, 1371, 13381, 1516, 5864, 2933, 1187, 2386, 1971, 3804, 6255, 1062, 2577, 1136, 11314, 3461, 1619, 10683, 2807, 1071, 2024, 14111, 1887, 1871, 1081, 13698, 1074, 3644, 5366, 4957, 7241, 1048, 13612, 8181, 2267, 2402, 1475, 9435, 8978, 4870, 2853, 1237, 8605, 1525, 1348, 1776, 1299, 3362, 7667, 1503, 2206, 1078, 3373, 2120, 1514, 1760, 1603, 1567, 1365, 1380, 1858, 1953, 2074, 7870, 1740, 3442, 10679, 1626, 1046, 6762, 8301, 3530, 2057, 6493, 5746, 1900, 6789, 3480, 6822, 8059, 1990, 3407, 7302, 1172, 6781, 2734, 1809, 8663, 1772, 1210, 5395, 4946, 1279, 1106, 2483, 4926, 5035, 5956, 2428, 1376, 6855, 1436, 2721, 2751, 5911, 1999, 1065, 2109, 8268, 3634, 7663, 1182, 2856, 1815, 1404, 5127, 6792, 1418, 3372, 2086, 1872, 2874, 1790, 6793, 1625, 6498, 6251, 3446, 2371, 6380, 5728, 2597, 6856, 1498, 1744, 3966, 3524, 4840, 1874, 1192, 2735, 2220, 3821, 1201, 2888, 1931, 6075, 2776, 2119, 1291, 2433, 5608, 2225, 2934, 3322, 6794, 1234, 1943, 5011, 3604, 1220, 1577, 1254, 1117, 2634, 2588, 5458, 1082, 2589, 1669, 1251, 6779, 2603, 1658, 3734, 1961, 1723, 2676, 3748, 2082, 3272, 3409, 1500, 3359, 2854, 2196, 1630, 3386, 2539, 2720, 3270, 2368, 2017, 1115, 3982, 2877, 2571, 3443, 3557, 2438, 1650, 1241, 2475, 1605, 5007, 1686, 2248, 1938, 1257, 1528, 1416, 2761, 3866, 1995, 1975, 1820, 1103, 1663, 3864, 1509, 2622, 2827, 2226, 2547, 2826, 1480, 1702, 2001, 1219, 1788, 1611, 1727, 1197, 2516, 1199, 2744, 2016, 1179, 1133, 2091, 5847, 1101, 1646, 1049, 1321, 2239, 1181, 1481, 1741, 1634, 1697, 1799, 1086, 1752, 1746, 2462, 1801, 5840, 1176, 1692, 1649, 1463, 1282, 2064, 1573, 1336, 1150, 1139, 1096, 1473, 1333, 1318, 1306, 1120, 1112, 1093, 1072, 2421, 2194, 1495, 1288, 1271, 1250, 1151, 1100, 1054]"
                ],
                [
                  "746301",
                  "3035506",
                  "Thulgrum",
                  "166846_2852784",
                  "2024-04-21 23:27:54",
                  "166846.0",
                  "Bad Guy Boogie",
                  "Activated dance mode and made 5 characters dance",
                  "10.0",
                  "[10783, 20270, 8076, 16600, 670259, 691168, 513472, 1255, 1944, 19901, 184897, 16628, 584876, 713121, 662741, 690579, 717719, 1229, 625306, 29053, 688072, 688073, 138155, 698108, 1881, 658477, 651142, 644502, 1680, 637518, 566645, 630863, 694715, 571064, 1719, 654047, 677054, 622655, 666465, 689301, 703752, 17177, 10815, 427678, 489247, 483646, 7646, 2526, 577746, 655454, 632582, 387360, 686101, 505424, 643868, 530893, 591457, 574856, 579274, 652436, 386791, 19859, 613900, 618474, 32433, 696073, 1432, 667244, 691447, 695153, 7500, 656184, 1388, 657765, 655059, 1682, 576623, 169489, 6414, 11463, 1097, 7620, 12061, 18945, 1444, 657722, 657723, 572992, 572819, 590395, 563466, 598615, 189347, 677668, 593906, 610004, 612918, 682824, 682778, 679520, 13167, 611063, 605318, 626678, 11310, 512739, 481928, 443465, 443425, 386650, 141290, 11914, 604111, 574126, 591425, 386736, 504484, 2063, 458577, 459829, 465651, 452812, 407565, 19170, 17224, 19614, 621195, 10211, 558792, 2230, 1403, 488540, 542591, 427047, 20519, 169586, 144775, 170369, 1576, 14004, 12713, 612330, 426941, 10972, 526463, 13690, 14086, 1782, 335427, 590826, 15029, 11478, 166846, 395817, 19766, 5738, 379943, 18697, 19261, 12661, 19469, 10468, 613797, 613742, 2861, 16530, 1136, 7580, 15182, 196472, 593871, 177444, 17289, 558551, 589201, 9229, 629839, 590649, 404052, 9094, 334360, 440049, 167709, 168142, 176823, 522092, 529241, 439873, 169468, 390837, 617061, 455857, 594252, 458349, 16841, 21341, 12405, 12408, 10058, 139750, 12409, 12407, 19132, 13612, 17629, 17569, 140026, 16969, 16654, 17726, 6757, 8928, 14775, 13987, 359936, 16457, 9781, 436369, 188608, 12693, 10450, 408548, 160008, 13853, 20390, 406751, 436213, 137967, 10437, 6997, 410656, 593635, 544636, 2456, 417380, 518000, 386224, 568073, 615068, 544212, 555676, 499042, 399676, 427291, 618601, 432418, 372714, 628987, 442834, 429186, 395017, 5139, 3604, 1226, 24105, 555675, 502537, 418569, 611209, 597093, 605306, 1787, 526600, 634020, 434177, 555816, 1228, 551036, 410150, 629022, 622377, 545138, 408305, 1789, 2114, 8796, 1200, 428012, 446613, 440942, 630071, 11683, 614336, 508712, 573261, 455798, 399293, 12755, 605297, 580557, 384722, 14615, 504414, 2721, 394514, 1285, 6529, 1154, 427954, 7664, 379884, 513370, 7972, 3261, 17625, 572818, 598357, 544213, 1208, 1956, 12754, 3395, 605371, 607916, 605307, 512778, 522579, 1071, 616979, 590914, 1385, 2577, 607307, 517998, 588119, 1323, 444144, 425780, 411210, 608456, 421199, 610623, 595426, 571128, 609944, 597231, 608324, 611208, 542589, 611207, 598614, 551316, 574142, 568569, 558379, 499662, 568568, 384830, 578593, 590312, 598418, 578688, 553184, 510198, 605736, 373618, 603590, 606636, 593425, 555300, 558306, 577126, 513019, 441437, 455234, 393460, 527878, 566694, 598356, 437764, 545773, 548161, 600118, 574141, 555512, 432446, 391731, 587484, 453648, 438998, 547529, 335924, 136028, 15183, 497208, 456167, 587485, 592129, 424585, 328599, 588120, 588118, 584371, 567082, 584814, 591456, 424154, 592519, 589329, 572968, 457311, 586327, 588863, 588862, 589783, 483170, 550352, 550351, 416092, 589331, 517094, 589759, 586815, 499661, 404609, 492777, 529622, 384924, 11691, 577127, 476540, 503811, 582400, 2937, 1387, 1095, 485765, 567299, 568315, 577476, 579272, 462180, 568876, 574727, 458578, 573106, 491470, 549829, 1076, 572654, 572596, 574143, 574263, 574264, 1756, 465822, 18204, 183507, 427955, 520039, 443028, 421024, 563109, 571651, 564607, 547382, 488539, 468507, 552502, 501780, 511935, 403903, 413365, 443814, 497138, 408255, 1766, 500206, 416390, 7358, 564735, 553334, 566982, 485760, 542208, 550353, 404495, 413152, 455677, 425425, 444318, 136443, 438017, 548221, 334450, 3891, 505560, 410436, 551035, 413019, 498262, 499872, 552980, 548651, 548650, 191335, 407557, 337607, 551759, 548414, 385730, 393311, 372191, 425272, 546476, 374116, 496210, 17494, 170495, 472047, 546945, 450786, 444808, 435954, 487125, 527788, 485277, 24200, 485286, 523443, 404855, 527692, 15096, 487114, 399686, 525604, 499663, 483037, 427098, 465700, 1349, 331442, 505519, 453272, 21167, 447403, 499664, 511522, 372434, 516571, 499873, 499871, 330676, 520362, 514319, 139469, 479674, 13421, 465090, 509523, 177580, 473963, 511605, 472049, 510126, 465648, 505140, 503396, 400517, 10184, 14452, 3374, 435893, 391904, 494807, 444319, 496212, 499660, 505037, 441609, 504981, 493758, 502536, 504237, 496762, 387494, 434769, 358674, 438212, 478107, 395101, 336748, 378971, 419837, 406753, 400606, 1221, 333953, 497648, 433140, 406158, 487204, 9637, 30950, 459361, 460364, 494081, 491211, 493053, 407507, 441651, 408018, 372161, 493249, 461092, 493054, 429091, 489864, 426972, 337326, 441809, 447395, 485275, 485766, 459830, 458084, 467369, 479233, 452813, 484156, 408360, 2435, 373568, 416283, 438211, 438018, 457435, 434682, 447426, 460362, 480784, 446772, 403900, 437763, 441768, 447691, 479232, 482727, 484682, 451735, 483645, 467393, 465645, 481767, 480783, 481210, 387869, 415406, 479823, 479230, 441933, 14361, 1968, 7807, 478063, 479227, 478140, 467898, 459988, 470538, 1902, 441807, 445459, 386968, 456425, 460627, 457461, 457316, 462856, 462428, 453947, 453273, 453175, 452982, 450536, 467381, 445527, 452484, 444964, 461162, 446797, 465653, 463611, 433792, 1435, 2916, 2131, 2059, 474936, 1142, 445529, 432426, 432434, 460724, 462426, 468583, 465811, 1151, 457625, 454916, 454907, 429320, 1043, 452934, 441306, 462340, 462857, 468617, 465699, 464004, 456008, 460789, 465649, 453046, 456534, 458254, 456424, 458727, 439871, 439869, 421896, 433072, 444569, 468386, 459001, 443358, 430879, 443739, 427953, 465686, 462429, 432424, 464191, 429273, 1077, 458216, 9300, 1224, 166513, 14692, 394023, 415249, 7167, 387329, 391438, 372701, 358191, 138694, 405980, 373465, 386735, 411212, 409214, 18054, 406302, 166052, 440252, 372085, 1936, 1767, 1375, 4866, 395487, 337476, 432433, 435848, 192083, 331153, 432419, 426330, 370425, 336957, 410313, 387701, 409001, 9947, 446494, 32522, 424151, 392996, 452814, 337443, 450538, 14477, 452237, 452154, 175536, 167487, 193491, 451681, 20732, 446616, 450668, 358679, 435379, 445772, 446619, 369708, 439850, 1491, 441002, 416637, 19998, 443474, 445449, 441529, 404569, 443426, 445805, 441808, 443365, 443366, 441003, 1366, 428438, 435236, 443424, 1138, 419320, 432697, 437325, 439001, 429952, 437508, 437114, 438600, 328787, 425635, 429985, 421434, 428026, 426315, 428436, 436209, 434952, 428356, 1141, 405989, 410185, 436208, 424640, 434056, 434178, 436211, 437200, 436210, 395144, 195810, 23639, 419838, 421662, 392337, 416011, 431076, 431066, 14246, 358332, 158835, 23634, 425271, 424592, 8469, 422827, 413030, 330516, 409790, 422791, 410636, 414405, 418309, 195513, 173700, 177529, 374328, 423358, 408332, 410633, 359542, 414262, 418971, 421465, 184812, 416218, 193798, 404101, 163940, 411038, 190045, 419920, 19683, 417159, 185288, 370513, 421765, 1838, 418107, 357455, 409372, 1637, 165563, 3350, 419327, 420091, 333726, 404023, 331155, 418953, 4926, 1213, 13561, 1187, 336899, 1698, 11754, 8821, 406007, 406316, 9977, 1678, 1431, 135799, 174830, 3860, 400716, 385724, 159802, 390966, 390774, 4997, 406564, 407386, 400586, 404868, 403867, 169631, 385148, 372497, 402784, 406442, 404774, 399354, 9873, 333594, 16379, 387342, 144778, 384322, 372621, 170683, 384925, 392803, 403417, 404169, 401064, 333117, 194923, 10517, 387100, 383774, 9677, 336777, 11606, 138973, 372077, 333027, 335985, 337475, 391685, 328664, 11664, 192099, 370177, 190700, 395702, 393717, 393944, 184079, 136794, 372622, 195400, 393252, 373549, 337662, 385524, 29026, 390676, 369643, 165911, 374231, 20504, 194794, 2466, 373467, 168419, 387286, 189333, 9740, 191713, 2038, 24156, 329981, 136739, 358178, 13640, 369659, 373682, 176531, 330776, 160114, 20701, 328955, 334467, 2255, 26620, 1223, 333118, 139297, 13220, 12949, 329142, 17624, 29167, 177067, 15132, 169441, 337281, 329440, 191646, 169814, 190485, 2594, 333512, 335350, 10761, 334207, 177240, 175268, 20884, 171879, 332890, 3570, 333797, 333511, 183334, 333440, 190655, 333177, 331346, 191579, 331822, 11884, 330420, 24031, 15174, 172038, 168379, 329390, 137966, 191411, 190061, 7393, 331041, 188971, 139887, 21078, 328996, 330080, 21705, 177109, 185370, 330235, 13422, 328622, 184110, 23926, 330645, 195544, 190877, 13420, 328731, 194793, 138195, 178435, 175694, 171880, 16146, 9985, 23928, 4872, 193442, 194790, 146043, 195626, 194171, 10050, 194172, 17405, 156930, 195136, 12334, 190429, 193394, 193441, 176664, 12989, 158512, 158827, 8525, 169460, 185375, 189246, 165898, 136789, 167367, 157040, 143335, 13994, 145945, 20885, 15830, 167710, 184341, 184893, 183581, 15958, 183347, 167657, 135805, 9118, 157638, 158984, 143207, 148708, 174475, 16295, 2554, 21313, 23797, 139186, 169653, 168923, 20729, 143612, 166063, 167717, 14493, 9828, 21305, 167481, 167934, 135767, 166434, 19338, 167409, 166995, 23340, 165741, 13996, 13633, 19995, 20903, 164064, 159932, 165180, 144637, 11938, 158785, 13616, 165096, 163303, 27481, 160071, 163206, 2780, 13688, 148618, 21385, 139033, 159427, 158849, 136169, 23768, 158935, 12017, 137700, 23868, 136792, 158112, 9056, 7442, 157685, 135755, 12694, 157429, 17847, 143645, 156980, 15794, 21656, 24246, 18865, 13628, 143960, 143930, 144761, 12430, 17574, 7260, 139119, 142257, 17534, 142587, 18259, 139922, 14176, 139120, 8034, 5525, 2513, 19306, 11314, 20055, 16428, 15509, 15881, 15353, 20985, 19779, 14421, 10977, 139121, 9282, 15637, 137243, 137380, 15312, 15190, 15310, 15330, 24400, 16646, 10183, 137142, 5629, 13189, 137660, 137918, 18902, 12410, 8997, 137933, 23512, 17081, 16811, 23942, 20893, 136793, 24010, 24112, 20678, 15595, 16038, 19090, 17706, 19588, 135497, 23594, 21597, 135356, 19298, 135329, 13142, 20139, 14173, 9935, 17535, 12900, 18848, 18867, 18881, 17562, 1512, 13285, 14830, 6794, 21191, 14503, 18704, 16489, 11671, 8701, 1642, 18220, 7583, 7097, 14649, 15484, 7756, 9810, 20808, 21237, 17679, 17525, 20201, 1589, 8326, 21596, 21235, 20712, 23440, 21600, 12186, 23467, 20298, 13418, 18279, 17176, 18249, 2650, 5304, 17856, 20711, 16854, 18067, 18082, 5140, 18131, 14070, 14791, 8138, 15680, 9131, 10062, 20588, 17219, 19772, 17225, 17974, 5735, 18718, 20591, 18184, 7903, 20469, 5457, 12580, 10791, 2199, 13034, 13426, 20215, 19127, 5733, 13184, 18858, 13618, 5728, 19524, 17709, 16395, 18300, 19438, 17163, 7349, 18988, 19270, 18271, 15999, 17561, 13168, 9986, 14110, 16988, 17523, 10448, 17692, 7334, 17836, 14990, 15391, 17772, 10772, 10500, 5982, 13676, 17406, 11200, 3247, 15756, 16954, 17096, 15088, 16665, 16507, 17455, 14223, 16212, 9683, 9684, 13520, 13970, 12278, 17256, 13565, 10949, 7099, 3514, 14090, 13930, 17264, 16100, 16837, 16005, 16840, 14299, 16700, 15270, 16486, 16747, 13995, 15207, 15184, 15071, 15969, 11367, 16557, 16549, 15721, 16459, 13619, 16456, 9482, 14224, 15442, 14567, 15044, 11633, 12540, 14182, 11583, 8791, 1530, 6756, 14225, 1121, 1256, 13833, 10422, 6735, 6498, 14566, 14880, 1159, 1374, 9981, 14179, 14111, 7722, 2425, 10509, 9370, 1453, 7144, 6730, 9595, 7472, 10196, 13626, 13698, 13527, 13169, 11224, 10947, 13348, 13208, 7235, 8754, 12990, 7625, 12851, 12779, 7663, 12759, 12574, 11607, 12525, 10429, 3954, 1709, 11758, 12477, 11725, 11907, 11501, 12156, 9290, 7645, 12285, 2789, 1942, 12219, 2806, 1694, 9933, 7514, 10485, 11213, 11147, 5966, 11666, 3545, 11485, 3730, 10680, 1368, 11631, 11554, 11398, 11384, 10679, 6793, 1287, 10562, 10583, 11355, 6256, 10216, 10227, 10438, 11431, 11357, 9851, 10262, 10707, 10822, 10697, 2692, 10681, 1490, 9496, 6835, 8247, 8241, 10333, 7943, 7908, 10492, 10488, 1203, 10220, 2739, 7818, 8985, 7877, 7886, 10383, 10499, 5736, 9967, 10410, 4764, 8066, 8499, 6724, 5911, 1638, 4996, 9013, 10121, 10029, 9837, 2796, 9338, 7846, 9686, 9809, 8108, 6136, 7802, 9871, 1852, 3348, 3419, 7455, 5719, 1707, 9499, 9753, 9718, 3533, 7847, 5708, 8107, 2730, 1667, 8927, 9464, 8526, 1755, 2322, 2358, 2864, 9437, 2734, 7137, 9435, 9044, 2792, 7406, 8968, 9040, 9190, 9062, 6429, 7255, 1912, 2012, 8578, 8433, 3405, 8725, 6894, 3862, 8377, 8035, 8181, 2813, 1890, 1992, 8663, 7330, 8605, 4919, 8272, 3300, 6148, 1800, 5732, 5301, 4916, 6792, 2000, 1832, 7592, 8301, 2772, 1178, 5173, 6520, 7666, 8021, 7667, 2186, 3580, 6493, 1974, 2283, 7326, 7997, 1518, 8135, 1621, 6954, 5385, 7604, 2699, 1139, 7809, 7808, 7843, 7405, 7240, 7566, 7513, 7360, 6040, 5907, 3256, 1834, 7213, 6893, 1711, 1666, 2847, 1842, 1846, 1989, 3534, 6577, 1712, 5478, 5969, 6285, 1825, 6746, 6762, 6765, 6288, 2450, 1607, 1538, 6380, 3373, 5869, 4898, 1803, 1506, 5963, 2648, 1670, 5688, 6330, 2712, 1965, 2588, 2713, 1546, 1045, 1669, 1950, 1427, 1488, 2619, 3412, 1466, 3530, 3393, 1500, 3442, 1252, 2020, 1297, 1199, 5734, 1900, 4879, 5145, 5632, 3665, 1683, 2929, 1639, 6779, 1914, 5258, 1193, 5458, 3355, 5400, 4880, 4839, 1618, 4995, 1220, 5124, 1219, 5297, 2133, 2014, 1238, 1771, 2634, 1768, 1263, 1346, 1407, 1171, 3308, 2130, 2942, 1209, 3535, 1146, 2735, 3448, 1938, 2145, 1664, 3443, 3536, 3922, 1706, 1612, 4771, 3734, 1961, 3725, 3517, 1400, 1598, 2004, 1935, 1276, 1082, 2718, 1468, 1104, 3215, 1091, 3773, 1333, 2873, 3211, 1895, 2011, 3748, 1351, 3702, 2037, 3700, 1135, 1379, 1279, 1430, 1110, 1186, 3709, 1635, 3436, 2919, 1539, 2913, 2236, 1833, 3277, 3327, 1233, 1372, 1183, 1971, 3321, 1456, 1937, 1578, 1620, 2830, 1419, 3233, 1826, 2481, 1685, 2549, 2723, 1561, 1918, 2752, 1476, 2589, 2539, 2829, 1879, 2039, 1574, 1198, 1156, 1521, 2208, 1632, 2001, 1345, 1641, 1954, 1943, 1283, 1915, 1241, 1117, 1433, 1369, 1448, 1877, 1155, 1509, 1477, 1691, 1871, 1862, 1848, 1835, 1736, 1557, 1386, 1145, 2021, 1905, 1831, 1815, 1809, 1807, 1748, 1747, 1728, 1655, 1585, 1566, 1455, 1454, 1445, 1413, 1376, 1361, 1360, 1352, 1326, 1244, 1240, 1231, 1185, 1157, 1080, 2512, 2110, 1819, 1746, 1723, 1662, 1658, 1647, 1645, 1592, 1588, 1584, 1528, 1428, 1363, 1355, 1316, 1300, 1205, 1196, 1195, 1194, 1160, 1134, 1125, 1107, 1075, 2210, 1739, 1701, 1686, 1668, 1651, 1614, 1602, 1590, 1582, 1577, 1575, 1572, 1570, 1548, 1547, 1537, 1524, 1522, 1520, 1513, 1510, 1502, 1489, 1429, 1423, 1409, 1402, 1396, 1393, 1389, 1373, 1364, 1356, 1354, 1336, 1329, 1317, 1311, 1282, 1278, 1273, 1269, 1251, 1248, 1243, 1237, 1225, 1201, 1181, 1170, 1162, 1158, 1150, 1132, 1124, 1122, 1119, 1116, 1115, 1113, 1112, 1111, 1100, 1099, 1096, 1055, 1041, 2076, 1532, 1501, 1452, 1415, 1314, 1118, 1084]"
                ],
                [
                  "12374451",
                  "2322210",
                  "Armadillo Tank",
                  "1836_286108",
                  "2012-11-15 05:17:54",
                  "1836.0",
                  "You Monster",
                  "Reunite with GLaDOS",
                  "5.0",
                  "[3488, 4934, 1743, 2113, 2695, 5396, 2472, 5968, 4926, 1663, 6669, 1776, 1207, 6136, 2095, 3272, 3273, 2034, 2047, 1652, 1787, 3666, 5987, 1072, 5452, 3393, 1196, 3554, 2528, 4821, 1881, 1237, 1055, 1424, 1172, 1474, 1125, 3355, 2661, 2404, 5478, 5159, 4923, 3965, 2905, 1176, 2144, 1766, 2864, 2106, 2776, 2942, 3820, 3851, 2089, 2379, 3525, 2893, 2156, 3465, 3293, 1758, 2043, 3445, 1746, 4840, 1178, 1771, 2056, 3422, 1625, 1744, 3373, 1692, 1212, 2059, 1103, 2483, 2050, 1772, 1101, 3966, 2078, 1154, 1979, 1253, 1188, 5139, 2502, 3480, 2288, 1179, 1995, 1047, 3267, 3734, 2035, 2200, 2099, 2302, 3861, 1189, 2421, 3492, 2054, 2284, 1137, 2897, 1523, 1836, 3336, 2363, 1051, 2013, 1672, 1177, 1211, 2064, 1500, 1298, 1070, 1106, 1301, 1399, 1254, 2088, 1745, 2165, 2040, 1606, 1043, 2448, 1529, 2376, 1092, 1190, 2146, 1174, 1193, 1201, 2529, 1220, 1171, 1416, 1175, 1141, 1496, 1155, 1136, 1121, 2020]"
                ]
              ],
              "shape": {
                "columns": 9,
                "rows": 10
              }
            },
            "text/html": [
              "<div>\n",
              "<style scoped>\n",
              "    .dataframe tbody tr th:only-of-type {\n",
              "        vertical-align: middle;\n",
              "    }\n",
              "\n",
              "    .dataframe tbody tr th {\n",
              "        vertical-align: top;\n",
              "    }\n",
              "\n",
              "    .dataframe thead th {\n",
              "        text-align: right;\n",
              "    }\n",
              "</style>\n",
              "<table border=\"1\" class=\"dataframe\">\n",
              "  <thead>\n",
              "    <tr style=\"text-align: right;\">\n",
              "      <th></th>\n",
              "      <th>playerid</th>\n",
              "      <th>nickname</th>\n",
              "      <th>achievementid</th>\n",
              "      <th>date_acquired</th>\n",
              "      <th>gameid</th>\n",
              "      <th>title</th>\n",
              "      <th>description</th>\n",
              "      <th>points</th>\n",
              "      <th>library</th>\n",
              "    </tr>\n",
              "  </thead>\n",
              "  <tbody>\n",
              "    <tr>\n",
              "      <th>12737010</th>\n",
              "      <td>2192716</td>\n",
              "      <td>HunterBrawl</td>\n",
              "      <td>8400_356763</td>\n",
              "      <td>2017-02-19 00:43:09</td>\n",
              "      <td>8400.0</td>\n",
              "      <td>Served Cold</td>\n",
              "      <td>Complete Ep. 10: Legacy</td>\n",
              "      <td>20.0</td>\n",
              "      <td>[666465, 622655, 677054, 3600, 496211, 459717,...</td>\n",
              "    </tr>\n",
              "    <tr>\n",
              "      <th>1912420</th>\n",
              "      <td>2864709</td>\n",
              "      <td>mittisan</td>\n",
              "      <td>3604_329632</td>\n",
              "      <td>2014-03-04 20:15:23</td>\n",
              "      <td>3604.0</td>\n",
              "      <td>On Base</td>\n",
              "      <td>You defeated the first base in Vindicators Par...</td>\n",
              "      <td>15.0</td>\n",
              "      <td>[655218, 655217, 9613, 702196, 23441, 583531, ...</td>\n",
              "    </tr>\n",
              "    <tr>\n",
              "      <th>13002881</th>\n",
              "      <td>775404</td>\n",
              "      <td>Odindarkness</td>\n",
              "      <td>10509_366805</td>\n",
              "      <td>2015-10-31 04:01:43</td>\n",
              "      <td>10509.0</td>\n",
              "      <td>Reclamation</td>\n",
              "      <td>Completed Mission 13.</td>\n",
              "      <td>10.0</td>\n",
              "      <td>[550303, 19405, 477002, 3965, 7756, 407383, 33...</td>\n",
              "    </tr>\n",
              "    <tr>\n",
              "      <th>1087459</th>\n",
              "      <td>848677</td>\n",
              "      <td>SUPER FLY 1988</td>\n",
              "      <td>429170_3893555</td>\n",
              "      <td>2023-02-17 05:49:07</td>\n",
              "      <td>429170.0</td>\n",
              "      <td>Damp knight</td>\n",
              "      <td>Visit Swampland</td>\n",
              "      <td>50.0</td>\n",
              "      <td>[589201, 660110, 9613, 550303, 634627, 707376,...</td>\n",
              "    </tr>\n",
              "    <tr>\n",
              "      <th>13932384</th>\n",
              "      <td>706405</td>\n",
              "      <td>diogopc</td>\n",
              "      <td>1520_276200</td>\n",
              "      <td>2016-12-10 20:58:04</td>\n",
              "      <td>1520.0</td>\n",
              "      <td>Ground Combo Skill</td>\n",
              "      <td>50 Enemies defeated using only Ground Combos</td>\n",
              "      <td>15.0</td>\n",
              "      <td>[15340, 589201, 755120, 748280, 457456, 693001...</td>\n",
              "    </tr>\n",
              "    <tr>\n",
              "      <th>12850888</th>\n",
              "      <td>1251901</td>\n",
              "      <td>LPL Damy</td>\n",
              "      <td>13034_375652</td>\n",
              "      <td>2017-10-22 00:28:50</td>\n",
              "      <td>13034.0</td>\n",
              "      <td>Poco Chinpoko</td>\n",
              "      <td>You collected 5 Chinpokomon</td>\n",
              "      <td>10.0</td>\n",
              "      <td>[489212, 550303, 481237, 651141, 2059, 637402,...</td>\n",
              "    </tr>\n",
              "    <tr>\n",
              "      <th>4564239</th>\n",
              "      <td>847887</td>\n",
              "      <td>Nathan LS27</td>\n",
              "      <td>1709_282616</td>\n",
              "      <td>2010-11-10 01:33:09</td>\n",
              "      <td>1709.0</td>\n",
              "      <td>Fully Loaded</td>\n",
              "      <td>Purchase all Upgrades.</td>\n",
              "      <td>30.0</td>\n",
              "      <td>[23298, 19170, 464122, 550303, 748147, 578793,...</td>\n",
              "    </tr>\n",
              "    <tr>\n",
              "      <th>2597254</th>\n",
              "      <td>847070</td>\n",
              "      <td>Big Ell</td>\n",
              "      <td>9613_4127417</td>\n",
              "      <td>2021-10-14 02:44:58</td>\n",
              "      <td>9613.0</td>\n",
              "      <td>Eventgoer</td>\n",
              "      <td>Participated in your first Event</td>\n",
              "      <td>10.0</td>\n",
              "      <td>[609289, 184471, 712591, 2013, 7778, 433250, 1...</td>\n",
              "    </tr>\n",
              "    <tr>\n",
              "      <th>746301</th>\n",
              "      <td>3035506</td>\n",
              "      <td>Thulgrum</td>\n",
              "      <td>166846_2852784</td>\n",
              "      <td>2024-04-21 23:27:54</td>\n",
              "      <td>166846.0</td>\n",
              "      <td>Bad Guy Boogie</td>\n",
              "      <td>Activated dance mode and made 5 characters dance</td>\n",
              "      <td>10.0</td>\n",
              "      <td>[10783, 20270, 8076, 16600, 670259, 691168, 51...</td>\n",
              "    </tr>\n",
              "    <tr>\n",
              "      <th>12374451</th>\n",
              "      <td>2322210</td>\n",
              "      <td>Armadillo Tank</td>\n",
              "      <td>1836_286108</td>\n",
              "      <td>2012-11-15 05:17:54</td>\n",
              "      <td>1836.0</td>\n",
              "      <td>You Monster</td>\n",
              "      <td>Reunite with GLaDOS</td>\n",
              "      <td>5.0</td>\n",
              "      <td>[3488, 4934, 1743, 2113, 2695, 5396, 2472, 596...</td>\n",
              "    </tr>\n",
              "  </tbody>\n",
              "</table>\n",
              "</div>"
            ],
            "text/plain": [
              "          playerid        nickname   achievementid        date_acquired  \\\n",
              "12737010   2192716     HunterBrawl     8400_356763  2017-02-19 00:43:09   \n",
              "1912420    2864709        mittisan     3604_329632  2014-03-04 20:15:23   \n",
              "13002881    775404    Odindarkness    10509_366805  2015-10-31 04:01:43   \n",
              "1087459     848677  SUPER FLY 1988  429170_3893555  2023-02-17 05:49:07   \n",
              "13932384    706405         diogopc     1520_276200  2016-12-10 20:58:04   \n",
              "12850888   1251901        LPL Damy    13034_375652  2017-10-22 00:28:50   \n",
              "4564239     847887     Nathan LS27     1709_282616  2010-11-10 01:33:09   \n",
              "2597254     847070         Big Ell    9613_4127417  2021-10-14 02:44:58   \n",
              "746301     3035506        Thulgrum  166846_2852784  2024-04-21 23:27:54   \n",
              "12374451   2322210  Armadillo Tank     1836_286108  2012-11-15 05:17:54   \n",
              "\n",
              "            gameid               title  \\\n",
              "12737010    8400.0         Served Cold   \n",
              "1912420     3604.0             On Base   \n",
              "13002881   10509.0         Reclamation   \n",
              "1087459   429170.0         Damp knight   \n",
              "13932384    1520.0  Ground Combo Skill   \n",
              "12850888   13034.0       Poco Chinpoko   \n",
              "4564239     1709.0        Fully Loaded   \n",
              "2597254     9613.0           Eventgoer   \n",
              "746301    166846.0      Bad Guy Boogie   \n",
              "12374451    1836.0         You Monster   \n",
              "\n",
              "                                                description  points  \\\n",
              "12737010                            Complete Ep. 10: Legacy    20.0   \n",
              "1912420   You defeated the first base in Vindicators Par...    15.0   \n",
              "13002881                              Completed Mission 13.    10.0   \n",
              "1087459                                     Visit Swampland    50.0   \n",
              "13932384       50 Enemies defeated using only Ground Combos    15.0   \n",
              "12850888                        You collected 5 Chinpokomon    10.0   \n",
              "4564239                              Purchase all Upgrades.    30.0   \n",
              "2597254                    Participated in your first Event    10.0   \n",
              "746301     Activated dance mode and made 5 characters dance    10.0   \n",
              "12374451                                Reunite with GLaDOS     5.0   \n",
              "\n",
              "                                                    library  \n",
              "12737010  [666465, 622655, 677054, 3600, 496211, 459717,...  \n",
              "1912420   [655218, 655217, 9613, 702196, 23441, 583531, ...  \n",
              "13002881  [550303, 19405, 477002, 3965, 7756, 407383, 33...  \n",
              "1087459   [589201, 660110, 9613, 550303, 634627, 707376,...  \n",
              "13932384  [15340, 589201, 755120, 748280, 457456, 693001...  \n",
              "12850888  [489212, 550303, 481237, 651141, 2059, 637402,...  \n",
              "4564239   [23298, 19170, 464122, 550303, 748147, 578793,...  \n",
              "2597254   [609289, 184471, 712591, 2013, 7778, 433250, 1...  \n",
              "746301    [10783, 20270, 8076, 16600, 670259, 691168, 51...  \n",
              "12374451  [3488, 4934, 1743, 2113, 2695, 5396, 2472, 596...  "
            ]
          },
          "execution_count": 44,
          "metadata": {},
          "output_type": "execute_result"
        }
      ],
      "source": [
        "xb_player_info.sample(10)"
      ]
    },
    {
      "cell_type": "markdown",
      "metadata": {},
      "source": [
        "### Game focus"
      ]
    },
    {
      "cell_type": "code",
      "execution_count": null,
      "metadata": {},
      "outputs": [],
      "source": [
        "xb_game_info = xbox_games.merge(xbox_achievements.rename(columns={'title': 'achievement_title'}), on=\"gameid\", how=\"left\")"
      ]
    },
    {
      "cell_type": "code",
      "execution_count": null,
      "metadata": {},
      "outputs": [],
      "source": [
        "xb_game_info = xb_game_info.merge(xbox_prices, on=\"gameid\", how=\"left\")"
      ]
    },
    {
      "cell_type": "code",
      "execution_count": null,
      "metadata": {},
      "outputs": [],
      "source": [
        "xb_game_info = xb_game_info.drop(columns=['date_acquired', 'points'])"
      ]
    },
    {
      "cell_type": "code",
      "execution_count": null,
      "metadata": {},
      "outputs": [],
      "source": [
        "xb_game_info.rename(columns={'description': 'achievement_description'}, inplace=True)"
      ]
    },
    {
      "cell_type": "code",
      "execution_count": null,
      "metadata": {},
      "outputs": [
        {
          "name": "stdout",
          "output_type": "stream",
          "text": [
            "<class 'pandas.core.frame.DataFrame'>\n",
            "RangeIndex: 323038 entries, 0 to 323037\n",
            "Data columns (total 15 columns):\n",
            " #   Column                   Non-Null Count   Dtype  \n",
            "---  ------                   --------------   -----  \n",
            " 0   gameid                   323038 non-null  int64  \n",
            " 1   title                    323038 non-null  object \n",
            " 2   developers               304402 non-null  object \n",
            " 3   publishers               305059 non-null  object \n",
            " 4   genres                   304168 non-null  object \n",
            " 5   supported_languages      132805 non-null  object \n",
            " 6   release_date             323038 non-null  object \n",
            " 7   achievementid            323038 non-null  object \n",
            " 8   achievement_title        323037 non-null  object \n",
            " 9   achievement_description  322984 non-null  object \n",
            " 10  usd                      237247 non-null  float64\n",
            " 11  eur                      226837 non-null  float64\n",
            " 12  gbp                      234618 non-null  float64\n",
            " 13  jpy                      0 non-null       float64\n",
            " 14  rub                      210234 non-null  float64\n",
            "dtypes: float64(5), int64(1), object(9)\n",
            "memory usage: 37.0+ MB\n"
          ]
        }
      ],
      "source": [
        "xb_game_info.info()"
      ]
    },
    {
      "cell_type": "markdown",
      "metadata": {},
      "source": [
        "## Game Info Across Platforms"
      ]
    },
    {
      "cell_type": "code",
      "execution_count": null,
      "metadata": {},
      "outputs": [
        {
          "data": {
            "text/plain": [
              "23151"
            ]
          },
          "execution_count": 50,
          "metadata": {},
          "output_type": "execute_result"
        }
      ],
      "source": [
        "len(ps_game_info['gameid'].unique())"
      ]
    },
    {
      "cell_type": "code",
      "execution_count": null,
      "metadata": {},
      "outputs": [
        {
          "data": {
            "text/plain": [
              "98248"
            ]
          },
          "execution_count": 51,
          "metadata": {},
          "output_type": "execute_result"
        }
      ],
      "source": [
        "len(st_game_info['gameid'].unique())"
      ]
    },
    {
      "cell_type": "code",
      "execution_count": null,
      "metadata": {},
      "outputs": [
        {
          "data": {
            "text/plain": [
              "10489"
            ]
          },
          "execution_count": 52,
          "metadata": {},
          "output_type": "execute_result"
        }
      ],
      "source": [
        "len(xb_game_info['gameid'].unique())"
      ]
    },
    {
      "cell_type": "code",
      "execution_count": null,
      "metadata": {},
      "outputs": [
        {
          "name": "stdout",
          "output_type": "stream",
          "text": [
            "Shared titles between PS & ST: 5571\n",
            "Shared titles between PS & XB: 5360\n",
            "Shared titles between ST & XB: 5540\n",
            "Shared across all three: 3815\n"
          ]
        }
      ],
      "source": [
        "ps_titles = set(ps_game_info['title'].str.lower().str.strip())\n",
        "st_titles = set(st_game_info['title'].str.lower().str.strip())\n",
        "xb_titles = set(xb_game_info['title'].str.lower().str.strip())\n",
        "\n",
        "shared_ps_st = ps_titles.intersection(st_titles)\n",
        "shared_ps_xb = ps_titles.intersection(xb_titles)\n",
        "shared_st_xb = st_titles.intersection(xb_titles)\n",
        "shared_all = ps_titles.intersection(st_titles, xb_titles)\n",
        "\n",
        "print(f\"Shared titles between PS & ST: {len(shared_ps_st)}\")\n",
        "print(f\"Shared titles between PS & XB: {len(shared_ps_xb)}\")\n",
        "print(f\"Shared titles between ST & XB: {len(shared_st_xb)}\")\n",
        "print(f\"Shared across all three: {len(shared_all)}\")\n"
      ]
    },
    {
      "cell_type": "code",
      "execution_count": null,
      "metadata": {},
      "outputs": [],
      "source": [
        "def clean_game_info(df, platform):\n",
        "    df = df.copy()\n",
        "    \n",
        "    # drop platform-specific columns (ps_game_info's 'rarity' and 'PS_platform')\n",
        "    drop_cols = ['date_acquired', 'rarity', 'PS_platform']\n",
        "    df = df.drop(columns=[col for col in drop_cols if col in df.columns], errors='ignore')\n",
        "\n",
        "    # add platform column\n",
        "    df['platform'] = platform\n",
        "    \n",
        "    return df"
      ]
    },
    {
      "cell_type": "code",
      "execution_count": null,
      "metadata": {},
      "outputs": [],
      "source": [
        "ps_game_info_clean = clean_game_info(ps_game_info, 'ps')"
      ]
    },
    {
      "cell_type": "code",
      "execution_count": null,
      "metadata": {},
      "outputs": [
        {
          "data": {
            "text/plain": [
              "Index(['gameid', 'title', 'developers', 'publishers', 'genres',\n",
              "       'supported_languages', 'release_date', 'achievementid',\n",
              "       'achievement_title', 'achievement_description', 'usd', 'eur', 'gbp',\n",
              "       'jpy', 'rub', 'platform'],\n",
              "      dtype='object')"
            ]
          },
          "execution_count": 56,
          "metadata": {},
          "output_type": "execute_result"
        }
      ],
      "source": [
        "ps_game_info_clean.columns"
      ]
    },
    {
      "cell_type": "code",
      "execution_count": null,
      "metadata": {},
      "outputs": [],
      "source": [
        "st_game_info_clean = clean_game_info(st_game_info, 'st')"
      ]
    },
    {
      "cell_type": "code",
      "execution_count": null,
      "metadata": {},
      "outputs": [
        {
          "data": {
            "text/plain": [
              "Index(['gameid', 'title', 'developers', 'publishers', 'genres',\n",
              "       'supported_languages', 'release_date', 'achievementid',\n",
              "       'achievement_title', 'achievement_description', 'usd', 'eur', 'gbp',\n",
              "       'jpy', 'rub', 'platform'],\n",
              "      dtype='object')"
            ]
          },
          "execution_count": 58,
          "metadata": {},
          "output_type": "execute_result"
        }
      ],
      "source": [
        "st_game_info_clean.columns"
      ]
    },
    {
      "cell_type": "code",
      "execution_count": null,
      "metadata": {},
      "outputs": [],
      "source": [
        "xb_game_info_clean = clean_game_info(xb_game_info, 'xb')"
      ]
    },
    {
      "cell_type": "code",
      "execution_count": null,
      "metadata": {},
      "outputs": [
        {
          "data": {
            "text/plain": [
              "Index(['gameid', 'title', 'developers', 'publishers', 'genres',\n",
              "       'supported_languages', 'release_date', 'achievementid',\n",
              "       'achievement_title', 'achievement_description', 'usd', 'eur', 'gbp',\n",
              "       'jpy', 'rub', 'platform'],\n",
              "      dtype='object')"
            ]
          },
          "execution_count": 60,
          "metadata": {},
          "output_type": "execute_result"
        }
      ],
      "source": [
        "xb_game_info_clean.columns"
      ]
    },
    {
      "cell_type": "code",
      "execution_count": null,
      "metadata": {},
      "outputs": [
        {
          "name": "stdout",
          "output_type": "stream",
          "text": [
            "Merged dataset shape: (431985, 16)\n"
          ]
        }
      ],
      "source": [
        "shared_games = set(ps_game_info_clean['title']) & set(st_game_info_clean['title']) & set(xb_game_info_clean['title'])\n",
        "\n",
        "ps_game_info_clean = ps_game_info_clean[ps_game_info_clean['title'].isin(shared_games)]\n",
        "st_game_info_clean = st_game_info_clean[st_game_info_clean['title'].isin(shared_games)]\n",
        "xb_game_info_clean = xb_game_info_clean[xb_game_info_clean['title'].isin(shared_games)]\n",
        "\n",
        "merged_game_info = pd.concat([ps_game_info_clean, st_game_info_clean, xb_game_info_clean], ignore_index=True)\n",
        "\n",
        "print(f\"Merged dataset shape: {merged_game_info.shape}\")"
      ]
    },
    {
      "cell_type": "code",
      "execution_count": null,
      "metadata": {},
      "outputs": [
        {
          "name": "stdout",
          "output_type": "stream",
          "text": [
            "<class 'pandas.core.frame.DataFrame'>\n",
            "RangeIndex: 431985 entries, 0 to 431984\n",
            "Data columns (total 16 columns):\n",
            " #   Column                   Non-Null Count   Dtype  \n",
            "---  ------                   --------------   -----  \n",
            " 0   gameid                   431985 non-null  int64  \n",
            " 1   title                    431985 non-null  object \n",
            " 2   developers               430744 non-null  object \n",
            " 3   publishers               430459 non-null  object \n",
            " 4   genres                   430507 non-null  object \n",
            " 5   supported_languages      274284 non-null  object \n",
            " 6   release_date             431985 non-null  object \n",
            " 7   achievementid            431807 non-null  object \n",
            " 8   achievement_title        431801 non-null  object \n",
            " 9   achievement_description  414137 non-null  object \n",
            " 10  usd                      398232 non-null  float64\n",
            " 11  eur                      386835 non-null  float64\n",
            " 12  gbp                      396497 non-null  float64\n",
            " 13  jpy                      186153 non-null  float64\n",
            " 14  rub                      224923 non-null  float64\n",
            " 15  platform                 431985 non-null  object \n",
            "dtypes: float64(5), int64(1), object(10)\n",
            "memory usage: 52.7+ MB\n"
          ]
        }
      ],
      "source": [
        "merged_game_info.info()"
      ]
    },
    {
      "cell_type": "code",
      "execution_count": null,
      "metadata": {},
      "outputs": [
        {
          "data": {
            "text/plain": [
              "achievementid\n",
              "711118_5703719    1\n",
              "749591_6100112    1\n",
              "749591_6100113    1\n",
              "749591_6100114    1\n",
              "749591_6100115    1\n",
              "                 ..\n",
              "749302_6097807    1\n",
              "749302_6097806    1\n",
              "749302_6097805    1\n",
              "749302_6097804    1\n",
              "749302_6097803    1\n",
              "Name: count, Length: 431807, dtype: int64"
            ]
          },
          "execution_count": 63,
          "metadata": {},
          "output_type": "execute_result"
        }
      ],
      "source": [
        "merged_game_info['achievementid'].value_counts()"
      ]
    },
    {
      "cell_type": "code",
      "execution_count": null,
      "metadata": {},
      "outputs": [
        {
          "data": {
            "text/plain": [
              "platform\n",
              "ps    205901\n",
              "st    114850\n",
              "xb    111234\n",
              "Name: count, dtype: int64"
            ]
          },
          "execution_count": 64,
          "metadata": {},
          "output_type": "execute_result"
        }
      ],
      "source": [
        "merged_game_info['platform'].value_counts()"
      ]
    },
    {
      "cell_type": "markdown",
      "metadata": {},
      "source": [
        "## Long and Tidy Form\n",
        "A tidy dataset follows the principles:\n",
        "1. Each column is a single variable.\n",
        "2. Each row is a single observation.\n",
        "3. Each cell contains a single value.\n",
        "\n",
        "#### Issues with the current merged_game_info:\n",
        "- **We decide to leave it unchanged as our analysis will base on it**: The platform column is categorical, meaning the same game can appear multiple times (once per platform). This makes it long format.\n",
        "- Price columns (usd, eur, etc.) are separate instead of melted into a single column, which makes the dataset wide instead of long, which is not tidy."
      ]
    },
    {
      "cell_type": "code",
      "execution_count": null,
      "metadata": {},
      "outputs": [],
      "source": [
        "# convert price columns into a long format\n",
        "tidy_game_info = merged_game_info.melt(\n",
        "    id_vars=[\n",
        "        \"gameid\", \"title\", \"developers\", \"publishers\", \"genres\",\n",
        "        \"supported_languages\", \"release_date\", \"achievementid\",\n",
        "        \"achievement_title\", \"achievement_description\", \"platform\"\n",
        "    ],\n",
        "    value_vars=[\"usd\", \"eur\", \"gbp\", \"jpy\", \"rub\"],\n",
        "    var_name=\"currency\",\n",
        "    value_name=\"price\"\n",
        ")"
      ]
    },
    {
      "cell_type": "code",
      "execution_count": null,
      "metadata": {},
      "outputs": [
        {
          "data": {
            "text/plain": [
              "(2159925, 13)"
            ]
          },
          "execution_count": 66,
          "metadata": {},
          "output_type": "execute_result"
        }
      ],
      "source": [
        "tidy_game_info.shape"
      ]
    },
    {
      "cell_type": "code",
      "execution_count": null,
      "metadata": {},
      "outputs": [
        {
          "name": "stdout",
          "output_type": "stream",
          "text": [
            "<class 'pandas.core.frame.DataFrame'>\n",
            "RangeIndex: 2159925 entries, 0 to 2159924\n",
            "Data columns (total 13 columns):\n",
            " #   Column                   Dtype  \n",
            "---  ------                   -----  \n",
            " 0   gameid                   int64  \n",
            " 1   title                    object \n",
            " 2   developers               object \n",
            " 3   publishers               object \n",
            " 4   genres                   object \n",
            " 5   supported_languages      object \n",
            " 6   release_date             object \n",
            " 7   achievementid            object \n",
            " 8   achievement_title        object \n",
            " 9   achievement_description  object \n",
            " 10  platform                 object \n",
            " 11  currency                 object \n",
            " 12  price                    float64\n",
            "dtypes: float64(1), int64(1), object(11)\n",
            "memory usage: 214.2+ MB\n"
          ]
        }
      ],
      "source": [
        "tidy_game_info.info()"
      ]
    },
    {
      "cell_type": "code",
      "execution_count": null,
      "metadata": {},
      "outputs": [
        {
          "data": {
            "application/vnd.microsoft.datawrangler.viewer.v0+json": {
              "columns": [
                {
                  "name": "index",
                  "rawType": "int64",
                  "type": "integer"
                },
                {
                  "name": "gameid",
                  "rawType": "int64",
                  "type": "integer"
                },
                {
                  "name": "title",
                  "rawType": "object",
                  "type": "string"
                },
                {
                  "name": "developers",
                  "rawType": "object",
                  "type": "string"
                },
                {
                  "name": "publishers",
                  "rawType": "object",
                  "type": "string"
                },
                {
                  "name": "genres",
                  "rawType": "object",
                  "type": "string"
                },
                {
                  "name": "supported_languages",
                  "rawType": "object",
                  "type": "unknown"
                },
                {
                  "name": "release_date",
                  "rawType": "object",
                  "type": "string"
                },
                {
                  "name": "achievementid",
                  "rawType": "object",
                  "type": "string"
                },
                {
                  "name": "achievement_title",
                  "rawType": "object",
                  "type": "string"
                },
                {
                  "name": "achievement_description",
                  "rawType": "object",
                  "type": "string"
                },
                {
                  "name": "platform",
                  "rawType": "object",
                  "type": "string"
                },
                {
                  "name": "currency",
                  "rawType": "object",
                  "type": "string"
                },
                {
                  "name": "price",
                  "rawType": "float64",
                  "type": "float"
                }
              ],
              "conversionMethod": "pd.DataFrame",
              "ref": "ce4c9c34-23f6-4dd8-a6e0-fbcf2374100a",
              "rows": [
                [
                  "640436",
                  "1350920",
                  "Liege Dragon",
                  "['Exe Create Inc.']",
                  "['KEMCO']",
                  "['Adventure', 'Casual', 'Indie', 'RPG', 'Simulation', 'Strategy']",
                  "['English', 'Japanese']",
                  "2020-08-30",
                  "1350920_19",
                  "Hard Collector",
                  "Collected 100 treasure chests.",
                  "st",
                  "eur",
                  "14.99"
                ],
                [
                  "482120",
                  "461004",
                  "The Jackbox Party Pack 8",
                  "['Jackbox Games']",
                  "['Jackbox Games']",
                  "['Collection', 'Party']",
                  null,
                  "2021-10-14",
                  "461004_4141243",
                  "Weapons Drawn: Dead of Night",
                  "Play the game at midnight",
                  "ps",
                  "eur",
                  "29.99"
                ],
                [
                  "1424147",
                  "660901",
                  "NightGhast",
                  "['Playstige Interactive']",
                  "['Playstige Interactive']",
                  "['Adventure']",
                  null,
                  "2024-03-22",
                  "660901_5384699",
                  "Curious Mildred",
                  "She wants to keep an eye on you…",
                  "ps",
                  "jpy",
                  "440.0"
                ],
                [
                  "555649",
                  "679973",
                  "CLeM",
                  "['Mango Protocol']",
                  "['Mango Protocol']",
                  "['Puzzle']",
                  "['Japanese', 'French', 'Spanish', 'German', 'Dutch', 'Russian', 'Korean', 'Chinese (simplified)', 'Portuguese (Brazil)']",
                  "2024-07-17",
                  "679973_5503277",
                  "Beauty",
                  "You've delivered a butterfly.",
                  "ps",
                  "eur",
                  "15.99"
                ],
                [
                  "1495185",
                  "17203",
                  "Full Throttle Remastered",
                  "['Double Fine Productions']",
                  "['Double Fine Productions', 'Disney Interactive']",
                  "['Adventure']",
                  "['French', 'Spanish', 'German', 'Italian', 'Portuguese (Brazil)']",
                  "2017-04-18",
                  "17203_169816",
                  "Thank No Cats",
                  "Watch the bunnies overtake the credits",
                  "ps",
                  "jpy",
                  "1760.0"
                ]
              ],
              "shape": {
                "columns": 13,
                "rows": 5
              }
            },
            "text/html": [
              "<div>\n",
              "<style scoped>\n",
              "    .dataframe tbody tr th:only-of-type {\n",
              "        vertical-align: middle;\n",
              "    }\n",
              "\n",
              "    .dataframe tbody tr th {\n",
              "        vertical-align: top;\n",
              "    }\n",
              "\n",
              "    .dataframe thead th {\n",
              "        text-align: right;\n",
              "    }\n",
              "</style>\n",
              "<table border=\"1\" class=\"dataframe\">\n",
              "  <thead>\n",
              "    <tr style=\"text-align: right;\">\n",
              "      <th></th>\n",
              "      <th>gameid</th>\n",
              "      <th>title</th>\n",
              "      <th>developers</th>\n",
              "      <th>publishers</th>\n",
              "      <th>genres</th>\n",
              "      <th>supported_languages</th>\n",
              "      <th>release_date</th>\n",
              "      <th>achievementid</th>\n",
              "      <th>achievement_title</th>\n",
              "      <th>achievement_description</th>\n",
              "      <th>platform</th>\n",
              "      <th>currency</th>\n",
              "      <th>price</th>\n",
              "    </tr>\n",
              "  </thead>\n",
              "  <tbody>\n",
              "    <tr>\n",
              "      <th>640436</th>\n",
              "      <td>1350920</td>\n",
              "      <td>Liege Dragon</td>\n",
              "      <td>['Exe Create Inc.']</td>\n",
              "      <td>['KEMCO']</td>\n",
              "      <td>['Adventure', 'Casual', 'Indie', 'RPG', 'Simul...</td>\n",
              "      <td>['English', 'Japanese']</td>\n",
              "      <td>2020-08-30</td>\n",
              "      <td>1350920_19</td>\n",
              "      <td>Hard Collector</td>\n",
              "      <td>Collected 100 treasure chests.</td>\n",
              "      <td>st</td>\n",
              "      <td>eur</td>\n",
              "      <td>14.99</td>\n",
              "    </tr>\n",
              "    <tr>\n",
              "      <th>482120</th>\n",
              "      <td>461004</td>\n",
              "      <td>The Jackbox Party Pack 8</td>\n",
              "      <td>['Jackbox Games']</td>\n",
              "      <td>['Jackbox Games']</td>\n",
              "      <td>['Collection', 'Party']</td>\n",
              "      <td>NaN</td>\n",
              "      <td>2021-10-14</td>\n",
              "      <td>461004_4141243</td>\n",
              "      <td>Weapons Drawn: Dead of Night</td>\n",
              "      <td>Play the game at midnight</td>\n",
              "      <td>ps</td>\n",
              "      <td>eur</td>\n",
              "      <td>29.99</td>\n",
              "    </tr>\n",
              "    <tr>\n",
              "      <th>1424147</th>\n",
              "      <td>660901</td>\n",
              "      <td>NightGhast</td>\n",
              "      <td>['Playstige Interactive']</td>\n",
              "      <td>['Playstige Interactive']</td>\n",
              "      <td>['Adventure']</td>\n",
              "      <td>NaN</td>\n",
              "      <td>2024-03-22</td>\n",
              "      <td>660901_5384699</td>\n",
              "      <td>Curious Mildred</td>\n",
              "      <td>She wants to keep an eye on you…</td>\n",
              "      <td>ps</td>\n",
              "      <td>jpy</td>\n",
              "      <td>440.00</td>\n",
              "    </tr>\n",
              "    <tr>\n",
              "      <th>555649</th>\n",
              "      <td>679973</td>\n",
              "      <td>CLeM</td>\n",
              "      <td>['Mango Protocol']</td>\n",
              "      <td>['Mango Protocol']</td>\n",
              "      <td>['Puzzle']</td>\n",
              "      <td>['Japanese', 'French', 'Spanish', 'German', 'D...</td>\n",
              "      <td>2024-07-17</td>\n",
              "      <td>679973_5503277</td>\n",
              "      <td>Beauty</td>\n",
              "      <td>You've delivered a butterfly.</td>\n",
              "      <td>ps</td>\n",
              "      <td>eur</td>\n",
              "      <td>15.99</td>\n",
              "    </tr>\n",
              "    <tr>\n",
              "      <th>1495185</th>\n",
              "      <td>17203</td>\n",
              "      <td>Full Throttle Remastered</td>\n",
              "      <td>['Double Fine Productions']</td>\n",
              "      <td>['Double Fine Productions', 'Disney Interactive']</td>\n",
              "      <td>['Adventure']</td>\n",
              "      <td>['French', 'Spanish', 'German', 'Italian', 'Po...</td>\n",
              "      <td>2017-04-18</td>\n",
              "      <td>17203_169816</td>\n",
              "      <td>Thank No Cats</td>\n",
              "      <td>Watch the bunnies overtake the credits</td>\n",
              "      <td>ps</td>\n",
              "      <td>jpy</td>\n",
              "      <td>1760.00</td>\n",
              "    </tr>\n",
              "  </tbody>\n",
              "</table>\n",
              "</div>"
            ],
            "text/plain": [
              "          gameid                     title                   developers  \\\n",
              "640436   1350920              Liege Dragon          ['Exe Create Inc.']   \n",
              "482120    461004  The Jackbox Party Pack 8            ['Jackbox Games']   \n",
              "1424147   660901                NightGhast    ['Playstige Interactive']   \n",
              "555649    679973                      CLeM           ['Mango Protocol']   \n",
              "1495185    17203  Full Throttle Remastered  ['Double Fine Productions']   \n",
              "\n",
              "                                                publishers  \\\n",
              "640436                                           ['KEMCO']   \n",
              "482120                                   ['Jackbox Games']   \n",
              "1424147                          ['Playstige Interactive']   \n",
              "555649                                  ['Mango Protocol']   \n",
              "1495185  ['Double Fine Productions', 'Disney Interactive']   \n",
              "\n",
              "                                                    genres  \\\n",
              "640436   ['Adventure', 'Casual', 'Indie', 'RPG', 'Simul...   \n",
              "482120                             ['Collection', 'Party']   \n",
              "1424147                                      ['Adventure']   \n",
              "555649                                          ['Puzzle']   \n",
              "1495185                                      ['Adventure']   \n",
              "\n",
              "                                       supported_languages release_date  \\\n",
              "640436                             ['English', 'Japanese']   2020-08-30   \n",
              "482120                                                 NaN   2021-10-14   \n",
              "1424147                                                NaN   2024-03-22   \n",
              "555649   ['Japanese', 'French', 'Spanish', 'German', 'D...   2024-07-17   \n",
              "1495185  ['French', 'Spanish', 'German', 'Italian', 'Po...   2017-04-18   \n",
              "\n",
              "          achievementid             achievement_title  \\\n",
              "640436       1350920_19                Hard Collector   \n",
              "482120   461004_4141243  Weapons Drawn: Dead of Night   \n",
              "1424147  660901_5384699               Curious Mildred   \n",
              "555649   679973_5503277                        Beauty   \n",
              "1495185    17203_169816                 Thank No Cats   \n",
              "\n",
              "                        achievement_description platform currency    price  \n",
              "640436           Collected 100 treasure chests.       st      eur    14.99  \n",
              "482120                Play the game at midnight       ps      eur    29.99  \n",
              "1424147        She wants to keep an eye on you…       ps      jpy   440.00  \n",
              "555649            You've delivered a butterfly.       ps      eur    15.99  \n",
              "1495185  Watch the bunnies overtake the credits       ps      jpy  1760.00  "
            ]
          },
          "execution_count": 68,
          "metadata": {},
          "output_type": "execute_result"
        }
      ],
      "source": [
        "tidy_game_info.sample(5)"
      ]
    },
    {
      "cell_type": "code",
      "execution_count": null,
      "metadata": {},
      "outputs": [
        {
          "data": {
            "text/plain": [
              "achievementid\n",
              "711118_5703719    5\n",
              "749591_6100112    5\n",
              "749591_6100113    5\n",
              "749591_6100114    5\n",
              "749591_6100115    5\n",
              "                 ..\n",
              "749302_6097807    5\n",
              "749302_6097806    5\n",
              "749302_6097805    5\n",
              "749302_6097804    5\n",
              "749302_6097803    5\n",
              "Name: count, Length: 431807, dtype: int64"
            ]
          },
          "execution_count": 69,
          "metadata": {},
          "output_type": "execute_result"
        }
      ],
      "source": [
        "tidy_game_info['achievementid'].value_counts()"
      ]
    },
    {
      "cell_type": "markdown",
      "metadata": {},
      "source": [
        "## Preprocessing"
      ]
    },
    {
      "cell_type": "markdown",
      "metadata": {},
      "source": [
        "### 1. Check for missing values"
      ]
    },
    {
      "cell_type": "code",
      "execution_count": null,
      "metadata": {},
      "outputs": [
        {
          "data": {
            "application/vnd.microsoft.datawrangler.viewer.v0+json": {
              "columns": [
                {
                  "name": "index",
                  "rawType": "int64",
                  "type": "integer"
                },
                {
                  "name": "col",
                  "rawType": "object",
                  "type": "string"
                },
                {
                  "name": "num_missing",
                  "rawType": "int64",
                  "type": "integer"
                },
                {
                  "name": "missing_pcnt",
                  "rawType": "float64",
                  "type": "float"
                }
              ],
              "conversionMethod": "pd.DataFrame",
              "ref": "77287034-def5-48f7-adf2-1839389e8a70",
              "rows": [
                [
                  "0",
                  "gameid",
                  "0",
                  "0.0"
                ],
                [
                  "1",
                  "title",
                  "0",
                  "0.0"
                ],
                [
                  "2",
                  "developers",
                  "6205",
                  "1.44"
                ],
                [
                  "3",
                  "publishers",
                  "7630",
                  "1.77"
                ],
                [
                  "4",
                  "genres",
                  "7390",
                  "1.71"
                ],
                [
                  "5",
                  "supported_languages",
                  "788505",
                  "182.53"
                ],
                [
                  "6",
                  "release_date",
                  "0",
                  "0.0"
                ],
                [
                  "7",
                  "achievementid",
                  "890",
                  "0.21"
                ],
                [
                  "8",
                  "achievement_title",
                  "920",
                  "0.21"
                ],
                [
                  "9",
                  "achievement_description",
                  "89240",
                  "20.66"
                ],
                [
                  "10",
                  "platform",
                  "0",
                  "0.0"
                ],
                [
                  "11",
                  "currency",
                  "0",
                  "0.0"
                ],
                [
                  "12",
                  "price",
                  "567285",
                  "131.32"
                ]
              ],
              "shape": {
                "columns": 3,
                "rows": 13
              }
            },
            "text/html": [
              "<div>\n",
              "<style scoped>\n",
              "    .dataframe tbody tr th:only-of-type {\n",
              "        vertical-align: middle;\n",
              "    }\n",
              "\n",
              "    .dataframe tbody tr th {\n",
              "        vertical-align: top;\n",
              "    }\n",
              "\n",
              "    .dataframe thead th {\n",
              "        text-align: right;\n",
              "    }\n",
              "</style>\n",
              "<table border=\"1\" class=\"dataframe\">\n",
              "  <thead>\n",
              "    <tr style=\"text-align: right;\">\n",
              "      <th></th>\n",
              "      <th>col</th>\n",
              "      <th>num_missing</th>\n",
              "      <th>missing_pcnt</th>\n",
              "    </tr>\n",
              "  </thead>\n",
              "  <tbody>\n",
              "    <tr>\n",
              "      <th>0</th>\n",
              "      <td>gameid</td>\n",
              "      <td>0</td>\n",
              "      <td>0.00</td>\n",
              "    </tr>\n",
              "    <tr>\n",
              "      <th>1</th>\n",
              "      <td>title</td>\n",
              "      <td>0</td>\n",
              "      <td>0.00</td>\n",
              "    </tr>\n",
              "    <tr>\n",
              "      <th>2</th>\n",
              "      <td>developers</td>\n",
              "      <td>6205</td>\n",
              "      <td>1.44</td>\n",
              "    </tr>\n",
              "    <tr>\n",
              "      <th>3</th>\n",
              "      <td>publishers</td>\n",
              "      <td>7630</td>\n",
              "      <td>1.77</td>\n",
              "    </tr>\n",
              "    <tr>\n",
              "      <th>4</th>\n",
              "      <td>genres</td>\n",
              "      <td>7390</td>\n",
              "      <td>1.71</td>\n",
              "    </tr>\n",
              "    <tr>\n",
              "      <th>5</th>\n",
              "      <td>supported_languages</td>\n",
              "      <td>788505</td>\n",
              "      <td>182.53</td>\n",
              "    </tr>\n",
              "    <tr>\n",
              "      <th>6</th>\n",
              "      <td>release_date</td>\n",
              "      <td>0</td>\n",
              "      <td>0.00</td>\n",
              "    </tr>\n",
              "    <tr>\n",
              "      <th>7</th>\n",
              "      <td>achievementid</td>\n",
              "      <td>890</td>\n",
              "      <td>0.21</td>\n",
              "    </tr>\n",
              "    <tr>\n",
              "      <th>8</th>\n",
              "      <td>achievement_title</td>\n",
              "      <td>920</td>\n",
              "      <td>0.21</td>\n",
              "    </tr>\n",
              "    <tr>\n",
              "      <th>9</th>\n",
              "      <td>achievement_description</td>\n",
              "      <td>89240</td>\n",
              "      <td>20.66</td>\n",
              "    </tr>\n",
              "    <tr>\n",
              "      <th>10</th>\n",
              "      <td>platform</td>\n",
              "      <td>0</td>\n",
              "      <td>0.00</td>\n",
              "    </tr>\n",
              "    <tr>\n",
              "      <th>11</th>\n",
              "      <td>currency</td>\n",
              "      <td>0</td>\n",
              "      <td>0.00</td>\n",
              "    </tr>\n",
              "    <tr>\n",
              "      <th>12</th>\n",
              "      <td>price</td>\n",
              "      <td>567285</td>\n",
              "      <td>131.32</td>\n",
              "    </tr>\n",
              "  </tbody>\n",
              "</table>\n",
              "</div>"
            ],
            "text/plain": [
              "                        col  num_missing  missing_pcnt\n",
              "0                    gameid            0          0.00\n",
              "1                     title            0          0.00\n",
              "2                developers         6205          1.44\n",
              "3                publishers         7630          1.77\n",
              "4                    genres         7390          1.71\n",
              "5       supported_languages       788505        182.53\n",
              "6              release_date            0          0.00\n",
              "7             achievementid          890          0.21\n",
              "8         achievement_title          920          0.21\n",
              "9   achievement_description        89240         20.66\n",
              "10                 platform            0          0.00\n",
              "11                 currency            0          0.00\n",
              "12                    price       567285        131.32"
            ]
          },
          "execution_count": 70,
          "metadata": {},
          "output_type": "execute_result"
        }
      ],
      "source": [
        "# count missing values per column\n",
        "null_counts = tidy_game_info.isnull().sum().reset_index()\n",
        "null_counts.columns = [\"col\", \"num_missing\"]\n",
        "null_counts[\"missing_pcnt\"] = round((null_counts[\"num_missing\"] / len(merged_game_info)) * 100, 2)\n",
        "\n",
        "null_counts"
      ]
    },
    {
      "cell_type": "markdown",
      "metadata": {},
      "source": [
        "#### Here’s how we decide to handle missing values effectively [Used GPT-4o for tailoring to table format]:\n",
        "\n",
        "**Columns with Minor Missing Data (< 5%)**\n",
        "| Column | Missing % | Suggested Action |\n",
        "|---------|----------|-----------------|\n",
        "| **developers** | 0.27% | Fill with \"unknown\" to maintain consistency. |\n",
        "| **publishers** | 1.38% | Fill with \"unknown\" for completeness. |\n",
        "| **genres** | 0.43% | Fill with \"unknown\", since games without a genre classification are rare. |\n",
        "| **achievementid** | 0.69% | Likely an error or missing achievements, can be kept as NaN. |\n",
        "| **achievement_title** | 0.69% | Likely corresponds to missing achievementid, can be kept as NaN. |\n",
        "\n",
        "- **Action: Fill developers, publishers, and genres with \"unknown\", and leave missing achievements as NaN.**\n",
        "\n",
        "---\n",
        "\n",
        "**Columns with Moderate Missing Data (5% - 30%)**\n",
        "| Column | Missing % | Suggested Action |\n",
        "|---------|----------|-----------------|\n",
        "| **supported_languages** | 27.35% | Keep as NaN, since language availability is an actual missing feature. |\n",
        "\n",
        "- **Action: Keep supported_languages as NaN, since not all games support multiple languages. We don't want to introduce incorrect data.**\n",
        "\n",
        "---\n",
        "\n",
        "**Columns with High Missing Data (> 50%)**\n",
        "| Column | Missing % | Suggested Action |\n",
        "|---------|----------|-----------------|\n",
        "| **achievement_description** | 69.11% | Fill missing values with \"unknown\". |\n",
        "| **price** | 71.58% | Keep as NaN—missing prices could indicate unavailable data, regional limitations, or discontinued games. |\n",
        "\n",
        "**Action:**\n",
        "- **Fill achievement_description with \"No description available\"** to avoid empty fields.\n",
        "- **Keep price as NaN**, since forcing imputation could lead to inaccurate pricing."
      ]
    },
    {
      "cell_type": "code",
      "execution_count": null,
      "metadata": {},
      "outputs": [
        {
          "name": "stderr",
          "output_type": "stream",
          "text": [
            "C:\\Users\\W\\AppData\\Local\\Temp\\ipykernel_132740\\1875302043.py:2: FutureWarning: A value is trying to be set on a copy of a DataFrame or Series through chained assignment using an inplace method.\n",
            "The behavior will change in pandas 3.0. This inplace method will never work because the intermediate object on which we are setting values always behaves as a copy.\n",
            "\n",
            "For example, when doing 'df[col].method(value, inplace=True)', try using 'df.method({col: value}, inplace=True)' or df[col] = df[col].method(value) instead, to perform the operation inplace on the original object.\n",
            "\n",
            "\n",
            "  tidy_game_info[\"developers\"].fillna(\"unknown\", inplace=True)\n",
            "C:\\Users\\W\\AppData\\Local\\Temp\\ipykernel_132740\\1875302043.py:3: FutureWarning: A value is trying to be set on a copy of a DataFrame or Series through chained assignment using an inplace method.\n",
            "The behavior will change in pandas 3.0. This inplace method will never work because the intermediate object on which we are setting values always behaves as a copy.\n",
            "\n",
            "For example, when doing 'df[col].method(value, inplace=True)', try using 'df.method({col: value}, inplace=True)' or df[col] = df[col].method(value) instead, to perform the operation inplace on the original object.\n",
            "\n",
            "\n",
            "  tidy_game_info[\"publishers\"].fillna(\"unknown\", inplace=True)\n",
            "C:\\Users\\W\\AppData\\Local\\Temp\\ipykernel_132740\\1875302043.py:4: FutureWarning: A value is trying to be set on a copy of a DataFrame or Series through chained assignment using an inplace method.\n",
            "The behavior will change in pandas 3.0. This inplace method will never work because the intermediate object on which we are setting values always behaves as a copy.\n",
            "\n",
            "For example, when doing 'df[col].method(value, inplace=True)', try using 'df.method({col: value}, inplace=True)' or df[col] = df[col].method(value) instead, to perform the operation inplace on the original object.\n",
            "\n",
            "\n",
            "  tidy_game_info[\"genres\"].fillna(\"unknown\", inplace=True)\n",
            "C:\\Users\\W\\AppData\\Local\\Temp\\ipykernel_132740\\1875302043.py:5: FutureWarning: A value is trying to be set on a copy of a DataFrame or Series through chained assignment using an inplace method.\n",
            "The behavior will change in pandas 3.0. This inplace method will never work because the intermediate object on which we are setting values always behaves as a copy.\n",
            "\n",
            "For example, when doing 'df[col].method(value, inplace=True)', try using 'df.method({col: value}, inplace=True)' or df[col] = df[col].method(value) instead, to perform the operation inplace on the original object.\n",
            "\n",
            "\n",
            "  tidy_game_info[\"achievement_description\"].fillna(\"unknown\", inplace=True)\n"
          ]
        }
      ],
      "source": [
        "# fill missing values for categorical text columns\n",
        "tidy_game_info[\"developers\"].fillna(\"unknown\", inplace=True)\n",
        "tidy_game_info[\"publishers\"].fillna(\"unknown\", inplace=True)\n",
        "tidy_game_info[\"genres\"].fillna(\"unknown\", inplace=True)\n",
        "tidy_game_info[\"achievement_description\"].fillna(\"unknown\", inplace=True)"
      ]
    },
    {
      "cell_type": "markdown",
      "metadata": {},
      "source": [
        "### 2. Multi-valued cols"
      ]
    },
    {
      "cell_type": "code",
      "execution_count": null,
      "metadata": {},
      "outputs": [
        {
          "data": {
            "application/vnd.microsoft.datawrangler.viewer.v0+json": {
              "columns": [
                {
                  "name": "index",
                  "rawType": "int64",
                  "type": "integer"
                },
                {
                  "name": "gameid",
                  "rawType": "int64",
                  "type": "integer"
                },
                {
                  "name": "title",
                  "rawType": "object",
                  "type": "string"
                },
                {
                  "name": "developers",
                  "rawType": "object",
                  "type": "string"
                },
                {
                  "name": "publishers",
                  "rawType": "object",
                  "type": "string"
                },
                {
                  "name": "genres",
                  "rawType": "object",
                  "type": "string"
                },
                {
                  "name": "supported_languages",
                  "rawType": "object",
                  "type": "unknown"
                },
                {
                  "name": "release_date",
                  "rawType": "object",
                  "type": "string"
                },
                {
                  "name": "achievementid",
                  "rawType": "object",
                  "type": "string"
                },
                {
                  "name": "achievement_title",
                  "rawType": "object",
                  "type": "string"
                },
                {
                  "name": "achievement_description",
                  "rawType": "object",
                  "type": "string"
                },
                {
                  "name": "platform",
                  "rawType": "object",
                  "type": "string"
                },
                {
                  "name": "currency",
                  "rawType": "object",
                  "type": "string"
                },
                {
                  "name": "price",
                  "rawType": "float64",
                  "type": "float"
                }
              ],
              "conversionMethod": "pd.DataFrame",
              "ref": "e7612a2c-bf03-444a-924a-3a50b61bef91",
              "rows": [
                [
                  "692927",
                  "2455060",
                  "Taboo Trial",
                  "['Cat Shine']",
                  "[' NPC Entertainment', 'Cat Shine']",
                  "['Action', 'Adventure', 'Indie', 'RPG']",
                  "['English', 'Simplified Chinese', 'Traditional Chinese', 'Japanese', 'French', 'Italian', 'German', 'Spanish - Spain', 'Portuguese - Brazil', 'Korean']",
                  "2023-07-31",
                  "2455060_Skin5",
                  "Yalvite",
                  "Max out the favorability of Yalvite",
                  "st",
                  "eur",
                  "14.79"
                ],
                [
                  "1554198",
                  "822040",
                  "Super Volley Blast",
                  "['Unfinished Pixel']",
                  "['Unfinished Pixel']",
                  "['Casual', 'Indie', 'Sports']",
                  "['English', 'Spanish - Spain', 'French', 'Italian', 'German', 'Japanese', 'Portuguese - Brazil', 'Russian', 'Simplified Chinese']",
                  "2018-11-01",
                  "822040_EzGame",
                  "Ez game",
                  "Win a game in which opponent scores 0 points",
                  "st",
                  "jpy",
                  "1220.0"
                ],
                [
                  "1360762",
                  "411085",
                  "Swordbreaker The Game",
                  "['DuCats Games Studio']",
                  "['DuCats Games Studio']",
                  "['Indie']",
                  null,
                  "2020-09-30",
                  "411085_3746178",
                  "Rat",
                  "Kill the rat",
                  "ps",
                  "jpy",
                  null
                ],
                [
                  "1346597",
                  "459064",
                  "Catty & Batty: The Spirit Guide",
                  "['Philipp Lehner']",
                  "['Sometimes You']",
                  "['Puzzle']",
                  null,
                  "2021-10-13",
                  "459064_4119423",
                  "Boxfox",
                  "We met a cute boxfox, they gotta eat too!",
                  "ps",
                  "jpy",
                  null
                ],
                [
                  "1609845",
                  "1989320",
                  "Astor: Blade of the Monolith",
                  "['C2 Game Studio']",
                  "['Versus Evil', 'tinyBuild']",
                  "['Action', 'Adventure', 'Casual', 'Indie', 'RPG']",
                  "['English', 'French', 'German', 'Spanish - Spain', 'Japanese', 'Korean', 'Portuguese - Brazil', 'Russian', 'Simplified Chinese']",
                  "2024-05-30",
                  "1989320_ACH_TEMPLE_PSYCHE",
                  "The protector",
                  "unknown",
                  "st",
                  "jpy",
                  "2800.0"
                ]
              ],
              "shape": {
                "columns": 13,
                "rows": 5
              }
            },
            "text/html": [
              "<div>\n",
              "<style scoped>\n",
              "    .dataframe tbody tr th:only-of-type {\n",
              "        vertical-align: middle;\n",
              "    }\n",
              "\n",
              "    .dataframe tbody tr th {\n",
              "        vertical-align: top;\n",
              "    }\n",
              "\n",
              "    .dataframe thead th {\n",
              "        text-align: right;\n",
              "    }\n",
              "</style>\n",
              "<table border=\"1\" class=\"dataframe\">\n",
              "  <thead>\n",
              "    <tr style=\"text-align: right;\">\n",
              "      <th></th>\n",
              "      <th>gameid</th>\n",
              "      <th>title</th>\n",
              "      <th>developers</th>\n",
              "      <th>publishers</th>\n",
              "      <th>genres</th>\n",
              "      <th>supported_languages</th>\n",
              "      <th>release_date</th>\n",
              "      <th>achievementid</th>\n",
              "      <th>achievement_title</th>\n",
              "      <th>achievement_description</th>\n",
              "      <th>platform</th>\n",
              "      <th>currency</th>\n",
              "      <th>price</th>\n",
              "    </tr>\n",
              "  </thead>\n",
              "  <tbody>\n",
              "    <tr>\n",
              "      <th>692927</th>\n",
              "      <td>2455060</td>\n",
              "      <td>Taboo Trial</td>\n",
              "      <td>['Cat Shine']</td>\n",
              "      <td>[' NPC Entertainment', 'Cat Shine']</td>\n",
              "      <td>['Action', 'Adventure', 'Indie', 'RPG']</td>\n",
              "      <td>['English', 'Simplified Chinese', 'Traditional...</td>\n",
              "      <td>2023-07-31</td>\n",
              "      <td>2455060_Skin5</td>\n",
              "      <td>Yalvite</td>\n",
              "      <td>Max out the favorability of Yalvite</td>\n",
              "      <td>st</td>\n",
              "      <td>eur</td>\n",
              "      <td>14.79</td>\n",
              "    </tr>\n",
              "    <tr>\n",
              "      <th>1554198</th>\n",
              "      <td>822040</td>\n",
              "      <td>Super Volley Blast</td>\n",
              "      <td>['Unfinished Pixel']</td>\n",
              "      <td>['Unfinished Pixel']</td>\n",
              "      <td>['Casual', 'Indie', 'Sports']</td>\n",
              "      <td>['English', 'Spanish - Spain', 'French', 'Ital...</td>\n",
              "      <td>2018-11-01</td>\n",
              "      <td>822040_EzGame</td>\n",
              "      <td>Ez game</td>\n",
              "      <td>Win a game in which opponent scores 0 points</td>\n",
              "      <td>st</td>\n",
              "      <td>jpy</td>\n",
              "      <td>1220.00</td>\n",
              "    </tr>\n",
              "    <tr>\n",
              "      <th>1360762</th>\n",
              "      <td>411085</td>\n",
              "      <td>Swordbreaker The Game</td>\n",
              "      <td>['DuCats Games Studio']</td>\n",
              "      <td>['DuCats Games Studio']</td>\n",
              "      <td>['Indie']</td>\n",
              "      <td>NaN</td>\n",
              "      <td>2020-09-30</td>\n",
              "      <td>411085_3746178</td>\n",
              "      <td>Rat</td>\n",
              "      <td>Kill the rat</td>\n",
              "      <td>ps</td>\n",
              "      <td>jpy</td>\n",
              "      <td>NaN</td>\n",
              "    </tr>\n",
              "    <tr>\n",
              "      <th>1346597</th>\n",
              "      <td>459064</td>\n",
              "      <td>Catty &amp; Batty: The Spirit Guide</td>\n",
              "      <td>['Philipp Lehner']</td>\n",
              "      <td>['Sometimes You']</td>\n",
              "      <td>['Puzzle']</td>\n",
              "      <td>NaN</td>\n",
              "      <td>2021-10-13</td>\n",
              "      <td>459064_4119423</td>\n",
              "      <td>Boxfox</td>\n",
              "      <td>We met a cute boxfox, they gotta eat too!</td>\n",
              "      <td>ps</td>\n",
              "      <td>jpy</td>\n",
              "      <td>NaN</td>\n",
              "    </tr>\n",
              "    <tr>\n",
              "      <th>1609845</th>\n",
              "      <td>1989320</td>\n",
              "      <td>Astor: Blade of the Monolith</td>\n",
              "      <td>['C2 Game Studio']</td>\n",
              "      <td>['Versus Evil', 'tinyBuild']</td>\n",
              "      <td>['Action', 'Adventure', 'Casual', 'Indie', 'RPG']</td>\n",
              "      <td>['English', 'French', 'German', 'Spanish - Spa...</td>\n",
              "      <td>2024-05-30</td>\n",
              "      <td>1989320_ACH_TEMPLE_PSYCHE</td>\n",
              "      <td>The protector</td>\n",
              "      <td>unknown</td>\n",
              "      <td>st</td>\n",
              "      <td>jpy</td>\n",
              "      <td>2800.00</td>\n",
              "    </tr>\n",
              "  </tbody>\n",
              "</table>\n",
              "</div>"
            ],
            "text/plain": [
              "          gameid                            title               developers  \\\n",
              "692927   2455060                      Taboo Trial            ['Cat Shine']   \n",
              "1554198   822040               Super Volley Blast     ['Unfinished Pixel']   \n",
              "1360762   411085            Swordbreaker The Game  ['DuCats Games Studio']   \n",
              "1346597   459064  Catty & Batty: The Spirit Guide       ['Philipp Lehner']   \n",
              "1609845  1989320     Astor: Blade of the Monolith       ['C2 Game Studio']   \n",
              "\n",
              "                                  publishers  \\\n",
              "692927   [' NPC Entertainment', 'Cat Shine']   \n",
              "1554198                 ['Unfinished Pixel']   \n",
              "1360762              ['DuCats Games Studio']   \n",
              "1346597                    ['Sometimes You']   \n",
              "1609845         ['Versus Evil', 'tinyBuild']   \n",
              "\n",
              "                                                    genres  \\\n",
              "692927             ['Action', 'Adventure', 'Indie', 'RPG']   \n",
              "1554198                      ['Casual', 'Indie', 'Sports']   \n",
              "1360762                                          ['Indie']   \n",
              "1346597                                         ['Puzzle']   \n",
              "1609845  ['Action', 'Adventure', 'Casual', 'Indie', 'RPG']   \n",
              "\n",
              "                                       supported_languages release_date  \\\n",
              "692927   ['English', 'Simplified Chinese', 'Traditional...   2023-07-31   \n",
              "1554198  ['English', 'Spanish - Spain', 'French', 'Ital...   2018-11-01   \n",
              "1360762                                                NaN   2020-09-30   \n",
              "1346597                                                NaN   2021-10-13   \n",
              "1609845  ['English', 'French', 'German', 'Spanish - Spa...   2024-05-30   \n",
              "\n",
              "                     achievementid achievement_title  \\\n",
              "692927               2455060_Skin5           Yalvite   \n",
              "1554198              822040_EzGame           Ez game   \n",
              "1360762             411085_3746178               Rat   \n",
              "1346597             459064_4119423            Boxfox   \n",
              "1609845  1989320_ACH_TEMPLE_PSYCHE     The protector   \n",
              "\n",
              "                              achievement_description platform currency  \\\n",
              "692927            Max out the favorability of Yalvite       st      eur   \n",
              "1554198  Win a game in which opponent scores 0 points       st      jpy   \n",
              "1360762                                  Kill the rat       ps      jpy   \n",
              "1346597     We met a cute boxfox, they gotta eat too!       ps      jpy   \n",
              "1609845                                       unknown       st      jpy   \n",
              "\n",
              "           price  \n",
              "692927     14.79  \n",
              "1554198  1220.00  \n",
              "1360762      NaN  \n",
              "1346597      NaN  \n",
              "1609845  2800.00  "
            ]
          },
          "execution_count": 72,
          "metadata": {},
          "output_type": "execute_result"
        }
      ],
      "source": [
        "tidy_game_info.sample(5)"
      ]
    },
    {
      "cell_type": "markdown",
      "metadata": {},
      "source": [
        "#### Handling Multi-Valued Columns in Our Dataset [Used GPT-4o for tailoring grammar]\n",
        "\n",
        "Our dataset contains multi-valued columns such as `developers`, `publishers`, `genres`, and `supported_languages`, which are stored as **list-like strings**. Instead of immediately expanding them into multiple rows (long format) or separate columns (one-hot encoding), we are **keeping them in their original format** for the following reasons:\n",
        "\n",
        "1. **Data Integrity & Storage Efficiency**  \n",
        "   - Expanding these fields would significantly increase row count, making storage and initial processing heavier.\n",
        "   - Keeping them as lists allows us to preserve all information within a single row per game.\n",
        "\n",
        "2. **Flexibility for Future Analysis**  \n",
        "   - At later stages, we may **apply one-hot encoding** to `genres` and `supported_languages` for categorical analysis.  \n",
        "   - Alternatively, we can derive **summary features** such as:\n",
        "     - **Number of genres per game**\n",
        "     - **Number of supported languages**\n",
        "     - **Unique count of developers/publishers**\n",
        "   - These derived features will allow for a more structured comparison across games.\n",
        "\n",
        "By postponing transformation, we maintain efficiency while keeping the option open for structured feature extraction when needed.\n"
      ]
    },
    {
      "cell_type": "code",
      "execution_count": null,
      "metadata": {},
      "outputs": [],
      "source": [
        "# tidy_game_info_noids = tidy_game_info.drop(columns=['gameid', 'achievementid'], inplace=True)"
      ]
    },
    {
      "cell_type": "markdown",
      "metadata": {},
      "source": [
        "### More notes on further merging\n",
        "\n",
        "Our current **tidy dataset** focuses solely on game-related information. To enrich the analysis, we plan additional merges with player data to uncover insights about game popularity, completion rates, and player demographics.\n",
        "\n",
        "### Planned Merges & Insights\n",
        "1. **Game Popularity Analysis**  \n",
        "   - Merge with `purchased_games.csv` (for each platform) to **count the number of players who own each game**.\n",
        "   - This helps identify **best-selling games** and platform-specific purchase trends.\n",
        "\n",
        "2. **Game Completion Rates**  \n",
        "   - Merge with `history.csv` to **track when players earn end-game achievements**.\n",
        "   - Calculate the **average time to completion** and **percentage of players finishing a game**.\n",
        "   - Investigate if certain **genres have higher completion rates** (e.g., RPGs vs. casual games).\n",
        "  \n",
        "3. **Pricing & Sales Relationship:**  \n",
        "   - Merge `prices.csv` to analyze how **price fluctuations impact purchases**.\n",
        "  \n",
        "4. **Cross-Platform Player Behavior:**  \n",
        "   - Identify players who own **the same game across multiple platforms** to study cross-platform engagement.\n",
        "   - Merge with `players.csv` and **cluster by country** to analyze **regional gaming preferences**.\n"
      ]
    },
    {
      "cell_type": "markdown",
      "metadata": {
        "id": "OclGBxfoQVPc"
      },
      "source": [
        "## Data Visualization\n",
        "> Be sure to include interpretations of your visualizations -- what patterns or anomalies do you see?\n",
        "\n",
        "### Summary\n",
        "- By visualizing differences in **pricing**, **achievement systems**, and **genre classification** for shared games across platforms, we aim to gain a broad understanding of how different platforms approach game distribution. These plots will provide an initial answer to our first research question and offer insights for further exploration."
      ]
    },
    {
      "cell_type": "markdown",
      "metadata": {},
      "source": [
        "### Price Distribution of Shared Games Across Platforms\n",
        "\n",
        "Interpretation: \n",
        "- The majority of shared games are priced between 5 to 25 USD.\n",
        "- Games on Steam are generally priced the lowest, while Xbox games tend to be priced higher compared to the other two platforms."
      ]
    },
    {
      "cell_type": "code",
      "execution_count": null,
      "metadata": {},
      "outputs": [
        {
          "data": {
            "image/png": "[encoded data removed]",
            "text/plain": [
              "<Figure size 1000x600 with 1 Axes>"
            ]
          },
          "metadata": {},
          "output_type": "display_data"
        }
      ],
      "source": [
        "### Boxplot visualizing the distribution of game prices (in USD) across platforms\n",
        "\n",
        "# Convert prices to USD\n",
        "exchange_rates = {\n",
        "    'eur': 1.08, \n",
        "    'gbp': 1.29, \n",
        "    'jpy': 0.0067,\n",
        "    'rub': 0.012, \n",
        "    'usd': 1.0\n",
        "}\n",
        "\n",
        "tidy_game_info['price_usd'] = tidy_game_info.apply(\n",
        "    lambda row: row['price'] * exchange_rates.get(row['currency'].lower(), 1.0), axis=1\n",
        ")\n",
        "\n",
        "# Visualize price distribution across platforms\n",
        "plt.figure(figsize=(10, 6))\n",
        "sns.boxplot(x='platform', y='price_usd', hue='platform', data=tidy_game_info, palette='Set2', legend=False)\n",
        "\n",
        "plt.title(\"Game Prices Across Platforms (in USD)\")\n",
        "plt.xlabel(\"Platform\")\n",
        "plt.ylabel(\"Price (USD)\")\n",
        "plt.tight_layout()\n",
        "plt.show()"
      ]
    },
    {
      "cell_type": "markdown",
      "metadata": {},
      "source": [
        "### Number of Achievements Distribution of Shared Games Across Platforms\n",
        "\n",
        "Interpretation:\n",
        "- The number of achievements per game typically stays below 50, with a few outliers over 100.\n",
        "- Games on PlayStation generally feature more achievements than games on other platforms, while games on Steam have a wider range with outliers reaching over 1000."
      ]
    },
    {
      "cell_type": "code",
      "execution_count": null,
      "metadata": {},
      "outputs": [
        {
          "name": "stdout",
          "output_type": "stream",
          "text": [
            "count    10398.000000\n",
            "mean        41.527890\n",
            "std         61.519762\n",
            "min          0.000000\n",
            "25%         19.000000\n",
            "50%         31.000000\n",
            "75%         50.000000\n",
            "max       4820.000000\n",
            "Name: achievements_per_game, dtype: float64\n"
          ]
        },
        {
          "data": {
            "image/png": "[encoded data removed]",
            "text/plain": [
              "<Figure size 1000x600 with 1 Axes>"
            ]
          },
          "metadata": {},
          "output_type": "display_data"
        }
      ],
      "source": [
        "### Boxplot visualizing the distribution of the number of achievements per game across platform\n",
        "\n",
        "achievements_per_game = tidy_game_info.groupby([\"title\", \"platform\"])[\"achievementid\"].nunique().reset_index()\n",
        "achievements_per_game.rename(columns={\"achievementid\": \"achievements_per_game\"}, inplace=True)\n",
        "\n",
        "print(achievements_per_game['achievements_per_game'].describe())\n",
        "\n",
        "plt.figure(figsize=(10, 6))\n",
        "sns.boxplot(x='platform', y='achievements_per_game', hue='platform', data=achievements_per_game, palette='Set2', legend=False)\n",
        "\n",
        "plt.title(\"Number of Achievements per Game Across Platforms\")\n",
        "plt.xlabel(\"Platform\")\n",
        "plt.ylabel(\"Number of Achievements per Game\")\n",
        "plt.yscale('log')\n",
        "plt.tight_layout()\n",
        "plt.show()"
      ]
    },
    {
      "cell_type": "markdown",
      "metadata": {},
      "source": [
        "### Distribution of Top 10 Popular Genre Tags of Shared Games Across Platforms\n",
        "\n",
        "Interpretation: \n",
        "- The Top 10 most commonly assigned genres for shared games across platforms are Indie, Adventure, Action, RPG, Simulation, Strategy, Platformer, Casual, Turn-Based, and Puzzle.\n",
        "- Steam has the highest frequency of Top 10 genre tags assigned to shared games compared to PlayStation and Xbox, indicating that a larger proportion of games on Steam might be categorized with certain genres."
      ]
    },
    {
      "cell_type": "code",
      "execution_count": null,
      "metadata": {},
      "outputs": [
        {
          "name": "stdout",
          "output_type": "stream",
          "text": [
            "platform          ps         st        xb\n",
            "genres                                   \n",
            "Indie       7.111988  21.286433  5.377374\n",
            "Adventure   7.651840  15.989195  9.944078\n",
            "Action      3.637378  21.155339  7.477222\n",
            "RPG         7.748229   7.982374  7.204869\n",
            "Simulation  3.650442   7.894061  4.251958\n",
            "Strategy    3.224986   6.535450  3.247911\n",
            "Platformer  7.419870   0.000000  4.897708\n",
            "Casual      0.308587   9.025932  0.375719\n",
            "Turn Based  4.603744   0.000000  4.152657\n",
            "Puzzle      4.182173   0.000000  3.135834\n"
          ]
        },
        {
          "data": {
            "text/plain": [
              "<Figure size 1200x800 with 0 Axes>"
            ]
          },
          "metadata": {},
          "output_type": "display_data"
        },
        {
          "data": {
            "image/png": "[encoded data removed]",
            "text/plain": [
              "<Figure size 1200x800 with 1 Axes>"
            ]
          },
          "metadata": {},
          "output_type": "display_data"
        }
      ],
      "source": [
        "### Stacked barplot visualizing the distribution of the top 10 genre tags across different platforms\n",
        "\n",
        "# Clean and explode genres into separate rows\n",
        "tidy_game_info['genres'] = tidy_game_info['genres'].apply(lambda x: x.strip(\"[]\").replace(\"'\", '').split(', ') if isinstance(x, str) else x)\n",
        "tidy_game_info = tidy_game_info.explode('genres')  \n",
        "\n",
        "# Replace 'Role Playing' genre with 'RPG' genre\n",
        "tidy_game_info['genres'] = tidy_game_info['genres'].replace({'Role Playing': 'RPG'})\n",
        "\n",
        "# Normalize genre counts by the total number of games on each platform\n",
        "total_games_per_platform = tidy_game_info['platform'].value_counts()\n",
        "genre_counts_per_platform = tidy_game_info.groupby(['platform', 'genres']).size().reset_index(name='count')\n",
        "genre_counts_per_platform['percentage'] = genre_counts_per_platform.apply(\n",
        "    lambda row: row['count'] / total_games_per_platform[row['platform']] * 100, axis=1\n",
        ")\n",
        "\n",
        "# Select top 10 genres\n",
        "top_10_genres = genre_counts_per_platform.groupby('genres')['percentage'].sum().sort_values(ascending=False).head(10).index\n",
        "top_10_genre_data = genre_counts_per_platform[genre_counts_per_platform['genres'].isin(top_10_genres)]\n",
        "\n",
        "# Pivot the data to prepare for stacking by platform with genres on the x-axis\n",
        "top_10_genre_data_pivot = top_10_genre_data.pivot_table(\n",
        "    index='genres', columns='platform', values='percentage', aggfunc='sum', fill_value=0\n",
        ")\n",
        "top_10_genre_data_pivot = top_10_genre_data_pivot.loc[top_10_genres]\n",
        "print(top_10_genre_data_pivot)\n",
        "\n",
        "\n",
        "plt.figure(figsize=(12, 8))\n",
        "top_10_genre_data_pivot.plot(kind='bar', stacked=True, figsize=(12, 8))\n",
        "\n",
        "plt.title('Top 10 Genre Tag Distribution Across Platforms (Normalized by Total Games)')\n",
        "plt.xlabel('Genre Tags')\n",
        "plt.ylabel('Percentage of Total Games')\n",
        "plt.xticks(rotation=45)\n",
        "plt.tight_layout()\n",
        "plt.show()"
      ]
    },
    {
      "cell_type": "markdown",
      "metadata": {},
      "source": [
        "# SI 618 WN Project Part II"
      ]
    },
    {
      "cell_type": "markdown",
      "metadata": {},
      "source": [
        "## **[TODO]** Descriptive Statistics\n",
        "> Provide a comprehensive summary of your combined dataset using descriptive statistics. This should include means, medians, modes, ranges, variance, and standard deviations for the relevant features of your data.  The descriptive statistics should inform your guiding questions that you developed in Part I of the project, rather than merely providing an overview of your data.  Interpret these results to draw preliminary conclusions about the data.\n"
      ]
    },
    {
      "cell_type": "markdown",
      "metadata": {},
      "source": [
        "## Inferential statistics\n",
        "Conduct appropriate _hypothesis tests_ to investigate if there are significant differences or correlations within your data.  This might involve regression analysis, ANOVA, and/or chi-squared tests.\n",
        "Clearly state your null and alternative hypotheses, choose an appropriate significance level, and discuss your findings. Make sure to justify the choice of your tests."
      ]
    },
    {
      "cell_type": "code",
      "execution_count": null,
      "metadata": {},
      "outputs": [
        {
          "name": "stdout",
          "output_type": "stream",
          "text": [
            "gameid: 14839/3913375 unique values\n",
            "title: 3466/3913375 unique values\n",
            "developers: 3427/3913375 unique values\n",
            "publishers: 2430/3913375 unique values\n",
            "genres: 112/3913375 unique values\n",
            "supported_languages: 3071/3913375 unique values\n",
            "release_date: 2570/3913375 unique values\n",
            "achievementid: 431807/3913375 unique values\n",
            "achievement_title: 114017/3913375 unique values\n",
            "achievement_description: 153785/3913375 unique values\n",
            "platform: 3/3913375 unique values\n",
            "currency: 5/3913375 unique values\n",
            "price: 1580/3913375 unique values\n",
            "price_usd: 2062/3913375 unique values\n"
          ]
        }
      ],
      "source": [
        "for col in tidy_game_info.columns:\n",
        "    unique_values = tidy_game_info[col].nunique()\n",
        "    total_rows = len(tidy_game_info)\n",
        "    \n",
        "    print(f\"{col}: {unique_values}/{total_rows} unique values\")\n",
        "    \n",
        "    if unique_values == total_rows:\n",
        "        print(f\"{col} is a unique identifier\\n\")"
      ]
    },
    {
      "cell_type": "code",
      "execution_count": null,
      "metadata": {},
      "outputs": [
        {
          "name": "stdout",
          "output_type": "stream",
          "text": [
            "<class 'pandas.core.frame.DataFrame'>\n",
            "Index: 3913375 entries, 0 to 2159924\n",
            "Data columns (total 14 columns):\n",
            " #   Column                   Dtype  \n",
            "---  ------                   -----  \n",
            " 0   gameid                   int64  \n",
            " 1   title                    object \n",
            " 2   developers               object \n",
            " 3   publishers               object \n",
            " 4   genres                   object \n",
            " 5   supported_languages      object \n",
            " 6   release_date             object \n",
            " 7   achievementid            object \n",
            " 8   achievement_title        object \n",
            " 9   achievement_description  object \n",
            " 10  platform                 object \n",
            " 11  currency                 object \n",
            " 12  price                    float64\n",
            " 13  price_usd                float64\n",
            "dtypes: float64(2), int64(1), object(11)\n",
            "memory usage: 447.9+ MB\n"
          ]
        }
      ],
      "source": [
        "tidy_game_info.info()"
      ]
    },
    {
      "cell_type": "code",
      "execution_count": null,
      "metadata": {},
      "outputs": [
        {
          "name": "stdout",
          "output_type": "stream",
          "text": [
            "<class 'pandas.core.frame.DataFrame'>\n",
            "RangeIndex: 19861683 entries, 0 to 19861682\n",
            "Data columns (total 10 columns):\n",
            " #   Column         Dtype  \n",
            "---  ------         -----  \n",
            " 0   playerid       int64  \n",
            " 1   nickname       object \n",
            " 2   country        object \n",
            " 3   achievementid  object \n",
            " 4   date_acquired  object \n",
            " 5   gameid         float64\n",
            " 6   title          object \n",
            " 7   description    object \n",
            " 8   rarity         object \n",
            " 9   library        object \n",
            "dtypes: float64(1), int64(1), object(8)\n",
            "memory usage: 1.5+ GB\n"
          ]
        }
      ],
      "source": [
        "ps_player_info.info()"
      ]
    },
    {
      "cell_type": "code",
      "execution_count": null,
      "metadata": {},
      "outputs": [
        {
          "name": "stdout",
          "output_type": "stream",
          "text": [
            "<class 'pandas.core.frame.DataFrame'>\n",
            "RangeIndex: 11113724 entries, 0 to 11113723\n",
            "Data columns (total 9 columns):\n",
            " #   Column         Dtype  \n",
            "---  ------         -----  \n",
            " 0   playerid       int64  \n",
            " 1   country        object \n",
            " 2   created        object \n",
            " 3   achievementid  object \n",
            " 4   date_acquired  object \n",
            " 5   gameid         float64\n",
            " 6   title          object \n",
            " 7   description    object \n",
            " 8   library        object \n",
            "dtypes: float64(1), int64(1), object(7)\n",
            "memory usage: 763.1+ MB\n"
          ]
        }
      ],
      "source": [
        "st_player_info.info()"
      ]
    },
    {
      "cell_type": "code",
      "execution_count": null,
      "metadata": {},
      "outputs": [
        {
          "name": "stdout",
          "output_type": "stream",
          "text": [
            "<class 'pandas.core.frame.DataFrame'>\n",
            "RangeIndex: 15545366 entries, 0 to 15545365\n",
            "Data columns (total 9 columns):\n",
            " #   Column         Dtype  \n",
            "---  ------         -----  \n",
            " 0   playerid       int64  \n",
            " 1   nickname       object \n",
            " 2   achievementid  object \n",
            " 3   date_acquired  object \n",
            " 4   gameid         float64\n",
            " 5   title          object \n",
            " 6   description    object \n",
            " 7   points         float64\n",
            " 8   library        object \n",
            "dtypes: float64(2), int64(1), object(6)\n",
            "memory usage: 1.0+ GB\n"
          ]
        }
      ],
      "source": [
        "xb_player_info.info()"
      ]
    },
    {
      "cell_type": "markdown",
      "metadata": {},
      "source": [
        "### 1. Are games with more achievements associated with price?\n",
        "Since we are only testing whether a relationship between number of achievements and price in USD exists, **Pearson’s correlation** is appropriate.\n",
        "Here are the justifications:\n",
        "- Both variables are continuous (necessary for Pearson’s correlation).\n",
        "- We wanted to test for linear associations rather than predictive modeling (which would require regression).\n",
        "- Significance level evaluation (p-value) helps determine if observed correlations are likely due to chance.\n",
        "\n",
        "#### Null Hypothesis (H0)\n",
        "There is no significant correlation between the number of achievements and game price.\n",
        "\n",
        "#### Alternative Hypothesis (H1)\n",
        "There is a significant correlation between the number of achievements and game price.\n"
      ]
    },
    {
      "cell_type": "code",
      "execution_count": null,
      "metadata": {},
      "outputs": [],
      "source": [
        "import statsmodels.api as sm\n",
        "\n",
        "achievement_counts = tidy_game_info.groupby(['gameid', 'platform'])['achievementid'].count().reset_index()\n",
        "achievement_counts.rename(columns={'achievementid': 'num_achievements'}, inplace=True)\n",
        "\n",
        "game_price_data = tidy_game_info[['gameid', 'platform', 'price_usd']].drop_duplicates()\n",
        "df_p_a = pd.merge(achievement_counts, game_price_data, on=['gameid', 'platform'])"
      ]
    },
    {
      "cell_type": "code",
      "execution_count": null,
      "metadata": {},
      "outputs": [
        {
          "data": {
            "application/vnd.microsoft.datawrangler.viewer.v0+json": {
              "columns": [
                {
                  "name": "index",
                  "rawType": "int64",
                  "type": "integer"
                },
                {
                  "name": "gameid",
                  "rawType": "int64",
                  "type": "integer"
                },
                {
                  "name": "platform",
                  "rawType": "object",
                  "type": "string"
                },
                {
                  "name": "num_achievements",
                  "rawType": "int64",
                  "type": "integer"
                }
              ],
              "conversionMethod": "pd.DataFrame",
              "ref": "4487d82f-6a0b-423a-a990-41b590f825f3",
              "rows": [
                [
                  "0",
                  "51",
                  "ps",
                  "255"
                ],
                [
                  "1",
                  "55",
                  "ps",
                  "455"
                ],
                [
                  "2",
                  "67",
                  "ps",
                  "245"
                ],
                [
                  "3",
                  "81",
                  "ps",
                  "60"
                ],
                [
                  "4",
                  "84",
                  "ps",
                  "60"
                ],
                [
                  "5",
                  "101",
                  "ps",
                  "75"
                ],
                [
                  "6",
                  "105",
                  "ps",
                  "250"
                ],
                [
                  "7",
                  "114",
                  "ps",
                  "330"
                ],
                [
                  "8",
                  "120",
                  "ps",
                  "230"
                ],
                [
                  "9",
                  "136",
                  "ps",
                  "145"
                ],
                [
                  "10",
                  "148",
                  "ps",
                  "295"
                ],
                [
                  "11",
                  "157",
                  "ps",
                  "380"
                ],
                [
                  "12",
                  "159",
                  "ps",
                  "255"
                ],
                [
                  "13",
                  "160",
                  "ps",
                  "60"
                ],
                [
                  "14",
                  "164",
                  "ps",
                  "255"
                ],
                [
                  "15",
                  "171",
                  "ps",
                  "250"
                ],
                [
                  "16",
                  "282",
                  "ps",
                  "60"
                ],
                [
                  "17",
                  "298",
                  "ps",
                  "155"
                ],
                [
                  "18",
                  "310",
                  "ps",
                  "60"
                ],
                [
                  "19",
                  "314",
                  "ps",
                  "175"
                ],
                [
                  "20",
                  "343",
                  "ps",
                  "190"
                ],
                [
                  "21",
                  "366",
                  "ps",
                  "60"
                ],
                [
                  "22",
                  "368",
                  "ps",
                  "60"
                ],
                [
                  "23",
                  "369",
                  "ps",
                  "60"
                ],
                [
                  "24",
                  "373",
                  "ps",
                  "255"
                ],
                [
                  "25",
                  "386",
                  "ps",
                  "60"
                ],
                [
                  "26",
                  "409",
                  "ps",
                  "60"
                ],
                [
                  "27",
                  "414",
                  "ps",
                  "105"
                ],
                [
                  "28",
                  "466",
                  "ps",
                  "130"
                ],
                [
                  "29",
                  "473",
                  "ps",
                  "240"
                ],
                [
                  "30",
                  "475",
                  "ps",
                  "65"
                ],
                [
                  "31",
                  "494",
                  "ps",
                  "295"
                ],
                [
                  "32",
                  "497",
                  "ps",
                  "420"
                ],
                [
                  "33",
                  "507",
                  "ps",
                  "210"
                ],
                [
                  "34",
                  "520",
                  "ps",
                  "60"
                ],
                [
                  "35",
                  "527",
                  "ps",
                  "500"
                ],
                [
                  "36",
                  "530",
                  "ps",
                  "60"
                ],
                [
                  "37",
                  "533",
                  "ps",
                  "60"
                ],
                [
                  "38",
                  "536",
                  "ps",
                  "140"
                ],
                [
                  "39",
                  "544",
                  "ps",
                  "40"
                ],
                [
                  "40",
                  "556",
                  "ps",
                  "65"
                ],
                [
                  "41",
                  "581",
                  "ps",
                  "305"
                ],
                [
                  "42",
                  "585",
                  "ps",
                  "115"
                ],
                [
                  "43",
                  "593",
                  "ps",
                  "60"
                ],
                [
                  "44",
                  "598",
                  "ps",
                  "315"
                ],
                [
                  "45",
                  "600",
                  "ps",
                  "255"
                ],
                [
                  "46",
                  "601",
                  "ps",
                  "275"
                ],
                [
                  "47",
                  "605",
                  "ps",
                  "255"
                ],
                [
                  "48",
                  "609",
                  "ps",
                  "60"
                ],
                [
                  "49",
                  "614",
                  "ps",
                  "125"
                ]
              ],
              "shape": {
                "columns": 3,
                "rows": 14852
              }
            },
            "text/html": [
              "<div>\n",
              "<style scoped>\n",
              "    .dataframe tbody tr th:only-of-type {\n",
              "        vertical-align: middle;\n",
              "    }\n",
              "\n",
              "    .dataframe tbody tr th {\n",
              "        vertical-align: top;\n",
              "    }\n",
              "\n",
              "    .dataframe thead th {\n",
              "        text-align: right;\n",
              "    }\n",
              "</style>\n",
              "<table border=\"1\" class=\"dataframe\">\n",
              "  <thead>\n",
              "    <tr style=\"text-align: right;\">\n",
              "      <th></th>\n",
              "      <th>gameid</th>\n",
              "      <th>platform</th>\n",
              "      <th>num_achievements</th>\n",
              "    </tr>\n",
              "  </thead>\n",
              "  <tbody>\n",
              "    <tr>\n",
              "      <th>0</th>\n",
              "      <td>51</td>\n",
              "      <td>ps</td>\n",
              "      <td>255</td>\n",
              "    </tr>\n",
              "    <tr>\n",
              "      <th>1</th>\n",
              "      <td>55</td>\n",
              "      <td>ps</td>\n",
              "      <td>455</td>\n",
              "    </tr>\n",
              "    <tr>\n",
              "      <th>2</th>\n",
              "      <td>67</td>\n",
              "      <td>ps</td>\n",
              "      <td>245</td>\n",
              "    </tr>\n",
              "    <tr>\n",
              "      <th>3</th>\n",
              "      <td>81</td>\n",
              "      <td>ps</td>\n",
              "      <td>60</td>\n",
              "    </tr>\n",
              "    <tr>\n",
              "      <th>4</th>\n",
              "      <td>84</td>\n",
              "      <td>ps</td>\n",
              "      <td>60</td>\n",
              "    </tr>\n",
              "    <tr>\n",
              "      <th>...</th>\n",
              "      <td>...</td>\n",
              "      <td>...</td>\n",
              "      <td>...</td>\n",
              "    </tr>\n",
              "    <tr>\n",
              "      <th>14847</th>\n",
              "      <td>3135560</td>\n",
              "      <td>st</td>\n",
              "      <td>0</td>\n",
              "    </tr>\n",
              "    <tr>\n",
              "      <th>14848</th>\n",
              "      <td>3143880</td>\n",
              "      <td>st</td>\n",
              "      <td>1005</td>\n",
              "    </tr>\n",
              "    <tr>\n",
              "      <th>14849</th>\n",
              "      <td>3165620</td>\n",
              "      <td>st</td>\n",
              "      <td>555</td>\n",
              "    </tr>\n",
              "    <tr>\n",
              "      <th>14850</th>\n",
              "      <td>3221740</td>\n",
              "      <td>st</td>\n",
              "      <td>210</td>\n",
              "    </tr>\n",
              "    <tr>\n",
              "      <th>14851</th>\n",
              "      <td>3239860</td>\n",
              "      <td>st</td>\n",
              "      <td>0</td>\n",
              "    </tr>\n",
              "  </tbody>\n",
              "</table>\n",
              "<p>14852 rows × 3 columns</p>\n",
              "</div>"
            ],
            "text/plain": [
              "        gameid platform  num_achievements\n",
              "0           51       ps               255\n",
              "1           55       ps               455\n",
              "2           67       ps               245\n",
              "3           81       ps                60\n",
              "4           84       ps                60\n",
              "...        ...      ...               ...\n",
              "14847  3135560       st                 0\n",
              "14848  3143880       st              1005\n",
              "14849  3165620       st               555\n",
              "14850  3221740       st               210\n",
              "14851  3239860       st                 0\n",
              "\n",
              "[14852 rows x 3 columns]"
            ]
          },
          "execution_count": 83,
          "metadata": {},
          "output_type": "execute_result"
        }
      ],
      "source": [
        "achievement_counts"
      ]
    },
    {
      "cell_type": "code",
      "execution_count": null,
      "metadata": {},
      "outputs": [
        {
          "data": {
            "text/plain": [
              "np.int64(0)"
            ]
          },
          "execution_count": 84,
          "metadata": {},
          "output_type": "execute_result"
        }
      ],
      "source": [
        "tidy_game_info[tidy_game_info['gameid']==51].duplicated().sum()"
      ]
    },
    {
      "cell_type": "code",
      "execution_count": null,
      "metadata": {},
      "outputs": [],
      "source": [
        "df_p_a.dropna(subset=['price_usd', 'num_achievements'], inplace=True)"
      ]
    },
    {
      "cell_type": "code",
      "execution_count": null,
      "metadata": {},
      "outputs": [
        {
          "data": {
            "application/vnd.microsoft.datawrangler.viewer.v0+json": {
              "columns": [
                {
                  "name": "index",
                  "rawType": "int64",
                  "type": "integer"
                },
                {
                  "name": "Platform",
                  "rawType": "object",
                  "type": "string"
                },
                {
                  "name": "Correlation (r)",
                  "rawType": "float64",
                  "type": "float"
                },
                {
                  "name": "p-value",
                  "rawType": "float64",
                  "type": "float"
                }
              ],
              "conversionMethod": "pd.DataFrame",
              "ref": "43696e4e-f517-4527-ae4f-76a3c657a200",
              "rows": [
                [
                  "0",
                  "ps",
                  "0.42842594526822775",
                  "0.0"
                ],
                [
                  "1",
                  "xb",
                  "0.38270402666663916",
                  "0.0"
                ],
                [
                  "2",
                  "st",
                  "0.11551153436655025",
                  "1.6092542350929085e-49"
                ]
              ],
              "shape": {
                "columns": 3,
                "rows": 3
              }
            },
            "text/html": [
              "<div>\n",
              "<style scoped>\n",
              "    .dataframe tbody tr th:only-of-type {\n",
              "        vertical-align: middle;\n",
              "    }\n",
              "\n",
              "    .dataframe tbody tr th {\n",
              "        vertical-align: top;\n",
              "    }\n",
              "\n",
              "    .dataframe thead th {\n",
              "        text-align: right;\n",
              "    }\n",
              "</style>\n",
              "<table border=\"1\" class=\"dataframe\">\n",
              "  <thead>\n",
              "    <tr style=\"text-align: right;\">\n",
              "      <th></th>\n",
              "      <th>Platform</th>\n",
              "      <th>Correlation (r)</th>\n",
              "      <th>p-value</th>\n",
              "    </tr>\n",
              "  </thead>\n",
              "  <tbody>\n",
              "    <tr>\n",
              "      <th>0</th>\n",
              "      <td>ps</td>\n",
              "      <td>0.428426</td>\n",
              "      <td>0.000000e+00</td>\n",
              "    </tr>\n",
              "    <tr>\n",
              "      <th>1</th>\n",
              "      <td>xb</td>\n",
              "      <td>0.382704</td>\n",
              "      <td>0.000000e+00</td>\n",
              "    </tr>\n",
              "    <tr>\n",
              "      <th>2</th>\n",
              "      <td>st</td>\n",
              "      <td>0.115512</td>\n",
              "      <td>1.609254e-49</td>\n",
              "    </tr>\n",
              "  </tbody>\n",
              "</table>\n",
              "</div>"
            ],
            "text/plain": [
              "  Platform  Correlation (r)       p-value\n",
              "0       ps         0.428426  0.000000e+00\n",
              "1       xb         0.382704  0.000000e+00\n",
              "2       st         0.115512  1.609254e-49"
            ]
          },
          "execution_count": 86,
          "metadata": {},
          "output_type": "execute_result"
        }
      ],
      "source": [
        "from scipy.stats import pearsonr\n",
        "\n",
        "def compute_pearson(df, platform):\n",
        "    subset = df[df['platform'] == platform].dropna(subset=['num_achievements', 'price_usd'])\n",
        "    \n",
        "    r, p_value = pearsonr(subset['num_achievements'], subset['price_usd'])\n",
        "    return platform, r, p_value\n",
        "\n",
        "platforms = df_p_a['platform'].unique()\n",
        "results = [compute_pearson(df_p_a, platform) for platform in platforms]\n",
        "\n",
        "pearson_results = pd.DataFrame(results, columns=['Platform', 'Correlation (r)', 'p-value'])\n",
        "pearson_results"
      ]
    },
    {
      "cell_type": "code",
      "execution_count": null,
      "metadata": {},
      "outputs": [
        {
          "name": "stdout",
          "output_type": "stream",
          "text": [
            "On ps platform, there is a moderate correlation (positive (more achievements is associated with higher price)), and the result is highly significant (p < 0.01) (r = 0.43, p = 0.000).\n",
            "\n",
            "On xb platform, there is a weak correlation (positive (more achievements is associated with higher price)), and the result is highly significant (p < 0.01) (r = 0.38, p = 0.000).\n",
            "\n",
            "On st platform, there is no meaningful correlation (positive (more achievements is associated with higher price)), and the result is highly significant (p < 0.01) (r = 0.12, p = 0.000).\n",
            "\n"
          ]
        }
      ],
      "source": [
        "def interpret_pearson_results(df):\n",
        "\n",
        "    interpretations = []\n",
        "    \n",
        "    for _, row in df.iterrows():\n",
        "        platform = row[\"Platform\"]\n",
        "        r = row[\"Correlation (r)\"]\n",
        "        p = row[\"p-value\"]\n",
        "        \n",
        "        # alpha: significance level\n",
        "        if p < 0.01:\n",
        "            significance = \"highly significant (p < 0.01)\"\n",
        "        elif p < 0.05:\n",
        "            significance = \"significant (p < 0.05)\"\n",
        "        else:\n",
        "            significance = \"not significant (p >= 0.05)\"\n",
        "        \n",
        "        # r: strength and direction of correlation\n",
        "        r_abs = abs(r)\n",
        "        if r_abs >= 0.7:\n",
        "            strength = \"a strong correlation\"\n",
        "        elif r_abs >= 0.4:\n",
        "            strength = \"a moderate correlation\"\n",
        "        elif r_abs >= 0.2:\n",
        "            strength = \"a weak correlation\"\n",
        "        else:\n",
        "            strength = \"no meaningful correlation\"\n",
        "\n",
        "        if r > 0:\n",
        "            direction = \"positive (more achievements is associated with higher price)\"\n",
        "        elif r < 0:\n",
        "            direction = \"negative (more achievements is associated with lower price)\"\n",
        "        else:\n",
        "            direction = \"no correlation at all\"\n",
        "\n",
        "        interpretation = f\"On {platform} platform, there is {strength} ({direction}), and the result is {significance} (r = {r:.2f}, p = {p:.3f}).\\n\"\n",
        "        interpretations.append(interpretation)\n",
        "    \n",
        "    return \"\\n\".join(interpretations)\n",
        "\n",
        "interpretation_text = interpret_pearson_results(pearson_results)\n",
        "print(interpretation_text)"
      ]
    },
    {
      "cell_type": "markdown",
      "metadata": {},
      "source": [
        "#### Interpretation\n",
        "- PlayStation Platform: Moderate positive correlation (r = 0.43), highly significant (p < 0.01) → Reject H_0  → More achievements are moderately associated with higher price.\n",
        "- Xbox Platform: Weak positive correlation (r = 0.38), highly significant (p < 0.01) → Reject H_0  → More achievements are weakly associated with higher price.\n",
        "- Steam Platform: No meaningful correlation (r = 0.12), highly significant (p < 0.01) → Reject H_0  → Although significant, the correlation is too weak to suggest a strong association.\n",
        "\n",
        "On PlayStation and Xbox, a higher number of achievements tends to be associated with higher prices, though the relationship is stronger on PS. On Steam, while significant, the association is too weak to be practically meaningful."
      ]
    },
    {
      "cell_type": "markdown",
      "metadata": {},
      "source": [
        "### 2. PlayStation and Steam: Do players from different countries tend to complete achievements faster?\n",
        "#### Test used: One-Way ANOVA\n",
        "* y: achievement completion time (time_to_achievement = date_acquired - release_date).\n",
        "* X: country (in merged_player_info).\n",
        "* Condition: ANOVA assumes normally distributed residuals and equal variances. If these assumptions don’t hold, we may use a Kruskal-Wallis test (non-parametric alternative).\n",
        "\n",
        "#### Null Hypothesis (H0)\n",
        "There is no significant difference in achievement completion time among players from different countries.\n",
        "\n",
        "#### Alternative Hypothesis (HA)\n",
        "At least one country's players complete achievements at a significantly different speed compared to others."
      ]
    },
    {
      "cell_type": "markdown",
      "metadata": {},
      "source": [
        "#### Necessary merging for player-focus info"
      ]
    },
    {
      "cell_type": "code",
      "execution_count": null,
      "metadata": {},
      "outputs": [],
      "source": [
        "# standardizing data\n",
        "ps_player_info[\"player_platform\"] = \"ps\"\n",
        "ps_player_info.rename(columns={\"title\": \"achievement_title\"}, inplace=True)\n",
        "ps_player_info.drop(columns=[\"rarity\", \"nickname\", \"library\"], inplace=True)"
      ]
    },
    {
      "cell_type": "code",
      "execution_count": null,
      "metadata": {},
      "outputs": [
        {
          "data": {
            "application/vnd.microsoft.datawrangler.viewer.v0+json": {
              "columns": [
                {
                  "name": "index",
                  "rawType": "int64",
                  "type": "integer"
                },
                {
                  "name": "playerid",
                  "rawType": "int64",
                  "type": "integer"
                },
                {
                  "name": "country",
                  "rawType": "object",
                  "type": "string"
                },
                {
                  "name": "achievementid",
                  "rawType": "object",
                  "type": "string"
                },
                {
                  "name": "date_acquired",
                  "rawType": "object",
                  "type": "string"
                },
                {
                  "name": "gameid",
                  "rawType": "float64",
                  "type": "float"
                },
                {
                  "name": "achievement_title",
                  "rawType": "object",
                  "type": "string"
                },
                {
                  "name": "description",
                  "rawType": "object",
                  "type": "string"
                },
                {
                  "name": "player_platform",
                  "rawType": "object",
                  "type": "string"
                }
              ],
              "conversionMethod": "pd.DataFrame",
              "ref": "6e01f1b2-7a0a-4362-9a0d-b4ce17e927e7",
              "rows": [
                [
                  "1271036",
                  "2048238",
                  "Germany",
                  "183285_3029592",
                  "2021-05-11 00:37:21",
                  "183285.0",
                  "Go Ahead, Make My Day",
                  "Destroy 30 Hunters.",
                  "ps"
                ],
                [
                  "3689254",
                  "327673",
                  "United Kingdom",
                  "4945_61244",
                  "2013-08-28 02:19:10",
                  "4945.0",
                  "The Pool Is Open",
                  "【CAMPAIGN】Swim in the Solarium.",
                  "ps"
                ],
                [
                  "13568416",
                  "1288620",
                  "Italy",
                  "420032_3810002",
                  "2020-12-02 20:12:48",
                  "420032.0",
                  "Three Sir!",
                  "Kill a worm with the Holy Hand Grenade",
                  "ps"
                ],
                [
                  "8777296",
                  "2533948",
                  "Indonesia",
                  "610012_5030999",
                  "2023-08-01 02:15:16",
                  "610012.0",
                  "The Coin Boss",
                  "You have collected 20 coins",
                  "ps"
                ],
                [
                  "8810170",
                  "2533948",
                  "Indonesia",
                  "451414_4058042",
                  "2022-02-02 17:59:30",
                  "451414.0",
                  "The Wall",
                  "Strange metallic buildings appear",
                  "ps"
                ]
              ],
              "shape": {
                "columns": 8,
                "rows": 5
              }
            },
            "text/html": [
              "<div>\n",
              "<style scoped>\n",
              "    .dataframe tbody tr th:only-of-type {\n",
              "        vertical-align: middle;\n",
              "    }\n",
              "\n",
              "    .dataframe tbody tr th {\n",
              "        vertical-align: top;\n",
              "    }\n",
              "\n",
              "    .dataframe thead th {\n",
              "        text-align: right;\n",
              "    }\n",
              "</style>\n",
              "<table border=\"1\" class=\"dataframe\">\n",
              "  <thead>\n",
              "    <tr style=\"text-align: right;\">\n",
              "      <th></th>\n",
              "      <th>playerid</th>\n",
              "      <th>country</th>\n",
              "      <th>achievementid</th>\n",
              "      <th>date_acquired</th>\n",
              "      <th>gameid</th>\n",
              "      <th>achievement_title</th>\n",
              "      <th>description</th>\n",
              "      <th>player_platform</th>\n",
              "    </tr>\n",
              "  </thead>\n",
              "  <tbody>\n",
              "    <tr>\n",
              "      <th>1271036</th>\n",
              "      <td>2048238</td>\n",
              "      <td>Germany</td>\n",
              "      <td>183285_3029592</td>\n",
              "      <td>2021-05-11 00:37:21</td>\n",
              "      <td>183285.0</td>\n",
              "      <td>Go Ahead, Make My Day</td>\n",
              "      <td>Destroy 30 Hunters.</td>\n",
              "      <td>ps</td>\n",
              "    </tr>\n",
              "    <tr>\n",
              "      <th>3689254</th>\n",
              "      <td>327673</td>\n",
              "      <td>United Kingdom</td>\n",
              "      <td>4945_61244</td>\n",
              "      <td>2013-08-28 02:19:10</td>\n",
              "      <td>4945.0</td>\n",
              "      <td>The Pool Is Open</td>\n",
              "      <td>【CAMPAIGN】Swim in the Solarium.</td>\n",
              "      <td>ps</td>\n",
              "    </tr>\n",
              "    <tr>\n",
              "      <th>13568416</th>\n",
              "      <td>1288620</td>\n",
              "      <td>Italy</td>\n",
              "      <td>420032_3810002</td>\n",
              "      <td>2020-12-02 20:12:48</td>\n",
              "      <td>420032.0</td>\n",
              "      <td>Three Sir!</td>\n",
              "      <td>Kill a worm with the Holy Hand Grenade</td>\n",
              "      <td>ps</td>\n",
              "    </tr>\n",
              "    <tr>\n",
              "      <th>8777296</th>\n",
              "      <td>2533948</td>\n",
              "      <td>Indonesia</td>\n",
              "      <td>610012_5030999</td>\n",
              "      <td>2023-08-01 02:15:16</td>\n",
              "      <td>610012.0</td>\n",
              "      <td>The Coin Boss</td>\n",
              "      <td>You have collected 20 coins</td>\n",
              "      <td>ps</td>\n",
              "    </tr>\n",
              "    <tr>\n",
              "      <th>8810170</th>\n",
              "      <td>2533948</td>\n",
              "      <td>Indonesia</td>\n",
              "      <td>451414_4058042</td>\n",
              "      <td>2022-02-02 17:59:30</td>\n",
              "      <td>451414.0</td>\n",
              "      <td>The Wall</td>\n",
              "      <td>Strange metallic buildings appear</td>\n",
              "      <td>ps</td>\n",
              "    </tr>\n",
              "  </tbody>\n",
              "</table>\n",
              "</div>"
            ],
            "text/plain": [
              "          playerid         country   achievementid        date_acquired  \\\n",
              "1271036    2048238         Germany  183285_3029592  2021-05-11 00:37:21   \n",
              "3689254     327673  United Kingdom      4945_61244  2013-08-28 02:19:10   \n",
              "13568416   1288620           Italy  420032_3810002  2020-12-02 20:12:48   \n",
              "8777296    2533948       Indonesia  610012_5030999  2023-08-01 02:15:16   \n",
              "8810170    2533948       Indonesia  451414_4058042  2022-02-02 17:59:30   \n",
              "\n",
              "            gameid      achievement_title  \\\n",
              "1271036   183285.0  Go Ahead, Make My Day   \n",
              "3689254     4945.0       The Pool Is Open   \n",
              "13568416  420032.0             Three Sir!   \n",
              "8777296   610012.0          The Coin Boss   \n",
              "8810170   451414.0               The Wall   \n",
              "\n",
              "                                     description player_platform  \n",
              "1271036                      Destroy 30 Hunters.              ps  \n",
              "3689254          【CAMPAIGN】Swim in the Solarium.              ps  \n",
              "13568416  Kill a worm with the Holy Hand Grenade              ps  \n",
              "8777296              You have collected 20 coins              ps  \n",
              "8810170        Strange metallic buildings appear              ps  "
            ]
          },
          "execution_count": 89,
          "metadata": {},
          "output_type": "execute_result"
        }
      ],
      "source": [
        "ps_player_info.sample(5)"
      ]
    },
    {
      "cell_type": "code",
      "execution_count": null,
      "metadata": {},
      "outputs": [],
      "source": [
        "st_player_info[\"player_platform\"] = \"st\"\n",
        "st_player_info.rename(columns={\"title\": \"achievement_title\"}, inplace=True)\n",
        "st_player_info.drop(columns=[\"created\", \"library\"], inplace=True)"
      ]
    },
    {
      "cell_type": "code",
      "execution_count": null,
      "metadata": {},
      "outputs": [
        {
          "data": {
            "application/vnd.microsoft.datawrangler.viewer.v0+json": {
              "columns": [
                {
                  "name": "index",
                  "rawType": "int64",
                  "type": "integer"
                },
                {
                  "name": "playerid",
                  "rawType": "int64",
                  "type": "integer"
                },
                {
                  "name": "country",
                  "rawType": "object",
                  "type": "unknown"
                },
                {
                  "name": "achievementid",
                  "rawType": "object",
                  "type": "string"
                },
                {
                  "name": "date_acquired",
                  "rawType": "object",
                  "type": "string"
                },
                {
                  "name": "gameid",
                  "rawType": "float64",
                  "type": "float"
                },
                {
                  "name": "achievement_title",
                  "rawType": "object",
                  "type": "string"
                },
                {
                  "name": "description",
                  "rawType": "object",
                  "type": "string"
                },
                {
                  "name": "player_platform",
                  "rawType": "object",
                  "type": "string"
                }
              ],
              "conversionMethod": "pd.DataFrame",
              "ref": "bbd34612-0275-49d7-b94b-3ce8a0d34105",
              "rows": [
                [
                  "7362839",
                  "76561198035723539",
                  null,
                  "2073850_FTUE02",
                  "2023-12-19 04:11:44",
                  "2073850.0",
                  "Initial Deposit",
                  "Insert a cash box into a cashout station",
                  "st"
                ],
                [
                  "5436946",
                  "76561198060749169",
                  "Thailand",
                  "289070_NEW_ACHIEVEMENT_4_23",
                  "2019-02-14 21:46:45",
                  "289070.0",
                  "New Orleans Style Spanish Rice",
                  "Become Suzerain of a City-State",
                  "st"
                ],
                [
                  "5246627",
                  "76561198283989170",
                  "Türkiye",
                  "645090_1802",
                  "2017-11-01 16:35:24",
                  "645090.0",
                  "⚓",
                  "Open level ⚓",
                  "st"
                ],
                [
                  "10199747",
                  "76561199524873126",
                  "Japan",
                  "851710_NEW_ACHIEVEMENT_183_16",
                  "2024-01-12 06:04:50",
                  "851710.0",
                  "Super Trivia Champion",
                  "Super Trivia Champion",
                  "st"
                ],
                [
                  "8378017",
                  "76561198025249714",
                  null,
                  "243780_E_TROPHY_MONSTER_SMASHER",
                  "2014-02-16 20:10:29",
                  "243780.0",
                  "Monster Smasher",
                  "Defeat 2,000 enemies",
                  "st"
                ]
              ],
              "shape": {
                "columns": 8,
                "rows": 5
              }
            },
            "text/html": [
              "<div>\n",
              "<style scoped>\n",
              "    .dataframe tbody tr th:only-of-type {\n",
              "        vertical-align: middle;\n",
              "    }\n",
              "\n",
              "    .dataframe tbody tr th {\n",
              "        vertical-align: top;\n",
              "    }\n",
              "\n",
              "    .dataframe thead th {\n",
              "        text-align: right;\n",
              "    }\n",
              "</style>\n",
              "<table border=\"1\" class=\"dataframe\">\n",
              "  <thead>\n",
              "    <tr style=\"text-align: right;\">\n",
              "      <th></th>\n",
              "      <th>playerid</th>\n",
              "      <th>country</th>\n",
              "      <th>achievementid</th>\n",
              "      <th>date_acquired</th>\n",
              "      <th>gameid</th>\n",
              "      <th>achievement_title</th>\n",
              "      <th>description</th>\n",
              "      <th>player_platform</th>\n",
              "    </tr>\n",
              "  </thead>\n",
              "  <tbody>\n",
              "    <tr>\n",
              "      <th>7362839</th>\n",
              "      <td>76561198035723539</td>\n",
              "      <td>NaN</td>\n",
              "      <td>2073850_FTUE02</td>\n",
              "      <td>2023-12-19 04:11:44</td>\n",
              "      <td>2073850.0</td>\n",
              "      <td>Initial Deposit</td>\n",
              "      <td>Insert a cash box into a cashout station</td>\n",
              "      <td>st</td>\n",
              "    </tr>\n",
              "    <tr>\n",
              "      <th>5436946</th>\n",
              "      <td>76561198060749169</td>\n",
              "      <td>Thailand</td>\n",
              "      <td>289070_NEW_ACHIEVEMENT_4_23</td>\n",
              "      <td>2019-02-14 21:46:45</td>\n",
              "      <td>289070.0</td>\n",
              "      <td>New Orleans Style Spanish Rice</td>\n",
              "      <td>Become Suzerain of a City-State</td>\n",
              "      <td>st</td>\n",
              "    </tr>\n",
              "    <tr>\n",
              "      <th>5246627</th>\n",
              "      <td>76561198283989170</td>\n",
              "      <td>Türkiye</td>\n",
              "      <td>645090_1802</td>\n",
              "      <td>2017-11-01 16:35:24</td>\n",
              "      <td>645090.0</td>\n",
              "      <td>⚓</td>\n",
              "      <td>Open level ⚓</td>\n",
              "      <td>st</td>\n",
              "    </tr>\n",
              "    <tr>\n",
              "      <th>10199747</th>\n",
              "      <td>76561199524873126</td>\n",
              "      <td>Japan</td>\n",
              "      <td>851710_NEW_ACHIEVEMENT_183_16</td>\n",
              "      <td>2024-01-12 06:04:50</td>\n",
              "      <td>851710.0</td>\n",
              "      <td>Super Trivia Champion</td>\n",
              "      <td>Super Trivia Champion</td>\n",
              "      <td>st</td>\n",
              "    </tr>\n",
              "    <tr>\n",
              "      <th>8378017</th>\n",
              "      <td>76561198025249714</td>\n",
              "      <td>NaN</td>\n",
              "      <td>243780_E_TROPHY_MONSTER_SMASHER</td>\n",
              "      <td>2014-02-16 20:10:29</td>\n",
              "      <td>243780.0</td>\n",
              "      <td>Monster Smasher</td>\n",
              "      <td>Defeat 2,000 enemies</td>\n",
              "      <td>st</td>\n",
              "    </tr>\n",
              "  </tbody>\n",
              "</table>\n",
              "</div>"
            ],
            "text/plain": [
              "                   playerid   country                    achievementid  \\\n",
              "7362839   76561198035723539       NaN                   2073850_FTUE02   \n",
              "5436946   76561198060749169  Thailand      289070_NEW_ACHIEVEMENT_4_23   \n",
              "5246627   76561198283989170   Türkiye                      645090_1802   \n",
              "10199747  76561199524873126     Japan    851710_NEW_ACHIEVEMENT_183_16   \n",
              "8378017   76561198025249714       NaN  243780_E_TROPHY_MONSTER_SMASHER   \n",
              "\n",
              "                date_acquired     gameid               achievement_title  \\\n",
              "7362839   2023-12-19 04:11:44  2073850.0                 Initial Deposit   \n",
              "5436946   2019-02-14 21:46:45   289070.0  New Orleans Style Spanish Rice   \n",
              "5246627   2017-11-01 16:35:24   645090.0                               ⚓   \n",
              "10199747  2024-01-12 06:04:50   851710.0           Super Trivia Champion   \n",
              "8378017   2014-02-16 20:10:29   243780.0                 Monster Smasher   \n",
              "\n",
              "                                       description player_platform  \n",
              "7362839   Insert a cash box into a cashout station              st  \n",
              "5436946            Become Suzerain of a City-State              st  \n",
              "5246627                               Open level ⚓              st  \n",
              "10199747                     Super Trivia Champion              st  \n",
              "8378017                       Defeat 2,000 enemies              st  "
            ]
          },
          "execution_count": 91,
          "metadata": {},
          "output_type": "execute_result"
        }
      ],
      "source": [
        "st_player_info.sample(5)"
      ]
    },
    {
      "cell_type": "code",
      "execution_count": null,
      "metadata": {},
      "outputs": [],
      "source": [
        "xb_player_info[\"player_platform\"] = \"xb\"\n",
        "xb_player_info.rename(columns={\"title\": \"achievement_title\"}, inplace=True)\n",
        "xb_player_info.drop(columns=[\"points\", \"nickname\", \"library\"], inplace=True)\n",
        "\n",
        "xb_player_info[\"country\"] = 'Unknown'"
      ]
    },
    {
      "cell_type": "code",
      "execution_count": null,
      "metadata": {},
      "outputs": [
        {
          "data": {
            "application/vnd.microsoft.datawrangler.viewer.v0+json": {
              "columns": [
                {
                  "name": "index",
                  "rawType": "int64",
                  "type": "integer"
                },
                {
                  "name": "playerid",
                  "rawType": "int64",
                  "type": "integer"
                },
                {
                  "name": "achievementid",
                  "rawType": "object",
                  "type": "string"
                },
                {
                  "name": "date_acquired",
                  "rawType": "object",
                  "type": "string"
                },
                {
                  "name": "gameid",
                  "rawType": "float64",
                  "type": "float"
                },
                {
                  "name": "achievement_title",
                  "rawType": "object",
                  "type": "string"
                },
                {
                  "name": "description",
                  "rawType": "object",
                  "type": "string"
                },
                {
                  "name": "player_platform",
                  "rawType": "object",
                  "type": "string"
                },
                {
                  "name": "country",
                  "rawType": "object",
                  "type": "string"
                }
              ],
              "conversionMethod": "pd.DataFrame",
              "ref": "cc6a53bc-1513-4109-89f8-ace680a97403",
              "rows": [
                [
                  "11793564",
                  "810146",
                  "14490_381388",
                  "2016-10-08 23:26:21",
                  "14490.0",
                  "When it Leads to War",
                  "Defended your Outsider Village from the COG",
                  "xb",
                  "Unknown"
                ],
                [
                  "7747671",
                  "2853981",
                  "589011_4878493",
                  "2023-08-09 04:16:47",
                  "589011.0",
                  "Child’s Play",
                  "Catching up with the times",
                  "xb",
                  "Unknown"
                ],
                [
                  "1816520",
                  "847508",
                  "7545_360282",
                  "2020-11-06 10:57:54",
                  "7545.0",
                  "Magic Touch",
                  "H3: ODST: Beat the par score on Data Hive.",
                  "xb",
                  "Unknown"
                ],
                [
                  "11941117",
                  "787080",
                  "5012_336593",
                  "2013-06-28 09:45:44",
                  "5012.0",
                  "An Educated Lanista",
                  "Completed the Tutorial fight.",
                  "xb",
                  "Unknown"
                ],
                [
                  "11081266",
                  "4007307",
                  "393038_3631121",
                  "2022-05-04 21:56:59",
                  "393038.0",
                  "Man of Honor",
                  "Complete Chapter 9",
                  "xb",
                  "Unknown"
                ]
              ],
              "shape": {
                "columns": 8,
                "rows": 5
              }
            },
            "text/html": [
              "<div>\n",
              "<style scoped>\n",
              "    .dataframe tbody tr th:only-of-type {\n",
              "        vertical-align: middle;\n",
              "    }\n",
              "\n",
              "    .dataframe tbody tr th {\n",
              "        vertical-align: top;\n",
              "    }\n",
              "\n",
              "    .dataframe thead th {\n",
              "        text-align: right;\n",
              "    }\n",
              "</style>\n",
              "<table border=\"1\" class=\"dataframe\">\n",
              "  <thead>\n",
              "    <tr style=\"text-align: right;\">\n",
              "      <th></th>\n",
              "      <th>playerid</th>\n",
              "      <th>achievementid</th>\n",
              "      <th>date_acquired</th>\n",
              "      <th>gameid</th>\n",
              "      <th>achievement_title</th>\n",
              "      <th>description</th>\n",
              "      <th>player_platform</th>\n",
              "      <th>country</th>\n",
              "    </tr>\n",
              "  </thead>\n",
              "  <tbody>\n",
              "    <tr>\n",
              "      <th>11793564</th>\n",
              "      <td>810146</td>\n",
              "      <td>14490_381388</td>\n",
              "      <td>2016-10-08 23:26:21</td>\n",
              "      <td>14490.0</td>\n",
              "      <td>When it Leads to War</td>\n",
              "      <td>Defended your Outsider Village from the COG</td>\n",
              "      <td>xb</td>\n",
              "      <td>Unknown</td>\n",
              "    </tr>\n",
              "    <tr>\n",
              "      <th>7747671</th>\n",
              "      <td>2853981</td>\n",
              "      <td>589011_4878493</td>\n",
              "      <td>2023-08-09 04:16:47</td>\n",
              "      <td>589011.0</td>\n",
              "      <td>Child’s Play</td>\n",
              "      <td>Catching up with the times</td>\n",
              "      <td>xb</td>\n",
              "      <td>Unknown</td>\n",
              "    </tr>\n",
              "    <tr>\n",
              "      <th>1816520</th>\n",
              "      <td>847508</td>\n",
              "      <td>7545_360282</td>\n",
              "      <td>2020-11-06 10:57:54</td>\n",
              "      <td>7545.0</td>\n",
              "      <td>Magic Touch</td>\n",
              "      <td>H3: ODST: Beat the par score on Data Hive.</td>\n",
              "      <td>xb</td>\n",
              "      <td>Unknown</td>\n",
              "    </tr>\n",
              "    <tr>\n",
              "      <th>11941117</th>\n",
              "      <td>787080</td>\n",
              "      <td>5012_336593</td>\n",
              "      <td>2013-06-28 09:45:44</td>\n",
              "      <td>5012.0</td>\n",
              "      <td>An Educated Lanista</td>\n",
              "      <td>Completed the Tutorial fight.</td>\n",
              "      <td>xb</td>\n",
              "      <td>Unknown</td>\n",
              "    </tr>\n",
              "    <tr>\n",
              "      <th>11081266</th>\n",
              "      <td>4007307</td>\n",
              "      <td>393038_3631121</td>\n",
              "      <td>2022-05-04 21:56:59</td>\n",
              "      <td>393038.0</td>\n",
              "      <td>Man of Honor</td>\n",
              "      <td>Complete Chapter 9</td>\n",
              "      <td>xb</td>\n",
              "      <td>Unknown</td>\n",
              "    </tr>\n",
              "  </tbody>\n",
              "</table>\n",
              "</div>"
            ],
            "text/plain": [
              "          playerid   achievementid        date_acquired    gameid  \\\n",
              "11793564    810146    14490_381388  2016-10-08 23:26:21   14490.0   \n",
              "7747671    2853981  589011_4878493  2023-08-09 04:16:47  589011.0   \n",
              "1816520     847508     7545_360282  2020-11-06 10:57:54    7545.0   \n",
              "11941117    787080     5012_336593  2013-06-28 09:45:44    5012.0   \n",
              "11081266   4007307  393038_3631121  2022-05-04 21:56:59  393038.0   \n",
              "\n",
              "             achievement_title                                  description  \\\n",
              "11793564  When it Leads to War  Defended your Outsider Village from the COG   \n",
              "7747671           Child’s Play                   Catching up with the times   \n",
              "1816520            Magic Touch   H3: ODST: Beat the par score on Data Hive.   \n",
              "11941117   An Educated Lanista                Completed the Tutorial fight.   \n",
              "11081266          Man of Honor                           Complete Chapter 9   \n",
              "\n",
              "         player_platform  country  \n",
              "11793564              xb  Unknown  \n",
              "7747671               xb  Unknown  \n",
              "1816520               xb  Unknown  \n",
              "11941117              xb  Unknown  \n",
              "11081266              xb  Unknown  "
            ]
          },
          "execution_count": 93,
          "metadata": {},
          "output_type": "execute_result"
        }
      ],
      "source": [
        "xb_player_info.sample(5)"
      ]
    },
    {
      "cell_type": "code",
      "execution_count": null,
      "metadata": {},
      "outputs": [
        {
          "name": "stdout",
          "output_type": "stream",
          "text": [
            "PS: 0 potential duplicate entries on (playerid, gameid, achievementid).\n",
            "ST: 0 potential duplicate entries on (playerid, gameid, achievementid).\n",
            "XB: 0 potential duplicate entries on (playerid, gameid, achievementid).\n"
          ]
        }
      ],
      "source": [
        "for df, name in zip([ps_player_info, st_player_info, xb_player_info], [\"PS\", \"ST\", \"XB\"]):\n",
        "    duplicates = df.duplicated(subset=[\"playerid\", \"gameid\", \"achievementid\"], keep=False).sum()\n",
        "    print(f\"{name}: {duplicates} potential duplicate entries on (playerid, gameid, achievementid).\")"
      ]
    },
    {
      "cell_type": "code",
      "execution_count": null,
      "metadata": {},
      "outputs": [],
      "source": [
        "columns_order = [\n",
        "    \"playerid\", \"country\", \"player_platform\", \"achievementid\",\n",
        "    \"date_acquired\", \"gameid\", \"achievement_title\", \"description\"\n",
        "]\n",
        "\n",
        "ps_player_info = ps_player_info[columns_order]\n",
        "st_player_info = st_player_info[columns_order]\n",
        "xb_player_info = xb_player_info[columns_order]"
      ]
    },
    {
      "cell_type": "code",
      "execution_count": null,
      "metadata": {},
      "outputs": [],
      "source": [
        "merged_player_info = pd.concat([ps_player_info, st_player_info, xb_player_info], ignore_index=True)"
      ]
    },
    {
      "cell_type": "code",
      "execution_count": null,
      "metadata": {},
      "outputs": [
        {
          "data": {
            "application/vnd.microsoft.datawrangler.viewer.v0+json": {
              "columns": [
                {
                  "name": "index",
                  "rawType": "int64",
                  "type": "integer"
                },
                {
                  "name": "playerid",
                  "rawType": "int64",
                  "type": "integer"
                },
                {
                  "name": "country",
                  "rawType": "object",
                  "type": "string"
                },
                {
                  "name": "player_platform",
                  "rawType": "object",
                  "type": "string"
                },
                {
                  "name": "achievementid",
                  "rawType": "object",
                  "type": "string"
                },
                {
                  "name": "date_acquired",
                  "rawType": "object",
                  "type": "string"
                },
                {
                  "name": "gameid",
                  "rawType": "float64",
                  "type": "float"
                },
                {
                  "name": "achievement_title",
                  "rawType": "object",
                  "type": "string"
                },
                {
                  "name": "description",
                  "rawType": "object",
                  "type": "string"
                }
              ],
              "conversionMethod": "pd.DataFrame",
              "ref": "ad3c9ec6-6d45-4f68-b59c-b5e579fd6901",
              "rows": [
                [
                  "6065675",
                  "2033636",
                  "United Kingdom",
                  "ps",
                  "17889_176956",
                  "2022-05-27 12:41:17",
                  "17889.0",
                  "空より見守る者",
                  "「空より見守る者」を見ました"
                ],
                [
                  "35138292",
                  "1602022",
                  "Unknown",
                  "xb",
                  "5478_345199",
                  "2014-05-29 01:07:23",
                  "5478.0",
                  "He Was Much Feared",
                  "Completed Chapter 4 of Episode 4."
                ],
                [
                  "9928927",
                  "346065",
                  "United States",
                  "ps",
                  "14805_153768",
                  "2017-01-17 08:37:23",
                  "14805.0",
                  "Car insignia 'Ridge'",
                  "Cars can drive on all of Island 3's bridges."
                ],
                [
                  "39504592",
                  "828744",
                  "Unknown",
                  "xb",
                  "331822_3200171",
                  "2019-10-29 16:33:21",
                  "331822.0",
                  "Her song",
                  "She picked up her six-string."
                ],
                [
                  "33881074",
                  "848223",
                  "Unknown",
                  "xb",
                  "1915_288467",
                  "2017-02-23 21:54:53",
                  "1915.0",
                  "Put a Ring On It",
                  "3 mortar strikes successfully directed"
                ]
              ],
              "shape": {
                "columns": 8,
                "rows": 5
              }
            },
            "text/html": [
              "<div>\n",
              "<style scoped>\n",
              "    .dataframe tbody tr th:only-of-type {\n",
              "        vertical-align: middle;\n",
              "    }\n",
              "\n",
              "    .dataframe tbody tr th {\n",
              "        vertical-align: top;\n",
              "    }\n",
              "\n",
              "    .dataframe thead th {\n",
              "        text-align: right;\n",
              "    }\n",
              "</style>\n",
              "<table border=\"1\" class=\"dataframe\">\n",
              "  <thead>\n",
              "    <tr style=\"text-align: right;\">\n",
              "      <th></th>\n",
              "      <th>playerid</th>\n",
              "      <th>country</th>\n",
              "      <th>player_platform</th>\n",
              "      <th>achievementid</th>\n",
              "      <th>date_acquired</th>\n",
              "      <th>gameid</th>\n",
              "      <th>achievement_title</th>\n",
              "      <th>description</th>\n",
              "    </tr>\n",
              "  </thead>\n",
              "  <tbody>\n",
              "    <tr>\n",
              "      <th>6065675</th>\n",
              "      <td>2033636</td>\n",
              "      <td>United Kingdom</td>\n",
              "      <td>ps</td>\n",
              "      <td>17889_176956</td>\n",
              "      <td>2022-05-27 12:41:17</td>\n",
              "      <td>17889.0</td>\n",
              "      <td>空より見守る者</td>\n",
              "      <td>「空より見守る者」を見ました</td>\n",
              "    </tr>\n",
              "    <tr>\n",
              "      <th>35138292</th>\n",
              "      <td>1602022</td>\n",
              "      <td>Unknown</td>\n",
              "      <td>xb</td>\n",
              "      <td>5478_345199</td>\n",
              "      <td>2014-05-29 01:07:23</td>\n",
              "      <td>5478.0</td>\n",
              "      <td>He Was Much Feared</td>\n",
              "      <td>Completed Chapter 4 of Episode 4.</td>\n",
              "    </tr>\n",
              "    <tr>\n",
              "      <th>9928927</th>\n",
              "      <td>346065</td>\n",
              "      <td>United States</td>\n",
              "      <td>ps</td>\n",
              "      <td>14805_153768</td>\n",
              "      <td>2017-01-17 08:37:23</td>\n",
              "      <td>14805.0</td>\n",
              "      <td>Car insignia 'Ridge'</td>\n",
              "      <td>Cars can drive on all of Island 3's bridges.</td>\n",
              "    </tr>\n",
              "    <tr>\n",
              "      <th>39504592</th>\n",
              "      <td>828744</td>\n",
              "      <td>Unknown</td>\n",
              "      <td>xb</td>\n",
              "      <td>331822_3200171</td>\n",
              "      <td>2019-10-29 16:33:21</td>\n",
              "      <td>331822.0</td>\n",
              "      <td>Her song</td>\n",
              "      <td>She picked up her six-string.</td>\n",
              "    </tr>\n",
              "    <tr>\n",
              "      <th>33881074</th>\n",
              "      <td>848223</td>\n",
              "      <td>Unknown</td>\n",
              "      <td>xb</td>\n",
              "      <td>1915_288467</td>\n",
              "      <td>2017-02-23 21:54:53</td>\n",
              "      <td>1915.0</td>\n",
              "      <td>Put a Ring On It</td>\n",
              "      <td>3 mortar strikes successfully directed</td>\n",
              "    </tr>\n",
              "  </tbody>\n",
              "</table>\n",
              "</div>"
            ],
            "text/plain": [
              "          playerid         country player_platform   achievementid  \\\n",
              "6065675    2033636  United Kingdom              ps    17889_176956   \n",
              "35138292   1602022         Unknown              xb     5478_345199   \n",
              "9928927     346065   United States              ps    14805_153768   \n",
              "39504592    828744         Unknown              xb  331822_3200171   \n",
              "33881074    848223         Unknown              xb     1915_288467   \n",
              "\n",
              "                date_acquired    gameid     achievement_title  \\\n",
              "6065675   2022-05-27 12:41:17   17889.0               空より見守る者   \n",
              "35138292  2014-05-29 01:07:23    5478.0    He Was Much Feared   \n",
              "9928927   2017-01-17 08:37:23   14805.0  Car insignia 'Ridge'   \n",
              "39504592  2019-10-29 16:33:21  331822.0              Her song   \n",
              "33881074  2017-02-23 21:54:53    1915.0      Put a Ring On It   \n",
              "\n",
              "                                           description  \n",
              "6065675                                 「空より見守る者」を見ました  \n",
              "35138292             Completed Chapter 4 of Episode 4.  \n",
              "9928927   Cars can drive on all of Island 3's bridges.  \n",
              "39504592                 She picked up her six-string.  \n",
              "33881074        3 mortar strikes successfully directed  "
            ]
          },
          "execution_count": 97,
          "metadata": {},
          "output_type": "execute_result"
        }
      ],
      "source": [
        "merged_player_info.sample(5)"
      ]
    },
    {
      "cell_type": "code",
      "execution_count": null,
      "metadata": {},
      "outputs": [],
      "source": [
        "merged_player_info['date_acquired'] = merged_player_info['date_acquired'].str[:10]"
      ]
    },
    {
      "cell_type": "code",
      "execution_count": null,
      "metadata": {},
      "outputs": [
        {
          "data": {
            "application/vnd.microsoft.datawrangler.viewer.v0+json": {
              "columns": [
                {
                  "name": "index",
                  "rawType": "int64",
                  "type": "integer"
                },
                {
                  "name": "playerid",
                  "rawType": "int64",
                  "type": "integer"
                },
                {
                  "name": "country",
                  "rawType": "object",
                  "type": "string"
                },
                {
                  "name": "player_platform",
                  "rawType": "object",
                  "type": "string"
                },
                {
                  "name": "achievementid",
                  "rawType": "object",
                  "type": "string"
                },
                {
                  "name": "date_acquired",
                  "rawType": "object",
                  "type": "string"
                },
                {
                  "name": "gameid",
                  "rawType": "float64",
                  "type": "float"
                },
                {
                  "name": "achievement_title",
                  "rawType": "object",
                  "type": "string"
                },
                {
                  "name": "description",
                  "rawType": "object",
                  "type": "string"
                }
              ],
              "conversionMethod": "pd.DataFrame",
              "ref": "de5a464d-4795-4814-914e-9f7c3ce75486",
              "rows": [
                [
                  "30477887",
                  "76561198268004077",
                  "United Kingdom",
                  "st",
                  "206420_About Time!",
                  "2020-02-02",
                  "206420.0",
                  "About Time!",
                  "Complete 'Welcome Back'."
                ],
                [
                  "20219022",
                  "76561197987596512",
                  "Brazil",
                  "st",
                  "843890_Achievement2793",
                  "2018-05-03",
                  "843890.0",
                  "Achievement 2793",
                  "Yet another achievement!"
                ],
                [
                  "18418490",
                  "323564",
                  "Japan",
                  "ps",
                  "8534_103714",
                  "2018-01-16",
                  "8534.0",
                  "牧場設立（米国）",
                  "米国牧場を設立"
                ],
                [
                  "13174396",
                  "1697521",
                  "United Kingdom",
                  "ps",
                  "10569_121769",
                  "2017-08-20",
                  "10569.0",
                  "No Ticket",
                  "Kick fifty enemies off of trains."
                ],
                [
                  "36070529",
                  "3103557",
                  "Unknown",
                  "xb",
                  "18865_395568",
                  "2017-08-23",
                  "18865.0",
                  "A New Hope",
                  "Complete the First Act in Longshot."
                ]
              ],
              "shape": {
                "columns": 8,
                "rows": 5
              }
            },
            "text/html": [
              "<div>\n",
              "<style scoped>\n",
              "    .dataframe tbody tr th:only-of-type {\n",
              "        vertical-align: middle;\n",
              "    }\n",
              "\n",
              "    .dataframe tbody tr th {\n",
              "        vertical-align: top;\n",
              "    }\n",
              "\n",
              "    .dataframe thead th {\n",
              "        text-align: right;\n",
              "    }\n",
              "</style>\n",
              "<table border=\"1\" class=\"dataframe\">\n",
              "  <thead>\n",
              "    <tr style=\"text-align: right;\">\n",
              "      <th></th>\n",
              "      <th>playerid</th>\n",
              "      <th>country</th>\n",
              "      <th>player_platform</th>\n",
              "      <th>achievementid</th>\n",
              "      <th>date_acquired</th>\n",
              "      <th>gameid</th>\n",
              "      <th>achievement_title</th>\n",
              "      <th>description</th>\n",
              "    </tr>\n",
              "  </thead>\n",
              "  <tbody>\n",
              "    <tr>\n",
              "      <th>30477887</th>\n",
              "      <td>76561198268004077</td>\n",
              "      <td>United Kingdom</td>\n",
              "      <td>st</td>\n",
              "      <td>206420_About Time!</td>\n",
              "      <td>2020-02-02</td>\n",
              "      <td>206420.0</td>\n",
              "      <td>About Time!</td>\n",
              "      <td>Complete 'Welcome Back'.</td>\n",
              "    </tr>\n",
              "    <tr>\n",
              "      <th>20219022</th>\n",
              "      <td>76561197987596512</td>\n",
              "      <td>Brazil</td>\n",
              "      <td>st</td>\n",
              "      <td>843890_Achievement2793</td>\n",
              "      <td>2018-05-03</td>\n",
              "      <td>843890.0</td>\n",
              "      <td>Achievement 2793</td>\n",
              "      <td>Yet another achievement!</td>\n",
              "    </tr>\n",
              "    <tr>\n",
              "      <th>18418490</th>\n",
              "      <td>323564</td>\n",
              "      <td>Japan</td>\n",
              "      <td>ps</td>\n",
              "      <td>8534_103714</td>\n",
              "      <td>2018-01-16</td>\n",
              "      <td>8534.0</td>\n",
              "      <td>牧場設立（米国）</td>\n",
              "      <td>米国牧場を設立</td>\n",
              "    </tr>\n",
              "    <tr>\n",
              "      <th>13174396</th>\n",
              "      <td>1697521</td>\n",
              "      <td>United Kingdom</td>\n",
              "      <td>ps</td>\n",
              "      <td>10569_121769</td>\n",
              "      <td>2017-08-20</td>\n",
              "      <td>10569.0</td>\n",
              "      <td>No Ticket</td>\n",
              "      <td>Kick fifty enemies off of trains.</td>\n",
              "    </tr>\n",
              "    <tr>\n",
              "      <th>36070529</th>\n",
              "      <td>3103557</td>\n",
              "      <td>Unknown</td>\n",
              "      <td>xb</td>\n",
              "      <td>18865_395568</td>\n",
              "      <td>2017-08-23</td>\n",
              "      <td>18865.0</td>\n",
              "      <td>A New Hope</td>\n",
              "      <td>Complete the First Act in Longshot.</td>\n",
              "    </tr>\n",
              "  </tbody>\n",
              "</table>\n",
              "</div>"
            ],
            "text/plain": [
              "                   playerid         country player_platform  \\\n",
              "30477887  76561198268004077  United Kingdom              st   \n",
              "20219022  76561197987596512          Brazil              st   \n",
              "18418490             323564           Japan              ps   \n",
              "13174396            1697521  United Kingdom              ps   \n",
              "36070529            3103557         Unknown              xb   \n",
              "\n",
              "                   achievementid date_acquired    gameid achievement_title  \\\n",
              "30477887      206420_About Time!    2020-02-02  206420.0       About Time!   \n",
              "20219022  843890_Achievement2793    2018-05-03  843890.0  Achievement 2793   \n",
              "18418490             8534_103714    2018-01-16    8534.0          牧場設立（米国）   \n",
              "13174396            10569_121769    2017-08-20   10569.0         No Ticket   \n",
              "36070529            18865_395568    2017-08-23   18865.0        A New Hope   \n",
              "\n",
              "                                  description  \n",
              "30477887             Complete 'Welcome Back'.  \n",
              "20219022             Yet another achievement!  \n",
              "18418490                              米国牧場を設立  \n",
              "13174396    Kick fifty enemies off of trains.  \n",
              "36070529  Complete the First Act in Longshot.  "
            ]
          },
          "execution_count": 99,
          "metadata": {},
          "output_type": "execute_result"
        }
      ],
      "source": [
        "merged_player_info.sample(5)"
      ]
    },
    {
      "cell_type": "code",
      "execution_count": null,
      "metadata": {},
      "outputs": [],
      "source": [
        "# print(f\"Merged dataset shape: {merged_player_info.shape}\")\n",
        "# print(f\"Merged dataset duplicates: {merged_player_info.duplicated().sum()}\")\n",
        "# print(merged_player_info.info())"
      ]
    },
    {
      "cell_type": "markdown",
      "metadata": {},
      "source": [
        "#### ANOVA"
      ]
    },
    {
      "cell_type": "code",
      "execution_count": null,
      "metadata": {},
      "outputs": [
        {
          "data": {
            "application/vnd.microsoft.datawrangler.viewer.v0+json": {
              "columns": [
                {
                  "name": "index",
                  "rawType": "int64",
                  "type": "integer"
                },
                {
                  "name": "playerid",
                  "rawType": "int64",
                  "type": "integer"
                },
                {
                  "name": "country",
                  "rawType": "object",
                  "type": "string"
                },
                {
                  "name": "player_platform",
                  "rawType": "object",
                  "type": "string"
                },
                {
                  "name": "achievementid",
                  "rawType": "object",
                  "type": "string"
                },
                {
                  "name": "date_acquired",
                  "rawType": "object",
                  "type": "string"
                },
                {
                  "name": "gameid",
                  "rawType": "float64",
                  "type": "float"
                },
                {
                  "name": "achievement_title",
                  "rawType": "object",
                  "type": "string"
                },
                {
                  "name": "description",
                  "rawType": "object",
                  "type": "string"
                }
              ],
              "conversionMethod": "pd.DataFrame",
              "ref": "59123fbe-219f-46be-81cb-ae263f22f3f6",
              "rows": [
                [
                  "16239628",
                  "418701",
                  "Australia",
                  "ps",
                  "16508_164878",
                  "2017-12-31",
                  "16508.0",
                  "Saved Meridian from its foe",
                  "Helped Erend investigate Ersa's fate, and foiled a plot against Meridian."
                ],
                [
                  "44186423",
                  "774482",
                  "Unknown",
                  "xb",
                  "1159_265103",
                  "2009-06-10",
                  "1159.0",
                  "One Bad Gato",
                  "Completed 'Black Cats' on Veteran difficulty."
                ],
                [
                  "20506827",
                  "76561198179588026",
                  "Germany",
                  "st",
                  "658560_1390",
                  "2020-10-28",
                  "658560.0",
                  "9!",
                  "Pass the level 9!"
                ],
                [
                  "2721255",
                  "344040",
                  "United Kingdom",
                  "ps",
                  "7313_89787",
                  "2015-07-28",
                  "7313.0",
                  "You're free, Bunny Boy!",
                  "Free Bunny Boy from the Giant Bunny"
                ],
                [
                  "5278262",
                  "1686081",
                  "United States",
                  "ps",
                  "499677_4357752",
                  "2022-05-08",
                  "499677.0",
                  "Mastership : Ninja Sword",
                  "Attacked 500 times with a ninja sword"
                ]
              ],
              "shape": {
                "columns": 8,
                "rows": 5
              }
            },
            "text/html": [
              "<div>\n",
              "<style scoped>\n",
              "    .dataframe tbody tr th:only-of-type {\n",
              "        vertical-align: middle;\n",
              "    }\n",
              "\n",
              "    .dataframe tbody tr th {\n",
              "        vertical-align: top;\n",
              "    }\n",
              "\n",
              "    .dataframe thead th {\n",
              "        text-align: right;\n",
              "    }\n",
              "</style>\n",
              "<table border=\"1\" class=\"dataframe\">\n",
              "  <thead>\n",
              "    <tr style=\"text-align: right;\">\n",
              "      <th></th>\n",
              "      <th>playerid</th>\n",
              "      <th>country</th>\n",
              "      <th>player_platform</th>\n",
              "      <th>achievementid</th>\n",
              "      <th>date_acquired</th>\n",
              "      <th>gameid</th>\n",
              "      <th>achievement_title</th>\n",
              "      <th>description</th>\n",
              "    </tr>\n",
              "  </thead>\n",
              "  <tbody>\n",
              "    <tr>\n",
              "      <th>16239628</th>\n",
              "      <td>418701</td>\n",
              "      <td>Australia</td>\n",
              "      <td>ps</td>\n",
              "      <td>16508_164878</td>\n",
              "      <td>2017-12-31</td>\n",
              "      <td>16508.0</td>\n",
              "      <td>Saved Meridian from its foe</td>\n",
              "      <td>Helped Erend investigate Ersa's fate, and foil...</td>\n",
              "    </tr>\n",
              "    <tr>\n",
              "      <th>44186423</th>\n",
              "      <td>774482</td>\n",
              "      <td>Unknown</td>\n",
              "      <td>xb</td>\n",
              "      <td>1159_265103</td>\n",
              "      <td>2009-06-10</td>\n",
              "      <td>1159.0</td>\n",
              "      <td>One Bad Gato</td>\n",
              "      <td>Completed 'Black Cats' on Veteran difficulty.</td>\n",
              "    </tr>\n",
              "    <tr>\n",
              "      <th>20506827</th>\n",
              "      <td>76561198179588026</td>\n",
              "      <td>Germany</td>\n",
              "      <td>st</td>\n",
              "      <td>658560_1390</td>\n",
              "      <td>2020-10-28</td>\n",
              "      <td>658560.0</td>\n",
              "      <td>9!</td>\n",
              "      <td>Pass the level 9!</td>\n",
              "    </tr>\n",
              "    <tr>\n",
              "      <th>2721255</th>\n",
              "      <td>344040</td>\n",
              "      <td>United Kingdom</td>\n",
              "      <td>ps</td>\n",
              "      <td>7313_89787</td>\n",
              "      <td>2015-07-28</td>\n",
              "      <td>7313.0</td>\n",
              "      <td>You're free, Bunny Boy!</td>\n",
              "      <td>Free Bunny Boy from the Giant Bunny</td>\n",
              "    </tr>\n",
              "    <tr>\n",
              "      <th>5278262</th>\n",
              "      <td>1686081</td>\n",
              "      <td>United States</td>\n",
              "      <td>ps</td>\n",
              "      <td>499677_4357752</td>\n",
              "      <td>2022-05-08</td>\n",
              "      <td>499677.0</td>\n",
              "      <td>Mastership : Ninja Sword</td>\n",
              "      <td>Attacked 500 times with a ninja sword</td>\n",
              "    </tr>\n",
              "  </tbody>\n",
              "</table>\n",
              "</div>"
            ],
            "text/plain": [
              "                   playerid         country player_platform   achievementid  \\\n",
              "16239628             418701       Australia              ps    16508_164878   \n",
              "44186423             774482         Unknown              xb     1159_265103   \n",
              "20506827  76561198179588026         Germany              st     658560_1390   \n",
              "2721255              344040  United Kingdom              ps      7313_89787   \n",
              "5278262             1686081   United States              ps  499677_4357752   \n",
              "\n",
              "         date_acquired    gameid            achievement_title  \\\n",
              "16239628    2017-12-31   16508.0  Saved Meridian from its foe   \n",
              "44186423    2009-06-10    1159.0                 One Bad Gato   \n",
              "20506827    2020-10-28  658560.0                           9!   \n",
              "2721255     2015-07-28    7313.0      You're free, Bunny Boy!   \n",
              "5278262     2022-05-08  499677.0     Mastership : Ninja Sword   \n",
              "\n",
              "                                                description  \n",
              "16239628  Helped Erend investigate Ersa's fate, and foil...  \n",
              "44186423      Completed 'Black Cats' on Veteran difficulty.  \n",
              "20506827                                  Pass the level 9!  \n",
              "2721255                 Free Bunny Boy from the Giant Bunny  \n",
              "5278262               Attacked 500 times with a ninja sword  "
            ]
          },
          "execution_count": 101,
          "metadata": {},
          "output_type": "execute_result"
        }
      ],
      "source": [
        "merged_player_info.sample(5)"
      ]
    },
    {
      "cell_type": "code",
      "execution_count": null,
      "metadata": {},
      "outputs": [
        {
          "ename": "MemoryError",
          "evalue": "Unable to allocate 2.08 GiB for an array with shape (6, 46520773) and data type object",
          "output_type": "error",
          "traceback": [
            "\u001b[1;31m---------------------------------------------------------------------------\u001b[0m",
            "\u001b[1;31mMemoryError\u001b[0m                               Traceback (most recent call last)",
            "Cell \u001b[1;32mIn[102], line 2\u001b[0m\n\u001b[0;32m      1\u001b[0m \u001b[38;5;28;01mimport\u001b[39;00m \u001b[38;5;21;01mcopy\u001b[39;00m\n\u001b[1;32m----> 2\u001b[0m merged_player_info_cp \u001b[38;5;241m=\u001b[39m \u001b[43mmerged_player_info\u001b[49m\u001b[38;5;241;43m.\u001b[39;49m\u001b[43mcopy\u001b[49m\u001b[43m(\u001b[49m\u001b[43m)\u001b[49m\n\u001b[0;32m      3\u001b[0m tidy_game_info_cp \u001b[38;5;241m=\u001b[39m tidy_game_info\u001b[38;5;241m.\u001b[39mcopy()\n\u001b[0;32m      5\u001b[0m mp_filtered \u001b[38;5;241m=\u001b[39m merged_player_info_cp[[\u001b[38;5;124m'\u001b[39m\u001b[38;5;124mplayerid\u001b[39m\u001b[38;5;124m'\u001b[39m, \u001b[38;5;124m'\u001b[39m\u001b[38;5;124mcountry\u001b[39m\u001b[38;5;124m'\u001b[39m, \u001b[38;5;124m'\u001b[39m\u001b[38;5;124mdate_acquired\u001b[39m\u001b[38;5;124m'\u001b[39m, \u001b[38;5;124m'\u001b[39m\u001b[38;5;124mgameid\u001b[39m\u001b[38;5;124m'\u001b[39m, \u001b[38;5;124m'\u001b[39m\u001b[38;5;124mplayer_platform\u001b[39m\u001b[38;5;124m'\u001b[39m]]\n",
            "File \u001b[1;32md:\\UMich-assignment\\SI618\\SI618WN25Weeks1-8\\.venv\\Lib\\site-packages\\pandas\\core\\generic.py:6811\u001b[0m, in \u001b[0;36mNDFrame.copy\u001b[1;34m(self, deep)\u001b[0m\n\u001b[0;32m   6662\u001b[0m \u001b[38;5;129m@final\u001b[39m\n\u001b[0;32m   6663\u001b[0m \u001b[38;5;28;01mdef\u001b[39;00m \u001b[38;5;21mcopy\u001b[39m(\u001b[38;5;28mself\u001b[39m, deep: bool_t \u001b[38;5;241m|\u001b[39m \u001b[38;5;28;01mNone\u001b[39;00m \u001b[38;5;241m=\u001b[39m \u001b[38;5;28;01mTrue\u001b[39;00m) \u001b[38;5;241m-\u001b[39m\u001b[38;5;241m>\u001b[39m Self:\n\u001b[0;32m   6664\u001b[0m \u001b[38;5;250m    \u001b[39m\u001b[38;5;124;03m\"\"\"\u001b[39;00m\n\u001b[0;32m   6665\u001b[0m \u001b[38;5;124;03m    Make a copy of this object's indices and data.\u001b[39;00m\n\u001b[0;32m   6666\u001b[0m \n\u001b[1;32m   (...)\u001b[0m\n\u001b[0;32m   6809\u001b[0m \u001b[38;5;124;03m    dtype: int64\u001b[39;00m\n\u001b[0;32m   6810\u001b[0m \u001b[38;5;124;03m    \"\"\"\u001b[39;00m\n\u001b[1;32m-> 6811\u001b[0m     data \u001b[38;5;241m=\u001b[39m \u001b[38;5;28;43mself\u001b[39;49m\u001b[38;5;241;43m.\u001b[39;49m\u001b[43m_mgr\u001b[49m\u001b[38;5;241;43m.\u001b[39;49m\u001b[43mcopy\u001b[49m\u001b[43m(\u001b[49m\u001b[43mdeep\u001b[49m\u001b[38;5;241;43m=\u001b[39;49m\u001b[43mdeep\u001b[49m\u001b[43m)\u001b[49m\n\u001b[0;32m   6812\u001b[0m     \u001b[38;5;28mself\u001b[39m\u001b[38;5;241m.\u001b[39m_clear_item_cache()\n\u001b[0;32m   6813\u001b[0m     \u001b[38;5;28;01mreturn\u001b[39;00m \u001b[38;5;28mself\u001b[39m\u001b[38;5;241m.\u001b[39m_constructor_from_mgr(data, axes\u001b[38;5;241m=\u001b[39mdata\u001b[38;5;241m.\u001b[39maxes)\u001b[38;5;241m.\u001b[39m__finalize__(\n\u001b[0;32m   6814\u001b[0m         \u001b[38;5;28mself\u001b[39m, method\u001b[38;5;241m=\u001b[39m\u001b[38;5;124m\"\u001b[39m\u001b[38;5;124mcopy\u001b[39m\u001b[38;5;124m\"\u001b[39m\n\u001b[0;32m   6815\u001b[0m     )\n",
            "File \u001b[1;32md:\\UMich-assignment\\SI618\\SI618WN25Weeks1-8\\.venv\\Lib\\site-packages\\pandas\\core\\internals\\managers.py:604\u001b[0m, in \u001b[0;36mBaseBlockManager.copy\u001b[1;34m(self, deep)\u001b[0m\n\u001b[0;32m    601\u001b[0m         res\u001b[38;5;241m.\u001b[39m_blklocs \u001b[38;5;241m=\u001b[39m \u001b[38;5;28mself\u001b[39m\u001b[38;5;241m.\u001b[39m_blklocs\u001b[38;5;241m.\u001b[39mcopy()\n\u001b[0;32m    603\u001b[0m \u001b[38;5;28;01mif\u001b[39;00m deep:\n\u001b[1;32m--> 604\u001b[0m     \u001b[43mres\u001b[49m\u001b[38;5;241;43m.\u001b[39;49m\u001b[43m_consolidate_inplace\u001b[49m\u001b[43m(\u001b[49m\u001b[43m)\u001b[49m\n\u001b[0;32m    605\u001b[0m \u001b[38;5;28;01mreturn\u001b[39;00m res\n",
            "File \u001b[1;32md:\\UMich-assignment\\SI618\\SI618WN25Weeks1-8\\.venv\\Lib\\site-packages\\pandas\\core\\internals\\managers.py:1788\u001b[0m, in \u001b[0;36mBlockManager._consolidate_inplace\u001b[1;34m(self)\u001b[0m\n\u001b[0;32m   1782\u001b[0m \u001b[38;5;28;01mdef\u001b[39;00m \u001b[38;5;21m_consolidate_inplace\u001b[39m(\u001b[38;5;28mself\u001b[39m) \u001b[38;5;241m-\u001b[39m\u001b[38;5;241m>\u001b[39m \u001b[38;5;28;01mNone\u001b[39;00m:\n\u001b[0;32m   1783\u001b[0m     \u001b[38;5;66;03m# In general, _consolidate_inplace should only be called via\u001b[39;00m\n\u001b[0;32m   1784\u001b[0m     \u001b[38;5;66;03m#  DataFrame._consolidate_inplace, otherwise we will fail to invalidate\u001b[39;00m\n\u001b[0;32m   1785\u001b[0m     \u001b[38;5;66;03m#  the DataFrame's _item_cache. The exception is for newly-created\u001b[39;00m\n\u001b[0;32m   1786\u001b[0m     \u001b[38;5;66;03m#  BlockManager objects not yet attached to a DataFrame.\u001b[39;00m\n\u001b[0;32m   1787\u001b[0m     \u001b[38;5;28;01mif\u001b[39;00m \u001b[38;5;129;01mnot\u001b[39;00m \u001b[38;5;28mself\u001b[39m\u001b[38;5;241m.\u001b[39mis_consolidated():\n\u001b[1;32m-> 1788\u001b[0m         \u001b[38;5;28mself\u001b[39m\u001b[38;5;241m.\u001b[39mblocks \u001b[38;5;241m=\u001b[39m \u001b[43m_consolidate\u001b[49m\u001b[43m(\u001b[49m\u001b[38;5;28;43mself\u001b[39;49m\u001b[38;5;241;43m.\u001b[39;49m\u001b[43mblocks\u001b[49m\u001b[43m)\u001b[49m\n\u001b[0;32m   1789\u001b[0m         \u001b[38;5;28mself\u001b[39m\u001b[38;5;241m.\u001b[39m_is_consolidated \u001b[38;5;241m=\u001b[39m \u001b[38;5;28;01mTrue\u001b[39;00m\n\u001b[0;32m   1790\u001b[0m         \u001b[38;5;28mself\u001b[39m\u001b[38;5;241m.\u001b[39m_known_consolidated \u001b[38;5;241m=\u001b[39m \u001b[38;5;28;01mTrue\u001b[39;00m\n",
            "File \u001b[1;32md:\\UMich-assignment\\SI618\\SI618WN25Weeks1-8\\.venv\\Lib\\site-packages\\pandas\\core\\internals\\managers.py:2269\u001b[0m, in \u001b[0;36m_consolidate\u001b[1;34m(blocks)\u001b[0m\n\u001b[0;32m   2267\u001b[0m new_blocks: \u001b[38;5;28mlist\u001b[39m[Block] \u001b[38;5;241m=\u001b[39m []\n\u001b[0;32m   2268\u001b[0m \u001b[38;5;28;01mfor\u001b[39;00m (_can_consolidate, dtype), group_blocks \u001b[38;5;129;01min\u001b[39;00m grouper:\n\u001b[1;32m-> 2269\u001b[0m     merged_blocks, _ \u001b[38;5;241m=\u001b[39m \u001b[43m_merge_blocks\u001b[49m\u001b[43m(\u001b[49m\n\u001b[0;32m   2270\u001b[0m \u001b[43m        \u001b[49m\u001b[38;5;28;43mlist\u001b[39;49m\u001b[43m(\u001b[49m\u001b[43mgroup_blocks\u001b[49m\u001b[43m)\u001b[49m\u001b[43m,\u001b[49m\u001b[43m \u001b[49m\u001b[43mdtype\u001b[49m\u001b[38;5;241;43m=\u001b[39;49m\u001b[43mdtype\u001b[49m\u001b[43m,\u001b[49m\u001b[43m \u001b[49m\u001b[43mcan_consolidate\u001b[49m\u001b[38;5;241;43m=\u001b[39;49m\u001b[43m_can_consolidate\u001b[49m\n\u001b[0;32m   2271\u001b[0m \u001b[43m    \u001b[49m\u001b[43m)\u001b[49m\n\u001b[0;32m   2272\u001b[0m     new_blocks \u001b[38;5;241m=\u001b[39m extend_blocks(merged_blocks, new_blocks)\n\u001b[0;32m   2273\u001b[0m \u001b[38;5;28;01mreturn\u001b[39;00m \u001b[38;5;28mtuple\u001b[39m(new_blocks)\n",
            "File \u001b[1;32md:\\UMich-assignment\\SI618\\SI618WN25Weeks1-8\\.venv\\Lib\\site-packages\\pandas\\core\\internals\\managers.py:2301\u001b[0m, in \u001b[0;36m_merge_blocks\u001b[1;34m(blocks, dtype, can_consolidate)\u001b[0m\n\u001b[0;32m   2298\u001b[0m     new_values \u001b[38;5;241m=\u001b[39m bvals2[\u001b[38;5;241m0\u001b[39m]\u001b[38;5;241m.\u001b[39m_concat_same_type(bvals2, axis\u001b[38;5;241m=\u001b[39m\u001b[38;5;241m0\u001b[39m)\n\u001b[0;32m   2300\u001b[0m argsort \u001b[38;5;241m=\u001b[39m np\u001b[38;5;241m.\u001b[39margsort(new_mgr_locs)\n\u001b[1;32m-> 2301\u001b[0m new_values \u001b[38;5;241m=\u001b[39m \u001b[43mnew_values\u001b[49m\u001b[43m[\u001b[49m\u001b[43margsort\u001b[49m\u001b[43m]\u001b[49m\n\u001b[0;32m   2302\u001b[0m new_mgr_locs \u001b[38;5;241m=\u001b[39m new_mgr_locs[argsort]\n\u001b[0;32m   2304\u001b[0m bp \u001b[38;5;241m=\u001b[39m BlockPlacement(new_mgr_locs)\n",
            "\u001b[1;31mMemoryError\u001b[0m: Unable to allocate 2.08 GiB for an array with shape (6, 46520773) and data type object"
          ]
        }
      ],
      "source": [
        "import copy\n",
        "merged_player_info_cp = merged_player_info.copy()\n",
        "tidy_game_info_cp = tidy_game_info.copy()\n",
        "\n",
        "mp_filtered = merged_player_info_cp[['playerid', 'country', 'date_acquired', 'gameid', 'player_platform']]\n",
        "tg_filtered = tidy_game_info[['gameid', 'release_date']]"
      ]
    },
    {
      "cell_type": "code",
      "execution_count": null,
      "metadata": {},
      "outputs": [],
      "source": [
        "mp_filtered['date_acquired'].sample(10)"
      ]
    },
    {
      "cell_type": "code",
      "execution_count": null,
      "metadata": {},
      "outputs": [],
      "source": [
        "mp_filtered = mp_filtered[mp_filtered['player_platform'].isin(['ps', 'st'])]\n",
        "mp_filtered['date_acquired'] = pd.to_datetime(mp_filtered['date_acquired'], errors='coerce')\n",
        "tg_filtered['release_date'] = pd.to_datetime(tg_filtered['release_date'], errors='coerce')"
      ]
    },
    {
      "cell_type": "code",
      "execution_count": null,
      "metadata": {},
      "outputs": [],
      "source": [
        "game_release_dict = tg_filtered.set_index('gameid')['release_date'].to_dict()\n",
        "mp_filtered['release_date'] = mp_filtered['gameid'].map(game_release_dict)\n",
        "\n",
        "mp_filtered['time_to_achievement'] = (mp_filtered['date_acquired'] - mp_filtered['release_date']).dt.days\n",
        "\n",
        "# remove invalid/negative completion times\n",
        "mp_filtered = mp_filtered[(mp_filtered['time_to_achievement'] >= 0) & (mp_filtered['time_to_achievement'].notna())]\n",
        "\n",
        "# filter countries with at least 100 players for meaningful analysis\n",
        "country_counts = mp_filtered['country'].value_counts()\n",
        "mp_filtered = mp_filtered[mp_filtered['country'].isin(country_counts[country_counts >= 100].index)]"
      ]
    },
    {
      "cell_type": "code",
      "execution_count": null,
      "metadata": {},
      "outputs": [],
      "source": [
        "from scipy import stats\n",
        "\n",
        "# check for normality\n",
        "# sample 5000 rows for normality test (Shapiro-Wilk does not work well on very large data)\n",
        "sample_df = mp_filtered.sample(n=min(5000, len(mp_filtered)), random_state=42)\n",
        "\n",
        "stat, p = stats.shapiro(sample_df['time_to_achievement'])\n",
        "print(f\"Shapiro-Wilk Test: p-value = {p:.4f}\")\n",
        "\n",
        "if p < 0.05:\n",
        "    print(\"Time-to-achievement is NOT normally distributed.\")\n",
        "else:\n",
        "    print(\"Time-to-achievement appears normally distributed.\")\n"
      ]
    },
    {
      "cell_type": "code",
      "execution_count": null,
      "metadata": {},
      "outputs": [],
      "source": [
        "# Levene’s test for equal variances across countries\n",
        "stat, p = stats.levene(*[mp_filtered[mp_filtered['country'] == c]['time_to_achievement'] for c in mp_filtered['country'].unique()])\n",
        "print(f\"Levene’s Test: p-value = {p:.4f}\")\n",
        "\n",
        "if p < 0.05:\n",
        "    print(\"Variances are NOT equal (consider Welch's ANOVA).\")\n",
        "else:\n",
        "    print(\"Variances are approximately equal (proceed with standard ANOVA).\")\n"
      ]
    },
    {
      "cell_type": "markdown",
      "metadata": {},
      "source": [
        "#### Since both assumptions for ANOVA are violated (not normally distributed nor equal variance), we choose to run **Kruskal-Wallis (one-way ANOVA on ranks)** instead."
      ]
    },
    {
      "cell_type": "code",
      "execution_count": null,
      "metadata": {},
      "outputs": [],
      "source": [
        "kruskal_result = stats.kruskal(*[mp_filtered[mp_filtered['country'] == c]['time_to_achievement'] for c in mp_filtered['country'].unique()])\n",
        "print(f\"Kruskal-Wallis Test: H-statistic = {kruskal_result.statistic:.4f}, p-value = {kruskal_result.pvalue:.4f}\")\n",
        "\n",
        "if kruskal_result.pvalue < 0.05:\n",
        "    print(\"Reject H0: There is a significant difference in achievement completion time across countries (non-parametric).\")\n",
        "else:\n",
        "    print(\"Fail to reject H0: No significant difference in completion time across countries.\")"
      ]
    },
    {
      "cell_type": "markdown",
      "metadata": {},
      "source": [
        "### Interpretation of Kruskal-Wallis (one-way ANOVA on ranks) results\n",
        "\n",
        "We conducted a **Kruskal-Wallis test**, a non-parametric alternative to ANOVA, due to violations of normality and/or equal variance assumptions.  \n",
        "\n",
        "- H-statistic = 331601.9087, **p-value = 0.0000**  \n",
        "- Since **p < 0.05**, we **reject the null hypothesis (H_0)**.  \n",
        "- This result indicates a **statistically significant difference** in **achievement completion times across countries** on **PlayStation and Steam** platforms.  "
      ]
    },
    {
      "cell_type": "markdown",
      "metadata": {},
      "source": [
        "### 3. [relate to graphical analysis #4] Do games with more supported languages attract more players?\n",
        "We will conduct a **linear regression analysis** to determine whether the number of supported languages influences the number of players who purchased a game.\n",
        "* The dependent variable (num_players_purchased) is continuous.\n",
        "* The independent variable (num_supported_languages) is continuous.\n",
        "* OLS regression helps quantify the strength and significance of the relationship.\n",
        "\n",
        "#### Null Hypothesis:\n",
        "The number of supported languages in a game does not significantly predict the number of players who purchased it.\n",
        "\n",
        "#### Alternative Hypothesis:\n",
        "The number of supported languages in a game significantly influences the number of players who purchased it."
      ]
    },
    {
      "cell_type": "code",
      "execution_count": null,
      "metadata": {},
      "outputs": [],
      "source": [
        "lst = tidy_game_info_cp['supported_languages'].sample()\n",
        "lst.iloc[0]"
      ]
    },
    {
      "cell_type": "code",
      "execution_count": null,
      "metadata": {},
      "outputs": [],
      "source": [
        "import ast\n",
        "\n",
        "game_data = tidy_game_info[['gameid', 'supported_languages']].copy()\n",
        "\n",
        "# convert string-formatted lists to actual lists and count the number of languages\n",
        "game_data['num_languages'] = game_data['supported_languages'].apply(lambda x: len(ast.literal_eval(x)) if isinstance(x, str) else 0)\n",
        "\n",
        "# keep only numeric values\n",
        "game_data.drop(columns=['supported_languages'], inplace=True)"
      ]
    },
    {
      "cell_type": "code",
      "execution_count": null,
      "metadata": {},
      "outputs": [],
      "source": [
        "game_data.sample(10)"
      ]
    },
    {
      "cell_type": "code",
      "execution_count": null,
      "metadata": {},
      "outputs": [],
      "source": [
        "# unique players per game\n",
        "player_counts = merged_player_info_cp.groupby('gameid')['playerid'].nunique().reset_index()\n",
        "player_counts.rename(columns={'playerid': 'num_players'}, inplace=True)\n",
        "\n",
        "df_regression = game_data.merge(player_counts, on='gameid', how='inner')"
      ]
    },
    {
      "cell_type": "code",
      "execution_count": null,
      "metadata": {},
      "outputs": [],
      "source": [
        "df_regression.sample(5)"
      ]
    },
    {
      "cell_type": "code",
      "execution_count": null,
      "metadata": {},
      "outputs": [],
      "source": [
        "df_regression['log_num_players'] = np.log1p(df_regression['num_players'])\n",
        "\n",
        "\n",
        "plt.figure(figsize=(8,5))\n",
        "sns.regplot(x=df_regression['num_languages'], y=df_regression['log_num_players'])\n",
        "plt.xlabel(\"Number of Supported Languages\")\n",
        "plt.ylabel(\"Number of Players (log transformed)\")\n",
        "plt.title(\"Do Games with More Languages Attract More Players?\")\n",
        "plt.show()"
      ]
    },
    {
      "cell_type": "markdown",
      "metadata": {},
      "source": [
        "#### Since the scatterplot does not suggest a strong linear relationship between the number of supported languages and the number of players, we decided to switch to bin the number of supported languages and evaluate the binned variable and the number of players again."
      ]
    },
    {
      "cell_type": "code",
      "execution_count": null,
      "metadata": {},
      "outputs": [],
      "source": [
        "df_regression['language_bins'] = pd.cut(df_regression['num_languages'], bins=[0, 5, 10, 20, 50, 100])\n",
        "df_regression.groupby('language_bins')['num_players'].mean().plot(kind=\"bar\")"
      ]
    },
    {
      "cell_type": "markdown",
      "metadata": {},
      "source": [
        "#### This visualization leads us to use ANOVA to test the statistical significance between bins of supported languages."
      ]
    },
    {
      "cell_type": "code",
      "execution_count": null,
      "metadata": {},
      "outputs": [],
      "source": [
        "from scipy.stats import f_oneway\n",
        "\n",
        "# only non-empty bins are included\n",
        "groups = [df_regression[df_regression['language_bins'] == b]['num_players'].dropna() \n",
        "          for b in df_regression['language_bins'].unique() \n",
        "          if len(df_regression[df_regression['language_bins'] == b]) > 0]\n",
        "\n",
        "if len(groups) > 1:  # at least two groups\n",
        "    f_stat, p_val = f_oneway(*groups)\n",
        "    print(f\"ANOVA Test: F = {f_stat:.4f}, p = {p_val:.4f}\")\n",
        "else:\n",
        "    print(\"ANOVA cannot be performed: Not enough non-empty groups.\")\n"
      ]
    },
    {
      "cell_type": "markdown",
      "metadata": {},
      "source": [
        "### Interpretation of ANOVA Results: Number of Supported Languages vs. Player Count\n",
        "\n",
        "- F-statistic = 10413.1380, **p-value = 0.0000**  \n",
        "- Since **p < 0.05**, we **reject the null hypothesis (H_0)**.  \n",
        "- This indicates a **statistically significant difference** in the **number of players across language support bins**.  "
      ]
    },
    {
      "cell_type": "markdown",
      "metadata": {},
      "source": [
        "### 4. Do expensive vs. cheap games have different likelihoods of being cross-platform?\n",
        "#### Variables and groups\n",
        "* price category (high/low) vs. single vs. multi-platform.\n",
        "\n",
        "#### Test Used: Chi-Square Test of Independence\n",
        "* Both variables are categorical, and we want to test for association.\n",
        "\n",
        "#### Null Hypothesis\n",
        "There is no significant association between a game’s price category (high/low) and whether it is single-platform or multi-platform.\n",
        "\n",
        "#### Alternative Hypothesis\n",
        "There is a significant association between a game’s price category and its likelihood of being cross-platform."
      ]
    },
    {
      "cell_type": "code",
      "execution_count": null,
      "metadata": {},
      "outputs": [],
      "source": [
        "tidy_game_info_cp.columns"
      ]
    },
    {
      "cell_type": "code",
      "execution_count": null,
      "metadata": {},
      "outputs": [],
      "source": [
        "from scipy.stats import chi2_contingency\n",
        "\n",
        "df_price_platform = tidy_game_info_cp[['title', 'price_usd', 'platform']].dropna(subset=['price_usd', 'platform']).drop_duplicates()\n",
        "\n",
        "# price categories based on median price\n",
        "median_price = df_price_platform['price_usd'].median()\n",
        "df_price_platform['price_category'] = np.where(df_price_platform['price_usd'] <= median_price, 'Cheap', 'Expensive')"
      ]
    },
    {
      "cell_type": "code",
      "execution_count": null,
      "metadata": {},
      "outputs": [],
      "source": [
        "df_price_platform.duplicated().sum()"
      ]
    },
    {
      "cell_type": "code",
      "execution_count": null,
      "metadata": {},
      "outputs": [],
      "source": [
        "# classify: single-platform or cross-platform\n",
        "platform_counts = df_price_platform.groupby('title')['platform'].nunique().reset_index()\n",
        "platform_counts.rename(columns={'platform': 'num_platforms'}, inplace=True)\n",
        "\n",
        "df_price_platform = df_price_platform.merge(platform_counts, on='title', how='left')\n",
        "\n",
        "df_price_platform['platform_type'] = np.where(df_price_platform['num_platforms'] > 1, 'Multi-Platform', 'Single-Platform')\n",
        "\n",
        "print(df_price_platform['num_platforms'].value_counts())\n"
      ]
    },
    {
      "cell_type": "code",
      "execution_count": null,
      "metadata": {},
      "outputs": [],
      "source": [
        "contingency_table = pd.crosstab(df_price_platform['price_category'], df_price_platform['platform_type'])\n",
        "\n",
        "chi2_stat, p_val, dof, expected = chi2_contingency(contingency_table)\n",
        "\n",
        "print(f\"Chi-Square Test: χ² = {chi2_stat:.4f}, p-value = {p_val:.4f}\")\n",
        "\n",
        "if p_val < 0.05:\n",
        "    print(\"Reject H0: There is a significant association between game price category and platform availability.\")\n",
        "else:\n",
        "    print(\"Fail to reject H0: No significant association between game price category and platform availability.\")"
      ]
    },
    {
      "cell_type": "markdown",
      "metadata": {},
      "source": [
        "### Interpretation of Chi-Square Test\n",
        "- χ² = 3.9091, **p = 0.0480**  \n",
        "- Since **p < 0.05**, we **reject the null hypothesis (\\(H_0\\))**.  \n",
        "- This indicates a **statistically significant association** between a game’s price category (cheap vs. expensive) and its likelihood of being cross-platform."
      ]
    },
    {
      "cell_type": "markdown",
      "metadata": {},
      "source": [
        "## Graphical analysis\n",
        "Create various types of plots to visualize relationships within your data. Use histograms, bar charts, scatter plots, box plots, and any other suitable graphical representations you've learned.\n",
        "Be sure to use appropriate titles, labels, and legends to make your plots readable and informative.\n",
        "Interpret the graphical representations to uncover patterns, trends, and outliers."
      ]
    },
    {
      "cell_type": "markdown",
      "metadata": {},
      "source": [
        "### 1. **Game dedication** across countries: Which countries have the most dedicated gamers?\n",
        "- measured by achievements earned per player\n",
        "- visualization type: heatmap (?) showing achievements per player by country.\n"
      ]
    },
    {
      "cell_type": "markdown",
      "metadata": {},
      "source": [
        "### 1.1 Profile analysis of the most dedicated gamers per country"
      ]
    },
    {
      "cell_type": "markdown",
      "metadata": {},
      "source": [
        "### 2. How do the top 10 most **expensive** games compare in terms of player purchases and achievements?\n",
        "- Another way to put: are expensive games are widely played?\n",
        "- visualization type: scatterplot of price vs. player count, colored by genre."
      ]
    },
    {
      "cell_type": "markdown",
      "metadata": {},
      "source": [
        "### 3. How do achievement completion rates compare across platforms for the top 10 most **purchased** cross-platform games?\n",
        "- visualization type: stacked bar chart for the distribution of achievement completion rates per game, grouped by platform."
      ]
    },
    {
      "cell_type": "markdown",
      "metadata": {},
      "source": [
        "### 4. How does the number of **supported languages** vary across different genres, and does that affect purchases?\n",
        "- Another way to put: Do certain genres prioritize localization more? Does that lead to more sales?\n",
        "- visualization type: boxplot for the number of supported languages grouped by genre, with another layer for player counts."
      ]
    },
    {
      "cell_type": "markdown",
      "metadata": {},
      "source": [
        "### 5. Do more **engaging** cross-platform games have faster or slower completion rates (player retention)?\n",
        "- helpful - number of users who found the review helpful\n",
        "- funny - number of users who found the review funny\n",
        "- awards - number of awards given to the review"
      ]
    },
    {
      "cell_type": "markdown",
      "metadata": {},
      "source": [
        "## Comparative Analysis\n",
        ">Compare and contrast different subsets of your data. This can include comparisons over time, across different categories, or any other relevant segmentation.  Note that for some projects, the nature of this comparative analysis will be obvious.  For others, you will need to think about how you might subset your data."
      ]
    },
    {
      "cell_type": "markdown",
      "metadata": {},
      "source": [
        "In this section, we conduct a comparative analysis to explore how various aspects of gaming behavior and trends differ across platforms. By segmenting the data based on gaming platforms, we aim to uncover key differences in game ownership patterns, game popularity, release trends, and genre evolution. The primary subsets used in this analysis include:\n",
        "\n",
        "- Platform-Based Subsets: The core comparison is across different gaming platforms, allowing us to examine how user behavior varies between them.\n",
        "- Genre-Based Subsets: We analyze how different genres perform across platforms, focusing on ownership, prise, and released years.\n",
        "- Temporal Subsets: For analyses related to game release periods and genre trends, we incorporate a time-based perspective to understand historical shifts in gaming preferences."
      ]
    },
    {
      "cell_type": "markdown",
      "metadata": {},
      "source": [
        "### 1. **Platform-Based Differences in Game Ownership**\n",
        "- **Chosen Subset**: Players who own games on different platforms.\n",
        "- **Analysis**: Compare the number of games owned across platforms."
      ]
    },
    {
      "cell_type": "markdown",
      "metadata": {},
      "source": [
        "We first count the number of games each player owns by counting the number of unique `gameid` in the `library` column of the purchased_games dataframe. "
      ]
    },
    {
      "cell_type": "code",
      "execution_count": null,
      "metadata": {},
      "outputs": [],
      "source": [
        "import warnings\n",
        "warnings.filterwarnings(\"ignore\")\n",
        "steam_library = steam_purchased_games['library'].apply(lambda x: x.count(',') + 1 if isinstance(x, str) and x != '[]' else 0)\n",
        "ps_library = ps_purchased_games['library'].apply(lambda x: x.count(',') + 1 if isinstance(x, str) and x != '[]' else 0)\n",
        "xbox_library = xbox_purchased_games['library'].apply(lambda x: x.count(',') + 1 if isinstance(x, str) and x != '[]' else 0)\n",
        "# Combine the library sizes into a single DataFrame for better visualization\n",
        "library_sizes = pd.DataFrame({\n",
        "    'Platform': ['Steam'] * len(steam_library) + ['PlayStation'] * len(ps_library) + ['Xbox'] * len(xbox_library),\n",
        "    'Library Size': pd.concat([steam_library, ps_library, xbox_library])\n",
        "})"
      ]
    },
    {
      "cell_type": "code",
      "execution_count": null,
      "metadata": {},
      "outputs": [],
      "source": [
        "# summarize the library sizes\n",
        "library_summary = library_sizes.groupby('Platform')['Library Size'].describe()\n",
        "library_summary = library_summary.rename(columns={\n",
        "    'count': 'Count', \n",
        "    'mean': 'Mean', \n",
        "    'std': 'Std Dev', \n",
        "    'min': 'Min', \n",
        "    '25%': '25th Percentile', \n",
        "    '50%': 'Median', \n",
        "    '75%': '75th Percentile', \n",
        "    'max': 'Max'\n",
        "})\n",
        "library_summary = library_summary.reset_index()\n",
        "library_summary = library_summary.round(2)\n",
        "print(library_summary)"
      ]
    },
    {
      "cell_type": "markdown",
      "metadata": {},
      "source": [
        "Then we create a boxplot to visualize the distribution of game ownership across platforms."
      ]
    },
    {
      "cell_type": "code",
      "execution_count": null,
      "metadata": {},
      "outputs": [],
      "source": [
        "# Create a boxplot to visualize the distribution of library sizes across platforms\n",
        "plt.figure(figsize=(10, 6))\n",
        "sns.boxplot(x='Platform', y='Library Size', data=library_sizes, palette='Set2')\n",
        "plt.title('Distribution of Library Sizes Across Platforms')\n",
        "plt.xlabel('Platform')\n",
        "plt.ylabel('Library Size (Number of Games)')\n",
        "plt.yscale('log')  # log scale for better visualization\n",
        "plt.tight_layout()\n",
        "plt.show()"
      ]
    },
    {
      "cell_type": "markdown",
      "metadata": {},
      "source": [
        "#### **Key Observations**\n",
        "- **Steam** players tend to own more games on average compared to PlayStation and Xbox players.\n",
        "- The distribution of game ownership is right-skewed for all platforms, indicating that a small number of players own a large number of games."
      ]
    },
    {
      "cell_type": "markdown",
      "metadata": {},
      "source": [
        "### 2. Comparations of Game Popularity Across Platforms\n",
        "- **Chosen Subset**: Game popularity based on the number of players who purchased each game.\n",
        "- **Analysis**: Compare the number of players for the top 500 most popular games across platforms.\n"
      ]
    },
    {
      "cell_type": "markdown",
      "metadata": {},
      "source": [
        "In this analysis, we aim to determine the most owned games among players by extracting game IDs from their Steam libraries and merging this data with an existing dataset of Steam games."
      ]
    },
    {
      "cell_type": "code",
      "execution_count": null,
      "metadata": {},
      "outputs": [],
      "source": [
        "from collections import Counter\n",
        "import re\n",
        "\n",
        "all_games = steam_purchased_games['library'].dropna().astype(str).apply(lambda x: re.findall(r'\\d+', x))\n",
        "game_counts = Counter([game for sublist in all_games for game in sublist])\n",
        "steam_game_counts = pd.DataFrame(game_counts.items(), columns=['game_id', 'count'])\n",
        "\n",
        "# Ensure both columns have the same data type before merging\n",
        "steam_game_counts['game_id'] = steam_game_counts['game_id'].astype(int)\n",
        "steam_games['gameid'] = steam_games['gameid'].astype(int)\n",
        "\n",
        "# merge with steam_games to get game info\n",
        "steam_game_counts = steam_game_counts.merge(steam_games, left_on='game_id', right_on='gameid', how='inner').drop(columns=['gameid'])\n",
        "# sort by count\n",
        "steam_game_counts = steam_game_counts.sort_values(by='count', ascending=False).reset_index(drop=True)\n",
        "steam_game_counts.head(10)"
      ]
    },
    {
      "cell_type": "code",
      "execution_count": null,
      "metadata": {},
      "outputs": [],
      "source": [
        "all_games = ps_purchased_games['library'].dropna().astype(str).apply(lambda x: re.findall(r'\\d+', x))\n",
        "game_counts = Counter([game for sublist in all_games for game in sublist])\n",
        "ps_game_counts = pd.DataFrame(game_counts.items(), columns=['game_id', 'count'])\n",
        "# Ensure both columns have the same data type before merging\n",
        "ps_game_counts['game_id'] = ps_game_counts['game_id'].astype(int)\n",
        "ps_games['gameid'] = ps_games['gameid'].astype(int)\n",
        "# merge with ps_games to get game info\n",
        "ps_game_counts = ps_game_counts.merge(ps_games, left_on='game_id', right_on='gameid', how='inner').drop(columns=['gameid'])\n",
        "# sort by count\n",
        "ps_game_counts = ps_game_counts.sort_values(by='count', ascending=False).reset_index(drop=True)\n",
        "ps_game_counts.head(10)"
      ]
    },
    {
      "cell_type": "code",
      "execution_count": null,
      "metadata": {},
      "outputs": [],
      "source": [
        "all_games = xbox_purchased_games['library'].dropna().astype(str).apply(lambda x: re.findall(r'\\d+', x))\n",
        "game_counts = Counter([game for sublist in all_games for game in sublist])\n",
        "xb_game_counts = pd.DataFrame(game_counts.items(), columns=['game_id', 'count'])\n",
        "# Ensure both columns have the same data type before merging\n",
        "xb_game_counts['game_id'] = xb_game_counts['game_id'].astype(int)\n",
        "xbox_games['gameid'] = xbox_games['gameid'].astype(int)\n",
        "# merge with xbox_games to get game info\n",
        "xb_game_counts = xb_game_counts.merge(xbox_games, left_on='game_id', right_on='gameid', how='inner').drop(columns=['gameid'])\n",
        "# sort by count\n",
        "xb_game_counts = xb_game_counts.sort_values(by='count', ascending=False).reset_index(drop=True)\n",
        "xb_game_counts.head(10)\n"
      ]
    },
    {
      "cell_type": "markdown",
      "metadata": {},
      "source": [
        "#### **Key Observations**\n",
        "- The most popular game on **Steam** is **Counter-Strike Global Offensive**, with a staggering 1,000,000+ players.\n",
        "- On **PlayStation**, the most popular game is **Call of Duty: Modern Warfare**, with over 500,000 players.\n",
        "- The most popular game on **Xbox** is **Fortnite**, with over 300,000 players.\n",
        "- The popularity of games varies significantly across platforms, with rare games overlapping between platforms."
      ]
    },
    {
      "cell_type": "markdown",
      "metadata": {},
      "source": [
        "### 3. The Evolution of Popular Games: Comparing Release Peaks Across Gaming Platforms\n",
        "- **Chosen Subset**: Release year distribution for the top 500 games of different platforms.\n",
        "- **Analysis**: We analyze the release year distribution for the top 500 games across platforms to understand how game popularity has evolved over time.\n"
      ]
    },
    {
      "cell_type": "code",
      "execution_count": null,
      "metadata": {},
      "outputs": [],
      "source": [
        "top_500_steam_games = steam_game_counts.head(500)\n",
        "top_500_ps_games = ps_game_counts.head(500)\n",
        "top_500_xb_games = xb_game_counts.head(500)\n",
        "\n",
        "top_500_steam_games['release_year'] = pd.to_datetime(top_500_steam_games['release_date']).dt.year\n",
        "top_500_ps_games['release_year'] = pd.to_datetime(top_500_ps_games['release_date']).dt.year\n",
        "top_500_xb_games['release_year'] = pd.to_datetime(top_500_xb_games['release_date']).dt.year\n",
        "\n",
        "steam_release_years = top_500_steam_games['release_year'].value_counts().sort_index()\n",
        "ps_release_years = top_500_ps_games['release_year'].value_counts().sort_index()\n",
        "xb_release_years = top_500_xb_games['release_year'].value_counts().sort_index()\n",
        "# Display the release year distributions for the top 500 games on each platform\n",
        "plt.figure(figsize=(12, 6))\n",
        "plt.plot(steam_release_years.index, steam_release_years.values, label='Steam', marker='o')\n",
        "plt.plot(ps_release_years.index, ps_release_years.values, label='PlayStation', marker='^')\n",
        "plt.plot(xb_release_years.index, xb_release_years.values, label='Xbox', marker='s')\n",
        "plt.title('Release Year Distribution of Top 500 Games Across Platforms')\n",
        "plt.xlabel('Release Year')\n",
        "plt.ylabel('Number of Games')\n",
        "plt.legend()\n",
        "plt.grid()\n",
        "plt.xticks(rotation=45)\n",
        "plt.tight_layout()\n",
        "plt.show()"
      ]
    },
    {
      "cell_type": "markdown",
      "metadata": {},
      "source": [
        "#### **Key Observations**\n",
        "- The **golden age** for game on all platforms appears to be around 2015, with a significant spike in the number of the most popular games released.\n",
        "- For **Steam**, it contans more classical games released before 2005, which are still popular today, indicating a longer lifespan for these games.\n",
        "- For **Xbox**, it shows a rapid increase in 2010, aheading the other two platforms, while dying down earlier than the others.\n"
      ]
    },
    {
      "cell_type": "markdown",
      "metadata": {},
      "source": [
        "### 4. Shifting Trends in Game Genres: A Cross-Platform Temporal Comparison\n",
        "- **Chosen Subset**: Genre distribution for the top 500 games of different platforms.\n",
        "- **Analysis**: We analyze the genre distribution for the top 500 games across platforms to understand how game genres have evolved over time."
      ]
    },
    {
      "cell_type": "markdown",
      "metadata": {},
      "source": [
        "#### 4.1 **Top Game Genres Across Platforms**\n",
        "This analysis aims to identify and compare the **most common genres** among the **top 500 games** for **Steam, PlayStation, and Xbox**. "
      ]
    },
    {
      "cell_type": "code",
      "execution_count": null,
      "metadata": {},
      "outputs": [],
      "source": [
        "def extract_genres_and_years(df):\n",
        "    genres_list = df['genres'].dropna().apply(lambda x: [g.strip() for g in x.strip(\"[]\").replace(\"'\", \"\").split(', ')])\n",
        "    years_list = df['release_year']\n",
        "    return genres_list.tolist(), years_list.tolist()\n",
        "\n",
        "steam_genres, steam_years = extract_genres_and_years(top_500_steam_games)\n",
        "ps_genres, ps_years = extract_genres_and_years(top_500_ps_games)\n",
        "xb_genres, xb_years = extract_genres_and_years(top_500_xb_games)"
      ]
    },
    {
      "cell_type": "code",
      "execution_count": null,
      "metadata": {},
      "outputs": [],
      "source": [
        "# Flatten the list of lists\n",
        "flattened_steam_genres = [genre for sublist in steam_genres for genre in sublist]\n",
        "flattened_ps_genres = [genre for sublist in ps_genres for genre in sublist]\n",
        "flattened_xb_genres = [genre for sublist in xb_genres for genre in sublist]\n",
        "\n",
        "steam_genre_counts = Counter(flattened_steam_genres)\n",
        "ps_genre_counts = Counter(flattened_ps_genres)\n",
        "xb_genre_counts = Counter(flattened_xb_genres)\n",
        "\n",
        "steam_genre_df = pd.DataFrame.from_dict(steam_genre_counts, orient='index', columns=['count']).reset_index().rename(columns={'index': 'genre'})\n",
        "ps_genre_df = pd.DataFrame.from_dict(ps_genre_counts, orient='index', columns=['count']).reset_index().rename(columns={'index': 'genre'})\n",
        "xb_genre_df = pd.DataFrame.from_dict(xb_genre_counts, orient='index', columns=['count']).reset_index().rename(columns={'index': 'genre'})\n",
        "# Merge the genre dataframes for all platforms\n",
        "merged_genre_df = steam_genre_df.merge(ps_genre_df, on='genre', how='outer', suffixes=('_steam', '_ps'))\n",
        "merged_genre_df = merged_genre_df.merge(xb_genre_df, on='genre', how='outer', suffixes=('', '_xb'))\n",
        "merged_genre_df.fillna(0, inplace=True)\n",
        "merged_genre_df.columns = ['genre', 'count_steam', 'count_ps', 'count_xb']\n",
        "# Normalize the counts to get percentages\n",
        "total_counts = merged_genre_df[['count_steam', 'count_ps', 'count_xb']].sum()\n",
        "merged_genre_df['percentage_steam'] = (merged_genre_df['count_steam'] / total_counts['count_steam']) * 100\n",
        "merged_genre_df['percentage_ps'] = (merged_genre_df['count_ps'] / total_counts['count_ps']) * 100\n",
        "merged_genre_df['percentage_xb'] = (merged_genre_df['count_xb'] / total_counts['count_xb']) * 100\n",
        "# Sort the genres by total count across all platforms\n",
        "merged_genre_df['total_count'] = merged_genre_df[['count_steam', 'count_ps', 'count_xb']].sum(axis=1)\n",
        "merged_genre_df.sort_values(by='total_count', ascending=False, inplace=True)\n",
        "# Plot the genre distribution for the top 500 games across platforms\n",
        "print(merged_genre_df.head(10))"
      ]
    },
    {
      "cell_type": "markdown",
      "metadata": {},
      "source": [
        "Then we create a bar plot to visualize the distribution of game genres across platforms."
      ]
    },
    {
      "cell_type": "code",
      "execution_count": null,
      "metadata": {},
      "outputs": [],
      "source": [
        "plt.figure(figsize=(18, 6))\n",
        "\n",
        "plt.subplot(1, 3, 1)\n",
        "sns.barplot(x='count', y='genre', data=steam_genre_df.sort_values(by='count', ascending=False).head(20), palette='viridis')\n",
        "plt.title('Top 20 Genres in Top 500 Steam Games')\n",
        "plt.xlabel('Count')\n",
        "plt.ylabel('Genre')\n",
        "\n",
        "plt.subplot(1, 3, 2)\n",
        "sns.barplot(x='count', y='genre', data=ps_genre_df.sort_values(by='count', ascending=False).head(20), palette='viridis')\n",
        "plt.title('Top 20 Genres in Top 500 PlayStation Games')\n",
        "plt.xlabel('Count')\n",
        "plt.ylabel('Genre')\n",
        "\n",
        "plt.subplot(1, 3, 3)\n",
        "sns.barplot(x='count', y='genre', data=xb_genre_df.sort_values(by='count', ascending=False).head(20), palette='viridis')\n",
        "plt.title('Top 20 Genres in Top 500 Xbox Games')\n",
        "plt.xlabel('Count')\n",
        "plt.ylabel('Genre')\n",
        "\n",
        "plt.tight_layout()\n",
        "plt.show()"
      ]
    },
    {
      "cell_type": "markdown",
      "metadata": {},
      "source": [
        "##### **Key Observations**\n",
        "- The most common genre across all platforms is **Action**, followed by **Adventure** and **RPG**.\n",
        "- **Steam** has a more diverse range of genres, with a significant number of **Indie** and **Simulation** games.\n",
        "- **PlayStation** and **Xbox** have a higher concentration of **Action** and **Adventure** games, indicating a preference for these genres among their player bases."
      ]
    },
    {
      "cell_type": "markdown",
      "metadata": {},
      "source": [
        "#### 4.2 **Game Genre Trends Over Time**\n",
        "In this analysis, we aim to determine how game genres have evolved over time across platforms."
      ]
    },
    {
      "cell_type": "code",
      "execution_count": null,
      "metadata": {},
      "outputs": [],
      "source": [
        "def count_genres_by_year(genres, years):\n",
        "    genre_year_counts = {}\n",
        "    for genre_list, year in zip(genres, years):\n",
        "        for genre in genre_list:\n",
        "            if genre not in genre_year_counts:\n",
        "                genre_year_counts[genre] = Counter()\n",
        "            genre_year_counts[genre][year] += 1\n",
        "    return genre_year_counts\n",
        "\n",
        "steam_genre_year_counts = count_genres_by_year(steam_genres, steam_years)\n",
        "ps_genre_year_counts = count_genres_by_year(ps_genres, ps_years)\n",
        "xb_genre_year_counts = count_genres_by_year(xb_genres, xb_years)\n",
        "\n",
        "def get_top_genres(genre_year_counts, top_n=5):\n",
        "    total_counts = {genre: sum(year_counts.values()) for genre, year_counts in genre_year_counts.items()}\n",
        "    top_genres = sorted(total_counts, key=total_counts.get, reverse=True)[:top_n]\n",
        "    return top_genres"
      ]
    },
    {
      "cell_type": "code",
      "execution_count": null,
      "metadata": {},
      "outputs": [],
      "source": [
        "top_5_steam_genres = get_top_genres(steam_genre_year_counts)\n",
        "top_5_ps_genres = get_top_genres(ps_genre_year_counts)\n",
        "top_5_xb_genres = get_top_genres(xb_genre_year_counts)\n",
        "print(f\"Top 5 Steam Genres: {top_5_steam_genres}\")\n",
        "def plot_genre_trends(genre_year_counts, top_genres, platform_name):\n",
        "    \"\"\"\n",
        "    Plots the trends of the top genres over years for a specific platform.\n",
        "\n",
        "    Args:\n",
        "    genre_year_counts (dict): Dictionary where keys are genres and values are year-wise counts.\n",
        "    top_genres (list): List of top genres to plot.\n",
        "    platform_name (str): The name of the platform.\n",
        "    \"\"\"\n",
        "    plt.figure(figsize=(14, 8))\n",
        "    \n",
        "    for genre in top_genres:\n",
        "        years = sorted(genre_year_counts[genre].keys())\n",
        "        counts = [genre_year_counts[genre][year] for year in years]\n",
        "        plt.plot(years, counts, marker='o', label=genre)\n",
        "    \n",
        "    plt.title(f'Top 5 Genre Trends Over Years on {platform_name}')\n",
        "    plt.xlabel('Year')\n",
        "    plt.ylabel('Count')\n",
        "    plt.legend()\n",
        "    plt.grid(True)\n",
        "    plt.show()\n",
        "\n",
        "# Plot trends for each platform\n",
        "plot_genre_trends(steam_genre_year_counts, top_5_steam_genres, 'Steam')\n",
        "plot_genre_trends(ps_genre_year_counts, top_5_ps_genres, 'PlayStation')\n",
        "plot_genre_trends(xb_genre_year_counts, top_5_xb_genres, 'Xbox')"
      ]
    },
    {
      "cell_type": "markdown",
      "metadata": {},
      "source": [
        "##### **Key Observations**\n",
        "- The **Action** genre has consistently remained popular across all platforms, domaining the game genre landscape over years.\n",
        "- The **open-world** genre has seen a significant rise on **PlayStation** around 2015-2018, which may attribute to the success of games like **zelda: breath of the wild** and **red dead redemption 2**.\n",
        "- The **Free-to-play** genre see a rapid increase on **Playstation** in 2020, which may be due to the rise of free games."
      ]
    },
    {
      "cell_type": "markdown",
      "metadata": {},
      "source": [
        "## Multivariate Analysis\n",
        "> Perform multivariate analysis to understand the relationships among three or more variables in your dataset. Use techniques like cross-tabulation, pivot tables, and multivariate graphs.\n"
      ]
    },
    {
      "cell_type": "markdown",
      "metadata": {},
      "source": [
        "### 1. Cross-Tabulation: Game developers across platforms"
      ]
    },
    {
      "cell_type": "code",
      "execution_count": null,
      "metadata": {},
      "outputs": [],
      "source": [
        "game_info = merged_game_info.copy()\n",
        "game_info['developers'] = game_info['developers'].dropna().apply(lambda x: x.strip(\"[]\").replace(\"'\", \"\").split(', '))\n",
        "game_info['genres'] = game_info['genres'].dropna().apply(lambda x: x.strip(\"[]\").replace(\"'\", \"\").split(', '))\n",
        "game_info_exploded = game_info.explode('developers')\n",
        "\n",
        "# Create a cross-tabulation of genres by platform\n",
        "developer_platform_ct = pd.crosstab(game_info_exploded['developers'], game_info_exploded['platform'])\n",
        "developer_platform_ct = developer_platform_ct.loc[(developer_platform_ct != 0).any(axis=1)]\n",
        "developer_platform_ct = developer_platform_ct[developer_platform_ct.sum(axis=1) > 10]  # filter out low counts\n",
        "developer_platform_ct = developer_platform_ct.sort_values(by=list(developer_platform_ct.columns), ascending=False)\n",
        "print('Developer-Platform Cross Tabulation:')\n",
        "print(developer_platform_ct.head(20))"
      ]
    },
    {
      "cell_type": "markdown",
      "metadata": {},
      "source": [
        "#### **Key Observations**\n",
        "- The **cross-tabulation** of game developers across platforms reveals that certain developers are more prevalent on specific platforms.\n",
        "- For example, **ChiliDog Interactive** is primarily associated with **PlayStation**."
      ]
    },
    {
      "cell_type": "markdown",
      "metadata": {},
      "source": [
        "### 2. Pivot Table: Average Game Price by Genre and Platform"
      ]
    },
    {
      "cell_type": "code",
      "execution_count": null,
      "metadata": {},
      "outputs": [],
      "source": [
        "\n",
        "game_info_exploded = game_info.explode('genres')\n",
        "price_pivot = game_info_exploded.pivot_table(index='genres', columns='platform', values='usd', aggfunc='mean').dropna()\n",
        "print('Average Price by Genre and Platform(USD):')\n",
        "print(price_pivot.head(10))\n",
        "# Plot the average price by genre and platform\n",
        "plt.figure(figsize=(12, 6))\n",
        "price_pivot.head(10).plot(kind='bar', figsize=(12, 6))\n",
        "plt.title('Average Price by Genre and Platform (USD)')\n",
        "plt.xlabel('Genre')\n",
        "plt.ylabel('Average Price (USD)')\n",
        "plt.xticks(rotation=45)\n",
        "plt.legend(title='Platform')\n",
        "plt.tight_layout()\n",
        "plt.show()"
      ]
    },
    {
      "cell_type": "markdown",
      "metadata": {},
      "source": [
        "#### **Key Observations**\n",
        "- The **pivot table** and the bar plot show that certain genres tend to be more expensive on specific platforms.\n",
        "- For instance, **RPG** games are generally more expensive on **PlayStation** compared to **Steam** and **Xbox**."
      ]
    },
    {
      "cell_type": "markdown",
      "metadata": {},
      "source": [
        "### 3. Multivariate Graph: Game Popularity by Genre, Prise, and Release Year"
      ]
    },
    {
      "cell_type": "code",
      "execution_count": null,
      "metadata": {},
      "outputs": [],
      "source": [
        "# Combine top 500 games data from all platforms\n",
        "top_500_games = pd.concat([top_500_ps_games, top_500_steam_games, top_500_xb_games])\n",
        "\n",
        "# Explode genres to have one genre per row\n",
        "top_500_games_exploded = top_500_games.explode('genres')\n",
        "top_500_games_usd = game_info[game_info['gameid'].isin(top_500_games_exploded['game_id'])][['gameid', 'usd']]\n",
        "\n",
        "top_500_games_exploded['num_supported_languages'] = top_500_games_exploded['supported_languages'].apply(lambda x: x.count(';') + 1 if isinstance(x, str) and x != '' else 0)\n",
        "\n",
        "\n",
        "top_500_games_exploded['genres'] = top_500_games_exploded['genres'].apply(lambda x: x.split(',')[0] if isinstance(x, str) else x)\n",
        "top_500_games_data = top_500_games_exploded.merge(top_500_games_usd, left_on='game_id', right_on='gameid', how='left')\n",
        "top_500_games_data = top_500_games_data[['title', 'count', 'release_year', 'num_supported_languages', 'genres', 'usd']]\n",
        "\n",
        "heatmap_data = top_500_games_data.pivot_table(index='genres', columns='release_year', values='usd', aggfunc='mean')\n",
        "\n",
        "plt.figure(figsize=(12, 8))\n",
        "sns.heatmap(heatmap_data, annot=True, fmt=\".2f\", cmap=\"YlGnBu\")\n",
        "plt.title('Heatmap of Average USD by Genre and Release Year')\n",
        "plt.xlabel('Release Year')\n",
        "plt.ylabel('Genre')\n",
        "plt.show()"
      ]
    },
    {
      "cell_type": "markdown",
      "metadata": {},
      "source": [
        "#### **Key Observations**\n",
        "- Games with more popular genres tend to have higher prices, such as **Action**,**Adventure**, and **Automobile**.\n",
        "- Games released in the last few years (2018-2022) tend to be more expensive."
      ]
    }
  ],
  "metadata": {
    "colab": {
      "provenance": []
    },
    "kernelspec": {
      "display_name": ".venv",
      "language": "python",
      "name": "python3"
    },
    "language_info": {
      "codemirror_mode": {
        "name": "ipython",
        "version": 3
      },
      "file_extension": ".py",
      "mimetype": "text/x-python",
      "name": "python",
      "nbconvert_exporter": "python",
      "pygments_lexer": "ipython3",
      "version": "3.11.2"
    }
  },
  "nbformat": 4,
  "nbformat_minor": 0
}
