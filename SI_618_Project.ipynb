{
  "cells": [
    {
      "cell_type": "markdown",
      "metadata": {
        "id": "yfPJRLpyQTnG"
      },
      "source": [
        "# SI 618 WN Project Part I"
      ]
    },
    {
      "cell_type": "markdown",
      "metadata": {
        "id": "WN3jWuTDQjpX"
      },
      "source": [
        "## Project Title:\n",
        "> Provide a descriptive working title for your project.\n",
        "\n",
        "**Game Sales, Popularity, and Achievements: A Comparative Analysis Across Platforms**"
      ]
    },
    {
      "cell_type": "markdown",
      "metadata": {
        "id": "raGqyFicQ4Zw"
      },
      "source": [
        "## Team Members\n",
        "> List each team member and include their uniqname\n",
        "\n",
        "* Yufeng Song (yfsong)\n",
        "* Ziqi Wang (Venchy)\n",
        "* Muyu Lin (linmuyu)"
      ]
    },
    {
      "cell_type": "markdown",
      "metadata": {
        "id": "QcquQf5KQ_X7"
      },
      "source": [
        "## Overview\n",
        "> Give a high level description of your project\n",
        "\n",
        "Our project explores key trends in the gaming industry by analyzing data on game sales, player achievements, and platform preferences. We aim to understand how the same game performs across different platforms, how purchasing preferences vary across countries, and how game popularity evolves over time. Additionally, we will investigate the relationship between supported languages and sales, as well as the impact of pricing on game popularity across multiple platforms. By analyzing these factors, we hope to uncover insights into player behavior, market trends, and factors influencing game success."
      ]
    },
    {
      "cell_type": "markdown",
      "metadata": {
        "id": "x9oLjLuaREDo"
      },
      "source": [
        "## Motivation\n",
        "> Explain why you chose this particular topic for your project.\tInclude the three \"real-world\" questions that you generated about the data, and be sure to explain what you hope to learn by answering them.\n",
        "\n",
        "We chose this topic because gaming is a massive industry with a highly diverse audience, and understanding player preferences and market trends can provide valuable insights for developers, publishers, and gaming communities. Our project aims to answer the following real-world questions:\n",
        "\n",
        "1. **How do game genres, game pricing, and in-game achievements differ across platforms for the same game?**\n",
        "\n",
        "  - By analyzing achievement data, we aim to understand whether players engage with a game differently depending on the platform they use. This could reveal differences in play styles, game difficulty adjustments, or platform-specific engagement trends.\n",
        "\n",
        "2. **How do game purchase preferences vary by country?**\n",
        "\n",
        "  - We seek to determine whether purchasing behaviors differ based on regional preferences. Understanding this can help developers tailor their marketing strategies and optimize game pricing for different audiences.\n",
        "\n",
        "3. **How has the popularity of different game types changed over time (`release_date`)?**\n",
        "\n",
        "  - By tracking shifts in game genre popularity over time, we hope to uncover trends that indicate the rise and fall of specific genres. This insight could be useful for predicting future market demands and guiding game development strategies.\n",
        "\n",
        "\n",
        "By answering these questions, we hope to gain a deeper understanding of the gaming landscape, helping stakeholders make data-driven decisions about game development, pricing, and distribution strategies."
      ]
    },
    {
      "cell_type": "markdown",
      "metadata": {
        "id": "K7C9NO8rRJVm"
      },
      "source": [
        "## Data Sources\n",
        "> List the two (or more) sources of data that you'll be using.  Provide URLs where appropriate.\t**Explain how the two (or more) datasets complement each other.**\n",
        "\n",
        "1. https://www.kaggle.com/datasets/artyomkruglov/gaming-profiles-2025-steam-playstation-xbox\n",
        "\n",
        "2. https://github.com/Smipe-a/gamestatshub\n",
        "\n",
        "- This Gaming Profiles Data from Kaggle include **game** and **player** data from three different **platforms**, PlayStation, Steam, and Xbox.\n",
        "- For each platform, the **player** and **game** data is complemented by **achievement** data. The relationships between players, games, and achievements are one-to-many: each player can play multiple games, and each game can have multiple achievements.\n",
        "- Data from the three platforms can be combined based on **game titles** to analyze shared games across platforms."
      ]
    },
    {
      "cell_type": "markdown",
      "metadata": {
        "id": "0YtT1IrhRNua"
      },
      "source": [
        "## Data Description\n",
        "> List the variables of interest, the size of the data sets, missing values, etc.\n",
        "\n",
        "### Common Datasets Across 3 Platforms & Variables of Interest:\n",
        "\n",
        "#### Player Metadata\n",
        "- **players.csv**: platform-specific `playerid` and `country` (Xbox data lacks country column)\n",
        "- **purchased_games.csv** lists players' purchased games, with:\n",
        "    - `playerid`\n",
        "    - `libarary`: a list of games the player bought.\n",
        "- **history.csv**: when the player unlocked the achievement.\n",
        "    - `playerid`\n",
        "    - `achievementid`\n",
        "    - `date_acquired`\n",
        "\n",
        "#### Game Metadata\n",
        "- **games.csv**: game details such as `genres`, `developers`, `publishers`, `supported_language`, and `release_date`.\n",
        "- **achievements.csv** maps achievements to their respective game, with:\n",
        "    - `achievementid` combines the uniqe game id on the platform and the achievement id within the game\n",
        "    - `gameid`\n",
        "    - `title`\n",
        "    - `description`\n",
        "- **prices.csv**: games' price in various currencies, with `date_acquired` indicating the date when the price was recorded."
      ]
    },
    {
      "cell_type": "markdown",
      "metadata": {
        "id": "E5HpR2qjRRle"
      },
      "source": [
        "## Data Manipulation\n",
        "> Mostly code in this section.  This is where you merge your data sets, as well as create new columns (if appropriate)\n",
        "\n",
        "#### Merged Datasets Explained - Flattened Table For Raw Analysis\n",
        "- Platform-Specific Datasets:\n",
        "    - Player-Info Dataset: merged on `playerid`\n",
        "    - Game-Info Dataset: merged on `gameid`\n",
        "- Cross-Platform Game Dataset: merged on game `title` to combine shared game data from all three platforms.\n",
        "\n",
        "**Notes**: \n",
        "- In all the merged datasets, there are duplicated gameid/playerid after merge due to the one-to-many relationship between players, games, and achievements. \n",
        "- In the corss-platform game table, there are duplicated game titles across platforms."
      ]
    },
    {
      "cell_type": "code",
      "execution_count": 2,
      "metadata": {
        "id": "lUJY9fwwQVGD"
      },
      "outputs": [],
      "source": [
        "import pandas as pd\n",
        "import numpy as np\n",
        "import matplotlib.pyplot as plt\n",
        "import seaborn as sns"
      ]
    },
    {
      "cell_type": "markdown",
      "metadata": {},
      "source": [
        "## PS"
      ]
    },
    {
      "cell_type": "code",
      "execution_count": 3,
      "metadata": {},
      "outputs": [
        {
          "name": "stdout",
          "output_type": "stream",
          "text": [
            "ps_purchased_games - shape: (46582, 2)\n",
            "ps_history - shape: (19510083, 3)\n",
            "ps_prices - shape: (62816, 7)\n",
            "ps_players - shape: (356600, 3)\n",
            "ps_games - shape: (23151, 8)\n",
            "ps_achievements - shape: (846563, 5)\n"
          ]
        }
      ],
      "source": [
        "import os\n",
        "\n",
        "PS_DATA_FOLDER = \"data/ps\"\n",
        "\n",
        "dfs = {}\n",
        "\n",
        "for root, dirs, files in os.walk(PS_DATA_FOLDER):\n",
        "    for file in files:\n",
        "        if file.endswith(\".csv\"):\n",
        "            file_path = os.path.join(root, file)\n",
        "            df_name = f\"{os.path.basename(root)}_{file.replace('.csv', '')}\".replace('.csv', '')  # Clean name\n",
        "            dfs[df_name] = pd.read_csv(file_path)\n",
        "\n",
        "for name, df in dfs.items():\n",
        "    print(f\"{name} - shape: {df.shape}\")"
      ]
    },
    {
      "cell_type": "code",
      "execution_count": 4,
      "metadata": {},
      "outputs": [
        {
          "name": "stdout",
          "output_type": "stream",
          "text": [
            "0\n",
            "32095\n",
            "0\n",
            "0\n",
            "0\n"
          ]
        }
      ],
      "source": [
        "ps_achievements = dfs['ps_achievements']\n",
        "ps_games = dfs['ps_games']\n",
        "ps_history = dfs['ps_history']\n",
        "ps_players = dfs['ps_players']\n",
        "ps_prices = dfs['ps_prices']\n",
        "ps_purchased_games = dfs['ps_purchased_games']\n",
        "\n",
        "# check duplicates\n",
        "print(ps_games.duplicated(subset=[\"gameid\"]).sum())\n",
        "print(ps_prices.duplicated(subset=[\"gameid\"]).sum())\n",
        "print(ps_achievements.duplicated(subset=[\"achievementid\"]).sum())\n",
        "print(ps_players.duplicated(subset=[\"playerid\"]).sum())\n",
        "print(ps_purchased_games.duplicated(subset=[\"playerid\"]).sum())"
      ]
    },
    {
      "cell_type": "code",
      "execution_count": 5,
      "metadata": {},
      "outputs": [
        {
          "data": {
            "text/plain": [
              "gameid\n",
              "726666    3\n",
              "723091    3\n",
              "727730    3\n",
              "727729    3\n",
              "728792    3\n",
              "         ..\n",
              "421567    2\n",
              "421164    2\n",
              "421153    2\n",
              "421368    2\n",
              "423969    2\n",
              "Name: count, Length: 30721, dtype: int64"
            ]
          },
          "execution_count": 5,
          "metadata": {},
          "output_type": "execute_result"
        }
      ],
      "source": [
        "ps_prices['gameid'].value_counts()"
      ]
    },
    {
      "cell_type": "code",
      "execution_count": 6,
      "metadata": {},
      "outputs": [
        {
          "data": {
            "text/html": [
              "<div>\n",
              "<style scoped>\n",
              "    .dataframe tbody tr th:only-of-type {\n",
              "        vertical-align: middle;\n",
              "    }\n",
              "\n",
              "    .dataframe tbody tr th {\n",
              "        vertical-align: top;\n",
              "    }\n",
              "\n",
              "    .dataframe thead th {\n",
              "        text-align: right;\n",
              "    }\n",
              "</style>\n",
              "<table border=\"1\" class=\"dataframe\">\n",
              "  <thead>\n",
              "    <tr style=\"text-align: right;\">\n",
              "      <th></th>\n",
              "      <th>gameid</th>\n",
              "      <th>usd</th>\n",
              "      <th>eur</th>\n",
              "      <th>gbp</th>\n",
              "      <th>jpy</th>\n",
              "      <th>rub</th>\n",
              "      <th>date_acquired</th>\n",
              "    </tr>\n",
              "  </thead>\n",
              "  <tbody>\n",
              "    <tr>\n",
              "      <th>20167</th>\n",
              "      <td>726666</td>\n",
              "      <td>6.99</td>\n",
              "      <td>6.99</td>\n",
              "      <td>5.79</td>\n",
              "      <td>1100.0</td>\n",
              "      <td>NaN</td>\n",
              "      <td>2025-02-22</td>\n",
              "    </tr>\n",
              "    <tr>\n",
              "      <th>50835</th>\n",
              "      <td>726666</td>\n",
              "      <td>6.99</td>\n",
              "      <td>6.99</td>\n",
              "      <td>5.79</td>\n",
              "      <td>1100.0</td>\n",
              "      <td>NaN</td>\n",
              "      <td>2025-02-25</td>\n",
              "    </tr>\n",
              "    <tr>\n",
              "      <th>52307</th>\n",
              "      <td>726666</td>\n",
              "      <td>6.99</td>\n",
              "      <td>6.99</td>\n",
              "      <td>5.79</td>\n",
              "      <td>1100.0</td>\n",
              "      <td>NaN</td>\n",
              "      <td>2025-02-24</td>\n",
              "    </tr>\n",
              "  </tbody>\n",
              "</table>\n",
              "</div>"
            ],
            "text/plain": [
              "       gameid   usd   eur   gbp     jpy  rub date_acquired\n",
              "20167  726666  6.99  6.99  5.79  1100.0  NaN    2025-02-22\n",
              "50835  726666  6.99  6.99  5.79  1100.0  NaN    2025-02-25\n",
              "52307  726666  6.99  6.99  5.79  1100.0  NaN    2025-02-24"
            ]
          },
          "execution_count": 6,
          "metadata": {},
          "output_type": "execute_result"
        }
      ],
      "source": [
        "ps_prices[ps_prices['gameid'] == 726666]"
      ]
    },
    {
      "cell_type": "code",
      "execution_count": 7,
      "metadata": {},
      "outputs": [
        {
          "name": "stdout",
          "output_type": "stream",
          "text": [
            "0\n"
          ]
        }
      ],
      "source": [
        "# for each gameid, keep only the most recent price entry\n",
        "ps_prices = ps_prices.sort_values(\"date_acquired\").drop_duplicates(subset=[\"gameid\"], keep=\"last\")\n",
        "print(ps_prices.duplicated(subset=[\"gameid\"]).sum())"
      ]
    },
    {
      "cell_type": "markdown",
      "metadata": {},
      "source": [
        "### Player focus"
      ]
    },
    {
      "cell_type": "code",
      "execution_count": 104,
      "metadata": {},
      "outputs": [],
      "source": [
        "ps_player_info = ps_players.merge(ps_history, on=\"playerid\", how=\"left\")"
      ]
    },
    {
      "cell_type": "code",
      "execution_count": 105,
      "metadata": {},
      "outputs": [],
      "source": [
        "ps_player_info = ps_player_info.merge(ps_achievements, on=\"achievementid\", how=\"left\")"
      ]
    },
    {
      "cell_type": "code",
      "execution_count": 106,
      "metadata": {},
      "outputs": [],
      "source": [
        "ps_player_info = ps_player_info.merge(ps_purchased_games, on=\"playerid\", how=\"left\")"
      ]
    },
    {
      "cell_type": "code",
      "execution_count": 107,
      "metadata": {},
      "outputs": [
        {
          "name": "stdout",
          "output_type": "stream",
          "text": [
            "<class 'pandas.core.frame.DataFrame'>\n",
            "RangeIndex: 19861683 entries, 0 to 19861682\n",
            "Data columns (total 10 columns):\n",
            " #   Column         Dtype  \n",
            "---  ------         -----  \n",
            " 0   playerid       int64  \n",
            " 1   nickname       object \n",
            " 2   country        object \n",
            " 3   achievementid  object \n",
            " 4   date_acquired  object \n",
            " 5   gameid         float64\n",
            " 6   title          object \n",
            " 7   description    object \n",
            " 8   rarity         object \n",
            " 9   library        object \n",
            "dtypes: float64(1), int64(1), object(8)\n",
            "memory usage: 1.5+ GB\n"
          ]
        }
      ],
      "source": [
        "ps_player_info.info()"
      ]
    },
    {
      "cell_type": "code",
      "execution_count": 108,
      "metadata": {},
      "outputs": [
        {
          "data": {
            "text/html": [
              "<div>\n",
              "<style scoped>\n",
              "    .dataframe tbody tr th:only-of-type {\n",
              "        vertical-align: middle;\n",
              "    }\n",
              "\n",
              "    .dataframe tbody tr th {\n",
              "        vertical-align: top;\n",
              "    }\n",
              "\n",
              "    .dataframe thead th {\n",
              "        text-align: right;\n",
              "    }\n",
              "</style>\n",
              "<table border=\"1\" class=\"dataframe\">\n",
              "  <thead>\n",
              "    <tr style=\"text-align: right;\">\n",
              "      <th></th>\n",
              "      <th>playerid</th>\n",
              "      <th>nickname</th>\n",
              "      <th>country</th>\n",
              "      <th>achievementid</th>\n",
              "      <th>date_acquired</th>\n",
              "      <th>gameid</th>\n",
              "      <th>title</th>\n",
              "      <th>description</th>\n",
              "      <th>rarity</th>\n",
              "      <th>library</th>\n",
              "    </tr>\n",
              "  </thead>\n",
              "  <tbody>\n",
              "    <tr>\n",
              "      <th>16469301</th>\n",
              "      <td>1686630</td>\n",
              "      <td>MoonlessBlaze</td>\n",
              "      <td>United States</td>\n",
              "      <td>10455_120586</td>\n",
              "      <td>2015-12-31 18:44:41</td>\n",
              "      <td>10455.0</td>\n",
              "      <td>Guardian of Grannet</td>\n",
              "      <td>Awarded for defeating the living statue and sa...</td>\n",
              "      <td>Bronze</td>\n",
              "      <td>[437991, 717169, 637784, 711591, 701839, 52034...</td>\n",
              "    </tr>\n",
              "    <tr>\n",
              "      <th>19324895</th>\n",
              "      <td>191243</td>\n",
              "      <td>NinjaXdesu</td>\n",
              "      <td>Sweden</td>\n",
              "      <td>5760_72741</td>\n",
              "      <td>2015-03-14 23:25:23</td>\n",
              "      <td>5760.0</td>\n",
              "      <td>Trippin</td>\n",
              "      <td>Trip up Lil in 5 rooms</td>\n",
              "      <td>Bronze</td>\n",
              "      <td>[9936, 11611, 6543, 10954, 8600, 7899, 8906, 6...</td>\n",
              "    </tr>\n",
              "    <tr>\n",
              "      <th>1587793</th>\n",
              "      <td>328637</td>\n",
              "      <td>grattemoi</td>\n",
              "      <td>Canada</td>\n",
              "      <td>67_1744</td>\n",
              "      <td>2012-03-08 03:39:25</td>\n",
              "      <td>67.0</td>\n",
              "      <td>Merchant</td>\n",
              "      <td>Collect 8 schematics</td>\n",
              "      <td>Bronze</td>\n",
              "      <td>[702561, 430193, 618458, 550305, 646222, 55368...</td>\n",
              "    </tr>\n",
              "    <tr>\n",
              "      <th>1373491</th>\n",
              "      <td>385147</td>\n",
              "      <td>patrickogorman19</td>\n",
              "      <td>Australia</td>\n",
              "      <td>438658_3968913</td>\n",
              "      <td>2022-03-02 10:44:16</td>\n",
              "      <td>438658.0</td>\n",
              "      <td>Map 58</td>\n",
              "      <td>Map 58 completed</td>\n",
              "      <td>Bronze</td>\n",
              "      <td>[631356, 494531, 690610, 577437, 359520, 57331...</td>\n",
              "    </tr>\n",
              "    <tr>\n",
              "      <th>17932424</th>\n",
              "      <td>1711950</td>\n",
              "      <td>Post-indie1989</td>\n",
              "      <td>Mexico</td>\n",
              "      <td>3310_46107</td>\n",
              "      <td>2014-03-08 05:43:47</td>\n",
              "      <td>3310.0</td>\n",
              "      <td>You Snooze, You Lose</td>\n",
              "      <td>Sneak up on The End and hold him up</td>\n",
              "      <td>Silver</td>\n",
              "      <td>[670209, 567443, 464111, 560737, 554077, 41778...</td>\n",
              "    </tr>\n",
              "  </tbody>\n",
              "</table>\n",
              "</div>"
            ],
            "text/plain": [
              "          playerid          nickname        country   achievementid  \\\n",
              "16469301   1686630     MoonlessBlaze  United States    10455_120586   \n",
              "19324895    191243        NinjaXdesu         Sweden      5760_72741   \n",
              "1587793     328637         grattemoi         Canada         67_1744   \n",
              "1373491     385147  patrickogorman19      Australia  438658_3968913   \n",
              "17932424   1711950    Post-indie1989         Mexico      3310_46107   \n",
              "\n",
              "                date_acquired    gameid                 title  \\\n",
              "16469301  2015-12-31 18:44:41   10455.0   Guardian of Grannet   \n",
              "19324895  2015-03-14 23:25:23    5760.0               Trippin   \n",
              "1587793   2012-03-08 03:39:25      67.0              Merchant   \n",
              "1373491   2022-03-02 10:44:16  438658.0                Map 58   \n",
              "17932424  2014-03-08 05:43:47    3310.0  You Snooze, You Lose   \n",
              "\n",
              "                                                description  rarity  \\\n",
              "16469301  Awarded for defeating the living statue and sa...  Bronze   \n",
              "19324895                             Trip up Lil in 5 rooms  Bronze   \n",
              "1587793                                Collect 8 schematics  Bronze   \n",
              "1373491                                    Map 58 completed  Bronze   \n",
              "17932424                Sneak up on The End and hold him up  Silver   \n",
              "\n",
              "                                                    library  \n",
              "16469301  [437991, 717169, 637784, 711591, 701839, 52034...  \n",
              "19324895  [9936, 11611, 6543, 10954, 8600, 7899, 8906, 6...  \n",
              "1587793   [702561, 430193, 618458, 550305, 646222, 55368...  \n",
              "1373491   [631356, 494531, 690610, 577437, 359520, 57331...  \n",
              "17932424  [670209, 567443, 464111, 560737, 554077, 41778...  "
            ]
          },
          "execution_count": 108,
          "metadata": {},
          "output_type": "execute_result"
        }
      ],
      "source": [
        "ps_player_info.sample(5)"
      ]
    },
    {
      "cell_type": "markdown",
      "metadata": {},
      "source": [
        "### Game focus\n",
        "date_acquired column is dropped as it indicates the timestamp when the price info was extracted from multiple databases and do not add helpful insights to our analysis."
      ]
    },
    {
      "cell_type": "code",
      "execution_count": 109,
      "metadata": {},
      "outputs": [],
      "source": [
        "ps_game_info = ps_games.merge(ps_achievements.rename(columns={'title': 'achievement_title'}), on=\"gameid\", how=\"left\")"
      ]
    },
    {
      "cell_type": "code",
      "execution_count": 14,
      "metadata": {},
      "outputs": [],
      "source": [
        "ps_game_info = ps_game_info.merge(ps_prices, on=\"gameid\", how=\"left\")"
      ]
    },
    {
      "cell_type": "code",
      "execution_count": 15,
      "metadata": {},
      "outputs": [],
      "source": [
        "ps_game_info = ps_game_info.drop(columns=['date_acquired'])"
      ]
    },
    {
      "cell_type": "code",
      "execution_count": 16,
      "metadata": {},
      "outputs": [],
      "source": [
        "ps_game_info.rename(columns={'platform': 'PS_platform'}, inplace=True)"
      ]
    },
    {
      "cell_type": "code",
      "execution_count": 17,
      "metadata": {},
      "outputs": [],
      "source": [
        "ps_game_info.rename(columns={'description': 'achievement_description'}, inplace=True)"
      ]
    },
    {
      "cell_type": "code",
      "execution_count": 18,
      "metadata": {},
      "outputs": [
        {
          "name": "stdout",
          "output_type": "stream",
          "text": [
            "<class 'pandas.core.frame.DataFrame'>\n",
            "RangeIndex: 626958 entries, 0 to 626957\n",
            "Data columns (total 17 columns):\n",
            " #   Column                   Non-Null Count   Dtype  \n",
            "---  ------                   --------------   -----  \n",
            " 0   gameid                   626958 non-null  int64  \n",
            " 1   title                    626958 non-null  object \n",
            " 2   PS_platform              626958 non-null  object \n",
            " 3   developers               626416 non-null  object \n",
            " 4   publishers               626624 non-null  object \n",
            " 5   genres                   623044 non-null  object \n",
            " 6   supported_languages      319860 non-null  object \n",
            " 7   release_date             626958 non-null  object \n",
            " 8   achievementid            626958 non-null  object \n",
            " 9   achievement_title        626954 non-null  object \n",
            " 10  achievement_description  626942 non-null  object \n",
            " 11  rarity                   626958 non-null  object \n",
            " 12  usd                      535794 non-null  float64\n",
            " 13  eur                      508924 non-null  float64\n",
            " 14  gbp                      530459 non-null  float64\n",
            " 15  jpy                      258082 non-null  float64\n",
            " 16  rub                      125368 non-null  float64\n",
            "dtypes: float64(5), int64(1), object(11)\n",
            "memory usage: 81.3+ MB\n"
          ]
        }
      ],
      "source": [
        "ps_game_info.info()"
      ]
    },
    {
      "cell_type": "markdown",
      "metadata": {},
      "source": [
        "PS-only cols: rarity, PS_platform"
      ]
    },
    {
      "cell_type": "code",
      "execution_count": 19,
      "metadata": {},
      "outputs": [
        {
          "data": {
            "text/html": [
              "<div>\n",
              "<style scoped>\n",
              "    .dataframe tbody tr th:only-of-type {\n",
              "        vertical-align: middle;\n",
              "    }\n",
              "\n",
              "    .dataframe tbody tr th {\n",
              "        vertical-align: top;\n",
              "    }\n",
              "\n",
              "    .dataframe thead th {\n",
              "        text-align: right;\n",
              "    }\n",
              "</style>\n",
              "<table border=\"1\" class=\"dataframe\">\n",
              "  <thead>\n",
              "    <tr style=\"text-align: right;\">\n",
              "      <th></th>\n",
              "      <th>gameid</th>\n",
              "      <th>title</th>\n",
              "      <th>PS_platform</th>\n",
              "      <th>developers</th>\n",
              "      <th>publishers</th>\n",
              "      <th>genres</th>\n",
              "      <th>supported_languages</th>\n",
              "      <th>release_date</th>\n",
              "      <th>achievementid</th>\n",
              "      <th>achievement_title</th>\n",
              "      <th>achievement_description</th>\n",
              "      <th>rarity</th>\n",
              "      <th>usd</th>\n",
              "      <th>eur</th>\n",
              "      <th>gbp</th>\n",
              "      <th>jpy</th>\n",
              "      <th>rub</th>\n",
              "    </tr>\n",
              "  </thead>\n",
              "  <tbody>\n",
              "    <tr>\n",
              "      <th>505809</th>\n",
              "      <td>722423</td>\n",
              "      <td>Nick Jr. Party Adventure</td>\n",
              "      <td>PS4</td>\n",
              "      <td>['Melbot Studios']</td>\n",
              "      <td>['Outright Games']</td>\n",
              "      <td>['Puzzle', 'Platformer']</td>\n",
              "      <td>['Japanese', 'French', 'Spanish', 'German', 'I...</td>\n",
              "      <td>2024-10-11</td>\n",
              "      <td>722423_5809856</td>\n",
              "      <td>On a roll</td>\n",
              "      <td>Finish the first six levels of the Paw Patrol’...</td>\n",
              "      <td>Silver</td>\n",
              "      <td>19.99</td>\n",
              "      <td>19.99</td>\n",
              "      <td>17.49</td>\n",
              "      <td>NaN</td>\n",
              "      <td>NaN</td>\n",
              "    </tr>\n",
              "    <tr>\n",
              "      <th>89986</th>\n",
              "      <td>590444</td>\n",
              "      <td>Boss Rush: Mythology</td>\n",
              "      <td>PS4</td>\n",
              "      <td>['Alexey Suslin']</td>\n",
              "      <td>['Sometimes You']</td>\n",
              "      <td>['Action']</td>\n",
              "      <td>NaN</td>\n",
              "      <td>2023-05-10</td>\n",
              "      <td>590444_4890961</td>\n",
              "      <td>Boss Rush: Mythology Platinum</td>\n",
              "      <td>Good job! Completed all tasks!</td>\n",
              "      <td>Platinum</td>\n",
              "      <td>9.99</td>\n",
              "      <td>9.99</td>\n",
              "      <td>7.99</td>\n",
              "      <td>1210.0</td>\n",
              "      <td>NaN</td>\n",
              "    </tr>\n",
              "    <tr>\n",
              "      <th>152879</th>\n",
              "      <td>463540</td>\n",
              "      <td>Heliborne</td>\n",
              "      <td>PS4</td>\n",
              "      <td>['Klabater']</td>\n",
              "      <td>['Klabater']</td>\n",
              "      <td>['Aerial', 'Vehicular Combat']</td>\n",
              "      <td>NaN</td>\n",
              "      <td>2024-03-24</td>\n",
              "      <td>463540_4171613</td>\n",
              "      <td>Cry Havoc!</td>\n",
              "      <td>Win a battle with a custom squadron consisting...</td>\n",
              "      <td>Bronze</td>\n",
              "      <td>11.99</td>\n",
              "      <td>11.99</td>\n",
              "      <td>9.99</td>\n",
              "      <td>1100.0</td>\n",
              "      <td>NaN</td>\n",
              "    </tr>\n",
              "    <tr>\n",
              "      <th>279538</th>\n",
              "      <td>15237</td>\n",
              "      <td>Proton Pulse</td>\n",
              "      <td>PS4</td>\n",
              "      <td>['ZeroTransform']</td>\n",
              "      <td>['ZeroTransform']</td>\n",
              "      <td>['Action']</td>\n",
              "      <td>['French', 'Spanish', 'German', 'Italian']</td>\n",
              "      <td>2016-11-22</td>\n",
              "      <td>15237_156863</td>\n",
              "      <td>Not so Easy</td>\n",
              "      <td>Finish level 1 with burst mode active.</td>\n",
              "      <td>Bronze</td>\n",
              "      <td>9.99</td>\n",
              "      <td>11.99</td>\n",
              "      <td>9.49</td>\n",
              "      <td>NaN</td>\n",
              "      <td>NaN</td>\n",
              "    </tr>\n",
              "    <tr>\n",
              "      <th>396323</th>\n",
              "      <td>679999</td>\n",
              "      <td>Football Striker 2024</td>\n",
              "      <td>PS5</td>\n",
              "      <td>['ThiGames']</td>\n",
              "      <td>['ThiGames']</td>\n",
              "      <td>['Puzzle']</td>\n",
              "      <td>NaN</td>\n",
              "      <td>2024-06-07</td>\n",
              "      <td>679999_5503553</td>\n",
              "      <td>Complete Level 4</td>\n",
              "      <td>Complete Level 4.</td>\n",
              "      <td>Bronze</td>\n",
              "      <td>2.99</td>\n",
              "      <td>2.99</td>\n",
              "      <td>2.49</td>\n",
              "      <td>440.0</td>\n",
              "      <td>NaN</td>\n",
              "    </tr>\n",
              "  </tbody>\n",
              "</table>\n",
              "</div>"
            ],
            "text/plain": [
              "        gameid                     title PS_platform          developers  \\\n",
              "505809  722423  Nick Jr. Party Adventure         PS4  ['Melbot Studios']   \n",
              "89986   590444      Boss Rush: Mythology         PS4   ['Alexey Suslin']   \n",
              "152879  463540                 Heliborne         PS4        ['Klabater']   \n",
              "279538   15237              Proton Pulse         PS4   ['ZeroTransform']   \n",
              "396323  679999     Football Striker 2024         PS5        ['ThiGames']   \n",
              "\n",
              "                publishers                          genres  \\\n",
              "505809  ['Outright Games']        ['Puzzle', 'Platformer']   \n",
              "89986    ['Sometimes You']                      ['Action']   \n",
              "152879        ['Klabater']  ['Aerial', 'Vehicular Combat']   \n",
              "279538   ['ZeroTransform']                      ['Action']   \n",
              "396323        ['ThiGames']                      ['Puzzle']   \n",
              "\n",
              "                                      supported_languages release_date  \\\n",
              "505809  ['Japanese', 'French', 'Spanish', 'German', 'I...   2024-10-11   \n",
              "89986                                                 NaN   2023-05-10   \n",
              "152879                                                NaN   2024-03-24   \n",
              "279538         ['French', 'Spanish', 'German', 'Italian']   2016-11-22   \n",
              "396323                                                NaN   2024-06-07   \n",
              "\n",
              "         achievementid              achievement_title  \\\n",
              "505809  722423_5809856                      On a roll   \n",
              "89986   590444_4890961  Boss Rush: Mythology Platinum   \n",
              "152879  463540_4171613                     Cry Havoc!   \n",
              "279538    15237_156863                    Not so Easy   \n",
              "396323  679999_5503553               Complete Level 4   \n",
              "\n",
              "                                  achievement_description    rarity    usd  \\\n",
              "505809  Finish the first six levels of the Paw Patrol’...    Silver  19.99   \n",
              "89986                      Good job! Completed all tasks!  Platinum   9.99   \n",
              "152879  Win a battle with a custom squadron consisting...    Bronze  11.99   \n",
              "279538             Finish level 1 with burst mode active.    Bronze   9.99   \n",
              "396323                                  Complete Level 4.    Bronze   2.99   \n",
              "\n",
              "          eur    gbp     jpy  rub  \n",
              "505809  19.99  17.49     NaN  NaN  \n",
              "89986    9.99   7.99  1210.0  NaN  \n",
              "152879  11.99   9.99  1100.0  NaN  \n",
              "279538  11.99   9.49     NaN  NaN  \n",
              "396323   2.99   2.49   440.0  NaN  "
            ]
          },
          "execution_count": 19,
          "metadata": {},
          "output_type": "execute_result"
        }
      ],
      "source": [
        "ps_game_info.sample(5)"
      ]
    },
    {
      "cell_type": "code",
      "execution_count": 20,
      "metadata": {},
      "outputs": [
        {
          "data": {
            "text/plain": [
              "achievementid\n",
              "749375_6098396    1\n",
              "650405_5312282    1\n",
              "650406_5312373    1\n",
              "650406_5312374    1\n",
              "650406_5312375    1\n",
              "                 ..\n",
              "336965_3248824    1\n",
              "336965_3248825    1\n",
              "336965_3248826    1\n",
              "336965_3248827    1\n",
              "7593_93460        1\n",
              "Name: count, Length: 626958, dtype: int64"
            ]
          },
          "execution_count": 20,
          "metadata": {},
          "output_type": "execute_result"
        }
      ],
      "source": [
        "ps_game_info['achievementid'].value_counts()"
      ]
    },
    {
      "cell_type": "markdown",
      "metadata": {},
      "source": [
        "## Steam"
      ]
    },
    {
      "cell_type": "code",
      "execution_count": 21,
      "metadata": {},
      "outputs": [
        {
          "name": "stdout",
          "output_type": "stream",
          "text": [
            "steam_purchased_games - shape: (102548, 2)\n",
            "steam_reviews - shape: (1204534, 8)\n",
            "steam_history - shape: (10693879, 3)\n",
            "steam_friends - shape: (424683, 2)\n",
            "steam_prices - shape: (4414273, 7)\n",
            "steam_players - shape: (424683, 3)\n",
            "steam_games - shape: (98248, 7)\n",
            "steam_private_steamids - shape: (227963, 1)\n",
            "steam_achievements - shape: (1939027, 4)\n"
          ]
        }
      ],
      "source": [
        "import os\n",
        "import pandas as pd\n",
        "\n",
        "STEAM_DATA_FOLDER = \"data/steam\"\n",
        "\n",
        "dfs = {}\n",
        "\n",
        "for root, dirs, files in os.walk(STEAM_DATA_FOLDER):\n",
        "    for file in files:\n",
        "        if file.endswith(\".csv\"):\n",
        "            file_path = os.path.join(root, file)\n",
        "            df_name = f\"{os.path.basename(root)}_{file.replace('.csv', '')}\".replace('.csv', '')  # Clean name\n",
        "            dfs[df_name] = pd.read_csv(file_path)\n",
        "\n",
        "for name, df in dfs.items():\n",
        "    print(f\"{name} - shape: {df.shape}\")\n"
      ]
    },
    {
      "cell_type": "code",
      "execution_count": 22,
      "metadata": {},
      "outputs": [
        {
          "name": "stdout",
          "output_type": "stream",
          "text": [
            "0\n",
            "4315808\n",
            "0\n",
            "0\n",
            "0\n"
          ]
        }
      ],
      "source": [
        "steam_achievements = dfs['steam_achievements']\n",
        "steam_games = dfs['steam_games']\n",
        "steam_history = dfs['steam_history']\n",
        "steam_players = dfs['steam_players']\n",
        "steam_prices = dfs['steam_prices']\n",
        "steam_purchased_games = dfs['steam_purchased_games']\n",
        "\n",
        "# check duplicates\n",
        "print(steam_games.duplicated(subset=[\"gameid\"]).sum())\n",
        "print(steam_prices.duplicated(subset=[\"gameid\"]).sum())\n",
        "print(steam_achievements.duplicated(subset=[\"achievementid\"]).sum())\n",
        "print(steam_players.duplicated(subset=[\"playerid\"]).sum())\n",
        "print(steam_purchased_games.duplicated(subset=[\"playerid\"]).sum())"
      ]
    },
    {
      "cell_type": "code",
      "execution_count": 23,
      "metadata": {},
      "outputs": [
        {
          "name": "stdout",
          "output_type": "stream",
          "text": [
            "0\n"
          ]
        }
      ],
      "source": [
        "# for each gameid, keep only the most recent price entry\n",
        "steam_prices = steam_prices.sort_values(\"date_acquired\").drop_duplicates(subset=[\"gameid\"], keep=\"last\")\n",
        "print(steam_prices.duplicated(subset=[\"gameid\"]).sum())"
      ]
    },
    {
      "cell_type": "markdown",
      "metadata": {},
      "source": [
        "### Player focus"
      ]
    },
    {
      "cell_type": "code",
      "execution_count": 110,
      "metadata": {},
      "outputs": [],
      "source": [
        "st_player_info = steam_players.merge(steam_history, on=\"playerid\", how=\"left\")"
      ]
    },
    {
      "cell_type": "code",
      "execution_count": 111,
      "metadata": {},
      "outputs": [],
      "source": [
        "st_player_info = st_player_info.merge(steam_achievements, on=\"achievementid\", how=\"left\")"
      ]
    },
    {
      "cell_type": "code",
      "execution_count": 112,
      "metadata": {},
      "outputs": [],
      "source": [
        "st_player_info = st_player_info.merge(steam_purchased_games, on=\"playerid\", how=\"left\")\n",
        "\n",
        "# # Save player-focused data\n",
        "# steam_player_info.to_csv('data/steam_players.csv', index=False)"
      ]
    },
    {
      "cell_type": "code",
      "execution_count": 27,
      "metadata": {},
      "outputs": [
        {
          "name": "stdout",
          "output_type": "stream",
          "text": [
            "<class 'pandas.core.frame.DataFrame'>\n",
            "RangeIndex: 11113724 entries, 0 to 11113723\n",
            "Data columns (total 9 columns):\n",
            " #   Column         Dtype  \n",
            "---  ------         -----  \n",
            " 0   playerid       int64  \n",
            " 1   country        object \n",
            " 2   created        object \n",
            " 3   achievementid  object \n",
            " 4   date_acquired  object \n",
            " 5   gameid         float64\n",
            " 6   title          object \n",
            " 7   description    object \n",
            " 8   library        object \n",
            "dtypes: float64(1), int64(1), object(7)\n",
            "memory usage: 763.1+ MB\n"
          ]
        }
      ],
      "source": [
        "st_player_info.info()"
      ]
    },
    {
      "cell_type": "code",
      "execution_count": 28,
      "metadata": {},
      "outputs": [
        {
          "data": {
            "text/plain": [
              "(11113724, 9)"
            ]
          },
          "execution_count": 28,
          "metadata": {},
          "output_type": "execute_result"
        }
      ],
      "source": [
        "st_player_info.shape"
      ]
    },
    {
      "cell_type": "code",
      "execution_count": 29,
      "metadata": {},
      "outputs": [
        {
          "data": {
            "text/html": [
              "<div>\n",
              "<style scoped>\n",
              "    .dataframe tbody tr th:only-of-type {\n",
              "        vertical-align: middle;\n",
              "    }\n",
              "\n",
              "    .dataframe tbody tr th {\n",
              "        vertical-align: top;\n",
              "    }\n",
              "\n",
              "    .dataframe thead th {\n",
              "        text-align: right;\n",
              "    }\n",
              "</style>\n",
              "<table border=\"1\" class=\"dataframe\">\n",
              "  <thead>\n",
              "    <tr style=\"text-align: right;\">\n",
              "      <th></th>\n",
              "      <th>playerid</th>\n",
              "      <th>country</th>\n",
              "      <th>created</th>\n",
              "      <th>achievementid</th>\n",
              "      <th>date_acquired</th>\n",
              "      <th>gameid</th>\n",
              "      <th>title</th>\n",
              "      <th>description</th>\n",
              "      <th>library</th>\n",
              "    </tr>\n",
              "  </thead>\n",
              "  <tbody>\n",
              "    <tr>\n",
              "      <th>0</th>\n",
              "      <td>76561198287452552</td>\n",
              "      <td>Brazil</td>\n",
              "      <td>2016-03-02 06:14:20</td>\n",
              "      <td>NaN</td>\n",
              "      <td>NaN</td>\n",
              "      <td>NaN</td>\n",
              "      <td>NaN</td>\n",
              "      <td>NaN</td>\n",
              "      <td>[10, 80, 100, 240, 2990, 6880, 6910, 6920, 698...</td>\n",
              "    </tr>\n",
              "    <tr>\n",
              "      <th>1</th>\n",
              "      <td>76561198040436563</td>\n",
              "      <td>Israel</td>\n",
              "      <td>2011-04-10 17:10:06</td>\n",
              "      <td>NaN</td>\n",
              "      <td>NaN</td>\n",
              "      <td>NaN</td>\n",
              "      <td>NaN</td>\n",
              "      <td>NaN</td>\n",
              "      <td>[10, 80, 100, 300, 20, 30, 40, 50, 60, 70, 130...</td>\n",
              "    </tr>\n",
              "    <tr>\n",
              "      <th>2</th>\n",
              "      <td>76561198049686270</td>\n",
              "      <td>NaN</td>\n",
              "      <td>2011-09-28 21:43:59</td>\n",
              "      <td>NaN</td>\n",
              "      <td>NaN</td>\n",
              "      <td>NaN</td>\n",
              "      <td>NaN</td>\n",
              "      <td>NaN</td>\n",
              "      <td>NaN</td>\n",
              "    </tr>\n",
              "    <tr>\n",
              "      <th>3</th>\n",
              "      <td>76561198155814250</td>\n",
              "      <td>Kazakhstan</td>\n",
              "      <td>2014-09-24 19:52:47</td>\n",
              "      <td>NaN</td>\n",
              "      <td>NaN</td>\n",
              "      <td>NaN</td>\n",
              "      <td>NaN</td>\n",
              "      <td>NaN</td>\n",
              "      <td>NaN</td>\n",
              "    </tr>\n",
              "    <tr>\n",
              "      <th>4</th>\n",
              "      <td>76561198119605821</td>\n",
              "      <td>NaN</td>\n",
              "      <td>2013-12-26 00:25:50</td>\n",
              "      <td>NaN</td>\n",
              "      <td>NaN</td>\n",
              "      <td>NaN</td>\n",
              "      <td>NaN</td>\n",
              "      <td>NaN</td>\n",
              "      <td>[47870, 108600, 550, 271590, 331470, 381210, 2...</td>\n",
              "    </tr>\n",
              "  </tbody>\n",
              "</table>\n",
              "</div>"
            ],
            "text/plain": [
              "            playerid     country              created achievementid  \\\n",
              "0  76561198287452552      Brazil  2016-03-02 06:14:20           NaN   \n",
              "1  76561198040436563      Israel  2011-04-10 17:10:06           NaN   \n",
              "2  76561198049686270         NaN  2011-09-28 21:43:59           NaN   \n",
              "3  76561198155814250  Kazakhstan  2014-09-24 19:52:47           NaN   \n",
              "4  76561198119605821         NaN  2013-12-26 00:25:50           NaN   \n",
              "\n",
              "  date_acquired  gameid title description  \\\n",
              "0           NaN     NaN   NaN         NaN   \n",
              "1           NaN     NaN   NaN         NaN   \n",
              "2           NaN     NaN   NaN         NaN   \n",
              "3           NaN     NaN   NaN         NaN   \n",
              "4           NaN     NaN   NaN         NaN   \n",
              "\n",
              "                                             library  \n",
              "0  [10, 80, 100, 240, 2990, 6880, 6910, 6920, 698...  \n",
              "1  [10, 80, 100, 300, 20, 30, 40, 50, 60, 70, 130...  \n",
              "2                                                NaN  \n",
              "3                                                NaN  \n",
              "4  [47870, 108600, 550, 271590, 331470, 381210, 2...  "
            ]
          },
          "execution_count": 29,
          "metadata": {},
          "output_type": "execute_result"
        }
      ],
      "source": [
        "st_player_info.head(5)"
      ]
    },
    {
      "cell_type": "markdown",
      "metadata": {},
      "source": [
        "### Game focus"
      ]
    },
    {
      "cell_type": "code",
      "execution_count": 30,
      "metadata": {},
      "outputs": [],
      "source": [
        "st_game_info = steam_games.merge(steam_achievements.rename(columns={'title': 'achievement_title'}), on=\"gameid\", how=\"left\")"
      ]
    },
    {
      "cell_type": "code",
      "execution_count": 31,
      "metadata": {},
      "outputs": [],
      "source": [
        "st_game_info = st_game_info.merge(steam_prices, on=\"gameid\", how=\"left\")"
      ]
    },
    {
      "cell_type": "code",
      "execution_count": 32,
      "metadata": {},
      "outputs": [],
      "source": [
        "st_game_info = st_game_info.drop(columns=['date_acquired'])"
      ]
    },
    {
      "cell_type": "code",
      "execution_count": 33,
      "metadata": {},
      "outputs": [],
      "source": [
        "st_game_info.rename(columns={'description': 'achievement_description'}, inplace=True)"
      ]
    },
    {
      "cell_type": "code",
      "execution_count": 34,
      "metadata": {},
      "outputs": [
        {
          "name": "stdout",
          "output_type": "stream",
          "text": [
            "<class 'pandas.core.frame.DataFrame'>\n",
            "RangeIndex: 1983659 entries, 0 to 1983658\n",
            "Data columns (total 15 columns):\n",
            " #   Column                   Dtype  \n",
            "---  ------                   -----  \n",
            " 0   gameid                   int64  \n",
            " 1   title                    object \n",
            " 2   developers               object \n",
            " 3   publishers               object \n",
            " 4   genres                   object \n",
            " 5   supported_languages      object \n",
            " 6   release_date             object \n",
            " 7   achievementid            object \n",
            " 8   achievement_title        object \n",
            " 9   achievement_description  object \n",
            " 10  usd                      float64\n",
            " 11  eur                      float64\n",
            " 12  gbp                      float64\n",
            " 13  jpy                      float64\n",
            " 14  rub                      float64\n",
            "dtypes: float64(5), int64(1), object(9)\n",
            "memory usage: 227.0+ MB\n"
          ]
        }
      ],
      "source": [
        "st_game_info.info()"
      ]
    },
    {
      "cell_type": "code",
      "execution_count": 35,
      "metadata": {},
      "outputs": [
        {
          "data": {
            "text/plain": [
              "(1983659, 15)"
            ]
          },
          "execution_count": 35,
          "metadata": {},
          "output_type": "execute_result"
        }
      ],
      "source": [
        "st_game_info.shape"
      ]
    },
    {
      "cell_type": "code",
      "execution_count": 36,
      "metadata": {},
      "outputs": [
        {
          "data": {
            "text/plain": [
              "achievementid\n",
              "3266470_ACHIEVEMENT_5_MINUTES    1\n",
              "2578790_Liquidator               1\n",
              "2578790_Space_Rebel              1\n",
              "2578790_Slugger                  1\n",
              "2578790_Sergeant                 1\n",
              "                                ..\n",
              "1098080_ACHIEVEMENT_9            1\n",
              "1098080_ACHIEVEMENT_8            1\n",
              "1098080_ACHIEVEMENT_7            1\n",
              "1098080_ACHIEVEMENT_6            1\n",
              "1499240_ROMANROCKS               1\n",
              "Name: count, Length: 1935882, dtype: int64"
            ]
          },
          "execution_count": 36,
          "metadata": {},
          "output_type": "execute_result"
        }
      ],
      "source": [
        "st_game_info['achievementid'].value_counts()"
      ]
    },
    {
      "cell_type": "markdown",
      "metadata": {},
      "source": [
        "## XBOX"
      ]
    },
    {
      "cell_type": "code",
      "execution_count": 37,
      "metadata": {},
      "outputs": [
        {
          "name": "stdout",
          "output_type": "stream",
          "text": [
            "xbox_purchased_games - shape: (46466, 2)\n",
            "xbox_history - shape: (15275900, 3)\n",
            "xbox_prices - shape: (22638, 7)\n",
            "xbox_players - shape: (274450, 2)\n",
            "xbox_games - shape: (10489, 7)\n",
            "xbox_achievements - shape: (351111, 5)\n"
          ]
        }
      ],
      "source": [
        "import os\n",
        "import pandas as pd\n",
        "\n",
        "XBOX_DATA_FOLDER = \"data/xbox\"\n",
        "\n",
        "dfs = {}\n",
        "\n",
        "for root, dirs, files in os.walk(XBOX_DATA_FOLDER):\n",
        "    for file in files:\n",
        "        if file.endswith(\".csv\"):\n",
        "            file_path = os.path.join(root, file)\n",
        "            df_name = f\"{os.path.basename(root)}_{file.replace('.csv', '')}\".replace('.csv', '')\n",
        "            dfs[df_name] = pd.read_csv(file_path)\n",
        "\n",
        "for name, df in dfs.items():\n",
        "    print(f\"{name} - shape: {df.shape}\")\n"
      ]
    },
    {
      "cell_type": "code",
      "execution_count": 38,
      "metadata": {},
      "outputs": [
        {
          "name": "stdout",
          "output_type": "stream",
          "text": [
            "0\n",
            "11319\n",
            "0\n",
            "0\n",
            "0\n"
          ]
        }
      ],
      "source": [
        "xbox_achievements = dfs['xbox_achievements']\n",
        "xbox_games = dfs['xbox_games']\n",
        "xbox_history = dfs['xbox_history']\n",
        "xbox_players = dfs['xbox_players']\n",
        "xbox_prices = dfs['xbox_prices']\n",
        "xbox_purchased_games = dfs['xbox_purchased_games']\n",
        "\n",
        "# check duplicates\n",
        "print(xbox_games.duplicated(subset=[\"gameid\"]).sum())\n",
        "print(xbox_prices.duplicated(subset=[\"gameid\"]).sum())\n",
        "print(xbox_achievements.duplicated(subset=[\"achievementid\"]).sum())\n",
        "print(xbox_players.duplicated(subset=[\"playerid\"]).sum())\n",
        "print(xbox_purchased_games.duplicated(subset=[\"playerid\"]).sum())"
      ]
    },
    {
      "cell_type": "code",
      "execution_count": 39,
      "metadata": {},
      "outputs": [
        {
          "name": "stdout",
          "output_type": "stream",
          "text": [
            "0\n"
          ]
        }
      ],
      "source": [
        "# for each gameid, keep only the most recent price entry\n",
        "xbox_prices = xbox_prices.sort_values(\"date_acquired\").drop_duplicates(subset=[\"gameid\"], keep=\"last\")\n",
        "print(xbox_prices.duplicated(subset=[\"gameid\"]).sum())"
      ]
    },
    {
      "cell_type": "markdown",
      "metadata": {},
      "source": [
        "### Player focus"
      ]
    },
    {
      "cell_type": "code",
      "execution_count": 113,
      "metadata": {},
      "outputs": [],
      "source": [
        "xb_player_info = xbox_players.merge(xbox_history, on=\"playerid\", how=\"left\")"
      ]
    },
    {
      "cell_type": "code",
      "execution_count": 114,
      "metadata": {},
      "outputs": [],
      "source": [
        "xb_player_info = xb_player_info.merge(xbox_achievements, on=\"achievementid\", how=\"left\")"
      ]
    },
    {
      "cell_type": "code",
      "execution_count": 115,
      "metadata": {},
      "outputs": [],
      "source": [
        "xb_player_info = xb_player_info.merge(xbox_purchased_games, on=\"playerid\", how=\"left\")"
      ]
    },
    {
      "cell_type": "code",
      "execution_count": 116,
      "metadata": {},
      "outputs": [
        {
          "name": "stdout",
          "output_type": "stream",
          "text": [
            "<class 'pandas.core.frame.DataFrame'>\n",
            "RangeIndex: 15545366 entries, 0 to 15545365\n",
            "Data columns (total 9 columns):\n",
            " #   Column         Dtype  \n",
            "---  ------         -----  \n",
            " 0   playerid       int64  \n",
            " 1   nickname       object \n",
            " 2   achievementid  object \n",
            " 3   date_acquired  object \n",
            " 4   gameid         float64\n",
            " 5   title          object \n",
            " 6   description    object \n",
            " 7   points         float64\n",
            " 8   library        object \n",
            "dtypes: float64(2), int64(1), object(6)\n",
            "memory usage: 1.0+ GB\n"
          ]
        }
      ],
      "source": [
        "xb_player_info.info()"
      ]
    },
    {
      "cell_type": "code",
      "execution_count": 117,
      "metadata": {},
      "outputs": [
        {
          "data": {
            "text/plain": [
              "(15545366, 9)"
            ]
          },
          "execution_count": 117,
          "metadata": {},
          "output_type": "execute_result"
        }
      ],
      "source": [
        "xb_player_info.shape"
      ]
    },
    {
      "cell_type": "code",
      "execution_count": 118,
      "metadata": {},
      "outputs": [
        {
          "data": {
            "text/html": [
              "<div>\n",
              "<style scoped>\n",
              "    .dataframe tbody tr th:only-of-type {\n",
              "        vertical-align: middle;\n",
              "    }\n",
              "\n",
              "    .dataframe tbody tr th {\n",
              "        vertical-align: top;\n",
              "    }\n",
              "\n",
              "    .dataframe thead th {\n",
              "        text-align: right;\n",
              "    }\n",
              "</style>\n",
              "<table border=\"1\" class=\"dataframe\">\n",
              "  <thead>\n",
              "    <tr style=\"text-align: right;\">\n",
              "      <th></th>\n",
              "      <th>playerid</th>\n",
              "      <th>nickname</th>\n",
              "      <th>achievementid</th>\n",
              "      <th>date_acquired</th>\n",
              "      <th>gameid</th>\n",
              "      <th>title</th>\n",
              "      <th>description</th>\n",
              "      <th>points</th>\n",
              "      <th>library</th>\n",
              "    </tr>\n",
              "  </thead>\n",
              "  <tbody>\n",
              "    <tr>\n",
              "      <th>4268831</th>\n",
              "      <td>848479</td>\n",
              "      <td>WOODY2211</td>\n",
              "      <td>12574_373998</td>\n",
              "      <td>2016-06-29 15:25:16</td>\n",
              "      <td>12574.0</td>\n",
              "      <td>The Mist</td>\n",
              "      <td>Leave the Park.</td>\n",
              "      <td>100.0</td>\n",
              "      <td>[439438, 10948, 6746, 10783, 738557, 738556, 3...</td>\n",
              "    </tr>\n",
              "    <tr>\n",
              "      <th>4221234</th>\n",
              "      <td>848124</td>\n",
              "      <td>woo984</td>\n",
              "      <td>20732_401409</td>\n",
              "      <td>2018-03-27 19:13:43</td>\n",
              "      <td>20732.0</td>\n",
              "      <td>マママ オタク</td>\n",
              "      <td>MMMを２０話鑑賞した</td>\n",
              "      <td>50.0</td>\n",
              "      <td>[602687, 718031, 479674, 184897, 731958, 38377...</td>\n",
              "    </tr>\n",
              "    <tr>\n",
              "      <th>286997</th>\n",
              "      <td>848068</td>\n",
              "      <td>Markyshizzle</td>\n",
              "      <td>1234_269991</td>\n",
              "      <td>2015-06-09 03:14:32</td>\n",
              "      <td>1234.0</td>\n",
              "      <td>All Gold (Endurance)</td>\n",
              "      <td>Achieve a gold medal in every Career event of ...</td>\n",
              "      <td>70.0</td>\n",
              "      <td>[703659, 703666, 10783, 599437, 597922, 406662...</td>\n",
              "    </tr>\n",
              "    <tr>\n",
              "      <th>11403841</th>\n",
              "      <td>775686</td>\n",
              "      <td>FXCF</td>\n",
              "      <td>1141_264461</td>\n",
              "      <td>2010-01-16 02:34:04</td>\n",
              "      <td>1141.0</td>\n",
              "      <td>Delicious Brains</td>\n",
              "      <td>On a Mythic map, infected 2 humans during a ra...</td>\n",
              "      <td>25.0</td>\n",
              "      <td>[743677, 14361, 647305, 749823, 754719, 739409...</td>\n",
              "    </tr>\n",
              "    <tr>\n",
              "      <th>2292638</th>\n",
              "      <td>848286</td>\n",
              "      <td>SuperS0nicSam</td>\n",
              "      <td>391731_4441651</td>\n",
              "      <td>2022-11-06 14:48:15</td>\n",
              "      <td>391731.0</td>\n",
              "      <td>All girls are mine!</td>\n",
              "      <td>Make 1 female bunny chase you for 30 sec</td>\n",
              "      <td>100.0</td>\n",
              "      <td>[588510, 413365, 528651, 593425, 747223, 66218...</td>\n",
              "    </tr>\n",
              "    <tr>\n",
              "      <th>12178307</th>\n",
              "      <td>4517240</td>\n",
              "      <td>Blackpan94</td>\n",
              "      <td>1403_272623</td>\n",
              "      <td>2009-08-01 01:21:59</td>\n",
              "      <td>1403.0</td>\n",
              "      <td>Old School</td>\n",
              "      <td>Defeat Iron Monger using the Silver Centurion ...</td>\n",
              "      <td>15.0</td>\n",
              "      <td>[464880, 7545, 9637, 2463, 19170, 9203, 14898,...</td>\n",
              "    </tr>\n",
              "    <tr>\n",
              "      <th>7022574</th>\n",
              "      <td>2594171</td>\n",
              "      <td>makarinn</td>\n",
              "      <td>519777_4454975</td>\n",
              "      <td>2024-01-14 09:04:30</td>\n",
              "      <td>519777.0</td>\n",
              "      <td>Hammer Time</td>\n",
              "      <td>Kill 10 enemies with a single Hammer Strike</td>\n",
              "      <td>10.0</td>\n",
              "      <td>[31625, 687083, 609593, 408855, 598418, 184121...</td>\n",
              "    </tr>\n",
              "    <tr>\n",
              "      <th>1144500</th>\n",
              "      <td>848676</td>\n",
              "      <td>Totally Krispix</td>\n",
              "      <td>659314_5374374</td>\n",
              "      <td>2024-03-30 19:22:04</td>\n",
              "      <td>659314.0</td>\n",
              "      <td>Realm 2 completed!</td>\n",
              "      <td>Complete all levels of Realm 2</td>\n",
              "      <td>50.0</td>\n",
              "      <td>[745067, 734202, 703642, 702640, 738078, 72776...</td>\n",
              "    </tr>\n",
              "    <tr>\n",
              "      <th>14907387</th>\n",
              "      <td>703605</td>\n",
              "      <td>BlackWolf123121</td>\n",
              "      <td>1203_266937</td>\n",
              "      <td>2011-02-22 21:22:03</td>\n",
              "      <td>1203.0</td>\n",
              "      <td>Squad Player</td>\n",
              "      <td>Online: obtain the Gold Squad Pin 5 times</td>\n",
              "      <td>30.0</td>\n",
              "      <td>[2114, 1221, 2856, 2873, 2862, 1958, 2526, 121...</td>\n",
              "    </tr>\n",
              "    <tr>\n",
              "      <th>10858236</th>\n",
              "      <td>4543049</td>\n",
              "      <td>LudexGundyr1</td>\n",
              "      <td>562945_4693849</td>\n",
              "      <td>2023-01-01 01:41:54</td>\n",
              "      <td>562945.0</td>\n",
              "      <td>Gunning For Your Job</td>\n",
              "      <td>Use Sweezy to boss around the Office Moplets.</td>\n",
              "      <td>20.0</td>\n",
              "      <td>[17708, 10948, 12694, 14842, 656442, 550303, 5...</td>\n",
              "    </tr>\n",
              "  </tbody>\n",
              "</table>\n",
              "</div>"
            ],
            "text/plain": [
              "          playerid         nickname   achievementid        date_acquired  \\\n",
              "4268831     848479        WOODY2211    12574_373998  2016-06-29 15:25:16   \n",
              "4221234     848124           woo984    20732_401409  2018-03-27 19:13:43   \n",
              "286997      848068     Markyshizzle     1234_269991  2015-06-09 03:14:32   \n",
              "11403841    775686             FXCF     1141_264461  2010-01-16 02:34:04   \n",
              "2292638     848286    SuperS0nicSam  391731_4441651  2022-11-06 14:48:15   \n",
              "12178307   4517240       Blackpan94     1403_272623  2009-08-01 01:21:59   \n",
              "7022574    2594171         makarinn  519777_4454975  2024-01-14 09:04:30   \n",
              "1144500     848676  Totally Krispix  659314_5374374  2024-03-30 19:22:04   \n",
              "14907387    703605  BlackWolf123121     1203_266937  2011-02-22 21:22:03   \n",
              "10858236   4543049     LudexGundyr1  562945_4693849  2023-01-01 01:41:54   \n",
              "\n",
              "            gameid                 title  \\\n",
              "4268831    12574.0              The Mist   \n",
              "4221234    20732.0               マママ オタク   \n",
              "286997      1234.0  All Gold (Endurance)   \n",
              "11403841    1141.0      Delicious Brains   \n",
              "2292638   391731.0   All girls are mine!   \n",
              "12178307    1403.0            Old School   \n",
              "7022574   519777.0           Hammer Time   \n",
              "1144500   659314.0    Realm 2 completed!   \n",
              "14907387    1203.0          Squad Player   \n",
              "10858236  562945.0  Gunning For Your Job   \n",
              "\n",
              "                                                description  points  \\\n",
              "4268831                                     Leave the Park.   100.0   \n",
              "4221234                                         MMMを２０話鑑賞した    50.0   \n",
              "286997    Achieve a gold medal in every Career event of ...    70.0   \n",
              "11403841  On a Mythic map, infected 2 humans during a ra...    25.0   \n",
              "2292638            Make 1 female bunny chase you for 30 sec   100.0   \n",
              "12178307  Defeat Iron Monger using the Silver Centurion ...    15.0   \n",
              "7022574         Kill 10 enemies with a single Hammer Strike    10.0   \n",
              "1144500                      Complete all levels of Realm 2    50.0   \n",
              "14907387          Online: obtain the Gold Squad Pin 5 times    30.0   \n",
              "10858236      Use Sweezy to boss around the Office Moplets.    20.0   \n",
              "\n",
              "                                                    library  \n",
              "4268831   [439438, 10948, 6746, 10783, 738557, 738556, 3...  \n",
              "4221234   [602687, 718031, 479674, 184897, 731958, 38377...  \n",
              "286997    [703659, 703666, 10783, 599437, 597922, 406662...  \n",
              "11403841  [743677, 14361, 647305, 749823, 754719, 739409...  \n",
              "2292638   [588510, 413365, 528651, 593425, 747223, 66218...  \n",
              "12178307  [464880, 7545, 9637, 2463, 19170, 9203, 14898,...  \n",
              "7022574   [31625, 687083, 609593, 408855, 598418, 184121...  \n",
              "1144500   [745067, 734202, 703642, 702640, 738078, 72776...  \n",
              "14907387  [2114, 1221, 2856, 2873, 2862, 1958, 2526, 121...  \n",
              "10858236  [17708, 10948, 12694, 14842, 656442, 550303, 5...  "
            ]
          },
          "execution_count": 118,
          "metadata": {},
          "output_type": "execute_result"
        }
      ],
      "source": [
        "xb_player_info.sample(10)"
      ]
    },
    {
      "cell_type": "markdown",
      "metadata": {},
      "source": [
        "### Game focus"
      ]
    },
    {
      "cell_type": "code",
      "execution_count": 46,
      "metadata": {},
      "outputs": [],
      "source": [
        "xb_game_info = xbox_games.merge(xbox_achievements.rename(columns={'title': 'achievement_title'}), on=\"gameid\", how=\"left\")"
      ]
    },
    {
      "cell_type": "code",
      "execution_count": 47,
      "metadata": {},
      "outputs": [],
      "source": [
        "xb_game_info = xb_game_info.merge(xbox_prices, on=\"gameid\", how=\"left\")"
      ]
    },
    {
      "cell_type": "code",
      "execution_count": 48,
      "metadata": {},
      "outputs": [],
      "source": [
        "xb_game_info = xb_game_info.drop(columns=['date_acquired', 'points'])"
      ]
    },
    {
      "cell_type": "code",
      "execution_count": 49,
      "metadata": {},
      "outputs": [],
      "source": [
        "xb_game_info.rename(columns={'description': 'achievement_description'}, inplace=True)"
      ]
    },
    {
      "cell_type": "code",
      "execution_count": 50,
      "metadata": {},
      "outputs": [
        {
          "name": "stdout",
          "output_type": "stream",
          "text": [
            "<class 'pandas.core.frame.DataFrame'>\n",
            "RangeIndex: 323038 entries, 0 to 323037\n",
            "Data columns (total 15 columns):\n",
            " #   Column                   Non-Null Count   Dtype  \n",
            "---  ------                   --------------   -----  \n",
            " 0   gameid                   323038 non-null  int64  \n",
            " 1   title                    323038 non-null  object \n",
            " 2   developers               304402 non-null  object \n",
            " 3   publishers               305059 non-null  object \n",
            " 4   genres                   304168 non-null  object \n",
            " 5   supported_languages      132805 non-null  object \n",
            " 6   release_date             323038 non-null  object \n",
            " 7   achievementid            323038 non-null  object \n",
            " 8   achievement_title        323037 non-null  object \n",
            " 9   achievement_description  322984 non-null  object \n",
            " 10  usd                      237247 non-null  float64\n",
            " 11  eur                      226837 non-null  float64\n",
            " 12  gbp                      234618 non-null  float64\n",
            " 13  jpy                      0 non-null       float64\n",
            " 14  rub                      210234 non-null  float64\n",
            "dtypes: float64(5), int64(1), object(9)\n",
            "memory usage: 37.0+ MB\n"
          ]
        }
      ],
      "source": [
        "xb_game_info.info()"
      ]
    },
    {
      "cell_type": "markdown",
      "metadata": {},
      "source": [
        "## Game Info Across Platforms"
      ]
    },
    {
      "cell_type": "code",
      "execution_count": 51,
      "metadata": {},
      "outputs": [
        {
          "data": {
            "text/plain": [
              "23151"
            ]
          },
          "execution_count": 51,
          "metadata": {},
          "output_type": "execute_result"
        }
      ],
      "source": [
        "len(ps_game_info['gameid'].unique())"
      ]
    },
    {
      "cell_type": "code",
      "execution_count": 52,
      "metadata": {},
      "outputs": [
        {
          "data": {
            "text/plain": [
              "98248"
            ]
          },
          "execution_count": 52,
          "metadata": {},
          "output_type": "execute_result"
        }
      ],
      "source": [
        "len(st_game_info['gameid'].unique())"
      ]
    },
    {
      "cell_type": "code",
      "execution_count": 53,
      "metadata": {},
      "outputs": [
        {
          "data": {
            "text/plain": [
              "10489"
            ]
          },
          "execution_count": 53,
          "metadata": {},
          "output_type": "execute_result"
        }
      ],
      "source": [
        "len(xb_game_info['gameid'].unique())"
      ]
    },
    {
      "cell_type": "code",
      "execution_count": 54,
      "metadata": {},
      "outputs": [
        {
          "name": "stdout",
          "output_type": "stream",
          "text": [
            "Shared titles between PS & ST: 5571\n",
            "Shared titles between PS & XB: 5360\n",
            "Shared titles between ST & XB: 5540\n",
            "Shared across all three: 3815\n"
          ]
        }
      ],
      "source": [
        "ps_titles = set(ps_game_info['title'].str.lower().str.strip())\n",
        "st_titles = set(st_game_info['title'].str.lower().str.strip())\n",
        "xb_titles = set(xb_game_info['title'].str.lower().str.strip())\n",
        "\n",
        "shared_ps_st = ps_titles.intersection(st_titles)\n",
        "shared_ps_xb = ps_titles.intersection(xb_titles)\n",
        "shared_st_xb = st_titles.intersection(xb_titles)\n",
        "shared_all = ps_titles.intersection(st_titles, xb_titles)\n",
        "\n",
        "print(f\"Shared titles between PS & ST: {len(shared_ps_st)}\")\n",
        "print(f\"Shared titles between PS & XB: {len(shared_ps_xb)}\")\n",
        "print(f\"Shared titles between ST & XB: {len(shared_st_xb)}\")\n",
        "print(f\"Shared across all three: {len(shared_all)}\")\n"
      ]
    },
    {
      "cell_type": "code",
      "execution_count": 55,
      "metadata": {},
      "outputs": [],
      "source": [
        "def clean_game_info(df, platform):\n",
        "    df = df.copy()\n",
        "    \n",
        "    # drop platform-specific columns (ps_game_info's 'rarity' and 'PS_platform')\n",
        "    drop_cols = ['date_acquired', 'rarity', 'PS_platform']\n",
        "    df = df.drop(columns=[col for col in drop_cols if col in df.columns], errors='ignore')\n",
        "\n",
        "    # add platform column\n",
        "    df['platform'] = platform\n",
        "    \n",
        "    return df"
      ]
    },
    {
      "cell_type": "code",
      "execution_count": 56,
      "metadata": {},
      "outputs": [],
      "source": [
        "ps_game_info_clean = clean_game_info(ps_game_info, 'ps')"
      ]
    },
    {
      "cell_type": "code",
      "execution_count": 57,
      "metadata": {},
      "outputs": [
        {
          "data": {
            "text/plain": [
              "Index(['gameid', 'title', 'developers', 'publishers', 'genres',\n",
              "       'supported_languages', 'release_date', 'achievementid',\n",
              "       'achievement_title', 'achievement_description', 'usd', 'eur', 'gbp',\n",
              "       'jpy', 'rub', 'platform'],\n",
              "      dtype='object')"
            ]
          },
          "execution_count": 57,
          "metadata": {},
          "output_type": "execute_result"
        }
      ],
      "source": [
        "ps_game_info_clean.columns"
      ]
    },
    {
      "cell_type": "code",
      "execution_count": 58,
      "metadata": {},
      "outputs": [],
      "source": [
        "st_game_info_clean = clean_game_info(st_game_info, 'st')"
      ]
    },
    {
      "cell_type": "code",
      "execution_count": 59,
      "metadata": {},
      "outputs": [
        {
          "data": {
            "text/plain": [
              "Index(['gameid', 'title', 'developers', 'publishers', 'genres',\n",
              "       'supported_languages', 'release_date', 'achievementid',\n",
              "       'achievement_title', 'achievement_description', 'usd', 'eur', 'gbp',\n",
              "       'jpy', 'rub', 'platform'],\n",
              "      dtype='object')"
            ]
          },
          "execution_count": 59,
          "metadata": {},
          "output_type": "execute_result"
        }
      ],
      "source": [
        "st_game_info_clean.columns"
      ]
    },
    {
      "cell_type": "code",
      "execution_count": 60,
      "metadata": {},
      "outputs": [],
      "source": [
        "xb_game_info_clean = clean_game_info(xb_game_info, 'xb')"
      ]
    },
    {
      "cell_type": "code",
      "execution_count": 61,
      "metadata": {},
      "outputs": [
        {
          "data": {
            "text/plain": [
              "Index(['gameid', 'title', 'developers', 'publishers', 'genres',\n",
              "       'supported_languages', 'release_date', 'achievementid',\n",
              "       'achievement_title', 'achievement_description', 'usd', 'eur', 'gbp',\n",
              "       'jpy', 'rub', 'platform'],\n",
              "      dtype='object')"
            ]
          },
          "execution_count": 61,
          "metadata": {},
          "output_type": "execute_result"
        }
      ],
      "source": [
        "xb_game_info_clean.columns"
      ]
    },
    {
      "cell_type": "code",
      "execution_count": 62,
      "metadata": {},
      "outputs": [
        {
          "name": "stdout",
          "output_type": "stream",
          "text": [
            "Merged dataset shape: (431985, 16)\n"
          ]
        }
      ],
      "source": [
        "shared_games = set(ps_game_info_clean['title']) & set(st_game_info_clean['title']) & set(xb_game_info_clean['title'])\n",
        "\n",
        "ps_game_info_clean = ps_game_info_clean[ps_game_info_clean['title'].isin(shared_games)]\n",
        "st_game_info_clean = st_game_info_clean[st_game_info_clean['title'].isin(shared_games)]\n",
        "xb_game_info_clean = xb_game_info_clean[xb_game_info_clean['title'].isin(shared_games)]\n",
        "\n",
        "merged_game_info = pd.concat([ps_game_info_clean, st_game_info_clean, xb_game_info_clean], ignore_index=True)\n",
        "\n",
        "print(f\"Merged dataset shape: {merged_game_info.shape}\")"
      ]
    },
    {
      "cell_type": "code",
      "execution_count": 63,
      "metadata": {},
      "outputs": [
        {
          "name": "stdout",
          "output_type": "stream",
          "text": [
            "<class 'pandas.core.frame.DataFrame'>\n",
            "RangeIndex: 431985 entries, 0 to 431984\n",
            "Data columns (total 16 columns):\n",
            " #   Column                   Non-Null Count   Dtype  \n",
            "---  ------                   --------------   -----  \n",
            " 0   gameid                   431985 non-null  int64  \n",
            " 1   title                    431985 non-null  object \n",
            " 2   developers               430744 non-null  object \n",
            " 3   publishers               430459 non-null  object \n",
            " 4   genres                   430507 non-null  object \n",
            " 5   supported_languages      274284 non-null  object \n",
            " 6   release_date             431985 non-null  object \n",
            " 7   achievementid            431807 non-null  object \n",
            " 8   achievement_title        431801 non-null  object \n",
            " 9   achievement_description  414137 non-null  object \n",
            " 10  usd                      398232 non-null  float64\n",
            " 11  eur                      386835 non-null  float64\n",
            " 12  gbp                      396497 non-null  float64\n",
            " 13  jpy                      186153 non-null  float64\n",
            " 14  rub                      224923 non-null  float64\n",
            " 15  platform                 431985 non-null  object \n",
            "dtypes: float64(5), int64(1), object(10)\n",
            "memory usage: 52.7+ MB\n"
          ]
        }
      ],
      "source": [
        "merged_game_info.info()"
      ]
    },
    {
      "cell_type": "code",
      "execution_count": 64,
      "metadata": {},
      "outputs": [
        {
          "data": {
            "text/plain": [
              "achievementid\n",
              "749591_6100112             1\n",
              "384010_PIECE_OF_CAKE       1\n",
              "384180_ACH_SHOP_A_HOLIC    1\n",
              "384180_ACH_BLACKJACK       1\n",
              "384180_ACH_BILLIONAIRE     1\n",
              "                          ..\n",
              "603576_4978957             1\n",
              "603576_4978956             1\n",
              "603576_4978955             1\n",
              "603576_4978954             1\n",
              "711118_5703719             1\n",
              "Name: count, Length: 431807, dtype: int64"
            ]
          },
          "execution_count": 64,
          "metadata": {},
          "output_type": "execute_result"
        }
      ],
      "source": [
        "merged_game_info['achievementid'].value_counts()"
      ]
    },
    {
      "cell_type": "code",
      "execution_count": 65,
      "metadata": {},
      "outputs": [
        {
          "data": {
            "text/plain": [
              "platform\n",
              "ps    205901\n",
              "st    114850\n",
              "xb    111234\n",
              "Name: count, dtype: int64"
            ]
          },
          "execution_count": 65,
          "metadata": {},
          "output_type": "execute_result"
        }
      ],
      "source": [
        "merged_game_info['platform'].value_counts()"
      ]
    },
    {
      "cell_type": "markdown",
      "metadata": {},
      "source": [
        "## Long and Tidy Form\n",
        "A tidy dataset follows the principles:\n",
        "1. Each column is a single variable.\n",
        "2. Each row is a single observation.\n",
        "3. Each cell contains a single value.\n",
        "\n",
        "#### Issues with the current merged_game_info:\n",
        "- **We decide to leave it unchanged as our analysis will base on it**: The platform column is categorical, meaning the same game can appear multiple times (once per platform). This makes it long format.\n",
        "- Price columns (usd, eur, etc.) are separate instead of melted into a single column, which makes the dataset wide instead of long, which is not tidy."
      ]
    },
    {
      "cell_type": "code",
      "execution_count": 66,
      "metadata": {},
      "outputs": [],
      "source": [
        "# convert price columns into a long format\n",
        "tidy_game_info = merged_game_info.melt(\n",
        "    id_vars=[\n",
        "        \"gameid\", \"title\", \"developers\", \"publishers\", \"genres\",\n",
        "        \"supported_languages\", \"release_date\", \"achievementid\",\n",
        "        \"achievement_title\", \"achievement_description\", \"platform\"\n",
        "    ],\n",
        "    value_vars=[\"usd\", \"eur\", \"gbp\", \"jpy\", \"rub\"],\n",
        "    var_name=\"currency\",\n",
        "    value_name=\"price\"\n",
        ")"
      ]
    },
    {
      "cell_type": "code",
      "execution_count": 67,
      "metadata": {},
      "outputs": [
        {
          "data": {
            "text/plain": [
              "(2159925, 13)"
            ]
          },
          "execution_count": 67,
          "metadata": {},
          "output_type": "execute_result"
        }
      ],
      "source": [
        "tidy_game_info.shape"
      ]
    },
    {
      "cell_type": "code",
      "execution_count": 68,
      "metadata": {},
      "outputs": [
        {
          "name": "stdout",
          "output_type": "stream",
          "text": [
            "<class 'pandas.core.frame.DataFrame'>\n",
            "RangeIndex: 2159925 entries, 0 to 2159924\n",
            "Data columns (total 13 columns):\n",
            " #   Column                   Dtype  \n",
            "---  ------                   -----  \n",
            " 0   gameid                   int64  \n",
            " 1   title                    object \n",
            " 2   developers               object \n",
            " 3   publishers               object \n",
            " 4   genres                   object \n",
            " 5   supported_languages      object \n",
            " 6   release_date             object \n",
            " 7   achievementid            object \n",
            " 8   achievement_title        object \n",
            " 9   achievement_description  object \n",
            " 10  platform                 object \n",
            " 11  currency                 object \n",
            " 12  price                    float64\n",
            "dtypes: float64(1), int64(1), object(11)\n",
            "memory usage: 214.2+ MB\n"
          ]
        }
      ],
      "source": [
        "tidy_game_info.info()"
      ]
    },
    {
      "cell_type": "code",
      "execution_count": 69,
      "metadata": {},
      "outputs": [
        {
          "data": {
            "text/html": [
              "<div>\n",
              "<style scoped>\n",
              "    .dataframe tbody tr th:only-of-type {\n",
              "        vertical-align: middle;\n",
              "    }\n",
              "\n",
              "    .dataframe tbody tr th {\n",
              "        vertical-align: top;\n",
              "    }\n",
              "\n",
              "    .dataframe thead th {\n",
              "        text-align: right;\n",
              "    }\n",
              "</style>\n",
              "<table border=\"1\" class=\"dataframe\">\n",
              "  <thead>\n",
              "    <tr style=\"text-align: right;\">\n",
              "      <th></th>\n",
              "      <th>gameid</th>\n",
              "      <th>title</th>\n",
              "      <th>developers</th>\n",
              "      <th>publishers</th>\n",
              "      <th>genres</th>\n",
              "      <th>supported_languages</th>\n",
              "      <th>release_date</th>\n",
              "      <th>achievementid</th>\n",
              "      <th>achievement_title</th>\n",
              "      <th>achievement_description</th>\n",
              "      <th>platform</th>\n",
              "      <th>currency</th>\n",
              "      <th>price</th>\n",
              "    </tr>\n",
              "  </thead>\n",
              "  <tbody>\n",
              "    <tr>\n",
              "      <th>1514277</th>\n",
              "      <td>2235020</td>\n",
              "      <td>Contra: Operation Galuga</td>\n",
              "      <td>['WayForward']</td>\n",
              "      <td>['KONAMI']</td>\n",
              "      <td>['Action']</td>\n",
              "      <td>['English', 'French', 'Italian', 'German', 'Po...</td>\n",
              "      <td>2024-03-12</td>\n",
              "      <td>2235020_ACHIEVEMENT_36</td>\n",
              "      <td>Ganbare! Go, man!</td>\n",
              "      <td>NaN</td>\n",
              "      <td>st</td>\n",
              "      <td>jpy</td>\n",
              "      <td>3850.00</td>\n",
              "    </tr>\n",
              "    <tr>\n",
              "      <th>50241</th>\n",
              "      <td>459538</td>\n",
              "      <td>Takorita Meets Fries</td>\n",
              "      <td>['ROSEVERTE']</td>\n",
              "      <td>['Ratalaika Games']</td>\n",
              "      <td>['Visual Novel']</td>\n",
              "      <td>NaN</td>\n",
              "      <td>2021-10-01</td>\n",
              "      <td>459538_4126573</td>\n",
              "      <td>All CGs Unlocked!</td>\n",
              "      <td>You've unlocked all of the CGs.</td>\n",
              "      <td>ps</td>\n",
              "      <td>usd</td>\n",
              "      <td>4.99</td>\n",
              "    </tr>\n",
              "    <tr>\n",
              "      <th>1793752</th>\n",
              "      <td>407920</td>\n",
              "      <td>Quest Hunter</td>\n",
              "      <td>['2 Zombie Games']</td>\n",
              "      <td>['2 Zombie Games']</td>\n",
              "      <td>['Action-RPG', 'Role Playing']</td>\n",
              "      <td>['Japanese', 'French', 'German', 'Russian', 'C...</td>\n",
              "      <td>2020-09-04</td>\n",
              "      <td>407920_3721221</td>\n",
              "      <td>Great rescuer</td>\n",
              "      <td>Rescue the Princess</td>\n",
              "      <td>ps</td>\n",
              "      <td>rub</td>\n",
              "      <td>NaN</td>\n",
              "    </tr>\n",
              "    <tr>\n",
              "      <th>418559</th>\n",
              "      <td>468424</td>\n",
              "      <td>Stardew Valley</td>\n",
              "      <td>['ConcernedApe']</td>\n",
              "      <td>['ConcernedApe', '505 Games']</td>\n",
              "      <td>['Management']</td>\n",
              "      <td>NaN</td>\n",
              "      <td>2021-12-02</td>\n",
              "      <td>468424_4203475</td>\n",
              "      <td>Moving Up</td>\n",
              "      <td>Upgrade your house.</td>\n",
              "      <td>xb</td>\n",
              "      <td>usd</td>\n",
              "      <td>14.99</td>\n",
              "    </tr>\n",
              "    <tr>\n",
              "      <th>1527379</th>\n",
              "      <td>1177020</td>\n",
              "      <td>Gigantosaurus The Game</td>\n",
              "      <td>['WildSphere']</td>\n",
              "      <td>['Outright Games Ltd.']</td>\n",
              "      <td>['Adventure', 'Racing']</td>\n",
              "      <td>['English', 'French', 'Italian', 'German', 'Sp...</td>\n",
              "      <td>2020-03-26</td>\n",
              "      <td>1177020_ACH_LEAVESTHEMBEHING</td>\n",
              "      <td>Leaves Them Behind</td>\n",
              "      <td>Finish 1st in race from the Jungle to the Desert</td>\n",
              "      <td>st</td>\n",
              "      <td>jpy</td>\n",
              "      <td>2570.00</td>\n",
              "    </tr>\n",
              "  </tbody>\n",
              "</table>\n",
              "</div>"
            ],
            "text/plain": [
              "          gameid                     title          developers  \\\n",
              "1514277  2235020  Contra: Operation Galuga      ['WayForward']   \n",
              "50241     459538      Takorita Meets Fries       ['ROSEVERTE']   \n",
              "1793752   407920              Quest Hunter  ['2 Zombie Games']   \n",
              "418559    468424            Stardew Valley    ['ConcernedApe']   \n",
              "1527379  1177020    Gigantosaurus The Game      ['WildSphere']   \n",
              "\n",
              "                            publishers                          genres  \\\n",
              "1514277                     ['KONAMI']                      ['Action']   \n",
              "50241              ['Ratalaika Games']                ['Visual Novel']   \n",
              "1793752             ['2 Zombie Games']  ['Action-RPG', 'Role Playing']   \n",
              "418559   ['ConcernedApe', '505 Games']                  ['Management']   \n",
              "1527379        ['Outright Games Ltd.']         ['Adventure', 'Racing']   \n",
              "\n",
              "                                       supported_languages release_date  \\\n",
              "1514277  ['English', 'French', 'Italian', 'German', 'Po...   2024-03-12   \n",
              "50241                                                  NaN   2021-10-01   \n",
              "1793752  ['Japanese', 'French', 'German', 'Russian', 'C...   2020-09-04   \n",
              "418559                                                 NaN   2021-12-02   \n",
              "1527379  ['English', 'French', 'Italian', 'German', 'Sp...   2020-03-26   \n",
              "\n",
              "                        achievementid   achievement_title  \\\n",
              "1514277        2235020_ACHIEVEMENT_36   Ganbare! Go, man!   \n",
              "50241                  459538_4126573   All CGs Unlocked!   \n",
              "1793752                407920_3721221       Great rescuer   \n",
              "418559                 468424_4203475           Moving Up   \n",
              "1527379  1177020_ACH_LEAVESTHEMBEHING  Leaves Them Behind   \n",
              "\n",
              "                                  achievement_description platform currency  \\\n",
              "1514277                                               NaN       st      jpy   \n",
              "50241                     You've unlocked all of the CGs.       ps      usd   \n",
              "1793752                               Rescue the Princess       ps      rub   \n",
              "418559                                Upgrade your house.       xb      usd   \n",
              "1527379  Finish 1st in race from the Jungle to the Desert       st      jpy   \n",
              "\n",
              "           price  \n",
              "1514277  3850.00  \n",
              "50241       4.99  \n",
              "1793752      NaN  \n",
              "418559     14.99  \n",
              "1527379  2570.00  "
            ]
          },
          "execution_count": 69,
          "metadata": {},
          "output_type": "execute_result"
        }
      ],
      "source": [
        "tidy_game_info.sample(5)"
      ]
    },
    {
      "cell_type": "code",
      "execution_count": 70,
      "metadata": {},
      "outputs": [
        {
          "data": {
            "text/plain": [
              "achievementid\n",
              "749591_6100112             5\n",
              "384010_PIECE_OF_CAKE       5\n",
              "384180_ACH_SHOP_A_HOLIC    5\n",
              "384180_ACH_BLACKJACK       5\n",
              "384180_ACH_BILLIONAIRE     5\n",
              "                          ..\n",
              "603576_4978957             5\n",
              "603576_4978956             5\n",
              "603576_4978955             5\n",
              "603576_4978954             5\n",
              "711118_5703719             5\n",
              "Name: count, Length: 431807, dtype: int64"
            ]
          },
          "execution_count": 70,
          "metadata": {},
          "output_type": "execute_result"
        }
      ],
      "source": [
        "tidy_game_info['achievementid'].value_counts()"
      ]
    },
    {
      "cell_type": "markdown",
      "metadata": {},
      "source": [
        "## Preprocessing"
      ]
    },
    {
      "cell_type": "markdown",
      "metadata": {},
      "source": [
        "### 1. Check for missing values"
      ]
    },
    {
      "cell_type": "code",
      "execution_count": 71,
      "metadata": {},
      "outputs": [
        {
          "data": {
            "text/html": [
              "<div>\n",
              "<style scoped>\n",
              "    .dataframe tbody tr th:only-of-type {\n",
              "        vertical-align: middle;\n",
              "    }\n",
              "\n",
              "    .dataframe tbody tr th {\n",
              "        vertical-align: top;\n",
              "    }\n",
              "\n",
              "    .dataframe thead th {\n",
              "        text-align: right;\n",
              "    }\n",
              "</style>\n",
              "<table border=\"1\" class=\"dataframe\">\n",
              "  <thead>\n",
              "    <tr style=\"text-align: right;\">\n",
              "      <th></th>\n",
              "      <th>col</th>\n",
              "      <th>num_missing</th>\n",
              "      <th>missing_pcnt</th>\n",
              "    </tr>\n",
              "  </thead>\n",
              "  <tbody>\n",
              "    <tr>\n",
              "      <th>0</th>\n",
              "      <td>gameid</td>\n",
              "      <td>0</td>\n",
              "      <td>0.00</td>\n",
              "    </tr>\n",
              "    <tr>\n",
              "      <th>1</th>\n",
              "      <td>title</td>\n",
              "      <td>0</td>\n",
              "      <td>0.00</td>\n",
              "    </tr>\n",
              "    <tr>\n",
              "      <th>2</th>\n",
              "      <td>developers</td>\n",
              "      <td>6205</td>\n",
              "      <td>1.44</td>\n",
              "    </tr>\n",
              "    <tr>\n",
              "      <th>3</th>\n",
              "      <td>publishers</td>\n",
              "      <td>7630</td>\n",
              "      <td>1.77</td>\n",
              "    </tr>\n",
              "    <tr>\n",
              "      <th>4</th>\n",
              "      <td>genres</td>\n",
              "      <td>7390</td>\n",
              "      <td>1.71</td>\n",
              "    </tr>\n",
              "    <tr>\n",
              "      <th>5</th>\n",
              "      <td>supported_languages</td>\n",
              "      <td>788505</td>\n",
              "      <td>182.53</td>\n",
              "    </tr>\n",
              "    <tr>\n",
              "      <th>6</th>\n",
              "      <td>release_date</td>\n",
              "      <td>0</td>\n",
              "      <td>0.00</td>\n",
              "    </tr>\n",
              "    <tr>\n",
              "      <th>7</th>\n",
              "      <td>achievementid</td>\n",
              "      <td>890</td>\n",
              "      <td>0.21</td>\n",
              "    </tr>\n",
              "    <tr>\n",
              "      <th>8</th>\n",
              "      <td>achievement_title</td>\n",
              "      <td>920</td>\n",
              "      <td>0.21</td>\n",
              "    </tr>\n",
              "    <tr>\n",
              "      <th>9</th>\n",
              "      <td>achievement_description</td>\n",
              "      <td>89240</td>\n",
              "      <td>20.66</td>\n",
              "    </tr>\n",
              "    <tr>\n",
              "      <th>10</th>\n",
              "      <td>platform</td>\n",
              "      <td>0</td>\n",
              "      <td>0.00</td>\n",
              "    </tr>\n",
              "    <tr>\n",
              "      <th>11</th>\n",
              "      <td>currency</td>\n",
              "      <td>0</td>\n",
              "      <td>0.00</td>\n",
              "    </tr>\n",
              "    <tr>\n",
              "      <th>12</th>\n",
              "      <td>price</td>\n",
              "      <td>567285</td>\n",
              "      <td>131.32</td>\n",
              "    </tr>\n",
              "  </tbody>\n",
              "</table>\n",
              "</div>"
            ],
            "text/plain": [
              "                        col  num_missing  missing_pcnt\n",
              "0                    gameid            0          0.00\n",
              "1                     title            0          0.00\n",
              "2                developers         6205          1.44\n",
              "3                publishers         7630          1.77\n",
              "4                    genres         7390          1.71\n",
              "5       supported_languages       788505        182.53\n",
              "6              release_date            0          0.00\n",
              "7             achievementid          890          0.21\n",
              "8         achievement_title          920          0.21\n",
              "9   achievement_description        89240         20.66\n",
              "10                 platform            0          0.00\n",
              "11                 currency            0          0.00\n",
              "12                    price       567285        131.32"
            ]
          },
          "execution_count": 71,
          "metadata": {},
          "output_type": "execute_result"
        }
      ],
      "source": [
        "# count missing values per column\n",
        "null_counts = tidy_game_info.isnull().sum().reset_index()\n",
        "null_counts.columns = [\"col\", \"num_missing\"]\n",
        "null_counts[\"missing_pcnt\"] = round((null_counts[\"num_missing\"] / len(merged_game_info)) * 100, 2)\n",
        "\n",
        "null_counts"
      ]
    },
    {
      "cell_type": "markdown",
      "metadata": {},
      "source": [
        "#### Here’s how we decide to handle missing values effectively [Used GPT-4o for tailoring to table format]:\n",
        "\n",
        "**Columns with Minor Missing Data (< 5%)**\n",
        "| Column | Missing % | Suggested Action |\n",
        "|---------|----------|-----------------|\n",
        "| **developers** | 0.27% | Fill with \"unknown\" to maintain consistency. |\n",
        "| **publishers** | 1.38% | Fill with \"unknown\" for completeness. |\n",
        "| **genres** | 0.43% | Fill with \"unknown\", since games without a genre classification are rare. |\n",
        "| **achievementid** | 0.69% | Likely an error or missing achievements, can be kept as NaN. |\n",
        "| **achievement_title** | 0.69% | Likely corresponds to missing achievementid, can be kept as NaN. |\n",
        "\n",
        "- **Action: Fill developers, publishers, and genres with \"unknown\", and leave missing achievements as NaN.**\n",
        "\n",
        "---\n",
        "\n",
        "**Columns with Moderate Missing Data (5% - 30%)**\n",
        "| Column | Missing % | Suggested Action |\n",
        "|---------|----------|-----------------|\n",
        "| **supported_languages** | 27.35% | Keep as NaN, since language availability is an actual missing feature. |\n",
        "\n",
        "- **Action: Keep supported_languages as NaN, since not all games support multiple languages. We don't want to introduce incorrect data.**\n",
        "\n",
        "---\n",
        "\n",
        "**Columns with High Missing Data (> 50%)**\n",
        "| Column | Missing % | Suggested Action |\n",
        "|---------|----------|-----------------|\n",
        "| **achievement_description** | 69.11% | Fill missing values with \"unknown\". |\n",
        "| **price** | 71.58% | Keep as NaN—missing prices could indicate unavailable data, regional limitations, or discontinued games. |\n",
        "\n",
        "**Action:**\n",
        "- **Fill achievement_description with \"No description available\"** to avoid empty fields.\n",
        "- **Keep price as NaN**, since forcing imputation could lead to inaccurate pricing."
      ]
    },
    {
      "cell_type": "code",
      "execution_count": 72,
      "metadata": {},
      "outputs": [
        {
          "name": "stderr",
          "output_type": "stream",
          "text": [
            "/var/folders/vr/syshz9v92js62ld8ch0rw37r0000gn/T/ipykernel_98820/1875302043.py:2: FutureWarning: A value is trying to be set on a copy of a DataFrame or Series through chained assignment using an inplace method.\n",
            "The behavior will change in pandas 3.0. This inplace method will never work because the intermediate object on which we are setting values always behaves as a copy.\n",
            "\n",
            "For example, when doing 'df[col].method(value, inplace=True)', try using 'df.method({col: value}, inplace=True)' or df[col] = df[col].method(value) instead, to perform the operation inplace on the original object.\n",
            "\n",
            "\n",
            "  tidy_game_info[\"developers\"].fillna(\"unknown\", inplace=True)\n",
            "/var/folders/vr/syshz9v92js62ld8ch0rw37r0000gn/T/ipykernel_98820/1875302043.py:3: FutureWarning: A value is trying to be set on a copy of a DataFrame or Series through chained assignment using an inplace method.\n",
            "The behavior will change in pandas 3.0. This inplace method will never work because the intermediate object on which we are setting values always behaves as a copy.\n",
            "\n",
            "For example, when doing 'df[col].method(value, inplace=True)', try using 'df.method({col: value}, inplace=True)' or df[col] = df[col].method(value) instead, to perform the operation inplace on the original object.\n",
            "\n",
            "\n",
            "  tidy_game_info[\"publishers\"].fillna(\"unknown\", inplace=True)\n",
            "/var/folders/vr/syshz9v92js62ld8ch0rw37r0000gn/T/ipykernel_98820/1875302043.py:4: FutureWarning: A value is trying to be set on a copy of a DataFrame or Series through chained assignment using an inplace method.\n",
            "The behavior will change in pandas 3.0. This inplace method will never work because the intermediate object on which we are setting values always behaves as a copy.\n",
            "\n",
            "For example, when doing 'df[col].method(value, inplace=True)', try using 'df.method({col: value}, inplace=True)' or df[col] = df[col].method(value) instead, to perform the operation inplace on the original object.\n",
            "\n",
            "\n",
            "  tidy_game_info[\"genres\"].fillna(\"unknown\", inplace=True)\n",
            "/var/folders/vr/syshz9v92js62ld8ch0rw37r0000gn/T/ipykernel_98820/1875302043.py:5: FutureWarning: A value is trying to be set on a copy of a DataFrame or Series through chained assignment using an inplace method.\n",
            "The behavior will change in pandas 3.0. This inplace method will never work because the intermediate object on which we are setting values always behaves as a copy.\n",
            "\n",
            "For example, when doing 'df[col].method(value, inplace=True)', try using 'df.method({col: value}, inplace=True)' or df[col] = df[col].method(value) instead, to perform the operation inplace on the original object.\n",
            "\n",
            "\n",
            "  tidy_game_info[\"achievement_description\"].fillna(\"unknown\", inplace=True)\n"
          ]
        }
      ],
      "source": [
        "# fill missing values for categorical text columns\n",
        "tidy_game_info[\"developers\"].fillna(\"unknown\", inplace=True)\n",
        "tidy_game_info[\"publishers\"].fillna(\"unknown\", inplace=True)\n",
        "tidy_game_info[\"genres\"].fillna(\"unknown\", inplace=True)\n",
        "tidy_game_info[\"achievement_description\"].fillna(\"unknown\", inplace=True)"
      ]
    },
    {
      "cell_type": "markdown",
      "metadata": {},
      "source": [
        "### 2. Multi-valued cols"
      ]
    },
    {
      "cell_type": "code",
      "execution_count": 73,
      "metadata": {},
      "outputs": [
        {
          "data": {
            "text/html": [
              "<div>\n",
              "<style scoped>\n",
              "    .dataframe tbody tr th:only-of-type {\n",
              "        vertical-align: middle;\n",
              "    }\n",
              "\n",
              "    .dataframe tbody tr th {\n",
              "        vertical-align: top;\n",
              "    }\n",
              "\n",
              "    .dataframe thead th {\n",
              "        text-align: right;\n",
              "    }\n",
              "</style>\n",
              "<table border=\"1\" class=\"dataframe\">\n",
              "  <thead>\n",
              "    <tr style=\"text-align: right;\">\n",
              "      <th></th>\n",
              "      <th>gameid</th>\n",
              "      <th>title</th>\n",
              "      <th>developers</th>\n",
              "      <th>publishers</th>\n",
              "      <th>genres</th>\n",
              "      <th>supported_languages</th>\n",
              "      <th>release_date</th>\n",
              "      <th>achievementid</th>\n",
              "      <th>achievement_title</th>\n",
              "      <th>achievement_description</th>\n",
              "      <th>platform</th>\n",
              "      <th>currency</th>\n",
              "      <th>price</th>\n",
              "    </tr>\n",
              "  </thead>\n",
              "  <tbody>\n",
              "    <tr>\n",
              "      <th>2123152</th>\n",
              "      <td>673694</td>\n",
              "      <td>CLeM</td>\n",
              "      <td>['Mango Protocol']</td>\n",
              "      <td>['Mango Protocol']</td>\n",
              "      <td>['Adventure', 'Point &amp; Click']</td>\n",
              "      <td>NaN</td>\n",
              "      <td>2024-07-17</td>\n",
              "      <td>673694_5460162</td>\n",
              "      <td>Determination</td>\n",
              "      <td>You've delivered a snail.</td>\n",
              "      <td>xb</td>\n",
              "      <td>rub</td>\n",
              "      <td>1421.00</td>\n",
              "    </tr>\n",
              "    <tr>\n",
              "      <th>220782</th>\n",
              "      <td>1944910</td>\n",
              "      <td>Thunder Ray</td>\n",
              "      <td>['Purple Tree S R L']</td>\n",
              "      <td>['Purple Tree S R L']</td>\n",
              "      <td>['Action', 'Casual', 'Indie', 'Sports']</td>\n",
              "      <td>['English', 'French', 'Italian', 'German', 'Sp...</td>\n",
              "      <td>2023-09-14</td>\n",
              "      <td>1944910_ACH_UNLOCK_ALL_SPECIALS</td>\n",
              "      <td>Thunder Fist</td>\n",
              "      <td>Unlock all special attacks</td>\n",
              "      <td>st</td>\n",
              "      <td>usd</td>\n",
              "      <td>14.99</td>\n",
              "    </tr>\n",
              "    <tr>\n",
              "      <th>2135676</th>\n",
              "      <td>567937</td>\n",
              "      <td>ZERO GUNNER 2-</td>\n",
              "      <td>['Zerodiv', 'City Connection']</td>\n",
              "      <td>['City Connection']</td>\n",
              "      <td>[\"Shoot 'em up\"]</td>\n",
              "      <td>NaN</td>\n",
              "      <td>2023-01-11</td>\n",
              "      <td>567937_4731667</td>\n",
              "      <td>Take off Comanche</td>\n",
              "      <td>Clear the game with Comanche</td>\n",
              "      <td>xb</td>\n",
              "      <td>rub</td>\n",
              "      <td>799.00</td>\n",
              "    </tr>\n",
              "    <tr>\n",
              "      <th>589900</th>\n",
              "      <td>550477</td>\n",
              "      <td>Police Simulator: Patrol Officers</td>\n",
              "      <td>['Aesir Interactive']</td>\n",
              "      <td>['astragon Entertainment']</td>\n",
              "      <td>['Simulation']</td>\n",
              "      <td>['Japanese', 'French', 'Spanish', 'German', 'I...</td>\n",
              "      <td>2022-11-10</td>\n",
              "      <td>550477_4602485</td>\n",
              "      <td>Welcome To Historic Downtown</td>\n",
              "      <td>Start your first shift in Historic Downtown.</td>\n",
              "      <td>ps</td>\n",
              "      <td>eur</td>\n",
              "      <td>29.99</td>\n",
              "    </tr>\n",
              "    <tr>\n",
              "      <th>1569011</th>\n",
              "      <td>1487680</td>\n",
              "      <td>Broken Universe - Tower Defense</td>\n",
              "      <td>['Jinthree Studio']</td>\n",
              "      <td>['Jinthree Studio']</td>\n",
              "      <td>['Casual', 'Indie', 'Strategy']</td>\n",
              "      <td>['English', 'Korean', 'Japanese', 'Simplified ...</td>\n",
              "      <td>2023-02-04</td>\n",
              "      <td>1487680_ac_kardia</td>\n",
              "      <td>Kardia</td>\n",
              "      <td>Clear Planet Kardia</td>\n",
              "      <td>st</td>\n",
              "      <td>jpy</td>\n",
              "      <td>950.00</td>\n",
              "    </tr>\n",
              "  </tbody>\n",
              "</table>\n",
              "</div>"
            ],
            "text/plain": [
              "          gameid                              title  \\\n",
              "2123152   673694                               CLeM   \n",
              "220782   1944910                        Thunder Ray   \n",
              "2135676   567937                     ZERO GUNNER 2-   \n",
              "589900    550477  Police Simulator: Patrol Officers   \n",
              "1569011  1487680    Broken Universe - Tower Defense   \n",
              "\n",
              "                             developers                  publishers  \\\n",
              "2123152              ['Mango Protocol']          ['Mango Protocol']   \n",
              "220782            ['Purple Tree S R L']       ['Purple Tree S R L']   \n",
              "2135676  ['Zerodiv', 'City Connection']         ['City Connection']   \n",
              "589900            ['Aesir Interactive']  ['astragon Entertainment']   \n",
              "1569011             ['Jinthree Studio']         ['Jinthree Studio']   \n",
              "\n",
              "                                          genres  \\\n",
              "2123152           ['Adventure', 'Point & Click']   \n",
              "220782   ['Action', 'Casual', 'Indie', 'Sports']   \n",
              "2135676                         [\"Shoot 'em up\"]   \n",
              "589900                            ['Simulation']   \n",
              "1569011          ['Casual', 'Indie', 'Strategy']   \n",
              "\n",
              "                                       supported_languages release_date  \\\n",
              "2123152                                                NaN   2024-07-17   \n",
              "220782   ['English', 'French', 'Italian', 'German', 'Sp...   2023-09-14   \n",
              "2135676                                                NaN   2023-01-11   \n",
              "589900   ['Japanese', 'French', 'Spanish', 'German', 'I...   2022-11-10   \n",
              "1569011  ['English', 'Korean', 'Japanese', 'Simplified ...   2023-02-04   \n",
              "\n",
              "                           achievementid             achievement_title  \\\n",
              "2123152                   673694_5460162                 Determination   \n",
              "220782   1944910_ACH_UNLOCK_ALL_SPECIALS                  Thunder Fist   \n",
              "2135676                   567937_4731667             Take off Comanche   \n",
              "589900                    550477_4602485  Welcome To Historic Downtown   \n",
              "1569011                1487680_ac_kardia                        Kardia   \n",
              "\n",
              "                              achievement_description platform currency  \\\n",
              "2123152                     You've delivered a snail.       xb      rub   \n",
              "220782                     Unlock all special attacks       st      usd   \n",
              "2135676                  Clear the game with Comanche       xb      rub   \n",
              "589900   Start your first shift in Historic Downtown.       ps      eur   \n",
              "1569011                           Clear Planet Kardia       st      jpy   \n",
              "\n",
              "           price  \n",
              "2123152  1421.00  \n",
              "220782     14.99  \n",
              "2135676   799.00  \n",
              "589900     29.99  \n",
              "1569011   950.00  "
            ]
          },
          "execution_count": 73,
          "metadata": {},
          "output_type": "execute_result"
        }
      ],
      "source": [
        "tidy_game_info.sample(5)"
      ]
    },
    {
      "cell_type": "markdown",
      "metadata": {},
      "source": [
        "#### Handling Multi-Valued Columns in Our Dataset [Used GPT-4o for tailoring grammar]\n",
        "\n",
        "Our dataset contains multi-valued columns such as `developers`, `publishers`, `genres`, and `supported_languages`, which are stored as **list-like strings**. Instead of immediately expanding them into multiple rows (long format) or separate columns (one-hot encoding), we are **keeping them in their original format** for the following reasons:\n",
        "\n",
        "1. **Data Integrity & Storage Efficiency**  \n",
        "   - Expanding these fields would significantly increase row count, making storage and initial processing heavier.\n",
        "   - Keeping them as lists allows us to preserve all information within a single row per game.\n",
        "\n",
        "2. **Flexibility for Future Analysis**  \n",
        "   - At later stages, we may **apply one-hot encoding** to `genres` and `supported_languages` for categorical analysis.  \n",
        "   - Alternatively, we can derive **summary features** such as:\n",
        "     - **Number of genres per game**\n",
        "     - **Number of supported languages**\n",
        "     - **Unique count of developers/publishers**\n",
        "   - These derived features will allow for a more structured comparison across games.\n",
        "\n",
        "By postponing transformation, we maintain efficiency while keeping the option open for structured feature extraction when needed.\n"
      ]
    },
    {
      "cell_type": "code",
      "execution_count": 74,
      "metadata": {},
      "outputs": [],
      "source": [
        "# tidy_game_info_noids = tidy_game_info.drop(columns=['gameid', 'achievementid'], inplace=True)"
      ]
    },
    {
      "cell_type": "markdown",
      "metadata": {},
      "source": [
        "### More notes on further merging\n",
        "\n",
        "Our current **tidy dataset** focuses solely on game-related information. To enrich the analysis, we plan additional merges with player data to uncover insights about game popularity, completion rates, and player demographics.\n",
        "\n",
        "### Planned Merges & Insights\n",
        "1. **Game Popularity Analysis**  \n",
        "   - Merge with `purchased_games.csv` (for each platform) to **count the number of players who own each game**.\n",
        "   - This helps identify **best-selling games** and platform-specific purchase trends.\n",
        "\n",
        "2. **Game Completion Rates**  \n",
        "   - Merge with `history.csv` to **track when players earn end-game achievements**.\n",
        "   - Calculate the **average time to completion** and **percentage of players finishing a game**.\n",
        "   - Investigate if certain **genres have higher completion rates** (e.g., RPGs vs. casual games).\n",
        "  \n",
        "3. **Pricing & Sales Relationship:**  \n",
        "   - Merge `prices.csv` to analyze how **price fluctuations impact purchases**.\n",
        "  \n",
        "4. **Cross-Platform Player Behavior:**  \n",
        "   - Identify players who own **the same game across multiple platforms** to study cross-platform engagement.\n",
        "   - Merge with `players.csv` and **cluster by country** to analyze **regional gaming preferences**.\n"
      ]
    },
    {
      "cell_type": "markdown",
      "metadata": {
        "id": "OclGBxfoQVPc"
      },
      "source": [
        "## Data Visualization\n",
        "> Be sure to include interpretations of your visualizations -- what patterns or anomalies do you see?\n",
        "\n",
        "### Summary\n",
        "- By visualizing differences in **pricing**, **achievement systems**, and **genre classification** for shared games across platforms, we aim to gain a broad understanding of how different platforms approach game distribution. These plots will provide an initial answer to our first research question and offer insights for further exploration."
      ]
    },
    {
      "cell_type": "markdown",
      "metadata": {},
      "source": [
        "### Price Distribution of Shared Games Across Platforms\n",
        "\n",
        "Interpretation: \n",
        "- The majority of shared games are priced between 5 to 25 USD.\n",
        "- Games on Steam are generally priced the lowest, while Xbox games tend to be priced higher compared to the other two platforms."
      ]
    },
    {
      "cell_type": "code",
      "execution_count": 75,
      "metadata": {},
      "outputs": [
        {
          "data": {
            "image/png": "[encoded data removed]",
            "text/plain": [
              "<Figure size 1000x600 with 1 Axes>"
            ]
          },
          "metadata": {},
          "output_type": "display_data"
        }
      ],
      "source": [
        "### Boxplot visualizing the distribution of game prices (in USD) across platforms\n",
        "\n",
        "# Convert prices to USD\n",
        "exchange_rates = {\n",
        "    'eur': 1.08, \n",
        "    'gbp': 1.29, \n",
        "    'jpy': 0.0067,\n",
        "    'rub': 0.012, \n",
        "    'usd': 1.0\n",
        "}\n",
        "\n",
        "tidy_game_info['price_usd'] = tidy_game_info.apply(\n",
        "    lambda row: row['price'] * exchange_rates.get(row['currency'].lower(), 1.0), axis=1\n",
        ")\n",
        "\n",
        "# Visualize price distribution across platforms\n",
        "plt.figure(figsize=(10, 6))\n",
        "sns.boxplot(x='platform', y='price_usd', hue='platform', data=tidy_game_info, palette='Set2', legend=False)\n",
        "\n",
        "plt.title(\"Game Prices Across Platforms (in USD)\")\n",
        "plt.xlabel(\"Platform\")\n",
        "plt.ylabel(\"Price (USD)\")\n",
        "plt.tight_layout()\n",
        "plt.show()"
      ]
    },
    {
      "cell_type": "markdown",
      "metadata": {},
      "source": [
        "### Number of Achievements Distribution of Shared Games Across Platforms\n",
        "\n",
        "Interpretation:\n",
        "- The number of achievements per game typically stays below 50, with a few outliers over 100.\n",
        "- Games on PlayStation generally feature more achievements than games on other platforms, while games on Steam have a wider range with outliers reaching over 1000."
      ]
    },
    {
      "cell_type": "code",
      "execution_count": 76,
      "metadata": {},
      "outputs": [
        {
          "name": "stdout",
          "output_type": "stream",
          "text": [
            "count    10398.000000\n",
            "mean        41.527890\n",
            "std         61.519762\n",
            "min          0.000000\n",
            "25%         19.000000\n",
            "50%         31.000000\n",
            "75%         50.000000\n",
            "max       4820.000000\n",
            "Name: achievements_per_game, dtype: float64\n"
          ]
        },
        {
          "data": {
            "image/png": "[encoded data removed]",
            "text/plain": [
              "<Figure size 1000x600 with 1 Axes>"
            ]
          },
          "metadata": {},
          "output_type": "display_data"
        }
      ],
      "source": [
        "### Boxplot visualizing the distribution of the number of achievements per game across platform\n",
        "\n",
        "achievements_per_game = tidy_game_info.groupby([\"title\", \"platform\"])[\"achievementid\"].nunique().reset_index()\n",
        "achievements_per_game.rename(columns={\"achievementid\": \"achievements_per_game\"}, inplace=True)\n",
        "\n",
        "print(achievements_per_game['achievements_per_game'].describe())\n",
        "\n",
        "plt.figure(figsize=(10, 6))\n",
        "sns.boxplot(x='platform', y='achievements_per_game', hue='platform', data=achievements_per_game, palette='Set2', legend=False)\n",
        "\n",
        "plt.title(\"Number of Achievements per Game Across Platforms\")\n",
        "plt.xlabel(\"Platform\")\n",
        "plt.ylabel(\"Number of Achievements per Game\")\n",
        "plt.yscale('log')\n",
        "plt.tight_layout()\n",
        "plt.show()"
      ]
    },
    {
      "cell_type": "markdown",
      "metadata": {},
      "source": [
        "### Distribution of Top 10 Popular Genre Tags of Shared Games Across Platforms\n",
        "\n",
        "Interpretation: \n",
        "- The Top 10 most commonly assigned genres for shared games across platforms are Indie, Adventure, Action, RPG, Simulation, Strategy, Platformer, Casual, Turn-Based, and Puzzle.\n",
        "- Steam has the highest frequency of Top 10 genre tags assigned to shared games compared to PlayStation and Xbox, indicating that a larger proportion of games on Steam might be categorized with certain genres."
      ]
    },
    {
      "cell_type": "code",
      "execution_count": 77,
      "metadata": {},
      "outputs": [
        {
          "name": "stdout",
          "output_type": "stream",
          "text": [
            "platform          ps         st        xb\n",
            "genres                                   \n",
            "Indie       7.111988  21.286433  5.377374\n",
            "Adventure   7.651840  15.989195  9.944078\n",
            "Action      3.637378  21.155339  7.477222\n",
            "RPG         7.748229   7.982374  7.204869\n",
            "Simulation  3.650442   7.894061  4.251958\n",
            "Strategy    3.224986   6.535450  3.247911\n",
            "Platformer  7.419870   0.000000  4.897708\n",
            "Casual      0.308587   9.025932  0.375719\n",
            "Turn Based  4.603744   0.000000  4.152657\n",
            "Puzzle      4.182173   0.000000  3.135834\n"
          ]
        },
        {
          "data": {
            "text/plain": [
              "<Figure size 1200x800 with 0 Axes>"
            ]
          },
          "metadata": {},
          "output_type": "display_data"
        },
        {
          "data": {
            "image/png": "[encoded data removed]",
            "text/plain": [
              "<Figure size 1200x800 with 1 Axes>"
            ]
          },
          "metadata": {},
          "output_type": "display_data"
        }
      ],
      "source": [
        "### Stacked barplot visualizing the distribution of the top 10 genre tags across different platforms\n",
        "\n",
        "# Clean and explode genres into separate rows\n",
        "tidy_game_info['genres'] = tidy_game_info['genres'].apply(lambda x: x.strip(\"[]\").replace(\"'\", '').split(', ') if isinstance(x, str) else x)\n",
        "tidy_game_info = tidy_game_info.explode('genres')  \n",
        "\n",
        "# Replace 'Role Playing' genre with 'RPG' genre\n",
        "tidy_game_info['genres'] = tidy_game_info['genres'].replace({'Role Playing': 'RPG'})\n",
        "\n",
        "# Normalize genre counts by the total number of games on each platform\n",
        "total_games_per_platform = tidy_game_info['platform'].value_counts()\n",
        "genre_counts_per_platform = tidy_game_info.groupby(['platform', 'genres']).size().reset_index(name='count')\n",
        "genre_counts_per_platform['percentage'] = genre_counts_per_platform.apply(\n",
        "    lambda row: row['count'] / total_games_per_platform[row['platform']] * 100, axis=1\n",
        ")\n",
        "\n",
        "# Select top 10 genres\n",
        "top_10_genres = genre_counts_per_platform.groupby('genres')['percentage'].sum().sort_values(ascending=False).head(10).index\n",
        "top_10_genre_data = genre_counts_per_platform[genre_counts_per_platform['genres'].isin(top_10_genres)]\n",
        "\n",
        "# Pivot the data to prepare for stacking by platform with genres on the x-axis\n",
        "top_10_genre_data_pivot = top_10_genre_data.pivot_table(\n",
        "    index='genres', columns='platform', values='percentage', aggfunc='sum', fill_value=0\n",
        ")\n",
        "top_10_genre_data_pivot = top_10_genre_data_pivot.loc[top_10_genres]\n",
        "print(top_10_genre_data_pivot)\n",
        "\n",
        "\n",
        "plt.figure(figsize=(12, 8))\n",
        "top_10_genre_data_pivot.plot(kind='bar', stacked=True, figsize=(12, 8))\n",
        "\n",
        "plt.title('Top 10 Genre Tag Distribution Across Platforms (Normalized by Total Games)')\n",
        "plt.xlabel('Genre Tags')\n",
        "plt.ylabel('Percentage of Total Games')\n",
        "plt.xticks(rotation=45)\n",
        "plt.tight_layout()\n",
        "plt.show()"
      ]
    },
    {
      "cell_type": "markdown",
      "metadata": {},
      "source": [
        "# SI 618 WN Project Part II"
      ]
    },
    {
      "cell_type": "markdown",
      "metadata": {},
      "source": [
        "## **[TODO]** Descriptive Statistics\n",
        "> Provide a comprehensive summary of your combined dataset using descriptive statistics. This should include means, medians, modes, ranges, variance, and standard deviations for the relevant features of your data.  The descriptive statistics should inform your guiding questions that you developed in Part I of the project, rather than merely providing an overview of your data.  Interpret these results to draw preliminary conclusions about the data.\n"
      ]
    },
    {
      "cell_type": "markdown",
      "metadata": {},
      "source": [
        "## Inferential statistics\n",
        "Conduct appropriate _hypothesis tests_ to investigate if there are significant differences or correlations within your data.  This might involve regression analysis, ANOVA, and/or chi-squared tests.\n",
        "Clearly state your null and alternative hypotheses, choose an appropriate significance level, and discuss your findings. Make sure to justify the choice of your tests."
      ]
    },
    {
      "cell_type": "code",
      "execution_count": 78,
      "metadata": {},
      "outputs": [
        {
          "name": "stdout",
          "output_type": "stream",
          "text": [
            "gameid: 14839/3913375 unique values\n",
            "title: 3466/3913375 unique values\n",
            "developers: 3427/3913375 unique values\n",
            "publishers: 2430/3913375 unique values\n",
            "genres: 112/3913375 unique values\n",
            "supported_languages: 3071/3913375 unique values\n",
            "release_date: 2570/3913375 unique values\n",
            "achievementid: 431807/3913375 unique values\n",
            "achievement_title: 114017/3913375 unique values\n",
            "achievement_description: 153785/3913375 unique values\n",
            "platform: 3/3913375 unique values\n",
            "currency: 5/3913375 unique values\n",
            "price: 1580/3913375 unique values\n",
            "price_usd: 2062/3913375 unique values\n"
          ]
        }
      ],
      "source": [
        "for col in tidy_game_info.columns:\n",
        "    unique_values = tidy_game_info[col].nunique()\n",
        "    total_rows = len(tidy_game_info)\n",
        "    \n",
        "    print(f\"{col}: {unique_values}/{total_rows} unique values\")\n",
        "    \n",
        "    if unique_values == total_rows:\n",
        "        print(f\"{col} is a unique identifier\\n\")"
      ]
    },
    {
      "cell_type": "code",
      "execution_count": 79,
      "metadata": {},
      "outputs": [
        {
          "name": "stdout",
          "output_type": "stream",
          "text": [
            "<class 'pandas.core.frame.DataFrame'>\n",
            "Index: 3913375 entries, 0 to 2159924\n",
            "Data columns (total 14 columns):\n",
            " #   Column                   Dtype  \n",
            "---  ------                   -----  \n",
            " 0   gameid                   int64  \n",
            " 1   title                    object \n",
            " 2   developers               object \n",
            " 3   publishers               object \n",
            " 4   genres                   object \n",
            " 5   supported_languages      object \n",
            " 6   release_date             object \n",
            " 7   achievementid            object \n",
            " 8   achievement_title        object \n",
            " 9   achievement_description  object \n",
            " 10  platform                 object \n",
            " 11  currency                 object \n",
            " 12  price                    float64\n",
            " 13  price_usd                float64\n",
            "dtypes: float64(2), int64(1), object(11)\n",
            "memory usage: 447.9+ MB\n"
          ]
        }
      ],
      "source": [
        "tidy_game_info.info()"
      ]
    },
    {
      "cell_type": "code",
      "execution_count": 80,
      "metadata": {},
      "outputs": [
        {
          "name": "stdout",
          "output_type": "stream",
          "text": [
            "<class 'pandas.core.frame.DataFrame'>\n",
            "RangeIndex: 19861683 entries, 0 to 19861682\n",
            "Data columns (total 10 columns):\n",
            " #   Column         Dtype  \n",
            "---  ------         -----  \n",
            " 0   playerid       int64  \n",
            " 1   nickname       object \n",
            " 2   country        object \n",
            " 3   achievementid  object \n",
            " 4   date_acquired  object \n",
            " 5   gameid         float64\n",
            " 6   title          object \n",
            " 7   description    object \n",
            " 8   rarity         object \n",
            " 9   library        object \n",
            "dtypes: float64(1), int64(1), object(8)\n",
            "memory usage: 1.5+ GB\n"
          ]
        }
      ],
      "source": [
        "ps_player_info.info()"
      ]
    },
    {
      "cell_type": "code",
      "execution_count": 81,
      "metadata": {},
      "outputs": [
        {
          "name": "stdout",
          "output_type": "stream",
          "text": [
            "<class 'pandas.core.frame.DataFrame'>\n",
            "RangeIndex: 11113724 entries, 0 to 11113723\n",
            "Data columns (total 9 columns):\n",
            " #   Column         Dtype  \n",
            "---  ------         -----  \n",
            " 0   playerid       int64  \n",
            " 1   country        object \n",
            " 2   created        object \n",
            " 3   achievementid  object \n",
            " 4   date_acquired  object \n",
            " 5   gameid         float64\n",
            " 6   title          object \n",
            " 7   description    object \n",
            " 8   library        object \n",
            "dtypes: float64(1), int64(1), object(7)\n",
            "memory usage: 763.1+ MB\n"
          ]
        }
      ],
      "source": [
        "st_player_info.info()"
      ]
    },
    {
      "cell_type": "code",
      "execution_count": 82,
      "metadata": {},
      "outputs": [
        {
          "name": "stdout",
          "output_type": "stream",
          "text": [
            "<class 'pandas.core.frame.DataFrame'>\n",
            "RangeIndex: 15545366 entries, 0 to 15545365\n",
            "Data columns (total 9 columns):\n",
            " #   Column         Dtype  \n",
            "---  ------         -----  \n",
            " 0   playerid       int64  \n",
            " 1   nickname       object \n",
            " 2   achievementid  object \n",
            " 3   date_acquired  object \n",
            " 4   gameid         float64\n",
            " 5   title          object \n",
            " 6   description    object \n",
            " 7   points         float64\n",
            " 8   library        object \n",
            "dtypes: float64(2), int64(1), object(6)\n",
            "memory usage: 1.0+ GB\n"
          ]
        }
      ],
      "source": [
        "xb_player_info.info()"
      ]
    },
    {
      "cell_type": "markdown",
      "metadata": {},
      "source": [
        "### 1. Are games with more achievements associated with price?\n",
        "Since we are only testing whether a relationship between number of achievements and price in USD exists, **Pearson’s correlation** is appropriate.\n",
        "Here are the justifications:\n",
        "- Both variables are continuous (necessary for Pearson’s correlation).\n",
        "- We wanted to test for linear associations rather than predictive modeling (which would require regression).\n",
        "- Significance level evaluation (p-value) helps determine if observed correlations are likely due to chance.\n",
        "\n",
        "#### Null Hypothesis (H0)\n",
        "There is no significant correlation between the number of achievements and game price.\n",
        "\n",
        "#### Alternative Hypothesis (H1)\n",
        "There is a significant correlation between the number of achievements and game price.\n"
      ]
    },
    {
      "cell_type": "code",
      "execution_count": 83,
      "metadata": {},
      "outputs": [],
      "source": [
        "import statsmodels.api as sm\n",
        "\n",
        "achievement_counts = tidy_game_info.groupby(['gameid', 'platform'])['achievementid'].count().reset_index()\n",
        "achievement_counts.rename(columns={'achievementid': 'num_achievements'}, inplace=True)\n",
        "\n",
        "game_price_data = tidy_game_info[['gameid', 'platform', 'price_usd']].drop_duplicates()\n",
        "df_p_a = pd.merge(achievement_counts, game_price_data, on=['gameid', 'platform'])"
      ]
    },
    {
      "cell_type": "code",
      "execution_count": 84,
      "metadata": {},
      "outputs": [
        {
          "data": {
            "text/html": [
              "<div>\n",
              "<style scoped>\n",
              "    .dataframe tbody tr th:only-of-type {\n",
              "        vertical-align: middle;\n",
              "    }\n",
              "\n",
              "    .dataframe tbody tr th {\n",
              "        vertical-align: top;\n",
              "    }\n",
              "\n",
              "    .dataframe thead th {\n",
              "        text-align: right;\n",
              "    }\n",
              "</style>\n",
              "<table border=\"1\" class=\"dataframe\">\n",
              "  <thead>\n",
              "    <tr style=\"text-align: right;\">\n",
              "      <th></th>\n",
              "      <th>gameid</th>\n",
              "      <th>platform</th>\n",
              "      <th>num_achievements</th>\n",
              "    </tr>\n",
              "  </thead>\n",
              "  <tbody>\n",
              "    <tr>\n",
              "      <th>0</th>\n",
              "      <td>51</td>\n",
              "      <td>ps</td>\n",
              "      <td>255</td>\n",
              "    </tr>\n",
              "    <tr>\n",
              "      <th>1</th>\n",
              "      <td>55</td>\n",
              "      <td>ps</td>\n",
              "      <td>455</td>\n",
              "    </tr>\n",
              "    <tr>\n",
              "      <th>2</th>\n",
              "      <td>67</td>\n",
              "      <td>ps</td>\n",
              "      <td>245</td>\n",
              "    </tr>\n",
              "    <tr>\n",
              "      <th>3</th>\n",
              "      <td>81</td>\n",
              "      <td>ps</td>\n",
              "      <td>60</td>\n",
              "    </tr>\n",
              "    <tr>\n",
              "      <th>4</th>\n",
              "      <td>84</td>\n",
              "      <td>ps</td>\n",
              "      <td>60</td>\n",
              "    </tr>\n",
              "    <tr>\n",
              "      <th>...</th>\n",
              "      <td>...</td>\n",
              "      <td>...</td>\n",
              "      <td>...</td>\n",
              "    </tr>\n",
              "    <tr>\n",
              "      <th>14847</th>\n",
              "      <td>3135560</td>\n",
              "      <td>st</td>\n",
              "      <td>0</td>\n",
              "    </tr>\n",
              "    <tr>\n",
              "      <th>14848</th>\n",
              "      <td>3143880</td>\n",
              "      <td>st</td>\n",
              "      <td>1005</td>\n",
              "    </tr>\n",
              "    <tr>\n",
              "      <th>14849</th>\n",
              "      <td>3165620</td>\n",
              "      <td>st</td>\n",
              "      <td>555</td>\n",
              "    </tr>\n",
              "    <tr>\n",
              "      <th>14850</th>\n",
              "      <td>3221740</td>\n",
              "      <td>st</td>\n",
              "      <td>210</td>\n",
              "    </tr>\n",
              "    <tr>\n",
              "      <th>14851</th>\n",
              "      <td>3239860</td>\n",
              "      <td>st</td>\n",
              "      <td>0</td>\n",
              "    </tr>\n",
              "  </tbody>\n",
              "</table>\n",
              "<p>14852 rows × 3 columns</p>\n",
              "</div>"
            ],
            "text/plain": [
              "        gameid platform  num_achievements\n",
              "0           51       ps               255\n",
              "1           55       ps               455\n",
              "2           67       ps               245\n",
              "3           81       ps                60\n",
              "4           84       ps                60\n",
              "...        ...      ...               ...\n",
              "14847  3135560       st                 0\n",
              "14848  3143880       st              1005\n",
              "14849  3165620       st               555\n",
              "14850  3221740       st               210\n",
              "14851  3239860       st                 0\n",
              "\n",
              "[14852 rows x 3 columns]"
            ]
          },
          "execution_count": 84,
          "metadata": {},
          "output_type": "execute_result"
        }
      ],
      "source": [
        "achievement_counts"
      ]
    },
    {
      "cell_type": "code",
      "execution_count": 85,
      "metadata": {},
      "outputs": [
        {
          "data": {
            "text/plain": [
              "np.int64(0)"
            ]
          },
          "execution_count": 85,
          "metadata": {},
          "output_type": "execute_result"
        }
      ],
      "source": [
        "tidy_game_info[tidy_game_info['gameid']==51].duplicated().sum()"
      ]
    },
    {
      "cell_type": "code",
      "execution_count": 86,
      "metadata": {},
      "outputs": [],
      "source": [
        "df_p_a.dropna(subset=['price_usd', 'num_achievements'], inplace=True)"
      ]
    },
    {
      "cell_type": "code",
      "execution_count": 87,
      "metadata": {},
      "outputs": [
        {
          "data": {
            "text/html": [
              "<div>\n",
              "<style scoped>\n",
              "    .dataframe tbody tr th:only-of-type {\n",
              "        vertical-align: middle;\n",
              "    }\n",
              "\n",
              "    .dataframe tbody tr th {\n",
              "        vertical-align: top;\n",
              "    }\n",
              "\n",
              "    .dataframe thead th {\n",
              "        text-align: right;\n",
              "    }\n",
              "</style>\n",
              "<table border=\"1\" class=\"dataframe\">\n",
              "  <thead>\n",
              "    <tr style=\"text-align: right;\">\n",
              "      <th></th>\n",
              "      <th>Platform</th>\n",
              "      <th>Correlation (r)</th>\n",
              "      <th>p-value</th>\n",
              "    </tr>\n",
              "  </thead>\n",
              "  <tbody>\n",
              "    <tr>\n",
              "      <th>0</th>\n",
              "      <td>ps</td>\n",
              "      <td>0.428426</td>\n",
              "      <td>0.000000e+00</td>\n",
              "    </tr>\n",
              "    <tr>\n",
              "      <th>1</th>\n",
              "      <td>xb</td>\n",
              "      <td>0.382704</td>\n",
              "      <td>0.000000e+00</td>\n",
              "    </tr>\n",
              "    <tr>\n",
              "      <th>2</th>\n",
              "      <td>st</td>\n",
              "      <td>0.115512</td>\n",
              "      <td>1.609254e-49</td>\n",
              "    </tr>\n",
              "  </tbody>\n",
              "</table>\n",
              "</div>"
            ],
            "text/plain": [
              "  Platform  Correlation (r)       p-value\n",
              "0       ps         0.428426  0.000000e+00\n",
              "1       xb         0.382704  0.000000e+00\n",
              "2       st         0.115512  1.609254e-49"
            ]
          },
          "execution_count": 87,
          "metadata": {},
          "output_type": "execute_result"
        }
      ],
      "source": [
        "from scipy.stats import pearsonr\n",
        "\n",
        "def compute_pearson(df, platform):\n",
        "    subset = df[df['platform'] == platform].dropna(subset=['num_achievements', 'price_usd'])\n",
        "    \n",
        "    r, p_value = pearsonr(subset['num_achievements'], subset['price_usd'])\n",
        "    return platform, r, p_value\n",
        "\n",
        "platforms = df_p_a['platform'].unique()\n",
        "results = [compute_pearson(df_p_a, platform) for platform in platforms]\n",
        "\n",
        "pearson_results = pd.DataFrame(results, columns=['Platform', 'Correlation (r)', 'p-value'])\n",
        "pearson_results"
      ]
    },
    {
      "cell_type": "code",
      "execution_count": 88,
      "metadata": {},
      "outputs": [
        {
          "name": "stdout",
          "output_type": "stream",
          "text": [
            "On ps platform, there is a moderate correlation (positive (more achievements is associated with higher price)), and the result is highly significant (p < 0.01) (r = 0.43, p = 0.000).\n",
            "\n",
            "On xb platform, there is a weak correlation (positive (more achievements is associated with higher price)), and the result is highly significant (p < 0.01) (r = 0.38, p = 0.000).\n",
            "\n",
            "On st platform, there is no meaningful correlation (positive (more achievements is associated with higher price)), and the result is highly significant (p < 0.01) (r = 0.12, p = 0.000).\n",
            "\n"
          ]
        }
      ],
      "source": [
        "def interpret_pearson_results(df):\n",
        "\n",
        "    interpretations = []\n",
        "    \n",
        "    for _, row in df.iterrows():\n",
        "        platform = row[\"Platform\"]\n",
        "        r = row[\"Correlation (r)\"]\n",
        "        p = row[\"p-value\"]\n",
        "        \n",
        "        # alpha: significance level\n",
        "        if p < 0.01:\n",
        "            significance = \"highly significant (p < 0.01)\"\n",
        "        elif p < 0.05:\n",
        "            significance = \"significant (p < 0.05)\"\n",
        "        else:\n",
        "            significance = \"not significant (p >= 0.05)\"\n",
        "        \n",
        "        # r: strength and direction of correlation\n",
        "        r_abs = abs(r)\n",
        "        if r_abs >= 0.7:\n",
        "            strength = \"a strong correlation\"\n",
        "        elif r_abs >= 0.4:\n",
        "            strength = \"a moderate correlation\"\n",
        "        elif r_abs >= 0.2:\n",
        "            strength = \"a weak correlation\"\n",
        "        else:\n",
        "            strength = \"no meaningful correlation\"\n",
        "\n",
        "        if r > 0:\n",
        "            direction = \"positive (more achievements is associated with higher price)\"\n",
        "        elif r < 0:\n",
        "            direction = \"negative (more achievements is associated with lower price)\"\n",
        "        else:\n",
        "            direction = \"no correlation at all\"\n",
        "\n",
        "        interpretation = f\"On {platform} platform, there is {strength} ({direction}), and the result is {significance} (r = {r:.2f}, p = {p:.3f}).\\n\"\n",
        "        interpretations.append(interpretation)\n",
        "    \n",
        "    return \"\\n\".join(interpretations)\n",
        "\n",
        "interpretation_text = interpret_pearson_results(pearson_results)\n",
        "print(interpretation_text)"
      ]
    },
    {
      "cell_type": "markdown",
      "metadata": {},
      "source": [
        "#### Interpretation\n",
        "- PlayStation Platform: Moderate positive correlation (r = 0.43), highly significant (p < 0.01) → Reject H_0  → More achievements are moderately associated with higher price.\n",
        "- Xbox Platform: Weak positive correlation (r = 0.38), highly significant (p < 0.01) → Reject H_0  → More achievements are weakly associated with higher price.\n",
        "- Steam Platform: No meaningful correlation (r = 0.12), highly significant (p < 0.01) → Reject H_0  → Although significant, the correlation is too weak to suggest a strong association.\n",
        "\n",
        "On PlayStation and Xbox, a higher number of achievements tends to be associated with higher prices, though the relationship is stronger on PS. On Steam, while significant, the association is too weak to be practically meaningful."
      ]
    },
    {
      "cell_type": "markdown",
      "metadata": {},
      "source": [
        "### 2. PlayStation and Steam: Do players from different countries tend to complete achievements faster?\n",
        "#### Test used: One-Way ANOVA\n",
        "* y: achievement completion time (time_to_achievement = date_acquired - release_date).\n",
        "* X: country (in merged_player_info).\n",
        "* Condition: ANOVA assumes normally distributed residuals and equal variances. If these assumptions don’t hold, we may use a Kruskal-Wallis test (non-parametric alternative).\n",
        "\n",
        "#### Null Hypothesis (H0)\n",
        "There is no significant difference in achievement completion time among players from different countries.\n",
        "\n",
        "#### Alternative Hypothesis (HA)\n",
        "At least one country's players complete achievements at a significantly different speed compared to others."
      ]
    },
    {
      "cell_type": "markdown",
      "metadata": {},
      "source": [
        "#### Necessary merging for player-focus info"
      ]
    },
    {
      "cell_type": "code",
      "execution_count": 119,
      "metadata": {},
      "outputs": [],
      "source": [
        "# standardizing data\n",
        "ps_player_info[\"player_platform\"] = \"ps\"\n",
        "ps_player_info.rename(columns={\"title\": \"achievement_title\"}, inplace=True)\n",
        "ps_player_info.drop(columns=[\"rarity\", \"nickname\", \"library\"], inplace=True)"
      ]
    },
    {
      "cell_type": "code",
      "execution_count": 128,
      "metadata": {},
      "outputs": [
        {
          "data": {
            "text/html": [
              "<div>\n",
              "<style scoped>\n",
              "    .dataframe tbody tr th:only-of-type {\n",
              "        vertical-align: middle;\n",
              "    }\n",
              "\n",
              "    .dataframe tbody tr th {\n",
              "        vertical-align: top;\n",
              "    }\n",
              "\n",
              "    .dataframe thead th {\n",
              "        text-align: right;\n",
              "    }\n",
              "</style>\n",
              "<table border=\"1\" class=\"dataframe\">\n",
              "  <thead>\n",
              "    <tr style=\"text-align: right;\">\n",
              "      <th></th>\n",
              "      <th>playerid</th>\n",
              "      <th>country</th>\n",
              "      <th>player_platform</th>\n",
              "      <th>achievementid</th>\n",
              "      <th>date_acquired</th>\n",
              "      <th>gameid</th>\n",
              "      <th>achievement_title</th>\n",
              "      <th>description</th>\n",
              "    </tr>\n",
              "  </thead>\n",
              "  <tbody>\n",
              "    <tr>\n",
              "      <th>16141263</th>\n",
              "      <td>1646679</td>\n",
              "      <td>Italy</td>\n",
              "      <td>ps</td>\n",
              "      <td>67_1735</td>\n",
              "      <td>2013-01-22 22:11:50</td>\n",
              "      <td>67.0</td>\n",
              "      <td>Survivor</td>\n",
              "      <td>Complete the game on any difficulty setting</td>\n",
              "    </tr>\n",
              "    <tr>\n",
              "      <th>14041198</th>\n",
              "      <td>403577</td>\n",
              "      <td>United Kingdom</td>\n",
              "      <td>ps</td>\n",
              "      <td>440433_3986491</td>\n",
              "      <td>2022-01-04 01:49:52</td>\n",
              "      <td>440433.0</td>\n",
              "      <td>More Than Lint</td>\n",
              "      <td>Enter a Hidden Pocket Dimension</td>\n",
              "    </tr>\n",
              "    <tr>\n",
              "      <th>13039924</th>\n",
              "      <td>2086156</td>\n",
              "      <td>Brazil</td>\n",
              "      <td>ps</td>\n",
              "      <td>385455_3582691</td>\n",
              "      <td>2023-10-30 04:31:55</td>\n",
              "      <td>385455.0</td>\n",
              "      <td>I Want Ten People</td>\n",
              "      <td>Collected 10 or more playable characters</td>\n",
              "    </tr>\n",
              "    <tr>\n",
              "      <th>9450717</th>\n",
              "      <td>292969</td>\n",
              "      <td>Canada</td>\n",
              "      <td>ps</td>\n",
              "      <td>19058_182128</td>\n",
              "      <td>2019-02-24 00:45:53</td>\n",
              "      <td>19058.0</td>\n",
              "      <td>Drunk Drawer</td>\n",
              "      <td>Complete the optional graffiti #9 in Episode 3...</td>\n",
              "    </tr>\n",
              "    <tr>\n",
              "      <th>11049407</th>\n",
              "      <td>2711470</td>\n",
              "      <td>Taiwan, Province of China</td>\n",
              "      <td>ps</td>\n",
              "      <td>14278_149098</td>\n",
              "      <td>2022-08-14 12:31:34</td>\n",
              "      <td>14278.0</td>\n",
              "      <td>White Eternity</td>\n",
              "      <td>ムービー「White Eternity」を見た。</td>\n",
              "    </tr>\n",
              "  </tbody>\n",
              "</table>\n",
              "</div>"
            ],
            "text/plain": [
              "          playerid                    country player_platform   achievementid  \\\n",
              "16141263   1646679                      Italy              ps         67_1735   \n",
              "14041198    403577             United Kingdom              ps  440433_3986491   \n",
              "13039924   2086156                     Brazil              ps  385455_3582691   \n",
              "9450717     292969                     Canada              ps    19058_182128   \n",
              "11049407   2711470  Taiwan, Province of China              ps    14278_149098   \n",
              "\n",
              "                date_acquired    gameid  achievement_title  \\\n",
              "16141263  2013-01-22 22:11:50      67.0           Survivor   \n",
              "14041198  2022-01-04 01:49:52  440433.0     More Than Lint   \n",
              "13039924  2023-10-30 04:31:55  385455.0  I Want Ten People   \n",
              "9450717   2019-02-24 00:45:53   19058.0       Drunk Drawer   \n",
              "11049407  2022-08-14 12:31:34   14278.0     White Eternity   \n",
              "\n",
              "                                                description  \n",
              "16141263        Complete the game on any difficulty setting  \n",
              "14041198                    Enter a Hidden Pocket Dimension  \n",
              "13039924           Collected 10 or more playable characters  \n",
              "9450717   Complete the optional graffiti #9 in Episode 3...  \n",
              "11049407                           ムービー「White Eternity」を見た。  "
            ]
          },
          "execution_count": 128,
          "metadata": {},
          "output_type": "execute_result"
        }
      ],
      "source": [
        "ps_player_info.sample(5)"
      ]
    },
    {
      "cell_type": "code",
      "execution_count": 121,
      "metadata": {},
      "outputs": [],
      "source": [
        "st_player_info[\"player_platform\"] = \"st\"\n",
        "st_player_info.rename(columns={\"title\": \"achievement_title\"}, inplace=True)\n",
        "st_player_info.drop(columns=[\"created\", \"library\"], inplace=True)"
      ]
    },
    {
      "cell_type": "code",
      "execution_count": 127,
      "metadata": {},
      "outputs": [
        {
          "data": {
            "text/html": [
              "<div>\n",
              "<style scoped>\n",
              "    .dataframe tbody tr th:only-of-type {\n",
              "        vertical-align: middle;\n",
              "    }\n",
              "\n",
              "    .dataframe tbody tr th {\n",
              "        vertical-align: top;\n",
              "    }\n",
              "\n",
              "    .dataframe thead th {\n",
              "        text-align: right;\n",
              "    }\n",
              "</style>\n",
              "<table border=\"1\" class=\"dataframe\">\n",
              "  <thead>\n",
              "    <tr style=\"text-align: right;\">\n",
              "      <th></th>\n",
              "      <th>playerid</th>\n",
              "      <th>country</th>\n",
              "      <th>player_platform</th>\n",
              "      <th>achievementid</th>\n",
              "      <th>date_acquired</th>\n",
              "      <th>gameid</th>\n",
              "      <th>achievement_title</th>\n",
              "      <th>description</th>\n",
              "    </tr>\n",
              "  </thead>\n",
              "  <tbody>\n",
              "    <tr>\n",
              "      <th>1124196</th>\n",
              "      <td>76561198298591193</td>\n",
              "      <td>Germany</td>\n",
              "      <td>st</td>\n",
              "      <td>710120_NEW_ACHIEVEMENT_150_14</td>\n",
              "      <td>2018-03-28 14:53:18</td>\n",
              "      <td>710120.0</td>\n",
              "      <td>Super Trivia Champion</td>\n",
              "      <td>Super Trivia Champion</td>\n",
              "    </tr>\n",
              "    <tr>\n",
              "      <th>843421</th>\n",
              "      <td>76561198298591193</td>\n",
              "      <td>Germany</td>\n",
              "      <td>st</td>\n",
              "      <td>567290_tSmall</td>\n",
              "      <td>2020-05-21 22:18:24</td>\n",
              "      <td>567290.0</td>\n",
              "      <td>T</td>\n",
              "      <td>Score 10 points with the letter T!</td>\n",
              "    </tr>\n",
              "    <tr>\n",
              "      <th>5685798</th>\n",
              "      <td>76561198246511970</td>\n",
              "      <td>Thailand</td>\n",
              "      <td>st</td>\n",
              "      <td>NaN</td>\n",
              "      <td>NaN</td>\n",
              "      <td>NaN</td>\n",
              "      <td>NaN</td>\n",
              "      <td>NaN</td>\n",
              "    </tr>\n",
              "    <tr>\n",
              "      <th>2089734</th>\n",
              "      <td>76561198307860947</td>\n",
              "      <td>NaN</td>\n",
              "      <td>st</td>\n",
              "      <td>687490_NEW_ACHIEVEMENT_57_7</td>\n",
              "      <td>2021-11-25 06:16:46</td>\n",
              "      <td>687490.0</td>\n",
              "      <td>Super Trivia Champion \\t</td>\n",
              "      <td>Super Trivia Champion \\t</td>\n",
              "    </tr>\n",
              "    <tr>\n",
              "      <th>252780</th>\n",
              "      <td>76561197987596512</td>\n",
              "      <td>Brazil</td>\n",
              "      <td>st</td>\n",
              "      <td>693880_NEW_ACHIEVEMENT_182_20</td>\n",
              "      <td>2018-04-16 07:57:05</td>\n",
              "      <td>693880.0</td>\n",
              "      <td>Super Trivia Champion</td>\n",
              "      <td>Super Trivia Champion</td>\n",
              "    </tr>\n",
              "  </tbody>\n",
              "</table>\n",
              "</div>"
            ],
            "text/plain": [
              "                  playerid   country player_platform  \\\n",
              "1124196  76561198298591193   Germany              st   \n",
              "843421   76561198298591193   Germany              st   \n",
              "5685798  76561198246511970  Thailand              st   \n",
              "2089734  76561198307860947       NaN              st   \n",
              "252780   76561197987596512    Brazil              st   \n",
              "\n",
              "                         achievementid        date_acquired    gameid  \\\n",
              "1124196  710120_NEW_ACHIEVEMENT_150_14  2018-03-28 14:53:18  710120.0   \n",
              "843421                   567290_tSmall  2020-05-21 22:18:24  567290.0   \n",
              "5685798                            NaN                  NaN       NaN   \n",
              "2089734    687490_NEW_ACHIEVEMENT_57_7  2021-11-25 06:16:46  687490.0   \n",
              "252780   693880_NEW_ACHIEVEMENT_182_20  2018-04-16 07:57:05  693880.0   \n",
              "\n",
              "                achievement_title                         description  \n",
              "1124196     Super Trivia Champion               Super Trivia Champion  \n",
              "843421                          T  Score 10 points with the letter T!  \n",
              "5685798                       NaN                                 NaN  \n",
              "2089734  Super Trivia Champion \\t            Super Trivia Champion \\t  \n",
              "252780      Super Trivia Champion               Super Trivia Champion  "
            ]
          },
          "execution_count": 127,
          "metadata": {},
          "output_type": "execute_result"
        }
      ],
      "source": [
        "st_player_info.sample(5)"
      ]
    },
    {
      "cell_type": "code",
      "execution_count": 123,
      "metadata": {},
      "outputs": [],
      "source": [
        "xb_player_info[\"player_platform\"] = \"xb\"\n",
        "xb_player_info.rename(columns={\"title\": \"achievement_title\"}, inplace=True)\n",
        "xb_player_info.drop(columns=[\"points\", \"nickname\", \"library\"], inplace=True)\n",
        "\n",
        "xb_player_info[\"country\"] = 'Unknown'"
      ]
    },
    {
      "cell_type": "code",
      "execution_count": 129,
      "metadata": {},
      "outputs": [
        {
          "data": {
            "text/html": [
              "<div>\n",
              "<style scoped>\n",
              "    .dataframe tbody tr th:only-of-type {\n",
              "        vertical-align: middle;\n",
              "    }\n",
              "\n",
              "    .dataframe tbody tr th {\n",
              "        vertical-align: top;\n",
              "    }\n",
              "\n",
              "    .dataframe thead th {\n",
              "        text-align: right;\n",
              "    }\n",
              "</style>\n",
              "<table border=\"1\" class=\"dataframe\">\n",
              "  <thead>\n",
              "    <tr style=\"text-align: right;\">\n",
              "      <th></th>\n",
              "      <th>playerid</th>\n",
              "      <th>country</th>\n",
              "      <th>player_platform</th>\n",
              "      <th>achievementid</th>\n",
              "      <th>date_acquired</th>\n",
              "      <th>gameid</th>\n",
              "      <th>achievement_title</th>\n",
              "      <th>description</th>\n",
              "    </tr>\n",
              "  </thead>\n",
              "  <tbody>\n",
              "    <tr>\n",
              "      <th>2409881</th>\n",
              "      <td>848604</td>\n",
              "      <td>Unknown</td>\n",
              "      <td>xb</td>\n",
              "      <td>2772_317847</td>\n",
              "      <td>2011-12-20 09:01:12</td>\n",
              "      <td>2772.0</td>\n",
              "      <td>Medicine is the Best Medicine</td>\n",
              "      <td>Picked up a health pack when a hero was about ...</td>\n",
              "    </tr>\n",
              "    <tr>\n",
              "      <th>7255268</th>\n",
              "      <td>840412</td>\n",
              "      <td>Unknown</td>\n",
              "      <td>xb</td>\n",
              "      <td>1529_276510</td>\n",
              "      <td>2008-12-29 19:34:30</td>\n",
              "      <td>1529.0</td>\n",
              "      <td>Caught on Camera</td>\n",
              "      <td>Sent a video replay to a Friend over Xbox LIVE...</td>\n",
              "    </tr>\n",
              "    <tr>\n",
              "      <th>12606593</th>\n",
              "      <td>797003</td>\n",
              "      <td>Unknown</td>\n",
              "      <td>xb</td>\n",
              "      <td>1612_279394</td>\n",
              "      <td>2010-01-08 02:24:32</td>\n",
              "      <td>1612.0</td>\n",
              "      <td>Demolition Derby</td>\n",
              "      <td>You destroyed 50 vehicles.</td>\n",
              "    </tr>\n",
              "    <tr>\n",
              "      <th>8346213</th>\n",
              "      <td>2133096</td>\n",
              "      <td>Unknown</td>\n",
              "      <td>xb</td>\n",
              "      <td>5720_340760</td>\n",
              "      <td>2014-08-01 03:31:06</td>\n",
              "      <td>5720.0</td>\n",
              "      <td>Specialist</td>\n",
              "      <td>Maxed out a single attribute.</td>\n",
              "    </tr>\n",
              "    <tr>\n",
              "      <th>3821381</th>\n",
              "      <td>4311264</td>\n",
              "      <td>Unknown</td>\n",
              "      <td>xb</td>\n",
              "      <td>560245_4686264</td>\n",
              "      <td>2023-09-14 22:18:27</td>\n",
              "      <td>560245.0</td>\n",
              "      <td>Heavy Metal Is the Law</td>\n",
              "      <td>Completed a Torment</td>\n",
              "    </tr>\n",
              "  </tbody>\n",
              "</table>\n",
              "</div>"
            ],
            "text/plain": [
              "          playerid  country player_platform   achievementid  \\\n",
              "2409881     848604  Unknown              xb     2772_317847   \n",
              "7255268     840412  Unknown              xb     1529_276510   \n",
              "12606593    797003  Unknown              xb     1612_279394   \n",
              "8346213    2133096  Unknown              xb     5720_340760   \n",
              "3821381    4311264  Unknown              xb  560245_4686264   \n",
              "\n",
              "                date_acquired    gameid              achievement_title  \\\n",
              "2409881   2011-12-20 09:01:12    2772.0  Medicine is the Best Medicine   \n",
              "7255268   2008-12-29 19:34:30    1529.0               Caught on Camera   \n",
              "12606593  2010-01-08 02:24:32    1612.0               Demolition Derby   \n",
              "8346213   2014-08-01 03:31:06    5720.0                     Specialist   \n",
              "3821381   2023-09-14 22:18:27  560245.0         Heavy Metal Is the Law   \n",
              "\n",
              "                                                description  \n",
              "2409881   Picked up a health pack when a hero was about ...  \n",
              "7255268   Sent a video replay to a Friend over Xbox LIVE...  \n",
              "12606593                         You destroyed 50 vehicles.  \n",
              "8346213                       Maxed out a single attribute.  \n",
              "3821381                                 Completed a Torment  "
            ]
          },
          "execution_count": 129,
          "metadata": {},
          "output_type": "execute_result"
        }
      ],
      "source": [
        "xb_player_info.sample(5)"
      ]
    },
    {
      "cell_type": "code",
      "execution_count": 125,
      "metadata": {},
      "outputs": [
        {
          "name": "stdout",
          "output_type": "stream",
          "text": [
            "PS: 0 potential duplicate entries on (playerid, gameid, achievementid).\n",
            "ST: 0 potential duplicate entries on (playerid, gameid, achievementid).\n",
            "XB: 0 potential duplicate entries on (playerid, gameid, achievementid).\n"
          ]
        }
      ],
      "source": [
        "for df, name in zip([ps_player_info, st_player_info, xb_player_info], [\"PS\", \"ST\", \"XB\"]):\n",
        "    duplicates = df.duplicated(subset=[\"playerid\", \"gameid\", \"achievementid\"], keep=False).sum()\n",
        "    print(f\"{name}: {duplicates} potential duplicate entries on (playerid, gameid, achievementid).\")"
      ]
    },
    {
      "cell_type": "code",
      "execution_count": 126,
      "metadata": {},
      "outputs": [],
      "source": [
        "columns_order = [\n",
        "    \"playerid\", \"country\", \"player_platform\", \"achievementid\",\n",
        "    \"date_acquired\", \"gameid\", \"achievement_title\", \"description\"\n",
        "]\n",
        "\n",
        "ps_player_info = ps_player_info[columns_order]\n",
        "st_player_info = st_player_info[columns_order]\n",
        "xb_player_info = xb_player_info[columns_order]"
      ]
    },
    {
      "cell_type": "code",
      "execution_count": 130,
      "metadata": {},
      "outputs": [],
      "source": [
        "merged_player_info = pd.concat([ps_player_info, st_player_info, xb_player_info], ignore_index=True)"
      ]
    },
    {
      "cell_type": "code",
      "execution_count": 131,
      "metadata": {},
      "outputs": [
        {
          "data": {
            "text/html": [
              "<div>\n",
              "<style scoped>\n",
              "    .dataframe tbody tr th:only-of-type {\n",
              "        vertical-align: middle;\n",
              "    }\n",
              "\n",
              "    .dataframe tbody tr th {\n",
              "        vertical-align: top;\n",
              "    }\n",
              "\n",
              "    .dataframe thead th {\n",
              "        text-align: right;\n",
              "    }\n",
              "</style>\n",
              "<table border=\"1\" class=\"dataframe\">\n",
              "  <thead>\n",
              "    <tr style=\"text-align: right;\">\n",
              "      <th></th>\n",
              "      <th>playerid</th>\n",
              "      <th>country</th>\n",
              "      <th>player_platform</th>\n",
              "      <th>achievementid</th>\n",
              "      <th>date_acquired</th>\n",
              "      <th>gameid</th>\n",
              "      <th>achievement_title</th>\n",
              "      <th>description</th>\n",
              "    </tr>\n",
              "  </thead>\n",
              "  <tbody>\n",
              "    <tr>\n",
              "      <th>24550098</th>\n",
              "      <td>76561198405866201</td>\n",
              "      <td>NaN</td>\n",
              "      <td>st</td>\n",
              "      <td>806140_NEW_ACHIEVEMENT_39_26</td>\n",
              "      <td>2018-07-04 10:39:51</td>\n",
              "      <td>806140.0</td>\n",
              "      <td>Elephants</td>\n",
              "      <td>part 6</td>\n",
              "    </tr>\n",
              "    <tr>\n",
              "      <th>32740329</th>\n",
              "      <td>847759</td>\n",
              "      <td>Unknown</td>\n",
              "      <td>xb</td>\n",
              "      <td>2539_309031</td>\n",
              "      <td>2019-08-08 04:51:55</td>\n",
              "      <td>2539.0</td>\n",
              "      <td>World's Best Dad</td>\n",
              "      <td>Said things to Jess that no parent should ever...</td>\n",
              "    </tr>\n",
              "    <tr>\n",
              "      <th>37493036</th>\n",
              "      <td>843860</td>\n",
              "      <td>Unknown</td>\n",
              "      <td>xb</td>\n",
              "      <td>15738_385855</td>\n",
              "      <td>2021-12-20 20:29:05</td>\n",
              "      <td>15738.0</td>\n",
              "      <td>Lovely Bunch of Coconuts</td>\n",
              "      <td>Collected 8 Skulls.</td>\n",
              "    </tr>\n",
              "    <tr>\n",
              "      <th>13356691</th>\n",
              "      <td>1134361</td>\n",
              "      <td>Canada</td>\n",
              "      <td>ps</td>\n",
              "      <td>13504_143083</td>\n",
              "      <td>2017-06-06 20:16:37</td>\n",
              "      <td>13504.0</td>\n",
              "      <td>Dragon Slayer</td>\n",
              "      <td>Fin Fang Foom was defeated.</td>\n",
              "    </tr>\n",
              "    <tr>\n",
              "      <th>44741463</th>\n",
              "      <td>762042</td>\n",
              "      <td>Unknown</td>\n",
              "      <td>xb</td>\n",
              "      <td>6577_345128</td>\n",
              "      <td>2016-11-18 21:02:01</td>\n",
              "      <td>6577.0</td>\n",
              "      <td>Tightening the Noose</td>\n",
              "      <td>Stopped Abigail and saved Rex and Joy</td>\n",
              "    </tr>\n",
              "  </tbody>\n",
              "</table>\n",
              "</div>"
            ],
            "text/plain": [
              "                   playerid  country player_platform  \\\n",
              "24550098  76561198405866201      NaN              st   \n",
              "32740329             847759  Unknown              xb   \n",
              "37493036             843860  Unknown              xb   \n",
              "13356691            1134361   Canada              ps   \n",
              "44741463             762042  Unknown              xb   \n",
              "\n",
              "                         achievementid        date_acquired    gameid  \\\n",
              "24550098  806140_NEW_ACHIEVEMENT_39_26  2018-07-04 10:39:51  806140.0   \n",
              "32740329                   2539_309031  2019-08-08 04:51:55    2539.0   \n",
              "37493036                  15738_385855  2021-12-20 20:29:05   15738.0   \n",
              "13356691                  13504_143083  2017-06-06 20:16:37   13504.0   \n",
              "44741463                   6577_345128  2016-11-18 21:02:01    6577.0   \n",
              "\n",
              "                 achievement_title  \\\n",
              "24550098                 Elephants   \n",
              "32740329          World's Best Dad   \n",
              "37493036  Lovely Bunch of Coconuts   \n",
              "13356691             Dragon Slayer   \n",
              "44741463      Tightening the Noose   \n",
              "\n",
              "                                                description  \n",
              "24550098                                             part 6  \n",
              "32740329  Said things to Jess that no parent should ever...  \n",
              "37493036                                Collected 8 Skulls.  \n",
              "13356691                        Fin Fang Foom was defeated.  \n",
              "44741463              Stopped Abigail and saved Rex and Joy  "
            ]
          },
          "execution_count": 131,
          "metadata": {},
          "output_type": "execute_result"
        }
      ],
      "source": [
        "merged_player_info.sample(5)"
      ]
    },
    {
      "cell_type": "code",
      "execution_count": 132,
      "metadata": {},
      "outputs": [],
      "source": [
        "merged_player_info['date_acquired'] = merged_player_info['date_acquired'].str[:10]"
      ]
    },
    {
      "cell_type": "code",
      "execution_count": 133,
      "metadata": {},
      "outputs": [
        {
          "data": {
            "text/html": [
              "<div>\n",
              "<style scoped>\n",
              "    .dataframe tbody tr th:only-of-type {\n",
              "        vertical-align: middle;\n",
              "    }\n",
              "\n",
              "    .dataframe tbody tr th {\n",
              "        vertical-align: top;\n",
              "    }\n",
              "\n",
              "    .dataframe thead th {\n",
              "        text-align: right;\n",
              "    }\n",
              "</style>\n",
              "<table border=\"1\" class=\"dataframe\">\n",
              "  <thead>\n",
              "    <tr style=\"text-align: right;\">\n",
              "      <th></th>\n",
              "      <th>playerid</th>\n",
              "      <th>country</th>\n",
              "      <th>player_platform</th>\n",
              "      <th>achievementid</th>\n",
              "      <th>date_acquired</th>\n",
              "      <th>gameid</th>\n",
              "      <th>achievement_title</th>\n",
              "      <th>description</th>\n",
              "    </tr>\n",
              "  </thead>\n",
              "  <tbody>\n",
              "    <tr>\n",
              "      <th>20517204</th>\n",
              "      <td>76561198179588026</td>\n",
              "      <td>Germany</td>\n",
              "      <td>st</td>\n",
              "      <td>865360_COMPLETE_NUMBER_LINK_TOWER</td>\n",
              "      <td>2021-03-21</td>\n",
              "      <td>865360.0</td>\n",
              "      <td>The Tower</td>\n",
              "      <td>NaN</td>\n",
              "    </tr>\n",
              "    <tr>\n",
              "      <th>7726227</th>\n",
              "      <td>342191</td>\n",
              "      <td>United States</td>\n",
              "      <td>ps</td>\n",
              "      <td>8161_99879</td>\n",
              "      <td>2016-07-25</td>\n",
              "      <td>8161.0</td>\n",
              "      <td>H-E...</td>\n",
              "      <td>Complete all open world gameplay in two distri...</td>\n",
              "    </tr>\n",
              "    <tr>\n",
              "      <th>933723</th>\n",
              "      <td>318566</td>\n",
              "      <td>Japan</td>\n",
              "      <td>ps</td>\n",
              "      <td>10600_124388</td>\n",
              "      <td>2016-09-06</td>\n",
              "      <td>10600.0</td>\n",
              "      <td>Fanboi</td>\n",
              "      <td>Put Ken's or Morohoshi's car in your garage</td>\n",
              "    </tr>\n",
              "    <tr>\n",
              "      <th>3246168</th>\n",
              "      <td>4363811</td>\n",
              "      <td>United Kingdom</td>\n",
              "      <td>ps</td>\n",
              "      <td>7779_95658</td>\n",
              "      <td>2014-11-21</td>\n",
              "      <td>7779.0</td>\n",
              "      <td>The Big One!</td>\n",
              "      <td>This ain't no dream no more.</td>\n",
              "    </tr>\n",
              "    <tr>\n",
              "      <th>392272</th>\n",
              "      <td>3065998</td>\n",
              "      <td>United Arab Emirates</td>\n",
              "      <td>ps</td>\n",
              "      <td>547651_4580611</td>\n",
              "      <td>2022-12-15</td>\n",
              "      <td>547651.0</td>\n",
              "      <td>Travel 20000 m in total.</td>\n",
              "      <td>Travel 20000 m in total.</td>\n",
              "    </tr>\n",
              "  </tbody>\n",
              "</table>\n",
              "</div>"
            ],
            "text/plain": [
              "                   playerid               country player_platform  \\\n",
              "20517204  76561198179588026               Germany              st   \n",
              "7726227              342191         United States              ps   \n",
              "933723               318566                 Japan              ps   \n",
              "3246168             4363811        United Kingdom              ps   \n",
              "392272              3065998  United Arab Emirates              ps   \n",
              "\n",
              "                              achievementid date_acquired    gameid  \\\n",
              "20517204  865360_COMPLETE_NUMBER_LINK_TOWER    2021-03-21  865360.0   \n",
              "7726227                          8161_99879    2016-07-25    8161.0   \n",
              "933723                         10600_124388    2016-09-06   10600.0   \n",
              "3246168                          7779_95658    2014-11-21    7779.0   \n",
              "392272                       547651_4580611    2022-12-15  547651.0   \n",
              "\n",
              "                 achievement_title  \\\n",
              "20517204                 The Tower   \n",
              "7726227                     H-E...   \n",
              "933723                      Fanboi   \n",
              "3246168               The Big One!   \n",
              "392272    Travel 20000 m in total.   \n",
              "\n",
              "                                                description  \n",
              "20517204                                                NaN  \n",
              "7726227   Complete all open world gameplay in two distri...  \n",
              "933723          Put Ken's or Morohoshi's car in your garage  \n",
              "3246168                        This ain't no dream no more.  \n",
              "392272                             Travel 20000 m in total.  "
            ]
          },
          "execution_count": 133,
          "metadata": {},
          "output_type": "execute_result"
        }
      ],
      "source": [
        "merged_player_info.sample(5)"
      ]
    },
    {
      "cell_type": "code",
      "execution_count": 95,
      "metadata": {},
      "outputs": [
        {
          "name": "stdout",
          "output_type": "stream",
          "text": [
            "Merged dataset shape: (46520773, 8)\n",
            "Merged dataset duplicates: 0\n",
            "<class 'pandas.core.frame.DataFrame'>\n",
            "RangeIndex: 46520773 entries, 0 to 46520772\n",
            "Data columns (total 8 columns):\n",
            " #   Column             Dtype  \n",
            "---  ------             -----  \n",
            " 0   playerid           int64  \n",
            " 1   country            object \n",
            " 2   player_platform    object \n",
            " 3   achievementid      object \n",
            " 4   date_acquired      object \n",
            " 5   gameid             float64\n",
            " 6   achievement_title  object \n",
            " 7   description        object \n",
            "dtypes: float64(1), int64(1), object(6)\n",
            "memory usage: 2.8+ GB\n",
            "None\n"
          ]
        }
      ],
      "source": [
        "print(f\"Merged dataset shape: {merged_player_info.shape}\")\n",
        "print(f\"Merged dataset duplicates: {merged_player_info.duplicated().sum()}\")\n",
        "print(merged_player_info.info())"
      ]
    },
    {
      "cell_type": "markdown",
      "metadata": {},
      "source": [
        "#### ANOVA"
      ]
    },
    {
      "cell_type": "code",
      "execution_count": null,
      "metadata": {},
      "outputs": [
        {
          "data": {
            "text/html": [
              "<div>\n",
              "<style scoped>\n",
              "    .dataframe tbody tr th:only-of-type {\n",
              "        vertical-align: middle;\n",
              "    }\n",
              "\n",
              "    .dataframe tbody tr th {\n",
              "        vertical-align: top;\n",
              "    }\n",
              "\n",
              "    .dataframe thead th {\n",
              "        text-align: right;\n",
              "    }\n",
              "</style>\n",
              "<table border=\"1\" class=\"dataframe\">\n",
              "  <thead>\n",
              "    <tr style=\"text-align: right;\">\n",
              "      <th></th>\n",
              "      <th>playerid</th>\n",
              "      <th>country</th>\n",
              "      <th>player_platform</th>\n",
              "      <th>achievementid</th>\n",
              "      <th>date_acquired</th>\n",
              "      <th>gameid</th>\n",
              "      <th>achievement_title</th>\n",
              "      <th>description</th>\n",
              "    </tr>\n",
              "  </thead>\n",
              "  <tbody>\n",
              "    <tr>\n",
              "      <th>22978452</th>\n",
              "      <td>76561198331654944</td>\n",
              "      <td>NaN</td>\n",
              "      <td>st</td>\n",
              "      <td>508900_2276</td>\n",
              "      <td>2022-09-13</td>\n",
              "      <td>508900.0</td>\n",
              "      <td>🚀!</td>\n",
              "      <td>Pass the level 🚀!</td>\n",
              "    </tr>\n",
              "    <tr>\n",
              "      <th>34156302</th>\n",
              "      <td>2121813</td>\n",
              "      <td>Unknown</td>\n",
              "      <td>xb</td>\n",
              "      <td>18300_394912</td>\n",
              "      <td>2024-09-16</td>\n",
              "      <td>18300.0</td>\n",
              "      <td>Mic Drop</td>\n",
              "      <td>Win your first argument.</td>\n",
              "    </tr>\n",
              "    <tr>\n",
              "      <th>36679576</th>\n",
              "      <td>845144</td>\n",
              "      <td>Unknown</td>\n",
              "      <td>xb</td>\n",
              "      <td>519712_4454668</td>\n",
              "      <td>2024-06-12</td>\n",
              "      <td>519712.0</td>\n",
              "      <td>Next Stop: Escape Academy</td>\n",
              "      <td>Escape \"Introductions.\"</td>\n",
              "    </tr>\n",
              "    <tr>\n",
              "      <th>40366899</th>\n",
              "      <td>831433</td>\n",
              "      <td>Unknown</td>\n",
              "      <td>xb</td>\n",
              "      <td>1236_292075</td>\n",
              "      <td>2009-12-05</td>\n",
              "      <td>1236.0</td>\n",
              "      <td>Challenging Schedule</td>\n",
              "      <td>Complete a Manager Mode Season without simming...</td>\n",
              "    </tr>\n",
              "    <tr>\n",
              "      <th>46044829</th>\n",
              "      <td>1936663</td>\n",
              "      <td>Unknown</td>\n",
              "      <td>xb</td>\n",
              "      <td>399354_3655088</td>\n",
              "      <td>2022-10-21</td>\n",
              "      <td>399354.0</td>\n",
              "      <td>Rodent's Bane</td>\n",
              "      <td>Defeat the rats in the cellar</td>\n",
              "    </tr>\n",
              "  </tbody>\n",
              "</table>\n",
              "</div>"
            ],
            "text/plain": [
              "                   playerid  country player_platform   achievementid  \\\n",
              "22978452  76561198331654944      NaN              st     508900_2276   \n",
              "34156302            2121813  Unknown              xb    18300_394912   \n",
              "36679576             845144  Unknown              xb  519712_4454668   \n",
              "40366899             831433  Unknown              xb     1236_292075   \n",
              "46044829            1936663  Unknown              xb  399354_3655088   \n",
              "\n",
              "         date_acquired    gameid          achievement_title  \\\n",
              "22978452    2022-09-13  508900.0                         🚀!   \n",
              "34156302    2024-09-16   18300.0                   Mic Drop   \n",
              "36679576    2024-06-12  519712.0  Next Stop: Escape Academy   \n",
              "40366899    2009-12-05    1236.0       Challenging Schedule   \n",
              "46044829    2022-10-21  399354.0              Rodent's Bane   \n",
              "\n",
              "                                                description  \n",
              "22978452                                  Pass the level 🚀!  \n",
              "34156302                           Win your first argument.  \n",
              "36679576                            Escape \"Introductions.\"  \n",
              "40366899  Complete a Manager Mode Season without simming...  \n",
              "46044829                      Defeat the rats in the cellar  "
            ]
          },
          "execution_count": 134,
          "metadata": {},
          "output_type": "execute_result"
        }
      ],
      "source": [
        "merged_player_info.sample(5)"
      ]
    },
    {
      "cell_type": "code",
      "execution_count": null,
      "metadata": {},
      "outputs": [],
      "source": [
        "import copy\n",
        "merged_player_info_cp = merged_player_info.copy()\n",
        "tidy_game_info_cp = tidy_game_info.copy()\n",
        "\n",
        "mp_filtered = merged_player_info_cp[['playerid', 'country', 'date_acquired', 'gameid', 'player_platform']]\n",
        "tg_filtered = tidy_game_info[['gameid', 'release_date']]"
      ]
    },
    {
      "cell_type": "code",
      "execution_count": 150,
      "metadata": {},
      "outputs": [
        {
          "data": {
            "text/plain": [
              "30298029    2015-01-27\n",
              "4567205     2011-07-07\n",
              "24502669    2017-12-06\n",
              "9177773     2022-01-18\n",
              "4433743     2019-07-01\n",
              "3500347     2011-10-12\n",
              "6170693     2023-10-25\n",
              "7226476     2023-08-30\n",
              "26942951    2020-08-28\n",
              "28122684    2022-12-17\n",
              "Name: date_acquired, dtype: object"
            ]
          },
          "execution_count": 150,
          "metadata": {},
          "output_type": "execute_result"
        }
      ],
      "source": [
        "mp_filtered['date_acquired'].sample(10)"
      ]
    },
    {
      "cell_type": "code",
      "execution_count": 151,
      "metadata": {},
      "outputs": [
        {
          "name": "stderr",
          "output_type": "stream",
          "text": [
            "/var/folders/vr/syshz9v92js62ld8ch0rw37r0000gn/T/ipykernel_98820/94971596.py:3: SettingWithCopyWarning: \n",
            "A value is trying to be set on a copy of a slice from a DataFrame.\n",
            "Try using .loc[row_indexer,col_indexer] = value instead\n",
            "\n",
            "See the caveats in the documentation: https://pandas.pydata.org/pandas-docs/stable/user_guide/indexing.html#returning-a-view-versus-a-copy\n",
            "  tg_filtered['release_date'] = pd.to_datetime(tg_filtered['release_date'], errors='coerce')\n"
          ]
        }
      ],
      "source": [
        "mp_filtered = mp_filtered[mp_filtered['player_platform'].isin(['ps', 'st'])]\n",
        "mp_filtered['date_acquired'] = pd.to_datetime(mp_filtered['date_acquired'], errors='coerce')\n",
        "tg_filtered['release_date'] = pd.to_datetime(tg_filtered['release_date'], errors='coerce')"
      ]
    },
    {
      "cell_type": "code",
      "execution_count": 155,
      "metadata": {},
      "outputs": [],
      "source": [
        "game_release_dict = tg_filtered.set_index('gameid')['release_date'].to_dict()\n",
        "mp_filtered['release_date'] = mp_filtered['gameid'].map(game_release_dict)\n",
        "\n",
        "mp_filtered['time_to_achievement'] = (mp_filtered['date_acquired'] - mp_filtered['release_date']).dt.days\n",
        "\n",
        "# remove invalid/negative completion times\n",
        "mp_filtered = mp_filtered[(mp_filtered['time_to_achievement'] >= 0) & (mp_filtered['time_to_achievement'].notna())]\n",
        "\n",
        "# filter countries with at least 100 players for meaningful analysis\n",
        "country_counts = mp_filtered['country'].value_counts()\n",
        "mp_filtered = mp_filtered[mp_filtered['country'].isin(country_counts[country_counts >= 100].index)]"
      ]
    },
    {
      "cell_type": "code",
      "execution_count": null,
      "metadata": {},
      "outputs": [
        {
          "name": "stdout",
          "output_type": "stream",
          "text": [
            "Shapiro-Wilk Test: p-value = 0.0000\n",
            "Time-to-achievement is NOT normally distributed.\n"
          ]
        }
      ],
      "source": [
        "from scipy import stats\n",
        "\n",
        "# check for normality\n",
        "# sample 5000 rows for normality test (Shapiro-Wilk does not work well on very large data)\n",
        "sample_df = mp_filtered.sample(n=min(5000, len(mp_filtered)), random_state=42)\n",
        "\n",
        "stat, p = stats.shapiro(sample_df['time_to_achievement'])\n",
        "print(f\"Shapiro-Wilk Test: p-value = {p:.4f}\")\n",
        "\n",
        "if p < 0.05:\n",
        "    print(\"Time-to-achievement is NOT normally distributed.\")\n",
        "else:\n",
        "    print(\"Time-to-achievement appears normally distributed.\")\n"
      ]
    },
    {
      "cell_type": "code",
      "execution_count": 159,
      "metadata": {},
      "outputs": [
        {
          "name": "stdout",
          "output_type": "stream",
          "text": [
            "Levene’s Test: p-value = 0.0000\n",
            "Variances are NOT equal (consider Welch’s ANOVA).\n"
          ]
        }
      ],
      "source": [
        "# Levene’s test for equal variances across countries\n",
        "stat, p = stats.levene(*[mp_filtered[mp_filtered['country'] == c]['time_to_achievement'] for c in mp_filtered['country'].unique()])\n",
        "print(f\"Levene’s Test: p-value = {p:.4f}\")\n",
        "\n",
        "if p < 0.05:\n",
        "    print(\"Variances are NOT equal (consider Welch's ANOVA).\")\n",
        "else:\n",
        "    print(\"Variances are approximately equal (proceed with standard ANOVA).\")\n"
      ]
    },
    {
      "cell_type": "markdown",
      "metadata": {},
      "source": [
        "#### Since both assumptions for ANOVA are violated (not normally distributed nor equal variance), we choose to run **Kruskal-Wallis (one-way ANOVA on ranks)** instead."
      ]
    },
    {
      "cell_type": "code",
      "execution_count": 160,
      "metadata": {},
      "outputs": [
        {
          "name": "stdout",
          "output_type": "stream",
          "text": [
            "Kruskal-Wallis Test: H-statistic = 331601.9087, p-value = 0.0000\n",
            "Reject H0: There is a significant difference in achievement completion time across countries (non-parametric).\n"
          ]
        }
      ],
      "source": [
        "kruskal_result = stats.kruskal(*[mp_filtered[mp_filtered['country'] == c]['time_to_achievement'] for c in mp_filtered['country'].unique()])\n",
        "print(f\"Kruskal-Wallis Test: H-statistic = {kruskal_result.statistic:.4f}, p-value = {kruskal_result.pvalue:.4f}\")\n",
        "\n",
        "if kruskal_result.pvalue < 0.05:\n",
        "    print(\"Reject H0: There is a significant difference in achievement completion time across countries (non-parametric).\")\n",
        "else:\n",
        "    print(\"Fail to reject H0: No significant difference in completion time across countries.\")"
      ]
    },
    {
      "cell_type": "markdown",
      "metadata": {},
      "source": [
        "### Interpretation of Kruskal-Wallis (one-way ANOVA on ranks) results\n",
        "\n",
        "We conducted a **Kruskal-Wallis test**, a non-parametric alternative to ANOVA, due to violations of normality and/or equal variance assumptions.  \n",
        "\n",
        "- H-statistic = 331601.9087, **p-value = 0.0000**  \n",
        "- Since **p < 0.05**, we **reject the null hypothesis (H_0)**.  \n",
        "- This result indicates a **statistically significant difference** in **achievement completion times across countries** on **PlayStation and Steam** platforms.  "
      ]
    },
    {
      "cell_type": "markdown",
      "metadata": {},
      "source": [
        "### 3. [relate to graphical analysis #4] Do games with more supported languages attract more players?\n",
        "We will conduct a **linear regression analysis** to determine whether the number of supported languages influences the number of players who purchased a game.\n",
        "* The dependent variable (num_players_purchased) is continuous.\n",
        "* The independent variable (num_supported_languages) is continuous.\n",
        "* OLS regression helps quantify the strength and significance of the relationship.\n",
        "\n",
        "#### Null Hypothesis:\n",
        "The number of supported languages in a game does not significantly predict the number of players who purchased it.\n",
        "\n",
        "#### Alternative Hypothesis:\n",
        "The number of supported languages in a game significantly influences the number of players who purchased it."
      ]
    },
    {
      "cell_type": "code",
      "execution_count": 177,
      "metadata": {},
      "outputs": [
        {
          "data": {
            "text/plain": [
              "\"['English', 'French', 'Italian', 'German', 'Spanish - Spain', 'Arabic', 'Dutch', 'Japanese', 'Korean', 'Polish', 'Portuguese - Portugal', 'Portuguese - Brazil', 'Russian', 'Simplified Chinese', 'Spanish - Latin America', 'Traditional Chinese', 'Turkish']\""
            ]
          },
          "execution_count": 177,
          "metadata": {},
          "output_type": "execute_result"
        }
      ],
      "source": [
        "lst = tidy_game_info_cp['supported_languages'].sample()\n",
        "lst.iloc[0]"
      ]
    },
    {
      "cell_type": "code",
      "execution_count": 178,
      "metadata": {},
      "outputs": [],
      "source": [
        "import ast\n",
        "\n",
        "game_data = tidy_game_info[['gameid', 'supported_languages']].copy()\n",
        "\n",
        "# convert string-formatted lists to actual lists and count the number of languages\n",
        "game_data['num_languages'] = game_data['supported_languages'].apply(lambda x: len(ast.literal_eval(x)) if isinstance(x, str) else 0)\n",
        "\n",
        "# keep only numeric values\n",
        "game_data.drop(columns=['supported_languages'], inplace=True)"
      ]
    },
    {
      "cell_type": "code",
      "execution_count": 185,
      "metadata": {},
      "outputs": [
        {
          "data": {
            "text/html": [
              "<div>\n",
              "<style scoped>\n",
              "    .dataframe tbody tr th:only-of-type {\n",
              "        vertical-align: middle;\n",
              "    }\n",
              "\n",
              "    .dataframe tbody tr th {\n",
              "        vertical-align: top;\n",
              "    }\n",
              "\n",
              "    .dataframe thead th {\n",
              "        text-align: right;\n",
              "    }\n",
              "</style>\n",
              "<table border=\"1\" class=\"dataframe\">\n",
              "  <thead>\n",
              "    <tr style=\"text-align: right;\">\n",
              "      <th></th>\n",
              "      <th>gameid</th>\n",
              "      <th>num_languages</th>\n",
              "    </tr>\n",
              "  </thead>\n",
              "  <tbody>\n",
              "    <tr>\n",
              "      <th>480007</th>\n",
              "      <td>465634</td>\n",
              "      <td>4</td>\n",
              "    </tr>\n",
              "    <tr>\n",
              "      <th>1457877</th>\n",
              "      <td>527795</td>\n",
              "      <td>0</td>\n",
              "    </tr>\n",
              "    <tr>\n",
              "      <th>1208742</th>\n",
              "      <td>446493</td>\n",
              "      <td>0</td>\n",
              "    </tr>\n",
              "    <tr>\n",
              "      <th>1813044</th>\n",
              "      <td>168465</td>\n",
              "      <td>13</td>\n",
              "    </tr>\n",
              "    <tr>\n",
              "      <th>181681</th>\n",
              "      <td>443242</td>\n",
              "      <td>11</td>\n",
              "    </tr>\n",
              "    <tr>\n",
              "      <th>412771</th>\n",
              "      <td>529547</td>\n",
              "      <td>0</td>\n",
              "    </tr>\n",
              "    <tr>\n",
              "      <th>285464</th>\n",
              "      <td>414760</td>\n",
              "      <td>1</td>\n",
              "    </tr>\n",
              "    <tr>\n",
              "      <th>746180</th>\n",
              "      <td>1918040</td>\n",
              "      <td>14</td>\n",
              "    </tr>\n",
              "    <tr>\n",
              "      <th>2012421</th>\n",
              "      <td>427510</td>\n",
              "      <td>3</td>\n",
              "    </tr>\n",
              "    <tr>\n",
              "      <th>747582</th>\n",
              "      <td>1584450</td>\n",
              "      <td>2</td>\n",
              "    </tr>\n",
              "  </tbody>\n",
              "</table>\n",
              "</div>"
            ],
            "text/plain": [
              "          gameid  num_languages\n",
              "480007    465634              4\n",
              "1457877   527795              0\n",
              "1208742   446493              0\n",
              "1813044   168465             13\n",
              "181681    443242             11\n",
              "412771    529547              0\n",
              "285464    414760              1\n",
              "746180   1918040             14\n",
              "2012421   427510              3\n",
              "747582   1584450              2"
            ]
          },
          "execution_count": 185,
          "metadata": {},
          "output_type": "execute_result"
        }
      ],
      "source": [
        "game_data.sample(10)"
      ]
    },
    {
      "cell_type": "code",
      "execution_count": 186,
      "metadata": {},
      "outputs": [],
      "source": [
        "# unique players per game\n",
        "player_counts = merged_player_info_cp.groupby('gameid')['playerid'].nunique().reset_index()\n",
        "player_counts.rename(columns={'playerid': 'num_players'}, inplace=True)\n",
        "\n",
        "df_regression = game_data.merge(player_counts, on='gameid', how='inner')"
      ]
    },
    {
      "cell_type": "code",
      "execution_count": 187,
      "metadata": {},
      "outputs": [
        {
          "data": {
            "text/html": [
              "<div>\n",
              "<style scoped>\n",
              "    .dataframe tbody tr th:only-of-type {\n",
              "        vertical-align: middle;\n",
              "    }\n",
              "\n",
              "    .dataframe tbody tr th {\n",
              "        vertical-align: top;\n",
              "    }\n",
              "\n",
              "    .dataframe thead th {\n",
              "        text-align: right;\n",
              "    }\n",
              "</style>\n",
              "<table border=\"1\" class=\"dataframe\">\n",
              "  <thead>\n",
              "    <tr style=\"text-align: right;\">\n",
              "      <th></th>\n",
              "      <th>gameid</th>\n",
              "      <th>num_languages</th>\n",
              "      <th>num_players</th>\n",
              "    </tr>\n",
              "  </thead>\n",
              "  <tbody>\n",
              "    <tr>\n",
              "      <th>1824242</th>\n",
              "      <td>657224</td>\n",
              "      <td>8</td>\n",
              "      <td>1</td>\n",
              "    </tr>\n",
              "    <tr>\n",
              "      <th>1494017</th>\n",
              "      <td>444930</td>\n",
              "      <td>1</td>\n",
              "      <td>9</td>\n",
              "    </tr>\n",
              "    <tr>\n",
              "      <th>1032390</th>\n",
              "      <td>219150</td>\n",
              "      <td>7</td>\n",
              "      <td>351</td>\n",
              "    </tr>\n",
              "    <tr>\n",
              "      <th>868682</th>\n",
              "      <td>444930</td>\n",
              "      <td>1</td>\n",
              "      <td>9</td>\n",
              "    </tr>\n",
              "    <tr>\n",
              "      <th>1603144</th>\n",
              "      <td>359900</td>\n",
              "      <td>9</td>\n",
              "      <td>7</td>\n",
              "    </tr>\n",
              "  </tbody>\n",
              "</table>\n",
              "</div>"
            ],
            "text/plain": [
              "         gameid  num_languages  num_players\n",
              "1824242  657224              8            1\n",
              "1494017  444930              1            9\n",
              "1032390  219150              7          351\n",
              "868682   444930              1            9\n",
              "1603144  359900              9            7"
            ]
          },
          "execution_count": 187,
          "metadata": {},
          "output_type": "execute_result"
        }
      ],
      "source": [
        "df_regression.sample(5)"
      ]
    },
    {
      "cell_type": "code",
      "execution_count": 193,
      "metadata": {},
      "outputs": [
        {
          "data": {
            "image/png": "[encoded data removed]",
            "text/plain": [
              "<Figure size 800x500 with 1 Axes>"
            ]
          },
          "metadata": {},
          "output_type": "display_data"
        }
      ],
      "source": [
        "df_regression['log_num_players'] = np.log1p(df_regression['num_players'])\n",
        "\n",
        "\n",
        "plt.figure(figsize=(8,5))\n",
        "sns.regplot(x=df_regression['num_languages'], y=df_regression['log_num_players'])\n",
        "plt.xlabel(\"Number of Supported Languages\")\n",
        "plt.ylabel(\"Number of Players (log transformed)\")\n",
        "plt.title(\"Do Games with More Languages Attract More Players?\")\n",
        "plt.show()"
      ]
    },
    {
      "cell_type": "markdown",
      "metadata": {},
      "source": [
        "#### Since the scatterplot does not suggest a strong linear relationship between the number of supported languages and the number of players, we decided to switch to bin the number of supported languages and evaluate the binned variable and the number of players again."
      ]
    },
    {
      "cell_type": "code",
      "execution_count": 191,
      "metadata": {},
      "outputs": [
        {
          "name": "stderr",
          "output_type": "stream",
          "text": [
            "/var/folders/vr/syshz9v92js62ld8ch0rw37r0000gn/T/ipykernel_98820/145610165.py:2: FutureWarning: The default of observed=False is deprecated and will be changed to True in a future version of pandas. Pass observed=False to retain current behavior or observed=True to adopt the future default and silence this warning.\n",
            "  df_regression.groupby('language_bins')['num_players'].mean().plot(kind=\"bar\")\n"
          ]
        },
        {
          "data": {
            "text/plain": [
              "<Axes: xlabel='language_bins'>"
            ]
          },
          "execution_count": 191,
          "metadata": {},
          "output_type": "execute_result"
        },
        {
          "data": {
            "image/png": "[encoded data removed]",
            "text/plain": [
              "<Figure size 640x480 with 1 Axes>"
            ]
          },
          "metadata": {},
          "output_type": "display_data"
        }
      ],
      "source": [
        "df_regression['language_bins'] = pd.cut(df_regression['num_languages'], bins=[0, 5, 10, 20, 50, 100])\n",
        "df_regression.groupby('language_bins')['num_players'].mean().plot(kind=\"bar\")"
      ]
    },
    {
      "cell_type": "markdown",
      "metadata": {},
      "source": [
        "#### This visualization leads us to use ANOVA to test the statistical significance between bins of supported languages."
      ]
    },
    {
      "cell_type": "code",
      "execution_count": 192,
      "metadata": {},
      "outputs": [
        {
          "name": "stdout",
          "output_type": "stream",
          "text": [
            "ANOVA Test: F = 10413.1380, p = 0.0000\n"
          ]
        }
      ],
      "source": [
        "from scipy.stats import f_oneway\n",
        "\n",
        "# only non-empty bins are included\n",
        "groups = [df_regression[df_regression['language_bins'] == b]['num_players'].dropna() \n",
        "          for b in df_regression['language_bins'].unique() \n",
        "          if len(df_regression[df_regression['language_bins'] == b]) > 0]\n",
        "\n",
        "if len(groups) > 1:  # at least two groups\n",
        "    f_stat, p_val = f_oneway(*groups)\n",
        "    print(f\"ANOVA Test: F = {f_stat:.4f}, p = {p_val:.4f}\")\n",
        "else:\n",
        "    print(\"ANOVA cannot be performed: Not enough non-empty groups.\")\n"
      ]
    },
    {
      "cell_type": "markdown",
      "metadata": {},
      "source": [
        "### Interpretation of ANOVA Results: Number of Supported Languages vs. Player Count\n",
        "\n",
        "- F-statistic = 10413.1380, **p-value = 0.0000**  \n",
        "- Since **p < 0.05**, we **reject the null hypothesis (H_0)**.  \n",
        "- This indicates a **statistically significant difference** in the **number of players across language support bins**.  "
      ]
    },
    {
      "cell_type": "markdown",
      "metadata": {},
      "source": [
        "### 4. Do expensive vs. cheap games have different likelihoods of being cross-platform?\n",
        "#### Variables and groups\n",
        "* price category (high/low) vs. single vs. multi-platform.\n",
        "\n",
        "#### Test Used: Chi-Square Test of Independence\n",
        "* Both variables are categorical, and we want to test for association.\n",
        "\n",
        "#### Null Hypothesis\n",
        "There is no significant association between a game’s price category (high/low) and whether it is single-platform or multi-platform.\n",
        "\n",
        "#### Alternative Hypothesis\n",
        "There is a significant association between a game’s price category and its likelihood of being cross-platform."
      ]
    },
    {
      "cell_type": "code",
      "execution_count": 208,
      "metadata": {},
      "outputs": [
        {
          "data": {
            "text/plain": [
              "Index(['gameid', 'title', 'developers', 'publishers', 'genres',\n",
              "       'supported_languages', 'release_date', 'achievementid',\n",
              "       'achievement_title', 'achievement_description', 'platform', 'currency',\n",
              "       'price', 'price_usd'],\n",
              "      dtype='object')"
            ]
          },
          "execution_count": 208,
          "metadata": {},
          "output_type": "execute_result"
        }
      ],
      "source": [
        "tidy_game_info_cp.columns"
      ]
    },
    {
      "cell_type": "code",
      "execution_count": 236,
      "metadata": {},
      "outputs": [],
      "source": [
        "from scipy.stats import chi2_contingency\n",
        "\n",
        "df_price_platform = tidy_game_info_cp[['title', 'price_usd', 'platform']].dropna(subset=['price_usd', 'platform']).drop_duplicates()\n",
        "\n",
        "# price categories based on median price\n",
        "median_price = df_price_platform['price_usd'].median()\n",
        "df_price_platform['price_category'] = np.where(df_price_platform['price_usd'] <= median_price, 'Cheap', 'Expensive')"
      ]
    },
    {
      "cell_type": "code",
      "execution_count": 237,
      "metadata": {},
      "outputs": [
        {
          "data": {
            "text/plain": [
              "np.int64(0)"
            ]
          },
          "execution_count": 237,
          "metadata": {},
          "output_type": "execute_result"
        }
      ],
      "source": [
        "df_price_platform.duplicated().sum()"
      ]
    },
    {
      "cell_type": "code",
      "execution_count": 241,
      "metadata": {},
      "outputs": [
        {
          "name": "stdout",
          "output_type": "stream",
          "text": [
            "num_platforms\n",
            "3    39144\n",
            "2     1491\n",
            "1      232\n",
            "Name: count, dtype: int64\n"
          ]
        }
      ],
      "source": [
        "# classify: single-platform or cross-platform\n",
        "platform_counts = df_price_platform.groupby('title')['platform'].nunique().reset_index()\n",
        "platform_counts.rename(columns={'platform': 'num_platforms'}, inplace=True)\n",
        "\n",
        "df_price_platform = df_price_platform.merge(platform_counts, on='title', how='left')\n",
        "\n",
        "df_price_platform['platform_type'] = np.where(df_price_platform['num_platforms'] > 1, 'Multi-Platform', 'Single-Platform')\n",
        "\n",
        "print(df_price_platform['num_platforms'].value_counts())\n"
      ]
    },
    {
      "cell_type": "code",
      "execution_count": 244,
      "metadata": {},
      "outputs": [
        {
          "name": "stdout",
          "output_type": "stream",
          "text": [
            "Chi-Square Test: χ² = 3.9091, p-value = 0.0480\n",
            "Reject H0: There is a significant association between game price category and platform availability.\n"
          ]
        }
      ],
      "source": [
        "contingency_table = pd.crosstab(df_price_platform['price_category'], df_price_platform['platform_type'])\n",
        "\n",
        "chi2_stat, p_val, dof, expected = chi2_contingency(contingency_table)\n",
        "\n",
        "print(f\"Chi-Square Test: χ² = {chi2_stat:.4f}, p-value = {p_val:.4f}\")\n",
        "\n",
        "if p_val < 0.05:\n",
        "    print(\"Reject H0: There is a significant association between game price category and platform availability.\")\n",
        "else:\n",
        "    print(\"Fail to reject H0: No significant association between game price category and platform availability.\")"
      ]
    },
    {
      "cell_type": "markdown",
      "metadata": {},
      "source": [
        "### Interpretation of Chi-Square Test\n",
        "- χ² = 3.9091, **p = 0.0480**  \n",
        "- Since **p < 0.05**, we **reject the null hypothesis (\\(H_0\\))**.  \n",
        "- This indicates a **statistically significant association** between a game’s price category (cheap vs. expensive) and its likelihood of being cross-platform."
      ]
    },
    {
      "cell_type": "markdown",
      "metadata": {},
      "source": [
        "## Graphical analysis\n",
        "Create various types of plots to visualize relationships within your data. Use histograms, bar charts, scatter plots, box plots, and any other suitable graphical representations you've learned.\n",
        "Be sure to use appropriate titles, labels, and legends to make your plots readable and informative.\n",
        "Interpret the graphical representations to uncover patterns, trends, and outliers."
      ]
    },
    {
      "cell_type": "markdown",
      "metadata": {},
      "source": [
        "### 1. **Game dedication** across countries: Which countries have the most dedicated gamers?\n",
        "- measured by achievements earned per player\n",
        "- visualization type: heatmap (?) showing achievements per player by country.\n"
      ]
    },
    {
      "cell_type": "markdown",
      "metadata": {},
      "source": [
        "### 1.1 Profile analysis of the most dedicated gamers per country"
      ]
    },
    {
      "cell_type": "markdown",
      "metadata": {},
      "source": [
        "### 2. How do the top 10 most **expensive** games compare in terms of player purchases and achievements?\n",
        "- Another way to put: are expensive games are widely played?\n",
        "- visualization type: scatterplot of price vs. player count, colored by genre."
      ]
    },
    {
      "cell_type": "markdown",
      "metadata": {},
      "source": [
        "### 3. How do achievement completion rates compare across platforms for the top 10 most **purchased** cross-platform games?\n",
        "- visualization type: stacked bar chart for the distribution of achievement completion rates per game, grouped by platform."
      ]
    },
    {
      "cell_type": "markdown",
      "metadata": {},
      "source": [
        "### 4. How does the number of **supported languages** vary across different genres, and does that affect purchases?\n",
        "- Another way to put: Do certain genres prioritize localization more? Does that lead to more sales?\n",
        "- visualization type: boxplot for the number of supported languages grouped by genre, with another layer for player counts."
      ]
    },
    {
      "cell_type": "markdown",
      "metadata": {},
      "source": [
        "### 5. Do more **engaging** cross-platform games have faster or slower completion rates (player retention)?\n",
        "- helpful - number of users who found the review helpful\n",
        "- funny - number of users who found the review funny\n",
        "- awards - number of awards given to the review"
      ]
    }
  ],
  "metadata": {
    "colab": {
      "provenance": []
    },
    "kernelspec": {
      "display_name": ".venv",
      "language": "python",
      "name": "python3"
    },
    "language_info": {
      "codemirror_mode": {
        "name": "ipython",
        "version": 3
      },
      "file_extension": ".py",
      "mimetype": "text/x-python",
      "name": "python",
      "nbconvert_exporter": "python",
      "pygments_lexer": "ipython3",
      "version": "3.12.7"
    }
  },
  "nbformat": 4,
  "nbformat_minor": 0
}
