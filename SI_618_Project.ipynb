{
  "cells": [
    {
      "cell_type": "markdown",
      "metadata": {
        "id": "yfPJRLpyQTnG"
      },
      "source": [
        "# SI 618 WN Project Part I"
      ]
    },
    {
      "cell_type": "markdown",
      "metadata": {
        "id": "WN3jWuTDQjpX"
      },
      "source": [
        "## Project Title:\n",
        "> Provide a descriptive working title for your project.\n",
        "\n",
        "**Game Sales, Popularity, and Achievements: A Comparative Analysis Across Platforms**"
      ]
    },
    {
      "cell_type": "markdown",
      "metadata": {
        "id": "raGqyFicQ4Zw"
      },
      "source": [
        "## Team Members\n",
        "> List each team member and include their uniqname\n",
        "\n",
        "* Yufeng Song (yfsong)\n",
        "* Ziqi Wang (Venchy)\n",
        "* Muyu Lin (linmuyu)"
      ]
    },
    {
      "cell_type": "markdown",
      "metadata": {
        "id": "QcquQf5KQ_X7"
      },
      "source": [
        "## Overview\n",
        "> Give a high level description of your project\n",
        "\n",
        "Our project explores key trends in the gaming industry by analyzing data on game sales, player achievements, and platform preferences. We aim to understand how the same game performs across different platforms, how purchasing preferences vary across countries, and how game popularity evolves over time. Additionally, we will investigate the relationship between supported languages and sales, as well as the impact of pricing on game popularity across multiple platforms. By analyzing these factors, we hope to uncover insights into player behavior, market trends, and factors influencing game success."
      ]
    },
    {
      "cell_type": "markdown",
      "metadata": {
        "id": "x9oLjLuaREDo"
      },
      "source": [
        "## Motivation\n",
        "> Explain why you chose this particular topic for your project.\tInclude the three \"real-world\" questions that you generated about the data, and be sure to explain what you hope to learn by answering them.\n",
        "\n",
        "We chose this topic because gaming is a massive industry with a highly diverse audience, and understanding player preferences and market trends can provide valuable insights for developers, publishers, and gaming communities. Our project aims to answer the following real-world questions:\n",
        "\n",
        "1. **How do in-game achievements compare across different platforms for the same game?**\n",
        "\n",
        "  - By analyzing achievement data, we aim to understand whether players engage with a game differently depending on the platform they use. This could reveal differences in play styles, game difficulty adjustments, or platform-specific engagement trends.\n",
        "\n",
        "2. **How do game purchase preferences vary by country and active playtime?**\n",
        "\n",
        "  - We seek to determine whether purchasing behaviors differ based on regional preferences and player engagement levels. Understanding this can help developers tailor their marketing strategies and optimize game pricing for different audiences.\n",
        "\n",
        "3. **How has the popularity of different game types changed over time?**\n",
        "\n",
        "  - By tracking shifts in game genre popularity over time, we hope to uncover trends that indicate the rise and fall of specific genres. This insight could be useful for predicting future market demands and guiding game development strategies.\n",
        "\n",
        "By answering these questions, we hope to gain a deeper understanding of the gaming landscape, helping stakeholders make data-driven decisions about game development, pricing, and distribution strategies."
      ]
    },
    {
      "cell_type": "markdown",
      "metadata": {
        "id": "K7C9NO8rRJVm"
      },
      "source": [
        "## **[TODO]** Data Sources\n",
        "> List the two (or more) sources of data that you'll be using.  Provide URLs where appropriate.\t**Explain how the two (or more) datasets complement each other.**\n",
        "\n",
        "1. https://www.kaggle.com/datasets/artyomkruglov/gaming-profiles-2025-steam-playstation-xbox\n",
        "\n",
        "2. https://github.com/Smipe-a/gamestatshub"
      ]
    },
    {
      "cell_type": "markdown",
      "metadata": {
        "id": "0YtT1IrhRNua"
      },
      "source": [
        "## **[TODO]** Data Description\n",
        "> List the variables of interest, the size of the data sets, missing values, etc."
      ]
    },
    {
      "cell_type": "markdown",
      "metadata": {
        "id": "E5HpR2qjRRle"
      },
      "source": [
        "## Data Manipulation\n",
        "> Mostly code in this section.  This is where you merge your data sets, as well as create new columns (if appropriate)\n"
      ]
    },
    {
      "cell_type": "code",
      "execution_count": 3,
      "metadata": {
        "id": "lUJY9fwwQVGD"
      },
      "outputs": [],
      "source": [
        "import pandas as pd\n",
        "import numpy as np\n",
        "import matplotlib.pyplot as plt\n",
        "import seaborn as sns"
      ]
    },
    {
      "cell_type": "markdown",
      "metadata": {},
      "source": [
        "## PS"
      ]
    },
    {
      "cell_type": "code",
      "execution_count": 4,
      "metadata": {},
      "outputs": [
        {
          "name": "stdout",
          "output_type": "stream",
          "text": [
            "ps_purchased_games - shape: (46582, 2)\n",
            "ps_history - shape: (19510083, 3)\n",
            "ps_prices - shape: (62816, 7)\n",
            "ps_players - shape: (356600, 3)\n",
            "ps_games - shape: (23151, 8)\n",
            "ps_achievements - shape: (846563, 5)\n"
          ]
        }
      ],
      "source": [
        "import os\n",
        "import pandas as pd\n",
        "\n",
        "PS_DATA_FOLDER = \"data/ps\"\n",
        "\n",
        "dfs = {}\n",
        "\n",
        "for root, dirs, files in os.walk(PS_DATA_FOLDER):\n",
        "    for file in files:\n",
        "        if file.endswith(\".csv\"):\n",
        "            file_path = os.path.join(root, file)\n",
        "            df_name = f\"{os.path.basename(root)}_{file.replace('.csv', '')}\".replace('.csv', '')  # Clean name\n",
        "            dfs[df_name] = pd.read_csv(file_path)\n",
        "\n",
        "for name, df in dfs.items():\n",
        "    print(f\"{name} - shape: {df.shape}\")"
      ]
    },
    {
      "cell_type": "code",
      "execution_count": 5,
      "metadata": {},
      "outputs": [],
      "source": [
        "ps_achievements = dfs['ps_achievements']\n",
        "ps_games = dfs['ps_games']\n",
        "ps_history = dfs['ps_history']\n",
        "ps_players = dfs['ps_players']\n",
        "ps_prices = dfs['ps_prices']\n",
        "ps_purchased_games = dfs['ps_purchased_games']"
      ]
    },
    {
      "cell_type": "markdown",
      "metadata": {},
      "source": [
        "### Player focus"
      ]
    },
    {
      "cell_type": "code",
      "execution_count": 6,
      "metadata": {},
      "outputs": [],
      "source": [
        "ps_player_info = ps_players.merge(ps_history, on=\"playerid\", how=\"left\")"
      ]
    },
    {
      "cell_type": "code",
      "execution_count": 7,
      "metadata": {},
      "outputs": [],
      "source": [
        "ps_player_info = ps_player_info.merge(ps_achievements, on=\"achievementid\", how=\"left\")"
      ]
    },
    {
      "cell_type": "code",
      "execution_count": 8,
      "metadata": {},
      "outputs": [],
      "source": [
        "ps_player_info = ps_player_info.merge(ps_purchased_games, on=\"playerid\", how=\"left\")"
      ]
    },
    {
      "cell_type": "code",
      "execution_count": 10,
      "metadata": {},
      "outputs": [
        {
          "name": "stdout",
          "output_type": "stream",
          "text": [
            "<class 'pandas.core.frame.DataFrame'>\n",
            "RangeIndex: 19861683 entries, 0 to 19861682\n",
            "Data columns (total 10 columns):\n",
            " #   Column         Dtype  \n",
            "---  ------         -----  \n",
            " 0   playerid       int64  \n",
            " 1   nickname       object \n",
            " 2   country        object \n",
            " 3   achievementid  object \n",
            " 4   date_acquired  object \n",
            " 5   gameid         float64\n",
            " 6   title          object \n",
            " 7   description    object \n",
            " 8   rarity         object \n",
            " 9   library        object \n",
            "dtypes: float64(1), int64(1), object(8)\n",
            "memory usage: 1.5+ GB\n"
          ]
        }
      ],
      "source": [
        "ps_player_info.info()"
      ]
    },
    {
      "cell_type": "code",
      "execution_count": 11,
      "metadata": {},
      "outputs": [
        {
          "data": {
            "text/html": [
              "<div>\n",
              "<style scoped>\n",
              "    .dataframe tbody tr th:only-of-type {\n",
              "        vertical-align: middle;\n",
              "    }\n",
              "\n",
              "    .dataframe tbody tr th {\n",
              "        vertical-align: top;\n",
              "    }\n",
              "\n",
              "    .dataframe thead th {\n",
              "        text-align: right;\n",
              "    }\n",
              "</style>\n",
              "<table border=\"1\" class=\"dataframe\">\n",
              "  <thead>\n",
              "    <tr style=\"text-align: right;\">\n",
              "      <th></th>\n",
              "      <th>playerid</th>\n",
              "      <th>nickname</th>\n",
              "      <th>country</th>\n",
              "      <th>achievementid</th>\n",
              "      <th>date_acquired</th>\n",
              "      <th>gameid</th>\n",
              "      <th>title</th>\n",
              "      <th>description</th>\n",
              "      <th>rarity</th>\n",
              "      <th>library</th>\n",
              "    </tr>\n",
              "  </thead>\n",
              "  <tbody>\n",
              "    <tr>\n",
              "      <th>5867413</th>\n",
              "      <td>4476380</td>\n",
              "      <td>zerokingx</td>\n",
              "      <td>United States</td>\n",
              "      <td>473901_4222207</td>\n",
              "      <td>2023-08-24 21:03:06</td>\n",
              "      <td>473901.0</td>\n",
              "      <td>Win! Win!</td>\n",
              "      <td>Win a prize at the slot machine.</td>\n",
              "      <td>Gold</td>\n",
              "      <td>[669, 554080, 727624, 625558, 442772, 143078, ...</td>\n",
              "    </tr>\n",
              "    <tr>\n",
              "      <th>11208587</th>\n",
              "      <td>1282585</td>\n",
              "      <td>chibihey</td>\n",
              "      <td>Japan</td>\n",
              "      <td>2926_44403</td>\n",
              "      <td>2012-08-24 13:38:19</td>\n",
              "      <td>2926.0</td>\n",
              "      <td>Affinity and Beyond</td>\n",
              "      <td>Raised a person's affinity to the maximum.</td>\n",
              "      <td>Bronze</td>\n",
              "      <td>[6097, 334008, 167756, 9311, 193357, 455317, 1...</td>\n",
              "    </tr>\n",
              "    <tr>\n",
              "      <th>1208046</th>\n",
              "      <td>4562316</td>\n",
              "      <td>RauL_BiGMan</td>\n",
              "      <td>Brazil</td>\n",
              "      <td>3726_53614</td>\n",
              "      <td>2013-08-11 01:04:48</td>\n",
              "      <td>3726.0</td>\n",
              "      <td>Defender</td>\n",
              "      <td>Successfully defend FOB Spectre from incursion.</td>\n",
              "      <td>Bronze</td>\n",
              "      <td>[550305, 682408, 569681, 589203, 550824, 43352...</td>\n",
              "    </tr>\n",
              "    <tr>\n",
              "      <th>7693172</th>\n",
              "      <td>346427</td>\n",
              "      <td>nenjahplz</td>\n",
              "      <td>United States</td>\n",
              "      <td>195514_3142469</td>\n",
              "      <td>2021-04-01 07:29:49</td>\n",
              "      <td>195514.0</td>\n",
              "      <td>The Elusive Elder Dragon</td>\n",
              "      <td>Earn the right to take on three-star master ra...</td>\n",
              "      <td>Bronze</td>\n",
              "      <td>[661659, 546924, 622641, 417808, 5891, 574336,...</td>\n",
              "    </tr>\n",
              "    <tr>\n",
              "      <th>14736934</th>\n",
              "      <td>348774</td>\n",
              "      <td>bart1202</td>\n",
              "      <td>United Kingdom</td>\n",
              "      <td>189_9833</td>\n",
              "      <td>2009-07-20 20:58:09</td>\n",
              "      <td>189.0</td>\n",
              "      <td>Awesome Trophy!</td>\n",
              "      <td>Eliminate 250 Decepticons - Autobot Campaign</td>\n",
              "      <td>Bronze</td>\n",
              "      <td>[14465, 404720, 400289, 20394, 139705, 9459, 2...</td>\n",
              "    </tr>\n",
              "  </tbody>\n",
              "</table>\n",
              "</div>"
            ],
            "text/plain": [
              "          playerid     nickname         country   achievementid  \\\n",
              "5867413    4476380    zerokingx   United States  473901_4222207   \n",
              "11208587   1282585     chibihey           Japan      2926_44403   \n",
              "1208046    4562316  RauL_BiGMan          Brazil      3726_53614   \n",
              "7693172     346427    nenjahplz   United States  195514_3142469   \n",
              "14736934    348774     bart1202  United Kingdom        189_9833   \n",
              "\n",
              "                date_acquired    gameid                     title  \\\n",
              "5867413   2023-08-24 21:03:06  473901.0                 Win! Win!   \n",
              "11208587  2012-08-24 13:38:19    2926.0       Affinity and Beyond   \n",
              "1208046   2013-08-11 01:04:48    3726.0                  Defender   \n",
              "7693172   2021-04-01 07:29:49  195514.0  The Elusive Elder Dragon   \n",
              "14736934  2009-07-20 20:58:09     189.0           Awesome Trophy!   \n",
              "\n",
              "                                                description  rarity  \\\n",
              "5867413                    Win a prize at the slot machine.    Gold   \n",
              "11208587         Raised a person's affinity to the maximum.  Bronze   \n",
              "1208046     Successfully defend FOB Spectre from incursion.  Bronze   \n",
              "7693172   Earn the right to take on three-star master ra...  Bronze   \n",
              "14736934       Eliminate 250 Decepticons - Autobot Campaign  Bronze   \n",
              "\n",
              "                                                    library  \n",
              "5867413   [669, 554080, 727624, 625558, 442772, 143078, ...  \n",
              "11208587  [6097, 334008, 167756, 9311, 193357, 455317, 1...  \n",
              "1208046   [550305, 682408, 569681, 589203, 550824, 43352...  \n",
              "7693172   [661659, 546924, 622641, 417808, 5891, 574336,...  \n",
              "14736934  [14465, 404720, 400289, 20394, 139705, 9459, 2...  "
            ]
          },
          "execution_count": 11,
          "metadata": {},
          "output_type": "execute_result"
        }
      ],
      "source": [
        "ps_player_info.sample(5)"
      ]
    },
    {
      "cell_type": "markdown",
      "metadata": {},
      "source": [
        "### Game focus\n",
        "date_acquired column is dropped as it indicates the timestamp when the price info was extracted from multiple databases and do not add helpful insights to our analysis."
      ]
    },
    {
      "cell_type": "code",
      "execution_count": 12,
      "metadata": {},
      "outputs": [],
      "source": [
        "ps_game_info = ps_games.merge(ps_achievements.rename(columns={'title': 'achievement_title'}), on=\"gameid\", how=\"left\")"
      ]
    },
    {
      "cell_type": "code",
      "execution_count": 13,
      "metadata": {},
      "outputs": [],
      "source": [
        "ps_game_info = ps_game_info.merge(ps_prices, on=\"gameid\", how=\"left\")"
      ]
    },
    {
      "cell_type": "code",
      "execution_count": null,
      "metadata": {},
      "outputs": [],
      "source": [
        "ps_game_info = ps_game_info.drop(columns=['date_acquired'])"
      ]
    },
    {
      "cell_type": "code",
      "execution_count": 46,
      "metadata": {},
      "outputs": [],
      "source": [
        "ps_game_info.rename(columns={'platform': 'PS_platform'}, inplace=True)"
      ]
    },
    {
      "cell_type": "code",
      "execution_count": 74,
      "metadata": {},
      "outputs": [],
      "source": [
        "ps_game_info.rename(columns={'description': 'achievement_description'}, inplace=True)"
      ]
    },
    {
      "cell_type": "code",
      "execution_count": 75,
      "metadata": {},
      "outputs": [
        {
          "name": "stdout",
          "output_type": "stream",
          "text": [
            "<class 'pandas.core.frame.DataFrame'>\n",
            "RangeIndex: 1289501 entries, 0 to 1289500\n",
            "Data columns (total 17 columns):\n",
            " #   Column                   Non-Null Count    Dtype  \n",
            "---  ------                   --------------    -----  \n",
            " 0   gameid                   1289501 non-null  int64  \n",
            " 1   title                    1289501 non-null  object \n",
            " 2   PS_platform              1289501 non-null  object \n",
            " 3   developers               1288417 non-null  object \n",
            " 4   publishers               1288833 non-null  object \n",
            " 5   genres                   1281054 non-null  object \n",
            " 6   supported_languages      655941 non-null   object \n",
            " 7   release_date             1289501 non-null  object \n",
            " 8   achievementid            1289501 non-null  object \n",
            " 9   achievement_title        1289493 non-null  object \n",
            " 10  achievement_description  1289469 non-null  object \n",
            " 11  rarity                   1289501 non-null  object \n",
            " 12  usd                      1101806 non-null  float64\n",
            " 13  eur                      1047106 non-null  float64\n",
            " 14  gbp                      1091134 non-null  float64\n",
            " 15  jpy                      537111 non-null   float64\n",
            " 16  rub                      259559 non-null   float64\n",
            "dtypes: float64(5), int64(1), object(11)\n",
            "memory usage: 167.2+ MB\n"
          ]
        }
      ],
      "source": [
        "ps_game_info.info()"
      ]
    },
    {
      "cell_type": "markdown",
      "metadata": {},
      "source": [
        "PS-only cols: rarity, PS_platform"
      ]
    },
    {
      "cell_type": "markdown",
      "metadata": {},
      "source": [
        "## Steam"
      ]
    },
    {
      "cell_type": "code",
      "execution_count": null,
      "metadata": {},
      "outputs": [
        {
          "name": "stdout",
          "output_type": "stream",
          "text": [
            "steam_purchased_games - shape: (102548, 2)\n",
            "steam_reviews - shape: (1204534, 8)\n",
            "steam_history - shape: (10693879, 3)\n",
            "steam_friends - shape: (424683, 2)\n",
            "steam_prices - shape: (4414273, 7)\n",
            "steam_players - shape: (424683, 3)\n",
            "steam_games - shape: (98248, 7)\n",
            "steam_private_steamids - shape: (227963, 1)\n",
            "steam_achievements - shape: (1939027, 4)\n"
          ]
        }
      ],
      "source": [
        "import os\n",
        "import pandas as pd\n",
        "\n",
        "STEAM_DATA_FOLDER = \"data/steam\"\n",
        "\n",
        "dfs = {}\n",
        "\n",
        "for root, dirs, files in os.walk(STEAM_DATA_FOLDER):\n",
        "    for file in files:\n",
        "        if file.endswith(\".csv\"):\n",
        "            file_path = os.path.join(root, file)\n",
        "            df_name = f\"{os.path.basename(root)}_{file.replace('.csv', '')}\".replace('.csv', '')  # Clean name\n",
        "            dfs[df_name] = pd.read_csv(file_path)\n",
        "\n",
        "for name, df in dfs.items():\n",
        "    print(f\"{name} - shape: {df.shape}\")\n",
        "\n",
        "steam_achievements = dfs['steam_achievements']\n",
        "steam_games = dfs['steam_games']\n",
        "steam_history = dfs['steam_history']\n",
        "steam_players = dfs['steam_players']\n",
        "steam_prices = dfs['steam_prices']\n",
        "steam_purchased_games = dfs['steam_purchased_games']\n"
      ]
    },
    {
      "cell_type": "markdown",
      "metadata": {},
      "source": [
        "### Player focus"
      ]
    },
    {
      "cell_type": "code",
      "execution_count": 18,
      "metadata": {},
      "outputs": [],
      "source": [
        "st_player_info = steam_players.merge(steam_history, on=\"playerid\", how=\"left\")"
      ]
    },
    {
      "cell_type": "code",
      "execution_count": 19,
      "metadata": {},
      "outputs": [],
      "source": [
        "st_player_info = st_player_info.merge(steam_achievements, on=\"achievementid\", how=\"left\")"
      ]
    },
    {
      "cell_type": "code",
      "execution_count": 20,
      "metadata": {},
      "outputs": [],
      "source": [
        "st_player_info = st_player_info.merge(steam_purchased_games, on=\"playerid\", how=\"left\")\n",
        "\n",
        "# # Save player-focused data\n",
        "# steam_player_info.to_csv('data/steam_players.csv', index=False)"
      ]
    },
    {
      "cell_type": "code",
      "execution_count": 21,
      "metadata": {},
      "outputs": [
        {
          "name": "stdout",
          "output_type": "stream",
          "text": [
            "<class 'pandas.core.frame.DataFrame'>\n",
            "RangeIndex: 11113724 entries, 0 to 11113723\n",
            "Data columns (total 9 columns):\n",
            " #   Column         Dtype  \n",
            "---  ------         -----  \n",
            " 0   playerid       int64  \n",
            " 1   country        object \n",
            " 2   created        object \n",
            " 3   achievementid  object \n",
            " 4   date_acquired  object \n",
            " 5   gameid         float64\n",
            " 6   title          object \n",
            " 7   description    object \n",
            " 8   library        object \n",
            "dtypes: float64(1), int64(1), object(7)\n",
            "memory usage: 763.1+ MB\n"
          ]
        }
      ],
      "source": [
        "st_player_info.info()"
      ]
    },
    {
      "cell_type": "code",
      "execution_count": 22,
      "metadata": {},
      "outputs": [
        {
          "data": {
            "text/plain": [
              "(11113724, 9)"
            ]
          },
          "execution_count": 22,
          "metadata": {},
          "output_type": "execute_result"
        }
      ],
      "source": [
        "st_player_info.shape"
      ]
    },
    {
      "cell_type": "markdown",
      "metadata": {},
      "source": [
        "### Game focus"
      ]
    },
    {
      "cell_type": "code",
      "execution_count": 67,
      "metadata": {},
      "outputs": [],
      "source": [
        "st_game_info = steam_games.merge(steam_achievements.rename(columns={'title': 'achievement_title'}), on=\"gameid\", how=\"left\")"
      ]
    },
    {
      "cell_type": "code",
      "execution_count": 68,
      "metadata": {},
      "outputs": [],
      "source": [
        "st_game_info = st_game_info.merge(steam_prices, on=\"gameid\", how=\"left\")"
      ]
    },
    {
      "cell_type": "code",
      "execution_count": 70,
      "metadata": {},
      "outputs": [],
      "source": [
        "st_game_info = st_game_info.drop(columns=['date_acquired'])"
      ]
    },
    {
      "cell_type": "code",
      "execution_count": 71,
      "metadata": {},
      "outputs": [],
      "source": [
        "st_game_info.rename(columns={'description': 'achievement_description'}, inplace=True)"
      ]
    },
    {
      "cell_type": "code",
      "execution_count": 72,
      "metadata": {},
      "outputs": [
        {
          "name": "stdout",
          "output_type": "stream",
          "text": [
            "<class 'pandas.core.frame.DataFrame'>\n",
            "RangeIndex: 89149729 entries, 0 to 89149728\n",
            "Data columns (total 15 columns):\n",
            " #   Column                   Dtype  \n",
            "---  ------                   -----  \n",
            " 0   gameid                   int64  \n",
            " 1   title                    object \n",
            " 2   developers               object \n",
            " 3   publishers               object \n",
            " 4   genres                   object \n",
            " 5   supported_languages      object \n",
            " 6   release_date             object \n",
            " 7   achievementid            object \n",
            " 8   achievement_title        object \n",
            " 9   achievement_description  object \n",
            " 10  usd                      float64\n",
            " 11  eur                      float64\n",
            " 12  gbp                      float64\n",
            " 13  jpy                      float64\n",
            " 14  rub                      float64\n",
            "dtypes: float64(5), int64(1), object(9)\n",
            "memory usage: 10.0+ GB\n"
          ]
        }
      ],
      "source": [
        "st_game_info.info()"
      ]
    },
    {
      "cell_type": "code",
      "execution_count": 27,
      "metadata": {},
      "outputs": [
        {
          "data": {
            "text/plain": [
              "(89149729, 15)"
            ]
          },
          "execution_count": 27,
          "metadata": {},
          "output_type": "execute_result"
        }
      ],
      "source": [
        "st_game_info.shape"
      ]
    },
    {
      "cell_type": "markdown",
      "metadata": {},
      "source": [
        "## XBOX"
      ]
    },
    {
      "cell_type": "code",
      "execution_count": 28,
      "metadata": {},
      "outputs": [
        {
          "name": "stdout",
          "output_type": "stream",
          "text": [
            "xbox_purchased_games - shape: (46466, 2)\n",
            "xbox_history - shape: (15275900, 3)\n",
            "xbox_prices - shape: (22638, 7)\n",
            "xbox_players - shape: (274450, 2)\n",
            "xbox_games - shape: (10489, 7)\n",
            "xbox_achievements - shape: (351111, 5)\n"
          ]
        }
      ],
      "source": [
        "import os\n",
        "import pandas as pd\n",
        "\n",
        "XBOX_DATA_FOLDER = \"data/xbox\"\n",
        "\n",
        "dfs = {}\n",
        "\n",
        "for root, dirs, files in os.walk(XBOX_DATA_FOLDER):\n",
        "    for file in files:\n",
        "        if file.endswith(\".csv\"):\n",
        "            file_path = os.path.join(root, file)\n",
        "            df_name = f\"{os.path.basename(root)}_{file.replace('.csv', '')}\".replace('.csv', '')\n",
        "            dfs[df_name] = pd.read_csv(file_path)\n",
        "\n",
        "for name, df in dfs.items():\n",
        "    print(f\"{name} - shape: {df.shape}\")\n"
      ]
    },
    {
      "cell_type": "code",
      "execution_count": 29,
      "metadata": {},
      "outputs": [],
      "source": [
        "xbox_achievements = dfs['xbox_achievements']\n",
        "xbox_games = dfs['xbox_games']\n",
        "xbox_history = dfs['xbox_history']\n",
        "xbox_players = dfs['xbox_players']\n",
        "xbox_prices = dfs['xbox_prices']\n",
        "xbox_purchased_games = dfs['xbox_purchased_games']"
      ]
    },
    {
      "cell_type": "markdown",
      "metadata": {},
      "source": [
        "### Player focus"
      ]
    },
    {
      "cell_type": "code",
      "execution_count": 30,
      "metadata": {},
      "outputs": [],
      "source": [
        "xb_player_info = xbox_players.merge(xbox_history, on=\"playerid\", how=\"left\")"
      ]
    },
    {
      "cell_type": "code",
      "execution_count": 31,
      "metadata": {},
      "outputs": [],
      "source": [
        "xb_player_info = xb_player_info.merge(xbox_achievements, on=\"achievementid\", how=\"left\")"
      ]
    },
    {
      "cell_type": "code",
      "execution_count": 32,
      "metadata": {},
      "outputs": [],
      "source": [
        "xb_player_info = xb_player_info.merge(xbox_purchased_games, on=\"playerid\", how=\"left\")"
      ]
    },
    {
      "cell_type": "code",
      "execution_count": 33,
      "metadata": {},
      "outputs": [
        {
          "name": "stdout",
          "output_type": "stream",
          "text": [
            "<class 'pandas.core.frame.DataFrame'>\n",
            "RangeIndex: 15545366 entries, 0 to 15545365\n",
            "Data columns (total 9 columns):\n",
            " #   Column         Dtype  \n",
            "---  ------         -----  \n",
            " 0   playerid       int64  \n",
            " 1   nickname       object \n",
            " 2   achievementid  object \n",
            " 3   date_acquired  object \n",
            " 4   gameid         float64\n",
            " 5   title          object \n",
            " 6   description    object \n",
            " 7   points         float64\n",
            " 8   library        object \n",
            "dtypes: float64(2), int64(1), object(6)\n",
            "memory usage: 1.0+ GB\n"
          ]
        }
      ],
      "source": [
        "xb_player_info.info()"
      ]
    },
    {
      "cell_type": "code",
      "execution_count": 34,
      "metadata": {},
      "outputs": [
        {
          "data": {
            "text/plain": [
              "(15545366, 9)"
            ]
          },
          "execution_count": 34,
          "metadata": {},
          "output_type": "execute_result"
        }
      ],
      "source": [
        "xb_player_info.shape"
      ]
    },
    {
      "cell_type": "markdown",
      "metadata": {},
      "source": [
        "### Game focus"
      ]
    },
    {
      "cell_type": "code",
      "execution_count": 35,
      "metadata": {},
      "outputs": [],
      "source": [
        "xb_game_info = xbox_games.merge(xbox_achievements.rename(columns={'title': 'achievement_title'}), on=\"gameid\", how=\"left\")"
      ]
    },
    {
      "cell_type": "code",
      "execution_count": 36,
      "metadata": {},
      "outputs": [],
      "source": [
        "xb_game_info = xb_game_info.merge(xbox_prices, on=\"gameid\", how=\"left\")"
      ]
    },
    {
      "cell_type": "code",
      "execution_count": 37,
      "metadata": {},
      "outputs": [],
      "source": [
        "xb_game_info = xb_game_info.drop(columns=['date_acquired', 'points'])"
      ]
    },
    {
      "cell_type": "code",
      "execution_count": 38,
      "metadata": {},
      "outputs": [],
      "source": [
        "xb_game_info.rename(columns={'description': 'achievement_description'}, inplace=True)"
      ]
    },
    {
      "cell_type": "code",
      "execution_count": 56,
      "metadata": {},
      "outputs": [
        {
          "name": "stdout",
          "output_type": "stream",
          "text": [
            "<class 'pandas.core.frame.DataFrame'>\n",
            "RangeIndex: 646076 entries, 0 to 646075\n",
            "Data columns (total 15 columns):\n",
            " #   Column                   Non-Null Count   Dtype  \n",
            "---  ------                   --------------   -----  \n",
            " 0   gameid                   646076 non-null  int64  \n",
            " 1   title                    646076 non-null  object \n",
            " 2   developers               608804 non-null  object \n",
            " 3   publishers               610118 non-null  object \n",
            " 4   genres                   608336 non-null  object \n",
            " 5   supported_languages      265610 non-null  object \n",
            " 6   release_date             646076 non-null  object \n",
            " 7   achievementid            646076 non-null  object \n",
            " 8   achievement_title        646074 non-null  object \n",
            " 9   achievement_description  645968 non-null  object \n",
            " 10  usd                      474444 non-null  float64\n",
            " 11  eur                      453524 non-null  float64\n",
            " 12  gbp                      469236 non-null  float64\n",
            " 13  jpy                      0 non-null       float64\n",
            " 14  rub                      420418 non-null  float64\n",
            "dtypes: float64(5), int64(1), object(9)\n",
            "memory usage: 73.9+ MB\n"
          ]
        }
      ],
      "source": [
        "xb_game_info.info()"
      ]
    },
    {
      "cell_type": "markdown",
      "metadata": {},
      "source": [
        "## Merge game info"
      ]
    },
    {
      "cell_type": "code",
      "execution_count": 40,
      "metadata": {},
      "outputs": [
        {
          "data": {
            "text/plain": [
              "23151"
            ]
          },
          "execution_count": 40,
          "metadata": {},
          "output_type": "execute_result"
        }
      ],
      "source": [
        "len(ps_game_info['gameid'].unique())"
      ]
    },
    {
      "cell_type": "code",
      "execution_count": 41,
      "metadata": {},
      "outputs": [
        {
          "data": {
            "text/plain": [
              "98248"
            ]
          },
          "execution_count": 41,
          "metadata": {},
          "output_type": "execute_result"
        }
      ],
      "source": [
        "len(st_game_info['gameid'].unique())"
      ]
    },
    {
      "cell_type": "code",
      "execution_count": 42,
      "metadata": {},
      "outputs": [
        {
          "data": {
            "text/plain": [
              "10489"
            ]
          },
          "execution_count": 42,
          "metadata": {},
          "output_type": "execute_result"
        }
      ],
      "source": [
        "len(xb_game_info['gameid'].unique())"
      ]
    },
    {
      "cell_type": "code",
      "execution_count": 44,
      "metadata": {},
      "outputs": [
        {
          "name": "stdout",
          "output_type": "stream",
          "text": [
            "Shared titles between PS & ST: 5571\n",
            "Shared titles between PS & XB: 5360\n",
            "Shared titles between ST & XB: 5540\n",
            "Shared across all three: 3815\n"
          ]
        }
      ],
      "source": [
        "ps_titles = set(ps_game_info['title'].str.lower().str.strip())\n",
        "st_titles = set(st_game_info['title'].str.lower().str.strip())\n",
        "xb_titles = set(xb_game_info['title'].str.lower().str.strip())\n",
        "\n",
        "shared_ps_st = ps_titles.intersection(st_titles)\n",
        "shared_ps_xb = ps_titles.intersection(xb_titles)\n",
        "shared_st_xb = st_titles.intersection(xb_titles)\n",
        "shared_all = ps_titles.intersection(st_titles, xb_titles)\n",
        "\n",
        "print(f\"Shared titles between PS & ST: {len(shared_ps_st)}\")\n",
        "print(f\"Shared titles between PS & XB: {len(shared_ps_xb)}\")\n",
        "print(f\"Shared titles between ST & XB: {len(shared_st_xb)}\")\n",
        "print(f\"Shared across all three: {len(shared_all)}\")\n"
      ]
    },
    {
      "cell_type": "code",
      "execution_count": null,
      "metadata": {},
      "outputs": [],
      "source": [
        "def clean_game_info(df, platform):\n",
        "    df = df.copy()\n",
        "    \n",
        "    # drop platform-specific columns (ps_game_info's 'rarity' and 'PS_platform')\n",
        "    drop_cols = ['date_acquired', 'rarity', 'PS_platform']\n",
        "    df = df.drop(columns=[col for col in drop_cols if col in df.columns], errors='ignore')\n",
        "\n",
        "    # add platform column\n",
        "    df['platform'] = platform\n",
        "    \n",
        "    return df"
      ]
    },
    {
      "cell_type": "code",
      "execution_count": null,
      "metadata": {},
      "outputs": [],
      "source": [
        "ps_game_info_clean = clean_game_info(ps_game_info, 'ps')"
      ]
    },
    {
      "cell_type": "code",
      "execution_count": 78,
      "metadata": {},
      "outputs": [
        {
          "data": {
            "text/plain": [
              "Index(['gameid', 'title', 'developers', 'publishers', 'genres',\n",
              "       'supported_languages', 'release_date', 'achievementid',\n",
              "       'achievement_title', 'achievement_description', 'usd', 'eur', 'gbp',\n",
              "       'jpy', 'rub', 'platform'],\n",
              "      dtype='object')"
            ]
          },
          "execution_count": 78,
          "metadata": {},
          "output_type": "execute_result"
        }
      ],
      "source": [
        "ps_game_info_clean.columns"
      ]
    },
    {
      "cell_type": "code",
      "execution_count": 79,
      "metadata": {},
      "outputs": [],
      "source": [
        "st_game_info_clean = clean_game_info(st_game_info, 'st')"
      ]
    },
    {
      "cell_type": "code",
      "execution_count": 80,
      "metadata": {},
      "outputs": [
        {
          "data": {
            "text/plain": [
              "Index(['gameid', 'title', 'developers', 'publishers', 'genres',\n",
              "       'supported_languages', 'release_date', 'achievementid',\n",
              "       'achievement_title', 'achievement_description', 'usd', 'eur', 'gbp',\n",
              "       'jpy', 'rub', 'platform'],\n",
              "      dtype='object')"
            ]
          },
          "execution_count": 80,
          "metadata": {},
          "output_type": "execute_result"
        }
      ],
      "source": [
        "st_game_info_clean.columns"
      ]
    },
    {
      "cell_type": "code",
      "execution_count": 81,
      "metadata": {},
      "outputs": [],
      "source": [
        "xb_game_info_clean = clean_game_info(xb_game_info, 'xb')"
      ]
    },
    {
      "cell_type": "code",
      "execution_count": 82,
      "metadata": {},
      "outputs": [
        {
          "data": {
            "text/plain": [
              "Index(['gameid', 'title', 'developers', 'publishers', 'genres',\n",
              "       'supported_languages', 'release_date', 'achievementid',\n",
              "       'achievement_title', 'achievement_description', 'usd', 'eur', 'gbp',\n",
              "       'jpy', 'rub', 'platform'],\n",
              "      dtype='object')"
            ]
          },
          "execution_count": 82,
          "metadata": {},
          "output_type": "execute_result"
        }
      ],
      "source": [
        "xb_game_info_clean.columns"
      ]
    },
    {
      "cell_type": "code",
      "execution_count": null,
      "metadata": {},
      "outputs": [
        {
          "name": "stdout",
          "output_type": "stream",
          "text": [
            "Merged dataset shape: (5808510, 16)\n"
          ]
        }
      ],
      "source": [
        "shared_games = set(ps_game_info_clean['title']) & set(st_game_info_clean['title']) & set(xb_game_info_clean['title'])\n",
        "\n",
        "ps_game_info_clean = ps_game_info_clean[ps_game_info_clean['title'].isin(shared_games)]\n",
        "st_game_info_clean = st_game_info_clean[st_game_info_clean['title'].isin(shared_games)]\n",
        "xb_game_info_clean = xb_game_info_clean[xb_game_info_clean['title'].isin(shared_games)]\n",
        "\n",
        "merged_game_info = pd.concat([ps_game_info_clean, st_game_info_clean, xb_game_info_clean], ignore_index=True)\n",
        "\n",
        "print(f\"Merged dataset shape: {merged_game_info.shape}\")"
      ]
    },
    {
      "cell_type": "code",
      "execution_count": 84,
      "metadata": {},
      "outputs": [
        {
          "name": "stdout",
          "output_type": "stream",
          "text": [
            "<class 'pandas.core.frame.DataFrame'>\n",
            "RangeIndex: 5808510 entries, 0 to 5808509\n",
            "Data columns (total 16 columns):\n",
            " #   Column                   Dtype  \n",
            "---  ------                   -----  \n",
            " 0   gameid                   int64  \n",
            " 1   title                    object \n",
            " 2   developers               object \n",
            " 3   publishers               object \n",
            " 4   genres                   object \n",
            " 5   supported_languages      object \n",
            " 6   release_date             object \n",
            " 7   achievementid            object \n",
            " 8   achievement_title        object \n",
            " 9   achievement_description  object \n",
            " 10  usd                      float64\n",
            " 11  eur                      float64\n",
            " 12  gbp                      float64\n",
            " 13  jpy                      float64\n",
            " 14  rub                      float64\n",
            " 15  platform                 object \n",
            "dtypes: float64(5), int64(1), object(10)\n",
            "memory usage: 709.0+ MB\n"
          ]
        }
      ],
      "source": [
        "merged_game_info.info()"
      ]
    },
    {
      "cell_type": "markdown",
      "metadata": {},
      "source": [
        "## Long and Tidy Form\n",
        "A tidy dataset follows the principles:\n",
        "1. Each column is a single variable.\n",
        "2. Each row is a single observation.\n",
        "3. Each cell contains a single value.\n",
        "\n",
        "#### Issues with the current merged_game_info:\n",
        "- **We decide to leave it unchanged as our analysis will base on it**: The platform column is categorical, meaning the same game can appear multiple times (once per platform). This makes it long format.\n",
        "- Price columns (usd, eur, etc.) are separate instead of melted into a single column, which makes the dataset wide instead of long, which is not tidy."
      ]
    },
    {
      "cell_type": "code",
      "execution_count": 85,
      "metadata": {},
      "outputs": [],
      "source": [
        "# convert price columns into a long format\n",
        "tidy_game_info = merged_game_info.melt(\n",
        "    id_vars=[\n",
        "        \"gameid\", \"title\", \"developers\", \"publishers\", \"genres\",\n",
        "        \"supported_languages\", \"release_date\", \"achievementid\",\n",
        "        \"achievement_title\", \"achievement_description\", \"platform\"\n",
        "    ],\n",
        "    value_vars=[\"usd\", \"eur\", \"gbp\", \"jpy\", \"rub\"],\n",
        "    var_name=\"currency\",\n",
        "    value_name=\"price\"\n",
        ")"
      ]
    },
    {
      "cell_type": "code",
      "execution_count": 87,
      "metadata": {},
      "outputs": [
        {
          "data": {
            "text/plain": [
              "(29042550, 13)"
            ]
          },
          "execution_count": 87,
          "metadata": {},
          "output_type": "execute_result"
        }
      ],
      "source": [
        "tidy_game_info.shape"
      ]
    },
    {
      "cell_type": "code",
      "execution_count": 86,
      "metadata": {},
      "outputs": [
        {
          "name": "stdout",
          "output_type": "stream",
          "text": [
            "<class 'pandas.core.frame.DataFrame'>\n",
            "RangeIndex: 29042550 entries, 0 to 29042549\n",
            "Data columns (total 13 columns):\n",
            " #   Column                   Dtype  \n",
            "---  ------                   -----  \n",
            " 0   gameid                   int64  \n",
            " 1   title                    object \n",
            " 2   developers               object \n",
            " 3   publishers               object \n",
            " 4   genres                   object \n",
            " 5   supported_languages      object \n",
            " 6   release_date             object \n",
            " 7   achievementid            object \n",
            " 8   achievement_title        object \n",
            " 9   achievement_description  object \n",
            " 10  platform                 object \n",
            " 11  currency                 object \n",
            " 12  price                    float64\n",
            "dtypes: float64(1), int64(1), object(11)\n",
            "memory usage: 2.8+ GB\n"
          ]
        }
      ],
      "source": [
        "tidy_game_info.info()"
      ]
    },
    {
      "cell_type": "markdown",
      "metadata": {},
      "source": [
        "## Preprocessing"
      ]
    },
    {
      "cell_type": "markdown",
      "metadata": {},
      "source": [
        "### 1. Check for missing values"
      ]
    },
    {
      "cell_type": "code",
      "execution_count": 90,
      "metadata": {},
      "outputs": [
        {
          "data": {
            "text/html": [
              "<div>\n",
              "<style scoped>\n",
              "    .dataframe tbody tr th:only-of-type {\n",
              "        vertical-align: middle;\n",
              "    }\n",
              "\n",
              "    .dataframe tbody tr th {\n",
              "        vertical-align: top;\n",
              "    }\n",
              "\n",
              "    .dataframe thead th {\n",
              "        text-align: right;\n",
              "    }\n",
              "</style>\n",
              "<table border=\"1\" class=\"dataframe\">\n",
              "  <thead>\n",
              "    <tr style=\"text-align: right;\">\n",
              "      <th></th>\n",
              "      <th>col</th>\n",
              "      <th>num_missing</th>\n",
              "      <th>missing_pcnt</th>\n",
              "    </tr>\n",
              "  </thead>\n",
              "  <tbody>\n",
              "    <tr>\n",
              "      <th>0</th>\n",
              "      <td>gameid</td>\n",
              "      <td>0</td>\n",
              "      <td>0.00</td>\n",
              "    </tr>\n",
              "    <tr>\n",
              "      <th>1</th>\n",
              "      <td>title</td>\n",
              "      <td>0</td>\n",
              "      <td>0.00</td>\n",
              "    </tr>\n",
              "    <tr>\n",
              "      <th>2</th>\n",
              "      <td>developers</td>\n",
              "      <td>15850</td>\n",
              "      <td>0.27</td>\n",
              "    </tr>\n",
              "    <tr>\n",
              "      <th>3</th>\n",
              "      <td>publishers</td>\n",
              "      <td>79975</td>\n",
              "      <td>1.38</td>\n",
              "    </tr>\n",
              "    <tr>\n",
              "      <th>4</th>\n",
              "      <td>genres</td>\n",
              "      <td>24935</td>\n",
              "      <td>0.43</td>\n",
              "    </tr>\n",
              "    <tr>\n",
              "      <th>5</th>\n",
              "      <td>supported_languages</td>\n",
              "      <td>1588735</td>\n",
              "      <td>27.35</td>\n",
              "    </tr>\n",
              "    <tr>\n",
              "      <th>6</th>\n",
              "      <td>release_date</td>\n",
              "      <td>0</td>\n",
              "      <td>0.00</td>\n",
              "    </tr>\n",
              "    <tr>\n",
              "      <th>7</th>\n",
              "      <td>achievementid</td>\n",
              "      <td>40050</td>\n",
              "      <td>0.69</td>\n",
              "    </tr>\n",
              "    <tr>\n",
              "      <th>8</th>\n",
              "      <td>achievement_title</td>\n",
              "      <td>40325</td>\n",
              "      <td>0.69</td>\n",
              "    </tr>\n",
              "    <tr>\n",
              "      <th>9</th>\n",
              "      <td>achievement_description</td>\n",
              "      <td>4014060</td>\n",
              "      <td>69.11</td>\n",
              "    </tr>\n",
              "    <tr>\n",
              "      <th>10</th>\n",
              "      <td>platform</td>\n",
              "      <td>0</td>\n",
              "      <td>0.00</td>\n",
              "    </tr>\n",
              "    <tr>\n",
              "      <th>11</th>\n",
              "      <td>currency</td>\n",
              "      <td>0</td>\n",
              "      <td>0.00</td>\n",
              "    </tr>\n",
              "    <tr>\n",
              "      <th>12</th>\n",
              "      <td>price</td>\n",
              "      <td>4157940</td>\n",
              "      <td>71.58</td>\n",
              "    </tr>\n",
              "  </tbody>\n",
              "</table>\n",
              "</div>"
            ],
            "text/plain": [
              "                        col  num_missing  missing_pcnt\n",
              "0                    gameid            0          0.00\n",
              "1                     title            0          0.00\n",
              "2                developers        15850          0.27\n",
              "3                publishers        79975          1.38\n",
              "4                    genres        24935          0.43\n",
              "5       supported_languages      1588735         27.35\n",
              "6              release_date            0          0.00\n",
              "7             achievementid        40050          0.69\n",
              "8         achievement_title        40325          0.69\n",
              "9   achievement_description      4014060         69.11\n",
              "10                 platform            0          0.00\n",
              "11                 currency            0          0.00\n",
              "12                    price      4157940         71.58"
            ]
          },
          "execution_count": 90,
          "metadata": {},
          "output_type": "execute_result"
        }
      ],
      "source": [
        "# count missing values per column\n",
        "null_counts = tidy_game_info.isnull().sum().reset_index()\n",
        "null_counts.columns = [\"col\", \"num_missing\"]\n",
        "null_counts[\"missing_pcnt\"] = round((null_counts[\"num_missing\"] / len(merged_game_info)) * 100, 2)\n",
        "\n",
        "null_counts"
      ]
    },
    {
      "cell_type": "markdown",
      "metadata": {},
      "source": [
        "#### Here’s how we decide to handle missing values effectively [Used GPT-4o for tailoring to table format]:\n",
        "\n",
        "**Columns with Minor Missing Data (< 5%)**\n",
        "| Column | Missing % | Suggested Action |\n",
        "|---------|----------|-----------------|\n",
        "| **developers** | 0.27% | Fill with \"unknown\" to maintain consistency. |\n",
        "| **publishers** | 1.38% | Fill with \"unknown\" for completeness. |\n",
        "| **genres** | 0.43% | Fill with \"unknown\", since games without a genre classification are rare. |\n",
        "| **achievementid** | 0.69% | Likely an error or missing achievements, can be kept as NaN. |\n",
        "| **achievement_title** | 0.69% | Likely corresponds to missing achievementid, can be kept as NaN. |\n",
        "\n",
        "- **Action: Fill developers, publishers, and genres with \"unknown\", and leave missing achievements as NaN.**\n",
        "\n",
        "---\n",
        "\n",
        "**Columns with Moderate Missing Data (5% - 30%)**\n",
        "| Column | Missing % | Suggested Action |\n",
        "|---------|----------|-----------------|\n",
        "| **supported_languages** | 27.35% | Keep as NaN, since language availability is an actual missing feature. |\n",
        "\n",
        "- **Action: Keep supported_languages as NaN, since not all games support multiple languages. We don't want to introduce incorrect data.**\n",
        "\n",
        "---\n",
        "\n",
        "**Columns with High Missing Data (> 50%)**\n",
        "| Column | Missing % | Suggested Action |\n",
        "|---------|----------|-----------------|\n",
        "| **achievement_description** | 69.11% | Fill missing values with \"unknown\". |\n",
        "| **price** | 71.58% | Keep as NaN—missing prices could indicate unavailable data, regional limitations, or discontinued games. |\n",
        "\n",
        "**Action:**\n",
        "- **Fill achievement_description with \"No description available\"** to avoid empty fields.\n",
        "- **Keep price as NaN**, since forcing imputation could lead to inaccurate pricing."
      ]
    },
    {
      "cell_type": "code",
      "execution_count": 97,
      "metadata": {},
      "outputs": [],
      "source": [
        "# fill missing values for categorical text columns\n",
        "tidy_game_info[\"developers\"].fillna(\"unknown\", inplace=True)\n",
        "tidy_game_info[\"publishers\"].fillna(\"unknown\", inplace=True)\n",
        "tidy_game_info[\"genres\"].fillna(\"unknown\", inplace=True)\n",
        "tidy_game_info[\"achievement_description\"].fillna(\"unknown\", inplace=True)"
      ]
    },
    {
      "cell_type": "markdown",
      "metadata": {},
      "source": [
        "## 2. Multi-valued cols"
      ]
    },
    {
      "cell_type": "code",
      "execution_count": 101,
      "metadata": {},
      "outputs": [
        {
          "data": {
            "text/html": [
              "<div>\n",
              "<style scoped>\n",
              "    .dataframe tbody tr th:only-of-type {\n",
              "        vertical-align: middle;\n",
              "    }\n",
              "\n",
              "    .dataframe tbody tr th {\n",
              "        vertical-align: top;\n",
              "    }\n",
              "\n",
              "    .dataframe thead th {\n",
              "        text-align: right;\n",
              "    }\n",
              "</style>\n",
              "<table border=\"1\" class=\"dataframe\">\n",
              "  <thead>\n",
              "    <tr style=\"text-align: right;\">\n",
              "      <th></th>\n",
              "      <th>title</th>\n",
              "      <th>developers</th>\n",
              "      <th>publishers</th>\n",
              "      <th>genres</th>\n",
              "      <th>supported_languages</th>\n",
              "      <th>release_date</th>\n",
              "      <th>achievement_title</th>\n",
              "      <th>achievement_description</th>\n",
              "      <th>platform</th>\n",
              "      <th>currency</th>\n",
              "      <th>price</th>\n",
              "    </tr>\n",
              "  </thead>\n",
              "  <tbody>\n",
              "    <tr>\n",
              "      <th>24479197</th>\n",
              "      <td>Leisure Suit Larry - Wet Dreams Don't Dry</td>\n",
              "      <td>['CrazyBunch']</td>\n",
              "      <td>['Assemble Entertainment']</td>\n",
              "      <td>['Adventure']</td>\n",
              "      <td>['English', 'German', 'Russian', 'Polish', 'Fr...</td>\n",
              "      <td>2018-11-07</td>\n",
              "      <td>Done!</td>\n",
              "      <td>Complete the game.</td>\n",
              "      <td>st</td>\n",
              "      <td>rub</td>\n",
              "      <td>799.00</td>\n",
              "    </tr>\n",
              "    <tr>\n",
              "      <th>20259080</th>\n",
              "      <td>Growtopia</td>\n",
              "      <td>['Ubisoft Abu Dhabi']</td>\n",
              "      <td>['Ubisoft']</td>\n",
              "      <td>['Action', 'Adventure', 'Casual', 'Massively M...</td>\n",
              "      <td>['English']</td>\n",
              "      <td>2024-03-07</td>\n",
              "      <td>Expert Builder</td>\n",
              "      <td>Earned for placing 100,000 blocks of any type.</td>\n",
              "      <td>st</td>\n",
              "      <td>jpy</td>\n",
              "      <td>NaN</td>\n",
              "    </tr>\n",
              "    <tr>\n",
              "      <th>16533183</th>\n",
              "      <td>Quantum Replica</td>\n",
              "      <td>['ON3D Studios']</td>\n",
              "      <td>['PQube']</td>\n",
              "      <td>['Action', 'Indie']</td>\n",
              "      <td>['English', 'Italian', 'Spanish - Spain', 'Fre...</td>\n",
              "      <td>2018-05-31</td>\n",
              "      <td>Call me Lightman</td>\n",
              "      <td>Complete a Level without getting detected</td>\n",
              "      <td>st</td>\n",
              "      <td>gbp</td>\n",
              "      <td>1.74</td>\n",
              "    </tr>\n",
              "    <tr>\n",
              "      <th>24734293</th>\n",
              "      <td>Gunfire Reborn</td>\n",
              "      <td>['Duoyi Games']</td>\n",
              "      <td>['Duoyi Games']</td>\n",
              "      <td>['Action', 'Adventure', 'Indie', 'RPG']</td>\n",
              "      <td>['English', 'Simplified Chinese', 'Traditional...</td>\n",
              "      <td>2021-11-17</td>\n",
              "      <td>Deadly Strike</td>\n",
              "      <td>Defeat 500 enemies with Soul Strike.</td>\n",
              "      <td>st</td>\n",
              "      <td>rub</td>\n",
              "      <td>625.00</td>\n",
              "    </tr>\n",
              "    <tr>\n",
              "      <th>21674552</th>\n",
              "      <td>The Escapists 2</td>\n",
              "      <td>['Team17', 'Mouldy Toof Studios']</td>\n",
              "      <td>['Team17']</td>\n",
              "      <td>['Indie', 'Simulation', 'Strategy']</td>\n",
              "      <td>['English', 'French', 'German', 'Spanish - Spa...</td>\n",
              "      <td>2017-08-21</td>\n",
              "      <td>I'm The Daddy</td>\n",
              "      <td>Knock out every inmate at least once in a sing...</td>\n",
              "      <td>st</td>\n",
              "      <td>jpy</td>\n",
              "      <td>1980.00</td>\n",
              "    </tr>\n",
              "  </tbody>\n",
              "</table>\n",
              "</div>"
            ],
            "text/plain": [
              "                                              title  \\\n",
              "24479197  Leisure Suit Larry - Wet Dreams Don't Dry   \n",
              "20259080                                  Growtopia   \n",
              "16533183                            Quantum Replica   \n",
              "24734293                             Gunfire Reborn   \n",
              "21674552                            The Escapists 2   \n",
              "\n",
              "                                 developers                  publishers  \\\n",
              "24479197                     ['CrazyBunch']  ['Assemble Entertainment']   \n",
              "20259080              ['Ubisoft Abu Dhabi']                 ['Ubisoft']   \n",
              "16533183                   ['ON3D Studios']                   ['PQube']   \n",
              "24734293                    ['Duoyi Games']             ['Duoyi Games']   \n",
              "21674552  ['Team17', 'Mouldy Toof Studios']                  ['Team17']   \n",
              "\n",
              "                                                     genres  \\\n",
              "24479197                                      ['Adventure']   \n",
              "20259080  ['Action', 'Adventure', 'Casual', 'Massively M...   \n",
              "16533183                                ['Action', 'Indie']   \n",
              "24734293            ['Action', 'Adventure', 'Indie', 'RPG']   \n",
              "21674552                ['Indie', 'Simulation', 'Strategy']   \n",
              "\n",
              "                                        supported_languages release_date  \\\n",
              "24479197  ['English', 'German', 'Russian', 'Polish', 'Fr...   2018-11-07   \n",
              "20259080                                        ['English']   2024-03-07   \n",
              "16533183  ['English', 'Italian', 'Spanish - Spain', 'Fre...   2018-05-31   \n",
              "24734293  ['English', 'Simplified Chinese', 'Traditional...   2021-11-17   \n",
              "21674552  ['English', 'French', 'German', 'Spanish - Spa...   2017-08-21   \n",
              "\n",
              "         achievement_title                            achievement_description  \\\n",
              "24479197             Done!                                 Complete the game.   \n",
              "20259080    Expert Builder     Earned for placing 100,000 blocks of any type.   \n",
              "16533183  Call me Lightman          Complete a Level without getting detected   \n",
              "24734293     Deadly Strike               Defeat 500 enemies with Soul Strike.   \n",
              "21674552     I'm The Daddy  Knock out every inmate at least once in a sing...   \n",
              "\n",
              "         platform currency    price  \n",
              "24479197       st      rub   799.00  \n",
              "20259080       st      jpy      NaN  \n",
              "16533183       st      gbp     1.74  \n",
              "24734293       st      rub   625.00  \n",
              "21674552       st      jpy  1980.00  "
            ]
          },
          "execution_count": 101,
          "metadata": {},
          "output_type": "execute_result"
        }
      ],
      "source": [
        "tidy_game_info.sample(5)"
      ]
    },
    {
      "cell_type": "markdown",
      "metadata": {},
      "source": [
        "#### Handling Multi-Valued Columns in Our Dataset [Used GPT-4o for tailoring grammar]\n",
        "\n",
        "Our dataset contains multi-valued columns such as `developers`, `publishers`, `genres`, and `supported_languages`, which are stored as **list-like strings**. Instead of immediately expanding them into multiple rows (long format) or separate columns (one-hot encoding), we are **keeping them in their original format** for the following reasons:\n",
        "\n",
        "1. **Data Integrity & Storage Efficiency**  \n",
        "   - Expanding these fields would significantly increase row count, making storage and initial processing heavier.\n",
        "   - Keeping them as lists allows us to preserve all information within a single row per game.\n",
        "\n",
        "2. **Flexibility for Future Analysis**  \n",
        "   - At later stages, we may **apply one-hot encoding** to `genres` and `supported_languages` for categorical analysis.  \n",
        "   - Alternatively, we can derive **summary features** such as:\n",
        "     - **Number of genres per game**\n",
        "     - **Number of supported languages**\n",
        "     - **Unique count of developers/publishers**\n",
        "   - These derived features will allow for a more structured comparison across games.\n",
        "\n",
        "By postponing transformation, we maintain efficiency while keeping the option open for structured feature extraction when needed.\n"
      ]
    },
    {
      "cell_type": "code",
      "execution_count": null,
      "metadata": {},
      "outputs": [],
      "source": [
        "# tidy_game_info_noids = tidy_game_info.drop(columns=['gameid', 'achievementid'], inplace=True)"
      ]
    },
    {
      "cell_type": "markdown",
      "metadata": {},
      "source": [
        "## More notes on further merging\n",
        "\n",
        "Our current **tidy dataset** focuses solely on game-related information. To enrich the analysis, we plan additional merges with player data to uncover insights about game popularity, completion rates, and player demographics.\n",
        "\n",
        "### Planned Merges & Insights\n",
        "1. **Game Popularity Analysis**  \n",
        "   - Merge with `purchased_games.csv` (for each platform) to **count the number of players who own each game**.\n",
        "   - This helps identify **best-selling games** and platform-specific purchase trends.\n",
        "\n",
        "2. **Game Completion Rates**  \n",
        "   - Merge with `history.csv` to **track when players earn end-game achievements**.\n",
        "   - Calculate the **average time to completion** and **percentage of players finishing a game**.\n",
        "   - Investigate if certain **genres have higher completion rates** (e.g., RPGs vs. casual games).\n",
        "  \n",
        "3. **Pricing & Sales Relationship:**  \n",
        "   - Merge `prices.csv` to analyze how **price fluctuations impact purchases**.\n",
        "  \n",
        "4. **Cross-Platform Player Behavior:**  \n",
        "   - Identify players who own **the same game across multiple platforms** to study cross-platform engagement.\n",
        "   - Merge with `players.csv` and **cluster by country** to analyze **regional gaming preferences**.\n"
      ]
    },
    {
      "cell_type": "markdown",
      "metadata": {
        "id": "OclGBxfoQVPc"
      },
      "source": [
        "## [TODO] Data Visualization\n",
        "> Be sure to include interpretations of your visualizations -- what patterns or anomalies do you see?\n"
      ]
    }
  ],
  "metadata": {
    "colab": {
      "provenance": []
    },
    "kernelspec": {
      "display_name": ".venv",
      "language": "python",
      "name": "python3"
    },
    "language_info": {
      "codemirror_mode": {
        "name": "ipython",
        "version": 3
      },
      "file_extension": ".py",
      "mimetype": "text/x-python",
      "name": "python",
      "nbconvert_exporter": "python",
      "pygments_lexer": "ipython3",
      "version": "3.12.7"
    }
  },
  "nbformat": 4,
  "nbformat_minor": 0
}
