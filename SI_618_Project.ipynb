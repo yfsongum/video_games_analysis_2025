{
  "cells": [
    {
      "cell_type": "markdown",
      "metadata": {
        "id": "yfPJRLpyQTnG"
      },
      "source": [
        "# SI 618 WN Project Part I"
      ]
    },
    {
      "cell_type": "markdown",
      "metadata": {
        "id": "WN3jWuTDQjpX"
      },
      "source": [
        "## Project Title:\n",
        "> Provide a descriptive working title for your project.\n",
        "\n",
        "**Game Sales, Popularity, and Achievements: A Comparative Analysis Across Platforms**"
      ]
    },
    {
      "cell_type": "markdown",
      "metadata": {
        "id": "raGqyFicQ4Zw"
      },
      "source": [
        "## Team Members\n",
        "> List each team member and include their uniqname\n",
        "\n",
        "* Yufeng Song (yfsong)\n",
        "* Ziqi Wang (Venchy)\n",
        "* Muyu Lin (linmuyu)"
      ]
    },
    {
      "cell_type": "markdown",
      "metadata": {
        "id": "QcquQf5KQ_X7"
      },
      "source": [
        "## Overview\n",
        "> Give a high level description of your project\n",
        "\n",
        "Our project explores key trends in the gaming industry by analyzing data on game sales, player achievements, and platform preferences. We aim to understand how the same game performs across different platforms, how purchasing preferences vary across countries, and how game popularity evolves over time. Additionally, we will investigate the relationship between supported languages and sales, as well as the impact of pricing on game popularity across multiple platforms. By analyzing these factors, we hope to uncover insights into player behavior, market trends, and factors influencing game success."
      ]
    },
    {
      "cell_type": "markdown",
      "metadata": {
        "id": "x9oLjLuaREDo"
      },
      "source": [
        "## Motivation\n",
        "> Explain why you chose this particular topic for your project.\tInclude the three \"real-world\" questions that you generated about the data, and be sure to explain what you hope to learn by answering them.\n",
        "\n",
        "We chose this topic because gaming is a massive industry with a highly diverse audience, and understanding player preferences and market trends can provide valuable insights for developers, publishers, and gaming communities. Our project aims to answer the following real-world questions:\n",
        "\n",
        "1. **How do in-game achievements compare across different platforms for the same game?**\n",
        "\n",
        "  - By analyzing achievement data, we aim to understand whether players engage with a game differently depending on the platform they use. This could reveal differences in play styles, game difficulty adjustments, or platform-specific engagement trends.\n",
        "\n",
        "2. **How do game purchase preferences vary by country and active playtime?**\n",
        "\n",
        "  - We seek to determine whether purchasing behaviors differ based on regional preferences and player engagement levels. Understanding this can help developers tailor their marketing strategies and optimize game pricing for different audiences.\n",
        "\n",
        "3. **How has the popularity of different game types changed over time?**\n",
        "\n",
        "  - By tracking shifts in game genre popularity over time, we hope to uncover trends that indicate the rise and fall of specific genres. This insight could be useful for predicting future market demands and guiding game development strategies.\n",
        "\n",
        "By answering these questions, we hope to gain a deeper understanding of the gaming landscape, helping stakeholders make data-driven decisions about game development, pricing, and distribution strategies."
      ]
    },
    {
      "cell_type": "markdown",
      "metadata": {
        "id": "K7C9NO8rRJVm"
      },
      "source": [
        "## Data Sources\n",
        "> List the two (or more) sources of data that you'll be using.  Provide URLs where appropriate.\t**Explain how the two (or more) datasets complement each other.**\n",
        "\n",
        "1. https://www.kaggle.com/datasets/artyomkruglov/gaming-profiles-2025-steam-playstation-xbox\n",
        "\n",
        "2. https://github.com/Smipe-a/gamestatshub\n",
        "\n",
        "- This Gaming Profiles Data from Kaggle include **game** and **player** data from three different **platforms**, PlayStation, Steam, and Xbox.\n",
        "- For each platform, the **player** and **game** data is complemented by **achievement** data. The relationships between players, games, and achievements are one-to-many: each player can play multiple games, and each game can have multiple achievements.\n",
        "- Data from the three platforms can be combined based on **game titles** to analyze shared games across platforms."
      ]
    },
    {
      "cell_type": "markdown",
      "metadata": {
        "id": "0YtT1IrhRNua"
      },
      "source": [
        "## Data Description\n",
        "> List the variables of interest, the size of the data sets, missing values, etc.\n",
        "\n",
        "### Common Datasets Across 3 Platforms & Variables of Interest:\n",
        "\n",
        "#### Player Metadata\n",
        "- **players.csv**: platform-specific `playerid` and `country` (Xbox data lacks country column)\n",
        "- **purchased_games.csv** lists players' purchased games, with:\n",
        "    - `playerid`\n",
        "    - `libarary`: a list of games the player bought.\n",
        "- **history.csv**: when the player unlocked the achievement.\n",
        "    - `playerid`\n",
        "    - `achievementid`\n",
        "    - `date_acquired`\n",
        "\n",
        "#### Game Metadata\n",
        "- **games.csv**: game details such as `genres`, `developers`, `publishers`, `supported_language`, and `release_date`.\n",
        "- **achievements.csv** maps achievements to their respective game, with:\n",
        "    - `achievementid` combines the uniqe game id on the platform and the achievement id within the game\n",
        "    - `gameid`\n",
        "    - `title`\n",
        "    - `description`\n",
        "- **prices.csv**: games' price in various currencies, with `date_acquired` indicating the date when the price was recorded."
      ]
    },
    {
      "cell_type": "markdown",
      "metadata": {
        "id": "E5HpR2qjRRle"
      },
      "source": [
        "## Data Manipulation\n",
        "> Mostly code in this section.  This is where you merge your data sets, as well as create new columns (if appropriate)\n",
        "\n",
        "#### Merged Datasets Explained - Flattened Table For Raw Analysis\n",
        "- Platform-Specific Datasets:\n",
        "    - Player-Info Dataset: merged on `playerid`\n",
        "    - Game-Info Dataset: merged on `gameid`\n",
        "- Cross-Platform Game Dataset: merged on game `title` to combine shared game data from all three platforms.\n",
        "\n",
        "**Notes**: \n",
        "- In all the merged datasets, there are duplicated gameid/playerid after merge due to the one-to-many relationship between players, games, and achievements. \n",
        "- In the corss-platform game table, there are duplicated game titles across platforms."
      ]
    },
    {
      "cell_type": "code",
      "execution_count": 457,
      "metadata": {
        "id": "lUJY9fwwQVGD"
      },
      "outputs": [],
      "source": [
        "import pandas as pd\n",
        "import numpy as np\n",
        "import matplotlib.pyplot as plt\n",
        "import seaborn as sns"
      ]
    },
    {
      "cell_type": "markdown",
      "metadata": {},
      "source": [
        "## PS"
      ]
    },
    {
      "cell_type": "code",
      "execution_count": 458,
      "metadata": {},
      "outputs": [
        {
          "name": "stdout",
          "output_type": "stream",
          "text": [
            "ps_purchased_games - shape: (46582, 2)\n",
            "ps_history - shape: (19510083, 3)\n",
            "ps_prices - shape: (62816, 7)\n",
            "ps_players - shape: (356600, 3)\n",
            "ps_games - shape: (23151, 8)\n",
            "ps_achievements - shape: (846563, 5)\n"
          ]
        }
      ],
      "source": [
        "import os\n",
        "\n",
        "PS_DATA_FOLDER = \"data/ps\"\n",
        "\n",
        "dfs = {}\n",
        "\n",
        "for root, dirs, files in os.walk(PS_DATA_FOLDER):\n",
        "    for file in files:\n",
        "        if file.endswith(\".csv\"):\n",
        "            file_path = os.path.join(root, file)\n",
        "            df_name = f\"{os.path.basename(root)}_{file.replace('.csv', '')}\".replace('.csv', '')  # Clean name\n",
        "            dfs[df_name] = pd.read_csv(file_path)\n",
        "\n",
        "for name, df in dfs.items():\n",
        "    print(f\"{name} - shape: {df.shape}\")"
      ]
    },
    {
      "cell_type": "code",
      "execution_count": 459,
      "metadata": {},
      "outputs": [
        {
          "name": "stdout",
          "output_type": "stream",
          "text": [
            "0\n",
            "32095\n",
            "0\n",
            "0\n",
            "0\n"
          ]
        }
      ],
      "source": [
        "ps_achievements = dfs['ps_achievements']\n",
        "ps_games = dfs['ps_games']\n",
        "ps_history = dfs['ps_history']\n",
        "ps_players = dfs['ps_players']\n",
        "ps_prices = dfs['ps_prices']\n",
        "ps_purchased_games = dfs['ps_purchased_games']\n",
        "\n",
        "# check duplicates\n",
        "print(ps_games.duplicated(subset=[\"gameid\"]).sum())\n",
        "print(ps_prices.duplicated(subset=[\"gameid\"]).sum())\n",
        "print(ps_achievements.duplicated(subset=[\"achievementid\"]).sum())\n",
        "print(ps_players.duplicated(subset=[\"playerid\"]).sum())\n",
        "print(ps_purchased_games.duplicated(subset=[\"playerid\"]).sum())"
      ]
    },
    {
      "cell_type": "code",
      "execution_count": 460,
      "metadata": {},
      "outputs": [
        {
          "data": {
            "text/plain": [
              "gameid\n",
              "726666    3\n",
              "723091    3\n",
              "727730    3\n",
              "727729    3\n",
              "728792    3\n",
              "         ..\n",
              "421567    2\n",
              "421164    2\n",
              "421153    2\n",
              "421368    2\n",
              "423969    2\n",
              "Name: count, Length: 30721, dtype: int64"
            ]
          },
          "execution_count": 460,
          "metadata": {},
          "output_type": "execute_result"
        }
      ],
      "source": [
        "ps_prices['gameid'].value_counts()"
      ]
    },
    {
      "cell_type": "code",
      "execution_count": 461,
      "metadata": {},
      "outputs": [
        {
          "data": {
            "text/html": [
              "<div>\n",
              "<style scoped>\n",
              "    .dataframe tbody tr th:only-of-type {\n",
              "        vertical-align: middle;\n",
              "    }\n",
              "\n",
              "    .dataframe tbody tr th {\n",
              "        vertical-align: top;\n",
              "    }\n",
              "\n",
              "    .dataframe thead th {\n",
              "        text-align: right;\n",
              "    }\n",
              "</style>\n",
              "<table border=\"1\" class=\"dataframe\">\n",
              "  <thead>\n",
              "    <tr style=\"text-align: right;\">\n",
              "      <th></th>\n",
              "      <th>gameid</th>\n",
              "      <th>usd</th>\n",
              "      <th>eur</th>\n",
              "      <th>gbp</th>\n",
              "      <th>jpy</th>\n",
              "      <th>rub</th>\n",
              "      <th>date_acquired</th>\n",
              "    </tr>\n",
              "  </thead>\n",
              "  <tbody>\n",
              "    <tr>\n",
              "      <th>20167</th>\n",
              "      <td>726666</td>\n",
              "      <td>6.99</td>\n",
              "      <td>6.99</td>\n",
              "      <td>5.79</td>\n",
              "      <td>1100.0</td>\n",
              "      <td>NaN</td>\n",
              "      <td>2025-02-22</td>\n",
              "    </tr>\n",
              "    <tr>\n",
              "      <th>50835</th>\n",
              "      <td>726666</td>\n",
              "      <td>6.99</td>\n",
              "      <td>6.99</td>\n",
              "      <td>5.79</td>\n",
              "      <td>1100.0</td>\n",
              "      <td>NaN</td>\n",
              "      <td>2025-02-25</td>\n",
              "    </tr>\n",
              "    <tr>\n",
              "      <th>52307</th>\n",
              "      <td>726666</td>\n",
              "      <td>6.99</td>\n",
              "      <td>6.99</td>\n",
              "      <td>5.79</td>\n",
              "      <td>1100.0</td>\n",
              "      <td>NaN</td>\n",
              "      <td>2025-02-24</td>\n",
              "    </tr>\n",
              "  </tbody>\n",
              "</table>\n",
              "</div>"
            ],
            "text/plain": [
              "       gameid   usd   eur   gbp     jpy  rub date_acquired\n",
              "20167  726666  6.99  6.99  5.79  1100.0  NaN    2025-02-22\n",
              "50835  726666  6.99  6.99  5.79  1100.0  NaN    2025-02-25\n",
              "52307  726666  6.99  6.99  5.79  1100.0  NaN    2025-02-24"
            ]
          },
          "execution_count": 461,
          "metadata": {},
          "output_type": "execute_result"
        }
      ],
      "source": [
        "ps_prices[ps_prices['gameid'] == 726666]"
      ]
    },
    {
      "cell_type": "code",
      "execution_count": 462,
      "metadata": {},
      "outputs": [
        {
          "name": "stdout",
          "output_type": "stream",
          "text": [
            "0\n"
          ]
        }
      ],
      "source": [
        "# for each gameid, keep only the most recent price entry\n",
        "ps_prices = ps_prices.sort_values(\"date_acquired\").drop_duplicates(subset=[\"gameid\"], keep=\"last\")\n",
        "print(ps_prices.duplicated(subset=[\"gameid\"]).sum())"
      ]
    },
    {
      "cell_type": "markdown",
      "metadata": {},
      "source": [
        "### Player focus"
      ]
    },
    {
      "cell_type": "code",
      "execution_count": 463,
      "metadata": {},
      "outputs": [],
      "source": [
        "ps_player_info = ps_players.merge(ps_history, on=\"playerid\", how=\"left\")"
      ]
    },
    {
      "cell_type": "code",
      "execution_count": 464,
      "metadata": {},
      "outputs": [],
      "source": [
        "ps_player_info = ps_player_info.merge(ps_achievements, on=\"achievementid\", how=\"left\")"
      ]
    },
    {
      "cell_type": "code",
      "execution_count": 465,
      "metadata": {},
      "outputs": [],
      "source": [
        "ps_player_info = ps_player_info.merge(ps_purchased_games, on=\"playerid\", how=\"left\")"
      ]
    },
    {
      "cell_type": "code",
      "execution_count": 466,
      "metadata": {},
      "outputs": [
        {
          "name": "stdout",
          "output_type": "stream",
          "text": [
            "<class 'pandas.core.frame.DataFrame'>\n",
            "RangeIndex: 19861683 entries, 0 to 19861682\n",
            "Data columns (total 10 columns):\n",
            " #   Column         Dtype  \n",
            "---  ------         -----  \n",
            " 0   playerid       int64  \n",
            " 1   nickname       object \n",
            " 2   country        object \n",
            " 3   achievementid  object \n",
            " 4   date_acquired  object \n",
            " 5   gameid         float64\n",
            " 6   title          object \n",
            " 7   description    object \n",
            " 8   rarity         object \n",
            " 9   library        object \n",
            "dtypes: float64(1), int64(1), object(8)\n",
            "memory usage: 1.5+ GB\n"
          ]
        }
      ],
      "source": [
        "ps_player_info.info()"
      ]
    },
    {
      "cell_type": "code",
      "execution_count": 467,
      "metadata": {},
      "outputs": [
        {
          "data": {
            "text/html": [
              "<div>\n",
              "<style scoped>\n",
              "    .dataframe tbody tr th:only-of-type {\n",
              "        vertical-align: middle;\n",
              "    }\n",
              "\n",
              "    .dataframe tbody tr th {\n",
              "        vertical-align: top;\n",
              "    }\n",
              "\n",
              "    .dataframe thead th {\n",
              "        text-align: right;\n",
              "    }\n",
              "</style>\n",
              "<table border=\"1\" class=\"dataframe\">\n",
              "  <thead>\n",
              "    <tr style=\"text-align: right;\">\n",
              "      <th></th>\n",
              "      <th>playerid</th>\n",
              "      <th>nickname</th>\n",
              "      <th>country</th>\n",
              "      <th>achievementid</th>\n",
              "      <th>date_acquired</th>\n",
              "      <th>gameid</th>\n",
              "      <th>title</th>\n",
              "      <th>description</th>\n",
              "      <th>rarity</th>\n",
              "      <th>library</th>\n",
              "    </tr>\n",
              "  </thead>\n",
              "  <tbody>\n",
              "    <tr>\n",
              "      <th>6385677</th>\n",
              "      <td>352342</td>\n",
              "      <td>KeNNedi392</td>\n",
              "      <td>Russian Federation</td>\n",
              "      <td>3462_48495</td>\n",
              "      <td>2012-09-19 18:05:07</td>\n",
              "      <td>3462.0</td>\n",
              "      <td>Insane Juggler</td>\n",
              "      <td>You dealt more than 62 damage in a midair combo.</td>\n",
              "      <td>Silver</td>\n",
              "      <td>[697889, 420539, 601961, 622669, 647167, 49869...</td>\n",
              "    </tr>\n",
              "    <tr>\n",
              "      <th>19555173</th>\n",
              "      <td>2432444</td>\n",
              "      <td>Saw__SM</td>\n",
              "      <td>Costa Rica</td>\n",
              "      <td>7691_94445</td>\n",
              "      <td>2017-08-24 07:11:59</td>\n",
              "      <td>7691.0</td>\n",
              "      <td>Exo Survivor</td>\n",
              "      <td>Successfully Complete the Exo Survival Bonus W...</td>\n",
              "      <td>Bronze</td>\n",
              "      <td>[706747, 407954, 417808, 7779, 619583, 9459, 1...</td>\n",
              "    </tr>\n",
              "    <tr>\n",
              "      <th>16525896</th>\n",
              "      <td>2266057</td>\n",
              "      <td>ADONROCK666</td>\n",
              "      <td>Brazil</td>\n",
              "      <td>417403_3782596</td>\n",
              "      <td>2021-08-26 10:08:41</td>\n",
              "      <td>417403.0</td>\n",
              "      <td>Pioneer</td>\n",
              "      <td>Reach Vinland</td>\n",
              "      <td>Bronze</td>\n",
              "      <td>[619705, 7966, 489180, 8600, 369612, 13955, 16...</td>\n",
              "    </tr>\n",
              "    <tr>\n",
              "      <th>18338068</th>\n",
              "      <td>3142882</td>\n",
              "      <td>TBD_Crazy</td>\n",
              "      <td>Portugal</td>\n",
              "      <td>145_8141</td>\n",
              "      <td>2020-11-15 00:27:04</td>\n",
              "      <td>145.0</td>\n",
              "      <td>Weaponry K.O.</td>\n",
              "      <td>Defeated first Weaponry.</td>\n",
              "      <td>Bronze</td>\n",
              "      <td>[751920, 8993, 459211, 17630, 195206, 5520, 64...</td>\n",
              "    </tr>\n",
              "    <tr>\n",
              "      <th>5961379</th>\n",
              "      <td>398579</td>\n",
              "      <td>Understockedave</td>\n",
              "      <td>United Kingdom</td>\n",
              "      <td>7780_95734</td>\n",
              "      <td>2014-11-18 13:25:21</td>\n",
              "      <td>7780.0</td>\n",
              "      <td>Quad Kill</td>\n",
              "      <td>Kill 4 enemies simultaneously with a single ex...</td>\n",
              "      <td>Bronze</td>\n",
              "      <td>[550305, 550307, 733471, 628146, 742740, 60156...</td>\n",
              "    </tr>\n",
              "  </tbody>\n",
              "</table>\n",
              "</div>"
            ],
            "text/plain": [
              "          playerid         nickname             country   achievementid  \\\n",
              "6385677     352342       KeNNedi392  Russian Federation      3462_48495   \n",
              "19555173   2432444          Saw__SM          Costa Rica      7691_94445   \n",
              "16525896   2266057      ADONROCK666              Brazil  417403_3782596   \n",
              "18338068   3142882        TBD_Crazy            Portugal        145_8141   \n",
              "5961379     398579  Understockedave      United Kingdom      7780_95734   \n",
              "\n",
              "                date_acquired    gameid           title  \\\n",
              "6385677   2012-09-19 18:05:07    3462.0  Insane Juggler   \n",
              "19555173  2017-08-24 07:11:59    7691.0    Exo Survivor   \n",
              "16525896  2021-08-26 10:08:41  417403.0         Pioneer   \n",
              "18338068  2020-11-15 00:27:04     145.0   Weaponry K.O.   \n",
              "5961379   2014-11-18 13:25:21    7780.0       Quad Kill   \n",
              "\n",
              "                                                description  rarity  \\\n",
              "6385677    You dealt more than 62 damage in a midair combo.  Silver   \n",
              "19555173  Successfully Complete the Exo Survival Bonus W...  Bronze   \n",
              "16525896                                      Reach Vinland  Bronze   \n",
              "18338068                           Defeated first Weaponry.  Bronze   \n",
              "5961379   Kill 4 enemies simultaneously with a single ex...  Bronze   \n",
              "\n",
              "                                                    library  \n",
              "6385677   [697889, 420539, 601961, 622669, 647167, 49869...  \n",
              "19555173  [706747, 407954, 417808, 7779, 619583, 9459, 1...  \n",
              "16525896  [619705, 7966, 489180, 8600, 369612, 13955, 16...  \n",
              "18338068  [751920, 8993, 459211, 17630, 195206, 5520, 64...  \n",
              "5961379   [550305, 550307, 733471, 628146, 742740, 60156...  "
            ]
          },
          "execution_count": 467,
          "metadata": {},
          "output_type": "execute_result"
        }
      ],
      "source": [
        "ps_player_info.sample(5)"
      ]
    },
    {
      "cell_type": "markdown",
      "metadata": {},
      "source": [
        "### Game focus\n",
        "date_acquired column is dropped as it indicates the timestamp when the price info was extracted from multiple databases and do not add helpful insights to our analysis."
      ]
    },
    {
      "cell_type": "code",
      "execution_count": 468,
      "metadata": {},
      "outputs": [],
      "source": [
        "ps_game_info = ps_games.merge(ps_achievements.rename(columns={'title': 'achievement_title'}), on=\"gameid\", how=\"left\")"
      ]
    },
    {
      "cell_type": "code",
      "execution_count": 469,
      "metadata": {},
      "outputs": [],
      "source": [
        "ps_game_info = ps_game_info.merge(ps_prices, on=\"gameid\", how=\"left\")"
      ]
    },
    {
      "cell_type": "code",
      "execution_count": 470,
      "metadata": {},
      "outputs": [],
      "source": [
        "ps_game_info = ps_game_info.drop(columns=['date_acquired'])"
      ]
    },
    {
      "cell_type": "code",
      "execution_count": 471,
      "metadata": {},
      "outputs": [],
      "source": [
        "ps_game_info.rename(columns={'platform': 'PS_platform'}, inplace=True)"
      ]
    },
    {
      "cell_type": "code",
      "execution_count": 472,
      "metadata": {},
      "outputs": [],
      "source": [
        "ps_game_info.rename(columns={'description': 'achievement_description'}, inplace=True)"
      ]
    },
    {
      "cell_type": "code",
      "execution_count": 473,
      "metadata": {},
      "outputs": [
        {
          "name": "stdout",
          "output_type": "stream",
          "text": [
            "<class 'pandas.core.frame.DataFrame'>\n",
            "RangeIndex: 626958 entries, 0 to 626957\n",
            "Data columns (total 17 columns):\n",
            " #   Column                   Non-Null Count   Dtype  \n",
            "---  ------                   --------------   -----  \n",
            " 0   gameid                   626958 non-null  int64  \n",
            " 1   title                    626958 non-null  object \n",
            " 2   PS_platform              626958 non-null  object \n",
            " 3   developers               626416 non-null  object \n",
            " 4   publishers               626624 non-null  object \n",
            " 5   genres                   623044 non-null  object \n",
            " 6   supported_languages      319860 non-null  object \n",
            " 7   release_date             626958 non-null  object \n",
            " 8   achievementid            626958 non-null  object \n",
            " 9   achievement_title        626954 non-null  object \n",
            " 10  achievement_description  626942 non-null  object \n",
            " 11  rarity                   626958 non-null  object \n",
            " 12  usd                      535794 non-null  float64\n",
            " 13  eur                      508924 non-null  float64\n",
            " 14  gbp                      530459 non-null  float64\n",
            " 15  jpy                      258082 non-null  float64\n",
            " 16  rub                      125368 non-null  float64\n",
            "dtypes: float64(5), int64(1), object(11)\n",
            "memory usage: 81.3+ MB\n"
          ]
        }
      ],
      "source": [
        "ps_game_info.info()"
      ]
    },
    {
      "cell_type": "markdown",
      "metadata": {},
      "source": [
        "PS-only cols: rarity, PS_platform"
      ]
    },
    {
      "cell_type": "code",
      "execution_count": 474,
      "metadata": {},
      "outputs": [
        {
          "data": {
            "text/html": [
              "<div>\n",
              "<style scoped>\n",
              "    .dataframe tbody tr th:only-of-type {\n",
              "        vertical-align: middle;\n",
              "    }\n",
              "\n",
              "    .dataframe tbody tr th {\n",
              "        vertical-align: top;\n",
              "    }\n",
              "\n",
              "    .dataframe thead th {\n",
              "        text-align: right;\n",
              "    }\n",
              "</style>\n",
              "<table border=\"1\" class=\"dataframe\">\n",
              "  <thead>\n",
              "    <tr style=\"text-align: right;\">\n",
              "      <th></th>\n",
              "      <th>gameid</th>\n",
              "      <th>title</th>\n",
              "      <th>PS_platform</th>\n",
              "      <th>developers</th>\n",
              "      <th>publishers</th>\n",
              "      <th>genres</th>\n",
              "      <th>supported_languages</th>\n",
              "      <th>release_date</th>\n",
              "      <th>achievementid</th>\n",
              "      <th>achievement_title</th>\n",
              "      <th>achievement_description</th>\n",
              "      <th>rarity</th>\n",
              "      <th>usd</th>\n",
              "      <th>eur</th>\n",
              "      <th>gbp</th>\n",
              "      <th>jpy</th>\n",
              "      <th>rub</th>\n",
              "    </tr>\n",
              "  </thead>\n",
              "  <tbody>\n",
              "    <tr>\n",
              "      <th>346751</th>\n",
              "      <td>374</td>\n",
              "      <td>NBA Unrivaled</td>\n",
              "      <td>PS3</td>\n",
              "      <td>['A.C.R.O.N.Y.M. Games']</td>\n",
              "      <td>['KOEI TECMO GAMES CO.']</td>\n",
              "      <td>['sports']</td>\n",
              "      <td>['Japanese', 'French', 'Spanish', 'German', 'I...</td>\n",
              "      <td>2009-11-12</td>\n",
              "      <td>374_7417</td>\n",
              "      <td>Above The Rim</td>\n",
              "      <td>Complete an alley-oop dunk</td>\n",
              "      <td>Bronze</td>\n",
              "      <td>NaN</td>\n",
              "      <td>12.99</td>\n",
              "      <td>9.99</td>\n",
              "      <td>NaN</td>\n",
              "      <td>NaN</td>\n",
              "    </tr>\n",
              "    <tr>\n",
              "      <th>394865</th>\n",
              "      <td>682974</td>\n",
              "      <td>Stellar Interface</td>\n",
              "      <td>PS4</td>\n",
              "      <td>['ImaginationOverflow']</td>\n",
              "      <td>['ImaginationOverflow']</td>\n",
              "      <td>[\"Shoot 'em up\"]</td>\n",
              "      <td>['French', 'Spanish', 'German', 'Portuguese', ...</td>\n",
              "      <td>2024-06-21</td>\n",
              "      <td>682974_5519871</td>\n",
              "      <td>Providence</td>\n",
              "      <td>Obtained all badges in all spacecrafts.</td>\n",
              "      <td>Bronze</td>\n",
              "      <td>17.49</td>\n",
              "      <td>20.99</td>\n",
              "      <td>16.99</td>\n",
              "      <td>2200.0</td>\n",
              "      <td>NaN</td>\n",
              "    </tr>\n",
              "    <tr>\n",
              "      <th>207482</th>\n",
              "      <td>357452</td>\n",
              "      <td>Word Maze by POWGI</td>\n",
              "      <td>PS Vita</td>\n",
              "      <td>['Lightwood Games']</td>\n",
              "      <td>['Lightwood Games']</td>\n",
              "      <td>['Puzzle']</td>\n",
              "      <td>NaN</td>\n",
              "      <td>2019-12-17</td>\n",
              "      <td>357452_3291851</td>\n",
              "      <td>Reign of Terrier</td>\n",
              "      <td>Solve every puzzle in \"Dog Breeds\"</td>\n",
              "      <td>Silver</td>\n",
              "      <td>NaN</td>\n",
              "      <td>NaN</td>\n",
              "      <td>NaN</td>\n",
              "      <td>NaN</td>\n",
              "      <td>NaN</td>\n",
              "    </tr>\n",
              "    <tr>\n",
              "      <th>582923</th>\n",
              "      <td>13756</td>\n",
              "      <td>Tales of Berseria</td>\n",
              "      <td>PS4</td>\n",
              "      <td>['BANDAI NAMCO Studios Inc.']</td>\n",
              "      <td>['BANDAI NAMCO Entertainment', 'BANDAI NAMCO G...</td>\n",
              "      <td>['RPG']</td>\n",
              "      <td>['Japanese', 'French', 'Spanish', 'German', 'I...</td>\n",
              "      <td>2017-01-24</td>\n",
              "      <td>13756_144626</td>\n",
              "      <td>The Stone-Cold Killer</td>\n",
              "      <td>Proof Velvet knows 50 or more skills.\\nShe'll ...</td>\n",
              "      <td>Bronze</td>\n",
              "      <td>19.99</td>\n",
              "      <td>19.99</td>\n",
              "      <td>15.99</td>\n",
              "      <td>NaN</td>\n",
              "      <td>NaN</td>\n",
              "    </tr>\n",
              "    <tr>\n",
              "      <th>591729</th>\n",
              "      <td>5444</td>\n",
              "      <td>Skydive: Proximity Flight</td>\n",
              "      <td>PS3</td>\n",
              "      <td>['Gaijin Entertainment']</td>\n",
              "      <td>['Gaijin Entertainment']</td>\n",
              "      <td>['Sports', 'Skydiving']</td>\n",
              "      <td>['French', 'Spanish', 'German', 'Italian', 'Ru...</td>\n",
              "      <td>2013-10-01</td>\n",
              "      <td>5444_67751</td>\n",
              "      <td>Tricks non-stop!</td>\n",
              "      <td>Perform chain of 5 different tricks</td>\n",
              "      <td>Bronze</td>\n",
              "      <td>4.99</td>\n",
              "      <td>4.99</td>\n",
              "      <td>3.99</td>\n",
              "      <td>NaN</td>\n",
              "      <td>359.0</td>\n",
              "    </tr>\n",
              "  </tbody>\n",
              "</table>\n",
              "</div>"
            ],
            "text/plain": [
              "        gameid                      title PS_platform  \\\n",
              "346751     374              NBA Unrivaled         PS3   \n",
              "394865  682974          Stellar Interface         PS4   \n",
              "207482  357452         Word Maze by POWGI     PS Vita   \n",
              "582923   13756          Tales of Berseria         PS4   \n",
              "591729    5444  Skydive: Proximity Flight         PS3   \n",
              "\n",
              "                           developers  \\\n",
              "346751       ['A.C.R.O.N.Y.M. Games']   \n",
              "394865        ['ImaginationOverflow']   \n",
              "207482            ['Lightwood Games']   \n",
              "582923  ['BANDAI NAMCO Studios Inc.']   \n",
              "591729       ['Gaijin Entertainment']   \n",
              "\n",
              "                                               publishers  \\\n",
              "346751                           ['KOEI TECMO GAMES CO.']   \n",
              "394865                            ['ImaginationOverflow']   \n",
              "207482                                ['Lightwood Games']   \n",
              "582923  ['BANDAI NAMCO Entertainment', 'BANDAI NAMCO G...   \n",
              "591729                           ['Gaijin Entertainment']   \n",
              "\n",
              "                         genres  \\\n",
              "346751               ['sports']   \n",
              "394865         [\"Shoot 'em up\"]   \n",
              "207482               ['Puzzle']   \n",
              "582923                  ['RPG']   \n",
              "591729  ['Sports', 'Skydiving']   \n",
              "\n",
              "                                      supported_languages release_date  \\\n",
              "346751  ['Japanese', 'French', 'Spanish', 'German', 'I...   2009-11-12   \n",
              "394865  ['French', 'Spanish', 'German', 'Portuguese', ...   2024-06-21   \n",
              "207482                                                NaN   2019-12-17   \n",
              "582923  ['Japanese', 'French', 'Spanish', 'German', 'I...   2017-01-24   \n",
              "591729  ['French', 'Spanish', 'German', 'Italian', 'Ru...   2013-10-01   \n",
              "\n",
              "         achievementid      achievement_title  \\\n",
              "346751        374_7417          Above The Rim   \n",
              "394865  682974_5519871             Providence   \n",
              "207482  357452_3291851       Reign of Terrier   \n",
              "582923    13756_144626  The Stone-Cold Killer   \n",
              "591729      5444_67751       Tricks non-stop!   \n",
              "\n",
              "                                  achievement_description  rarity    usd  \\\n",
              "346751                         Complete an alley-oop dunk  Bronze    NaN   \n",
              "394865            Obtained all badges in all spacecrafts.  Bronze  17.49   \n",
              "207482                 Solve every puzzle in \"Dog Breeds\"  Silver    NaN   \n",
              "582923  Proof Velvet knows 50 or more skills.\\nShe'll ...  Bronze  19.99   \n",
              "591729                Perform chain of 5 different tricks  Bronze   4.99   \n",
              "\n",
              "          eur    gbp     jpy    rub  \n",
              "346751  12.99   9.99     NaN    NaN  \n",
              "394865  20.99  16.99  2200.0    NaN  \n",
              "207482    NaN    NaN     NaN    NaN  \n",
              "582923  19.99  15.99     NaN    NaN  \n",
              "591729   4.99   3.99     NaN  359.0  "
            ]
          },
          "execution_count": 474,
          "metadata": {},
          "output_type": "execute_result"
        }
      ],
      "source": [
        "ps_game_info.sample(5)"
      ]
    },
    {
      "cell_type": "code",
      "execution_count": 475,
      "metadata": {},
      "outputs": [
        {
          "data": {
            "text/plain": [
              "achievementid\n",
              "749375_6098396    1\n",
              "650405_5312282    1\n",
              "650406_5312373    1\n",
              "650406_5312374    1\n",
              "650406_5312375    1\n",
              "                 ..\n",
              "336965_3248824    1\n",
              "336965_3248825    1\n",
              "336965_3248826    1\n",
              "336965_3248827    1\n",
              "7593_93460        1\n",
              "Name: count, Length: 626958, dtype: int64"
            ]
          },
          "execution_count": 475,
          "metadata": {},
          "output_type": "execute_result"
        }
      ],
      "source": [
        "ps_game_info['achievementid'].value_counts()"
      ]
    },
    {
      "cell_type": "markdown",
      "metadata": {},
      "source": [
        "## Steam"
      ]
    },
    {
      "cell_type": "code",
      "execution_count": 476,
      "metadata": {},
      "outputs": [
        {
          "name": "stdout",
          "output_type": "stream",
          "text": [
            "steam_purchased_games - shape: (102548, 2)\n",
            "steam_reviews - shape: (1204534, 8)\n",
            "steam_history - shape: (10693879, 3)\n",
            "steam_friends - shape: (424683, 2)\n",
            "steam_prices - shape: (4414273, 7)\n",
            "steam_players - shape: (424683, 3)\n",
            "steam_games - shape: (98248, 7)\n",
            "steam_private_steamids - shape: (227963, 1)\n",
            "steam_achievements - shape: (1939027, 4)\n"
          ]
        }
      ],
      "source": [
        "import os\n",
        "import pandas as pd\n",
        "\n",
        "STEAM_DATA_FOLDER = \"data/steam\"\n",
        "\n",
        "dfs = {}\n",
        "\n",
        "for root, dirs, files in os.walk(STEAM_DATA_FOLDER):\n",
        "    for file in files:\n",
        "        if file.endswith(\".csv\"):\n",
        "            file_path = os.path.join(root, file)\n",
        "            df_name = f\"{os.path.basename(root)}_{file.replace('.csv', '')}\".replace('.csv', '')  # Clean name\n",
        "            dfs[df_name] = pd.read_csv(file_path)\n",
        "\n",
        "for name, df in dfs.items():\n",
        "    print(f\"{name} - shape: {df.shape}\")\n"
      ]
    },
    {
      "cell_type": "code",
      "execution_count": 477,
      "metadata": {},
      "outputs": [
        {
          "name": "stdout",
          "output_type": "stream",
          "text": [
            "0\n",
            "4315808\n",
            "0\n",
            "0\n",
            "0\n"
          ]
        }
      ],
      "source": [
        "steam_achievements = dfs['steam_achievements']\n",
        "steam_games = dfs['steam_games']\n",
        "steam_history = dfs['steam_history']\n",
        "steam_players = dfs['steam_players']\n",
        "steam_prices = dfs['steam_prices']\n",
        "steam_purchased_games = dfs['steam_purchased_games']\n",
        "\n",
        "# check duplicates\n",
        "print(steam_games.duplicated(subset=[\"gameid\"]).sum())\n",
        "print(steam_prices.duplicated(subset=[\"gameid\"]).sum())\n",
        "print(steam_achievements.duplicated(subset=[\"achievementid\"]).sum())\n",
        "print(steam_players.duplicated(subset=[\"playerid\"]).sum())\n",
        "print(steam_purchased_games.duplicated(subset=[\"playerid\"]).sum())"
      ]
    },
    {
      "cell_type": "code",
      "execution_count": 478,
      "metadata": {},
      "outputs": [
        {
          "name": "stdout",
          "output_type": "stream",
          "text": [
            "0\n"
          ]
        }
      ],
      "source": [
        "# for each gameid, keep only the most recent price entry\n",
        "steam_prices = steam_prices.sort_values(\"date_acquired\").drop_duplicates(subset=[\"gameid\"], keep=\"last\")\n",
        "print(steam_prices.duplicated(subset=[\"gameid\"]).sum())"
      ]
    },
    {
      "cell_type": "markdown",
      "metadata": {},
      "source": [
        "### Player focus"
      ]
    },
    {
      "cell_type": "code",
      "execution_count": 479,
      "metadata": {},
      "outputs": [],
      "source": [
        "st_player_info = steam_players.merge(steam_history, on=\"playerid\", how=\"left\")"
      ]
    },
    {
      "cell_type": "code",
      "execution_count": 480,
      "metadata": {},
      "outputs": [],
      "source": [
        "st_player_info = st_player_info.merge(steam_achievements, on=\"achievementid\", how=\"left\")"
      ]
    },
    {
      "cell_type": "code",
      "execution_count": 481,
      "metadata": {},
      "outputs": [],
      "source": [
        "st_player_info = st_player_info.merge(steam_purchased_games, on=\"playerid\", how=\"left\")\n",
        "\n",
        "# # Save player-focused data\n",
        "# steam_player_info.to_csv('data/steam_players.csv', index=False)"
      ]
    },
    {
      "cell_type": "code",
      "execution_count": 482,
      "metadata": {},
      "outputs": [
        {
          "name": "stdout",
          "output_type": "stream",
          "text": [
            "<class 'pandas.core.frame.DataFrame'>\n",
            "RangeIndex: 11113724 entries, 0 to 11113723\n",
            "Data columns (total 9 columns):\n",
            " #   Column         Dtype  \n",
            "---  ------         -----  \n",
            " 0   playerid       int64  \n",
            " 1   country        object \n",
            " 2   created        object \n",
            " 3   achievementid  object \n",
            " 4   date_acquired  object \n",
            " 5   gameid         float64\n",
            " 6   title          object \n",
            " 7   description    object \n",
            " 8   library        object \n",
            "dtypes: float64(1), int64(1), object(7)\n",
            "memory usage: 763.1+ MB\n"
          ]
        }
      ],
      "source": [
        "st_player_info.info()"
      ]
    },
    {
      "cell_type": "code",
      "execution_count": 483,
      "metadata": {},
      "outputs": [
        {
          "data": {
            "text/plain": [
              "(11113724, 9)"
            ]
          },
          "execution_count": 483,
          "metadata": {},
          "output_type": "execute_result"
        }
      ],
      "source": [
        "st_player_info.shape"
      ]
    },
    {
      "cell_type": "code",
      "execution_count": 484,
      "metadata": {},
      "outputs": [
        {
          "data": {
            "text/html": [
              "<div>\n",
              "<style scoped>\n",
              "    .dataframe tbody tr th:only-of-type {\n",
              "        vertical-align: middle;\n",
              "    }\n",
              "\n",
              "    .dataframe tbody tr th {\n",
              "        vertical-align: top;\n",
              "    }\n",
              "\n",
              "    .dataframe thead th {\n",
              "        text-align: right;\n",
              "    }\n",
              "</style>\n",
              "<table border=\"1\" class=\"dataframe\">\n",
              "  <thead>\n",
              "    <tr style=\"text-align: right;\">\n",
              "      <th></th>\n",
              "      <th>playerid</th>\n",
              "      <th>country</th>\n",
              "      <th>created</th>\n",
              "      <th>achievementid</th>\n",
              "      <th>date_acquired</th>\n",
              "      <th>gameid</th>\n",
              "      <th>title</th>\n",
              "      <th>description</th>\n",
              "      <th>library</th>\n",
              "    </tr>\n",
              "  </thead>\n",
              "  <tbody>\n",
              "    <tr>\n",
              "      <th>0</th>\n",
              "      <td>76561198287452552</td>\n",
              "      <td>Brazil</td>\n",
              "      <td>2016-03-02 06:14:20</td>\n",
              "      <td>NaN</td>\n",
              "      <td>NaN</td>\n",
              "      <td>NaN</td>\n",
              "      <td>NaN</td>\n",
              "      <td>NaN</td>\n",
              "      <td>[10, 80, 100, 240, 2990, 6880, 6910, 6920, 698...</td>\n",
              "    </tr>\n",
              "    <tr>\n",
              "      <th>1</th>\n",
              "      <td>76561198040436563</td>\n",
              "      <td>Israel</td>\n",
              "      <td>2011-04-10 17:10:06</td>\n",
              "      <td>NaN</td>\n",
              "      <td>NaN</td>\n",
              "      <td>NaN</td>\n",
              "      <td>NaN</td>\n",
              "      <td>NaN</td>\n",
              "      <td>[10, 80, 100, 300, 20, 30, 40, 50, 60, 70, 130...</td>\n",
              "    </tr>\n",
              "    <tr>\n",
              "      <th>2</th>\n",
              "      <td>76561198049686270</td>\n",
              "      <td>NaN</td>\n",
              "      <td>2011-09-28 21:43:59</td>\n",
              "      <td>NaN</td>\n",
              "      <td>NaN</td>\n",
              "      <td>NaN</td>\n",
              "      <td>NaN</td>\n",
              "      <td>NaN</td>\n",
              "      <td>NaN</td>\n",
              "    </tr>\n",
              "    <tr>\n",
              "      <th>3</th>\n",
              "      <td>76561198155814250</td>\n",
              "      <td>Kazakhstan</td>\n",
              "      <td>2014-09-24 19:52:47</td>\n",
              "      <td>NaN</td>\n",
              "      <td>NaN</td>\n",
              "      <td>NaN</td>\n",
              "      <td>NaN</td>\n",
              "      <td>NaN</td>\n",
              "      <td>NaN</td>\n",
              "    </tr>\n",
              "    <tr>\n",
              "      <th>4</th>\n",
              "      <td>76561198119605821</td>\n",
              "      <td>NaN</td>\n",
              "      <td>2013-12-26 00:25:50</td>\n",
              "      <td>NaN</td>\n",
              "      <td>NaN</td>\n",
              "      <td>NaN</td>\n",
              "      <td>NaN</td>\n",
              "      <td>NaN</td>\n",
              "      <td>[47870, 108600, 550, 271590, 331470, 381210, 2...</td>\n",
              "    </tr>\n",
              "  </tbody>\n",
              "</table>\n",
              "</div>"
            ],
            "text/plain": [
              "            playerid     country              created achievementid  \\\n",
              "0  76561198287452552      Brazil  2016-03-02 06:14:20           NaN   \n",
              "1  76561198040436563      Israel  2011-04-10 17:10:06           NaN   \n",
              "2  76561198049686270         NaN  2011-09-28 21:43:59           NaN   \n",
              "3  76561198155814250  Kazakhstan  2014-09-24 19:52:47           NaN   \n",
              "4  76561198119605821         NaN  2013-12-26 00:25:50           NaN   \n",
              "\n",
              "  date_acquired  gameid title description  \\\n",
              "0           NaN     NaN   NaN         NaN   \n",
              "1           NaN     NaN   NaN         NaN   \n",
              "2           NaN     NaN   NaN         NaN   \n",
              "3           NaN     NaN   NaN         NaN   \n",
              "4           NaN     NaN   NaN         NaN   \n",
              "\n",
              "                                             library  \n",
              "0  [10, 80, 100, 240, 2990, 6880, 6910, 6920, 698...  \n",
              "1  [10, 80, 100, 300, 20, 30, 40, 50, 60, 70, 130...  \n",
              "2                                                NaN  \n",
              "3                                                NaN  \n",
              "4  [47870, 108600, 550, 271590, 331470, 381210, 2...  "
            ]
          },
          "execution_count": 484,
          "metadata": {},
          "output_type": "execute_result"
        }
      ],
      "source": [
        "st_player_info.head(5)"
      ]
    },
    {
      "cell_type": "markdown",
      "metadata": {},
      "source": [
        "### Game focus"
      ]
    },
    {
      "cell_type": "code",
      "execution_count": 485,
      "metadata": {},
      "outputs": [],
      "source": [
        "st_game_info = steam_games.merge(steam_achievements.rename(columns={'title': 'achievement_title'}), on=\"gameid\", how=\"left\")"
      ]
    },
    {
      "cell_type": "code",
      "execution_count": 486,
      "metadata": {},
      "outputs": [],
      "source": [
        "st_game_info = st_game_info.merge(steam_prices, on=\"gameid\", how=\"left\")"
      ]
    },
    {
      "cell_type": "code",
      "execution_count": 487,
      "metadata": {},
      "outputs": [],
      "source": [
        "st_game_info = st_game_info.drop(columns=['date_acquired'])"
      ]
    },
    {
      "cell_type": "code",
      "execution_count": 488,
      "metadata": {},
      "outputs": [],
      "source": [
        "st_game_info.rename(columns={'description': 'achievement_description'}, inplace=True)"
      ]
    },
    {
      "cell_type": "code",
      "execution_count": 489,
      "metadata": {},
      "outputs": [
        {
          "name": "stdout",
          "output_type": "stream",
          "text": [
            "<class 'pandas.core.frame.DataFrame'>\n",
            "RangeIndex: 1983659 entries, 0 to 1983658\n",
            "Data columns (total 15 columns):\n",
            " #   Column                   Dtype  \n",
            "---  ------                   -----  \n",
            " 0   gameid                   int64  \n",
            " 1   title                    object \n",
            " 2   developers               object \n",
            " 3   publishers               object \n",
            " 4   genres                   object \n",
            " 5   supported_languages      object \n",
            " 6   release_date             object \n",
            " 7   achievementid            object \n",
            " 8   achievement_title        object \n",
            " 9   achievement_description  object \n",
            " 10  usd                      float64\n",
            " 11  eur                      float64\n",
            " 12  gbp                      float64\n",
            " 13  jpy                      float64\n",
            " 14  rub                      float64\n",
            "dtypes: float64(5), int64(1), object(9)\n",
            "memory usage: 227.0+ MB\n"
          ]
        }
      ],
      "source": [
        "st_game_info.info()"
      ]
    },
    {
      "cell_type": "code",
      "execution_count": 490,
      "metadata": {},
      "outputs": [
        {
          "data": {
            "text/plain": [
              "(1983659, 15)"
            ]
          },
          "execution_count": 490,
          "metadata": {},
          "output_type": "execute_result"
        }
      ],
      "source": [
        "st_game_info.shape"
      ]
    },
    {
      "cell_type": "code",
      "execution_count": 491,
      "metadata": {},
      "outputs": [
        {
          "data": {
            "text/plain": [
              "achievementid\n",
              "3266470_ACHIEVEMENT_5_MINUTES    1\n",
              "2578790_Liquidator               1\n",
              "2578790_Space_Rebel              1\n",
              "2578790_Slugger                  1\n",
              "2578790_Sergeant                 1\n",
              "                                ..\n",
              "1098080_ACHIEVEMENT_9            1\n",
              "1098080_ACHIEVEMENT_8            1\n",
              "1098080_ACHIEVEMENT_7            1\n",
              "1098080_ACHIEVEMENT_6            1\n",
              "1499240_ROMANROCKS               1\n",
              "Name: count, Length: 1935882, dtype: int64"
            ]
          },
          "execution_count": 491,
          "metadata": {},
          "output_type": "execute_result"
        }
      ],
      "source": [
        "st_game_info['achievementid'].value_counts()"
      ]
    },
    {
      "cell_type": "markdown",
      "metadata": {},
      "source": [
        "## XBOX"
      ]
    },
    {
      "cell_type": "code",
      "execution_count": 492,
      "metadata": {},
      "outputs": [
        {
          "name": "stdout",
          "output_type": "stream",
          "text": [
            "xbox_purchased_games - shape: (46466, 2)\n",
            "xbox_history - shape: (15275900, 3)\n",
            "xbox_prices - shape: (22638, 7)\n",
            "xbox_players - shape: (274450, 2)\n",
            "xbox_games - shape: (10489, 7)\n",
            "xbox_achievements - shape: (351111, 5)\n"
          ]
        }
      ],
      "source": [
        "import os\n",
        "import pandas as pd\n",
        "\n",
        "XBOX_DATA_FOLDER = \"data/xbox\"\n",
        "\n",
        "dfs = {}\n",
        "\n",
        "for root, dirs, files in os.walk(XBOX_DATA_FOLDER):\n",
        "    for file in files:\n",
        "        if file.endswith(\".csv\"):\n",
        "            file_path = os.path.join(root, file)\n",
        "            df_name = f\"{os.path.basename(root)}_{file.replace('.csv', '')}\".replace('.csv', '')\n",
        "            dfs[df_name] = pd.read_csv(file_path)\n",
        "\n",
        "for name, df in dfs.items():\n",
        "    print(f\"{name} - shape: {df.shape}\")\n"
      ]
    },
    {
      "cell_type": "code",
      "execution_count": 493,
      "metadata": {},
      "outputs": [
        {
          "name": "stdout",
          "output_type": "stream",
          "text": [
            "0\n",
            "11319\n",
            "0\n",
            "0\n",
            "0\n"
          ]
        }
      ],
      "source": [
        "xbox_achievements = dfs['xbox_achievements']\n",
        "xbox_games = dfs['xbox_games']\n",
        "xbox_history = dfs['xbox_history']\n",
        "xbox_players = dfs['xbox_players']\n",
        "xbox_prices = dfs['xbox_prices']\n",
        "xbox_purchased_games = dfs['xbox_purchased_games']\n",
        "\n",
        "# check duplicates\n",
        "print(xbox_games.duplicated(subset=[\"gameid\"]).sum())\n",
        "print(xbox_prices.duplicated(subset=[\"gameid\"]).sum())\n",
        "print(xbox_achievements.duplicated(subset=[\"achievementid\"]).sum())\n",
        "print(xbox_players.duplicated(subset=[\"playerid\"]).sum())\n",
        "print(xbox_purchased_games.duplicated(subset=[\"playerid\"]).sum())"
      ]
    },
    {
      "cell_type": "code",
      "execution_count": 494,
      "metadata": {},
      "outputs": [
        {
          "name": "stdout",
          "output_type": "stream",
          "text": [
            "0\n"
          ]
        }
      ],
      "source": [
        "# for each gameid, keep only the most recent price entry\n",
        "xbox_prices = xbox_prices.sort_values(\"date_acquired\").drop_duplicates(subset=[\"gameid\"], keep=\"last\")\n",
        "print(xbox_prices.duplicated(subset=[\"gameid\"]).sum())"
      ]
    },
    {
      "cell_type": "markdown",
      "metadata": {},
      "source": [
        "### Player focus"
      ]
    },
    {
      "cell_type": "code",
      "execution_count": 495,
      "metadata": {},
      "outputs": [],
      "source": [
        "xb_player_info = xbox_players.merge(xbox_history, on=\"playerid\", how=\"left\")"
      ]
    },
    {
      "cell_type": "code",
      "execution_count": 496,
      "metadata": {},
      "outputs": [],
      "source": [
        "xb_player_info = xb_player_info.merge(xbox_achievements, on=\"achievementid\", how=\"left\")"
      ]
    },
    {
      "cell_type": "code",
      "execution_count": 497,
      "metadata": {},
      "outputs": [],
      "source": [
        "xb_player_info = xb_player_info.merge(xbox_purchased_games, on=\"playerid\", how=\"left\")"
      ]
    },
    {
      "cell_type": "code",
      "execution_count": 498,
      "metadata": {},
      "outputs": [
        {
          "name": "stdout",
          "output_type": "stream",
          "text": [
            "<class 'pandas.core.frame.DataFrame'>\n",
            "RangeIndex: 15545366 entries, 0 to 15545365\n",
            "Data columns (total 9 columns):\n",
            " #   Column         Dtype  \n",
            "---  ------         -----  \n",
            " 0   playerid       int64  \n",
            " 1   nickname       object \n",
            " 2   achievementid  object \n",
            " 3   date_acquired  object \n",
            " 4   gameid         float64\n",
            " 5   title          object \n",
            " 6   description    object \n",
            " 7   points         float64\n",
            " 8   library        object \n",
            "dtypes: float64(2), int64(1), object(6)\n",
            "memory usage: 1.0+ GB\n"
          ]
        }
      ],
      "source": [
        "xb_player_info.info()"
      ]
    },
    {
      "cell_type": "code",
      "execution_count": 499,
      "metadata": {},
      "outputs": [
        {
          "data": {
            "text/plain": [
              "(15545366, 9)"
            ]
          },
          "execution_count": 499,
          "metadata": {},
          "output_type": "execute_result"
        }
      ],
      "source": [
        "xb_player_info.shape"
      ]
    },
    {
      "cell_type": "markdown",
      "metadata": {},
      "source": [
        "### Game focus"
      ]
    },
    {
      "cell_type": "code",
      "execution_count": 500,
      "metadata": {},
      "outputs": [],
      "source": [
        "xb_game_info = xbox_games.merge(xbox_achievements.rename(columns={'title': 'achievement_title'}), on=\"gameid\", how=\"left\")"
      ]
    },
    {
      "cell_type": "code",
      "execution_count": 501,
      "metadata": {},
      "outputs": [],
      "source": [
        "xb_game_info = xb_game_info.merge(xbox_prices, on=\"gameid\", how=\"left\")"
      ]
    },
    {
      "cell_type": "code",
      "execution_count": 502,
      "metadata": {},
      "outputs": [],
      "source": [
        "xb_game_info = xb_game_info.drop(columns=['date_acquired', 'points'])"
      ]
    },
    {
      "cell_type": "code",
      "execution_count": 503,
      "metadata": {},
      "outputs": [],
      "source": [
        "xb_game_info.rename(columns={'description': 'achievement_description'}, inplace=True)"
      ]
    },
    {
      "cell_type": "code",
      "execution_count": 504,
      "metadata": {},
      "outputs": [
        {
          "name": "stdout",
          "output_type": "stream",
          "text": [
            "<class 'pandas.core.frame.DataFrame'>\n",
            "RangeIndex: 323038 entries, 0 to 323037\n",
            "Data columns (total 15 columns):\n",
            " #   Column                   Non-Null Count   Dtype  \n",
            "---  ------                   --------------   -----  \n",
            " 0   gameid                   323038 non-null  int64  \n",
            " 1   title                    323038 non-null  object \n",
            " 2   developers               304402 non-null  object \n",
            " 3   publishers               305059 non-null  object \n",
            " 4   genres                   304168 non-null  object \n",
            " 5   supported_languages      132805 non-null  object \n",
            " 6   release_date             323038 non-null  object \n",
            " 7   achievementid            323038 non-null  object \n",
            " 8   achievement_title        323037 non-null  object \n",
            " 9   achievement_description  322984 non-null  object \n",
            " 10  usd                      237247 non-null  float64\n",
            " 11  eur                      226837 non-null  float64\n",
            " 12  gbp                      234618 non-null  float64\n",
            " 13  jpy                      0 non-null       float64\n",
            " 14  rub                      210234 non-null  float64\n",
            "dtypes: float64(5), int64(1), object(9)\n",
            "memory usage: 37.0+ MB\n"
          ]
        }
      ],
      "source": [
        "xb_game_info.info()"
      ]
    },
    {
      "cell_type": "markdown",
      "metadata": {},
      "source": [
        "## Game Info Across Platforms"
      ]
    },
    {
      "cell_type": "code",
      "execution_count": 505,
      "metadata": {},
      "outputs": [
        {
          "data": {
            "text/plain": [
              "23151"
            ]
          },
          "execution_count": 505,
          "metadata": {},
          "output_type": "execute_result"
        }
      ],
      "source": [
        "len(ps_game_info['gameid'].unique())"
      ]
    },
    {
      "cell_type": "code",
      "execution_count": 506,
      "metadata": {},
      "outputs": [
        {
          "data": {
            "text/plain": [
              "98248"
            ]
          },
          "execution_count": 506,
          "metadata": {},
          "output_type": "execute_result"
        }
      ],
      "source": [
        "len(st_game_info['gameid'].unique())"
      ]
    },
    {
      "cell_type": "code",
      "execution_count": 507,
      "metadata": {},
      "outputs": [
        {
          "data": {
            "text/plain": [
              "10489"
            ]
          },
          "execution_count": 507,
          "metadata": {},
          "output_type": "execute_result"
        }
      ],
      "source": [
        "len(xb_game_info['gameid'].unique())"
      ]
    },
    {
      "cell_type": "code",
      "execution_count": 508,
      "metadata": {},
      "outputs": [
        {
          "name": "stdout",
          "output_type": "stream",
          "text": [
            "Shared titles between PS & ST: 5571\n",
            "Shared titles between PS & XB: 5360\n",
            "Shared titles between ST & XB: 5540\n",
            "Shared across all three: 3815\n"
          ]
        }
      ],
      "source": [
        "ps_titles = set(ps_game_info['title'].str.lower().str.strip())\n",
        "st_titles = set(st_game_info['title'].str.lower().str.strip())\n",
        "xb_titles = set(xb_game_info['title'].str.lower().str.strip())\n",
        "\n",
        "shared_ps_st = ps_titles.intersection(st_titles)\n",
        "shared_ps_xb = ps_titles.intersection(xb_titles)\n",
        "shared_st_xb = st_titles.intersection(xb_titles)\n",
        "shared_all = ps_titles.intersection(st_titles, xb_titles)\n",
        "\n",
        "print(f\"Shared titles between PS & ST: {len(shared_ps_st)}\")\n",
        "print(f\"Shared titles between PS & XB: {len(shared_ps_xb)}\")\n",
        "print(f\"Shared titles between ST & XB: {len(shared_st_xb)}\")\n",
        "print(f\"Shared across all three: {len(shared_all)}\")\n"
      ]
    },
    {
      "cell_type": "code",
      "execution_count": 509,
      "metadata": {},
      "outputs": [],
      "source": [
        "def clean_game_info(df, platform):\n",
        "    df = df.copy()\n",
        "    \n",
        "    # drop platform-specific columns (ps_game_info's 'rarity' and 'PS_platform')\n",
        "    drop_cols = ['date_acquired', 'rarity', 'PS_platform']\n",
        "    df = df.drop(columns=[col for col in drop_cols if col in df.columns], errors='ignore')\n",
        "\n",
        "    # add platform column\n",
        "    df['platform'] = platform\n",
        "    \n",
        "    return df"
      ]
    },
    {
      "cell_type": "code",
      "execution_count": 510,
      "metadata": {},
      "outputs": [],
      "source": [
        "ps_game_info_clean = clean_game_info(ps_game_info, 'ps')"
      ]
    },
    {
      "cell_type": "code",
      "execution_count": 511,
      "metadata": {},
      "outputs": [
        {
          "data": {
            "text/plain": [
              "Index(['gameid', 'title', 'developers', 'publishers', 'genres',\n",
              "       'supported_languages', 'release_date', 'achievementid',\n",
              "       'achievement_title', 'achievement_description', 'usd', 'eur', 'gbp',\n",
              "       'jpy', 'rub', 'platform'],\n",
              "      dtype='object')"
            ]
          },
          "execution_count": 511,
          "metadata": {},
          "output_type": "execute_result"
        }
      ],
      "source": [
        "ps_game_info_clean.columns"
      ]
    },
    {
      "cell_type": "code",
      "execution_count": 512,
      "metadata": {},
      "outputs": [],
      "source": [
        "st_game_info_clean = clean_game_info(st_game_info, 'st')"
      ]
    },
    {
      "cell_type": "code",
      "execution_count": 513,
      "metadata": {},
      "outputs": [
        {
          "data": {
            "text/plain": [
              "Index(['gameid', 'title', 'developers', 'publishers', 'genres',\n",
              "       'supported_languages', 'release_date', 'achievementid',\n",
              "       'achievement_title', 'achievement_description', 'usd', 'eur', 'gbp',\n",
              "       'jpy', 'rub', 'platform'],\n",
              "      dtype='object')"
            ]
          },
          "execution_count": 513,
          "metadata": {},
          "output_type": "execute_result"
        }
      ],
      "source": [
        "st_game_info_clean.columns"
      ]
    },
    {
      "cell_type": "code",
      "execution_count": 514,
      "metadata": {},
      "outputs": [],
      "source": [
        "xb_game_info_clean = clean_game_info(xb_game_info, 'xb')"
      ]
    },
    {
      "cell_type": "code",
      "execution_count": 515,
      "metadata": {},
      "outputs": [
        {
          "data": {
            "text/plain": [
              "Index(['gameid', 'title', 'developers', 'publishers', 'genres',\n",
              "       'supported_languages', 'release_date', 'achievementid',\n",
              "       'achievement_title', 'achievement_description', 'usd', 'eur', 'gbp',\n",
              "       'jpy', 'rub', 'platform'],\n",
              "      dtype='object')"
            ]
          },
          "execution_count": 515,
          "metadata": {},
          "output_type": "execute_result"
        }
      ],
      "source": [
        "xb_game_info_clean.columns"
      ]
    },
    {
      "cell_type": "code",
      "execution_count": 516,
      "metadata": {},
      "outputs": [
        {
          "name": "stdout",
          "output_type": "stream",
          "text": [
            "Merged dataset shape: (431985, 16)\n"
          ]
        }
      ],
      "source": [
        "shared_games = set(ps_game_info_clean['title']) & set(st_game_info_clean['title']) & set(xb_game_info_clean['title'])\n",
        "\n",
        "ps_game_info_clean = ps_game_info_clean[ps_game_info_clean['title'].isin(shared_games)]\n",
        "st_game_info_clean = st_game_info_clean[st_game_info_clean['title'].isin(shared_games)]\n",
        "xb_game_info_clean = xb_game_info_clean[xb_game_info_clean['title'].isin(shared_games)]\n",
        "\n",
        "merged_game_info = pd.concat([ps_game_info_clean, st_game_info_clean, xb_game_info_clean], ignore_index=True)\n",
        "\n",
        "print(f\"Merged dataset shape: {merged_game_info.shape}\")"
      ]
    },
    {
      "cell_type": "code",
      "execution_count": 517,
      "metadata": {},
      "outputs": [
        {
          "name": "stdout",
          "output_type": "stream",
          "text": [
            "<class 'pandas.core.frame.DataFrame'>\n",
            "RangeIndex: 431985 entries, 0 to 431984\n",
            "Data columns (total 16 columns):\n",
            " #   Column                   Non-Null Count   Dtype  \n",
            "---  ------                   --------------   -----  \n",
            " 0   gameid                   431985 non-null  int64  \n",
            " 1   title                    431985 non-null  object \n",
            " 2   developers               430744 non-null  object \n",
            " 3   publishers               430459 non-null  object \n",
            " 4   genres                   430507 non-null  object \n",
            " 5   supported_languages      274284 non-null  object \n",
            " 6   release_date             431985 non-null  object \n",
            " 7   achievementid            431807 non-null  object \n",
            " 8   achievement_title        431801 non-null  object \n",
            " 9   achievement_description  414137 non-null  object \n",
            " 10  usd                      398232 non-null  float64\n",
            " 11  eur                      386835 non-null  float64\n",
            " 12  gbp                      396497 non-null  float64\n",
            " 13  jpy                      186153 non-null  float64\n",
            " 14  rub                      224923 non-null  float64\n",
            " 15  platform                 431985 non-null  object \n",
            "dtypes: float64(5), int64(1), object(10)\n",
            "memory usage: 52.7+ MB\n"
          ]
        }
      ],
      "source": [
        "merged_game_info.info()"
      ]
    },
    {
      "cell_type": "code",
      "execution_count": 518,
      "metadata": {},
      "outputs": [
        {
          "data": {
            "text/plain": [
              "achievementid\n",
              "749591_6100112             1\n",
              "384010_PIECE_OF_CAKE       1\n",
              "384180_ACH_SHOP_A_HOLIC    1\n",
              "384180_ACH_BLACKJACK       1\n",
              "384180_ACH_BILLIONAIRE     1\n",
              "                          ..\n",
              "603576_4978957             1\n",
              "603576_4978956             1\n",
              "603576_4978955             1\n",
              "603576_4978954             1\n",
              "711118_5703719             1\n",
              "Name: count, Length: 431807, dtype: int64"
            ]
          },
          "execution_count": 518,
          "metadata": {},
          "output_type": "execute_result"
        }
      ],
      "source": [
        "merged_game_info['achievementid'].value_counts()"
      ]
    },
    {
      "cell_type": "code",
      "execution_count": 519,
      "metadata": {},
      "outputs": [
        {
          "data": {
            "text/plain": [
              "platform\n",
              "ps    205901\n",
              "st    114850\n",
              "xb    111234\n",
              "Name: count, dtype: int64"
            ]
          },
          "execution_count": 519,
          "metadata": {},
          "output_type": "execute_result"
        }
      ],
      "source": [
        "merged_game_info['platform'].value_counts()"
      ]
    },
    {
      "cell_type": "markdown",
      "metadata": {},
      "source": [
        "## Long and Tidy Form\n",
        "A tidy dataset follows the principles:\n",
        "1. Each column is a single variable.\n",
        "2. Each row is a single observation.\n",
        "3. Each cell contains a single value.\n",
        "\n",
        "#### Issues with the current merged_game_info:\n",
        "- **We decide to leave it unchanged as our analysis will base on it**: The platform column is categorical, meaning the same game can appear multiple times (once per platform). This makes it long format.\n",
        "- Price columns (usd, eur, etc.) are separate instead of melted into a single column, which makes the dataset wide instead of long, which is not tidy."
      ]
    },
    {
      "cell_type": "code",
      "execution_count": 520,
      "metadata": {},
      "outputs": [],
      "source": [
        "# convert price columns into a long format\n",
        "tidy_game_info = merged_game_info.melt(\n",
        "    id_vars=[\n",
        "        \"gameid\", \"title\", \"developers\", \"publishers\", \"genres\",\n",
        "        \"supported_languages\", \"release_date\", \"achievementid\",\n",
        "        \"achievement_title\", \"achievement_description\", \"platform\"\n",
        "    ],\n",
        "    value_vars=[\"usd\", \"eur\", \"gbp\", \"jpy\", \"rub\"],\n",
        "    var_name=\"currency\",\n",
        "    value_name=\"price\"\n",
        ")"
      ]
    },
    {
      "cell_type": "code",
      "execution_count": 521,
      "metadata": {},
      "outputs": [
        {
          "data": {
            "text/plain": [
              "(2159925, 13)"
            ]
          },
          "execution_count": 521,
          "metadata": {},
          "output_type": "execute_result"
        }
      ],
      "source": [
        "tidy_game_info.shape"
      ]
    },
    {
      "cell_type": "code",
      "execution_count": 522,
      "metadata": {},
      "outputs": [
        {
          "name": "stdout",
          "output_type": "stream",
          "text": [
            "<class 'pandas.core.frame.DataFrame'>\n",
            "RangeIndex: 2159925 entries, 0 to 2159924\n",
            "Data columns (total 13 columns):\n",
            " #   Column                   Dtype  \n",
            "---  ------                   -----  \n",
            " 0   gameid                   int64  \n",
            " 1   title                    object \n",
            " 2   developers               object \n",
            " 3   publishers               object \n",
            " 4   genres                   object \n",
            " 5   supported_languages      object \n",
            " 6   release_date             object \n",
            " 7   achievementid            object \n",
            " 8   achievement_title        object \n",
            " 9   achievement_description  object \n",
            " 10  platform                 object \n",
            " 11  currency                 object \n",
            " 12  price                    float64\n",
            "dtypes: float64(1), int64(1), object(11)\n",
            "memory usage: 214.2+ MB\n"
          ]
        }
      ],
      "source": [
        "tidy_game_info.info()"
      ]
    },
    {
      "cell_type": "code",
      "execution_count": 523,
      "metadata": {},
      "outputs": [
        {
          "data": {
            "text/html": [
              "<div>\n",
              "<style scoped>\n",
              "    .dataframe tbody tr th:only-of-type {\n",
              "        vertical-align: middle;\n",
              "    }\n",
              "\n",
              "    .dataframe tbody tr th {\n",
              "        vertical-align: top;\n",
              "    }\n",
              "\n",
              "    .dataframe thead th {\n",
              "        text-align: right;\n",
              "    }\n",
              "</style>\n",
              "<table border=\"1\" class=\"dataframe\">\n",
              "  <thead>\n",
              "    <tr style=\"text-align: right;\">\n",
              "      <th></th>\n",
              "      <th>gameid</th>\n",
              "      <th>title</th>\n",
              "      <th>developers</th>\n",
              "      <th>publishers</th>\n",
              "      <th>genres</th>\n",
              "      <th>supported_languages</th>\n",
              "      <th>release_date</th>\n",
              "      <th>achievementid</th>\n",
              "      <th>achievement_title</th>\n",
              "      <th>achievement_description</th>\n",
              "      <th>platform</th>\n",
              "      <th>currency</th>\n",
              "      <th>price</th>\n",
              "    </tr>\n",
              "  </thead>\n",
              "  <tbody>\n",
              "    <tr>\n",
              "      <th>254263</th>\n",
              "      <td>1018160</td>\n",
              "      <td>MXGP 2019 - The Official Motocross Videogame</td>\n",
              "      <td>['Milestone S.r.l.']</td>\n",
              "      <td>['Milestone S.r.l.']</td>\n",
              "      <td>['Racing', 'Simulation', 'Sports']</td>\n",
              "      <td>['English', 'French', 'Italian', 'German', 'Sp...</td>\n",
              "      <td>2019-08-27</td>\n",
              "      <td>1018160_ML_ACHIEVEMENT_47</td>\n",
              "      <td>The time machine</td>\n",
              "      <td>Use the Rewind for the first time in any game ...</td>\n",
              "      <td>st</td>\n",
              "      <td>usd</td>\n",
              "      <td>24.99</td>\n",
              "    </tr>\n",
              "    <tr>\n",
              "      <th>1595745</th>\n",
              "      <td>314830</td>\n",
              "      <td>Blackguards 2</td>\n",
              "      <td>['Daedalic Entertainment']</td>\n",
              "      <td>['Daedalic Entertainment']</td>\n",
              "      <td>['Adventure', 'Indie', 'RPG', 'Strategy']</td>\n",
              "      <td>['English', 'French', 'Italian', 'German', 'Sp...</td>\n",
              "      <td>2015-01-20</td>\n",
              "      <td>314830_achievement_21</td>\n",
              "      <td>Kyria for a Day</td>\n",
              "      <td>Cassia is beloved by the people</td>\n",
              "      <td>st</td>\n",
              "      <td>jpy</td>\n",
              "      <td>1180.00</td>\n",
              "    </tr>\n",
              "    <tr>\n",
              "      <th>1382135</th>\n",
              "      <td>163189</td>\n",
              "      <td>Immortal: Unchained</td>\n",
              "      <td>['Toadman Interactive']</td>\n",
              "      <td>['Toadman Interactive']</td>\n",
              "      <td>['RPG']</td>\n",
              "      <td>['Japanese', 'French', 'Spanish', 'German', 'I...</td>\n",
              "      <td>2018-09-07</td>\n",
              "      <td>163189_2797266</td>\n",
              "      <td>Hello World</td>\n",
              "      <td>Connect with the Monolith</td>\n",
              "      <td>ps</td>\n",
              "      <td>jpy</td>\n",
              "      <td>NaN</td>\n",
              "    </tr>\n",
              "    <tr>\n",
              "      <th>1144638</th>\n",
              "      <td>530320</td>\n",
              "      <td>Wandersong</td>\n",
              "      <td>['Wishes Ultd.', 'Greg Lobanov', 'A Shell in t...</td>\n",
              "      <td>['Greg Lobanov']</td>\n",
              "      <td>['Adventure', 'Indie']</td>\n",
              "      <td>['English']</td>\n",
              "      <td>2018-09-27</td>\n",
              "      <td>530320_OVERSEER6</td>\n",
              "      <td>Heartbreaker</td>\n",
              "      <td>NaN</td>\n",
              "      <td>st</td>\n",
              "      <td>gbp</td>\n",
              "      <td>14.99</td>\n",
              "    </tr>\n",
              "    <tr>\n",
              "      <th>468550</th>\n",
              "      <td>530702</td>\n",
              "      <td>Maggie the Magnet</td>\n",
              "      <td>['Khud0', 'eastasiasoft']</td>\n",
              "      <td>['eastasiasoft']</td>\n",
              "      <td>['Puzzle']</td>\n",
              "      <td>['Russian']</td>\n",
              "      <td>2022-09-16</td>\n",
              "      <td>530702_4526846</td>\n",
              "      <td>Invisibility</td>\n",
              "      <td>Disappear.</td>\n",
              "      <td>ps</td>\n",
              "      <td>eur</td>\n",
              "      <td>4.99</td>\n",
              "    </tr>\n",
              "  </tbody>\n",
              "</table>\n",
              "</div>"
            ],
            "text/plain": [
              "          gameid                                         title  \\\n",
              "254263   1018160  MXGP 2019 - The Official Motocross Videogame   \n",
              "1595745   314830                                 Blackguards 2   \n",
              "1382135   163189                           Immortal: Unchained   \n",
              "1144638   530320                                    Wandersong   \n",
              "468550    530702                             Maggie the Magnet   \n",
              "\n",
              "                                                developers  \\\n",
              "254263                                ['Milestone S.r.l.']   \n",
              "1595745                         ['Daedalic Entertainment']   \n",
              "1382135                            ['Toadman Interactive']   \n",
              "1144638  ['Wishes Ultd.', 'Greg Lobanov', 'A Shell in t...   \n",
              "468550                           ['Khud0', 'eastasiasoft']   \n",
              "\n",
              "                         publishers  \\\n",
              "254263         ['Milestone S.r.l.']   \n",
              "1595745  ['Daedalic Entertainment']   \n",
              "1382135     ['Toadman Interactive']   \n",
              "1144638            ['Greg Lobanov']   \n",
              "468550             ['eastasiasoft']   \n",
              "\n",
              "                                            genres  \\\n",
              "254263          ['Racing', 'Simulation', 'Sports']   \n",
              "1595745  ['Adventure', 'Indie', 'RPG', 'Strategy']   \n",
              "1382135                                    ['RPG']   \n",
              "1144638                     ['Adventure', 'Indie']   \n",
              "468550                                  ['Puzzle']   \n",
              "\n",
              "                                       supported_languages release_date  \\\n",
              "254263   ['English', 'French', 'Italian', 'German', 'Sp...   2019-08-27   \n",
              "1595745  ['English', 'French', 'Italian', 'German', 'Sp...   2015-01-20   \n",
              "1382135  ['Japanese', 'French', 'Spanish', 'German', 'I...   2018-09-07   \n",
              "1144638                                        ['English']   2018-09-27   \n",
              "468550                                         ['Russian']   2022-09-16   \n",
              "\n",
              "                     achievementid achievement_title  \\\n",
              "254263   1018160_ML_ACHIEVEMENT_47  The time machine   \n",
              "1595745      314830_achievement_21   Kyria for a Day   \n",
              "1382135             163189_2797266       Hello World   \n",
              "1144638           530320_OVERSEER6      Heartbreaker   \n",
              "468550              530702_4526846      Invisibility   \n",
              "\n",
              "                                   achievement_description platform currency  \\\n",
              "254263   Use the Rewind for the first time in any game ...       st      usd   \n",
              "1595745                    Cassia is beloved by the people       st      jpy   \n",
              "1382135                          Connect with the Monolith       ps      jpy   \n",
              "1144638                                                NaN       st      gbp   \n",
              "468550                                          Disappear.       ps      eur   \n",
              "\n",
              "           price  \n",
              "254263     24.99  \n",
              "1595745  1180.00  \n",
              "1382135      NaN  \n",
              "1144638    14.99  \n",
              "468550      4.99  "
            ]
          },
          "execution_count": 523,
          "metadata": {},
          "output_type": "execute_result"
        }
      ],
      "source": [
        "tidy_game_info.sample(5)"
      ]
    },
    {
      "cell_type": "code",
      "execution_count": 524,
      "metadata": {},
      "outputs": [
        {
          "data": {
            "text/plain": [
              "achievementid\n",
              "749591_6100112             5\n",
              "384010_PIECE_OF_CAKE       5\n",
              "384180_ACH_SHOP_A_HOLIC    5\n",
              "384180_ACH_BLACKJACK       5\n",
              "384180_ACH_BILLIONAIRE     5\n",
              "                          ..\n",
              "603576_4978957             5\n",
              "603576_4978956             5\n",
              "603576_4978955             5\n",
              "603576_4978954             5\n",
              "711118_5703719             5\n",
              "Name: count, Length: 431807, dtype: int64"
            ]
          },
          "execution_count": 524,
          "metadata": {},
          "output_type": "execute_result"
        }
      ],
      "source": [
        "tidy_game_info['achievementid'].value_counts()"
      ]
    },
    {
      "cell_type": "markdown",
      "metadata": {},
      "source": [
        "## Preprocessing"
      ]
    },
    {
      "cell_type": "markdown",
      "metadata": {},
      "source": [
        "### 1. Check for missing values"
      ]
    },
    {
      "cell_type": "code",
      "execution_count": 525,
      "metadata": {},
      "outputs": [
        {
          "data": {
            "text/html": [
              "<div>\n",
              "<style scoped>\n",
              "    .dataframe tbody tr th:only-of-type {\n",
              "        vertical-align: middle;\n",
              "    }\n",
              "\n",
              "    .dataframe tbody tr th {\n",
              "        vertical-align: top;\n",
              "    }\n",
              "\n",
              "    .dataframe thead th {\n",
              "        text-align: right;\n",
              "    }\n",
              "</style>\n",
              "<table border=\"1\" class=\"dataframe\">\n",
              "  <thead>\n",
              "    <tr style=\"text-align: right;\">\n",
              "      <th></th>\n",
              "      <th>col</th>\n",
              "      <th>num_missing</th>\n",
              "      <th>missing_pcnt</th>\n",
              "    </tr>\n",
              "  </thead>\n",
              "  <tbody>\n",
              "    <tr>\n",
              "      <th>0</th>\n",
              "      <td>gameid</td>\n",
              "      <td>0</td>\n",
              "      <td>0.00</td>\n",
              "    </tr>\n",
              "    <tr>\n",
              "      <th>1</th>\n",
              "      <td>title</td>\n",
              "      <td>0</td>\n",
              "      <td>0.00</td>\n",
              "    </tr>\n",
              "    <tr>\n",
              "      <th>2</th>\n",
              "      <td>developers</td>\n",
              "      <td>6205</td>\n",
              "      <td>1.44</td>\n",
              "    </tr>\n",
              "    <tr>\n",
              "      <th>3</th>\n",
              "      <td>publishers</td>\n",
              "      <td>7630</td>\n",
              "      <td>1.77</td>\n",
              "    </tr>\n",
              "    <tr>\n",
              "      <th>4</th>\n",
              "      <td>genres</td>\n",
              "      <td>7390</td>\n",
              "      <td>1.71</td>\n",
              "    </tr>\n",
              "    <tr>\n",
              "      <th>5</th>\n",
              "      <td>supported_languages</td>\n",
              "      <td>788505</td>\n",
              "      <td>182.53</td>\n",
              "    </tr>\n",
              "    <tr>\n",
              "      <th>6</th>\n",
              "      <td>release_date</td>\n",
              "      <td>0</td>\n",
              "      <td>0.00</td>\n",
              "    </tr>\n",
              "    <tr>\n",
              "      <th>7</th>\n",
              "      <td>achievementid</td>\n",
              "      <td>890</td>\n",
              "      <td>0.21</td>\n",
              "    </tr>\n",
              "    <tr>\n",
              "      <th>8</th>\n",
              "      <td>achievement_title</td>\n",
              "      <td>920</td>\n",
              "      <td>0.21</td>\n",
              "    </tr>\n",
              "    <tr>\n",
              "      <th>9</th>\n",
              "      <td>achievement_description</td>\n",
              "      <td>89240</td>\n",
              "      <td>20.66</td>\n",
              "    </tr>\n",
              "    <tr>\n",
              "      <th>10</th>\n",
              "      <td>platform</td>\n",
              "      <td>0</td>\n",
              "      <td>0.00</td>\n",
              "    </tr>\n",
              "    <tr>\n",
              "      <th>11</th>\n",
              "      <td>currency</td>\n",
              "      <td>0</td>\n",
              "      <td>0.00</td>\n",
              "    </tr>\n",
              "    <tr>\n",
              "      <th>12</th>\n",
              "      <td>price</td>\n",
              "      <td>567285</td>\n",
              "      <td>131.32</td>\n",
              "    </tr>\n",
              "  </tbody>\n",
              "</table>\n",
              "</div>"
            ],
            "text/plain": [
              "                        col  num_missing  missing_pcnt\n",
              "0                    gameid            0          0.00\n",
              "1                     title            0          0.00\n",
              "2                developers         6205          1.44\n",
              "3                publishers         7630          1.77\n",
              "4                    genres         7390          1.71\n",
              "5       supported_languages       788505        182.53\n",
              "6              release_date            0          0.00\n",
              "7             achievementid          890          0.21\n",
              "8         achievement_title          920          0.21\n",
              "9   achievement_description        89240         20.66\n",
              "10                 platform            0          0.00\n",
              "11                 currency            0          0.00\n",
              "12                    price       567285        131.32"
            ]
          },
          "execution_count": 525,
          "metadata": {},
          "output_type": "execute_result"
        }
      ],
      "source": [
        "# count missing values per column\n",
        "null_counts = tidy_game_info.isnull().sum().reset_index()\n",
        "null_counts.columns = [\"col\", \"num_missing\"]\n",
        "null_counts[\"missing_pcnt\"] = round((null_counts[\"num_missing\"] / len(merged_game_info)) * 100, 2)\n",
        "\n",
        "null_counts"
      ]
    },
    {
      "cell_type": "markdown",
      "metadata": {},
      "source": [
        "#### Here’s how we decide to handle missing values effectively [Used GPT-4o for tailoring to table format]:\n",
        "\n",
        "**Columns with Minor Missing Data (< 5%)**\n",
        "| Column | Missing % | Suggested Action |\n",
        "|---------|----------|-----------------|\n",
        "| **developers** | 0.27% | Fill with \"unknown\" to maintain consistency. |\n",
        "| **publishers** | 1.38% | Fill with \"unknown\" for completeness. |\n",
        "| **genres** | 0.43% | Fill with \"unknown\", since games without a genre classification are rare. |\n",
        "| **achievementid** | 0.69% | Likely an error or missing achievements, can be kept as NaN. |\n",
        "| **achievement_title** | 0.69% | Likely corresponds to missing achievementid, can be kept as NaN. |\n",
        "\n",
        "- **Action: Fill developers, publishers, and genres with \"unknown\", and leave missing achievements as NaN.**\n",
        "\n",
        "---\n",
        "\n",
        "**Columns with Moderate Missing Data (5% - 30%)**\n",
        "| Column | Missing % | Suggested Action |\n",
        "|---------|----------|-----------------|\n",
        "| **supported_languages** | 27.35% | Keep as NaN, since language availability is an actual missing feature. |\n",
        "\n",
        "- **Action: Keep supported_languages as NaN, since not all games support multiple languages. We don't want to introduce incorrect data.**\n",
        "\n",
        "---\n",
        "\n",
        "**Columns with High Missing Data (> 50%)**\n",
        "| Column | Missing % | Suggested Action |\n",
        "|---------|----------|-----------------|\n",
        "| **achievement_description** | 69.11% | Fill missing values with \"unknown\". |\n",
        "| **price** | 71.58% | Keep as NaN—missing prices could indicate unavailable data, regional limitations, or discontinued games. |\n",
        "\n",
        "**Action:**\n",
        "- **Fill achievement_description with \"No description available\"** to avoid empty fields.\n",
        "- **Keep price as NaN**, since forcing imputation could lead to inaccurate pricing."
      ]
    },
    {
      "cell_type": "code",
      "execution_count": 526,
      "metadata": {},
      "outputs": [
        {
          "name": "stderr",
          "output_type": "stream",
          "text": [
            "/var/folders/sd/5vy204s55_ggyjh65z1tlxg00000gn/T/ipykernel_43239/1875302043.py:2: FutureWarning: A value is trying to be set on a copy of a DataFrame or Series through chained assignment using an inplace method.\n",
            "The behavior will change in pandas 3.0. This inplace method will never work because the intermediate object on which we are setting values always behaves as a copy.\n",
            "\n",
            "For example, when doing 'df[col].method(value, inplace=True)', try using 'df.method({col: value}, inplace=True)' or df[col] = df[col].method(value) instead, to perform the operation inplace on the original object.\n",
            "\n",
            "\n",
            "  tidy_game_info[\"developers\"].fillna(\"unknown\", inplace=True)\n",
            "/var/folders/sd/5vy204s55_ggyjh65z1tlxg00000gn/T/ipykernel_43239/1875302043.py:3: FutureWarning: A value is trying to be set on a copy of a DataFrame or Series through chained assignment using an inplace method.\n",
            "The behavior will change in pandas 3.0. This inplace method will never work because the intermediate object on which we are setting values always behaves as a copy.\n",
            "\n",
            "For example, when doing 'df[col].method(value, inplace=True)', try using 'df.method({col: value}, inplace=True)' or df[col] = df[col].method(value) instead, to perform the operation inplace on the original object.\n",
            "\n",
            "\n",
            "  tidy_game_info[\"publishers\"].fillna(\"unknown\", inplace=True)\n",
            "/var/folders/sd/5vy204s55_ggyjh65z1tlxg00000gn/T/ipykernel_43239/1875302043.py:4: FutureWarning: A value is trying to be set on a copy of a DataFrame or Series through chained assignment using an inplace method.\n",
            "The behavior will change in pandas 3.0. This inplace method will never work because the intermediate object on which we are setting values always behaves as a copy.\n",
            "\n",
            "For example, when doing 'df[col].method(value, inplace=True)', try using 'df.method({col: value}, inplace=True)' or df[col] = df[col].method(value) instead, to perform the operation inplace on the original object.\n",
            "\n",
            "\n",
            "  tidy_game_info[\"genres\"].fillna(\"unknown\", inplace=True)\n",
            "/var/folders/sd/5vy204s55_ggyjh65z1tlxg00000gn/T/ipykernel_43239/1875302043.py:5: FutureWarning: A value is trying to be set on a copy of a DataFrame or Series through chained assignment using an inplace method.\n",
            "The behavior will change in pandas 3.0. This inplace method will never work because the intermediate object on which we are setting values always behaves as a copy.\n",
            "\n",
            "For example, when doing 'df[col].method(value, inplace=True)', try using 'df.method({col: value}, inplace=True)' or df[col] = df[col].method(value) instead, to perform the operation inplace on the original object.\n",
            "\n",
            "\n",
            "  tidy_game_info[\"achievement_description\"].fillna(\"unknown\", inplace=True)\n"
          ]
        }
      ],
      "source": [
        "# fill missing values for categorical text columns\n",
        "tidy_game_info[\"developers\"].fillna(\"unknown\", inplace=True)\n",
        "tidy_game_info[\"publishers\"].fillna(\"unknown\", inplace=True)\n",
        "tidy_game_info[\"genres\"].fillna(\"unknown\", inplace=True)\n",
        "tidy_game_info[\"achievement_description\"].fillna(\"unknown\", inplace=True)"
      ]
    },
    {
      "cell_type": "markdown",
      "metadata": {},
      "source": [
        "## 2. Multi-valued cols"
      ]
    },
    {
      "cell_type": "code",
      "execution_count": 527,
      "metadata": {},
      "outputs": [
        {
          "data": {
            "text/html": [
              "<div>\n",
              "<style scoped>\n",
              "    .dataframe tbody tr th:only-of-type {\n",
              "        vertical-align: middle;\n",
              "    }\n",
              "\n",
              "    .dataframe tbody tr th {\n",
              "        vertical-align: top;\n",
              "    }\n",
              "\n",
              "    .dataframe thead th {\n",
              "        text-align: right;\n",
              "    }\n",
              "</style>\n",
              "<table border=\"1\" class=\"dataframe\">\n",
              "  <thead>\n",
              "    <tr style=\"text-align: right;\">\n",
              "      <th></th>\n",
              "      <th>gameid</th>\n",
              "      <th>title</th>\n",
              "      <th>developers</th>\n",
              "      <th>publishers</th>\n",
              "      <th>genres</th>\n",
              "      <th>supported_languages</th>\n",
              "      <th>release_date</th>\n",
              "      <th>achievementid</th>\n",
              "      <th>achievement_title</th>\n",
              "      <th>achievement_description</th>\n",
              "      <th>platform</th>\n",
              "      <th>currency</th>\n",
              "      <th>price</th>\n",
              "    </tr>\n",
              "  </thead>\n",
              "  <tbody>\n",
              "    <tr>\n",
              "      <th>2114175</th>\n",
              "      <td>750641</td>\n",
              "      <td>Nine Sols</td>\n",
              "      <td>['Red Candle Games']</td>\n",
              "      <td>['Red Candle Games']</td>\n",
              "      <td>['Platformer', 'Metroidvania']</td>\n",
              "      <td>NaN</td>\n",
              "      <td>2024-11-26</td>\n",
              "      <td>750641_6111986</td>\n",
              "      <td>I'm Coming for You, Old Friend</td>\n",
              "      <td>Defeat Yingzhao.</td>\n",
              "      <td>xb</td>\n",
              "      <td>rub</td>\n",
              "      <td>2664.00</td>\n",
              "    </tr>\n",
              "    <tr>\n",
              "      <th>1780954</th>\n",
              "      <td>453048</td>\n",
              "      <td>Catlateral Damage: Remeowstered</td>\n",
              "      <td>['Manekoware']</td>\n",
              "      <td>['Manekoware']</td>\n",
              "      <td>['Action']</td>\n",
              "      <td>NaN</td>\n",
              "      <td>2021-09-15</td>\n",
              "      <td>453048_4073695</td>\n",
              "      <td>Photo Collector</td>\n",
              "      <td>Collect 100 photos</td>\n",
              "      <td>ps</td>\n",
              "      <td>rub</td>\n",
              "      <td>929.00</td>\n",
              "    </tr>\n",
              "    <tr>\n",
              "      <th>1628908</th>\n",
              "      <td>549724</td>\n",
              "      <td>Starsand</td>\n",
              "      <td>['Tunnel Vision Studio', 'Fantastico Studio']</td>\n",
              "      <td>['Toplitz Productions']</td>\n",
              "      <td>['Survival']</td>\n",
              "      <td>NaN</td>\n",
              "      <td>2022-11-17</td>\n",
              "      <td>549724_4595583</td>\n",
              "      <td>Been there, done death</td>\n",
              "      <td>Experience death for the first time</td>\n",
              "      <td>xb</td>\n",
              "      <td>jpy</td>\n",
              "      <td>NaN</td>\n",
              "    </tr>\n",
              "    <tr>\n",
              "      <th>64929</th>\n",
              "      <td>410964</td>\n",
              "      <td>One Finger Death Punch 2</td>\n",
              "      <td>['Silver Dollar Games']</td>\n",
              "      <td>['Silver Dollar Games']</td>\n",
              "      <td>['Indie']</td>\n",
              "      <td>NaN</td>\n",
              "      <td>2020-09-30</td>\n",
              "      <td>410964_3745419</td>\n",
              "      <td>I'm the Real Boss</td>\n",
              "      <td>Kill 250 bosses</td>\n",
              "      <td>ps</td>\n",
              "      <td>usd</td>\n",
              "      <td>8.99</td>\n",
              "    </tr>\n",
              "    <tr>\n",
              "      <th>97496</th>\n",
              "      <td>17564</td>\n",
              "      <td>Embers of Mirrim</td>\n",
              "      <td>['Creative Bytes Studios']</td>\n",
              "      <td>['Creative Bytes Studios']</td>\n",
              "      <td>['Indie']</td>\n",
              "      <td>['French', 'Spanish', 'German', 'Italian']</td>\n",
              "      <td>2017-05-23</td>\n",
              "      <td>17564_172886</td>\n",
              "      <td>Rim's Power</td>\n",
              "      <td>Gain the power of Dark Embers</td>\n",
              "      <td>ps</td>\n",
              "      <td>usd</td>\n",
              "      <td>14.99</td>\n",
              "    </tr>\n",
              "  </tbody>\n",
              "</table>\n",
              "</div>"
            ],
            "text/plain": [
              "         gameid                            title  \\\n",
              "2114175  750641                        Nine Sols   \n",
              "1780954  453048  Catlateral Damage: Remeowstered   \n",
              "1628908  549724                         Starsand   \n",
              "64929    410964         One Finger Death Punch 2   \n",
              "97496     17564                 Embers of Mirrim   \n",
              "\n",
              "                                            developers  \\\n",
              "2114175                           ['Red Candle Games']   \n",
              "1780954                                 ['Manekoware']   \n",
              "1628908  ['Tunnel Vision Studio', 'Fantastico Studio']   \n",
              "64929                          ['Silver Dollar Games']   \n",
              "97496                       ['Creative Bytes Studios']   \n",
              "\n",
              "                         publishers                          genres  \\\n",
              "2114175        ['Red Candle Games']  ['Platformer', 'Metroidvania']   \n",
              "1780954              ['Manekoware']                      ['Action']   \n",
              "1628908     ['Toplitz Productions']                    ['Survival']   \n",
              "64929       ['Silver Dollar Games']                       ['Indie']   \n",
              "97496    ['Creative Bytes Studios']                       ['Indie']   \n",
              "\n",
              "                                supported_languages release_date  \\\n",
              "2114175                                         NaN   2024-11-26   \n",
              "1780954                                         NaN   2021-09-15   \n",
              "1628908                                         NaN   2022-11-17   \n",
              "64929                                           NaN   2020-09-30   \n",
              "97496    ['French', 'Spanish', 'German', 'Italian']   2017-05-23   \n",
              "\n",
              "          achievementid               achievement_title  \\\n",
              "2114175  750641_6111986  I'm Coming for You, Old Friend   \n",
              "1780954  453048_4073695                 Photo Collector   \n",
              "1628908  549724_4595583          Been there, done death   \n",
              "64929    410964_3745419               I'm the Real Boss   \n",
              "97496      17564_172886                     Rim's Power   \n",
              "\n",
              "                     achievement_description platform currency    price  \n",
              "2114175                     Defeat Yingzhao.       xb      rub  2664.00  \n",
              "1780954                   Collect 100 photos       ps      rub   929.00  \n",
              "1628908  Experience death for the first time       xb      jpy      NaN  \n",
              "64929                        Kill 250 bosses       ps      usd     8.99  \n",
              "97496          Gain the power of Dark Embers       ps      usd    14.99  "
            ]
          },
          "execution_count": 527,
          "metadata": {},
          "output_type": "execute_result"
        }
      ],
      "source": [
        "tidy_game_info.sample(5)"
      ]
    },
    {
      "cell_type": "markdown",
      "metadata": {},
      "source": [
        "#### Handling Multi-Valued Columns in Our Dataset [Used GPT-4o for tailoring grammar]\n",
        "\n",
        "Our dataset contains multi-valued columns such as `developers`, `publishers`, `genres`, and `supported_languages`, which are stored as **list-like strings**. Instead of immediately expanding them into multiple rows (long format) or separate columns (one-hot encoding), we are **keeping them in their original format** for the following reasons:\n",
        "\n",
        "1. **Data Integrity & Storage Efficiency**  \n",
        "   - Expanding these fields would significantly increase row count, making storage and initial processing heavier.\n",
        "   - Keeping them as lists allows us to preserve all information within a single row per game.\n",
        "\n",
        "2. **Flexibility for Future Analysis**  \n",
        "   - At later stages, we may **apply one-hot encoding** to `genres` and `supported_languages` for categorical analysis.  \n",
        "   - Alternatively, we can derive **summary features** such as:\n",
        "     - **Number of genres per game**\n",
        "     - **Number of supported languages**\n",
        "     - **Unique count of developers/publishers**\n",
        "   - These derived features will allow for a more structured comparison across games.\n",
        "\n",
        "By postponing transformation, we maintain efficiency while keeping the option open for structured feature extraction when needed.\n"
      ]
    },
    {
      "cell_type": "code",
      "execution_count": 528,
      "metadata": {},
      "outputs": [],
      "source": [
        "# tidy_game_info_noids = tidy_game_info.drop(columns=['gameid', 'achievementid'], inplace=True)"
      ]
    },
    {
      "cell_type": "markdown",
      "metadata": {},
      "source": [
        "## More notes on further merging\n",
        "\n",
        "Our current **tidy dataset** focuses solely on game-related information. To enrich the analysis, we plan additional merges with player data to uncover insights about game popularity, completion rates, and player demographics.\n",
        "\n",
        "### Planned Merges & Insights\n",
        "1. **Game Popularity Analysis**  \n",
        "   - Merge with `purchased_games.csv` (for each platform) to **count the number of players who own each game**.\n",
        "   - This helps identify **best-selling games** and platform-specific purchase trends.\n",
        "\n",
        "2. **Game Completion Rates**  \n",
        "   - Merge with `history.csv` to **track when players earn end-game achievements**.\n",
        "   - Calculate the **average time to completion** and **percentage of players finishing a game**.\n",
        "   - Investigate if certain **genres have higher completion rates** (e.g., RPGs vs. casual games).\n",
        "  \n",
        "3. **Pricing & Sales Relationship:**  \n",
        "   - Merge `prices.csv` to analyze how **price fluctuations impact purchases**.\n",
        "  \n",
        "4. **Cross-Platform Player Behavior:**  \n",
        "   - Identify players who own **the same game across multiple platforms** to study cross-platform engagement.\n",
        "   - Merge with `players.csv` and **cluster by country** to analyze **regional gaming preferences**.\n"
      ]
    },
    {
      "cell_type": "markdown",
      "metadata": {
        "id": "OclGBxfoQVPc"
      },
      "source": [
        "## Data Visualization\n",
        "> Be sure to include interpretations of your visualizations -- what patterns or anomalies do you see?\n"
      ]
    },
    {
      "cell_type": "markdown",
      "metadata": {},
      "source": [
        "### Price Distribution of Shared Games Across Platforms\n",
        "\n",
        "Interpretation: \n",
        "- The majority of shared games are priced between 5 to 25 USD.\n",
        "- Games on Steam are generally priced the lowest, while Xbox games tend to be priced higher compared to the other two platforms."
      ]
    },
    {
      "cell_type": "code",
      "execution_count": 529,
      "metadata": {},
      "outputs": [
        {
          "data": {
            "image/png": "[encoded data removed]",
            "text/plain": [
              "<Figure size 1000x600 with 1 Axes>"
            ]
          },
          "metadata": {},
          "output_type": "display_data"
        }
      ],
      "source": [
        "### Boxplot visualizing the distribution of game prices (in USD) across platforms\n",
        "\n",
        "# Convert prices to USD\n",
        "exchange_rates = {\n",
        "    'eur': 1.08, \n",
        "    'gbp': 1.29, \n",
        "    'jpy': 0.0067,\n",
        "    'rub': 0.012, \n",
        "    'usd': 1.0\n",
        "}\n",
        "\n",
        "tidy_game_info['price_usd'] = tidy_game_info.apply(\n",
        "    lambda row: row['price'] * exchange_rates.get(row['currency'].lower(), 1.0), axis=1\n",
        ")\n",
        "\n",
        "# Visualize price distribution across platforms\n",
        "plt.figure(figsize=(10, 6))\n",
        "sns.boxplot(x='platform', y='price_usd', hue='platform', data=tidy_game_info, palette='Set2', legend=False)\n",
        "\n",
        "plt.title(\"Game Prices Across Platforms (in USD)\")\n",
        "plt.xlabel(\"Platform\")\n",
        "plt.ylabel(\"Price (USD)\")\n",
        "plt.tight_layout()\n",
        "plt.show()"
      ]
    },
    {
      "cell_type": "markdown",
      "metadata": {},
      "source": [
        "### Number of Achievements Distribution of Shared Games Across Platforms\n",
        "\n",
        "Interpretation:\n",
        "- The number of achievements per game typically stays below 50, with a few outliers over 1000.\n",
        "- PlayStation games generally feature more achievements than games on other platforms."
      ]
    },
    {
      "cell_type": "code",
      "execution_count": 530,
      "metadata": {},
      "outputs": [
        {
          "name": "stdout",
          "output_type": "stream",
          "text": [
            "count    10398.000000\n",
            "mean        41.527890\n",
            "std         61.519762\n",
            "min          0.000000\n",
            "25%         19.000000\n",
            "50%         31.000000\n",
            "75%         50.000000\n",
            "max       4820.000000\n",
            "Name: achievements_per_game, dtype: float64\n"
          ]
        },
        {
          "data": {
            "image/png": "[encoded data removed]",
            "text/plain": [
              "<Figure size 1000x600 with 1 Axes>"
            ]
          },
          "metadata": {},
          "output_type": "display_data"
        }
      ],
      "source": [
        "### Boxplot visualizing the distribution of the number of achievements per game across platform\n",
        "\n",
        "achievements_per_game = tidy_game_info.groupby([\"title\", \"platform\"])[\"achievementid\"].nunique().reset_index()\n",
        "achievements_per_game.rename(columns={\"achievementid\": \"achievements_per_game\"}, inplace=True)\n",
        "\n",
        "print(achievements_per_game['achievements_per_game'].describe())\n",
        "\n",
        "plt.figure(figsize=(10, 6))\n",
        "sns.boxplot(x='platform', y='achievements_per_game', hue='platform', data=achievements_per_game, palette='Set2', legend=False)\n",
        "\n",
        "plt.title(\"Number of Achievements per Game Across Platforms\")\n",
        "plt.xlabel(\"Platform\")\n",
        "plt.ylabel(\"Number of Achievements per Game\")\n",
        "plt.yscale('log')\n",
        "plt.tight_layout()\n",
        "plt.show()"
      ]
    },
    {
      "cell_type": "markdown",
      "metadata": {},
      "source": [
        "### Distribution of Top 10 Popular Genres of Shared Games Across Platforms\n",
        "\n",
        "Interpretation: \n",
        "- The Top 10 popular genres of the shared games across platforms are Indie, Adventure, Action, RPG, Simulation, Strategy, Platformer, Casual, Turn Based, and Puzzle.\n",
        "- Steam games cover the majority of the top 10 popular genres, with the highest percentages in genres like Indie, Adventure, Action, Simulation, and Casual."
      ]
    },
    {
      "cell_type": "code",
      "execution_count": 535,
      "metadata": {},
      "outputs": [
        {
          "name": "stdout",
          "output_type": "stream",
          "text": [
            "platform          ps         st        xb\n",
            "genres                                   \n",
            "Indie       7.111988  21.286433  5.377374\n",
            "Adventure   7.651840  15.989195  9.944078\n",
            "Action      3.637378  21.155339  7.477222\n",
            "RPG         7.748229   7.982374  7.204869\n",
            "Simulation  3.650442   7.894061  4.251958\n",
            "Strategy    3.224986   6.535450  3.247911\n",
            "Platformer  7.419870   0.000000  4.897708\n",
            "Casual      0.308587   9.025932  0.375719\n",
            "Turn Based  4.603744   0.000000  4.152657\n",
            "Puzzle      4.182173   0.000000  3.135834\n"
          ]
        },
        {
          "data": {
            "text/plain": [
              "<Figure size 1200x800 with 0 Axes>"
            ]
          },
          "metadata": {},
          "output_type": "display_data"
        },
        {
          "data": {
            "image/png": "[encoded data removed]",
            "text/plain": [
              "<Figure size 1200x800 with 1 Axes>"
            ]
          },
          "metadata": {},
          "output_type": "display_data"
        }
      ],
      "source": [
        "### Stacked barplot visualizing the distribution of the top 10 genres across different platforms\n",
        "\n",
        "# Clean and explode genres into separate rows\n",
        "tidy_game_info['genres'] = tidy_game_info['genres'].apply(lambda x: x.strip(\"[]\").replace(\"'\", '').split(', ') if isinstance(x, str) else x)\n",
        "tidy_game_info = tidy_game_info.explode('genres')  \n",
        "\n",
        "# Replace 'Role Playing' genre with 'RPG' genre\n",
        "tidy_game_info['genres'] = tidy_game_info['genres'].replace({'Role Playing': 'RPG'})\n",
        "\n",
        "# Normalize genre counts by the total number of games on each platform\n",
        "total_games_per_platform = tidy_game_info['platform'].value_counts()\n",
        "genre_counts_per_platform = tidy_game_info.groupby(['platform', 'genres']).size().reset_index(name='count')\n",
        "genre_counts_per_platform['percentage'] = genre_counts_per_platform.apply(\n",
        "    lambda row: row['count'] / total_games_per_platform[row['platform']] * 100, axis=1\n",
        ")\n",
        "\n",
        "# Select top 10 genres\n",
        "top_10_genres = genre_counts_per_platform.groupby('genres')['percentage'].sum().sort_values(ascending=False).head(10).index\n",
        "top_10_genre_data = genre_counts_per_platform[genre_counts_per_platform['genres'].isin(top_10_genres)]\n",
        "\n",
        "tidy_game_info['genres'] = tidy_game_info['genres'].replace({'Role Playing': 'RPG'})\n",
        "# Pivot the data to prepare for stacking by platform with genres on the x-axis\n",
        "top_10_genre_data_pivot = top_10_genre_data.pivot_table(\n",
        "    index='genres', columns='platform', values='percentage', aggfunc='sum', fill_value=0\n",
        ")\n",
        "top_10_genre_data_pivot = top_10_genre_data_pivot.loc[top_10_genres]\n",
        "print(top_10_genre_data_pivot)\n",
        "\n",
        "# Create a stacked bar plot\n",
        "plt.figure(figsize=(12, 8))\n",
        "top_10_genre_data_pivot.plot(kind='bar', stacked=True, figsize=(12, 8))\n",
        "\n",
        "plt.title('Top 10 Genre Distribution Across Platforms (Normalized by Total Games)')\n",
        "plt.xlabel('Genre')\n",
        "plt.ylabel('Percentage of Total Games')\n",
        "plt.xticks(rotation=45)\n",
        "plt.tight_layout()\n",
        "plt.show()"
      ]
    }
  ],
  "metadata": {
    "colab": {
      "provenance": []
    },
    "kernelspec": {
      "display_name": ".venv",
      "language": "python",
      "name": "python3"
    },
    "language_info": {
      "codemirror_mode": {
        "name": "ipython",
        "version": 3
      },
      "file_extension": ".py",
      "mimetype": "text/x-python",
      "name": "python",
      "nbconvert_exporter": "python",
      "pygments_lexer": "ipython3",
      "version": "3.11.9"
    }
  },
  "nbformat": 4,
  "nbformat_minor": 0
}
