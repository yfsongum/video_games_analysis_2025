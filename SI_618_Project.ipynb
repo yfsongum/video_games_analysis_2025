{
  "cells": [
    {
      "cell_type": "markdown",
      "metadata": {
        "id": "yfPJRLpyQTnG"
      },
      "source": [
        "# SI 618 WN Project Part I"
      ]
    },
    {
      "cell_type": "markdown",
      "metadata": {
        "id": "WN3jWuTDQjpX"
      },
      "source": [
        "## Project Title:\n",
        "> Provide a descriptive working title for your project.\n",
        "\n",
        "**Game Sales, Popularity, and Achievements: A Comparative Analysis Across Platforms**"
      ]
    },
    {
      "cell_type": "markdown",
      "metadata": {
        "id": "raGqyFicQ4Zw"
      },
      "source": [
        "## Team Members\n",
        "> List each team member and include their uniqname\n",
        "\n",
        "* Yufeng Song (yfsong)\n",
        "* Ziqi Wang (Venchy)\n",
        "* Muyu Lin (linmuyu)"
      ]
    },
    {
      "cell_type": "markdown",
      "metadata": {
        "id": "QcquQf5KQ_X7"
      },
      "source": [
        "## Overview\n",
        "> Give a high level description of your project\n",
        "\n",
        "Our project explores key trends in the gaming industry by analyzing data on game sales, player achievements, and platform preferences. We aim to understand how the same game performs across different platforms, how purchasing preferences vary across countries, and how game popularity evolves over time. Additionally, we will investigate the relationship between supported languages and sales, as well as the impact of pricing on game popularity across multiple platforms. By analyzing these factors, we hope to uncover insights into player behavior, market trends, and factors influencing game success."
      ]
    },
    {
      "cell_type": "markdown",
      "metadata": {
        "id": "x9oLjLuaREDo"
      },
      "source": [
        "## Motivation\n",
        "> Explain why you chose this particular topic for your project.\tInclude the three \"real-world\" questions that you generated about the data, and be sure to explain what you hope to learn by answering them.\n",
        "\n",
        "We chose this topic because gaming is a massive industry with a highly diverse audience, and understanding player preferences and market trends can provide valuable insights for developers, publishers, and gaming communities. Our project aims to answer the following real-world questions:\n",
        "\n",
        "1. **How do in-game achievements compare across different platforms for the same game?**\n",
        "\n",
        "  - By analyzing achievement data, we aim to understand whether players engage with a game differently depending on the platform they use. This could reveal differences in play styles, game difficulty adjustments, or platform-specific engagement trends.\n",
        "\n",
        "2. **How do game purchase preferences vary by country and active playtime?**\n",
        "\n",
        "  - We seek to determine whether purchasing behaviors differ based on regional preferences and player engagement levels. Understanding this can help developers tailor their marketing strategies and optimize game pricing for different audiences.\n",
        "\n",
        "3. **How has the popularity of different game types changed over time?**\n",
        "\n",
        "  - By tracking shifts in game genre popularity over time, we hope to uncover trends that indicate the rise and fall of specific genres. This insight could be useful for predicting future market demands and guiding game development strategies.\n",
        "\n",
        "By answering these questions, we hope to gain a deeper understanding of the gaming landscape, helping stakeholders make data-driven decisions about game development, pricing, and distribution strategies."
      ]
    },
    {
      "cell_type": "markdown",
      "metadata": {
        "id": "K7C9NO8rRJVm"
      },
      "source": [
        "## Data Sources\n",
        "> List the two (or more) sources of data that you'll be using.  Provide URLs where appropriate.\t**Explain how the two (or more) datasets complement each other.**\n",
        "\n",
        "1. https://www.kaggle.com/datasets/artyomkruglov/gaming-profiles-2025-steam-playstation-xbox\n",
        "\n",
        "2. https://github.com/Smipe-a/gamestatshub\n",
        "\n",
        "- This Gaming Profiles Data from Kaggle include **game** and **player** data from three different **platforms**, PlayStation, Steam, and Xbox.\n",
        "- For each platform, the **player** and **game** data is complemented by **achievement** data. The relationships between players, games, and achievements are one-to-many: each player can play multiple games, and each game can have multiple achievements.\n",
        "- Data from the three platforms can be combined based on **game titles** to analyze shared games across platforms."
      ]
    },
    {
      "cell_type": "markdown",
      "metadata": {
        "id": "0YtT1IrhRNua"
      },
      "source": [
        "## Data Description\n",
        "> List the variables of interest, the size of the data sets, missing values, etc.\n",
        "\n",
        "### Common Datasets Across 3 Platforms & Variables of Interest:\n",
        "\n",
        "#### Player Metadata\n",
        "- **players.csv**: platform-specific `playerid` and `country` (Xbox data lacks country column)\n",
        "- **purchased_games.csv** lists players' purchased games, with:\n",
        "    - `playerid`\n",
        "    - `libarary`: a list of games the player bought.\n",
        "- **history.csv**: when the player unlocked the achievement.\n",
        "    - `playerid`\n",
        "    - `achievementid`\n",
        "    - `date_acquired`\n",
        "\n",
        "#### Game Metadata\n",
        "- **games.csv**: game details such as `genres`, `developers`, `publishers`, `supported_language`, and `release_date`.\n",
        "- **achievements.csv** maps achievements to their respective game, with:\n",
        "    - `achievementid` combines the uniqe game id on the platform and the achievement id within the game\n",
        "    - `gameid`\n",
        "    - `title`\n",
        "    - `description`\n",
        "- **prices.csv**: games' price in various currencies, with `date_acquired` indicating the date when the price was recorded."
      ]
    },
    {
      "cell_type": "markdown",
      "metadata": {
        "id": "E5HpR2qjRRle"
      },
      "source": [
        "## Data Manipulation\n",
        "> Mostly code in this section.  This is where you merge your data sets, as well as create new columns (if appropriate)\n",
        "\n",
        "#### Merged Datasets Explained - Flattened Table For Raw Analysis\n",
        "- Platform-Specific Datasets:\n",
        "    - Player-Info Dataset: merged on `playerid`\n",
        "    - Game-Info Dataset: merged on `gameid`\n",
        "- Cross-Platform Game Dataset: merged on game `title` to combine shared game data from all three platforms.\n",
        "\n",
        "\n",
        "**Notes**: duplicated gameid/playerid after merge due to the one-to-many relationship between players, games, and achievements. "
      ]
    },
    {
      "cell_type": "code",
      "execution_count": 66,
      "metadata": {
        "id": "lUJY9fwwQVGD"
      },
      "outputs": [],
      "source": [
        "import pandas as pd\n",
        "import numpy as np\n",
        "import matplotlib.pyplot as plt\n",
        "import seaborn as sns"
      ]
    },
    {
      "cell_type": "markdown",
      "metadata": {},
      "source": [
        "## PS"
      ]
    },
    {
      "cell_type": "code",
      "execution_count": 192,
      "metadata": {},
      "outputs": [
        {
          "name": "stdout",
          "output_type": "stream",
          "text": [
            "ps_purchased_games - shape: (46582, 2)\n",
            "ps_history - shape: (19510083, 3)\n",
            "ps_prices - shape: (62816, 7)\n",
            "ps_players - shape: (356600, 3)\n",
            "ps_games - shape: (23151, 8)\n",
            "ps_achievements - shape: (846563, 5)\n"
          ]
        }
      ],
      "source": [
        "import os\n",
        "\n",
        "PS_DATA_FOLDER = \"data/ps\"\n",
        "\n",
        "dfs = {}\n",
        "\n",
        "for root, dirs, files in os.walk(PS_DATA_FOLDER):\n",
        "    for file in files:\n",
        "        if file.endswith(\".csv\"):\n",
        "            file_path = os.path.join(root, file)\n",
        "            df_name = f\"{os.path.basename(root)}_{file.replace('.csv', '')}\".replace('.csv', '')  # Clean name\n",
        "            dfs[df_name] = pd.read_csv(file_path)\n",
        "\n",
        "for name, df in dfs.items():\n",
        "    print(f\"{name} - shape: {df.shape}\")"
      ]
    },
    {
      "cell_type": "code",
      "execution_count": null,
      "metadata": {},
      "outputs": [
        {
          "name": "stdout",
          "output_type": "stream",
          "text": [
            "0\n",
            "32095\n",
            "0\n",
            "0\n",
            "0\n"
          ]
        }
      ],
      "source": [
        "ps_achievements = dfs['ps_achievements']\n",
        "ps_games = dfs['ps_games']\n",
        "ps_history = dfs['ps_history']\n",
        "ps_players = dfs['ps_players']\n",
        "ps_prices = dfs['ps_prices']\n",
        "ps_purchased_games = dfs['ps_purchased_games']\n",
        "\n",
        "# check duplicates\n",
        "print(ps_games.duplicated(subset=[\"gameid\"]).sum())\n",
        "print(ps_prices.duplicated(subset=[\"gameid\"]).sum())\n",
        "print(ps_achievements.duplicated(subset=[\"achievementid\"]).sum())\n",
        "print(ps_players.duplicated(subset=[\"playerid\"]).sum())\n",
        "print(ps_purchased_games.duplicated(subset=[\"playerid\"]).sum())"
      ]
    },
    {
      "cell_type": "code",
      "execution_count": null,
      "metadata": {},
      "outputs": [
        {
          "data": {
            "text/plain": [
              "gameid\n",
              "726666    3\n",
              "723091    3\n",
              "727730    3\n",
              "727729    3\n",
              "728792    3\n",
              "         ..\n",
              "421567    2\n",
              "421164    2\n",
              "421153    2\n",
              "421368    2\n",
              "423969    2\n",
              "Name: count, Length: 30721, dtype: int64"
            ]
          },
          "execution_count": 195,
          "metadata": {},
          "output_type": "execute_result"
        }
      ],
      "source": [
        "ps_prices['gameid'].value_counts()"
      ]
    },
    {
      "cell_type": "code",
      "execution_count": 196,
      "metadata": {},
      "outputs": [
        {
          "data": {
            "text/html": [
              "<div>\n",
              "<style scoped>\n",
              "    .dataframe tbody tr th:only-of-type {\n",
              "        vertical-align: middle;\n",
              "    }\n",
              "\n",
              "    .dataframe tbody tr th {\n",
              "        vertical-align: top;\n",
              "    }\n",
              "\n",
              "    .dataframe thead th {\n",
              "        text-align: right;\n",
              "    }\n",
              "</style>\n",
              "<table border=\"1\" class=\"dataframe\">\n",
              "  <thead>\n",
              "    <tr style=\"text-align: right;\">\n",
              "      <th></th>\n",
              "      <th>gameid</th>\n",
              "      <th>usd</th>\n",
              "      <th>eur</th>\n",
              "      <th>gbp</th>\n",
              "      <th>jpy</th>\n",
              "      <th>rub</th>\n",
              "      <th>date_acquired</th>\n",
              "    </tr>\n",
              "  </thead>\n",
              "  <tbody>\n",
              "    <tr>\n",
              "      <th>20167</th>\n",
              "      <td>726666</td>\n",
              "      <td>6.99</td>\n",
              "      <td>6.99</td>\n",
              "      <td>5.79</td>\n",
              "      <td>1100.0</td>\n",
              "      <td>NaN</td>\n",
              "      <td>2025-02-22</td>\n",
              "    </tr>\n",
              "    <tr>\n",
              "      <th>50835</th>\n",
              "      <td>726666</td>\n",
              "      <td>6.99</td>\n",
              "      <td>6.99</td>\n",
              "      <td>5.79</td>\n",
              "      <td>1100.0</td>\n",
              "      <td>NaN</td>\n",
              "      <td>2025-02-25</td>\n",
              "    </tr>\n",
              "    <tr>\n",
              "      <th>52307</th>\n",
              "      <td>726666</td>\n",
              "      <td>6.99</td>\n",
              "      <td>6.99</td>\n",
              "      <td>5.79</td>\n",
              "      <td>1100.0</td>\n",
              "      <td>NaN</td>\n",
              "      <td>2025-02-24</td>\n",
              "    </tr>\n",
              "  </tbody>\n",
              "</table>\n",
              "</div>"
            ],
            "text/plain": [
              "       gameid   usd   eur   gbp     jpy  rub date_acquired\n",
              "20167  726666  6.99  6.99  5.79  1100.0  NaN    2025-02-22\n",
              "50835  726666  6.99  6.99  5.79  1100.0  NaN    2025-02-25\n",
              "52307  726666  6.99  6.99  5.79  1100.0  NaN    2025-02-24"
            ]
          },
          "execution_count": 196,
          "metadata": {},
          "output_type": "execute_result"
        }
      ],
      "source": [
        "ps_prices[ps_prices['gameid'] == 726666]"
      ]
    },
    {
      "cell_type": "code",
      "execution_count": 208,
      "metadata": {},
      "outputs": [
        {
          "name": "stdout",
          "output_type": "stream",
          "text": [
            "0\n"
          ]
        }
      ],
      "source": [
        "# for each gameid, keep only the most recent price entry\n",
        "ps_prices = ps_prices.sort_values(\"date_acquired\").drop_duplicates(subset=[\"gameid\"], keep=\"last\")\n",
        "print(ps_prices.duplicated(subset=[\"gameid\"]).sum())"
      ]
    },
    {
      "cell_type": "markdown",
      "metadata": {},
      "source": [
        "### Player focus"
      ]
    },
    {
      "cell_type": "code",
      "execution_count": 213,
      "metadata": {},
      "outputs": [],
      "source": [
        "ps_player_info = ps_players.merge(ps_history, on=\"playerid\", how=\"left\")"
      ]
    },
    {
      "cell_type": "code",
      "execution_count": 212,
      "metadata": {},
      "outputs": [],
      "source": [
        "ps_player_info = ps_player_info.merge(ps_achievements, on=\"achievementid\", how=\"left\")"
      ]
    },
    {
      "cell_type": "code",
      "execution_count": 168,
      "metadata": {},
      "outputs": [],
      "source": [
        "ps_player_info = ps_player_info.merge(ps_purchased_games, on=\"playerid\", how=\"left\")"
      ]
    },
    {
      "cell_type": "code",
      "execution_count": 169,
      "metadata": {},
      "outputs": [
        {
          "name": "stdout",
          "output_type": "stream",
          "text": [
            "<class 'pandas.core.frame.DataFrame'>\n",
            "RangeIndex: 19861683 entries, 0 to 19861682\n",
            "Data columns (total 10 columns):\n",
            " #   Column         Dtype  \n",
            "---  ------         -----  \n",
            " 0   playerid       int64  \n",
            " 1   nickname       object \n",
            " 2   country        object \n",
            " 3   achievementid  object \n",
            " 4   date_acquired  object \n",
            " 5   gameid         float64\n",
            " 6   title          object \n",
            " 7   description    object \n",
            " 8   rarity         object \n",
            " 9   library        object \n",
            "dtypes: float64(1), int64(1), object(8)\n",
            "memory usage: 1.5+ GB\n"
          ]
        }
      ],
      "source": [
        "ps_player_info.info()"
      ]
    },
    {
      "cell_type": "code",
      "execution_count": 170,
      "metadata": {},
      "outputs": [
        {
          "data": {
            "text/html": [
              "<div>\n",
              "<style scoped>\n",
              "    .dataframe tbody tr th:only-of-type {\n",
              "        vertical-align: middle;\n",
              "    }\n",
              "\n",
              "    .dataframe tbody tr th {\n",
              "        vertical-align: top;\n",
              "    }\n",
              "\n",
              "    .dataframe thead th {\n",
              "        text-align: right;\n",
              "    }\n",
              "</style>\n",
              "<table border=\"1\" class=\"dataframe\">\n",
              "  <thead>\n",
              "    <tr style=\"text-align: right;\">\n",
              "      <th></th>\n",
              "      <th>playerid</th>\n",
              "      <th>nickname</th>\n",
              "      <th>country</th>\n",
              "      <th>achievementid</th>\n",
              "      <th>date_acquired</th>\n",
              "      <th>gameid</th>\n",
              "      <th>title</th>\n",
              "      <th>description</th>\n",
              "      <th>rarity</th>\n",
              "      <th>library</th>\n",
              "    </tr>\n",
              "  </thead>\n",
              "  <tbody>\n",
              "    <tr>\n",
              "      <th>10249753</th>\n",
              "      <td>1938676</td>\n",
              "      <td>petie170</td>\n",
              "      <td>Belgium</td>\n",
              "      <td>141933_2609420</td>\n",
              "      <td>2021-07-24 19:37:38</td>\n",
              "      <td>141933.0</td>\n",
              "      <td>Double Down</td>\n",
              "      <td>Beat Tucker Morgan, the Offroad  champ, in the...</td>\n",
              "      <td>Silver</td>\n",
              "      <td>[756211, 682504, 755124, 406327, 618499, 55030...</td>\n",
              "    </tr>\n",
              "    <tr>\n",
              "      <th>15586577</th>\n",
              "      <td>2676012</td>\n",
              "      <td>Mike_Opilot</td>\n",
              "      <td>United States</td>\n",
              "      <td>490129_4301266</td>\n",
              "      <td>2023-12-22 22:59:39</td>\n",
              "      <td>490129.0</td>\n",
              "      <td>Living Your Car Life</td>\n",
              "      <td>Started the first Menu Book.</td>\n",
              "      <td>Bronze</td>\n",
              "      <td>[519939, 707901, 11019, 165840, 14603, 608466,...</td>\n",
              "    </tr>\n",
              "    <tr>\n",
              "      <th>687077</th>\n",
              "      <td>299803</td>\n",
              "      <td>NewYorkUgly</td>\n",
              "      <td>Canada</td>\n",
              "      <td>9311_111077</td>\n",
              "      <td>2020-09-25 01:16:40</td>\n",
              "      <td>9311.0</td>\n",
              "      <td>A Blade of Memory</td>\n",
              "      <td>Destroy all Teeth, Balloons and Jack-In-The-Bo...</td>\n",
              "      <td>Bronze</td>\n",
              "      <td>[755124, 702257, 591550, 546924, 668727, 7690,...</td>\n",
              "    </tr>\n",
              "    <tr>\n",
              "      <th>15375171</th>\n",
              "      <td>1937020</td>\n",
              "      <td>lirawapo</td>\n",
              "      <td>Mexico</td>\n",
              "      <td>670209_5436077</td>\n",
              "      <td>2024-04-26 11:52:17</td>\n",
              "      <td>670209.0</td>\n",
              "      <td>Abaddon</td>\n",
              "      <td>Defeated Abaddon.</td>\n",
              "      <td>Bronze</td>\n",
              "      <td>[717169, 417808, 670209, 550305, 10939, 755124...</td>\n",
              "    </tr>\n",
              "    <tr>\n",
              "      <th>13468353</th>\n",
              "      <td>315008</td>\n",
              "      <td>SpecimenLove</td>\n",
              "      <td>United Kingdom</td>\n",
              "      <td>479_5852</td>\n",
              "      <td>2011-08-09 20:03:22</td>\n",
              "      <td>479.0</td>\n",
              "      <td>Breadwinner</td>\n",
              "      <td>Earn the top score objective in any level</td>\n",
              "      <td>Silver</td>\n",
              "      <td>[20571, 403080, 404720, 20793, 330726, 10423, ...</td>\n",
              "    </tr>\n",
              "  </tbody>\n",
              "</table>\n",
              "</div>"
            ],
            "text/plain": [
              "          playerid      nickname         country   achievementid  \\\n",
              "10249753   1938676      petie170         Belgium  141933_2609420   \n",
              "15586577   2676012   Mike_Opilot   United States  490129_4301266   \n",
              "687077      299803   NewYorkUgly          Canada     9311_111077   \n",
              "15375171   1937020      lirawapo          Mexico  670209_5436077   \n",
              "13468353    315008  SpecimenLove  United Kingdom        479_5852   \n",
              "\n",
              "                date_acquired    gameid                 title  \\\n",
              "10249753  2021-07-24 19:37:38  141933.0           Double Down   \n",
              "15586577  2023-12-22 22:59:39  490129.0  Living Your Car Life   \n",
              "687077    2020-09-25 01:16:40    9311.0     A Blade of Memory   \n",
              "15375171  2024-04-26 11:52:17  670209.0               Abaddon   \n",
              "13468353  2011-08-09 20:03:22     479.0           Breadwinner   \n",
              "\n",
              "                                                description  rarity  \\\n",
              "10249753  Beat Tucker Morgan, the Offroad  champ, in the...  Silver   \n",
              "15586577                       Started the first Menu Book.  Bronze   \n",
              "687077    Destroy all Teeth, Balloons and Jack-In-The-Bo...  Bronze   \n",
              "15375171                                  Defeated Abaddon.  Bronze   \n",
              "13468353          Earn the top score objective in any level  Silver   \n",
              "\n",
              "                                                    library  \n",
              "10249753  [756211, 682504, 755124, 406327, 618499, 55030...  \n",
              "15586577  [519939, 707901, 11019, 165840, 14603, 608466,...  \n",
              "687077    [755124, 702257, 591550, 546924, 668727, 7690,...  \n",
              "15375171  [717169, 417808, 670209, 550305, 10939, 755124...  \n",
              "13468353  [20571, 403080, 404720, 20793, 330726, 10423, ...  "
            ]
          },
          "execution_count": 170,
          "metadata": {},
          "output_type": "execute_result"
        }
      ],
      "source": [
        "ps_player_info.sample(5)"
      ]
    },
    {
      "cell_type": "markdown",
      "metadata": {},
      "source": [
        "### Game focus\n",
        "date_acquired column is dropped as it indicates the timestamp when the price info was extracted from multiple databases and do not add helpful insights to our analysis."
      ]
    },
    {
      "cell_type": "code",
      "execution_count": 214,
      "metadata": {},
      "outputs": [],
      "source": [
        "ps_game_info = ps_games.merge(ps_achievements.rename(columns={'title': 'achievement_title'}), on=\"gameid\", how=\"left\")"
      ]
    },
    {
      "cell_type": "code",
      "execution_count": 215,
      "metadata": {},
      "outputs": [],
      "source": [
        "ps_game_info = ps_game_info.merge(ps_prices, on=\"gameid\", how=\"left\")"
      ]
    },
    {
      "cell_type": "code",
      "execution_count": 216,
      "metadata": {},
      "outputs": [],
      "source": [
        "ps_game_info = ps_game_info.drop(columns=['date_acquired'])"
      ]
    },
    {
      "cell_type": "code",
      "execution_count": 217,
      "metadata": {},
      "outputs": [],
      "source": [
        "ps_game_info.rename(columns={'platform': 'PS_platform'}, inplace=True)"
      ]
    },
    {
      "cell_type": "code",
      "execution_count": 218,
      "metadata": {},
      "outputs": [],
      "source": [
        "ps_game_info.rename(columns={'description': 'achievement_description'}, inplace=True)"
      ]
    },
    {
      "cell_type": "code",
      "execution_count": 219,
      "metadata": {},
      "outputs": [
        {
          "name": "stdout",
          "output_type": "stream",
          "text": [
            "<class 'pandas.core.frame.DataFrame'>\n",
            "RangeIndex: 626958 entries, 0 to 626957\n",
            "Data columns (total 17 columns):\n",
            " #   Column                   Non-Null Count   Dtype  \n",
            "---  ------                   --------------   -----  \n",
            " 0   gameid                   626958 non-null  int64  \n",
            " 1   title                    626958 non-null  object \n",
            " 2   PS_platform              626958 non-null  object \n",
            " 3   developers               626416 non-null  object \n",
            " 4   publishers               626624 non-null  object \n",
            " 5   genres                   623044 non-null  object \n",
            " 6   supported_languages      319860 non-null  object \n",
            " 7   release_date             626958 non-null  object \n",
            " 8   achievementid            626958 non-null  object \n",
            " 9   achievement_title        626954 non-null  object \n",
            " 10  achievement_description  626942 non-null  object \n",
            " 11  rarity                   626958 non-null  object \n",
            " 12  usd                      535794 non-null  float64\n",
            " 13  eur                      508924 non-null  float64\n",
            " 14  gbp                      530459 non-null  float64\n",
            " 15  jpy                      258082 non-null  float64\n",
            " 16  rub                      125368 non-null  float64\n",
            "dtypes: float64(5), int64(1), object(11)\n",
            "memory usage: 81.3+ MB\n"
          ]
        }
      ],
      "source": [
        "ps_game_info.info()"
      ]
    },
    {
      "cell_type": "markdown",
      "metadata": {},
      "source": [
        "PS-only cols: rarity, PS_platform"
      ]
    },
    {
      "cell_type": "code",
      "execution_count": 220,
      "metadata": {},
      "outputs": [
        {
          "data": {
            "text/html": [
              "<div>\n",
              "<style scoped>\n",
              "    .dataframe tbody tr th:only-of-type {\n",
              "        vertical-align: middle;\n",
              "    }\n",
              "\n",
              "    .dataframe tbody tr th {\n",
              "        vertical-align: top;\n",
              "    }\n",
              "\n",
              "    .dataframe thead th {\n",
              "        text-align: right;\n",
              "    }\n",
              "</style>\n",
              "<table border=\"1\" class=\"dataframe\">\n",
              "  <thead>\n",
              "    <tr style=\"text-align: right;\">\n",
              "      <th></th>\n",
              "      <th>gameid</th>\n",
              "      <th>title</th>\n",
              "      <th>PS_platform</th>\n",
              "      <th>developers</th>\n",
              "      <th>publishers</th>\n",
              "      <th>genres</th>\n",
              "      <th>supported_languages</th>\n",
              "      <th>release_date</th>\n",
              "      <th>achievementid</th>\n",
              "      <th>achievement_title</th>\n",
              "      <th>achievement_description</th>\n",
              "      <th>rarity</th>\n",
              "      <th>usd</th>\n",
              "      <th>eur</th>\n",
              "      <th>gbp</th>\n",
              "      <th>jpy</th>\n",
              "      <th>rub</th>\n",
              "    </tr>\n",
              "  </thead>\n",
              "  <tbody>\n",
              "    <tr>\n",
              "      <th>77513</th>\n",
              "      <td>613296</td>\n",
              "      <td>Hidden Shapes: Cat Realm + Trick Or Cats</td>\n",
              "      <td>PS4</td>\n",
              "      <td>['YAW Studios']</td>\n",
              "      <td>['QUByte Interactive']</td>\n",
              "      <td>['Puzzle', 'Collection']</td>\n",
              "      <td>NaN</td>\n",
              "      <td>2023-08-17</td>\n",
              "      <td>613296_5049459</td>\n",
              "      <td>HSTC - 01</td>\n",
              "      <td>Win 1st star in the puzzle - 01 and 02</td>\n",
              "      <td>Bronze</td>\n",
              "      <td>4.99</td>\n",
              "      <td>4.99</td>\n",
              "      <td>3.99</td>\n",
              "      <td>660.0</td>\n",
              "      <td>NaN</td>\n",
              "    </tr>\n",
              "    <tr>\n",
              "      <th>483073</th>\n",
              "      <td>557641</td>\n",
              "      <td>Quiz Thiz USA: Bronze Edition</td>\n",
              "      <td>PS5</td>\n",
              "      <td>['ThiGames']</td>\n",
              "      <td>['ThiGames']</td>\n",
              "      <td>['Educational &amp; Trivia']</td>\n",
              "      <td>NaN</td>\n",
              "      <td>2022-11-26</td>\n",
              "      <td>557641_4665452</td>\n",
              "      <td>Answer 60 questions wrong</td>\n",
              "      <td>Answer 60 questions wrong</td>\n",
              "      <td>Bronze</td>\n",
              "      <td>2.49</td>\n",
              "      <td>2.49</td>\n",
              "      <td>1.99</td>\n",
              "      <td>330.0</td>\n",
              "      <td>NaN</td>\n",
              "    </tr>\n",
              "    <tr>\n",
              "      <th>446250</th>\n",
              "      <td>609590</td>\n",
              "      <td>Double Dragon Gaiden : Rise of the Dragons</td>\n",
              "      <td>PS4</td>\n",
              "      <td>['Secret Base']</td>\n",
              "      <td>['Maximum Games', 'Modus Games', 'NiuGamer']</td>\n",
              "      <td>[\"Beat 'em up\"]</td>\n",
              "      <td>['Japanese', 'French', 'Spanish', 'German', 'I...</td>\n",
              "      <td>2023-07-27</td>\n",
              "      <td>609590_5025533</td>\n",
              "      <td>Beat'em Up</td>\n",
              "      <td>Special KO 3000 enemies across multiple sessions</td>\n",
              "      <td>Gold</td>\n",
              "      <td>24.99</td>\n",
              "      <td>24.99</td>\n",
              "      <td>19.99</td>\n",
              "      <td>NaN</td>\n",
              "      <td>1789.0</td>\n",
              "    </tr>\n",
              "    <tr>\n",
              "      <th>385550</th>\n",
              "      <td>695466</td>\n",
              "      <td>Monster Jam Showdown</td>\n",
              "      <td>PS4</td>\n",
              "      <td>['Milestone']</td>\n",
              "      <td>['Milestone']</td>\n",
              "      <td>['Automobile', 'Arcade Racing']</td>\n",
              "      <td>['Japanese', 'French', 'German', 'Italian', 'C...</td>\n",
              "      <td>2024-08-29</td>\n",
              "      <td>695466_5616274</td>\n",
              "      <td>Loads of Checkmarks</td>\n",
              "      <td>Complete 15 secondary objectives.</td>\n",
              "      <td>Bronze</td>\n",
              "      <td>24.99</td>\n",
              "      <td>24.99</td>\n",
              "      <td>22.49</td>\n",
              "      <td>5830.0</td>\n",
              "      <td>3579.0</td>\n",
              "    </tr>\n",
              "    <tr>\n",
              "      <th>101117</th>\n",
              "      <td>573324</td>\n",
              "      <td>DreadOut 2</td>\n",
              "      <td>PS5</td>\n",
              "      <td>['Digital Happiness']</td>\n",
              "      <td>['Digerati']</td>\n",
              "      <td>['Survival Horror']</td>\n",
              "      <td>NaN</td>\n",
              "      <td>2022-07-20</td>\n",
              "      <td>573324_4768505</td>\n",
              "      <td>Night Rider</td>\n",
              "      <td>Complete \"Ghost Rider\"</td>\n",
              "      <td>Gold</td>\n",
              "      <td>13.99</td>\n",
              "      <td>19.99</td>\n",
              "      <td>15.99</td>\n",
              "      <td>3300.0</td>\n",
              "      <td>NaN</td>\n",
              "    </tr>\n",
              "  </tbody>\n",
              "</table>\n",
              "</div>"
            ],
            "text/plain": [
              "        gameid                                       title PS_platform  \\\n",
              "77513   613296    Hidden Shapes: Cat Realm + Trick Or Cats         PS4   \n",
              "483073  557641               Quiz Thiz USA: Bronze Edition         PS5   \n",
              "446250  609590  Double Dragon Gaiden : Rise of the Dragons         PS4   \n",
              "385550  695466                        Monster Jam Showdown         PS4   \n",
              "101117  573324                                  DreadOut 2         PS5   \n",
              "\n",
              "                   developers                                    publishers  \\\n",
              "77513         ['YAW Studios']                        ['QUByte Interactive']   \n",
              "483073           ['ThiGames']                                  ['ThiGames']   \n",
              "446250        ['Secret Base']  ['Maximum Games', 'Modus Games', 'NiuGamer']   \n",
              "385550          ['Milestone']                                 ['Milestone']   \n",
              "101117  ['Digital Happiness']                                  ['Digerati']   \n",
              "\n",
              "                                 genres  \\\n",
              "77513          ['Puzzle', 'Collection']   \n",
              "483073         ['Educational & Trivia']   \n",
              "446250                  [\"Beat 'em up\"]   \n",
              "385550  ['Automobile', 'Arcade Racing']   \n",
              "101117              ['Survival Horror']   \n",
              "\n",
              "                                      supported_languages release_date  \\\n",
              "77513                                                 NaN   2023-08-17   \n",
              "483073                                                NaN   2022-11-26   \n",
              "446250  ['Japanese', 'French', 'Spanish', 'German', 'I...   2023-07-27   \n",
              "385550  ['Japanese', 'French', 'German', 'Italian', 'C...   2024-08-29   \n",
              "101117                                                NaN   2022-07-20   \n",
              "\n",
              "         achievementid          achievement_title  \\\n",
              "77513   613296_5049459                  HSTC - 01   \n",
              "483073  557641_4665452  Answer 60 questions wrong   \n",
              "446250  609590_5025533                 Beat'em Up   \n",
              "385550  695466_5616274        Loads of Checkmarks   \n",
              "101117  573324_4768505                Night Rider   \n",
              "\n",
              "                                 achievement_description  rarity    usd  \\\n",
              "77513             Win 1st star in the puzzle - 01 and 02  Bronze   4.99   \n",
              "483073                         Answer 60 questions wrong  Bronze   2.49   \n",
              "446250  Special KO 3000 enemies across multiple sessions    Gold  24.99   \n",
              "385550                 Complete 15 secondary objectives.  Bronze  24.99   \n",
              "101117                            Complete \"Ghost Rider\"    Gold  13.99   \n",
              "\n",
              "          eur    gbp     jpy     rub  \n",
              "77513    4.99   3.99   660.0     NaN  \n",
              "483073   2.49   1.99   330.0     NaN  \n",
              "446250  24.99  19.99     NaN  1789.0  \n",
              "385550  24.99  22.49  5830.0  3579.0  \n",
              "101117  19.99  15.99  3300.0     NaN  "
            ]
          },
          "execution_count": 220,
          "metadata": {},
          "output_type": "execute_result"
        }
      ],
      "source": [
        "ps_game_info.sample(5)"
      ]
    },
    {
      "cell_type": "code",
      "execution_count": 221,
      "metadata": {},
      "outputs": [
        {
          "data": {
            "text/plain": [
              "achievementid\n",
              "749375_6098396    1\n",
              "650405_5312282    1\n",
              "650406_5312373    1\n",
              "650406_5312374    1\n",
              "650406_5312375    1\n",
              "                 ..\n",
              "336965_3248824    1\n",
              "336965_3248825    1\n",
              "336965_3248826    1\n",
              "336965_3248827    1\n",
              "7593_93460        1\n",
              "Name: count, Length: 626958, dtype: int64"
            ]
          },
          "execution_count": 221,
          "metadata": {},
          "output_type": "execute_result"
        }
      ],
      "source": [
        "ps_game_info['achievementid'].value_counts()"
      ]
    },
    {
      "cell_type": "markdown",
      "metadata": {},
      "source": [
        "## Steam"
      ]
    },
    {
      "cell_type": "code",
      "execution_count": 223,
      "metadata": {},
      "outputs": [
        {
          "name": "stdout",
          "output_type": "stream",
          "text": [
            "steam_purchased_games - shape: (102548, 2)\n",
            "steam_reviews - shape: (1204534, 8)\n",
            "steam_history - shape: (10693879, 3)\n",
            "steam_friends - shape: (424683, 2)\n",
            "steam_prices - shape: (4414273, 7)\n",
            "steam_players - shape: (424683, 3)\n",
            "steam_games - shape: (98248, 7)\n",
            "steam_private_steamids - shape: (227963, 1)\n",
            "steam_achievements - shape: (1939027, 4)\n"
          ]
        }
      ],
      "source": [
        "import os\n",
        "import pandas as pd\n",
        "\n",
        "STEAM_DATA_FOLDER = \"data/steam\"\n",
        "\n",
        "dfs = {}\n",
        "\n",
        "for root, dirs, files in os.walk(STEAM_DATA_FOLDER):\n",
        "    for file in files:\n",
        "        if file.endswith(\".csv\"):\n",
        "            file_path = os.path.join(root, file)\n",
        "            df_name = f\"{os.path.basename(root)}_{file.replace('.csv', '')}\".replace('.csv', '')  # Clean name\n",
        "            dfs[df_name] = pd.read_csv(file_path)\n",
        "\n",
        "for name, df in dfs.items():\n",
        "    print(f\"{name} - shape: {df.shape}\")\n"
      ]
    },
    {
      "cell_type": "code",
      "execution_count": 224,
      "metadata": {},
      "outputs": [
        {
          "name": "stdout",
          "output_type": "stream",
          "text": [
            "0\n",
            "4315808\n",
            "0\n",
            "0\n",
            "0\n"
          ]
        }
      ],
      "source": [
        "steam_achievements = dfs['steam_achievements']\n",
        "steam_games = dfs['steam_games']\n",
        "steam_history = dfs['steam_history']\n",
        "steam_players = dfs['steam_players']\n",
        "steam_prices = dfs['steam_prices']\n",
        "steam_purchased_games = dfs['steam_purchased_games']\n",
        "\n",
        "# check duplicates\n",
        "print(steam_games.duplicated(subset=[\"gameid\"]).sum())\n",
        "print(steam_prices.duplicated(subset=[\"gameid\"]).sum())\n",
        "print(steam_achievements.duplicated(subset=[\"achievementid\"]).sum())\n",
        "print(steam_players.duplicated(subset=[\"playerid\"]).sum())\n",
        "print(steam_purchased_games.duplicated(subset=[\"playerid\"]).sum())"
      ]
    },
    {
      "cell_type": "code",
      "execution_count": 225,
      "metadata": {},
      "outputs": [
        {
          "name": "stdout",
          "output_type": "stream",
          "text": [
            "0\n"
          ]
        }
      ],
      "source": [
        "# for each gameid, keep only the most recent price entry\n",
        "steam_prices = steam_prices.sort_values(\"date_acquired\").drop_duplicates(subset=[\"gameid\"], keep=\"last\")\n",
        "print(steam_prices.duplicated(subset=[\"gameid\"]).sum())"
      ]
    },
    {
      "cell_type": "markdown",
      "metadata": {},
      "source": [
        "### Player focus"
      ]
    },
    {
      "cell_type": "code",
      "execution_count": null,
      "metadata": {},
      "outputs": [],
      "source": [
        "st_player_info = steam_players.merge(steam_history, on=\"playerid\", how=\"left\")"
      ]
    },
    {
      "cell_type": "code",
      "execution_count": null,
      "metadata": {},
      "outputs": [],
      "source": [
        "st_player_info = st_player_info.merge(steam_achievements, on=\"achievementid\", how=\"left\")"
      ]
    },
    {
      "cell_type": "code",
      "execution_count": 85,
      "metadata": {},
      "outputs": [],
      "source": [
        "st_player_info = st_player_info.merge(steam_purchased_games, on=\"playerid\", how=\"left\")\n",
        "\n",
        "# # Save player-focused data\n",
        "# steam_player_info.to_csv('data/steam_players.csv', index=False)"
      ]
    },
    {
      "cell_type": "code",
      "execution_count": 86,
      "metadata": {},
      "outputs": [
        {
          "name": "stdout",
          "output_type": "stream",
          "text": [
            "<class 'pandas.core.frame.DataFrame'>\n",
            "RangeIndex: 11113724 entries, 0 to 11113723\n",
            "Data columns (total 9 columns):\n",
            " #   Column         Dtype  \n",
            "---  ------         -----  \n",
            " 0   playerid       int64  \n",
            " 1   country        object \n",
            " 2   created        object \n",
            " 3   achievementid  object \n",
            " 4   date_acquired  object \n",
            " 5   gameid         float64\n",
            " 6   title          object \n",
            " 7   description    object \n",
            " 8   library        object \n",
            "dtypes: float64(1), int64(1), object(7)\n",
            "memory usage: 763.1+ MB\n"
          ]
        }
      ],
      "source": [
        "st_player_info.info()"
      ]
    },
    {
      "cell_type": "code",
      "execution_count": 87,
      "metadata": {},
      "outputs": [
        {
          "data": {
            "text/plain": [
              "(11113724, 9)"
            ]
          },
          "execution_count": 87,
          "metadata": {},
          "output_type": "execute_result"
        }
      ],
      "source": [
        "st_player_info.shape"
      ]
    },
    {
      "cell_type": "code",
      "execution_count": 88,
      "metadata": {},
      "outputs": [
        {
          "data": {
            "text/html": [
              "<div>\n",
              "<style scoped>\n",
              "    .dataframe tbody tr th:only-of-type {\n",
              "        vertical-align: middle;\n",
              "    }\n",
              "\n",
              "    .dataframe tbody tr th {\n",
              "        vertical-align: top;\n",
              "    }\n",
              "\n",
              "    .dataframe thead th {\n",
              "        text-align: right;\n",
              "    }\n",
              "</style>\n",
              "<table border=\"1\" class=\"dataframe\">\n",
              "  <thead>\n",
              "    <tr style=\"text-align: right;\">\n",
              "      <th></th>\n",
              "      <th>playerid</th>\n",
              "      <th>country</th>\n",
              "      <th>created</th>\n",
              "      <th>achievementid</th>\n",
              "      <th>date_acquired</th>\n",
              "      <th>gameid</th>\n",
              "      <th>title</th>\n",
              "      <th>description</th>\n",
              "      <th>library</th>\n",
              "    </tr>\n",
              "  </thead>\n",
              "  <tbody>\n",
              "    <tr>\n",
              "      <th>0</th>\n",
              "      <td>76561198287452552</td>\n",
              "      <td>Brazil</td>\n",
              "      <td>2016-03-02 06:14:20</td>\n",
              "      <td>NaN</td>\n",
              "      <td>NaN</td>\n",
              "      <td>NaN</td>\n",
              "      <td>NaN</td>\n",
              "      <td>NaN</td>\n",
              "      <td>[10, 80, 100, 240, 2990, 6880, 6910, 6920, 698...</td>\n",
              "    </tr>\n",
              "    <tr>\n",
              "      <th>1</th>\n",
              "      <td>76561198040436563</td>\n",
              "      <td>Israel</td>\n",
              "      <td>2011-04-10 17:10:06</td>\n",
              "      <td>NaN</td>\n",
              "      <td>NaN</td>\n",
              "      <td>NaN</td>\n",
              "      <td>NaN</td>\n",
              "      <td>NaN</td>\n",
              "      <td>[10, 80, 100, 300, 20, 30, 40, 50, 60, 70, 130...</td>\n",
              "    </tr>\n",
              "    <tr>\n",
              "      <th>2</th>\n",
              "      <td>76561198049686270</td>\n",
              "      <td>NaN</td>\n",
              "      <td>2011-09-28 21:43:59</td>\n",
              "      <td>NaN</td>\n",
              "      <td>NaN</td>\n",
              "      <td>NaN</td>\n",
              "      <td>NaN</td>\n",
              "      <td>NaN</td>\n",
              "      <td>NaN</td>\n",
              "    </tr>\n",
              "    <tr>\n",
              "      <th>3</th>\n",
              "      <td>76561198155814250</td>\n",
              "      <td>Kazakhstan</td>\n",
              "      <td>2014-09-24 19:52:47</td>\n",
              "      <td>NaN</td>\n",
              "      <td>NaN</td>\n",
              "      <td>NaN</td>\n",
              "      <td>NaN</td>\n",
              "      <td>NaN</td>\n",
              "      <td>NaN</td>\n",
              "    </tr>\n",
              "    <tr>\n",
              "      <th>4</th>\n",
              "      <td>76561198119605821</td>\n",
              "      <td>NaN</td>\n",
              "      <td>2013-12-26 00:25:50</td>\n",
              "      <td>NaN</td>\n",
              "      <td>NaN</td>\n",
              "      <td>NaN</td>\n",
              "      <td>NaN</td>\n",
              "      <td>NaN</td>\n",
              "      <td>[47870, 108600, 550, 271590, 331470, 381210, 2...</td>\n",
              "    </tr>\n",
              "  </tbody>\n",
              "</table>\n",
              "</div>"
            ],
            "text/plain": [
              "            playerid     country              created achievementid  \\\n",
              "0  76561198287452552      Brazil  2016-03-02 06:14:20           NaN   \n",
              "1  76561198040436563      Israel  2011-04-10 17:10:06           NaN   \n",
              "2  76561198049686270         NaN  2011-09-28 21:43:59           NaN   \n",
              "3  76561198155814250  Kazakhstan  2014-09-24 19:52:47           NaN   \n",
              "4  76561198119605821         NaN  2013-12-26 00:25:50           NaN   \n",
              "\n",
              "  date_acquired  gameid title description  \\\n",
              "0           NaN     NaN   NaN         NaN   \n",
              "1           NaN     NaN   NaN         NaN   \n",
              "2           NaN     NaN   NaN         NaN   \n",
              "3           NaN     NaN   NaN         NaN   \n",
              "4           NaN     NaN   NaN         NaN   \n",
              "\n",
              "                                             library  \n",
              "0  [10, 80, 100, 240, 2990, 6880, 6910, 6920, 698...  \n",
              "1  [10, 80, 100, 300, 20, 30, 40, 50, 60, 70, 130...  \n",
              "2                                                NaN  \n",
              "3                                                NaN  \n",
              "4  [47870, 108600, 550, 271590, 331470, 381210, 2...  "
            ]
          },
          "execution_count": 88,
          "metadata": {},
          "output_type": "execute_result"
        }
      ],
      "source": [
        "st_player_info.head(5)"
      ]
    },
    {
      "cell_type": "markdown",
      "metadata": {},
      "source": [
        "### Game focus"
      ]
    },
    {
      "cell_type": "code",
      "execution_count": 227,
      "metadata": {},
      "outputs": [],
      "source": [
        "st_game_info = steam_games.merge(steam_achievements.rename(columns={'title': 'achievement_title'}), on=\"gameid\", how=\"left\")"
      ]
    },
    {
      "cell_type": "code",
      "execution_count": 228,
      "metadata": {},
      "outputs": [],
      "source": [
        "st_game_info = st_game_info.merge(steam_prices, on=\"gameid\", how=\"left\")"
      ]
    },
    {
      "cell_type": "code",
      "execution_count": 229,
      "metadata": {},
      "outputs": [],
      "source": [
        "st_game_info = st_game_info.drop(columns=['date_acquired'])"
      ]
    },
    {
      "cell_type": "code",
      "execution_count": 230,
      "metadata": {},
      "outputs": [],
      "source": [
        "st_game_info.rename(columns={'description': 'achievement_description'}, inplace=True)"
      ]
    },
    {
      "cell_type": "code",
      "execution_count": 231,
      "metadata": {},
      "outputs": [
        {
          "name": "stdout",
          "output_type": "stream",
          "text": [
            "<class 'pandas.core.frame.DataFrame'>\n",
            "RangeIndex: 1983659 entries, 0 to 1983658\n",
            "Data columns (total 15 columns):\n",
            " #   Column                   Dtype  \n",
            "---  ------                   -----  \n",
            " 0   gameid                   int64  \n",
            " 1   title                    object \n",
            " 2   developers               object \n",
            " 3   publishers               object \n",
            " 4   genres                   object \n",
            " 5   supported_languages      object \n",
            " 6   release_date             object \n",
            " 7   achievementid            object \n",
            " 8   achievement_title        object \n",
            " 9   achievement_description  object \n",
            " 10  usd                      float64\n",
            " 11  eur                      float64\n",
            " 12  gbp                      float64\n",
            " 13  jpy                      float64\n",
            " 14  rub                      float64\n",
            "dtypes: float64(5), int64(1), object(9)\n",
            "memory usage: 227.0+ MB\n"
          ]
        }
      ],
      "source": [
        "st_game_info.info()"
      ]
    },
    {
      "cell_type": "code",
      "execution_count": 232,
      "metadata": {},
      "outputs": [
        {
          "data": {
            "text/plain": [
              "(1983659, 15)"
            ]
          },
          "execution_count": 232,
          "metadata": {},
          "output_type": "execute_result"
        }
      ],
      "source": [
        "st_game_info.shape"
      ]
    },
    {
      "cell_type": "code",
      "execution_count": 234,
      "metadata": {},
      "outputs": [
        {
          "data": {
            "text/plain": [
              "achievementid\n",
              "3266470_ACHIEVEMENT_5_MINUTES    1\n",
              "2578790_Liquidator               1\n",
              "2578790_Space_Rebel              1\n",
              "2578790_Slugger                  1\n",
              "2578790_Sergeant                 1\n",
              "                                ..\n",
              "1098080_ACHIEVEMENT_9            1\n",
              "1098080_ACHIEVEMENT_8            1\n",
              "1098080_ACHIEVEMENT_7            1\n",
              "1098080_ACHIEVEMENT_6            1\n",
              "1499240_ROMANROCKS               1\n",
              "Name: count, Length: 1935882, dtype: int64"
            ]
          },
          "execution_count": 234,
          "metadata": {},
          "output_type": "execute_result"
        }
      ],
      "source": [
        "st_game_info['achievementid'].value_counts()"
      ]
    },
    {
      "cell_type": "markdown",
      "metadata": {},
      "source": [
        "## XBOX"
      ]
    },
    {
      "cell_type": "code",
      "execution_count": 238,
      "metadata": {},
      "outputs": [
        {
          "name": "stdout",
          "output_type": "stream",
          "text": [
            "xbox_purchased_games - shape: (46466, 2)\n",
            "xbox_history - shape: (15275900, 3)\n",
            "xbox_prices - shape: (22638, 7)\n",
            "xbox_players - shape: (274450, 2)\n",
            "xbox_games - shape: (10489, 7)\n",
            "xbox_achievements - shape: (351111, 5)\n"
          ]
        }
      ],
      "source": [
        "import os\n",
        "import pandas as pd\n",
        "\n",
        "XBOX_DATA_FOLDER = \"data/xbox\"\n",
        "\n",
        "dfs = {}\n",
        "\n",
        "for root, dirs, files in os.walk(XBOX_DATA_FOLDER):\n",
        "    for file in files:\n",
        "        if file.endswith(\".csv\"):\n",
        "            file_path = os.path.join(root, file)\n",
        "            df_name = f\"{os.path.basename(root)}_{file.replace('.csv', '')}\".replace('.csv', '')\n",
        "            dfs[df_name] = pd.read_csv(file_path)\n",
        "\n",
        "for name, df in dfs.items():\n",
        "    print(f\"{name} - shape: {df.shape}\")\n"
      ]
    },
    {
      "cell_type": "code",
      "execution_count": 239,
      "metadata": {},
      "outputs": [
        {
          "name": "stdout",
          "output_type": "stream",
          "text": [
            "0\n",
            "11319\n",
            "0\n",
            "0\n",
            "0\n"
          ]
        }
      ],
      "source": [
        "xbox_achievements = dfs['xbox_achievements']\n",
        "xbox_games = dfs['xbox_games']\n",
        "xbox_history = dfs['xbox_history']\n",
        "xbox_players = dfs['xbox_players']\n",
        "xbox_prices = dfs['xbox_prices']\n",
        "xbox_purchased_games = dfs['xbox_purchased_games']\n",
        "\n",
        "# check duplicates\n",
        "print(xbox_games.duplicated(subset=[\"gameid\"]).sum())\n",
        "print(xbox_prices.duplicated(subset=[\"gameid\"]).sum())\n",
        "print(xbox_achievements.duplicated(subset=[\"achievementid\"]).sum())\n",
        "print(xbox_players.duplicated(subset=[\"playerid\"]).sum())\n",
        "print(xbox_purchased_games.duplicated(subset=[\"playerid\"]).sum())"
      ]
    },
    {
      "cell_type": "code",
      "execution_count": 240,
      "metadata": {},
      "outputs": [
        {
          "name": "stdout",
          "output_type": "stream",
          "text": [
            "0\n"
          ]
        }
      ],
      "source": [
        "# for each gameid, keep only the most recent price entry\n",
        "xbox_prices = xbox_prices.sort_values(\"date_acquired\").drop_duplicates(subset=[\"gameid\"], keep=\"last\")\n",
        "print(xbox_prices.duplicated(subset=[\"gameid\"]).sum())"
      ]
    },
    {
      "cell_type": "markdown",
      "metadata": {},
      "source": [
        "### Player focus"
      ]
    },
    {
      "cell_type": "code",
      "execution_count": 97,
      "metadata": {},
      "outputs": [],
      "source": [
        "xb_player_info = xbox_players.merge(xbox_history, on=\"playerid\", how=\"left\")"
      ]
    },
    {
      "cell_type": "code",
      "execution_count": 98,
      "metadata": {},
      "outputs": [],
      "source": [
        "xb_player_info = xb_player_info.merge(xbox_achievements, on=\"achievementid\", how=\"left\")"
      ]
    },
    {
      "cell_type": "code",
      "execution_count": 99,
      "metadata": {},
      "outputs": [],
      "source": [
        "xb_player_info = xb_player_info.merge(xbox_purchased_games, on=\"playerid\", how=\"left\")"
      ]
    },
    {
      "cell_type": "code",
      "execution_count": 100,
      "metadata": {},
      "outputs": [
        {
          "name": "stdout",
          "output_type": "stream",
          "text": [
            "<class 'pandas.core.frame.DataFrame'>\n",
            "RangeIndex: 15545366 entries, 0 to 15545365\n",
            "Data columns (total 9 columns):\n",
            " #   Column         Dtype  \n",
            "---  ------         -----  \n",
            " 0   playerid       int64  \n",
            " 1   nickname       object \n",
            " 2   achievementid  object \n",
            " 3   date_acquired  object \n",
            " 4   gameid         float64\n",
            " 5   title          object \n",
            " 6   description    object \n",
            " 7   points         float64\n",
            " 8   library        object \n",
            "dtypes: float64(2), int64(1), object(6)\n",
            "memory usage: 1.0+ GB\n"
          ]
        }
      ],
      "source": [
        "xb_player_info.info()"
      ]
    },
    {
      "cell_type": "code",
      "execution_count": 101,
      "metadata": {},
      "outputs": [
        {
          "data": {
            "text/plain": [
              "(15545366, 9)"
            ]
          },
          "execution_count": 101,
          "metadata": {},
          "output_type": "execute_result"
        }
      ],
      "source": [
        "xb_player_info.shape"
      ]
    },
    {
      "cell_type": "markdown",
      "metadata": {},
      "source": [
        "### Game focus"
      ]
    },
    {
      "cell_type": "code",
      "execution_count": 241,
      "metadata": {},
      "outputs": [],
      "source": [
        "xb_game_info = xbox_games.merge(xbox_achievements.rename(columns={'title': 'achievement_title'}), on=\"gameid\", how=\"left\")"
      ]
    },
    {
      "cell_type": "code",
      "execution_count": 242,
      "metadata": {},
      "outputs": [],
      "source": [
        "xb_game_info = xb_game_info.merge(xbox_prices, on=\"gameid\", how=\"left\")"
      ]
    },
    {
      "cell_type": "code",
      "execution_count": 243,
      "metadata": {},
      "outputs": [],
      "source": [
        "xb_game_info = xb_game_info.drop(columns=['date_acquired', 'points'])"
      ]
    },
    {
      "cell_type": "code",
      "execution_count": 244,
      "metadata": {},
      "outputs": [],
      "source": [
        "xb_game_info.rename(columns={'description': 'achievement_description'}, inplace=True)"
      ]
    },
    {
      "cell_type": "code",
      "execution_count": 245,
      "metadata": {},
      "outputs": [
        {
          "name": "stdout",
          "output_type": "stream",
          "text": [
            "<class 'pandas.core.frame.DataFrame'>\n",
            "RangeIndex: 323038 entries, 0 to 323037\n",
            "Data columns (total 15 columns):\n",
            " #   Column                   Non-Null Count   Dtype  \n",
            "---  ------                   --------------   -----  \n",
            " 0   gameid                   323038 non-null  int64  \n",
            " 1   title                    323038 non-null  object \n",
            " 2   developers               304402 non-null  object \n",
            " 3   publishers               305059 non-null  object \n",
            " 4   genres                   304168 non-null  object \n",
            " 5   supported_languages      132805 non-null  object \n",
            " 6   release_date             323038 non-null  object \n",
            " 7   achievementid            323038 non-null  object \n",
            " 8   achievement_title        323037 non-null  object \n",
            " 9   achievement_description  322984 non-null  object \n",
            " 10  usd                      237247 non-null  float64\n",
            " 11  eur                      226837 non-null  float64\n",
            " 12  gbp                      234618 non-null  float64\n",
            " 13  jpy                      0 non-null       float64\n",
            " 14  rub                      210234 non-null  float64\n",
            "dtypes: float64(5), int64(1), object(9)\n",
            "memory usage: 37.0+ MB\n"
          ]
        }
      ],
      "source": [
        "xb_game_info.info()"
      ]
    },
    {
      "cell_type": "markdown",
      "metadata": {},
      "source": [
        "## Game Info Across Platforms"
      ]
    },
    {
      "cell_type": "code",
      "execution_count": 246,
      "metadata": {},
      "outputs": [
        {
          "data": {
            "text/plain": [
              "23151"
            ]
          },
          "execution_count": 246,
          "metadata": {},
          "output_type": "execute_result"
        }
      ],
      "source": [
        "len(ps_game_info['gameid'].unique())"
      ]
    },
    {
      "cell_type": "code",
      "execution_count": 247,
      "metadata": {},
      "outputs": [
        {
          "data": {
            "text/plain": [
              "98248"
            ]
          },
          "execution_count": 247,
          "metadata": {},
          "output_type": "execute_result"
        }
      ],
      "source": [
        "len(st_game_info['gameid'].unique())"
      ]
    },
    {
      "cell_type": "code",
      "execution_count": 248,
      "metadata": {},
      "outputs": [
        {
          "data": {
            "text/plain": [
              "10489"
            ]
          },
          "execution_count": 248,
          "metadata": {},
          "output_type": "execute_result"
        }
      ],
      "source": [
        "len(xb_game_info['gameid'].unique())"
      ]
    },
    {
      "cell_type": "code",
      "execution_count": 249,
      "metadata": {},
      "outputs": [
        {
          "name": "stdout",
          "output_type": "stream",
          "text": [
            "Shared titles between PS & ST: 5571\n",
            "Shared titles between PS & XB: 5360\n",
            "Shared titles between ST & XB: 5540\n",
            "Shared across all three: 3815\n"
          ]
        }
      ],
      "source": [
        "ps_titles = set(ps_game_info['title'].str.lower().str.strip())\n",
        "st_titles = set(st_game_info['title'].str.lower().str.strip())\n",
        "xb_titles = set(xb_game_info['title'].str.lower().str.strip())\n",
        "\n",
        "shared_ps_st = ps_titles.intersection(st_titles)\n",
        "shared_ps_xb = ps_titles.intersection(xb_titles)\n",
        "shared_st_xb = st_titles.intersection(xb_titles)\n",
        "shared_all = ps_titles.intersection(st_titles, xb_titles)\n",
        "\n",
        "print(f\"Shared titles between PS & ST: {len(shared_ps_st)}\")\n",
        "print(f\"Shared titles between PS & XB: {len(shared_ps_xb)}\")\n",
        "print(f\"Shared titles between ST & XB: {len(shared_st_xb)}\")\n",
        "print(f\"Shared across all three: {len(shared_all)}\")\n"
      ]
    },
    {
      "cell_type": "code",
      "execution_count": 250,
      "metadata": {},
      "outputs": [],
      "source": [
        "def clean_game_info(df, platform):\n",
        "    df = df.copy()\n",
        "    \n",
        "    # drop platform-specific columns (ps_game_info's 'rarity' and 'PS_platform')\n",
        "    drop_cols = ['date_acquired', 'rarity', 'PS_platform']\n",
        "    df = df.drop(columns=[col for col in drop_cols if col in df.columns], errors='ignore')\n",
        "\n",
        "    # add platform column\n",
        "    df['platform'] = platform\n",
        "    \n",
        "    return df"
      ]
    },
    {
      "cell_type": "code",
      "execution_count": 251,
      "metadata": {},
      "outputs": [],
      "source": [
        "ps_game_info_clean = clean_game_info(ps_game_info, 'ps')"
      ]
    },
    {
      "cell_type": "code",
      "execution_count": 252,
      "metadata": {},
      "outputs": [
        {
          "data": {
            "text/plain": [
              "Index(['gameid', 'title', 'developers', 'publishers', 'genres',\n",
              "       'supported_languages', 'release_date', 'achievementid',\n",
              "       'achievement_title', 'achievement_description', 'usd', 'eur', 'gbp',\n",
              "       'jpy', 'rub', 'platform'],\n",
              "      dtype='object')"
            ]
          },
          "execution_count": 252,
          "metadata": {},
          "output_type": "execute_result"
        }
      ],
      "source": [
        "ps_game_info_clean.columns"
      ]
    },
    {
      "cell_type": "code",
      "execution_count": 254,
      "metadata": {},
      "outputs": [],
      "source": [
        "st_game_info_clean = clean_game_info(st_game_info, 'st')"
      ]
    },
    {
      "cell_type": "code",
      "execution_count": 255,
      "metadata": {},
      "outputs": [
        {
          "data": {
            "text/plain": [
              "Index(['gameid', 'title', 'developers', 'publishers', 'genres',\n",
              "       'supported_languages', 'release_date', 'achievementid',\n",
              "       'achievement_title', 'achievement_description', 'usd', 'eur', 'gbp',\n",
              "       'jpy', 'rub', 'platform'],\n",
              "      dtype='object')"
            ]
          },
          "execution_count": 255,
          "metadata": {},
          "output_type": "execute_result"
        }
      ],
      "source": [
        "st_game_info_clean.columns"
      ]
    },
    {
      "cell_type": "code",
      "execution_count": 256,
      "metadata": {},
      "outputs": [],
      "source": [
        "xb_game_info_clean = clean_game_info(xb_game_info, 'xb')"
      ]
    },
    {
      "cell_type": "code",
      "execution_count": 257,
      "metadata": {},
      "outputs": [
        {
          "data": {
            "text/plain": [
              "Index(['gameid', 'title', 'developers', 'publishers', 'genres',\n",
              "       'supported_languages', 'release_date', 'achievementid',\n",
              "       'achievement_title', 'achievement_description', 'usd', 'eur', 'gbp',\n",
              "       'jpy', 'rub', 'platform'],\n",
              "      dtype='object')"
            ]
          },
          "execution_count": 257,
          "metadata": {},
          "output_type": "execute_result"
        }
      ],
      "source": [
        "xb_game_info_clean.columns"
      ]
    },
    {
      "cell_type": "code",
      "execution_count": 258,
      "metadata": {},
      "outputs": [
        {
          "name": "stdout",
          "output_type": "stream",
          "text": [
            "Merged dataset shape: (431985, 16)\n"
          ]
        }
      ],
      "source": [
        "shared_games = set(ps_game_info_clean['title']) & set(st_game_info_clean['title']) & set(xb_game_info_clean['title'])\n",
        "\n",
        "ps_game_info_clean = ps_game_info_clean[ps_game_info_clean['title'].isin(shared_games)]\n",
        "st_game_info_clean = st_game_info_clean[st_game_info_clean['title'].isin(shared_games)]\n",
        "xb_game_info_clean = xb_game_info_clean[xb_game_info_clean['title'].isin(shared_games)]\n",
        "\n",
        "merged_game_info = pd.concat([ps_game_info_clean, st_game_info_clean, xb_game_info_clean], ignore_index=True)\n",
        "\n",
        "print(f\"Merged dataset shape: {merged_game_info.shape}\")"
      ]
    },
    {
      "cell_type": "code",
      "execution_count": 259,
      "metadata": {},
      "outputs": [
        {
          "name": "stdout",
          "output_type": "stream",
          "text": [
            "<class 'pandas.core.frame.DataFrame'>\n",
            "RangeIndex: 431985 entries, 0 to 431984\n",
            "Data columns (total 16 columns):\n",
            " #   Column                   Non-Null Count   Dtype  \n",
            "---  ------                   --------------   -----  \n",
            " 0   gameid                   431985 non-null  int64  \n",
            " 1   title                    431985 non-null  object \n",
            " 2   developers               430744 non-null  object \n",
            " 3   publishers               430459 non-null  object \n",
            " 4   genres                   430507 non-null  object \n",
            " 5   supported_languages      274284 non-null  object \n",
            " 6   release_date             431985 non-null  object \n",
            " 7   achievementid            431807 non-null  object \n",
            " 8   achievement_title        431801 non-null  object \n",
            " 9   achievement_description  414137 non-null  object \n",
            " 10  usd                      398232 non-null  float64\n",
            " 11  eur                      386835 non-null  float64\n",
            " 12  gbp                      396497 non-null  float64\n",
            " 13  jpy                      186153 non-null  float64\n",
            " 14  rub                      224923 non-null  float64\n",
            " 15  platform                 431985 non-null  object \n",
            "dtypes: float64(5), int64(1), object(10)\n",
            "memory usage: 52.7+ MB\n"
          ]
        }
      ],
      "source": [
        "merged_game_info.info()"
      ]
    },
    {
      "cell_type": "markdown",
      "metadata": {},
      "source": [
        "## Long and Tidy Form\n",
        "A tidy dataset follows the principles:\n",
        "1. Each column is a single variable.\n",
        "2. Each row is a single observation.\n",
        "3. Each cell contains a single value.\n",
        "\n",
        "#### Issues with the current merged_game_info:\n",
        "- **We decide to leave it unchanged as our analysis will base on it**: The platform column is categorical, meaning the same game can appear multiple times (once per platform). This makes it long format.\n",
        "- Price columns (usd, eur, etc.) are separate instead of melted into a single column, which makes the dataset wide instead of long, which is not tidy."
      ]
    },
    {
      "cell_type": "code",
      "execution_count": 261,
      "metadata": {},
      "outputs": [],
      "source": [
        "# convert price columns into a long format\n",
        "tidy_game_info = merged_game_info.melt(\n",
        "    id_vars=[\n",
        "        \"gameid\", \"title\", \"developers\", \"publishers\", \"genres\",\n",
        "        \"supported_languages\", \"release_date\", \"achievementid\",\n",
        "        \"achievement_title\", \"achievement_description\", \"platform\"\n",
        "    ],\n",
        "    value_vars=[\"usd\", \"eur\", \"gbp\", \"jpy\", \"rub\"],\n",
        "    var_name=\"currency\",\n",
        "    value_name=\"price\"\n",
        ")"
      ]
    },
    {
      "cell_type": "code",
      "execution_count": 262,
      "metadata": {},
      "outputs": [
        {
          "data": {
            "text/plain": [
              "(2159925, 13)"
            ]
          },
          "execution_count": 262,
          "metadata": {},
          "output_type": "execute_result"
        }
      ],
      "source": [
        "tidy_game_info.shape"
      ]
    },
    {
      "cell_type": "code",
      "execution_count": 263,
      "metadata": {},
      "outputs": [
        {
          "name": "stdout",
          "output_type": "stream",
          "text": [
            "<class 'pandas.core.frame.DataFrame'>\n",
            "RangeIndex: 2159925 entries, 0 to 2159924\n",
            "Data columns (total 13 columns):\n",
            " #   Column                   Dtype  \n",
            "---  ------                   -----  \n",
            " 0   gameid                   int64  \n",
            " 1   title                    object \n",
            " 2   developers               object \n",
            " 3   publishers               object \n",
            " 4   genres                   object \n",
            " 5   supported_languages      object \n",
            " 6   release_date             object \n",
            " 7   achievementid            object \n",
            " 8   achievement_title        object \n",
            " 9   achievement_description  object \n",
            " 10  platform                 object \n",
            " 11  currency                 object \n",
            " 12  price                    float64\n",
            "dtypes: float64(1), int64(1), object(11)\n",
            "memory usage: 214.2+ MB\n"
          ]
        }
      ],
      "source": [
        "tidy_game_info.info()"
      ]
    },
    {
      "cell_type": "code",
      "execution_count": 264,
      "metadata": {},
      "outputs": [
        {
          "data": {
            "text/html": [
              "<div>\n",
              "<style scoped>\n",
              "    .dataframe tbody tr th:only-of-type {\n",
              "        vertical-align: middle;\n",
              "    }\n",
              "\n",
              "    .dataframe tbody tr th {\n",
              "        vertical-align: top;\n",
              "    }\n",
              "\n",
              "    .dataframe thead th {\n",
              "        text-align: right;\n",
              "    }\n",
              "</style>\n",
              "<table border=\"1\" class=\"dataframe\">\n",
              "  <thead>\n",
              "    <tr style=\"text-align: right;\">\n",
              "      <th></th>\n",
              "      <th>gameid</th>\n",
              "      <th>title</th>\n",
              "      <th>developers</th>\n",
              "      <th>publishers</th>\n",
              "      <th>genres</th>\n",
              "      <th>supported_languages</th>\n",
              "      <th>release_date</th>\n",
              "      <th>achievementid</th>\n",
              "      <th>achievement_title</th>\n",
              "      <th>achievement_description</th>\n",
              "      <th>platform</th>\n",
              "      <th>currency</th>\n",
              "      <th>price</th>\n",
              "    </tr>\n",
              "  </thead>\n",
              "  <tbody>\n",
              "    <tr>\n",
              "      <th>895685</th>\n",
              "      <td>558846</td>\n",
              "      <td>Neon White</td>\n",
              "      <td>['Ben Esposito']</td>\n",
              "      <td>['Annapurna Interactive']</td>\n",
              "      <td>['Platformer']</td>\n",
              "      <td>['Japanese', 'French', 'Spanish', 'German', 'I...</td>\n",
              "      <td>2022-12-13</td>\n",
              "      <td>558846_4677683</td>\n",
              "      <td>Mission 3 Complete</td>\n",
              "      <td>Complete Mission 3</td>\n",
              "      <td>ps</td>\n",
              "      <td>gbp</td>\n",
              "      <td>19.99</td>\n",
              "    </tr>\n",
              "    <tr>\n",
              "      <th>536466</th>\n",
              "      <td>11298</td>\n",
              "      <td>Rebel Galaxy</td>\n",
              "      <td>['Double Damage Games']</td>\n",
              "      <td>['Double Damage Games']</td>\n",
              "      <td>['strategy']</td>\n",
              "      <td>['Japanese', 'French', 'Spanish', 'Russian', '...</td>\n",
              "      <td>2016-01-05</td>\n",
              "      <td>11298_127630</td>\n",
              "      <td>Some Muscle</td>\n",
              "      <td>Hire a mercenary</td>\n",
              "      <td>ps</td>\n",
              "      <td>eur</td>\n",
              "      <td>19.99</td>\n",
              "    </tr>\n",
              "    <tr>\n",
              "      <th>686078</th>\n",
              "      <td>1021100</td>\n",
              "      <td>Aircraft Carrier Survival</td>\n",
              "      <td>['Gambit Games Studio', 'Creative Storm Entert...</td>\n",
              "      <td>['CreativeForge Games']</td>\n",
              "      <td>['Action', 'Indie', 'Strategy']</td>\n",
              "      <td>['English', 'French', 'German', 'Polish', 'Sim...</td>\n",
              "      <td>2022-04-20</td>\n",
              "      <td>1021100_NEW_ACHIEVEMENT_1_5</td>\n",
              "      <td>Warrant Officer</td>\n",
              "      <td>Finish the second chapter of the campaign.</td>\n",
              "      <td>st</td>\n",
              "      <td>eur</td>\n",
              "      <td>16.79</td>\n",
              "    </tr>\n",
              "    <tr>\n",
              "      <th>1181085</th>\n",
              "      <td>1545700</td>\n",
              "      <td>Guns N' Runs</td>\n",
              "      <td>['Statera Studio']</td>\n",
              "      <td>['Statera Studio']</td>\n",
              "      <td>['Action', 'Adventure', 'Indie']</td>\n",
              "      <td>['English', 'French', 'Simplified Chinese', 'J...</td>\n",
              "      <td>2021-03-30</td>\n",
              "      <td>1545700_ACHIEVEMENT_32</td>\n",
              "      <td>Bunkers? That's my thing</td>\n",
              "      <td>Beat the game as Noah</td>\n",
              "      <td>st</td>\n",
              "      <td>gbp</td>\n",
              "      <td>5.89</td>\n",
              "    </tr>\n",
              "    <tr>\n",
              "      <th>415337</th>\n",
              "      <td>495457</td>\n",
              "      <td>Mokoko X</td>\n",
              "      <td>['NAISU']</td>\n",
              "      <td>['NAISU']</td>\n",
              "      <td>['Action']</td>\n",
              "      <td>NaN</td>\n",
              "      <td>2022-04-22</td>\n",
              "      <td>495457_4334253</td>\n",
              "      <td>Tuck the Duck</td>\n",
              "      <td>Tuck the Duck has been defeated</td>\n",
              "      <td>xb</td>\n",
              "      <td>usd</td>\n",
              "      <td>11.49</td>\n",
              "    </tr>\n",
              "  </tbody>\n",
              "</table>\n",
              "</div>"
            ],
            "text/plain": [
              "          gameid                      title  \\\n",
              "895685    558846                 Neon White   \n",
              "536466     11298               Rebel Galaxy   \n",
              "686078   1021100  Aircraft Carrier Survival   \n",
              "1181085  1545700               Guns N' Runs   \n",
              "415337    495457                   Mokoko X   \n",
              "\n",
              "                                                developers  \\\n",
              "895685                                    ['Ben Esposito']   \n",
              "536466                             ['Double Damage Games']   \n",
              "686078   ['Gambit Games Studio', 'Creative Storm Entert...   \n",
              "1181085                                 ['Statera Studio']   \n",
              "415337                                           ['NAISU']   \n",
              "\n",
              "                        publishers                            genres  \\\n",
              "895685   ['Annapurna Interactive']                    ['Platformer']   \n",
              "536466     ['Double Damage Games']                      ['strategy']   \n",
              "686078     ['CreativeForge Games']   ['Action', 'Indie', 'Strategy']   \n",
              "1181085         ['Statera Studio']  ['Action', 'Adventure', 'Indie']   \n",
              "415337                   ['NAISU']                        ['Action']   \n",
              "\n",
              "                                       supported_languages release_date  \\\n",
              "895685   ['Japanese', 'French', 'Spanish', 'German', 'I...   2022-12-13   \n",
              "536466   ['Japanese', 'French', 'Spanish', 'Russian', '...   2016-01-05   \n",
              "686078   ['English', 'French', 'German', 'Polish', 'Sim...   2022-04-20   \n",
              "1181085  ['English', 'French', 'Simplified Chinese', 'J...   2021-03-30   \n",
              "415337                                                 NaN   2022-04-22   \n",
              "\n",
              "                       achievementid         achievement_title  \\\n",
              "895685                558846_4677683        Mission 3 Complete   \n",
              "536466                  11298_127630               Some Muscle   \n",
              "686078   1021100_NEW_ACHIEVEMENT_1_5           Warrant Officer   \n",
              "1181085       1545700_ACHIEVEMENT_32  Bunkers? That's my thing   \n",
              "415337                495457_4334253             Tuck the Duck   \n",
              "\n",
              "                            achievement_description platform currency  price  \n",
              "895685                           Complete Mission 3       ps      gbp  19.99  \n",
              "536466                             Hire a mercenary       ps      eur  19.99  \n",
              "686078   Finish the second chapter of the campaign.       st      eur  16.79  \n",
              "1181085                       Beat the game as Noah       st      gbp   5.89  \n",
              "415337              Tuck the Duck has been defeated       xb      usd  11.49  "
            ]
          },
          "execution_count": 264,
          "metadata": {},
          "output_type": "execute_result"
        }
      ],
      "source": [
        "tidy_game_info.sample(5)"
      ]
    },
    {
      "cell_type": "code",
      "execution_count": 265,
      "metadata": {},
      "outputs": [
        {
          "data": {
            "text/plain": [
              "achievementid\n",
              "749591_6100112             5\n",
              "384010_PIECE_OF_CAKE       5\n",
              "384180_ACH_SHOP_A_HOLIC    5\n",
              "384180_ACH_BLACKJACK       5\n",
              "384180_ACH_BILLIONAIRE     5\n",
              "                          ..\n",
              "603576_4978957             5\n",
              "603576_4978956             5\n",
              "603576_4978955             5\n",
              "603576_4978954             5\n",
              "711118_5703719             5\n",
              "Name: count, Length: 431807, dtype: int64"
            ]
          },
          "execution_count": 265,
          "metadata": {},
          "output_type": "execute_result"
        }
      ],
      "source": [
        "tidy_game_info['achievementid'].value_counts()"
      ]
    },
    {
      "cell_type": "markdown",
      "metadata": {},
      "source": [
        "## Preprocessing"
      ]
    },
    {
      "cell_type": "markdown",
      "metadata": {},
      "source": [
        "### 1. Check for missing values"
      ]
    },
    {
      "cell_type": "code",
      "execution_count": 124,
      "metadata": {},
      "outputs": [
        {
          "data": {
            "text/html": [
              "<div>\n",
              "<style scoped>\n",
              "    .dataframe tbody tr th:only-of-type {\n",
              "        vertical-align: middle;\n",
              "    }\n",
              "\n",
              "    .dataframe tbody tr th {\n",
              "        vertical-align: top;\n",
              "    }\n",
              "\n",
              "    .dataframe thead th {\n",
              "        text-align: right;\n",
              "    }\n",
              "</style>\n",
              "<table border=\"1\" class=\"dataframe\">\n",
              "  <thead>\n",
              "    <tr style=\"text-align: right;\">\n",
              "      <th></th>\n",
              "      <th>col</th>\n",
              "      <th>num_missing</th>\n",
              "      <th>missing_pcnt</th>\n",
              "    </tr>\n",
              "  </thead>\n",
              "  <tbody>\n",
              "    <tr>\n",
              "      <th>0</th>\n",
              "      <td>gameid</td>\n",
              "      <td>0</td>\n",
              "      <td>0.00</td>\n",
              "    </tr>\n",
              "    <tr>\n",
              "      <th>1</th>\n",
              "      <td>title</td>\n",
              "      <td>0</td>\n",
              "      <td>0.00</td>\n",
              "    </tr>\n",
              "    <tr>\n",
              "      <th>2</th>\n",
              "      <td>developers</td>\n",
              "      <td>15850</td>\n",
              "      <td>0.27</td>\n",
              "    </tr>\n",
              "    <tr>\n",
              "      <th>3</th>\n",
              "      <td>publishers</td>\n",
              "      <td>79975</td>\n",
              "      <td>1.38</td>\n",
              "    </tr>\n",
              "    <tr>\n",
              "      <th>4</th>\n",
              "      <td>genres</td>\n",
              "      <td>24935</td>\n",
              "      <td>0.43</td>\n",
              "    </tr>\n",
              "    <tr>\n",
              "      <th>5</th>\n",
              "      <td>supported_languages</td>\n",
              "      <td>1588735</td>\n",
              "      <td>27.35</td>\n",
              "    </tr>\n",
              "    <tr>\n",
              "      <th>6</th>\n",
              "      <td>release_date</td>\n",
              "      <td>0</td>\n",
              "      <td>0.00</td>\n",
              "    </tr>\n",
              "    <tr>\n",
              "      <th>7</th>\n",
              "      <td>achievementid</td>\n",
              "      <td>40050</td>\n",
              "      <td>0.69</td>\n",
              "    </tr>\n",
              "    <tr>\n",
              "      <th>8</th>\n",
              "      <td>achievement_title</td>\n",
              "      <td>40325</td>\n",
              "      <td>0.69</td>\n",
              "    </tr>\n",
              "    <tr>\n",
              "      <th>9</th>\n",
              "      <td>achievement_description</td>\n",
              "      <td>4014060</td>\n",
              "      <td>69.11</td>\n",
              "    </tr>\n",
              "    <tr>\n",
              "      <th>10</th>\n",
              "      <td>platform</td>\n",
              "      <td>0</td>\n",
              "      <td>0.00</td>\n",
              "    </tr>\n",
              "    <tr>\n",
              "      <th>11</th>\n",
              "      <td>currency</td>\n",
              "      <td>0</td>\n",
              "      <td>0.00</td>\n",
              "    </tr>\n",
              "    <tr>\n",
              "      <th>12</th>\n",
              "      <td>price</td>\n",
              "      <td>4157940</td>\n",
              "      <td>71.58</td>\n",
              "    </tr>\n",
              "  </tbody>\n",
              "</table>\n",
              "</div>"
            ],
            "text/plain": [
              "                        col  num_missing  missing_pcnt\n",
              "0                    gameid            0          0.00\n",
              "1                     title            0          0.00\n",
              "2                developers        15850          0.27\n",
              "3                publishers        79975          1.38\n",
              "4                    genres        24935          0.43\n",
              "5       supported_languages      1588735         27.35\n",
              "6              release_date            0          0.00\n",
              "7             achievementid        40050          0.69\n",
              "8         achievement_title        40325          0.69\n",
              "9   achievement_description      4014060         69.11\n",
              "10                 platform            0          0.00\n",
              "11                 currency            0          0.00\n",
              "12                    price      4157940         71.58"
            ]
          },
          "execution_count": 124,
          "metadata": {},
          "output_type": "execute_result"
        }
      ],
      "source": [
        "# count missing values per column\n",
        "null_counts = tidy_game_info.isnull().sum().reset_index()\n",
        "null_counts.columns = [\"col\", \"num_missing\"]\n",
        "null_counts[\"missing_pcnt\"] = round((null_counts[\"num_missing\"] / len(merged_game_info)) * 100, 2)\n",
        "\n",
        "null_counts"
      ]
    },
    {
      "cell_type": "markdown",
      "metadata": {},
      "source": [
        "#### Here’s how we decide to handle missing values effectively [Used GPT-4o for tailoring to table format]:\n",
        "\n",
        "**Columns with Minor Missing Data (< 5%)**\n",
        "| Column | Missing % | Suggested Action |\n",
        "|---------|----------|-----------------|\n",
        "| **developers** | 0.27% | Fill with \"unknown\" to maintain consistency. |\n",
        "| **publishers** | 1.38% | Fill with \"unknown\" for completeness. |\n",
        "| **genres** | 0.43% | Fill with \"unknown\", since games without a genre classification are rare. |\n",
        "| **achievementid** | 0.69% | Likely an error or missing achievements, can be kept as NaN. |\n",
        "| **achievement_title** | 0.69% | Likely corresponds to missing achievementid, can be kept as NaN. |\n",
        "\n",
        "- **Action: Fill developers, publishers, and genres with \"unknown\", and leave missing achievements as NaN.**\n",
        "\n",
        "---\n",
        "\n",
        "**Columns with Moderate Missing Data (5% - 30%)**\n",
        "| Column | Missing % | Suggested Action |\n",
        "|---------|----------|-----------------|\n",
        "| **supported_languages** | 27.35% | Keep as NaN, since language availability is an actual missing feature. |\n",
        "\n",
        "- **Action: Keep supported_languages as NaN, since not all games support multiple languages. We don't want to introduce incorrect data.**\n",
        "\n",
        "---\n",
        "\n",
        "**Columns with High Missing Data (> 50%)**\n",
        "| Column | Missing % | Suggested Action |\n",
        "|---------|----------|-----------------|\n",
        "| **achievement_description** | 69.11% | Fill missing values with \"unknown\". |\n",
        "| **price** | 71.58% | Keep as NaN—missing prices could indicate unavailable data, regional limitations, or discontinued games. |\n",
        "\n",
        "**Action:**\n",
        "- **Fill achievement_description with \"No description available\"** to avoid empty fields.\n",
        "- **Keep price as NaN**, since forcing imputation could lead to inaccurate pricing."
      ]
    },
    {
      "cell_type": "code",
      "execution_count": 125,
      "metadata": {},
      "outputs": [
        {
          "name": "stderr",
          "output_type": "stream",
          "text": [
            "/var/folders/sd/5vy204s55_ggyjh65z1tlxg00000gn/T/ipykernel_43239/1875302043.py:2: FutureWarning: A value is trying to be set on a copy of a DataFrame or Series through chained assignment using an inplace method.\n",
            "The behavior will change in pandas 3.0. This inplace method will never work because the intermediate object on which we are setting values always behaves as a copy.\n",
            "\n",
            "For example, when doing 'df[col].method(value, inplace=True)', try using 'df.method({col: value}, inplace=True)' or df[col] = df[col].method(value) instead, to perform the operation inplace on the original object.\n",
            "\n",
            "\n",
            "  tidy_game_info[\"developers\"].fillna(\"unknown\", inplace=True)\n",
            "/var/folders/sd/5vy204s55_ggyjh65z1tlxg00000gn/T/ipykernel_43239/1875302043.py:3: FutureWarning: A value is trying to be set on a copy of a DataFrame or Series through chained assignment using an inplace method.\n",
            "The behavior will change in pandas 3.0. This inplace method will never work because the intermediate object on which we are setting values always behaves as a copy.\n",
            "\n",
            "For example, when doing 'df[col].method(value, inplace=True)', try using 'df.method({col: value}, inplace=True)' or df[col] = df[col].method(value) instead, to perform the operation inplace on the original object.\n",
            "\n",
            "\n",
            "  tidy_game_info[\"publishers\"].fillna(\"unknown\", inplace=True)\n",
            "/var/folders/sd/5vy204s55_ggyjh65z1tlxg00000gn/T/ipykernel_43239/1875302043.py:4: FutureWarning: A value is trying to be set on a copy of a DataFrame or Series through chained assignment using an inplace method.\n",
            "The behavior will change in pandas 3.0. This inplace method will never work because the intermediate object on which we are setting values always behaves as a copy.\n",
            "\n",
            "For example, when doing 'df[col].method(value, inplace=True)', try using 'df.method({col: value}, inplace=True)' or df[col] = df[col].method(value) instead, to perform the operation inplace on the original object.\n",
            "\n",
            "\n",
            "  tidy_game_info[\"genres\"].fillna(\"unknown\", inplace=True)\n",
            "/var/folders/sd/5vy204s55_ggyjh65z1tlxg00000gn/T/ipykernel_43239/1875302043.py:5: FutureWarning: A value is trying to be set on a copy of a DataFrame or Series through chained assignment using an inplace method.\n",
            "The behavior will change in pandas 3.0. This inplace method will never work because the intermediate object on which we are setting values always behaves as a copy.\n",
            "\n",
            "For example, when doing 'df[col].method(value, inplace=True)', try using 'df.method({col: value}, inplace=True)' or df[col] = df[col].method(value) instead, to perform the operation inplace on the original object.\n",
            "\n",
            "\n",
            "  tidy_game_info[\"achievement_description\"].fillna(\"unknown\", inplace=True)\n"
          ]
        }
      ],
      "source": [
        "# fill missing values for categorical text columns\n",
        "tidy_game_info[\"developers\"].fillna(\"unknown\", inplace=True)\n",
        "tidy_game_info[\"publishers\"].fillna(\"unknown\", inplace=True)\n",
        "tidy_game_info[\"genres\"].fillna(\"unknown\", inplace=True)\n",
        "tidy_game_info[\"achievement_description\"].fillna(\"unknown\", inplace=True)"
      ]
    },
    {
      "cell_type": "markdown",
      "metadata": {},
      "source": [
        "## 2. Multi-valued cols"
      ]
    },
    {
      "cell_type": "code",
      "execution_count": 126,
      "metadata": {},
      "outputs": [
        {
          "data": {
            "text/html": [
              "<div>\n",
              "<style scoped>\n",
              "    .dataframe tbody tr th:only-of-type {\n",
              "        vertical-align: middle;\n",
              "    }\n",
              "\n",
              "    .dataframe tbody tr th {\n",
              "        vertical-align: top;\n",
              "    }\n",
              "\n",
              "    .dataframe thead th {\n",
              "        text-align: right;\n",
              "    }\n",
              "</style>\n",
              "<table border=\"1\" class=\"dataframe\">\n",
              "  <thead>\n",
              "    <tr style=\"text-align: right;\">\n",
              "      <th></th>\n",
              "      <th>gameid</th>\n",
              "      <th>title</th>\n",
              "      <th>developers</th>\n",
              "      <th>publishers</th>\n",
              "      <th>genres</th>\n",
              "      <th>supported_languages</th>\n",
              "      <th>release_date</th>\n",
              "      <th>achievementid</th>\n",
              "      <th>achievement_title</th>\n",
              "      <th>achievement_description</th>\n",
              "      <th>platform</th>\n",
              "      <th>currency</th>\n",
              "      <th>price</th>\n",
              "    </tr>\n",
              "  </thead>\n",
              "  <tbody>\n",
              "    <tr>\n",
              "      <th>3595266</th>\n",
              "      <td>2301100</td>\n",
              "      <td>Reverie: Sweet As Edition</td>\n",
              "      <td>['Rainbite Ltd']</td>\n",
              "      <td>['Eastasiasoft Limited']</td>\n",
              "      <td>['Action', 'Adventure', 'Indie']</td>\n",
              "      <td>['English', 'French', 'German', 'Spanish - Spa...</td>\n",
              "      <td>2023-06-28</td>\n",
              "      <td>2301100_Snorkel</td>\n",
              "      <td>Ain't No River Wide Enough</td>\n",
              "      <td>Acquire the snorkel.</td>\n",
              "      <td>st</td>\n",
              "      <td>usd</td>\n",
              "      <td>6.49</td>\n",
              "    </tr>\n",
              "    <tr>\n",
              "      <th>12348987</th>\n",
              "      <td>2620210</td>\n",
              "      <td>Jinshin</td>\n",
              "      <td>['Exe Create Inc.']</td>\n",
              "      <td>['KEMCO']</td>\n",
              "      <td>['Adventure', 'RPG', 'Simulation', 'Strategy']</td>\n",
              "      <td>['English', 'Japanese']</td>\n",
              "      <td>2023-12-21</td>\n",
              "      <td>2620210_5</td>\n",
              "      <td>Onigami Kegare</td>\n",
              "      <td>unknown</td>\n",
              "      <td>st</td>\n",
              "      <td>gbp</td>\n",
              "      <td>13.49</td>\n",
              "    </tr>\n",
              "    <tr>\n",
              "      <th>20530077</th>\n",
              "      <td>494730</td>\n",
              "      <td>Galacticare</td>\n",
              "      <td>['Brightrock Games']</td>\n",
              "      <td>['CULT Games']</td>\n",
              "      <td>['Simulation', 'Strategy']</td>\n",
              "      <td>['English', 'French', 'German', 'Spanish - Spa...</td>\n",
              "      <td>2024-05-23</td>\n",
              "      <td>494730_bonus_mc2</td>\n",
              "      <td>Doc Idol</td>\n",
              "      <td>unknown</td>\n",
              "      <td>st</td>\n",
              "      <td>jpy</td>\n",
              "      <td>3110.00</td>\n",
              "    </tr>\n",
              "    <tr>\n",
              "      <th>10895556</th>\n",
              "      <td>220820</td>\n",
              "      <td>Zombie Driver HD</td>\n",
              "      <td>['Exor Studios']</td>\n",
              "      <td>['Exor Studios']</td>\n",
              "      <td>['Action', 'Indie', 'Racing']</td>\n",
              "      <td>['English', 'French', 'German', 'Italian', 'Po...</td>\n",
              "      <td>2012-10-17</td>\n",
              "      <td>220820_kill_zombies_watercannon</td>\n",
              "      <td>It's not a weapon</td>\n",
              "      <td>Kill 100 zombies with a watercannon in one mis...</td>\n",
              "      <td>st</td>\n",
              "      <td>eur</td>\n",
              "      <td>1.99</td>\n",
              "    </tr>\n",
              "    <tr>\n",
              "      <th>25278535</th>\n",
              "      <td>444930</td>\n",
              "      <td>Zaccaria Pinball</td>\n",
              "      <td>['Magic Pixel Kft.']</td>\n",
              "      <td>['Magic Pixel Kft.']</td>\n",
              "      <td>['Action', 'Casual', 'Free To Play', 'Indie', ...</td>\n",
              "      <td>['English']</td>\n",
              "      <td>2016-06-16</td>\n",
              "      <td>444930_ACH_A_SPEEDKING_CHALLENGE_SILVER</td>\n",
              "      <td>Speed King - Challenge Silver</td>\n",
              "      <td>Collect 6 points in Challenge game mode on Spe...</td>\n",
              "      <td>st</td>\n",
              "      <td>rub</td>\n",
              "      <td>NaN</td>\n",
              "    </tr>\n",
              "  </tbody>\n",
              "</table>\n",
              "</div>"
            ],
            "text/plain": [
              "           gameid                      title            developers  \\\n",
              "3595266   2301100  Reverie: Sweet As Edition      ['Rainbite Ltd']   \n",
              "12348987  2620210                    Jinshin   ['Exe Create Inc.']   \n",
              "20530077   494730                Galacticare  ['Brightrock Games']   \n",
              "10895556   220820           Zombie Driver HD      ['Exor Studios']   \n",
              "25278535   444930           Zaccaria Pinball  ['Magic Pixel Kft.']   \n",
              "\n",
              "                        publishers  \\\n",
              "3595266   ['Eastasiasoft Limited']   \n",
              "12348987                 ['KEMCO']   \n",
              "20530077            ['CULT Games']   \n",
              "10895556          ['Exor Studios']   \n",
              "25278535      ['Magic Pixel Kft.']   \n",
              "\n",
              "                                                     genres  \\\n",
              "3595266                    ['Action', 'Adventure', 'Indie']   \n",
              "12348987     ['Adventure', 'RPG', 'Simulation', 'Strategy']   \n",
              "20530077                         ['Simulation', 'Strategy']   \n",
              "10895556                      ['Action', 'Indie', 'Racing']   \n",
              "25278535  ['Action', 'Casual', 'Free To Play', 'Indie', ...   \n",
              "\n",
              "                                        supported_languages release_date  \\\n",
              "3595266   ['English', 'French', 'German', 'Spanish - Spa...   2023-06-28   \n",
              "12348987                            ['English', 'Japanese']   2023-12-21   \n",
              "20530077  ['English', 'French', 'German', 'Spanish - Spa...   2024-05-23   \n",
              "10895556  ['English', 'French', 'German', 'Italian', 'Po...   2012-10-17   \n",
              "25278535                                        ['English']   2016-06-16   \n",
              "\n",
              "                                    achievementid  \\\n",
              "3595266                           2301100_Snorkel   \n",
              "12348987                                2620210_5   \n",
              "20530077                         494730_bonus_mc2   \n",
              "10895556          220820_kill_zombies_watercannon   \n",
              "25278535  444930_ACH_A_SPEEDKING_CHALLENGE_SILVER   \n",
              "\n",
              "                      achievement_title  \\\n",
              "3595266      Ain't No River Wide Enough   \n",
              "12348987                 Onigami Kegare   \n",
              "20530077                       Doc Idol   \n",
              "10895556              It's not a weapon   \n",
              "25278535  Speed King - Challenge Silver   \n",
              "\n",
              "                                    achievement_description platform currency  \\\n",
              "3595266                                Acquire the snorkel.       st      usd   \n",
              "12348987                                            unknown       st      gbp   \n",
              "20530077                                            unknown       st      jpy   \n",
              "10895556  Kill 100 zombies with a watercannon in one mis...       st      eur   \n",
              "25278535  Collect 6 points in Challenge game mode on Spe...       st      rub   \n",
              "\n",
              "            price  \n",
              "3595266      6.49  \n",
              "12348987    13.49  \n",
              "20530077  3110.00  \n",
              "10895556     1.99  \n",
              "25278535      NaN  "
            ]
          },
          "execution_count": 126,
          "metadata": {},
          "output_type": "execute_result"
        }
      ],
      "source": [
        "tidy_game_info.sample(5)"
      ]
    },
    {
      "cell_type": "code",
      "execution_count": 127,
      "metadata": {},
      "outputs": [
        {
          "data": {
            "text/plain": [
              "title\n",
              "Zaccaria Pinball                          1084700\n",
              "PAYDAY 2                                   299670\n",
              "Assetto Corsa                              160775\n",
              "The Binding of Isaac: Rebirth              146980\n",
              "Idle Champions of the Forgotten Realms     141540\n",
              "                                           ...   \n",
              "Alice Sisters                                 405\n",
              "Baldur's Gate: Dark Alliance                  375\n",
              "Action SuperCross                             365\n",
              "Star99                                        365\n",
              "Skelattack                                    365\n",
              "Name: count, Length: 3466, dtype: int64"
            ]
          },
          "execution_count": 127,
          "metadata": {},
          "output_type": "execute_result"
        }
      ],
      "source": [
        "tidy_game_info['title'].value_counts()"
      ]
    },
    {
      "cell_type": "markdown",
      "metadata": {},
      "source": [
        "#### Handling Multi-Valued Columns in Our Dataset [Used GPT-4o for tailoring grammar]\n",
        "\n",
        "Our dataset contains multi-valued columns such as `developers`, `publishers`, `genres`, and `supported_languages`, which are stored as **list-like strings**. Instead of immediately expanding them into multiple rows (long format) or separate columns (one-hot encoding), we are **keeping them in their original format** for the following reasons:\n",
        "\n",
        "1. **Data Integrity & Storage Efficiency**  \n",
        "   - Expanding these fields would significantly increase row count, making storage and initial processing heavier.\n",
        "   - Keeping them as lists allows us to preserve all information within a single row per game.\n",
        "\n",
        "2. **Flexibility for Future Analysis**  \n",
        "   - At later stages, we may **apply one-hot encoding** to `genres` and `supported_languages` for categorical analysis.  \n",
        "   - Alternatively, we can derive **summary features** such as:\n",
        "     - **Number of genres per game**\n",
        "     - **Number of supported languages**\n",
        "     - **Unique count of developers/publishers**\n",
        "   - These derived features will allow for a more structured comparison across games.\n",
        "\n",
        "By postponing transformation, we maintain efficiency while keeping the option open for structured feature extraction when needed.\n"
      ]
    },
    {
      "cell_type": "code",
      "execution_count": 128,
      "metadata": {},
      "outputs": [],
      "source": [
        "# tidy_game_info_noids = tidy_game_info.drop(columns=['gameid', 'achievementid'], inplace=True)"
      ]
    },
    {
      "cell_type": "markdown",
      "metadata": {},
      "source": [
        "## More notes on further merging\n",
        "\n",
        "Our current **tidy dataset** focuses solely on game-related information. To enrich the analysis, we plan additional merges with player data to uncover insights about game popularity, completion rates, and player demographics.\n",
        "\n",
        "### Planned Merges & Insights\n",
        "1. **Game Popularity Analysis**  \n",
        "   - Merge with `purchased_games.csv` (for each platform) to **count the number of players who own each game**.\n",
        "   - This helps identify **best-selling games** and platform-specific purchase trends.\n",
        "\n",
        "2. **Game Completion Rates**  \n",
        "   - Merge with `history.csv` to **track when players earn end-game achievements**.\n",
        "   - Calculate the **average time to completion** and **percentage of players finishing a game**.\n",
        "   - Investigate if certain **genres have higher completion rates** (e.g., RPGs vs. casual games).\n",
        "  \n",
        "3. **Pricing & Sales Relationship:**  \n",
        "   - Merge `prices.csv` to analyze how **price fluctuations impact purchases**.\n",
        "  \n",
        "4. **Cross-Platform Player Behavior:**  \n",
        "   - Identify players who own **the same game across multiple platforms** to study cross-platform engagement.\n",
        "   - Merge with `players.csv` and **cluster by country** to analyze **regional gaming preferences**.\n"
      ]
    },
    {
      "cell_type": "markdown",
      "metadata": {
        "id": "OclGBxfoQVPc"
      },
      "source": [
        "## [TODO] Data Visualization\n",
        "> Be sure to include interpretations of your visualizations -- what patterns or anomalies do you see?\n"
      ]
    },
    {
      "cell_type": "markdown",
      "metadata": {},
      "source": [
        "###  Player Engagement Visualization: player-game-achievement"
      ]
    },
    {
      "cell_type": "code",
      "execution_count": 129,
      "metadata": {},
      "outputs": [
        {
          "ename": "SyntaxError",
          "evalue": "invalid syntax (3815978410.py, line 6)",
          "output_type": "error",
          "traceback": [
            "\u001b[0;36m  Cell \u001b[0;32mIn[129], line 6\u001b[0;36m\u001b[0m\n\u001b[0;31m    player_game_achievement =\u001b[0m\n\u001b[0m                              ^\u001b[0m\n\u001b[0;31mSyntaxError\u001b[0m\u001b[0;31m:\u001b[0m invalid syntax\n"
          ]
        }
      ],
      "source": [
        "# Top 50 most popular games\n",
        "# active players\n",
        "# Top 50 most popular achievements\n",
        "\n",
        "\n",
        "player_game_achievement = \n",
        "# how many achievements a player unlocked per game\n",
        "\n",
        "# Group data to count achievements per player per game\n",
        "agg_data = ps_player_info.groupby([\"playerid\", \"gameid\"])[\"achievementid\"].count().reset_index()\n",
        "agg_data.rename(columns={\"achievementid\": \"achievements_unlocked\"}, inplace=True)\n",
        "\n",
        "# Sample a subset (e.g., 10K rows) for visualization\n",
        "sample_data = agg_data.sample(10000, random_state=42)"
      ]
    }
  ],
  "metadata": {
    "colab": {
      "provenance": []
    },
    "kernelspec": {
      "display_name": ".venv",
      "language": "python",
      "name": "python3"
    },
    "language_info": {
      "codemirror_mode": {
        "name": "ipython",
        "version": 3
      },
      "file_extension": ".py",
      "mimetype": "text/x-python",
      "name": "python",
      "nbconvert_exporter": "python",
      "pygments_lexer": "ipython3",
      "version": "3.11.9"
    }
  },
  "nbformat": 4,
  "nbformat_minor": 0
}
