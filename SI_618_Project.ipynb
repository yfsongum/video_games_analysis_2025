{
  "cells": [
    {
      "cell_type": "markdown",
      "metadata": {
        "id": "yfPJRLpyQTnG"
      },
      "source": [
        "# SI 618 WN Project Part I"
      ]
    },
    {
      "cell_type": "markdown",
      "metadata": {
        "id": "WN3jWuTDQjpX"
      },
      "source": [
        "## Project Title:\n",
        "> Provide a descriptive working title for your project.\n",
        "\n",
        "**Game Sales, Popularity, and Achievements: A Comparative Analysis Across Platforms**"
      ]
    },
    {
      "cell_type": "markdown",
      "metadata": {
        "id": "raGqyFicQ4Zw"
      },
      "source": [
        "## Team Members\n",
        "> List each team member and include their uniqname\n",
        "\n",
        "* Yufeng Song (yfsong)\n",
        "* Ziqi Wang (Venchy)\n",
        "* Muyu Lin (linmuyu)"
      ]
    },
    {
      "cell_type": "markdown",
      "metadata": {
        "id": "QcquQf5KQ_X7"
      },
      "source": [
        "## Overview\n",
        "> Give a high level description of your project\n",
        "\n",
        "Our project explores key trends in the gaming industry by analyzing data on game sales, player achievements, and platform preferences. We aim to understand how the same game performs across different platforms, how purchasing preferences vary across countries, and how game popularity evolves over time. Additionally, we will investigate the relationship between supported languages and sales, as well as the impact of pricing on game popularity across multiple platforms. By analyzing these factors, we hope to uncover insights into player behavior, market trends, and factors influencing game success."
      ]
    },
    {
      "cell_type": "markdown",
      "metadata": {
        "id": "x9oLjLuaREDo"
      },
      "source": [
        "## Motivation\n",
        "> Explain why you chose this particular topic for your project.\tInclude the three \"real-world\" questions that you generated about the data, and be sure to explain what you hope to learn by answering them.\n",
        "\n",
        "We chose this topic because gaming is a massive industry with a highly diverse audience, and understanding player preferences and market trends can provide valuable insights for developers, publishers, and gaming communities. Our project aims to answer the following real-world questions:\n",
        "\n",
        "1. **How do in-game achievements compare across different platforms for the same game?**\n",
        "\n",
        "  - By analyzing achievement data, we aim to understand whether players engage with a game differently depending on the platform they use. This could reveal differences in play styles, game difficulty adjustments, or platform-specific engagement trends.\n",
        "\n",
        "2. **How do game purchase preferences vary by country and active playtime?**\n",
        "\n",
        "  - We seek to determine whether purchasing behaviors differ based on regional preferences and player engagement levels. Understanding this can help developers tailor their marketing strategies and optimize game pricing for different audiences.\n",
        "\n",
        "3. **How has the popularity of different game types changed over time?**\n",
        "\n",
        "  - By tracking shifts in game genre popularity over time, we hope to uncover trends that indicate the rise and fall of specific genres. This insight could be useful for predicting future market demands and guiding game development strategies.\n",
        "\n",
        "By answering these questions, we hope to gain a deeper understanding of the gaming landscape, helping stakeholders make data-driven decisions about game development, pricing, and distribution strategies."
      ]
    },
    {
      "cell_type": "markdown",
      "metadata": {
        "id": "K7C9NO8rRJVm"
      },
      "source": [
        "## Data Sources\n",
        "> List the two (or more) sources of data that you'll be using.  Provide URLs where appropriate.\t**Explain how the two (or more) datasets complement each other.**\n",
        "\n",
        "1. https://www.kaggle.com/datasets/artyomkruglov/gaming-profiles-2025-steam-playstation-xbox\n",
        "\n",
        "2. https://github.com/Smipe-a/gamestatshub\n",
        "\n",
        "- This Gaming Profiles Data from Kaggle include **game** and **player** data from three different **platforms**, PlayStation, Steam, and Xbox.\n",
        "- For each platform, the **player** and **game** data is complemented by **achievement** data. The relationships between players, games, and achievements are one-to-many: each player can play multiple games, and each game can have multiple achievements.\n",
        "- Data from the three platforms can be combined based on **game titles** to analyze shared games across platforms."
      ]
    },
    {
      "cell_type": "markdown",
      "metadata": {
        "id": "0YtT1IrhRNua"
      },
      "source": [
        "## Data Description\n",
        "> List the variables of interest, the size of the data sets, missing values, etc.\n",
        "\n",
        "### Common Datasets Across 3 Platforms & Variables of Interest:\n",
        "\n",
        "#### Player Metadata\n",
        "- **players.csv**: platform-specific `playerid` and `country` (Xbox data lacks country column)\n",
        "- **purchased_games.csv** lists players' purchased games, with:\n",
        "    - `playerid`\n",
        "    - `libarary`: a list of games the player bought.\n",
        "- **history.csv**: when the player unlocked the achievement.\n",
        "    - `playerid`\n",
        "    - `achievementid`\n",
        "    - `date_acquired`\n",
        "\n",
        "#### Game Metadata\n",
        "- **games.csv**: game details such as `genres`, `developers`, `publishers`, `supported_language`, and `release_date`.\n",
        "- **achievements.csv** maps achievements to their respective game, with:\n",
        "    - `achievementid` combines the uniqe game id on the platform and the achievement id within the game\n",
        "    - `gameid`\n",
        "    - `title`\n",
        "    - `description`\n",
        "- **prices.csv**: games' price in various currencies, with `date_acquired` indicating the date when the price was recorded."
      ]
    },
    {
      "cell_type": "markdown",
      "metadata": {
        "id": "E5HpR2qjRRle"
      },
      "source": [
        "## Data Manipulation\n",
        "> Mostly code in this section.  This is where you merge your data sets, as well as create new columns (if appropriate)\n",
        "\n",
        "#### Merged Datasets Explained - Flattened Table For Raw Analysis\n",
        "- Platform-Specific Datasets:\n",
        "    - Player-Info Dataset: merged on `playerid`\n",
        "    - Game-Info Dataset: merged on `gameid`\n",
        "- Cross-Platform Game Dataset: merged on game `title` to combine shared game data from all three platforms.\n",
        "\n",
        "**Notes**: \n",
        "- In all the merged datasets, there are duplicated gameid/playerid after merge due to the one-to-many relationship between players, games, and achievements. \n",
        "- In the corss-platform game table, there are duplicated game titles across platforms."
      ]
    },
    {
      "cell_type": "code",
      "execution_count": 357,
      "metadata": {
        "id": "lUJY9fwwQVGD"
      },
      "outputs": [],
      "source": [
        "import pandas as pd\n",
        "import numpy as np\n",
        "import matplotlib.pyplot as plt\n",
        "import seaborn as sns"
      ]
    },
    {
      "cell_type": "markdown",
      "metadata": {},
      "source": [
        "## PS"
      ]
    },
    {
      "cell_type": "code",
      "execution_count": 358,
      "metadata": {},
      "outputs": [
        {
          "name": "stdout",
          "output_type": "stream",
          "text": [
            "ps_purchased_games - shape: (46582, 2)\n",
            "ps_history - shape: (19510083, 3)\n",
            "ps_prices - shape: (62816, 7)\n",
            "ps_players - shape: (356600, 3)\n",
            "ps_games - shape: (23151, 8)\n",
            "ps_achievements - shape: (846563, 5)\n"
          ]
        }
      ],
      "source": [
        "import os\n",
        "\n",
        "PS_DATA_FOLDER = \"data/ps\"\n",
        "\n",
        "dfs = {}\n",
        "\n",
        "for root, dirs, files in os.walk(PS_DATA_FOLDER):\n",
        "    for file in files:\n",
        "        if file.endswith(\".csv\"):\n",
        "            file_path = os.path.join(root, file)\n",
        "            df_name = f\"{os.path.basename(root)}_{file.replace('.csv', '')}\".replace('.csv', '')  # Clean name\n",
        "            dfs[df_name] = pd.read_csv(file_path)\n",
        "\n",
        "for name, df in dfs.items():\n",
        "    print(f\"{name} - shape: {df.shape}\")"
      ]
    },
    {
      "cell_type": "code",
      "execution_count": 359,
      "metadata": {},
      "outputs": [
        {
          "name": "stdout",
          "output_type": "stream",
          "text": [
            "0\n",
            "32095\n",
            "0\n",
            "0\n",
            "0\n"
          ]
        }
      ],
      "source": [
        "ps_achievements = dfs['ps_achievements']\n",
        "ps_games = dfs['ps_games']\n",
        "ps_history = dfs['ps_history']\n",
        "ps_players = dfs['ps_players']\n",
        "ps_prices = dfs['ps_prices']\n",
        "ps_purchased_games = dfs['ps_purchased_games']\n",
        "\n",
        "# check duplicates\n",
        "print(ps_games.duplicated(subset=[\"gameid\"]).sum())\n",
        "print(ps_prices.duplicated(subset=[\"gameid\"]).sum())\n",
        "print(ps_achievements.duplicated(subset=[\"achievementid\"]).sum())\n",
        "print(ps_players.duplicated(subset=[\"playerid\"]).sum())\n",
        "print(ps_purchased_games.duplicated(subset=[\"playerid\"]).sum())"
      ]
    },
    {
      "cell_type": "code",
      "execution_count": 360,
      "metadata": {},
      "outputs": [
        {
          "data": {
            "text/plain": [
              "gameid\n",
              "726666    3\n",
              "723091    3\n",
              "727730    3\n",
              "727729    3\n",
              "728792    3\n",
              "         ..\n",
              "421567    2\n",
              "421164    2\n",
              "421153    2\n",
              "421368    2\n",
              "423969    2\n",
              "Name: count, Length: 30721, dtype: int64"
            ]
          },
          "execution_count": 360,
          "metadata": {},
          "output_type": "execute_result"
        }
      ],
      "source": [
        "ps_prices['gameid'].value_counts()"
      ]
    },
    {
      "cell_type": "code",
      "execution_count": 361,
      "metadata": {},
      "outputs": [
        {
          "data": {
            "text/html": [
              "<div>\n",
              "<style scoped>\n",
              "    .dataframe tbody tr th:only-of-type {\n",
              "        vertical-align: middle;\n",
              "    }\n",
              "\n",
              "    .dataframe tbody tr th {\n",
              "        vertical-align: top;\n",
              "    }\n",
              "\n",
              "    .dataframe thead th {\n",
              "        text-align: right;\n",
              "    }\n",
              "</style>\n",
              "<table border=\"1\" class=\"dataframe\">\n",
              "  <thead>\n",
              "    <tr style=\"text-align: right;\">\n",
              "      <th></th>\n",
              "      <th>gameid</th>\n",
              "      <th>usd</th>\n",
              "      <th>eur</th>\n",
              "      <th>gbp</th>\n",
              "      <th>jpy</th>\n",
              "      <th>rub</th>\n",
              "      <th>date_acquired</th>\n",
              "    </tr>\n",
              "  </thead>\n",
              "  <tbody>\n",
              "    <tr>\n",
              "      <th>20167</th>\n",
              "      <td>726666</td>\n",
              "      <td>6.99</td>\n",
              "      <td>6.99</td>\n",
              "      <td>5.79</td>\n",
              "      <td>1100.0</td>\n",
              "      <td>NaN</td>\n",
              "      <td>2025-02-22</td>\n",
              "    </tr>\n",
              "    <tr>\n",
              "      <th>50835</th>\n",
              "      <td>726666</td>\n",
              "      <td>6.99</td>\n",
              "      <td>6.99</td>\n",
              "      <td>5.79</td>\n",
              "      <td>1100.0</td>\n",
              "      <td>NaN</td>\n",
              "      <td>2025-02-25</td>\n",
              "    </tr>\n",
              "    <tr>\n",
              "      <th>52307</th>\n",
              "      <td>726666</td>\n",
              "      <td>6.99</td>\n",
              "      <td>6.99</td>\n",
              "      <td>5.79</td>\n",
              "      <td>1100.0</td>\n",
              "      <td>NaN</td>\n",
              "      <td>2025-02-24</td>\n",
              "    </tr>\n",
              "  </tbody>\n",
              "</table>\n",
              "</div>"
            ],
            "text/plain": [
              "       gameid   usd   eur   gbp     jpy  rub date_acquired\n",
              "20167  726666  6.99  6.99  5.79  1100.0  NaN    2025-02-22\n",
              "50835  726666  6.99  6.99  5.79  1100.0  NaN    2025-02-25\n",
              "52307  726666  6.99  6.99  5.79  1100.0  NaN    2025-02-24"
            ]
          },
          "execution_count": 361,
          "metadata": {},
          "output_type": "execute_result"
        }
      ],
      "source": [
        "ps_prices[ps_prices['gameid'] == 726666]"
      ]
    },
    {
      "cell_type": "code",
      "execution_count": 362,
      "metadata": {},
      "outputs": [
        {
          "name": "stdout",
          "output_type": "stream",
          "text": [
            "0\n"
          ]
        }
      ],
      "source": [
        "# for each gameid, keep only the most recent price entry\n",
        "ps_prices = ps_prices.sort_values(\"date_acquired\").drop_duplicates(subset=[\"gameid\"], keep=\"last\")\n",
        "print(ps_prices.duplicated(subset=[\"gameid\"]).sum())"
      ]
    },
    {
      "cell_type": "markdown",
      "metadata": {},
      "source": [
        "### Player focus"
      ]
    },
    {
      "cell_type": "code",
      "execution_count": 363,
      "metadata": {},
      "outputs": [],
      "source": [
        "ps_player_info = ps_players.merge(ps_history, on=\"playerid\", how=\"left\")"
      ]
    },
    {
      "cell_type": "code",
      "execution_count": 364,
      "metadata": {},
      "outputs": [],
      "source": [
        "ps_player_info = ps_player_info.merge(ps_achievements, on=\"achievementid\", how=\"left\")"
      ]
    },
    {
      "cell_type": "code",
      "execution_count": 365,
      "metadata": {},
      "outputs": [],
      "source": [
        "ps_player_info = ps_player_info.merge(ps_purchased_games, on=\"playerid\", how=\"left\")"
      ]
    },
    {
      "cell_type": "code",
      "execution_count": 366,
      "metadata": {},
      "outputs": [
        {
          "name": "stdout",
          "output_type": "stream",
          "text": [
            "<class 'pandas.core.frame.DataFrame'>\n",
            "RangeIndex: 19861683 entries, 0 to 19861682\n",
            "Data columns (total 10 columns):\n",
            " #   Column         Dtype  \n",
            "---  ------         -----  \n",
            " 0   playerid       int64  \n",
            " 1   nickname       object \n",
            " 2   country        object \n",
            " 3   achievementid  object \n",
            " 4   date_acquired  object \n",
            " 5   gameid         float64\n",
            " 6   title          object \n",
            " 7   description    object \n",
            " 8   rarity         object \n",
            " 9   library        object \n",
            "dtypes: float64(1), int64(1), object(8)\n",
            "memory usage: 1.5+ GB\n"
          ]
        }
      ],
      "source": [
        "ps_player_info.info()"
      ]
    },
    {
      "cell_type": "code",
      "execution_count": 367,
      "metadata": {},
      "outputs": [
        {
          "data": {
            "text/html": [
              "<div>\n",
              "<style scoped>\n",
              "    .dataframe tbody tr th:only-of-type {\n",
              "        vertical-align: middle;\n",
              "    }\n",
              "\n",
              "    .dataframe tbody tr th {\n",
              "        vertical-align: top;\n",
              "    }\n",
              "\n",
              "    .dataframe thead th {\n",
              "        text-align: right;\n",
              "    }\n",
              "</style>\n",
              "<table border=\"1\" class=\"dataframe\">\n",
              "  <thead>\n",
              "    <tr style=\"text-align: right;\">\n",
              "      <th></th>\n",
              "      <th>playerid</th>\n",
              "      <th>nickname</th>\n",
              "      <th>country</th>\n",
              "      <th>achievementid</th>\n",
              "      <th>date_acquired</th>\n",
              "      <th>gameid</th>\n",
              "      <th>title</th>\n",
              "      <th>description</th>\n",
              "      <th>rarity</th>\n",
              "      <th>library</th>\n",
              "    </tr>\n",
              "  </thead>\n",
              "  <tbody>\n",
              "    <tr>\n",
              "      <th>18190103</th>\n",
              "      <td>1788328</td>\n",
              "      <td>lilrump62</td>\n",
              "      <td>Russian Federation</td>\n",
              "      <td>459211_4120315</td>\n",
              "      <td>2021-10-02 15:13:03</td>\n",
              "      <td>459211.0</td>\n",
              "      <td>First Goal</td>\n",
              "      <td>Scored a goal</td>\n",
              "      <td>Bronze</td>\n",
              "      <td>[487113, 8600, 487330, 457373, 429477, 7491, 4...</td>\n",
              "    </tr>\n",
              "    <tr>\n",
              "      <th>19708369</th>\n",
              "      <td>1236100</td>\n",
              "      <td>MarcselloHUN</td>\n",
              "      <td>Hungary</td>\n",
              "      <td>9459_112249</td>\n",
              "      <td>2020-10-04 17:56:00</td>\n",
              "      <td>9459.0</td>\n",
              "      <td>Turbocharger</td>\n",
              "      <td>Use your Rocket Boost for a total of 5 minutes</td>\n",
              "      <td>Silver</td>\n",
              "      <td>[407954, 400289, 333860, 404720, 408903, 20777...</td>\n",
              "    </tr>\n",
              "    <tr>\n",
              "      <th>7071700</th>\n",
              "      <td>356372</td>\n",
              "      <td>aqwertuik</td>\n",
              "      <td>Portugal</td>\n",
              "      <td>5390_66913</td>\n",
              "      <td>2014-04-18 02:47:53</td>\n",
              "      <td>5390.0</td>\n",
              "      <td>Kings of Latin America</td>\n",
              "      <td>Awarded for becoming a Copa Libertadores Winne...</td>\n",
              "      <td>Silver</td>\n",
              "      <td>[743205, 550824, 708940, 675151, 656455, 41790...</td>\n",
              "    </tr>\n",
              "    <tr>\n",
              "      <th>6909735</th>\n",
              "      <td>1158027</td>\n",
              "      <td>srxw</td>\n",
              "      <td>Japan</td>\n",
              "      <td>462183_4156304</td>\n",
              "      <td>2021-11-07 17:44:08</td>\n",
              "      <td>462183.0</td>\n",
              "      <td>One Pilot Army</td>\n",
              "      <td>Have any one pilot destroy 10 enemy units in a...</td>\n",
              "      <td>Silver</td>\n",
              "      <td>[717169, 624236, 688109, 746104, 660584, 48428...</td>\n",
              "    </tr>\n",
              "    <tr>\n",
              "      <th>3583360</th>\n",
              "      <td>335827</td>\n",
              "      <td>Kagike</td>\n",
              "      <td>United States</td>\n",
              "      <td>442267_4004899</td>\n",
              "      <td>2021-06-11 16:36:14</td>\n",
              "      <td>442267.0</td>\n",
              "      <td>Echo Location</td>\n",
              "      <td>Discover 75 Force Echoes</td>\n",
              "      <td>Bronze</td>\n",
              "      <td>[624236, 688109, 721802, 508693, 645840, 70256...</td>\n",
              "    </tr>\n",
              "  </tbody>\n",
              "</table>\n",
              "</div>"
            ],
            "text/plain": [
              "          playerid      nickname             country   achievementid  \\\n",
              "18190103   1788328     lilrump62  Russian Federation  459211_4120315   \n",
              "19708369   1236100  MarcselloHUN             Hungary     9459_112249   \n",
              "7071700     356372     aqwertuik            Portugal      5390_66913   \n",
              "6909735    1158027          srxw               Japan  462183_4156304   \n",
              "3583360     335827        Kagike       United States  442267_4004899   \n",
              "\n",
              "                date_acquired    gameid                   title  \\\n",
              "18190103  2021-10-02 15:13:03  459211.0              First Goal   \n",
              "19708369  2020-10-04 17:56:00    9459.0            Turbocharger   \n",
              "7071700   2014-04-18 02:47:53    5390.0  Kings of Latin America   \n",
              "6909735   2021-11-07 17:44:08  462183.0          One Pilot Army   \n",
              "3583360   2021-06-11 16:36:14  442267.0           Echo Location   \n",
              "\n",
              "                                                description  rarity  \\\n",
              "18190103                                      Scored a goal  Bronze   \n",
              "19708369     Use your Rocket Boost for a total of 5 minutes  Silver   \n",
              "7071700   Awarded for becoming a Copa Libertadores Winne...  Silver   \n",
              "6909735   Have any one pilot destroy 10 enemy units in a...  Silver   \n",
              "3583360                            Discover 75 Force Echoes  Bronze   \n",
              "\n",
              "                                                    library  \n",
              "18190103  [487113, 8600, 487330, 457373, 429477, 7491, 4...  \n",
              "19708369  [407954, 400289, 333860, 404720, 408903, 20777...  \n",
              "7071700   [743205, 550824, 708940, 675151, 656455, 41790...  \n",
              "6909735   [717169, 624236, 688109, 746104, 660584, 48428...  \n",
              "3583360   [624236, 688109, 721802, 508693, 645840, 70256...  "
            ]
          },
          "execution_count": 367,
          "metadata": {},
          "output_type": "execute_result"
        }
      ],
      "source": [
        "ps_player_info.sample(5)"
      ]
    },
    {
      "cell_type": "markdown",
      "metadata": {},
      "source": [
        "### Game focus\n",
        "date_acquired column is dropped as it indicates the timestamp when the price info was extracted from multiple databases and do not add helpful insights to our analysis."
      ]
    },
    {
      "cell_type": "code",
      "execution_count": 368,
      "metadata": {},
      "outputs": [],
      "source": [
        "ps_game_info = ps_games.merge(ps_achievements.rename(columns={'title': 'achievement_title'}), on=\"gameid\", how=\"left\")"
      ]
    },
    {
      "cell_type": "code",
      "execution_count": 369,
      "metadata": {},
      "outputs": [],
      "source": [
        "ps_game_info = ps_game_info.merge(ps_prices, on=\"gameid\", how=\"left\")"
      ]
    },
    {
      "cell_type": "code",
      "execution_count": 370,
      "metadata": {},
      "outputs": [],
      "source": [
        "ps_game_info = ps_game_info.drop(columns=['date_acquired'])"
      ]
    },
    {
      "cell_type": "code",
      "execution_count": 371,
      "metadata": {},
      "outputs": [],
      "source": [
        "ps_game_info.rename(columns={'platform': 'PS_platform'}, inplace=True)"
      ]
    },
    {
      "cell_type": "code",
      "execution_count": 372,
      "metadata": {},
      "outputs": [],
      "source": [
        "ps_game_info.rename(columns={'description': 'achievement_description'}, inplace=True)"
      ]
    },
    {
      "cell_type": "code",
      "execution_count": 373,
      "metadata": {},
      "outputs": [
        {
          "name": "stdout",
          "output_type": "stream",
          "text": [
            "<class 'pandas.core.frame.DataFrame'>\n",
            "RangeIndex: 626958 entries, 0 to 626957\n",
            "Data columns (total 17 columns):\n",
            " #   Column                   Non-Null Count   Dtype  \n",
            "---  ------                   --------------   -----  \n",
            " 0   gameid                   626958 non-null  int64  \n",
            " 1   title                    626958 non-null  object \n",
            " 2   PS_platform              626958 non-null  object \n",
            " 3   developers               626416 non-null  object \n",
            " 4   publishers               626624 non-null  object \n",
            " 5   genres                   623044 non-null  object \n",
            " 6   supported_languages      319860 non-null  object \n",
            " 7   release_date             626958 non-null  object \n",
            " 8   achievementid            626958 non-null  object \n",
            " 9   achievement_title        626954 non-null  object \n",
            " 10  achievement_description  626942 non-null  object \n",
            " 11  rarity                   626958 non-null  object \n",
            " 12  usd                      535794 non-null  float64\n",
            " 13  eur                      508924 non-null  float64\n",
            " 14  gbp                      530459 non-null  float64\n",
            " 15  jpy                      258082 non-null  float64\n",
            " 16  rub                      125368 non-null  float64\n",
            "dtypes: float64(5), int64(1), object(11)\n",
            "memory usage: 81.3+ MB\n"
          ]
        }
      ],
      "source": [
        "ps_game_info.info()"
      ]
    },
    {
      "cell_type": "markdown",
      "metadata": {},
      "source": [
        "PS-only cols: rarity, PS_platform"
      ]
    },
    {
      "cell_type": "code",
      "execution_count": 374,
      "metadata": {},
      "outputs": [
        {
          "data": {
            "text/html": [
              "<div>\n",
              "<style scoped>\n",
              "    .dataframe tbody tr th:only-of-type {\n",
              "        vertical-align: middle;\n",
              "    }\n",
              "\n",
              "    .dataframe tbody tr th {\n",
              "        vertical-align: top;\n",
              "    }\n",
              "\n",
              "    .dataframe thead th {\n",
              "        text-align: right;\n",
              "    }\n",
              "</style>\n",
              "<table border=\"1\" class=\"dataframe\">\n",
              "  <thead>\n",
              "    <tr style=\"text-align: right;\">\n",
              "      <th></th>\n",
              "      <th>gameid</th>\n",
              "      <th>title</th>\n",
              "      <th>PS_platform</th>\n",
              "      <th>developers</th>\n",
              "      <th>publishers</th>\n",
              "      <th>genres</th>\n",
              "      <th>supported_languages</th>\n",
              "      <th>release_date</th>\n",
              "      <th>achievementid</th>\n",
              "      <th>achievement_title</th>\n",
              "      <th>achievement_description</th>\n",
              "      <th>rarity</th>\n",
              "      <th>usd</th>\n",
              "      <th>eur</th>\n",
              "      <th>gbp</th>\n",
              "      <th>jpy</th>\n",
              "      <th>rub</th>\n",
              "    </tr>\n",
              "  </thead>\n",
              "  <tbody>\n",
              "    <tr>\n",
              "      <th>138407</th>\n",
              "      <td>496008</td>\n",
              "      <td>Clay Skeet Shooting</td>\n",
              "      <td>PS4</td>\n",
              "      <td>['Pix Arts']</td>\n",
              "      <td>['Pix Arts']</td>\n",
              "      <td>['First Person Shooter']</td>\n",
              "      <td>NaN</td>\n",
              "      <td>2022-04-08</td>\n",
              "      <td>496008_4338504</td>\n",
              "      <td>Level 18 Passed</td>\n",
              "      <td>Succesfully Passed Level 18</td>\n",
              "      <td>Bronze</td>\n",
              "      <td>4.99</td>\n",
              "      <td>4.99</td>\n",
              "      <td>3.99</td>\n",
              "      <td>550.0</td>\n",
              "      <td>NaN</td>\n",
              "    </tr>\n",
              "    <tr>\n",
              "      <th>294235</th>\n",
              "      <td>10846</td>\n",
              "      <td>Handball 16</td>\n",
              "      <td>PS4</td>\n",
              "      <td>['Eko Software']</td>\n",
              "      <td>['Plug In Digital']</td>\n",
              "      <td>['sports']</td>\n",
              "      <td>['French', 'Spanish', 'German', 'Danish', 'Por...</td>\n",
              "      <td>2015-11-30</td>\n",
              "      <td>10846_123994</td>\n",
              "      <td>Fair play</td>\n",
              "      <td>Don't commit an offense foul during a team match.</td>\n",
              "      <td>Gold</td>\n",
              "      <td>39.99</td>\n",
              "      <td>9.99</td>\n",
              "      <td>34.99</td>\n",
              "      <td>NaN</td>\n",
              "      <td>NaN</td>\n",
              "    </tr>\n",
              "    <tr>\n",
              "      <th>154857</th>\n",
              "      <td>459219</td>\n",
              "      <td>eFootball</td>\n",
              "      <td>PS4</td>\n",
              "      <td>['Konami Digital Entertainment']</td>\n",
              "      <td>['Konami Digital Entertainment']</td>\n",
              "      <td>['Sports', 'Football']</td>\n",
              "      <td>['Japanese', 'French', 'Spanish', 'German', 'I...</td>\n",
              "      <td>2021-09-30</td>\n",
              "      <td>459219_4120352</td>\n",
              "      <td>Goalmouth Guardian</td>\n",
              "      <td>Saved a penalty kick (not in penalty shootouts)</td>\n",
              "      <td>Bronze</td>\n",
              "      <td>NaN</td>\n",
              "      <td>NaN</td>\n",
              "      <td>NaN</td>\n",
              "      <td>NaN</td>\n",
              "      <td>NaN</td>\n",
              "    </tr>\n",
              "    <tr>\n",
              "      <th>547457</th>\n",
              "      <td>430858</td>\n",
              "      <td>Star Renegades</td>\n",
              "      <td>PS4</td>\n",
              "      <td>['Massive Damage']</td>\n",
              "      <td>['Raw Fury']</td>\n",
              "      <td>['Roguelite', 'Role Playing', 'Turn Based']</td>\n",
              "      <td>NaN</td>\n",
              "      <td>2021-03-10</td>\n",
              "      <td>430858_3911382</td>\n",
              "      <td>Gangbuster</td>\n",
              "      <td>Destroyed 25 Syndicate Gangsters</td>\n",
              "      <td>Silver</td>\n",
              "      <td>24.49</td>\n",
              "      <td>24.99</td>\n",
              "      <td>19.99</td>\n",
              "      <td>NaN</td>\n",
              "      <td>NaN</td>\n",
              "    </tr>\n",
              "    <tr>\n",
              "      <th>313064</th>\n",
              "      <td>7088</td>\n",
              "      <td>Tales of Xillia 2</td>\n",
              "      <td>PS3</td>\n",
              "      <td>['Bandai Namco Studios']</td>\n",
              "      <td>['Bandai Namco Entertainment']</td>\n",
              "      <td>['Action-RPG', 'Role Playing']</td>\n",
              "      <td>['French', 'Spanish']</td>\n",
              "      <td>2014-08-19</td>\n",
              "      <td>7088_87000</td>\n",
              "      <td>Lord of Xillia 2</td>\n",
              "      <td>The mark of complete Xillia 2 mastery.\\nThanks...</td>\n",
              "      <td>Platinum</td>\n",
              "      <td>29.99</td>\n",
              "      <td>NaN</td>\n",
              "      <td>NaN</td>\n",
              "      <td>NaN</td>\n",
              "      <td>NaN</td>\n",
              "    </tr>\n",
              "  </tbody>\n",
              "</table>\n",
              "</div>"
            ],
            "text/plain": [
              "        gameid                title PS_platform  \\\n",
              "138407  496008  Clay Skeet Shooting         PS4   \n",
              "294235   10846          Handball 16         PS4   \n",
              "154857  459219            eFootball         PS4   \n",
              "547457  430858       Star Renegades         PS4   \n",
              "313064    7088    Tales of Xillia 2         PS3   \n",
              "\n",
              "                              developers                        publishers  \\\n",
              "138407                      ['Pix Arts']                      ['Pix Arts']   \n",
              "294235                  ['Eko Software']               ['Plug In Digital']   \n",
              "154857  ['Konami Digital Entertainment']  ['Konami Digital Entertainment']   \n",
              "547457                ['Massive Damage']                      ['Raw Fury']   \n",
              "313064          ['Bandai Namco Studios']    ['Bandai Namco Entertainment']   \n",
              "\n",
              "                                             genres  \\\n",
              "138407                     ['First Person Shooter']   \n",
              "294235                                   ['sports']   \n",
              "154857                       ['Sports', 'Football']   \n",
              "547457  ['Roguelite', 'Role Playing', 'Turn Based']   \n",
              "313064               ['Action-RPG', 'Role Playing']   \n",
              "\n",
              "                                      supported_languages release_date  \\\n",
              "138407                                                NaN   2022-04-08   \n",
              "294235  ['French', 'Spanish', 'German', 'Danish', 'Por...   2015-11-30   \n",
              "154857  ['Japanese', 'French', 'Spanish', 'German', 'I...   2021-09-30   \n",
              "547457                                                NaN   2021-03-10   \n",
              "313064                              ['French', 'Spanish']   2014-08-19   \n",
              "\n",
              "         achievementid   achievement_title  \\\n",
              "138407  496008_4338504     Level 18 Passed   \n",
              "294235    10846_123994           Fair play   \n",
              "154857  459219_4120352  Goalmouth Guardian   \n",
              "547457  430858_3911382          Gangbuster   \n",
              "313064      7088_87000    Lord of Xillia 2   \n",
              "\n",
              "                                  achievement_description    rarity    usd  \\\n",
              "138407                        Succesfully Passed Level 18    Bronze   4.99   \n",
              "294235  Don't commit an offense foul during a team match.      Gold  39.99   \n",
              "154857    Saved a penalty kick (not in penalty shootouts)    Bronze    NaN   \n",
              "547457                   Destroyed 25 Syndicate Gangsters    Silver  24.49   \n",
              "313064  The mark of complete Xillia 2 mastery.\\nThanks...  Platinum  29.99   \n",
              "\n",
              "          eur    gbp    jpy  rub  \n",
              "138407   4.99   3.99  550.0  NaN  \n",
              "294235   9.99  34.99    NaN  NaN  \n",
              "154857    NaN    NaN    NaN  NaN  \n",
              "547457  24.99  19.99    NaN  NaN  \n",
              "313064    NaN    NaN    NaN  NaN  "
            ]
          },
          "execution_count": 374,
          "metadata": {},
          "output_type": "execute_result"
        }
      ],
      "source": [
        "ps_game_info.sample(5)"
      ]
    },
    {
      "cell_type": "code",
      "execution_count": 375,
      "metadata": {},
      "outputs": [
        {
          "data": {
            "text/plain": [
              "achievementid\n",
              "749375_6098396    1\n",
              "650405_5312282    1\n",
              "650406_5312373    1\n",
              "650406_5312374    1\n",
              "650406_5312375    1\n",
              "                 ..\n",
              "336965_3248824    1\n",
              "336965_3248825    1\n",
              "336965_3248826    1\n",
              "336965_3248827    1\n",
              "7593_93460        1\n",
              "Name: count, Length: 626958, dtype: int64"
            ]
          },
          "execution_count": 375,
          "metadata": {},
          "output_type": "execute_result"
        }
      ],
      "source": [
        "ps_game_info['achievementid'].value_counts()"
      ]
    },
    {
      "cell_type": "markdown",
      "metadata": {},
      "source": [
        "## Steam"
      ]
    },
    {
      "cell_type": "code",
      "execution_count": 376,
      "metadata": {},
      "outputs": [
        {
          "name": "stdout",
          "output_type": "stream",
          "text": [
            "steam_purchased_games - shape: (102548, 2)\n",
            "steam_reviews - shape: (1204534, 8)\n",
            "steam_history - shape: (10693879, 3)\n",
            "steam_friends - shape: (424683, 2)\n",
            "steam_prices - shape: (4414273, 7)\n",
            "steam_players - shape: (424683, 3)\n",
            "steam_games - shape: (98248, 7)\n",
            "steam_private_steamids - shape: (227963, 1)\n",
            "steam_achievements - shape: (1939027, 4)\n"
          ]
        }
      ],
      "source": [
        "import os\n",
        "import pandas as pd\n",
        "\n",
        "STEAM_DATA_FOLDER = \"data/steam\"\n",
        "\n",
        "dfs = {}\n",
        "\n",
        "for root, dirs, files in os.walk(STEAM_DATA_FOLDER):\n",
        "    for file in files:\n",
        "        if file.endswith(\".csv\"):\n",
        "            file_path = os.path.join(root, file)\n",
        "            df_name = f\"{os.path.basename(root)}_{file.replace('.csv', '')}\".replace('.csv', '')  # Clean name\n",
        "            dfs[df_name] = pd.read_csv(file_path)\n",
        "\n",
        "for name, df in dfs.items():\n",
        "    print(f\"{name} - shape: {df.shape}\")\n"
      ]
    },
    {
      "cell_type": "code",
      "execution_count": 377,
      "metadata": {},
      "outputs": [
        {
          "name": "stdout",
          "output_type": "stream",
          "text": [
            "0\n",
            "4315808\n",
            "0\n",
            "0\n",
            "0\n"
          ]
        }
      ],
      "source": [
        "steam_achievements = dfs['steam_achievements']\n",
        "steam_games = dfs['steam_games']\n",
        "steam_history = dfs['steam_history']\n",
        "steam_players = dfs['steam_players']\n",
        "steam_prices = dfs['steam_prices']\n",
        "steam_purchased_games = dfs['steam_purchased_games']\n",
        "\n",
        "# check duplicates\n",
        "print(steam_games.duplicated(subset=[\"gameid\"]).sum())\n",
        "print(steam_prices.duplicated(subset=[\"gameid\"]).sum())\n",
        "print(steam_achievements.duplicated(subset=[\"achievementid\"]).sum())\n",
        "print(steam_players.duplicated(subset=[\"playerid\"]).sum())\n",
        "print(steam_purchased_games.duplicated(subset=[\"playerid\"]).sum())"
      ]
    },
    {
      "cell_type": "code",
      "execution_count": 378,
      "metadata": {},
      "outputs": [
        {
          "name": "stdout",
          "output_type": "stream",
          "text": [
            "0\n"
          ]
        }
      ],
      "source": [
        "# for each gameid, keep only the most recent price entry\n",
        "steam_prices = steam_prices.sort_values(\"date_acquired\").drop_duplicates(subset=[\"gameid\"], keep=\"last\")\n",
        "print(steam_prices.duplicated(subset=[\"gameid\"]).sum())"
      ]
    },
    {
      "cell_type": "markdown",
      "metadata": {},
      "source": [
        "### Player focus"
      ]
    },
    {
      "cell_type": "code",
      "execution_count": 379,
      "metadata": {},
      "outputs": [],
      "source": [
        "st_player_info = steam_players.merge(steam_history, on=\"playerid\", how=\"left\")"
      ]
    },
    {
      "cell_type": "code",
      "execution_count": 380,
      "metadata": {},
      "outputs": [],
      "source": [
        "st_player_info = st_player_info.merge(steam_achievements, on=\"achievementid\", how=\"left\")"
      ]
    },
    {
      "cell_type": "code",
      "execution_count": 381,
      "metadata": {},
      "outputs": [],
      "source": [
        "st_player_info = st_player_info.merge(steam_purchased_games, on=\"playerid\", how=\"left\")\n",
        "\n",
        "# # Save player-focused data\n",
        "# steam_player_info.to_csv('data/steam_players.csv', index=False)"
      ]
    },
    {
      "cell_type": "code",
      "execution_count": 382,
      "metadata": {},
      "outputs": [
        {
          "name": "stdout",
          "output_type": "stream",
          "text": [
            "<class 'pandas.core.frame.DataFrame'>\n",
            "RangeIndex: 11113724 entries, 0 to 11113723\n",
            "Data columns (total 9 columns):\n",
            " #   Column         Dtype  \n",
            "---  ------         -----  \n",
            " 0   playerid       int64  \n",
            " 1   country        object \n",
            " 2   created        object \n",
            " 3   achievementid  object \n",
            " 4   date_acquired  object \n",
            " 5   gameid         float64\n",
            " 6   title          object \n",
            " 7   description    object \n",
            " 8   library        object \n",
            "dtypes: float64(1), int64(1), object(7)\n",
            "memory usage: 763.1+ MB\n"
          ]
        }
      ],
      "source": [
        "st_player_info.info()"
      ]
    },
    {
      "cell_type": "code",
      "execution_count": 383,
      "metadata": {},
      "outputs": [
        {
          "data": {
            "text/plain": [
              "(11113724, 9)"
            ]
          },
          "execution_count": 383,
          "metadata": {},
          "output_type": "execute_result"
        }
      ],
      "source": [
        "st_player_info.shape"
      ]
    },
    {
      "cell_type": "code",
      "execution_count": 384,
      "metadata": {},
      "outputs": [
        {
          "data": {
            "text/html": [
              "<div>\n",
              "<style scoped>\n",
              "    .dataframe tbody tr th:only-of-type {\n",
              "        vertical-align: middle;\n",
              "    }\n",
              "\n",
              "    .dataframe tbody tr th {\n",
              "        vertical-align: top;\n",
              "    }\n",
              "\n",
              "    .dataframe thead th {\n",
              "        text-align: right;\n",
              "    }\n",
              "</style>\n",
              "<table border=\"1\" class=\"dataframe\">\n",
              "  <thead>\n",
              "    <tr style=\"text-align: right;\">\n",
              "      <th></th>\n",
              "      <th>playerid</th>\n",
              "      <th>country</th>\n",
              "      <th>created</th>\n",
              "      <th>achievementid</th>\n",
              "      <th>date_acquired</th>\n",
              "      <th>gameid</th>\n",
              "      <th>title</th>\n",
              "      <th>description</th>\n",
              "      <th>library</th>\n",
              "    </tr>\n",
              "  </thead>\n",
              "  <tbody>\n",
              "    <tr>\n",
              "      <th>0</th>\n",
              "      <td>76561198287452552</td>\n",
              "      <td>Brazil</td>\n",
              "      <td>2016-03-02 06:14:20</td>\n",
              "      <td>NaN</td>\n",
              "      <td>NaN</td>\n",
              "      <td>NaN</td>\n",
              "      <td>NaN</td>\n",
              "      <td>NaN</td>\n",
              "      <td>[10, 80, 100, 240, 2990, 6880, 6910, 6920, 698...</td>\n",
              "    </tr>\n",
              "    <tr>\n",
              "      <th>1</th>\n",
              "      <td>76561198040436563</td>\n",
              "      <td>Israel</td>\n",
              "      <td>2011-04-10 17:10:06</td>\n",
              "      <td>NaN</td>\n",
              "      <td>NaN</td>\n",
              "      <td>NaN</td>\n",
              "      <td>NaN</td>\n",
              "      <td>NaN</td>\n",
              "      <td>[10, 80, 100, 300, 20, 30, 40, 50, 60, 70, 130...</td>\n",
              "    </tr>\n",
              "    <tr>\n",
              "      <th>2</th>\n",
              "      <td>76561198049686270</td>\n",
              "      <td>NaN</td>\n",
              "      <td>2011-09-28 21:43:59</td>\n",
              "      <td>NaN</td>\n",
              "      <td>NaN</td>\n",
              "      <td>NaN</td>\n",
              "      <td>NaN</td>\n",
              "      <td>NaN</td>\n",
              "      <td>NaN</td>\n",
              "    </tr>\n",
              "    <tr>\n",
              "      <th>3</th>\n",
              "      <td>76561198155814250</td>\n",
              "      <td>Kazakhstan</td>\n",
              "      <td>2014-09-24 19:52:47</td>\n",
              "      <td>NaN</td>\n",
              "      <td>NaN</td>\n",
              "      <td>NaN</td>\n",
              "      <td>NaN</td>\n",
              "      <td>NaN</td>\n",
              "      <td>NaN</td>\n",
              "    </tr>\n",
              "    <tr>\n",
              "      <th>4</th>\n",
              "      <td>76561198119605821</td>\n",
              "      <td>NaN</td>\n",
              "      <td>2013-12-26 00:25:50</td>\n",
              "      <td>NaN</td>\n",
              "      <td>NaN</td>\n",
              "      <td>NaN</td>\n",
              "      <td>NaN</td>\n",
              "      <td>NaN</td>\n",
              "      <td>[47870, 108600, 550, 271590, 331470, 381210, 2...</td>\n",
              "    </tr>\n",
              "  </tbody>\n",
              "</table>\n",
              "</div>"
            ],
            "text/plain": [
              "            playerid     country              created achievementid  \\\n",
              "0  76561198287452552      Brazil  2016-03-02 06:14:20           NaN   \n",
              "1  76561198040436563      Israel  2011-04-10 17:10:06           NaN   \n",
              "2  76561198049686270         NaN  2011-09-28 21:43:59           NaN   \n",
              "3  76561198155814250  Kazakhstan  2014-09-24 19:52:47           NaN   \n",
              "4  76561198119605821         NaN  2013-12-26 00:25:50           NaN   \n",
              "\n",
              "  date_acquired  gameid title description  \\\n",
              "0           NaN     NaN   NaN         NaN   \n",
              "1           NaN     NaN   NaN         NaN   \n",
              "2           NaN     NaN   NaN         NaN   \n",
              "3           NaN     NaN   NaN         NaN   \n",
              "4           NaN     NaN   NaN         NaN   \n",
              "\n",
              "                                             library  \n",
              "0  [10, 80, 100, 240, 2990, 6880, 6910, 6920, 698...  \n",
              "1  [10, 80, 100, 300, 20, 30, 40, 50, 60, 70, 130...  \n",
              "2                                                NaN  \n",
              "3                                                NaN  \n",
              "4  [47870, 108600, 550, 271590, 331470, 381210, 2...  "
            ]
          },
          "execution_count": 384,
          "metadata": {},
          "output_type": "execute_result"
        }
      ],
      "source": [
        "st_player_info.head(5)"
      ]
    },
    {
      "cell_type": "markdown",
      "metadata": {},
      "source": [
        "### Game focus"
      ]
    },
    {
      "cell_type": "code",
      "execution_count": 385,
      "metadata": {},
      "outputs": [],
      "source": [
        "st_game_info = steam_games.merge(steam_achievements.rename(columns={'title': 'achievement_title'}), on=\"gameid\", how=\"left\")"
      ]
    },
    {
      "cell_type": "code",
      "execution_count": 386,
      "metadata": {},
      "outputs": [],
      "source": [
        "st_game_info = st_game_info.merge(steam_prices, on=\"gameid\", how=\"left\")"
      ]
    },
    {
      "cell_type": "code",
      "execution_count": 387,
      "metadata": {},
      "outputs": [],
      "source": [
        "st_game_info = st_game_info.drop(columns=['date_acquired'])"
      ]
    },
    {
      "cell_type": "code",
      "execution_count": 388,
      "metadata": {},
      "outputs": [],
      "source": [
        "st_game_info.rename(columns={'description': 'achievement_description'}, inplace=True)"
      ]
    },
    {
      "cell_type": "code",
      "execution_count": 389,
      "metadata": {},
      "outputs": [
        {
          "name": "stdout",
          "output_type": "stream",
          "text": [
            "<class 'pandas.core.frame.DataFrame'>\n",
            "RangeIndex: 1983659 entries, 0 to 1983658\n",
            "Data columns (total 15 columns):\n",
            " #   Column                   Dtype  \n",
            "---  ------                   -----  \n",
            " 0   gameid                   int64  \n",
            " 1   title                    object \n",
            " 2   developers               object \n",
            " 3   publishers               object \n",
            " 4   genres                   object \n",
            " 5   supported_languages      object \n",
            " 6   release_date             object \n",
            " 7   achievementid            object \n",
            " 8   achievement_title        object \n",
            " 9   achievement_description  object \n",
            " 10  usd                      float64\n",
            " 11  eur                      float64\n",
            " 12  gbp                      float64\n",
            " 13  jpy                      float64\n",
            " 14  rub                      float64\n",
            "dtypes: float64(5), int64(1), object(9)\n",
            "memory usage: 227.0+ MB\n"
          ]
        }
      ],
      "source": [
        "st_game_info.info()"
      ]
    },
    {
      "cell_type": "code",
      "execution_count": 390,
      "metadata": {},
      "outputs": [
        {
          "data": {
            "text/plain": [
              "(1983659, 15)"
            ]
          },
          "execution_count": 390,
          "metadata": {},
          "output_type": "execute_result"
        }
      ],
      "source": [
        "st_game_info.shape"
      ]
    },
    {
      "cell_type": "code",
      "execution_count": 391,
      "metadata": {},
      "outputs": [
        {
          "data": {
            "text/plain": [
              "achievementid\n",
              "3266470_ACHIEVEMENT_5_MINUTES    1\n",
              "2578790_Liquidator               1\n",
              "2578790_Space_Rebel              1\n",
              "2578790_Slugger                  1\n",
              "2578790_Sergeant                 1\n",
              "                                ..\n",
              "1098080_ACHIEVEMENT_9            1\n",
              "1098080_ACHIEVEMENT_8            1\n",
              "1098080_ACHIEVEMENT_7            1\n",
              "1098080_ACHIEVEMENT_6            1\n",
              "1499240_ROMANROCKS               1\n",
              "Name: count, Length: 1935882, dtype: int64"
            ]
          },
          "execution_count": 391,
          "metadata": {},
          "output_type": "execute_result"
        }
      ],
      "source": [
        "st_game_info['achievementid'].value_counts()"
      ]
    },
    {
      "cell_type": "markdown",
      "metadata": {},
      "source": [
        "## XBOX"
      ]
    },
    {
      "cell_type": "code",
      "execution_count": 392,
      "metadata": {},
      "outputs": [
        {
          "name": "stdout",
          "output_type": "stream",
          "text": [
            "xbox_purchased_games - shape: (46466, 2)\n",
            "xbox_history - shape: (15275900, 3)\n",
            "xbox_prices - shape: (22638, 7)\n",
            "xbox_players - shape: (274450, 2)\n",
            "xbox_games - shape: (10489, 7)\n",
            "xbox_achievements - shape: (351111, 5)\n"
          ]
        }
      ],
      "source": [
        "import os\n",
        "import pandas as pd\n",
        "\n",
        "XBOX_DATA_FOLDER = \"data/xbox\"\n",
        "\n",
        "dfs = {}\n",
        "\n",
        "for root, dirs, files in os.walk(XBOX_DATA_FOLDER):\n",
        "    for file in files:\n",
        "        if file.endswith(\".csv\"):\n",
        "            file_path = os.path.join(root, file)\n",
        "            df_name = f\"{os.path.basename(root)}_{file.replace('.csv', '')}\".replace('.csv', '')\n",
        "            dfs[df_name] = pd.read_csv(file_path)\n",
        "\n",
        "for name, df in dfs.items():\n",
        "    print(f\"{name} - shape: {df.shape}\")\n"
      ]
    },
    {
      "cell_type": "code",
      "execution_count": 393,
      "metadata": {},
      "outputs": [
        {
          "name": "stdout",
          "output_type": "stream",
          "text": [
            "0\n",
            "11319\n",
            "0\n",
            "0\n",
            "0\n"
          ]
        }
      ],
      "source": [
        "xbox_achievements = dfs['xbox_achievements']\n",
        "xbox_games = dfs['xbox_games']\n",
        "xbox_history = dfs['xbox_history']\n",
        "xbox_players = dfs['xbox_players']\n",
        "xbox_prices = dfs['xbox_prices']\n",
        "xbox_purchased_games = dfs['xbox_purchased_games']\n",
        "\n",
        "# check duplicates\n",
        "print(xbox_games.duplicated(subset=[\"gameid\"]).sum())\n",
        "print(xbox_prices.duplicated(subset=[\"gameid\"]).sum())\n",
        "print(xbox_achievements.duplicated(subset=[\"achievementid\"]).sum())\n",
        "print(xbox_players.duplicated(subset=[\"playerid\"]).sum())\n",
        "print(xbox_purchased_games.duplicated(subset=[\"playerid\"]).sum())"
      ]
    },
    {
      "cell_type": "code",
      "execution_count": 394,
      "metadata": {},
      "outputs": [
        {
          "name": "stdout",
          "output_type": "stream",
          "text": [
            "0\n"
          ]
        }
      ],
      "source": [
        "# for each gameid, keep only the most recent price entry\n",
        "xbox_prices = xbox_prices.sort_values(\"date_acquired\").drop_duplicates(subset=[\"gameid\"], keep=\"last\")\n",
        "print(xbox_prices.duplicated(subset=[\"gameid\"]).sum())"
      ]
    },
    {
      "cell_type": "markdown",
      "metadata": {},
      "source": [
        "### Player focus"
      ]
    },
    {
      "cell_type": "code",
      "execution_count": 395,
      "metadata": {},
      "outputs": [],
      "source": [
        "xb_player_info = xbox_players.merge(xbox_history, on=\"playerid\", how=\"left\")"
      ]
    },
    {
      "cell_type": "code",
      "execution_count": 396,
      "metadata": {},
      "outputs": [],
      "source": [
        "xb_player_info = xb_player_info.merge(xbox_achievements, on=\"achievementid\", how=\"left\")"
      ]
    },
    {
      "cell_type": "code",
      "execution_count": 397,
      "metadata": {},
      "outputs": [],
      "source": [
        "xb_player_info = xb_player_info.merge(xbox_purchased_games, on=\"playerid\", how=\"left\")"
      ]
    },
    {
      "cell_type": "code",
      "execution_count": 398,
      "metadata": {},
      "outputs": [
        {
          "name": "stdout",
          "output_type": "stream",
          "text": [
            "<class 'pandas.core.frame.DataFrame'>\n",
            "RangeIndex: 15545366 entries, 0 to 15545365\n",
            "Data columns (total 9 columns):\n",
            " #   Column         Dtype  \n",
            "---  ------         -----  \n",
            " 0   playerid       int64  \n",
            " 1   nickname       object \n",
            " 2   achievementid  object \n",
            " 3   date_acquired  object \n",
            " 4   gameid         float64\n",
            " 5   title          object \n",
            " 6   description    object \n",
            " 7   points         float64\n",
            " 8   library        object \n",
            "dtypes: float64(2), int64(1), object(6)\n",
            "memory usage: 1.0+ GB\n"
          ]
        }
      ],
      "source": [
        "xb_player_info.info()"
      ]
    },
    {
      "cell_type": "code",
      "execution_count": 399,
      "metadata": {},
      "outputs": [
        {
          "data": {
            "text/plain": [
              "(15545366, 9)"
            ]
          },
          "execution_count": 399,
          "metadata": {},
          "output_type": "execute_result"
        }
      ],
      "source": [
        "xb_player_info.shape"
      ]
    },
    {
      "cell_type": "markdown",
      "metadata": {},
      "source": [
        "### Game focus"
      ]
    },
    {
      "cell_type": "code",
      "execution_count": 400,
      "metadata": {},
      "outputs": [],
      "source": [
        "xb_game_info = xbox_games.merge(xbox_achievements.rename(columns={'title': 'achievement_title'}), on=\"gameid\", how=\"left\")"
      ]
    },
    {
      "cell_type": "code",
      "execution_count": 401,
      "metadata": {},
      "outputs": [],
      "source": [
        "xb_game_info = xb_game_info.merge(xbox_prices, on=\"gameid\", how=\"left\")"
      ]
    },
    {
      "cell_type": "code",
      "execution_count": 402,
      "metadata": {},
      "outputs": [],
      "source": [
        "xb_game_info = xb_game_info.drop(columns=['date_acquired', 'points'])"
      ]
    },
    {
      "cell_type": "code",
      "execution_count": 403,
      "metadata": {},
      "outputs": [],
      "source": [
        "xb_game_info.rename(columns={'description': 'achievement_description'}, inplace=True)"
      ]
    },
    {
      "cell_type": "code",
      "execution_count": 404,
      "metadata": {},
      "outputs": [
        {
          "name": "stdout",
          "output_type": "stream",
          "text": [
            "<class 'pandas.core.frame.DataFrame'>\n",
            "RangeIndex: 323038 entries, 0 to 323037\n",
            "Data columns (total 15 columns):\n",
            " #   Column                   Non-Null Count   Dtype  \n",
            "---  ------                   --------------   -----  \n",
            " 0   gameid                   323038 non-null  int64  \n",
            " 1   title                    323038 non-null  object \n",
            " 2   developers               304402 non-null  object \n",
            " 3   publishers               305059 non-null  object \n",
            " 4   genres                   304168 non-null  object \n",
            " 5   supported_languages      132805 non-null  object \n",
            " 6   release_date             323038 non-null  object \n",
            " 7   achievementid            323038 non-null  object \n",
            " 8   achievement_title        323037 non-null  object \n",
            " 9   achievement_description  322984 non-null  object \n",
            " 10  usd                      237247 non-null  float64\n",
            " 11  eur                      226837 non-null  float64\n",
            " 12  gbp                      234618 non-null  float64\n",
            " 13  jpy                      0 non-null       float64\n",
            " 14  rub                      210234 non-null  float64\n",
            "dtypes: float64(5), int64(1), object(9)\n",
            "memory usage: 37.0+ MB\n"
          ]
        }
      ],
      "source": [
        "xb_game_info.info()"
      ]
    },
    {
      "cell_type": "markdown",
      "metadata": {},
      "source": [
        "## Game Info Across Platforms"
      ]
    },
    {
      "cell_type": "code",
      "execution_count": 405,
      "metadata": {},
      "outputs": [
        {
          "data": {
            "text/plain": [
              "23151"
            ]
          },
          "execution_count": 405,
          "metadata": {},
          "output_type": "execute_result"
        }
      ],
      "source": [
        "len(ps_game_info['gameid'].unique())"
      ]
    },
    {
      "cell_type": "code",
      "execution_count": 406,
      "metadata": {},
      "outputs": [
        {
          "data": {
            "text/plain": [
              "98248"
            ]
          },
          "execution_count": 406,
          "metadata": {},
          "output_type": "execute_result"
        }
      ],
      "source": [
        "len(st_game_info['gameid'].unique())"
      ]
    },
    {
      "cell_type": "code",
      "execution_count": 407,
      "metadata": {},
      "outputs": [
        {
          "data": {
            "text/plain": [
              "10489"
            ]
          },
          "execution_count": 407,
          "metadata": {},
          "output_type": "execute_result"
        }
      ],
      "source": [
        "len(xb_game_info['gameid'].unique())"
      ]
    },
    {
      "cell_type": "code",
      "execution_count": 408,
      "metadata": {},
      "outputs": [
        {
          "name": "stdout",
          "output_type": "stream",
          "text": [
            "Shared titles between PS & ST: 5571\n",
            "Shared titles between PS & XB: 5360\n",
            "Shared titles between ST & XB: 5540\n",
            "Shared across all three: 3815\n"
          ]
        }
      ],
      "source": [
        "ps_titles = set(ps_game_info['title'].str.lower().str.strip())\n",
        "st_titles = set(st_game_info['title'].str.lower().str.strip())\n",
        "xb_titles = set(xb_game_info['title'].str.lower().str.strip())\n",
        "\n",
        "shared_ps_st = ps_titles.intersection(st_titles)\n",
        "shared_ps_xb = ps_titles.intersection(xb_titles)\n",
        "shared_st_xb = st_titles.intersection(xb_titles)\n",
        "shared_all = ps_titles.intersection(st_titles, xb_titles)\n",
        "\n",
        "print(f\"Shared titles between PS & ST: {len(shared_ps_st)}\")\n",
        "print(f\"Shared titles between PS & XB: {len(shared_ps_xb)}\")\n",
        "print(f\"Shared titles between ST & XB: {len(shared_st_xb)}\")\n",
        "print(f\"Shared across all three: {len(shared_all)}\")\n"
      ]
    },
    {
      "cell_type": "code",
      "execution_count": 409,
      "metadata": {},
      "outputs": [],
      "source": [
        "def clean_game_info(df, platform):\n",
        "    df = df.copy()\n",
        "    \n",
        "    # drop platform-specific columns (ps_game_info's 'rarity' and 'PS_platform')\n",
        "    drop_cols = ['date_acquired', 'rarity', 'PS_platform']\n",
        "    df = df.drop(columns=[col for col in drop_cols if col in df.columns], errors='ignore')\n",
        "\n",
        "    # add platform column\n",
        "    df['platform'] = platform\n",
        "    \n",
        "    return df"
      ]
    },
    {
      "cell_type": "code",
      "execution_count": 410,
      "metadata": {},
      "outputs": [],
      "source": [
        "ps_game_info_clean = clean_game_info(ps_game_info, 'ps')"
      ]
    },
    {
      "cell_type": "code",
      "execution_count": 411,
      "metadata": {},
      "outputs": [
        {
          "data": {
            "text/plain": [
              "Index(['gameid', 'title', 'developers', 'publishers', 'genres',\n",
              "       'supported_languages', 'release_date', 'achievementid',\n",
              "       'achievement_title', 'achievement_description', 'usd', 'eur', 'gbp',\n",
              "       'jpy', 'rub', 'platform'],\n",
              "      dtype='object')"
            ]
          },
          "execution_count": 411,
          "metadata": {},
          "output_type": "execute_result"
        }
      ],
      "source": [
        "ps_game_info_clean.columns"
      ]
    },
    {
      "cell_type": "code",
      "execution_count": 412,
      "metadata": {},
      "outputs": [],
      "source": [
        "st_game_info_clean = clean_game_info(st_game_info, 'st')"
      ]
    },
    {
      "cell_type": "code",
      "execution_count": 413,
      "metadata": {},
      "outputs": [
        {
          "data": {
            "text/plain": [
              "Index(['gameid', 'title', 'developers', 'publishers', 'genres',\n",
              "       'supported_languages', 'release_date', 'achievementid',\n",
              "       'achievement_title', 'achievement_description', 'usd', 'eur', 'gbp',\n",
              "       'jpy', 'rub', 'platform'],\n",
              "      dtype='object')"
            ]
          },
          "execution_count": 413,
          "metadata": {},
          "output_type": "execute_result"
        }
      ],
      "source": [
        "st_game_info_clean.columns"
      ]
    },
    {
      "cell_type": "code",
      "execution_count": 414,
      "metadata": {},
      "outputs": [],
      "source": [
        "xb_game_info_clean = clean_game_info(xb_game_info, 'xb')"
      ]
    },
    {
      "cell_type": "code",
      "execution_count": 415,
      "metadata": {},
      "outputs": [
        {
          "data": {
            "text/plain": [
              "Index(['gameid', 'title', 'developers', 'publishers', 'genres',\n",
              "       'supported_languages', 'release_date', 'achievementid',\n",
              "       'achievement_title', 'achievement_description', 'usd', 'eur', 'gbp',\n",
              "       'jpy', 'rub', 'platform'],\n",
              "      dtype='object')"
            ]
          },
          "execution_count": 415,
          "metadata": {},
          "output_type": "execute_result"
        }
      ],
      "source": [
        "xb_game_info_clean.columns"
      ]
    },
    {
      "cell_type": "code",
      "execution_count": 416,
      "metadata": {},
      "outputs": [
        {
          "name": "stdout",
          "output_type": "stream",
          "text": [
            "Merged dataset shape: (431985, 16)\n"
          ]
        }
      ],
      "source": [
        "shared_games = set(ps_game_info_clean['title']) & set(st_game_info_clean['title']) & set(xb_game_info_clean['title'])\n",
        "\n",
        "ps_game_info_clean = ps_game_info_clean[ps_game_info_clean['title'].isin(shared_games)]\n",
        "st_game_info_clean = st_game_info_clean[st_game_info_clean['title'].isin(shared_games)]\n",
        "xb_game_info_clean = xb_game_info_clean[xb_game_info_clean['title'].isin(shared_games)]\n",
        "\n",
        "merged_game_info = pd.concat([ps_game_info_clean, st_game_info_clean, xb_game_info_clean], ignore_index=True)\n",
        "\n",
        "print(f\"Merged dataset shape: {merged_game_info.shape}\")"
      ]
    },
    {
      "cell_type": "code",
      "execution_count": 417,
      "metadata": {},
      "outputs": [
        {
          "name": "stdout",
          "output_type": "stream",
          "text": [
            "<class 'pandas.core.frame.DataFrame'>\n",
            "RangeIndex: 431985 entries, 0 to 431984\n",
            "Data columns (total 16 columns):\n",
            " #   Column                   Non-Null Count   Dtype  \n",
            "---  ------                   --------------   -----  \n",
            " 0   gameid                   431985 non-null  int64  \n",
            " 1   title                    431985 non-null  object \n",
            " 2   developers               430744 non-null  object \n",
            " 3   publishers               430459 non-null  object \n",
            " 4   genres                   430507 non-null  object \n",
            " 5   supported_languages      274284 non-null  object \n",
            " 6   release_date             431985 non-null  object \n",
            " 7   achievementid            431807 non-null  object \n",
            " 8   achievement_title        431801 non-null  object \n",
            " 9   achievement_description  414137 non-null  object \n",
            " 10  usd                      398232 non-null  float64\n",
            " 11  eur                      386835 non-null  float64\n",
            " 12  gbp                      396497 non-null  float64\n",
            " 13  jpy                      186153 non-null  float64\n",
            " 14  rub                      224923 non-null  float64\n",
            " 15  platform                 431985 non-null  object \n",
            "dtypes: float64(5), int64(1), object(10)\n",
            "memory usage: 52.7+ MB\n"
          ]
        }
      ],
      "source": [
        "merged_game_info.info()"
      ]
    },
    {
      "cell_type": "code",
      "execution_count": 418,
      "metadata": {},
      "outputs": [
        {
          "data": {
            "text/plain": [
              "achievementid\n",
              "749591_6100112             1\n",
              "384010_PIECE_OF_CAKE       1\n",
              "384180_ACH_SHOP_A_HOLIC    1\n",
              "384180_ACH_BLACKJACK       1\n",
              "384180_ACH_BILLIONAIRE     1\n",
              "                          ..\n",
              "603576_4978957             1\n",
              "603576_4978956             1\n",
              "603576_4978955             1\n",
              "603576_4978954             1\n",
              "711118_5703719             1\n",
              "Name: count, Length: 431807, dtype: int64"
            ]
          },
          "execution_count": 418,
          "metadata": {},
          "output_type": "execute_result"
        }
      ],
      "source": [
        "merged_game_info['achievementid'].value_counts()"
      ]
    },
    {
      "cell_type": "code",
      "execution_count": 419,
      "metadata": {},
      "outputs": [
        {
          "data": {
            "text/plain": [
              "platform\n",
              "ps    205901\n",
              "st    114850\n",
              "xb    111234\n",
              "Name: count, dtype: int64"
            ]
          },
          "execution_count": 419,
          "metadata": {},
          "output_type": "execute_result"
        }
      ],
      "source": [
        "merged_game_info['platform'].value_counts()"
      ]
    },
    {
      "cell_type": "markdown",
      "metadata": {},
      "source": [
        "## Long and Tidy Form\n",
        "A tidy dataset follows the principles:\n",
        "1. Each column is a single variable.\n",
        "2. Each row is a single observation.\n",
        "3. Each cell contains a single value.\n",
        "\n",
        "#### Issues with the current merged_game_info:\n",
        "- **We decide to leave it unchanged as our analysis will base on it**: The platform column is categorical, meaning the same game can appear multiple times (once per platform). This makes it long format.\n",
        "- Price columns (usd, eur, etc.) are separate instead of melted into a single column, which makes the dataset wide instead of long, which is not tidy."
      ]
    },
    {
      "cell_type": "code",
      "execution_count": 420,
      "metadata": {},
      "outputs": [],
      "source": [
        "# convert price columns into a long format\n",
        "tidy_game_info = merged_game_info.melt(\n",
        "    id_vars=[\n",
        "        \"gameid\", \"title\", \"developers\", \"publishers\", \"genres\",\n",
        "        \"supported_languages\", \"release_date\", \"achievementid\",\n",
        "        \"achievement_title\", \"achievement_description\", \"platform\"\n",
        "    ],\n",
        "    value_vars=[\"usd\", \"eur\", \"gbp\", \"jpy\", \"rub\"],\n",
        "    var_name=\"currency\",\n",
        "    value_name=\"price\"\n",
        ")"
      ]
    },
    {
      "cell_type": "code",
      "execution_count": 421,
      "metadata": {},
      "outputs": [
        {
          "data": {
            "text/plain": [
              "(2159925, 13)"
            ]
          },
          "execution_count": 421,
          "metadata": {},
          "output_type": "execute_result"
        }
      ],
      "source": [
        "tidy_game_info.shape"
      ]
    },
    {
      "cell_type": "code",
      "execution_count": 422,
      "metadata": {},
      "outputs": [
        {
          "name": "stdout",
          "output_type": "stream",
          "text": [
            "<class 'pandas.core.frame.DataFrame'>\n",
            "RangeIndex: 2159925 entries, 0 to 2159924\n",
            "Data columns (total 13 columns):\n",
            " #   Column                   Dtype  \n",
            "---  ------                   -----  \n",
            " 0   gameid                   int64  \n",
            " 1   title                    object \n",
            " 2   developers               object \n",
            " 3   publishers               object \n",
            " 4   genres                   object \n",
            " 5   supported_languages      object \n",
            " 6   release_date             object \n",
            " 7   achievementid            object \n",
            " 8   achievement_title        object \n",
            " 9   achievement_description  object \n",
            " 10  platform                 object \n",
            " 11  currency                 object \n",
            " 12  price                    float64\n",
            "dtypes: float64(1), int64(1), object(11)\n",
            "memory usage: 214.2+ MB\n"
          ]
        }
      ],
      "source": [
        "tidy_game_info.info()"
      ]
    },
    {
      "cell_type": "code",
      "execution_count": 423,
      "metadata": {},
      "outputs": [
        {
          "data": {
            "text/html": [
              "<div>\n",
              "<style scoped>\n",
              "    .dataframe tbody tr th:only-of-type {\n",
              "        vertical-align: middle;\n",
              "    }\n",
              "\n",
              "    .dataframe tbody tr th {\n",
              "        vertical-align: top;\n",
              "    }\n",
              "\n",
              "    .dataframe thead th {\n",
              "        text-align: right;\n",
              "    }\n",
              "</style>\n",
              "<table border=\"1\" class=\"dataframe\">\n",
              "  <thead>\n",
              "    <tr style=\"text-align: right;\">\n",
              "      <th></th>\n",
              "      <th>gameid</th>\n",
              "      <th>title</th>\n",
              "      <th>developers</th>\n",
              "      <th>publishers</th>\n",
              "      <th>genres</th>\n",
              "      <th>supported_languages</th>\n",
              "      <th>release_date</th>\n",
              "      <th>achievementid</th>\n",
              "      <th>achievement_title</th>\n",
              "      <th>achievement_description</th>\n",
              "      <th>platform</th>\n",
              "      <th>currency</th>\n",
              "      <th>price</th>\n",
              "    </tr>\n",
              "  </thead>\n",
              "  <tbody>\n",
              "    <tr>\n",
              "      <th>1921054</th>\n",
              "      <td>333700</td>\n",
              "      <td>Harvest Moon: Mad Dash</td>\n",
              "      <td>['Appci Inc.']</td>\n",
              "      <td>['Natsume Inc.']</td>\n",
              "      <td>['Casual']</td>\n",
              "      <td>['French', 'Spanish', 'German', 'Italian', 'Po...</td>\n",
              "      <td>2019-10-29</td>\n",
              "      <td>333700_3215357</td>\n",
              "      <td>The Skyworld and Underworld!</td>\n",
              "      <td>Complete 80 Stages!</td>\n",
              "      <td>ps</td>\n",
              "      <td>rub</td>\n",
              "      <td>NaN</td>\n",
              "    </tr>\n",
              "    <tr>\n",
              "      <th>270454</th>\n",
              "      <td>1585180</td>\n",
              "      <td>Drova - Forsaken Kin</td>\n",
              "      <td>['Just2D']</td>\n",
              "      <td>['Deck13']</td>\n",
              "      <td>['Action', 'Adventure', 'Indie', 'RPG']</td>\n",
              "      <td>['English', 'German', 'French']</td>\n",
              "      <td>2024-10-15</td>\n",
              "      <td>1585180_d4427662fc55d2c4bbba3af213a71435</td>\n",
              "      <td>For the Community</td>\n",
              "      <td>Complete all tasks from the bulletin board.</td>\n",
              "      <td>st</td>\n",
              "      <td>usd</td>\n",
              "      <td>24.99</td>\n",
              "    </tr>\n",
              "    <tr>\n",
              "      <th>1269124</th>\n",
              "      <td>597804</td>\n",
              "      <td>Company of Heroes 3</td>\n",
              "      <td>['Relic Entertainment']</td>\n",
              "      <td>['Relic Entertainment', 'SEGA']</td>\n",
              "      <td>['Strategy', 'Real Time']</td>\n",
              "      <td>NaN</td>\n",
              "      <td>2023-06-06</td>\n",
              "      <td>597804_4940440</td>\n",
              "      <td>Anniehilator</td>\n",
              "      <td>Silence Anzio Annie</td>\n",
              "      <td>xb</td>\n",
              "      <td>gbp</td>\n",
              "      <td>54.99</td>\n",
              "    </tr>\n",
              "    <tr>\n",
              "      <th>649871</th>\n",
              "      <td>2633950</td>\n",
              "      <td>Rugrats: Adventures in Gameland</td>\n",
              "      <td>['The MIX Games', 'Wallride']</td>\n",
              "      <td>['The MIX Games']</td>\n",
              "      <td>['Action', 'Adventure', 'Indie']</td>\n",
              "      <td>['English']</td>\n",
              "      <td>2024-09-10</td>\n",
              "      <td>2633950_ACH_RUGRATS_13</td>\n",
              "      <td>The Land Without Smiles</td>\n",
              "      <td>Defeat Dummi Bears</td>\n",
              "      <td>st</td>\n",
              "      <td>eur</td>\n",
              "      <td>24.50</td>\n",
              "    </tr>\n",
              "    <tr>\n",
              "      <th>2104039</th>\n",
              "      <td>404925</td>\n",
              "      <td>Party Panic</td>\n",
              "      <td>['Everglow Interactive Inc.']</td>\n",
              "      <td>['Everglow Interactive Inc.']</td>\n",
              "      <td>['Indie']</td>\n",
              "      <td>NaN</td>\n",
              "      <td>2020-08-21</td>\n",
              "      <td>404925_3694679</td>\n",
              "      <td>Party Novice</td>\n",
              "      <td>Won 5 games.</td>\n",
              "      <td>xb</td>\n",
              "      <td>rub</td>\n",
              "      <td>1811.00</td>\n",
              "    </tr>\n",
              "  </tbody>\n",
              "</table>\n",
              "</div>"
            ],
            "text/plain": [
              "          gameid                            title  \\\n",
              "1921054   333700           Harvest Moon: Mad Dash   \n",
              "270454   1585180             Drova - Forsaken Kin   \n",
              "1269124   597804              Company of Heroes 3   \n",
              "649871   2633950  Rugrats: Adventures in Gameland   \n",
              "2104039   404925                      Party Panic   \n",
              "\n",
              "                            developers                       publishers  \\\n",
              "1921054                 ['Appci Inc.']                 ['Natsume Inc.']   \n",
              "270454                      ['Just2D']                       ['Deck13']   \n",
              "1269124        ['Relic Entertainment']  ['Relic Entertainment', 'SEGA']   \n",
              "649871   ['The MIX Games', 'Wallride']                ['The MIX Games']   \n",
              "2104039  ['Everglow Interactive Inc.']    ['Everglow Interactive Inc.']   \n",
              "\n",
              "                                          genres  \\\n",
              "1921054                               ['Casual']   \n",
              "270454   ['Action', 'Adventure', 'Indie', 'RPG']   \n",
              "1269124                ['Strategy', 'Real Time']   \n",
              "649871          ['Action', 'Adventure', 'Indie']   \n",
              "2104039                                ['Indie']   \n",
              "\n",
              "                                       supported_languages release_date  \\\n",
              "1921054  ['French', 'Spanish', 'German', 'Italian', 'Po...   2019-10-29   \n",
              "270454                     ['English', 'German', 'French']   2024-10-15   \n",
              "1269124                                                NaN   2023-06-06   \n",
              "649871                                         ['English']   2024-09-10   \n",
              "2104039                                                NaN   2020-08-21   \n",
              "\n",
              "                                    achievementid  \\\n",
              "1921054                            333700_3215357   \n",
              "270454   1585180_d4427662fc55d2c4bbba3af213a71435   \n",
              "1269124                            597804_4940440   \n",
              "649871                     2633950_ACH_RUGRATS_13   \n",
              "2104039                            404925_3694679   \n",
              "\n",
              "                    achievement_title  \\\n",
              "1921054  The Skyworld and Underworld!   \n",
              "270454              For the Community   \n",
              "1269124                  Anniehilator   \n",
              "649871        The Land Without Smiles   \n",
              "2104039                  Party Novice   \n",
              "\n",
              "                             achievement_description platform currency  \\\n",
              "1921054                          Complete 80 Stages!       ps      rub   \n",
              "270454   Complete all tasks from the bulletin board.       st      usd   \n",
              "1269124                          Silence Anzio Annie       xb      gbp   \n",
              "649871                            Defeat Dummi Bears       st      eur   \n",
              "2104039                                 Won 5 games.       xb      rub   \n",
              "\n",
              "           price  \n",
              "1921054      NaN  \n",
              "270454     24.99  \n",
              "1269124    54.99  \n",
              "649871     24.50  \n",
              "2104039  1811.00  "
            ]
          },
          "execution_count": 423,
          "metadata": {},
          "output_type": "execute_result"
        }
      ],
      "source": [
        "tidy_game_info.sample(5)"
      ]
    },
    {
      "cell_type": "code",
      "execution_count": 424,
      "metadata": {},
      "outputs": [
        {
          "data": {
            "text/plain": [
              "achievementid\n",
              "749591_6100112             5\n",
              "384010_PIECE_OF_CAKE       5\n",
              "384180_ACH_SHOP_A_HOLIC    5\n",
              "384180_ACH_BLACKJACK       5\n",
              "384180_ACH_BILLIONAIRE     5\n",
              "                          ..\n",
              "603576_4978957             5\n",
              "603576_4978956             5\n",
              "603576_4978955             5\n",
              "603576_4978954             5\n",
              "711118_5703719             5\n",
              "Name: count, Length: 431807, dtype: int64"
            ]
          },
          "execution_count": 424,
          "metadata": {},
          "output_type": "execute_result"
        }
      ],
      "source": [
        "tidy_game_info['achievementid'].value_counts()"
      ]
    },
    {
      "cell_type": "markdown",
      "metadata": {},
      "source": [
        "## Preprocessing"
      ]
    },
    {
      "cell_type": "markdown",
      "metadata": {},
      "source": [
        "### 1. Check for missing values"
      ]
    },
    {
      "cell_type": "code",
      "execution_count": 425,
      "metadata": {},
      "outputs": [
        {
          "data": {
            "text/html": [
              "<div>\n",
              "<style scoped>\n",
              "    .dataframe tbody tr th:only-of-type {\n",
              "        vertical-align: middle;\n",
              "    }\n",
              "\n",
              "    .dataframe tbody tr th {\n",
              "        vertical-align: top;\n",
              "    }\n",
              "\n",
              "    .dataframe thead th {\n",
              "        text-align: right;\n",
              "    }\n",
              "</style>\n",
              "<table border=\"1\" class=\"dataframe\">\n",
              "  <thead>\n",
              "    <tr style=\"text-align: right;\">\n",
              "      <th></th>\n",
              "      <th>col</th>\n",
              "      <th>num_missing</th>\n",
              "      <th>missing_pcnt</th>\n",
              "    </tr>\n",
              "  </thead>\n",
              "  <tbody>\n",
              "    <tr>\n",
              "      <th>0</th>\n",
              "      <td>gameid</td>\n",
              "      <td>0</td>\n",
              "      <td>0.00</td>\n",
              "    </tr>\n",
              "    <tr>\n",
              "      <th>1</th>\n",
              "      <td>title</td>\n",
              "      <td>0</td>\n",
              "      <td>0.00</td>\n",
              "    </tr>\n",
              "    <tr>\n",
              "      <th>2</th>\n",
              "      <td>developers</td>\n",
              "      <td>6205</td>\n",
              "      <td>1.44</td>\n",
              "    </tr>\n",
              "    <tr>\n",
              "      <th>3</th>\n",
              "      <td>publishers</td>\n",
              "      <td>7630</td>\n",
              "      <td>1.77</td>\n",
              "    </tr>\n",
              "    <tr>\n",
              "      <th>4</th>\n",
              "      <td>genres</td>\n",
              "      <td>7390</td>\n",
              "      <td>1.71</td>\n",
              "    </tr>\n",
              "    <tr>\n",
              "      <th>5</th>\n",
              "      <td>supported_languages</td>\n",
              "      <td>788505</td>\n",
              "      <td>182.53</td>\n",
              "    </tr>\n",
              "    <tr>\n",
              "      <th>6</th>\n",
              "      <td>release_date</td>\n",
              "      <td>0</td>\n",
              "      <td>0.00</td>\n",
              "    </tr>\n",
              "    <tr>\n",
              "      <th>7</th>\n",
              "      <td>achievementid</td>\n",
              "      <td>890</td>\n",
              "      <td>0.21</td>\n",
              "    </tr>\n",
              "    <tr>\n",
              "      <th>8</th>\n",
              "      <td>achievement_title</td>\n",
              "      <td>920</td>\n",
              "      <td>0.21</td>\n",
              "    </tr>\n",
              "    <tr>\n",
              "      <th>9</th>\n",
              "      <td>achievement_description</td>\n",
              "      <td>89240</td>\n",
              "      <td>20.66</td>\n",
              "    </tr>\n",
              "    <tr>\n",
              "      <th>10</th>\n",
              "      <td>platform</td>\n",
              "      <td>0</td>\n",
              "      <td>0.00</td>\n",
              "    </tr>\n",
              "    <tr>\n",
              "      <th>11</th>\n",
              "      <td>currency</td>\n",
              "      <td>0</td>\n",
              "      <td>0.00</td>\n",
              "    </tr>\n",
              "    <tr>\n",
              "      <th>12</th>\n",
              "      <td>price</td>\n",
              "      <td>567285</td>\n",
              "      <td>131.32</td>\n",
              "    </tr>\n",
              "  </tbody>\n",
              "</table>\n",
              "</div>"
            ],
            "text/plain": [
              "                        col  num_missing  missing_pcnt\n",
              "0                    gameid            0          0.00\n",
              "1                     title            0          0.00\n",
              "2                developers         6205          1.44\n",
              "3                publishers         7630          1.77\n",
              "4                    genres         7390          1.71\n",
              "5       supported_languages       788505        182.53\n",
              "6              release_date            0          0.00\n",
              "7             achievementid          890          0.21\n",
              "8         achievement_title          920          0.21\n",
              "9   achievement_description        89240         20.66\n",
              "10                 platform            0          0.00\n",
              "11                 currency            0          0.00\n",
              "12                    price       567285        131.32"
            ]
          },
          "execution_count": 425,
          "metadata": {},
          "output_type": "execute_result"
        }
      ],
      "source": [
        "# count missing values per column\n",
        "null_counts = tidy_game_info.isnull().sum().reset_index()\n",
        "null_counts.columns = [\"col\", \"num_missing\"]\n",
        "null_counts[\"missing_pcnt\"] = round((null_counts[\"num_missing\"] / len(merged_game_info)) * 100, 2)\n",
        "\n",
        "null_counts"
      ]
    },
    {
      "cell_type": "markdown",
      "metadata": {},
      "source": [
        "#### Here’s how we decide to handle missing values effectively [Used GPT-4o for tailoring to table format]:\n",
        "\n",
        "**Columns with Minor Missing Data (< 5%)**\n",
        "| Column | Missing % | Suggested Action |\n",
        "|---------|----------|-----------------|\n",
        "| **developers** | 0.27% | Fill with \"unknown\" to maintain consistency. |\n",
        "| **publishers** | 1.38% | Fill with \"unknown\" for completeness. |\n",
        "| **genres** | 0.43% | Fill with \"unknown\", since games without a genre classification are rare. |\n",
        "| **achievementid** | 0.69% | Likely an error or missing achievements, can be kept as NaN. |\n",
        "| **achievement_title** | 0.69% | Likely corresponds to missing achievementid, can be kept as NaN. |\n",
        "\n",
        "- **Action: Fill developers, publishers, and genres with \"unknown\", and leave missing achievements as NaN.**\n",
        "\n",
        "---\n",
        "\n",
        "**Columns with Moderate Missing Data (5% - 30%)**\n",
        "| Column | Missing % | Suggested Action |\n",
        "|---------|----------|-----------------|\n",
        "| **supported_languages** | 27.35% | Keep as NaN, since language availability is an actual missing feature. |\n",
        "\n",
        "- **Action: Keep supported_languages as NaN, since not all games support multiple languages. We don't want to introduce incorrect data.**\n",
        "\n",
        "---\n",
        "\n",
        "**Columns with High Missing Data (> 50%)**\n",
        "| Column | Missing % | Suggested Action |\n",
        "|---------|----------|-----------------|\n",
        "| **achievement_description** | 69.11% | Fill missing values with \"unknown\". |\n",
        "| **price** | 71.58% | Keep as NaN—missing prices could indicate unavailable data, regional limitations, or discontinued games. |\n",
        "\n",
        "**Action:**\n",
        "- **Fill achievement_description with \"No description available\"** to avoid empty fields.\n",
        "- **Keep price as NaN**, since forcing imputation could lead to inaccurate pricing."
      ]
    },
    {
      "cell_type": "code",
      "execution_count": 426,
      "metadata": {},
      "outputs": [
        {
          "name": "stderr",
          "output_type": "stream",
          "text": [
            "/var/folders/sd/5vy204s55_ggyjh65z1tlxg00000gn/T/ipykernel_43239/1875302043.py:2: FutureWarning: A value is trying to be set on a copy of a DataFrame or Series through chained assignment using an inplace method.\n",
            "The behavior will change in pandas 3.0. This inplace method will never work because the intermediate object on which we are setting values always behaves as a copy.\n",
            "\n",
            "For example, when doing 'df[col].method(value, inplace=True)', try using 'df.method({col: value}, inplace=True)' or df[col] = df[col].method(value) instead, to perform the operation inplace on the original object.\n",
            "\n",
            "\n",
            "  tidy_game_info[\"developers\"].fillna(\"unknown\", inplace=True)\n",
            "/var/folders/sd/5vy204s55_ggyjh65z1tlxg00000gn/T/ipykernel_43239/1875302043.py:3: FutureWarning: A value is trying to be set on a copy of a DataFrame or Series through chained assignment using an inplace method.\n",
            "The behavior will change in pandas 3.0. This inplace method will never work because the intermediate object on which we are setting values always behaves as a copy.\n",
            "\n",
            "For example, when doing 'df[col].method(value, inplace=True)', try using 'df.method({col: value}, inplace=True)' or df[col] = df[col].method(value) instead, to perform the operation inplace on the original object.\n",
            "\n",
            "\n",
            "  tidy_game_info[\"publishers\"].fillna(\"unknown\", inplace=True)\n",
            "/var/folders/sd/5vy204s55_ggyjh65z1tlxg00000gn/T/ipykernel_43239/1875302043.py:4: FutureWarning: A value is trying to be set on a copy of a DataFrame or Series through chained assignment using an inplace method.\n",
            "The behavior will change in pandas 3.0. This inplace method will never work because the intermediate object on which we are setting values always behaves as a copy.\n",
            "\n",
            "For example, when doing 'df[col].method(value, inplace=True)', try using 'df.method({col: value}, inplace=True)' or df[col] = df[col].method(value) instead, to perform the operation inplace on the original object.\n",
            "\n",
            "\n",
            "  tidy_game_info[\"genres\"].fillna(\"unknown\", inplace=True)\n",
            "/var/folders/sd/5vy204s55_ggyjh65z1tlxg00000gn/T/ipykernel_43239/1875302043.py:5: FutureWarning: A value is trying to be set on a copy of a DataFrame or Series through chained assignment using an inplace method.\n",
            "The behavior will change in pandas 3.0. This inplace method will never work because the intermediate object on which we are setting values always behaves as a copy.\n",
            "\n",
            "For example, when doing 'df[col].method(value, inplace=True)', try using 'df.method({col: value}, inplace=True)' or df[col] = df[col].method(value) instead, to perform the operation inplace on the original object.\n",
            "\n",
            "\n",
            "  tidy_game_info[\"achievement_description\"].fillna(\"unknown\", inplace=True)\n"
          ]
        }
      ],
      "source": [
        "# fill missing values for categorical text columns\n",
        "tidy_game_info[\"developers\"].fillna(\"unknown\", inplace=True)\n",
        "tidy_game_info[\"publishers\"].fillna(\"unknown\", inplace=True)\n",
        "tidy_game_info[\"genres\"].fillna(\"unknown\", inplace=True)\n",
        "tidy_game_info[\"achievement_description\"].fillna(\"unknown\", inplace=True)"
      ]
    },
    {
      "cell_type": "markdown",
      "metadata": {},
      "source": [
        "## 2. Multi-valued cols"
      ]
    },
    {
      "cell_type": "code",
      "execution_count": 427,
      "metadata": {},
      "outputs": [
        {
          "data": {
            "text/html": [
              "<div>\n",
              "<style scoped>\n",
              "    .dataframe tbody tr th:only-of-type {\n",
              "        vertical-align: middle;\n",
              "    }\n",
              "\n",
              "    .dataframe tbody tr th {\n",
              "        vertical-align: top;\n",
              "    }\n",
              "\n",
              "    .dataframe thead th {\n",
              "        text-align: right;\n",
              "    }\n",
              "</style>\n",
              "<table border=\"1\" class=\"dataframe\">\n",
              "  <thead>\n",
              "    <tr style=\"text-align: right;\">\n",
              "      <th></th>\n",
              "      <th>gameid</th>\n",
              "      <th>title</th>\n",
              "      <th>developers</th>\n",
              "      <th>publishers</th>\n",
              "      <th>genres</th>\n",
              "      <th>supported_languages</th>\n",
              "      <th>release_date</th>\n",
              "      <th>achievementid</th>\n",
              "      <th>achievement_title</th>\n",
              "      <th>achievement_description</th>\n",
              "      <th>platform</th>\n",
              "      <th>currency</th>\n",
              "      <th>price</th>\n",
              "    </tr>\n",
              "  </thead>\n",
              "  <tbody>\n",
              "    <tr>\n",
              "      <th>49237</th>\n",
              "      <td>463853</td>\n",
              "      <td>The Prince of Landis</td>\n",
              "      <td>['Lorestrome']</td>\n",
              "      <td>['Ratalaika Games']</td>\n",
              "      <td>['Adventure']</td>\n",
              "      <td>NaN</td>\n",
              "      <td>2021-11-05</td>\n",
              "      <td>463853_4174005</td>\n",
              "      <td>Dealing With a Big Thing</td>\n",
              "      <td>Get some advice about bullies.</td>\n",
              "      <td>ps</td>\n",
              "      <td>usd</td>\n",
              "      <td>7.99</td>\n",
              "    </tr>\n",
              "    <tr>\n",
              "      <th>391257</th>\n",
              "      <td>566645</td>\n",
              "      <td>Sissa's Path</td>\n",
              "      <td>['AFIL Games', 'eastasiasoft']</td>\n",
              "      <td>['eastasiasoft']</td>\n",
              "      <td>['Puzzle']</td>\n",
              "      <td>NaN</td>\n",
              "      <td>2023-01-25</td>\n",
              "      <td>566645_5263321</td>\n",
              "      <td>Level 37</td>\n",
              "      <td>Complete level 37.</td>\n",
              "      <td>xb</td>\n",
              "      <td>usd</td>\n",
              "      <td>4.99</td>\n",
              "    </tr>\n",
              "    <tr>\n",
              "      <th>932062</th>\n",
              "      <td>401759</td>\n",
              "      <td>Awesome Pea 2</td>\n",
              "      <td>['PigeonDev Games']</td>\n",
              "      <td>['PigeonDev Games']</td>\n",
              "      <td>['Indie']</td>\n",
              "      <td>NaN</td>\n",
              "      <td>2020-06-03</td>\n",
              "      <td>401759_3672774</td>\n",
              "      <td>STAGE 22 COMPLETED</td>\n",
              "      <td>Collect all the treasures on stage 22</td>\n",
              "      <td>ps</td>\n",
              "      <td>gbp</td>\n",
              "      <td>3.99</td>\n",
              "    </tr>\n",
              "    <tr>\n",
              "      <th>464172</th>\n",
              "      <td>557946</td>\n",
              "      <td>Astronite</td>\n",
              "      <td>['Dume Games Studio']</td>\n",
              "      <td>['JanduSoft', 'Funstock', 'eastasiasoft']</td>\n",
              "      <td>['Platformer']</td>\n",
              "      <td>NaN</td>\n",
              "      <td>2022-11-29</td>\n",
              "      <td>557946_4668647</td>\n",
              "      <td>Improving the improvable</td>\n",
              "      <td>Get your first upgrade</td>\n",
              "      <td>ps</td>\n",
              "      <td>eur</td>\n",
              "      <td>3.74</td>\n",
              "    </tr>\n",
              "    <tr>\n",
              "      <th>2093369</th>\n",
              "      <td>20583</td>\n",
              "      <td>Steven Universe: Save the Light</td>\n",
              "      <td>['Finite Reflection Studios']</td>\n",
              "      <td>['Cartoon Network Games']</td>\n",
              "      <td>['RPG']</td>\n",
              "      <td>['French', 'Spanish', 'German', 'Italian', 'Ru...</td>\n",
              "      <td>2017-11-03</td>\n",
              "      <td>20583_400929</td>\n",
              "      <td>Attack the Light</td>\n",
              "      <td>Defeat 100 Light Constructs</td>\n",
              "      <td>xb</td>\n",
              "      <td>rub</td>\n",
              "      <td>NaN</td>\n",
              "    </tr>\n",
              "  </tbody>\n",
              "</table>\n",
              "</div>"
            ],
            "text/plain": [
              "         gameid                            title  \\\n",
              "49237    463853             The Prince of Landis   \n",
              "391257   566645                     Sissa's Path   \n",
              "932062   401759                    Awesome Pea 2   \n",
              "464172   557946                        Astronite   \n",
              "2093369   20583  Steven Universe: Save the Light   \n",
              "\n",
              "                             developers  \\\n",
              "49237                    ['Lorestrome']   \n",
              "391257   ['AFIL Games', 'eastasiasoft']   \n",
              "932062              ['PigeonDev Games']   \n",
              "464172            ['Dume Games Studio']   \n",
              "2093369   ['Finite Reflection Studios']   \n",
              "\n",
              "                                        publishers          genres  \\\n",
              "49237                          ['Ratalaika Games']   ['Adventure']   \n",
              "391257                            ['eastasiasoft']      ['Puzzle']   \n",
              "932062                         ['PigeonDev Games']       ['Indie']   \n",
              "464172   ['JanduSoft', 'Funstock', 'eastasiasoft']  ['Platformer']   \n",
              "2093369                  ['Cartoon Network Games']         ['RPG']   \n",
              "\n",
              "                                       supported_languages release_date  \\\n",
              "49237                                                  NaN   2021-11-05   \n",
              "391257                                                 NaN   2023-01-25   \n",
              "932062                                                 NaN   2020-06-03   \n",
              "464172                                                 NaN   2022-11-29   \n",
              "2093369  ['French', 'Spanish', 'German', 'Italian', 'Ru...   2017-11-03   \n",
              "\n",
              "          achievementid         achievement_title  \\\n",
              "49237    463853_4174005  Dealing With a Big Thing   \n",
              "391257   566645_5263321                  Level 37   \n",
              "932062   401759_3672774        STAGE 22 COMPLETED   \n",
              "464172   557946_4668647  Improving the improvable   \n",
              "2093369    20583_400929          Attack the Light   \n",
              "\n",
              "                       achievement_description platform currency  price  \n",
              "49237           Get some advice about bullies.       ps      usd   7.99  \n",
              "391257                      Complete level 37.       xb      usd   4.99  \n",
              "932062   Collect all the treasures on stage 22       ps      gbp   3.99  \n",
              "464172                  Get your first upgrade       ps      eur   3.74  \n",
              "2093369            Defeat 100 Light Constructs       xb      rub    NaN  "
            ]
          },
          "execution_count": 427,
          "metadata": {},
          "output_type": "execute_result"
        }
      ],
      "source": [
        "tidy_game_info.sample(5)"
      ]
    },
    {
      "cell_type": "markdown",
      "metadata": {},
      "source": [
        "#### Handling Multi-Valued Columns in Our Dataset [Used GPT-4o for tailoring grammar]\n",
        "\n",
        "Our dataset contains multi-valued columns such as `developers`, `publishers`, `genres`, and `supported_languages`, which are stored as **list-like strings**. Instead of immediately expanding them into multiple rows (long format) or separate columns (one-hot encoding), we are **keeping them in their original format** for the following reasons:\n",
        "\n",
        "1. **Data Integrity & Storage Efficiency**  \n",
        "   - Expanding these fields would significantly increase row count, making storage and initial processing heavier.\n",
        "   - Keeping them as lists allows us to preserve all information within a single row per game.\n",
        "\n",
        "2. **Flexibility for Future Analysis**  \n",
        "   - At later stages, we may **apply one-hot encoding** to `genres` and `supported_languages` for categorical analysis.  \n",
        "   - Alternatively, we can derive **summary features** such as:\n",
        "     - **Number of genres per game**\n",
        "     - **Number of supported languages**\n",
        "     - **Unique count of developers/publishers**\n",
        "   - These derived features will allow for a more structured comparison across games.\n",
        "\n",
        "By postponing transformation, we maintain efficiency while keeping the option open for structured feature extraction when needed.\n"
      ]
    },
    {
      "cell_type": "code",
      "execution_count": 428,
      "metadata": {},
      "outputs": [],
      "source": [
        "# tidy_game_info_noids = tidy_game_info.drop(columns=['gameid', 'achievementid'], inplace=True)"
      ]
    },
    {
      "cell_type": "markdown",
      "metadata": {},
      "source": [
        "## More notes on further merging\n",
        "\n",
        "Our current **tidy dataset** focuses solely on game-related information. To enrich the analysis, we plan additional merges with player data to uncover insights about game popularity, completion rates, and player demographics.\n",
        "\n",
        "### Planned Merges & Insights\n",
        "1. **Game Popularity Analysis**  \n",
        "   - Merge with `purchased_games.csv` (for each platform) to **count the number of players who own each game**.\n",
        "   - This helps identify **best-selling games** and platform-specific purchase trends.\n",
        "\n",
        "2. **Game Completion Rates**  \n",
        "   - Merge with `history.csv` to **track when players earn end-game achievements**.\n",
        "   - Calculate the **average time to completion** and **percentage of players finishing a game**.\n",
        "   - Investigate if certain **genres have higher completion rates** (e.g., RPGs vs. casual games).\n",
        "  \n",
        "3. **Pricing & Sales Relationship:**  \n",
        "   - Merge `prices.csv` to analyze how **price fluctuations impact purchases**.\n",
        "  \n",
        "4. **Cross-Platform Player Behavior:**  \n",
        "   - Identify players who own **the same game across multiple platforms** to study cross-platform engagement.\n",
        "   - Merge with `players.csv` and **cluster by country** to analyze **regional gaming preferences**.\n"
      ]
    },
    {
      "cell_type": "markdown",
      "metadata": {
        "id": "OclGBxfoQVPc"
      },
      "source": [
        "## Data Visualization\n",
        "> Be sure to include interpretations of your visualizations -- what patterns or anomalies do you see?\n"
      ]
    },
    {
      "cell_type": "markdown",
      "metadata": {},
      "source": [
        "### Price Distribution of Shared Games Across Platforms\n",
        "\n",
        "Interpretation: \n",
        "- The majority of shared games are priced between 5 to 25 USD.\n",
        "- Games on Steam are generally priced the lowest, while Xbox games tend to be priced higher compared to the other two platforms."
      ]
    },
    {
      "cell_type": "code",
      "execution_count": 429,
      "metadata": {},
      "outputs": [
        {
          "data": {
            "image/png": "[encoded data removed]",
            "text/plain": [
              "<Figure size 1000x600 with 1 Axes>"
            ]
          },
          "metadata": {},
          "output_type": "display_data"
        }
      ],
      "source": [
        "### Boxplot visualizing the distribution of game prices (in USD) across platforms\n",
        "\n",
        "# Convert prices to USD\n",
        "exchange_rates = {\n",
        "    'eur': 1.08, \n",
        "    'gbp': 1.29, \n",
        "    'jpy': 0.0067,\n",
        "    'rub': 0.012, \n",
        "    'usd': 1.0\n",
        "}\n",
        "\n",
        "tidy_game_info['price_usd'] = tidy_game_info.apply(\n",
        "    lambda row: row['price'] * exchange_rates.get(row['currency'].lower(), 1.0), axis=1\n",
        ")\n",
        "\n",
        "# Visualize price distribution across platforms\n",
        "plt.figure(figsize=(10, 6))\n",
        "sns.boxplot(x='platform', y='price_usd', hue='platform', data=tidy_game_info, palette='Set2', legend=False)\n",
        "\n",
        "plt.title(\"Game Prices Across Platforms (in USD)\")\n",
        "plt.xlabel(\"Platform\")\n",
        "plt.ylabel(\"Price (USD)\")\n",
        "plt.tight_layout()\n",
        "plt.show()"
      ]
    },
    {
      "cell_type": "markdown",
      "metadata": {},
      "source": [
        "### Number of Achievements Distribution of Shared Games Across Platforms\n",
        "\n",
        "Interpretation:\n",
        "- The number of achievements per game typically stays below 50, with a few outliers over 1000.\n",
        "- PlayStation games generally feature more achievements than games on other platforms."
      ]
    },
    {
      "cell_type": "code",
      "execution_count": 451,
      "metadata": {},
      "outputs": [
        {
          "name": "stdout",
          "output_type": "stream",
          "text": [
            "count    10398.000000\n",
            "mean        41.527890\n",
            "std         61.519762\n",
            "min          0.000000\n",
            "25%         19.000000\n",
            "50%         31.000000\n",
            "75%         50.000000\n",
            "max       4820.000000\n",
            "Name: achievements_per_game, dtype: float64\n"
          ]
        },
        {
          "data": {
            "image/png": "[encoded data removed]",
            "text/plain": [
              "<Figure size 1000x600 with 1 Axes>"
            ]
          },
          "metadata": {},
          "output_type": "display_data"
        }
      ],
      "source": [
        "### Boxplot visualizing the distribution of the number of achievements per game across platform\n",
        "\n",
        "achievements_per_game = tidy_game_info.groupby([\"title\", \"platform\"])[\"achievementid\"].nunique().reset_index()\n",
        "achievements_per_game.rename(columns={\"achievementid\": \"achievements_per_game\"}, inplace=True)\n",
        "\n",
        "print(achievements_per_game['achievements_per_game'].describe())\n",
        "\n",
        "plt.figure(figsize=(10, 6))\n",
        "sns.boxplot(x='platform', y='achievements_per_game', hue='platform', data=achievements_per_game, palette='Set2', legend=False)\n",
        "\n",
        "plt.title(\"Number of Achievements per Game Across Platforms\")\n",
        "plt.xlabel(\"Platform\")\n",
        "plt.ylabel(\"Number of Achievements per Game\")\n",
        "plt.yscale('log')\n",
        "plt.tight_layout()\n",
        "plt.show()"
      ]
    },
    {
      "cell_type": "markdown",
      "metadata": {},
      "source": [
        "### Distribution of Top 10 Popular Genres of Shared Games Across Platforms\n",
        "\n",
        "## **[TODO]** Is RPG and RolePlaying the same? Xbox and PS have both genres, but Steam only has RPG games.\n",
        "\n",
        "Interpretation: \n",
        "- The Top 10 popular genreS of the shared games across platforms are Indie, Adventure, Action, Simulation, Strategy, RPG, Platformer, Role Playing, Casual, and Turn Based.\n",
        "- Steam games cover the majority of the top 10 popular genres, with the highest percentages in genres like Indie, Adventure, Action, and Simulation."
      ]
    },
    {
      "cell_type": "code",
      "execution_count": 454,
      "metadata": {},
      "outputs": [
        {
          "name": "stdout",
          "output_type": "stream",
          "text": [
            "platform            ps         st        xb\n",
            "genres                                     \n",
            "Indie         7.111988  21.286433  5.377374\n",
            "Adventure     7.651840  15.989195  9.944078\n",
            "Action        3.637378  21.155339  7.477222\n",
            "Simulation    3.650442   7.894061  4.251958\n",
            "Strategy      3.224986   6.535450  3.247911\n",
            "RPG           2.223313   7.982374  2.112042\n",
            "Platformer    7.419870   0.000000  4.897708\n",
            "Role Playing  5.524916   0.000000  5.092826\n",
            "Casual        0.308587   9.025932  0.375719\n",
            "Turn Based    4.603744   0.000000  4.152657\n"
          ]
        },
        {
          "data": {
            "text/plain": [
              "<Figure size 1200x800 with 0 Axes>"
            ]
          },
          "metadata": {},
          "output_type": "display_data"
        },
        {
          "data": {
            "image/png": "[encoded data removed]",
            "text/plain": [
              "<Figure size 1200x800 with 1 Axes>"
            ]
          },
          "metadata": {},
          "output_type": "display_data"
        }
      ],
      "source": [
        "### Stacked barplot visualizing the distribution of the top 10 genres across different platforms\n",
        "\n",
        "# Clean and explode genres into separate rows\n",
        "tidy_game_info['genres'] = tidy_game_info['genres'].apply(lambda x: x.strip(\"[]\").replace(\"'\", '').split(', ') if isinstance(x, str) else x)\n",
        "tidy_game_info = tidy_game_info.explode('genres')  \n",
        "\n",
        "# Normalize genre counts by the total number of games on each platform\n",
        "total_games_per_platform = tidy_game_info['platform'].value_counts()\n",
        "genre_counts_per_platform = tidy_game_info.groupby(['platform', 'genres']).size().reset_index(name='count')\n",
        "genre_counts_per_platform['percentage'] = genre_counts_per_platform.apply(\n",
        "    lambda row: row['count'] / total_games_per_platform[row['platform']] * 100, axis=1\n",
        ")\n",
        "\n",
        "# Select top 10 genres\n",
        "top_10_genres = genre_counts_per_platform.groupby('genres')['percentage'].sum().sort_values(ascending=False).head(10).index\n",
        "top_10_genre_data = genre_counts_per_platform[genre_counts_per_platform['genres'].isin(top_10_genres)]\n",
        "\n",
        "# Pivot the data to prepare for stacking by platform with genres on the x-axis\n",
        "top_10_genre_data_pivot = top_10_genre_data.pivot_table(\n",
        "    index='genres', columns='platform', values='percentage', aggfunc='sum', fill_value=0\n",
        ")\n",
        "top_10_genre_data_pivot = top_10_genre_data_pivot.loc[top_10_genres]\n",
        "print(top_10_genre_data_pivot)\n",
        "\n",
        "# Create a stacked bar plot\n",
        "plt.figure(figsize=(12, 8))\n",
        "top_10_genre_data_pivot.plot(kind='bar', stacked=True, colormap='Set2', figsize=(12, 8))\n",
        "\n",
        "plt.title('Top 10 Genre Distribution Across Platforms (Normalized by Total Games)')\n",
        "plt.xlabel('Genre')\n",
        "plt.ylabel('Percentage of Total Games')\n",
        "plt.xticks(rotation=45)\n",
        "plt.tight_layout()\n",
        "plt.show()"
      ]
    }
  ],
  "metadata": {
    "colab": {
      "provenance": []
    },
    "kernelspec": {
      "display_name": ".venv",
      "language": "python",
      "name": "python3"
    },
    "language_info": {
      "codemirror_mode": {
        "name": "ipython",
        "version": 3
      },
      "file_extension": ".py",
      "mimetype": "text/x-python",
      "name": "python",
      "nbconvert_exporter": "python",
      "pygments_lexer": "ipython3",
      "version": "3.11.9"
    }
  },
  "nbformat": 4,
  "nbformat_minor": 0
}
